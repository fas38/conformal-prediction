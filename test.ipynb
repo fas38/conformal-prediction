{
 "cells": [
  {
   "cell_type": "code",
   "execution_count": 1,
   "metadata": {},
   "outputs": [
    {
     "name": "stderr",
     "output_type": "stream",
     "text": [
      "c:\\Users\\fahim\\miniconda3\\envs\\torch\\lib\\site-packages\\pandas\\core\\arrays\\masked.py:60: UserWarning: Pandas requires version '1.3.6' or newer of 'bottleneck' (version '1.3.5' currently installed).\n",
      "  from pandas.core import (\n"
     ]
    }
   ],
   "source": [
    "import pandas as pd\n",
    "import matplotlib.pyplot as plt\n",
    "import plotly.express as px\n",
    "\n",
    "pd.set_option('display.max_rows', None)  # Show all rows\n",
    "pd.set_option('display.max_columns', None)  # Show all columns\n",
    "pd.set_option('display.max_colwidth', None)  # Show the full content of each cell\n",
    "pd.set_option('display.width', None)  # Auto-detect the display width\n",
    "\n"
   ]
  },
  {
   "cell_type": "code",
   "execution_count": 2,
   "metadata": {},
   "outputs": [
    {
     "name": "stdout",
     "output_type": "stream",
     "text": [
      "subject_id                     int64\n",
      "hadm_id                        int64\n",
      "admittime             datetime64[ns]\n",
      "dischtime             datetime64[ns]\n",
      "admission_type                object\n",
      "admission_location            object\n",
      "edregtime             datetime64[ns]\n",
      "edouttime             datetime64[ns]\n",
      "diagnosis                     object\n",
      "dtype: object\n",
      "(129, 9)\n"
     ]
    },
    {
     "data": {
      "text/html": [
       "<div>\n",
       "<style scoped>\n",
       "    .dataframe tbody tr th:only-of-type {\n",
       "        vertical-align: middle;\n",
       "    }\n",
       "\n",
       "    .dataframe tbody tr th {\n",
       "        vertical-align: top;\n",
       "    }\n",
       "\n",
       "    .dataframe thead th {\n",
       "        text-align: right;\n",
       "    }\n",
       "</style>\n",
       "<table border=\"1\" class=\"dataframe\">\n",
       "  <thead>\n",
       "    <tr style=\"text-align: right;\">\n",
       "      <th></th>\n",
       "      <th>subject_id</th>\n",
       "      <th>hadm_id</th>\n",
       "      <th>admittime</th>\n",
       "      <th>dischtime</th>\n",
       "      <th>admission_type</th>\n",
       "      <th>admission_location</th>\n",
       "      <th>edregtime</th>\n",
       "      <th>edouttime</th>\n",
       "      <th>diagnosis</th>\n",
       "    </tr>\n",
       "  </thead>\n",
       "  <tbody>\n",
       "    <tr>\n",
       "      <th>0</th>\n",
       "      <td>10006</td>\n",
       "      <td>142345</td>\n",
       "      <td>2164-10-23 21:09:00</td>\n",
       "      <td>2164-11-01 17:15:00</td>\n",
       "      <td>EMERGENCY</td>\n",
       "      <td>EMERGENCY ROOM ADMIT</td>\n",
       "      <td>2164-10-23 16:43:00</td>\n",
       "      <td>2164-10-23 23:00:00</td>\n",
       "      <td>SEPSIS</td>\n",
       "    </tr>\n",
       "    <tr>\n",
       "      <th>1</th>\n",
       "      <td>10011</td>\n",
       "      <td>105331</td>\n",
       "      <td>2126-08-14 22:32:00</td>\n",
       "      <td>2126-08-28 18:59:00</td>\n",
       "      <td>EMERGENCY</td>\n",
       "      <td>TRANSFER FROM HOSP/EXTRAM</td>\n",
       "      <td>NaT</td>\n",
       "      <td>NaT</td>\n",
       "      <td>HEPATITIS B</td>\n",
       "    </tr>\n",
       "    <tr>\n",
       "      <th>2</th>\n",
       "      <td>10013</td>\n",
       "      <td>165520</td>\n",
       "      <td>2125-10-04 23:36:00</td>\n",
       "      <td>2125-10-07 15:13:00</td>\n",
       "      <td>EMERGENCY</td>\n",
       "      <td>TRANSFER FROM HOSP/EXTRAM</td>\n",
       "      <td>NaT</td>\n",
       "      <td>NaT</td>\n",
       "      <td>SEPSIS</td>\n",
       "    </tr>\n",
       "    <tr>\n",
       "      <th>3</th>\n",
       "      <td>10017</td>\n",
       "      <td>199207</td>\n",
       "      <td>2149-05-26 17:19:00</td>\n",
       "      <td>2149-06-03 18:42:00</td>\n",
       "      <td>EMERGENCY</td>\n",
       "      <td>EMERGENCY ROOM ADMIT</td>\n",
       "      <td>2149-05-26 12:08:00</td>\n",
       "      <td>2149-05-26 19:45:00</td>\n",
       "      <td>HUMERAL FRACTURE</td>\n",
       "    </tr>\n",
       "    <tr>\n",
       "      <th>4</th>\n",
       "      <td>10019</td>\n",
       "      <td>177759</td>\n",
       "      <td>2163-05-14 20:43:00</td>\n",
       "      <td>2163-05-15 12:00:00</td>\n",
       "      <td>EMERGENCY</td>\n",
       "      <td>TRANSFER FROM HOSP/EXTRAM</td>\n",
       "      <td>NaT</td>\n",
       "      <td>NaT</td>\n",
       "      <td>ALCOHOLIC HEPATITIS</td>\n",
       "    </tr>\n",
       "  </tbody>\n",
       "</table>\n",
       "</div>"
      ],
      "text/plain": [
       "   subject_id  hadm_id           admittime           dischtime admission_type  \\\n",
       "0       10006   142345 2164-10-23 21:09:00 2164-11-01 17:15:00      EMERGENCY   \n",
       "1       10011   105331 2126-08-14 22:32:00 2126-08-28 18:59:00      EMERGENCY   \n",
       "2       10013   165520 2125-10-04 23:36:00 2125-10-07 15:13:00      EMERGENCY   \n",
       "3       10017   199207 2149-05-26 17:19:00 2149-06-03 18:42:00      EMERGENCY   \n",
       "4       10019   177759 2163-05-14 20:43:00 2163-05-15 12:00:00      EMERGENCY   \n",
       "\n",
       "          admission_location           edregtime           edouttime  \\\n",
       "0       EMERGENCY ROOM ADMIT 2164-10-23 16:43:00 2164-10-23 23:00:00   \n",
       "1  TRANSFER FROM HOSP/EXTRAM                 NaT                 NaT   \n",
       "2  TRANSFER FROM HOSP/EXTRAM                 NaT                 NaT   \n",
       "3       EMERGENCY ROOM ADMIT 2149-05-26 12:08:00 2149-05-26 19:45:00   \n",
       "4  TRANSFER FROM HOSP/EXTRAM                 NaT                 NaT   \n",
       "\n",
       "             diagnosis  \n",
       "0               SEPSIS  \n",
       "1          HEPATITIS B  \n",
       "2               SEPSIS  \n",
       "3     HUMERAL FRACTURE  \n",
       "4  ALCOHOLIC HEPATITIS  "
      ]
     },
     "metadata": {},
     "output_type": "display_data"
    }
   ],
   "source": [
    "# reading hospital admission data\n",
    "df = pd.read_csv('./dataset/mimic-iii-demo-1.4/ADMISSIONS.csv')\n",
    "df.drop(['row_id', 'deathtime', 'discharge_location', 'insurance', 'language', 'religion', 'marital_status', 'ethnicity', 'hospital_expire_flag', 'has_chartevents_data'], axis=1, inplace=True)\n",
    "\n",
    "# convert string to datetime\n",
    "df['admittime'] = pd.to_datetime(df['admittime'])\n",
    "df['dischtime'] = pd.to_datetime(df['dischtime'])\n",
    "df['edregtime'] = pd.to_datetime(df['edregtime'])\n",
    "df['edouttime'] = pd.to_datetime(df['edouttime'])\n",
    "\n",
    "# sort by subject_id, hadm_id and  admittime\n",
    "df = df.sort_values(by=['subject_id', 'hadm_id', 'admittime'])\n",
    "\n",
    "print(df.dtypes)\n",
    "print(df.shape)\n",
    "display(df.head(5))"
   ]
  },
  {
   "cell_type": "code",
   "execution_count": 3,
   "metadata": {},
   "outputs": [
    {
     "name": "stdout",
     "output_type": "stream",
     "text": [
      "subject_id                int64\n",
      "hadm_id                   int64\n",
      "icustay_id                int64\n",
      "eventtype                object\n",
      "curr_careunit            object\n",
      "curr_wardid             float64\n",
      "intime           datetime64[ns]\n",
      "outtime          datetime64[ns]\n",
      "los                     float64\n",
      "dtype: object\n",
      "(524, 9)\n"
     ]
    },
    {
     "data": {
      "text/html": [
       "<div>\n",
       "<style scoped>\n",
       "    .dataframe tbody tr th:only-of-type {\n",
       "        vertical-align: middle;\n",
       "    }\n",
       "\n",
       "    .dataframe tbody tr th {\n",
       "        vertical-align: top;\n",
       "    }\n",
       "\n",
       "    .dataframe thead th {\n",
       "        text-align: right;\n",
       "    }\n",
       "</style>\n",
       "<table border=\"1\" class=\"dataframe\">\n",
       "  <thead>\n",
       "    <tr style=\"text-align: right;\">\n",
       "      <th></th>\n",
       "      <th>subject_id</th>\n",
       "      <th>hadm_id</th>\n",
       "      <th>icustay_id</th>\n",
       "      <th>eventtype</th>\n",
       "      <th>curr_careunit</th>\n",
       "      <th>curr_wardid</th>\n",
       "      <th>intime</th>\n",
       "      <th>outtime</th>\n",
       "      <th>los</th>\n",
       "    </tr>\n",
       "  </thead>\n",
       "  <tbody>\n",
       "    <tr>\n",
       "      <th>0</th>\n",
       "      <td>10006</td>\n",
       "      <td>142345</td>\n",
       "      <td>206504</td>\n",
       "      <td>admit</td>\n",
       "      <td>MICU</td>\n",
       "      <td>52.0</td>\n",
       "      <td>2164-10-23 21:10:15</td>\n",
       "      <td>2164-10-25 12:21:07</td>\n",
       "      <td>39.18</td>\n",
       "    </tr>\n",
       "    <tr>\n",
       "      <th>1</th>\n",
       "      <td>10006</td>\n",
       "      <td>142345</td>\n",
       "      <td>0</td>\n",
       "      <td>transfer</td>\n",
       "      <td>NA</td>\n",
       "      <td>45.0</td>\n",
       "      <td>2164-10-25 12:21:07</td>\n",
       "      <td>2164-11-01 17:14:27</td>\n",
       "      <td>172.89</td>\n",
       "    </tr>\n",
       "    <tr>\n",
       "      <th>2</th>\n",
       "      <td>10006</td>\n",
       "      <td>142345</td>\n",
       "      <td>0</td>\n",
       "      <td>discharge</td>\n",
       "      <td>NA</td>\n",
       "      <td>0.0</td>\n",
       "      <td>2164-11-01 17:14:27</td>\n",
       "      <td>NaT</td>\n",
       "      <td>0.00</td>\n",
       "    </tr>\n",
       "  </tbody>\n",
       "</table>\n",
       "</div>"
      ],
      "text/plain": [
       "   subject_id  hadm_id  icustay_id  eventtype curr_careunit  curr_wardid  \\\n",
       "0       10006   142345      206504      admit          MICU         52.0   \n",
       "1       10006   142345           0   transfer            NA         45.0   \n",
       "2       10006   142345           0  discharge            NA          0.0   \n",
       "\n",
       "               intime             outtime     los  \n",
       "0 2164-10-23 21:10:15 2164-10-25 12:21:07   39.18  \n",
       "1 2164-10-25 12:21:07 2164-11-01 17:14:27  172.89  \n",
       "2 2164-11-01 17:14:27                 NaT    0.00  "
      ]
     },
     "metadata": {},
     "output_type": "display_data"
    }
   ],
   "source": [
    "# reading admitted patient transfers between care units data\n",
    "df2 = pd.read_csv('./dataset/mimic-iii-demo-1.4/TRANSFERS.csv')\n",
    "df2.drop(['row_id', 'dbsource', 'prev_careunit', 'prev_wardid'], axis=1, inplace=True)\n",
    "\n",
    "# convert string to datetime\n",
    "df2['intime'] = pd.to_datetime(df2['intime'])\n",
    "df2['outtime'] = pd.to_datetime(df2['outtime'])\n",
    "\n",
    "# convert float to int\n",
    "df2['icustay_id'] = df2['icustay_id'].fillna(0).astype('int64')\n",
    "df2['los'] = df2['los'].fillna(0)\n",
    "df2['curr_careunit'] = df2['curr_careunit'].fillna('NA')\n",
    "df2['curr_wardid'] = df2['curr_wardid'].fillna(0)\n",
    "\n",
    "# sort by subject_id, hadm_id and  intime\n",
    "df2 = df2.sort_values(by=['subject_id', 'hadm_id', 'intime'])\n",
    "\n",
    "print(df2.dtypes)\n",
    "print(df2.shape)\n",
    "display(df2.head(3))"
   ]
  },
  {
   "cell_type": "code",
   "execution_count": 5,
   "metadata": {},
   "outputs": [
    {
     "name": "stdout",
     "output_type": "stream",
     "text": [
      "subject_id                     int64\n",
      "hadm_id                        int64\n",
      "admittime             datetime64[ns]\n",
      "dischtime             datetime64[ns]\n",
      "admission_type                object\n",
      "admission_location            object\n",
      "edregtime             datetime64[ns]\n",
      "edouttime             datetime64[ns]\n",
      "diagnosis                     object\n",
      "icustay_id                     int64\n",
      "eventtype                     object\n",
      "curr_careunit                 object\n",
      "curr_wardid                  float64\n",
      "intime                datetime64[ns]\n",
      "outtime               datetime64[ns]\n",
      "los                          float64\n",
      "dtype: object\n",
      "(524, 16)\n",
      "total patient: 100\n"
     ]
    },
    {
     "data": {
      "text/html": [
       "<div>\n",
       "<style scoped>\n",
       "    .dataframe tbody tr th:only-of-type {\n",
       "        vertical-align: middle;\n",
       "    }\n",
       "\n",
       "    .dataframe tbody tr th {\n",
       "        vertical-align: top;\n",
       "    }\n",
       "\n",
       "    .dataframe thead th {\n",
       "        text-align: right;\n",
       "    }\n",
       "</style>\n",
       "<table border=\"1\" class=\"dataframe\">\n",
       "  <thead>\n",
       "    <tr style=\"text-align: right;\">\n",
       "      <th></th>\n",
       "      <th>subject_id</th>\n",
       "      <th>hadm_id</th>\n",
       "      <th>admittime</th>\n",
       "      <th>dischtime</th>\n",
       "      <th>admission_type</th>\n",
       "      <th>admission_location</th>\n",
       "      <th>edregtime</th>\n",
       "      <th>edouttime</th>\n",
       "      <th>diagnosis</th>\n",
       "      <th>icustay_id</th>\n",
       "      <th>eventtype</th>\n",
       "      <th>curr_careunit</th>\n",
       "      <th>curr_wardid</th>\n",
       "      <th>intime</th>\n",
       "      <th>outtime</th>\n",
       "      <th>los</th>\n",
       "    </tr>\n",
       "  </thead>\n",
       "  <tbody>\n",
       "    <tr>\n",
       "      <th>0</th>\n",
       "      <td>10006</td>\n",
       "      <td>142345</td>\n",
       "      <td>2164-10-23 21:09:00</td>\n",
       "      <td>2164-11-01 17:15:00</td>\n",
       "      <td>EMERGENCY</td>\n",
       "      <td>EMERGENCY ROOM ADMIT</td>\n",
       "      <td>2164-10-23 16:43:00</td>\n",
       "      <td>2164-10-23 23:00:00</td>\n",
       "      <td>SEPSIS</td>\n",
       "      <td>206504</td>\n",
       "      <td>admit</td>\n",
       "      <td>MICU</td>\n",
       "      <td>52.0</td>\n",
       "      <td>2164-10-23 21:10:15</td>\n",
       "      <td>2164-10-25 12:21:07</td>\n",
       "      <td>39.18</td>\n",
       "    </tr>\n",
       "    <tr>\n",
       "      <th>1</th>\n",
       "      <td>10006</td>\n",
       "      <td>142345</td>\n",
       "      <td>2164-10-23 21:09:00</td>\n",
       "      <td>2164-11-01 17:15:00</td>\n",
       "      <td>EMERGENCY</td>\n",
       "      <td>EMERGENCY ROOM ADMIT</td>\n",
       "      <td>2164-10-23 16:43:00</td>\n",
       "      <td>2164-10-23 23:00:00</td>\n",
       "      <td>SEPSIS</td>\n",
       "      <td>0</td>\n",
       "      <td>transfer</td>\n",
       "      <td>NA</td>\n",
       "      <td>45.0</td>\n",
       "      <td>2164-10-25 12:21:07</td>\n",
       "      <td>2164-11-01 17:14:27</td>\n",
       "      <td>172.89</td>\n",
       "    </tr>\n",
       "    <tr>\n",
       "      <th>2</th>\n",
       "      <td>10006</td>\n",
       "      <td>142345</td>\n",
       "      <td>2164-10-23 21:09:00</td>\n",
       "      <td>2164-11-01 17:15:00</td>\n",
       "      <td>EMERGENCY</td>\n",
       "      <td>EMERGENCY ROOM ADMIT</td>\n",
       "      <td>2164-10-23 16:43:00</td>\n",
       "      <td>2164-10-23 23:00:00</td>\n",
       "      <td>SEPSIS</td>\n",
       "      <td>0</td>\n",
       "      <td>discharge</td>\n",
       "      <td>NA</td>\n",
       "      <td>0.0</td>\n",
       "      <td>2164-11-01 17:14:27</td>\n",
       "      <td>NaT</td>\n",
       "      <td>0.00</td>\n",
       "    </tr>\n",
       "  </tbody>\n",
       "</table>\n",
       "</div>"
      ],
      "text/plain": [
       "   subject_id  hadm_id           admittime           dischtime admission_type  \\\n",
       "0       10006   142345 2164-10-23 21:09:00 2164-11-01 17:15:00      EMERGENCY   \n",
       "1       10006   142345 2164-10-23 21:09:00 2164-11-01 17:15:00      EMERGENCY   \n",
       "2       10006   142345 2164-10-23 21:09:00 2164-11-01 17:15:00      EMERGENCY   \n",
       "\n",
       "     admission_location           edregtime           edouttime diagnosis  \\\n",
       "0  EMERGENCY ROOM ADMIT 2164-10-23 16:43:00 2164-10-23 23:00:00    SEPSIS   \n",
       "1  EMERGENCY ROOM ADMIT 2164-10-23 16:43:00 2164-10-23 23:00:00    SEPSIS   \n",
       "2  EMERGENCY ROOM ADMIT 2164-10-23 16:43:00 2164-10-23 23:00:00    SEPSIS   \n",
       "\n",
       "   icustay_id  eventtype curr_careunit  curr_wardid              intime  \\\n",
       "0      206504      admit          MICU         52.0 2164-10-23 21:10:15   \n",
       "1           0   transfer            NA         45.0 2164-10-25 12:21:07   \n",
       "2           0  discharge            NA          0.0 2164-11-01 17:14:27   \n",
       "\n",
       "              outtime     los  \n",
       "0 2164-10-25 12:21:07   39.18  \n",
       "1 2164-11-01 17:14:27  172.89  \n",
       "2                 NaT    0.00  "
      ]
     },
     "metadata": {},
     "output_type": "display_data"
    }
   ],
   "source": [
    "# merge ADMISSIONS and TRANSFERS\n",
    "df_merge = pd.merge(df, df2, on=['subject_id', 'hadm_id'])\n",
    "print(df_merge.dtypes)\n",
    "print(df_merge.shape)\n",
    "print('total patient:', df_merge['subject_id'].nunique())\n",
    "display(df_merge.head(3))"
   ]
  },
  {
   "cell_type": "code",
   "execution_count": 6,
   "metadata": {},
   "outputs": [
    {
     "data": {
      "application/vnd.plotly.v1+json": {
       "config": {
        "plotlyServerURL": "https://plot.ly"
       },
       "data": [
        {
         "alignmentgroup": "True",
         "base": [
          "2107-01-16T11:33:00",
          "2107-01-16T11:33:00",
          "2107-03-21T21:16:00",
          "2107-03-21T21:16:00",
          "2107-03-21T21:16:00",
          "2107-03-21T21:16:00",
          "2107-03-21T21:16:00",
          "2107-05-12T18:00:00",
          "2107-05-12T18:00:00",
          "2107-05-12T18:00:00",
          "2107-01-29T04:00:00",
          "2107-01-29T04:00:00",
          "2107-01-29T04:00:00",
          "2107-01-29T04:00:00",
          "2107-01-04T11:59:00",
          "2107-01-04T11:59:00",
          "2107-01-04T11:59:00",
          "2105-05-29T18:18:00",
          "2105-05-29T18:18:00",
          "2105-05-29T18:18:00",
          "2105-05-29T18:18:00",
          "2105-05-29T18:18:00",
          "2102-08-29T07:15:00",
          "2102-08-29T07:15:00",
          "2102-08-29T07:15:00",
          "2102-08-29T07:15:00",
          "2102-08-29T07:15:00",
          "2102-08-29T07:15:00",
          "2102-08-29T07:15:00",
          "2102-08-29T07:15:00",
          "2102-08-29T07:15:00",
          "2106-08-30T15:43:00",
          "2106-08-30T15:43:00",
          "2104-10-24T09:44:00",
          "2104-10-24T09:44:00",
          "2104-10-24T09:44:00",
          "2104-09-24T17:31:00",
          "2104-09-24T17:31:00",
          "2104-09-24T17:31:00"
         ],
         "hovertemplate": "Activity=Hospital Stay<br>Start=%{base}<br>End=%{x}<br>Patient ID=%{y}<extra></extra>",
         "legendgroup": "Hospital Stay",
         "marker": {
          "color": "#636efa",
          "pattern": {
           "shape": ""
          }
         },
         "name": "Hospital Stay",
         "offsetgroup": "Hospital Stay",
         "orientation": "h",
         "showlegend": true,
         "textposition": "auto",
         "type": "bar",
         "x": [
          2159820000,
          2159820000,
          744240000,
          744240000,
          744240000,
          744240000,
          744240000,
          502200000,
          502200000,
          502200000,
          1065600000,
          1065600000,
          1065600000,
          1065600000,
          618360000,
          618360000,
          618360000,
          1065720000,
          1065720000,
          1065720000,
          1065720000,
          1065720000,
          723900000,
          723900000,
          723900000,
          723900000,
          723900000,
          723900000,
          723900000,
          723900000,
          723900000,
          84720000,
          84720000,
          699300000,
          699300000,
          699300000,
          513960000,
          513960000,
          513960000
         ],
         "xaxis": "x",
         "y": [
          "10061",
          "10061",
          "10076",
          "10076",
          "10076",
          "10076",
          "10076",
          "10088",
          "10088",
          "10088",
          "10088",
          "10088",
          "10088",
          "10088",
          "10088",
          "10088",
          "10088",
          "10102",
          "10102",
          "10102",
          "10102",
          "10102",
          "42231",
          "42231",
          "42231",
          "42231",
          "42231",
          "42231",
          "42231",
          "42231",
          "42231",
          "43879",
          "43879",
          "43881",
          "43881",
          "43881",
          "43881",
          "43881",
          "43881"
         ],
         "yaxis": "y"
        },
        {
         "alignmentgroup": "True",
         "base": [
          "2107-01-16T11:34:20",
          "2107-02-10T11:29:46",
          "2107-03-21T21:17:05",
          "2107-03-21T22:03:27",
          "2107-03-22T11:47:25",
          "2107-03-24T04:06:14",
          "2107-03-31T06:55:09",
          "2107-05-12T18:00:52",
          "2107-05-14T18:13:58",
          "2107-05-18T13:29:09",
          "2107-01-29T04:02:15",
          "2107-01-30T18:58:45",
          "2107-02-08T22:11:39",
          "2107-02-10T15:22:59",
          "2107-01-05T00:03:45",
          "2107-01-08T16:35:13",
          "2107-01-11T14:45:08",
          "2105-05-29T18:19:52",
          "2105-05-30T14:18:36",
          "2105-06-08T15:53:56",
          "2105-06-08T20:06:06",
          "2105-06-11T06:57:03",
          "2102-08-29T03:15:39",
          "2102-08-29T20:59:34",
          "2102-08-29T23:35:14",
          "2102-08-31T17:04:12",
          "2102-09-01T20:19:42",
          "2102-09-01T20:47:18",
          "2102-09-03T15:13:56",
          "2102-09-03T17:24:26",
          "2102-09-06T16:17:07",
          "2106-08-30T15:45:06",
          "2106-08-31T15:12:44",
          "2104-10-24T09:46:21",
          "2104-10-25T16:24:06",
          "2104-10-28T15:06:13",
          "2104-09-24T17:31:48",
          "2104-09-26T15:44:04",
          "2104-09-30T16:18:08"
         ],
         "hovertemplate": "Activity=ICU Stay<br>Start=%{base}<br>End=%{x}<br>Patient ID=%{y}<extra></extra>",
         "legendgroup": "ICU Stay",
         "marker": {
          "color": "#EF553B",
          "pattern": {
           "shape": ""
          }
         },
         "name": "ICU Stay",
         "offsetgroup": "ICU Stay",
         "orientation": "h",
         "showlegend": true,
         "textposition": "auto",
         "type": "bar",
         "x": [
          2159726000,
          null,
          2782000,
          49438000,
          145129000,
          614935000,
          null,
          173586000,
          328511000,
          null,
          140190000,
          789174000,
          148280000,
          null,
          318688000,
          252595000,
          null,
          71924000,
          783320000,
          15130000,
          211857000,
          null,
          63835000,
          9340000,
          149338000,
          98130000,
          1656000,
          152798000,
          7830000,
          255161000,
          null,
          84458000,
          null,
          110265000,
          254527000,
          null,
          166336000,
          347644000,
          null
         ],
         "xaxis": "x",
         "y": [
          "10061",
          "10061",
          "10076",
          "10076",
          "10076",
          "10076",
          "10076",
          "10088",
          "10088",
          "10088",
          "10088",
          "10088",
          "10088",
          "10088",
          "10088",
          "10088",
          "10088",
          "10102",
          "10102",
          "10102",
          "10102",
          "10102",
          "42231",
          "42231",
          "42231",
          "42231",
          "42231",
          "42231",
          "42231",
          "42231",
          "42231",
          "43879",
          "43879",
          "43881",
          "43881",
          "43881",
          "43881",
          "43881",
          "43881"
         ],
         "yaxis": "y"
        }
       ],
       "layout": {
        "autosize": true,
        "barmode": "overlay",
        "legend": {
         "title": {
          "text": "Activity"
         },
         "tracegroupgap": 0
        },
        "template": {
         "data": {
          "bar": [
           {
            "error_x": {
             "color": "#2a3f5f"
            },
            "error_y": {
             "color": "#2a3f5f"
            },
            "marker": {
             "line": {
              "color": "#E5ECF6",
              "width": 0.5
             },
             "pattern": {
              "fillmode": "overlay",
              "size": 10,
              "solidity": 0.2
             }
            },
            "type": "bar"
           }
          ],
          "barpolar": [
           {
            "marker": {
             "line": {
              "color": "#E5ECF6",
              "width": 0.5
             },
             "pattern": {
              "fillmode": "overlay",
              "size": 10,
              "solidity": 0.2
             }
            },
            "type": "barpolar"
           }
          ],
          "carpet": [
           {
            "aaxis": {
             "endlinecolor": "#2a3f5f",
             "gridcolor": "white",
             "linecolor": "white",
             "minorgridcolor": "white",
             "startlinecolor": "#2a3f5f"
            },
            "baxis": {
             "endlinecolor": "#2a3f5f",
             "gridcolor": "white",
             "linecolor": "white",
             "minorgridcolor": "white",
             "startlinecolor": "#2a3f5f"
            },
            "type": "carpet"
           }
          ],
          "choropleth": [
           {
            "colorbar": {
             "outlinewidth": 0,
             "ticks": ""
            },
            "type": "choropleth"
           }
          ],
          "contour": [
           {
            "colorbar": {
             "outlinewidth": 0,
             "ticks": ""
            },
            "colorscale": [
             [
              0,
              "#0d0887"
             ],
             [
              0.1111111111111111,
              "#46039f"
             ],
             [
              0.2222222222222222,
              "#7201a8"
             ],
             [
              0.3333333333333333,
              "#9c179e"
             ],
             [
              0.4444444444444444,
              "#bd3786"
             ],
             [
              0.5555555555555556,
              "#d8576b"
             ],
             [
              0.6666666666666666,
              "#ed7953"
             ],
             [
              0.7777777777777778,
              "#fb9f3a"
             ],
             [
              0.8888888888888888,
              "#fdca26"
             ],
             [
              1,
              "#f0f921"
             ]
            ],
            "type": "contour"
           }
          ],
          "contourcarpet": [
           {
            "colorbar": {
             "outlinewidth": 0,
             "ticks": ""
            },
            "type": "contourcarpet"
           }
          ],
          "heatmap": [
           {
            "colorbar": {
             "outlinewidth": 0,
             "ticks": ""
            },
            "colorscale": [
             [
              0,
              "#0d0887"
             ],
             [
              0.1111111111111111,
              "#46039f"
             ],
             [
              0.2222222222222222,
              "#7201a8"
             ],
             [
              0.3333333333333333,
              "#9c179e"
             ],
             [
              0.4444444444444444,
              "#bd3786"
             ],
             [
              0.5555555555555556,
              "#d8576b"
             ],
             [
              0.6666666666666666,
              "#ed7953"
             ],
             [
              0.7777777777777778,
              "#fb9f3a"
             ],
             [
              0.8888888888888888,
              "#fdca26"
             ],
             [
              1,
              "#f0f921"
             ]
            ],
            "type": "heatmap"
           }
          ],
          "heatmapgl": [
           {
            "colorbar": {
             "outlinewidth": 0,
             "ticks": ""
            },
            "colorscale": [
             [
              0,
              "#0d0887"
             ],
             [
              0.1111111111111111,
              "#46039f"
             ],
             [
              0.2222222222222222,
              "#7201a8"
             ],
             [
              0.3333333333333333,
              "#9c179e"
             ],
             [
              0.4444444444444444,
              "#bd3786"
             ],
             [
              0.5555555555555556,
              "#d8576b"
             ],
             [
              0.6666666666666666,
              "#ed7953"
             ],
             [
              0.7777777777777778,
              "#fb9f3a"
             ],
             [
              0.8888888888888888,
              "#fdca26"
             ],
             [
              1,
              "#f0f921"
             ]
            ],
            "type": "heatmapgl"
           }
          ],
          "histogram": [
           {
            "marker": {
             "pattern": {
              "fillmode": "overlay",
              "size": 10,
              "solidity": 0.2
             }
            },
            "type": "histogram"
           }
          ],
          "histogram2d": [
           {
            "colorbar": {
             "outlinewidth": 0,
             "ticks": ""
            },
            "colorscale": [
             [
              0,
              "#0d0887"
             ],
             [
              0.1111111111111111,
              "#46039f"
             ],
             [
              0.2222222222222222,
              "#7201a8"
             ],
             [
              0.3333333333333333,
              "#9c179e"
             ],
             [
              0.4444444444444444,
              "#bd3786"
             ],
             [
              0.5555555555555556,
              "#d8576b"
             ],
             [
              0.6666666666666666,
              "#ed7953"
             ],
             [
              0.7777777777777778,
              "#fb9f3a"
             ],
             [
              0.8888888888888888,
              "#fdca26"
             ],
             [
              1,
              "#f0f921"
             ]
            ],
            "type": "histogram2d"
           }
          ],
          "histogram2dcontour": [
           {
            "colorbar": {
             "outlinewidth": 0,
             "ticks": ""
            },
            "colorscale": [
             [
              0,
              "#0d0887"
             ],
             [
              0.1111111111111111,
              "#46039f"
             ],
             [
              0.2222222222222222,
              "#7201a8"
             ],
             [
              0.3333333333333333,
              "#9c179e"
             ],
             [
              0.4444444444444444,
              "#bd3786"
             ],
             [
              0.5555555555555556,
              "#d8576b"
             ],
             [
              0.6666666666666666,
              "#ed7953"
             ],
             [
              0.7777777777777778,
              "#fb9f3a"
             ],
             [
              0.8888888888888888,
              "#fdca26"
             ],
             [
              1,
              "#f0f921"
             ]
            ],
            "type": "histogram2dcontour"
           }
          ],
          "mesh3d": [
           {
            "colorbar": {
             "outlinewidth": 0,
             "ticks": ""
            },
            "type": "mesh3d"
           }
          ],
          "parcoords": [
           {
            "line": {
             "colorbar": {
              "outlinewidth": 0,
              "ticks": ""
             }
            },
            "type": "parcoords"
           }
          ],
          "pie": [
           {
            "automargin": true,
            "type": "pie"
           }
          ],
          "scatter": [
           {
            "fillpattern": {
             "fillmode": "overlay",
             "size": 10,
             "solidity": 0.2
            },
            "type": "scatter"
           }
          ],
          "scatter3d": [
           {
            "line": {
             "colorbar": {
              "outlinewidth": 0,
              "ticks": ""
             }
            },
            "marker": {
             "colorbar": {
              "outlinewidth": 0,
              "ticks": ""
             }
            },
            "type": "scatter3d"
           }
          ],
          "scattercarpet": [
           {
            "marker": {
             "colorbar": {
              "outlinewidth": 0,
              "ticks": ""
             }
            },
            "type": "scattercarpet"
           }
          ],
          "scattergeo": [
           {
            "marker": {
             "colorbar": {
              "outlinewidth": 0,
              "ticks": ""
             }
            },
            "type": "scattergeo"
           }
          ],
          "scattergl": [
           {
            "marker": {
             "colorbar": {
              "outlinewidth": 0,
              "ticks": ""
             }
            },
            "type": "scattergl"
           }
          ],
          "scattermapbox": [
           {
            "marker": {
             "colorbar": {
              "outlinewidth": 0,
              "ticks": ""
             }
            },
            "type": "scattermapbox"
           }
          ],
          "scatterpolar": [
           {
            "marker": {
             "colorbar": {
              "outlinewidth": 0,
              "ticks": ""
             }
            },
            "type": "scatterpolar"
           }
          ],
          "scatterpolargl": [
           {
            "marker": {
             "colorbar": {
              "outlinewidth": 0,
              "ticks": ""
             }
            },
            "type": "scatterpolargl"
           }
          ],
          "scatterternary": [
           {
            "marker": {
             "colorbar": {
              "outlinewidth": 0,
              "ticks": ""
             }
            },
            "type": "scatterternary"
           }
          ],
          "surface": [
           {
            "colorbar": {
             "outlinewidth": 0,
             "ticks": ""
            },
            "colorscale": [
             [
              0,
              "#0d0887"
             ],
             [
              0.1111111111111111,
              "#46039f"
             ],
             [
              0.2222222222222222,
              "#7201a8"
             ],
             [
              0.3333333333333333,
              "#9c179e"
             ],
             [
              0.4444444444444444,
              "#bd3786"
             ],
             [
              0.5555555555555556,
              "#d8576b"
             ],
             [
              0.6666666666666666,
              "#ed7953"
             ],
             [
              0.7777777777777778,
              "#fb9f3a"
             ],
             [
              0.8888888888888888,
              "#fdca26"
             ],
             [
              1,
              "#f0f921"
             ]
            ],
            "type": "surface"
           }
          ],
          "table": [
           {
            "cells": {
             "fill": {
              "color": "#EBF0F8"
             },
             "line": {
              "color": "white"
             }
            },
            "header": {
             "fill": {
              "color": "#C8D4E3"
             },
             "line": {
              "color": "white"
             }
            },
            "type": "table"
           }
          ]
         },
         "layout": {
          "annotationdefaults": {
           "arrowcolor": "#2a3f5f",
           "arrowhead": 0,
           "arrowwidth": 1
          },
          "autotypenumbers": "strict",
          "coloraxis": {
           "colorbar": {
            "outlinewidth": 0,
            "ticks": ""
           }
          },
          "colorscale": {
           "diverging": [
            [
             0,
             "#8e0152"
            ],
            [
             0.1,
             "#c51b7d"
            ],
            [
             0.2,
             "#de77ae"
            ],
            [
             0.3,
             "#f1b6da"
            ],
            [
             0.4,
             "#fde0ef"
            ],
            [
             0.5,
             "#f7f7f7"
            ],
            [
             0.6,
             "#e6f5d0"
            ],
            [
             0.7,
             "#b8e186"
            ],
            [
             0.8,
             "#7fbc41"
            ],
            [
             0.9,
             "#4d9221"
            ],
            [
             1,
             "#276419"
            ]
           ],
           "sequential": [
            [
             0,
             "#0d0887"
            ],
            [
             0.1111111111111111,
             "#46039f"
            ],
            [
             0.2222222222222222,
             "#7201a8"
            ],
            [
             0.3333333333333333,
             "#9c179e"
            ],
            [
             0.4444444444444444,
             "#bd3786"
            ],
            [
             0.5555555555555556,
             "#d8576b"
            ],
            [
             0.6666666666666666,
             "#ed7953"
            ],
            [
             0.7777777777777778,
             "#fb9f3a"
            ],
            [
             0.8888888888888888,
             "#fdca26"
            ],
            [
             1,
             "#f0f921"
            ]
           ],
           "sequentialminus": [
            [
             0,
             "#0d0887"
            ],
            [
             0.1111111111111111,
             "#46039f"
            ],
            [
             0.2222222222222222,
             "#7201a8"
            ],
            [
             0.3333333333333333,
             "#9c179e"
            ],
            [
             0.4444444444444444,
             "#bd3786"
            ],
            [
             0.5555555555555556,
             "#d8576b"
            ],
            [
             0.6666666666666666,
             "#ed7953"
            ],
            [
             0.7777777777777778,
             "#fb9f3a"
            ],
            [
             0.8888888888888888,
             "#fdca26"
            ],
            [
             1,
             "#f0f921"
            ]
           ]
          },
          "colorway": [
           "#636efa",
           "#EF553B",
           "#00cc96",
           "#ab63fa",
           "#FFA15A",
           "#19d3f3",
           "#FF6692",
           "#B6E880",
           "#FF97FF",
           "#FECB52"
          ],
          "font": {
           "color": "#2a3f5f"
          },
          "geo": {
           "bgcolor": "white",
           "lakecolor": "white",
           "landcolor": "#E5ECF6",
           "showlakes": true,
           "showland": true,
           "subunitcolor": "white"
          },
          "hoverlabel": {
           "align": "left"
          },
          "hovermode": "closest",
          "mapbox": {
           "style": "light"
          },
          "paper_bgcolor": "white",
          "plot_bgcolor": "#E5ECF6",
          "polar": {
           "angularaxis": {
            "gridcolor": "white",
            "linecolor": "white",
            "ticks": ""
           },
           "bgcolor": "#E5ECF6",
           "radialaxis": {
            "gridcolor": "white",
            "linecolor": "white",
            "ticks": ""
           }
          },
          "scene": {
           "xaxis": {
            "backgroundcolor": "#E5ECF6",
            "gridcolor": "white",
            "gridwidth": 2,
            "linecolor": "white",
            "showbackground": true,
            "ticks": "",
            "zerolinecolor": "white"
           },
           "yaxis": {
            "backgroundcolor": "#E5ECF6",
            "gridcolor": "white",
            "gridwidth": 2,
            "linecolor": "white",
            "showbackground": true,
            "ticks": "",
            "zerolinecolor": "white"
           },
           "zaxis": {
            "backgroundcolor": "#E5ECF6",
            "gridcolor": "white",
            "gridwidth": 2,
            "linecolor": "white",
            "showbackground": true,
            "ticks": "",
            "zerolinecolor": "white"
           }
          },
          "shapedefaults": {
           "line": {
            "color": "#2a3f5f"
           }
          },
          "ternary": {
           "aaxis": {
            "gridcolor": "white",
            "linecolor": "white",
            "ticks": ""
           },
           "baxis": {
            "gridcolor": "white",
            "linecolor": "white",
            "ticks": ""
           },
           "bgcolor": "#E5ECF6",
           "caxis": {
            "gridcolor": "white",
            "linecolor": "white",
            "ticks": ""
           }
          },
          "title": {
           "x": 0.05
          },
          "xaxis": {
           "automargin": true,
           "gridcolor": "white",
           "linecolor": "white",
           "ticks": "",
           "title": {
            "standoff": 15
           },
           "zerolinecolor": "white",
           "zerolinewidth": 2
          },
          "yaxis": {
           "automargin": true,
           "gridcolor": "white",
           "linecolor": "white",
           "ticks": "",
           "title": {
            "standoff": 15
           },
           "zerolinecolor": "white",
           "zerolinewidth": 2
          }
         }
        },
        "title": {
         "text": "Patient Activities from 2100 to 2110"
        },
        "xaxis": {
         "anchor": "y",
         "domain": [
          0,
          1
         ],
         "dtick": "M12",
         "tickformat": "%Y",
         "title": {
          "text": "Date"
         },
         "type": "date"
        },
        "yaxis": {
         "anchor": "x",
         "categoryorder": "total ascending",
         "domain": [
          0,
          1
         ],
         "title": {
          "text": "Patient ID"
         }
        }
       }
      }
     },
     "metadata": {},
     "output_type": "display_data"
    },
    {
     "data": {
      "application/vnd.plotly.v1+json": {
       "config": {
        "plotlyServerURL": "https://plot.ly"
       },
       "data": [
        {
         "alignmentgroup": "True",
         "base": [
          "2117-08-05T18:27:00",
          "2117-08-05T18:27:00",
          "2117-08-05T18:27:00",
          "2117-08-05T18:27:00",
          "2117-08-05T18:27:00",
          "2117-08-05T18:27:00",
          "2117-08-21T06:58:00",
          "2117-08-21T06:58:00",
          "2117-08-21T06:58:00",
          "2117-08-21T06:58:00",
          "2117-08-21T06:58:00",
          "2117-08-21T06:58:00",
          "2115-05-12T14:52:00",
          "2115-05-12T14:52:00",
          "2115-05-12T14:52:00",
          "2115-05-12T14:52:00",
          "2118-10-06T16:25:00",
          "2118-10-06T16:25:00",
          "2118-10-06T16:25:00",
          "2112-02-04T14:49:00",
          "2112-02-04T14:49:00",
          "2112-02-04T14:49:00",
          "2117-03-21T12:55:00",
          "2117-03-21T12:55:00",
          "2117-03-21T12:55:00",
          "2117-03-21T12:55:00",
          "2117-03-21T12:55:00",
          "2117-03-21T12:55:00",
          "2117-03-21T12:55:00",
          "2117-03-21T12:55:00",
          "2119-10-17T05:58:00",
          "2119-10-17T05:58:00",
          "2119-10-17T05:58:00",
          "2119-10-17T05:58:00",
          "2119-10-17T05:58:00",
          "2110-12-29T18:03:00",
          "2110-12-29T18:03:00",
          "2110-12-29T18:03:00",
          "2110-12-29T18:03:00",
          "2110-12-29T18:03:00",
          "2110-12-29T18:03:00",
          "2110-12-29T18:03:00",
          "2110-12-29T18:03:00",
          "2110-12-29T18:03:00",
          "2112-05-04T08:00:00",
          "2112-05-04T08:00:00",
          "2112-05-04T08:00:00",
          "2112-05-04T08:00:00",
          "2112-05-04T08:00:00",
          "2112-05-22T15:37:00",
          "2112-05-22T15:37:00",
          "2112-05-22T15:37:00",
          "2112-05-22T15:37:00",
          "2112-05-22T15:37:00",
          "2112-05-28T15:45:00",
          "2112-05-28T15:45:00",
          "2112-05-28T15:45:00",
          "2112-05-28T15:45:00",
          "2112-05-28T15:45:00"
         ],
         "hovertemplate": "Activity=Hospital Stay<br>Start=%{base}<br>End=%{x}<br>Patient ID=%{y}<extra></extra>",
         "legendgroup": "Hospital Stay",
         "marker": {
          "color": "#636efa",
          "pattern": {
           "shape": ""
          }
         },
         "name": "Hospital Stay",
         "offsetgroup": "Hospital Stay",
         "orientation": "h",
         "showlegend": true,
         "textposition": "auto",
         "type": "bar",
         "x": [
          1201680000,
          1201680000,
          1201680000,
          1201680000,
          1201680000,
          1201680000,
          453720000,
          453720000,
          453720000,
          453720000,
          453720000,
          453720000,
          213780000,
          213780000,
          213780000,
          213780000,
          248700000,
          248700000,
          248700000,
          594660000,
          594660000,
          594660000,
          861300000,
          861300000,
          861300000,
          861300000,
          861300000,
          861300000,
          861300000,
          861300000,
          2431920000,
          2431920000,
          2431920000,
          2431920000,
          2431920000,
          1372560000,
          1372560000,
          1372560000,
          1372560000,
          1372560000,
          1372560000,
          1372560000,
          1372560000,
          1372560000,
          627300000,
          627300000,
          627300000,
          627300000,
          627300000,
          251580000,
          251580000,
          251580000,
          251580000,
          251580000,
          867900000,
          867900000,
          867900000,
          867900000,
          867900000
         ],
         "xaxis": "x",
         "y": [
          "10119",
          "10119",
          "10119",
          "10119",
          "10119",
          "10119",
          "10119",
          "10119",
          "10119",
          "10119",
          "10119",
          "10119",
          "10120",
          "10120",
          "10120",
          "10120",
          "40456",
          "40456",
          "40456",
          "42066",
          "42066",
          "42066",
          "42199",
          "42199",
          "42199",
          "42199",
          "42199",
          "42199",
          "42199",
          "42199",
          "42281",
          "42281",
          "42281",
          "42281",
          "42281",
          "43746",
          "43746",
          "43746",
          "43746",
          "43746",
          "43746",
          "43746",
          "43746",
          "43746",
          "44083",
          "44083",
          "44083",
          "44083",
          "44083",
          "44083",
          "44083",
          "44083",
          "44083",
          "44083",
          "44083",
          "44083",
          "44083",
          "44083",
          "44083"
         ],
         "yaxis": "y"
        },
        {
         "alignmentgroup": "True",
         "base": [
          "2117-08-05T18:28:22",
          "2117-08-05T21:05:40",
          "2117-08-13T18:44:34",
          "2117-08-15T02:19:00",
          "2117-08-15T02:20:01",
          "2117-08-19T16:27:30",
          "2117-08-21T06:59:19",
          "2117-08-21T08:34:09",
          "2117-08-23T05:58:40",
          "2117-08-23T06:13:41",
          "2117-08-23T15:12:50",
          "2117-08-26T13:59:40",
          "2115-05-12T14:53:52",
          "2115-05-13T09:53:52",
          "2115-05-13T10:11:03",
          "2115-05-15T06:24:50",
          "2118-10-06T16:26:04",
          "2118-10-08T16:26:32",
          "2118-10-09T14:00:48",
          "2112-02-04T14:49:33",
          "2112-02-09T17:07:09",
          "2112-02-12T03:28:56",
          "2117-03-21T12:56:22",
          "2117-03-21T15:37:46",
          "2117-03-22T03:03:59",
          "2117-03-22T03:08:20",
          "2117-03-23T09:18:25",
          "2117-03-23T12:30:37",
          "2117-03-28T22:44:33",
          "2117-03-31T12:12:35",
          "2119-10-17T05:59:04",
          "2119-10-21T00:36:31",
          "2119-10-30T13:09:04",
          "2119-10-30T15:42:34",
          "2119-11-14T17:03:49",
          "2110-12-29T18:04:22",
          "2111-01-04T17:39:42",
          "2111-01-06T13:08:49",
          "2111-01-06T13:38:59",
          "2111-01-06T14:25:44",
          "2111-01-07T16:36:48",
          "2111-01-09T15:47:22",
          "2111-01-12T15:26:49",
          "2111-01-14T18:20:03",
          "2112-05-04T01:45:43",
          "2112-05-04T19:03:39",
          "2112-05-06T17:21:01",
          "2112-05-06T17:32:47",
          "2112-05-11T14:14:23",
          "2112-05-22T15:37:59",
          "2112-05-23T12:32:06",
          "2112-05-23T13:15:56",
          "2112-05-23T13:17:31",
          "2112-05-25T14:59:50",
          "2112-05-28T15:46:27",
          "2112-05-29T02:01:33",
          "2112-06-01T16:50:40",
          "2112-06-01T16:58:45",
          "2112-06-07T16:54:04"
         ],
         "hovertemplate": "Activity=ICU Stay<br>Start=%{base}<br>End=%{x}<br>Patient ID=%{y}<extra></extra>",
         "legendgroup": "ICU Stay",
         "marker": {
          "color": "#EF553B",
          "pattern": {
           "shape": ""
          }
         },
         "name": "ICU Stay",
         "offsetgroup": "ICU Stay",
         "orientation": "h",
         "showlegend": true,
         "textposition": "auto",
         "type": "bar",
         "x": [
          9438000,
          682734000,
          113666000,
          61000,
          396449000,
          null,
          5690000,
          163471000,
          901000,
          32349000,
          254810000,
          null,
          68400000,
          1031000,
          159227000,
          null,
          172828000,
          77656000,
          null,
          440256000,
          210107000,
          null,
          9684000,
          41173000,
          261000,
          108605000,
          11532000,
          468836000,
          221282000,
          null,
          326247000,
          822753000,
          9210000,
          1300875000,
          null,
          516920000,
          156547000,
          1810000,
          2805000,
          94264000,
          169834000,
          257967000,
          183194000,
          null,
          62276000,
          166642000,
          706000,
          420096000,
          null,
          75247000,
          2630000,
          95000,
          178939000,
          null,
          36906000,
          312547000,
          485000,
          518119000,
          null
         ],
         "xaxis": "x",
         "y": [
          "10119",
          "10119",
          "10119",
          "10119",
          "10119",
          "10119",
          "10119",
          "10119",
          "10119",
          "10119",
          "10119",
          "10119",
          "10120",
          "10120",
          "10120",
          "10120",
          "40456",
          "40456",
          "40456",
          "42066",
          "42066",
          "42066",
          "42199",
          "42199",
          "42199",
          "42199",
          "42199",
          "42199",
          "42199",
          "42199",
          "42281",
          "42281",
          "42281",
          "42281",
          "42281",
          "43746",
          "43746",
          "43746",
          "43746",
          "43746",
          "43746",
          "43746",
          "43746",
          "43746",
          "44083",
          "44083",
          "44083",
          "44083",
          "44083",
          "44083",
          "44083",
          "44083",
          "44083",
          "44083",
          "44083",
          "44083",
          "44083",
          "44083",
          "44083"
         ],
         "yaxis": "y"
        }
       ],
       "layout": {
        "autosize": true,
        "barmode": "overlay",
        "legend": {
         "title": {
          "text": "Activity"
         },
         "tracegroupgap": 0
        },
        "template": {
         "data": {
          "bar": [
           {
            "error_x": {
             "color": "#2a3f5f"
            },
            "error_y": {
             "color": "#2a3f5f"
            },
            "marker": {
             "line": {
              "color": "#E5ECF6",
              "width": 0.5
             },
             "pattern": {
              "fillmode": "overlay",
              "size": 10,
              "solidity": 0.2
             }
            },
            "type": "bar"
           }
          ],
          "barpolar": [
           {
            "marker": {
             "line": {
              "color": "#E5ECF6",
              "width": 0.5
             },
             "pattern": {
              "fillmode": "overlay",
              "size": 10,
              "solidity": 0.2
             }
            },
            "type": "barpolar"
           }
          ],
          "carpet": [
           {
            "aaxis": {
             "endlinecolor": "#2a3f5f",
             "gridcolor": "white",
             "linecolor": "white",
             "minorgridcolor": "white",
             "startlinecolor": "#2a3f5f"
            },
            "baxis": {
             "endlinecolor": "#2a3f5f",
             "gridcolor": "white",
             "linecolor": "white",
             "minorgridcolor": "white",
             "startlinecolor": "#2a3f5f"
            },
            "type": "carpet"
           }
          ],
          "choropleth": [
           {
            "colorbar": {
             "outlinewidth": 0,
             "ticks": ""
            },
            "type": "choropleth"
           }
          ],
          "contour": [
           {
            "colorbar": {
             "outlinewidth": 0,
             "ticks": ""
            },
            "colorscale": [
             [
              0,
              "#0d0887"
             ],
             [
              0.1111111111111111,
              "#46039f"
             ],
             [
              0.2222222222222222,
              "#7201a8"
             ],
             [
              0.3333333333333333,
              "#9c179e"
             ],
             [
              0.4444444444444444,
              "#bd3786"
             ],
             [
              0.5555555555555556,
              "#d8576b"
             ],
             [
              0.6666666666666666,
              "#ed7953"
             ],
             [
              0.7777777777777778,
              "#fb9f3a"
             ],
             [
              0.8888888888888888,
              "#fdca26"
             ],
             [
              1,
              "#f0f921"
             ]
            ],
            "type": "contour"
           }
          ],
          "contourcarpet": [
           {
            "colorbar": {
             "outlinewidth": 0,
             "ticks": ""
            },
            "type": "contourcarpet"
           }
          ],
          "heatmap": [
           {
            "colorbar": {
             "outlinewidth": 0,
             "ticks": ""
            },
            "colorscale": [
             [
              0,
              "#0d0887"
             ],
             [
              0.1111111111111111,
              "#46039f"
             ],
             [
              0.2222222222222222,
              "#7201a8"
             ],
             [
              0.3333333333333333,
              "#9c179e"
             ],
             [
              0.4444444444444444,
              "#bd3786"
             ],
             [
              0.5555555555555556,
              "#d8576b"
             ],
             [
              0.6666666666666666,
              "#ed7953"
             ],
             [
              0.7777777777777778,
              "#fb9f3a"
             ],
             [
              0.8888888888888888,
              "#fdca26"
             ],
             [
              1,
              "#f0f921"
             ]
            ],
            "type": "heatmap"
           }
          ],
          "heatmapgl": [
           {
            "colorbar": {
             "outlinewidth": 0,
             "ticks": ""
            },
            "colorscale": [
             [
              0,
              "#0d0887"
             ],
             [
              0.1111111111111111,
              "#46039f"
             ],
             [
              0.2222222222222222,
              "#7201a8"
             ],
             [
              0.3333333333333333,
              "#9c179e"
             ],
             [
              0.4444444444444444,
              "#bd3786"
             ],
             [
              0.5555555555555556,
              "#d8576b"
             ],
             [
              0.6666666666666666,
              "#ed7953"
             ],
             [
              0.7777777777777778,
              "#fb9f3a"
             ],
             [
              0.8888888888888888,
              "#fdca26"
             ],
             [
              1,
              "#f0f921"
             ]
            ],
            "type": "heatmapgl"
           }
          ],
          "histogram": [
           {
            "marker": {
             "pattern": {
              "fillmode": "overlay",
              "size": 10,
              "solidity": 0.2
             }
            },
            "type": "histogram"
           }
          ],
          "histogram2d": [
           {
            "colorbar": {
             "outlinewidth": 0,
             "ticks": ""
            },
            "colorscale": [
             [
              0,
              "#0d0887"
             ],
             [
              0.1111111111111111,
              "#46039f"
             ],
             [
              0.2222222222222222,
              "#7201a8"
             ],
             [
              0.3333333333333333,
              "#9c179e"
             ],
             [
              0.4444444444444444,
              "#bd3786"
             ],
             [
              0.5555555555555556,
              "#d8576b"
             ],
             [
              0.6666666666666666,
              "#ed7953"
             ],
             [
              0.7777777777777778,
              "#fb9f3a"
             ],
             [
              0.8888888888888888,
              "#fdca26"
             ],
             [
              1,
              "#f0f921"
             ]
            ],
            "type": "histogram2d"
           }
          ],
          "histogram2dcontour": [
           {
            "colorbar": {
             "outlinewidth": 0,
             "ticks": ""
            },
            "colorscale": [
             [
              0,
              "#0d0887"
             ],
             [
              0.1111111111111111,
              "#46039f"
             ],
             [
              0.2222222222222222,
              "#7201a8"
             ],
             [
              0.3333333333333333,
              "#9c179e"
             ],
             [
              0.4444444444444444,
              "#bd3786"
             ],
             [
              0.5555555555555556,
              "#d8576b"
             ],
             [
              0.6666666666666666,
              "#ed7953"
             ],
             [
              0.7777777777777778,
              "#fb9f3a"
             ],
             [
              0.8888888888888888,
              "#fdca26"
             ],
             [
              1,
              "#f0f921"
             ]
            ],
            "type": "histogram2dcontour"
           }
          ],
          "mesh3d": [
           {
            "colorbar": {
             "outlinewidth": 0,
             "ticks": ""
            },
            "type": "mesh3d"
           }
          ],
          "parcoords": [
           {
            "line": {
             "colorbar": {
              "outlinewidth": 0,
              "ticks": ""
             }
            },
            "type": "parcoords"
           }
          ],
          "pie": [
           {
            "automargin": true,
            "type": "pie"
           }
          ],
          "scatter": [
           {
            "fillpattern": {
             "fillmode": "overlay",
             "size": 10,
             "solidity": 0.2
            },
            "type": "scatter"
           }
          ],
          "scatter3d": [
           {
            "line": {
             "colorbar": {
              "outlinewidth": 0,
              "ticks": ""
             }
            },
            "marker": {
             "colorbar": {
              "outlinewidth": 0,
              "ticks": ""
             }
            },
            "type": "scatter3d"
           }
          ],
          "scattercarpet": [
           {
            "marker": {
             "colorbar": {
              "outlinewidth": 0,
              "ticks": ""
             }
            },
            "type": "scattercarpet"
           }
          ],
          "scattergeo": [
           {
            "marker": {
             "colorbar": {
              "outlinewidth": 0,
              "ticks": ""
             }
            },
            "type": "scattergeo"
           }
          ],
          "scattergl": [
           {
            "marker": {
             "colorbar": {
              "outlinewidth": 0,
              "ticks": ""
             }
            },
            "type": "scattergl"
           }
          ],
          "scattermapbox": [
           {
            "marker": {
             "colorbar": {
              "outlinewidth": 0,
              "ticks": ""
             }
            },
            "type": "scattermapbox"
           }
          ],
          "scatterpolar": [
           {
            "marker": {
             "colorbar": {
              "outlinewidth": 0,
              "ticks": ""
             }
            },
            "type": "scatterpolar"
           }
          ],
          "scatterpolargl": [
           {
            "marker": {
             "colorbar": {
              "outlinewidth": 0,
              "ticks": ""
             }
            },
            "type": "scatterpolargl"
           }
          ],
          "scatterternary": [
           {
            "marker": {
             "colorbar": {
              "outlinewidth": 0,
              "ticks": ""
             }
            },
            "type": "scatterternary"
           }
          ],
          "surface": [
           {
            "colorbar": {
             "outlinewidth": 0,
             "ticks": ""
            },
            "colorscale": [
             [
              0,
              "#0d0887"
             ],
             [
              0.1111111111111111,
              "#46039f"
             ],
             [
              0.2222222222222222,
              "#7201a8"
             ],
             [
              0.3333333333333333,
              "#9c179e"
             ],
             [
              0.4444444444444444,
              "#bd3786"
             ],
             [
              0.5555555555555556,
              "#d8576b"
             ],
             [
              0.6666666666666666,
              "#ed7953"
             ],
             [
              0.7777777777777778,
              "#fb9f3a"
             ],
             [
              0.8888888888888888,
              "#fdca26"
             ],
             [
              1,
              "#f0f921"
             ]
            ],
            "type": "surface"
           }
          ],
          "table": [
           {
            "cells": {
             "fill": {
              "color": "#EBF0F8"
             },
             "line": {
              "color": "white"
             }
            },
            "header": {
             "fill": {
              "color": "#C8D4E3"
             },
             "line": {
              "color": "white"
             }
            },
            "type": "table"
           }
          ]
         },
         "layout": {
          "annotationdefaults": {
           "arrowcolor": "#2a3f5f",
           "arrowhead": 0,
           "arrowwidth": 1
          },
          "autotypenumbers": "strict",
          "coloraxis": {
           "colorbar": {
            "outlinewidth": 0,
            "ticks": ""
           }
          },
          "colorscale": {
           "diverging": [
            [
             0,
             "#8e0152"
            ],
            [
             0.1,
             "#c51b7d"
            ],
            [
             0.2,
             "#de77ae"
            ],
            [
             0.3,
             "#f1b6da"
            ],
            [
             0.4,
             "#fde0ef"
            ],
            [
             0.5,
             "#f7f7f7"
            ],
            [
             0.6,
             "#e6f5d0"
            ],
            [
             0.7,
             "#b8e186"
            ],
            [
             0.8,
             "#7fbc41"
            ],
            [
             0.9,
             "#4d9221"
            ],
            [
             1,
             "#276419"
            ]
           ],
           "sequential": [
            [
             0,
             "#0d0887"
            ],
            [
             0.1111111111111111,
             "#46039f"
            ],
            [
             0.2222222222222222,
             "#7201a8"
            ],
            [
             0.3333333333333333,
             "#9c179e"
            ],
            [
             0.4444444444444444,
             "#bd3786"
            ],
            [
             0.5555555555555556,
             "#d8576b"
            ],
            [
             0.6666666666666666,
             "#ed7953"
            ],
            [
             0.7777777777777778,
             "#fb9f3a"
            ],
            [
             0.8888888888888888,
             "#fdca26"
            ],
            [
             1,
             "#f0f921"
            ]
           ],
           "sequentialminus": [
            [
             0,
             "#0d0887"
            ],
            [
             0.1111111111111111,
             "#46039f"
            ],
            [
             0.2222222222222222,
             "#7201a8"
            ],
            [
             0.3333333333333333,
             "#9c179e"
            ],
            [
             0.4444444444444444,
             "#bd3786"
            ],
            [
             0.5555555555555556,
             "#d8576b"
            ],
            [
             0.6666666666666666,
             "#ed7953"
            ],
            [
             0.7777777777777778,
             "#fb9f3a"
            ],
            [
             0.8888888888888888,
             "#fdca26"
            ],
            [
             1,
             "#f0f921"
            ]
           ]
          },
          "colorway": [
           "#636efa",
           "#EF553B",
           "#00cc96",
           "#ab63fa",
           "#FFA15A",
           "#19d3f3",
           "#FF6692",
           "#B6E880",
           "#FF97FF",
           "#FECB52"
          ],
          "font": {
           "color": "#2a3f5f"
          },
          "geo": {
           "bgcolor": "white",
           "lakecolor": "white",
           "landcolor": "#E5ECF6",
           "showlakes": true,
           "showland": true,
           "subunitcolor": "white"
          },
          "hoverlabel": {
           "align": "left"
          },
          "hovermode": "closest",
          "mapbox": {
           "style": "light"
          },
          "paper_bgcolor": "white",
          "plot_bgcolor": "#E5ECF6",
          "polar": {
           "angularaxis": {
            "gridcolor": "white",
            "linecolor": "white",
            "ticks": ""
           },
           "bgcolor": "#E5ECF6",
           "radialaxis": {
            "gridcolor": "white",
            "linecolor": "white",
            "ticks": ""
           }
          },
          "scene": {
           "xaxis": {
            "backgroundcolor": "#E5ECF6",
            "gridcolor": "white",
            "gridwidth": 2,
            "linecolor": "white",
            "showbackground": true,
            "ticks": "",
            "zerolinecolor": "white"
           },
           "yaxis": {
            "backgroundcolor": "#E5ECF6",
            "gridcolor": "white",
            "gridwidth": 2,
            "linecolor": "white",
            "showbackground": true,
            "ticks": "",
            "zerolinecolor": "white"
           },
           "zaxis": {
            "backgroundcolor": "#E5ECF6",
            "gridcolor": "white",
            "gridwidth": 2,
            "linecolor": "white",
            "showbackground": true,
            "ticks": "",
            "zerolinecolor": "white"
           }
          },
          "shapedefaults": {
           "line": {
            "color": "#2a3f5f"
           }
          },
          "ternary": {
           "aaxis": {
            "gridcolor": "white",
            "linecolor": "white",
            "ticks": ""
           },
           "baxis": {
            "gridcolor": "white",
            "linecolor": "white",
            "ticks": ""
           },
           "bgcolor": "#E5ECF6",
           "caxis": {
            "gridcolor": "white",
            "linecolor": "white",
            "ticks": ""
           }
          },
          "title": {
           "x": 0.05
          },
          "xaxis": {
           "automargin": true,
           "gridcolor": "white",
           "linecolor": "white",
           "ticks": "",
           "title": {
            "standoff": 15
           },
           "zerolinecolor": "white",
           "zerolinewidth": 2
          },
          "yaxis": {
           "automargin": true,
           "gridcolor": "white",
           "linecolor": "white",
           "ticks": "",
           "title": {
            "standoff": 15
           },
           "zerolinecolor": "white",
           "zerolinewidth": 2
          }
         }
        },
        "title": {
         "text": "Patient Activities from 2110 to 2120"
        },
        "xaxis": {
         "anchor": "y",
         "domain": [
          0,
          1
         ],
         "dtick": "M12",
         "tickformat": "%Y",
         "title": {
          "text": "Date"
         },
         "type": "date"
        },
        "yaxis": {
         "anchor": "x",
         "categoryorder": "total ascending",
         "domain": [
          0,
          1
         ],
         "title": {
          "text": "Patient ID"
         }
        }
       }
      }
     },
     "metadata": {},
     "output_type": "display_data"
    },
    {
     "data": {
      "application/vnd.plotly.v1+json": {
       "config": {
        "plotlyServerURL": "https://plot.ly"
       },
       "data": [
        {
         "alignmentgroup": "True",
         "base": [
          "2126-08-14T22:32:00",
          "2126-08-14T22:32:00",
          "2125-10-04T23:36:00",
          "2125-10-04T23:36:00",
          "2129-03-03T16:06:00",
          "2129-03-03T16:06:00",
          "2129-03-03T16:06:00",
          "2129-03-03T16:06:00",
          "2129-03-03T16:06:00",
          "2129-11-24T00:31:00",
          "2129-11-24T00:31:00",
          "2129-11-24T00:31:00",
          "2129-11-24T00:31:00",
          "2129-05-02T00:12:00",
          "2129-05-02T00:12:00",
          "2129-05-02T00:12:00",
          "2127-03-19T14:39:00",
          "2127-03-19T14:39:00",
          "2124-01-12T14:26:00",
          "2124-01-12T14:26:00",
          "2124-01-12T14:26:00",
          "2128-03-22T17:37:00",
          "2128-03-22T17:37:00",
          "2128-03-22T17:37:00",
          "2120-08-24T17:39:00",
          "2120-08-24T17:39:00",
          "2120-08-24T17:39:00",
          "2120-08-24T17:39:00",
          "2120-08-24T17:39:00",
          "2123-08-23T20:00:00",
          "2123-08-23T20:00:00",
          "2123-08-23T20:00:00",
          "2127-07-23T15:21:00",
          "2127-07-23T15:21:00",
          "2127-07-23T15:21:00",
          "2127-07-23T15:21:00",
          "2127-07-23T15:21:00",
          "2127-07-23T15:21:00",
          "2127-07-23T15:21:00",
          "2127-07-23T15:21:00",
          "2127-10-06T21:00:00",
          "2127-10-06T21:00:00",
          "2121-12-07T20:49:00",
          "2121-12-07T20:49:00",
          "2121-12-07T20:49:00",
          "2121-12-07T20:49:00",
          "2128-11-04T16:05:00",
          "2128-11-04T16:05:00",
          "2128-11-04T16:05:00",
          "2128-11-04T16:05:00",
          "2128-11-04T16:05:00",
          "2123-11-24T14:14:00",
          "2123-11-24T14:14:00",
          "2123-11-24T14:14:00"
         ],
         "hovertemplate": "Activity=Hospital Stay<br>Start=%{base}<br>End=%{x}<br>Patient ID=%{y}<extra></extra>",
         "legendgroup": "Hospital Stay",
         "marker": {
          "color": "#636efa",
          "pattern": {
           "shape": ""
          }
         },
         "name": "Hospital Stay",
         "offsetgroup": "Hospital Stay",
         "orientation": "h",
         "showlegend": true,
         "textposition": "auto",
         "type": "bar",
         "x": [
          1196820000,
          1196820000,
          229020000,
          229020000,
          353580000,
          353580000,
          353580000,
          353580000,
          353580000,
          609240000,
          609240000,
          609240000,
          609240000,
          394080000,
          394080000,
          394080000,
          12600000,
          12600000,
          189240000,
          189240000,
          189240000,
          177780000,
          177780000,
          177780000,
          588780000,
          588780000,
          588780000,
          588780000,
          588780000,
          2138400000,
          2138400000,
          2138400000,
          1039140000,
          1039140000,
          1039140000,
          1039140000,
          1039140000,
          1039140000,
          1039140000,
          1039140000,
          1871400000,
          1871400000,
          417060000,
          417060000,
          417060000,
          417060000,
          417300000,
          417300000,
          417300000,
          417300000,
          417300000,
          3111420000,
          3111420000,
          3111420000
         ],
         "xaxis": "x",
         "y": [
          "10011",
          "10011",
          "10013",
          "10013",
          "10035",
          "10035",
          "10035",
          "10035",
          "10035",
          "10045",
          "10045",
          "10045",
          "10045",
          "10056",
          "10056",
          "10056",
          "10064",
          "10064",
          "10090",
          "10090",
          "10090",
          "10101",
          "10101",
          "10101",
          "10104",
          "10104",
          "10104",
          "10104",
          "10104",
          "10132",
          "10132",
          "10132",
          "42135",
          "42135",
          "42135",
          "42135",
          "42135",
          "42135",
          "42135",
          "42135",
          "42135",
          "42135",
          "42321",
          "42321",
          "42321",
          "42321",
          "43735",
          "43735",
          "43735",
          "43735",
          "43735",
          "44212",
          "44212",
          "44212"
         ],
         "yaxis": "y"
        },
        {
         "alignmentgroup": "True",
         "base": [
          "2126-08-14T22:34:00",
          "2126-08-28T18:59:00",
          "2125-10-04T23:38:00",
          "2125-10-07T15:13:52",
          "2129-03-03T16:07:26",
          "2129-03-04T12:43:59",
          "2129-03-04T13:40:11",
          "2129-03-05T22:40:51",
          "2129-03-07T18:19:51",
          "2129-11-24T00:32:25",
          "2129-11-24T22:46:57",
          "2129-11-25T14:37:50",
          "2129-12-01T06:03:55",
          "2129-05-02T00:12:39",
          "2129-05-03T01:23:25",
          "2129-05-06T13:44:23",
          "2127-03-19T14:40:39",
          "2127-03-19T19:38:45",
          "2124-01-12T14:27:16",
          "2124-01-13T17:50:10",
          "2124-01-14T19:56:18",
          "2128-03-22T17:38:51",
          "2128-03-23T16:19:11",
          "2128-03-24T22:26:34",
          "2120-08-24T17:41:43",
          "2120-08-24T23:47:23",
          "2120-08-25T00:36:18",
          "2120-08-25T15:41:49",
          "2120-08-31T13:45:01",
          "2123-08-23T20:03:32",
          "2123-08-24T15:11:37",
          "2123-09-17T14:02:31",
          "2127-07-23T15:22:08",
          "2127-07-23T17:26:38",
          "2127-07-29T07:55:58",
          "2127-07-30T14:11:20",
          "2127-07-30T18:05:39",
          "2127-07-30T18:30:29",
          "2127-08-01T15:58:30",
          "2127-08-04T16:03:47",
          "2127-10-06T21:01:40",
          "2127-10-28T06:57:19",
          "2121-12-07T20:50:36",
          "2121-12-09T18:43:58",
          "2121-12-11T18:41:18",
          "2121-12-12T16:44:42",
          "2128-11-04T16:06:14",
          "2128-11-05T17:07:58",
          "2128-11-06T01:23:36",
          "2128-11-08T13:03:05",
          "2128-11-10T01:00:14",
          "2123-11-24T14:14:29",
          "2123-12-25T17:12:19",
          "2123-12-30T14:31:51"
         ],
         "hovertemplate": "Activity=ICU Stay<br>Start=%{base}<br>End=%{x}<br>Patient ID=%{y}<extra></extra>",
         "legendgroup": "ICU Stay",
         "marker": {
          "color": "#EF553B",
          "pattern": {
           "shape": ""
          }
         },
         "name": "ICU Stay",
         "offsetgroup": "ICU Stay",
         "orientation": "h",
         "showlegend": true,
         "textposition": "auto",
         "type": "bar",
         "x": [
          1196700000,
          null,
          228952000,
          null,
          74193000,
          3372000,
          118840000,
          157140000,
          null,
          80072000,
          57053000,
          487565000,
          null,
          90646000,
          303658000,
          null,
          17886000,
          null,
          98574000,
          93968000,
          null,
          81620000,
          108443000,
          null,
          21940000,
          2935000,
          54331000,
          511392000,
          null,
          68885000,
          2069454000,
          null,
          7470000,
          484160000,
          108922000,
          14059000,
          1490000,
          163681000,
          259517000,
          null,
          1850139000,
          null,
          165202000,
          172640000,
          79404000,
          null,
          90104000,
          29738000,
          214769000,
          129429000,
          null,
          2689070000,
          422372000,
          null
         ],
         "xaxis": "x",
         "y": [
          "10011",
          "10011",
          "10013",
          "10013",
          "10035",
          "10035",
          "10035",
          "10035",
          "10035",
          "10045",
          "10045",
          "10045",
          "10045",
          "10056",
          "10056",
          "10056",
          "10064",
          "10064",
          "10090",
          "10090",
          "10090",
          "10101",
          "10101",
          "10101",
          "10104",
          "10104",
          "10104",
          "10104",
          "10104",
          "10132",
          "10132",
          "10132",
          "42135",
          "42135",
          "42135",
          "42135",
          "42135",
          "42135",
          "42135",
          "42135",
          "42135",
          "42135",
          "42321",
          "42321",
          "42321",
          "42321",
          "43735",
          "43735",
          "43735",
          "43735",
          "43735",
          "44212",
          "44212",
          "44212"
         ],
         "yaxis": "y"
        }
       ],
       "layout": {
        "autosize": true,
        "barmode": "overlay",
        "legend": {
         "title": {
          "text": "Activity"
         },
         "tracegroupgap": 0
        },
        "template": {
         "data": {
          "bar": [
           {
            "error_x": {
             "color": "#2a3f5f"
            },
            "error_y": {
             "color": "#2a3f5f"
            },
            "marker": {
             "line": {
              "color": "#E5ECF6",
              "width": 0.5
             },
             "pattern": {
              "fillmode": "overlay",
              "size": 10,
              "solidity": 0.2
             }
            },
            "type": "bar"
           }
          ],
          "barpolar": [
           {
            "marker": {
             "line": {
              "color": "#E5ECF6",
              "width": 0.5
             },
             "pattern": {
              "fillmode": "overlay",
              "size": 10,
              "solidity": 0.2
             }
            },
            "type": "barpolar"
           }
          ],
          "carpet": [
           {
            "aaxis": {
             "endlinecolor": "#2a3f5f",
             "gridcolor": "white",
             "linecolor": "white",
             "minorgridcolor": "white",
             "startlinecolor": "#2a3f5f"
            },
            "baxis": {
             "endlinecolor": "#2a3f5f",
             "gridcolor": "white",
             "linecolor": "white",
             "minorgridcolor": "white",
             "startlinecolor": "#2a3f5f"
            },
            "type": "carpet"
           }
          ],
          "choropleth": [
           {
            "colorbar": {
             "outlinewidth": 0,
             "ticks": ""
            },
            "type": "choropleth"
           }
          ],
          "contour": [
           {
            "colorbar": {
             "outlinewidth": 0,
             "ticks": ""
            },
            "colorscale": [
             [
              0,
              "#0d0887"
             ],
             [
              0.1111111111111111,
              "#46039f"
             ],
             [
              0.2222222222222222,
              "#7201a8"
             ],
             [
              0.3333333333333333,
              "#9c179e"
             ],
             [
              0.4444444444444444,
              "#bd3786"
             ],
             [
              0.5555555555555556,
              "#d8576b"
             ],
             [
              0.6666666666666666,
              "#ed7953"
             ],
             [
              0.7777777777777778,
              "#fb9f3a"
             ],
             [
              0.8888888888888888,
              "#fdca26"
             ],
             [
              1,
              "#f0f921"
             ]
            ],
            "type": "contour"
           }
          ],
          "contourcarpet": [
           {
            "colorbar": {
             "outlinewidth": 0,
             "ticks": ""
            },
            "type": "contourcarpet"
           }
          ],
          "heatmap": [
           {
            "colorbar": {
             "outlinewidth": 0,
             "ticks": ""
            },
            "colorscale": [
             [
              0,
              "#0d0887"
             ],
             [
              0.1111111111111111,
              "#46039f"
             ],
             [
              0.2222222222222222,
              "#7201a8"
             ],
             [
              0.3333333333333333,
              "#9c179e"
             ],
             [
              0.4444444444444444,
              "#bd3786"
             ],
             [
              0.5555555555555556,
              "#d8576b"
             ],
             [
              0.6666666666666666,
              "#ed7953"
             ],
             [
              0.7777777777777778,
              "#fb9f3a"
             ],
             [
              0.8888888888888888,
              "#fdca26"
             ],
             [
              1,
              "#f0f921"
             ]
            ],
            "type": "heatmap"
           }
          ],
          "heatmapgl": [
           {
            "colorbar": {
             "outlinewidth": 0,
             "ticks": ""
            },
            "colorscale": [
             [
              0,
              "#0d0887"
             ],
             [
              0.1111111111111111,
              "#46039f"
             ],
             [
              0.2222222222222222,
              "#7201a8"
             ],
             [
              0.3333333333333333,
              "#9c179e"
             ],
             [
              0.4444444444444444,
              "#bd3786"
             ],
             [
              0.5555555555555556,
              "#d8576b"
             ],
             [
              0.6666666666666666,
              "#ed7953"
             ],
             [
              0.7777777777777778,
              "#fb9f3a"
             ],
             [
              0.8888888888888888,
              "#fdca26"
             ],
             [
              1,
              "#f0f921"
             ]
            ],
            "type": "heatmapgl"
           }
          ],
          "histogram": [
           {
            "marker": {
             "pattern": {
              "fillmode": "overlay",
              "size": 10,
              "solidity": 0.2
             }
            },
            "type": "histogram"
           }
          ],
          "histogram2d": [
           {
            "colorbar": {
             "outlinewidth": 0,
             "ticks": ""
            },
            "colorscale": [
             [
              0,
              "#0d0887"
             ],
             [
              0.1111111111111111,
              "#46039f"
             ],
             [
              0.2222222222222222,
              "#7201a8"
             ],
             [
              0.3333333333333333,
              "#9c179e"
             ],
             [
              0.4444444444444444,
              "#bd3786"
             ],
             [
              0.5555555555555556,
              "#d8576b"
             ],
             [
              0.6666666666666666,
              "#ed7953"
             ],
             [
              0.7777777777777778,
              "#fb9f3a"
             ],
             [
              0.8888888888888888,
              "#fdca26"
             ],
             [
              1,
              "#f0f921"
             ]
            ],
            "type": "histogram2d"
           }
          ],
          "histogram2dcontour": [
           {
            "colorbar": {
             "outlinewidth": 0,
             "ticks": ""
            },
            "colorscale": [
             [
              0,
              "#0d0887"
             ],
             [
              0.1111111111111111,
              "#46039f"
             ],
             [
              0.2222222222222222,
              "#7201a8"
             ],
             [
              0.3333333333333333,
              "#9c179e"
             ],
             [
              0.4444444444444444,
              "#bd3786"
             ],
             [
              0.5555555555555556,
              "#d8576b"
             ],
             [
              0.6666666666666666,
              "#ed7953"
             ],
             [
              0.7777777777777778,
              "#fb9f3a"
             ],
             [
              0.8888888888888888,
              "#fdca26"
             ],
             [
              1,
              "#f0f921"
             ]
            ],
            "type": "histogram2dcontour"
           }
          ],
          "mesh3d": [
           {
            "colorbar": {
             "outlinewidth": 0,
             "ticks": ""
            },
            "type": "mesh3d"
           }
          ],
          "parcoords": [
           {
            "line": {
             "colorbar": {
              "outlinewidth": 0,
              "ticks": ""
             }
            },
            "type": "parcoords"
           }
          ],
          "pie": [
           {
            "automargin": true,
            "type": "pie"
           }
          ],
          "scatter": [
           {
            "fillpattern": {
             "fillmode": "overlay",
             "size": 10,
             "solidity": 0.2
            },
            "type": "scatter"
           }
          ],
          "scatter3d": [
           {
            "line": {
             "colorbar": {
              "outlinewidth": 0,
              "ticks": ""
             }
            },
            "marker": {
             "colorbar": {
              "outlinewidth": 0,
              "ticks": ""
             }
            },
            "type": "scatter3d"
           }
          ],
          "scattercarpet": [
           {
            "marker": {
             "colorbar": {
              "outlinewidth": 0,
              "ticks": ""
             }
            },
            "type": "scattercarpet"
           }
          ],
          "scattergeo": [
           {
            "marker": {
             "colorbar": {
              "outlinewidth": 0,
              "ticks": ""
             }
            },
            "type": "scattergeo"
           }
          ],
          "scattergl": [
           {
            "marker": {
             "colorbar": {
              "outlinewidth": 0,
              "ticks": ""
             }
            },
            "type": "scattergl"
           }
          ],
          "scattermapbox": [
           {
            "marker": {
             "colorbar": {
              "outlinewidth": 0,
              "ticks": ""
             }
            },
            "type": "scattermapbox"
           }
          ],
          "scatterpolar": [
           {
            "marker": {
             "colorbar": {
              "outlinewidth": 0,
              "ticks": ""
             }
            },
            "type": "scatterpolar"
           }
          ],
          "scatterpolargl": [
           {
            "marker": {
             "colorbar": {
              "outlinewidth": 0,
              "ticks": ""
             }
            },
            "type": "scatterpolargl"
           }
          ],
          "scatterternary": [
           {
            "marker": {
             "colorbar": {
              "outlinewidth": 0,
              "ticks": ""
             }
            },
            "type": "scatterternary"
           }
          ],
          "surface": [
           {
            "colorbar": {
             "outlinewidth": 0,
             "ticks": ""
            },
            "colorscale": [
             [
              0,
              "#0d0887"
             ],
             [
              0.1111111111111111,
              "#46039f"
             ],
             [
              0.2222222222222222,
              "#7201a8"
             ],
             [
              0.3333333333333333,
              "#9c179e"
             ],
             [
              0.4444444444444444,
              "#bd3786"
             ],
             [
              0.5555555555555556,
              "#d8576b"
             ],
             [
              0.6666666666666666,
              "#ed7953"
             ],
             [
              0.7777777777777778,
              "#fb9f3a"
             ],
             [
              0.8888888888888888,
              "#fdca26"
             ],
             [
              1,
              "#f0f921"
             ]
            ],
            "type": "surface"
           }
          ],
          "table": [
           {
            "cells": {
             "fill": {
              "color": "#EBF0F8"
             },
             "line": {
              "color": "white"
             }
            },
            "header": {
             "fill": {
              "color": "#C8D4E3"
             },
             "line": {
              "color": "white"
             }
            },
            "type": "table"
           }
          ]
         },
         "layout": {
          "annotationdefaults": {
           "arrowcolor": "#2a3f5f",
           "arrowhead": 0,
           "arrowwidth": 1
          },
          "autotypenumbers": "strict",
          "coloraxis": {
           "colorbar": {
            "outlinewidth": 0,
            "ticks": ""
           }
          },
          "colorscale": {
           "diverging": [
            [
             0,
             "#8e0152"
            ],
            [
             0.1,
             "#c51b7d"
            ],
            [
             0.2,
             "#de77ae"
            ],
            [
             0.3,
             "#f1b6da"
            ],
            [
             0.4,
             "#fde0ef"
            ],
            [
             0.5,
             "#f7f7f7"
            ],
            [
             0.6,
             "#e6f5d0"
            ],
            [
             0.7,
             "#b8e186"
            ],
            [
             0.8,
             "#7fbc41"
            ],
            [
             0.9,
             "#4d9221"
            ],
            [
             1,
             "#276419"
            ]
           ],
           "sequential": [
            [
             0,
             "#0d0887"
            ],
            [
             0.1111111111111111,
             "#46039f"
            ],
            [
             0.2222222222222222,
             "#7201a8"
            ],
            [
             0.3333333333333333,
             "#9c179e"
            ],
            [
             0.4444444444444444,
             "#bd3786"
            ],
            [
             0.5555555555555556,
             "#d8576b"
            ],
            [
             0.6666666666666666,
             "#ed7953"
            ],
            [
             0.7777777777777778,
             "#fb9f3a"
            ],
            [
             0.8888888888888888,
             "#fdca26"
            ],
            [
             1,
             "#f0f921"
            ]
           ],
           "sequentialminus": [
            [
             0,
             "#0d0887"
            ],
            [
             0.1111111111111111,
             "#46039f"
            ],
            [
             0.2222222222222222,
             "#7201a8"
            ],
            [
             0.3333333333333333,
             "#9c179e"
            ],
            [
             0.4444444444444444,
             "#bd3786"
            ],
            [
             0.5555555555555556,
             "#d8576b"
            ],
            [
             0.6666666666666666,
             "#ed7953"
            ],
            [
             0.7777777777777778,
             "#fb9f3a"
            ],
            [
             0.8888888888888888,
             "#fdca26"
            ],
            [
             1,
             "#f0f921"
            ]
           ]
          },
          "colorway": [
           "#636efa",
           "#EF553B",
           "#00cc96",
           "#ab63fa",
           "#FFA15A",
           "#19d3f3",
           "#FF6692",
           "#B6E880",
           "#FF97FF",
           "#FECB52"
          ],
          "font": {
           "color": "#2a3f5f"
          },
          "geo": {
           "bgcolor": "white",
           "lakecolor": "white",
           "landcolor": "#E5ECF6",
           "showlakes": true,
           "showland": true,
           "subunitcolor": "white"
          },
          "hoverlabel": {
           "align": "left"
          },
          "hovermode": "closest",
          "mapbox": {
           "style": "light"
          },
          "paper_bgcolor": "white",
          "plot_bgcolor": "#E5ECF6",
          "polar": {
           "angularaxis": {
            "gridcolor": "white",
            "linecolor": "white",
            "ticks": ""
           },
           "bgcolor": "#E5ECF6",
           "radialaxis": {
            "gridcolor": "white",
            "linecolor": "white",
            "ticks": ""
           }
          },
          "scene": {
           "xaxis": {
            "backgroundcolor": "#E5ECF6",
            "gridcolor": "white",
            "gridwidth": 2,
            "linecolor": "white",
            "showbackground": true,
            "ticks": "",
            "zerolinecolor": "white"
           },
           "yaxis": {
            "backgroundcolor": "#E5ECF6",
            "gridcolor": "white",
            "gridwidth": 2,
            "linecolor": "white",
            "showbackground": true,
            "ticks": "",
            "zerolinecolor": "white"
           },
           "zaxis": {
            "backgroundcolor": "#E5ECF6",
            "gridcolor": "white",
            "gridwidth": 2,
            "linecolor": "white",
            "showbackground": true,
            "ticks": "",
            "zerolinecolor": "white"
           }
          },
          "shapedefaults": {
           "line": {
            "color": "#2a3f5f"
           }
          },
          "ternary": {
           "aaxis": {
            "gridcolor": "white",
            "linecolor": "white",
            "ticks": ""
           },
           "baxis": {
            "gridcolor": "white",
            "linecolor": "white",
            "ticks": ""
           },
           "bgcolor": "#E5ECF6",
           "caxis": {
            "gridcolor": "white",
            "linecolor": "white",
            "ticks": ""
           }
          },
          "title": {
           "x": 0.05
          },
          "xaxis": {
           "automargin": true,
           "gridcolor": "white",
           "linecolor": "white",
           "ticks": "",
           "title": {
            "standoff": 15
           },
           "zerolinecolor": "white",
           "zerolinewidth": 2
          },
          "yaxis": {
           "automargin": true,
           "gridcolor": "white",
           "linecolor": "white",
           "ticks": "",
           "title": {
            "standoff": 15
           },
           "zerolinecolor": "white",
           "zerolinewidth": 2
          }
         }
        },
        "title": {
         "text": "Patient Activities from 2120 to 2130"
        },
        "xaxis": {
         "anchor": "y",
         "domain": [
          0,
          1
         ],
         "dtick": "M12",
         "tickformat": "%Y",
         "title": {
          "text": "Date"
         },
         "type": "date"
        },
        "yaxis": {
         "anchor": "x",
         "categoryorder": "total ascending",
         "domain": [
          0,
          1
         ],
         "title": {
          "text": "Patient ID"
         }
        }
       }
      }
     },
     "metadata": {},
     "output_type": "display_data"
    },
    {
     "data": {
      "application/vnd.plotly.v1+json": {
       "config": {
        "plotlyServerURL": "https://plot.ly"
       },
       "data": [
        {
         "alignmentgroup": "True",
         "base": [
          "2139-09-22T10:58:00",
          "2139-09-22T10:58:00",
          "2139-09-22T10:58:00",
          "2139-09-22T10:58:00",
          "2138-04-02T19:52:00",
          "2138-04-02T19:52:00",
          "2138-04-02T19:52:00",
          "2138-04-02T19:52:00",
          "2138-04-02T19:52:00",
          "2138-04-02T19:52:00",
          "2132-12-05T02:46:00",
          "2132-12-05T02:46:00",
          "2132-12-05T02:46:00",
          "2132-12-05T02:46:00",
          "2132-12-05T02:46:00",
          "2130-10-06T01:34:00",
          "2130-10-06T01:34:00",
          "2132-08-05T18:48:00",
          "2132-08-05T18:48:00",
          "2138-11-09T18:08:00",
          "2138-11-09T18:08:00",
          "2138-11-09T18:08:00",
          "2138-11-09T18:08:00",
          "2138-11-09T18:08:00",
          "2138-11-09T18:08:00",
          "2138-11-09T18:08:00",
          "2138-11-09T18:08:00",
          "2138-11-09T18:08:00",
          "2138-06-05T17:23:00",
          "2138-06-05T17:23:00",
          "2138-06-05T17:23:00",
          "2138-06-05T17:23:00",
          "2138-06-05T17:23:00",
          "2138-06-05T17:23:00",
          "2130-02-04T02:26:00",
          "2130-02-04T02:26:00",
          "2130-02-04T02:26:00",
          "2130-02-04T02:26:00",
          "2130-02-04T02:26:00",
          "2130-08-12T05:49:00",
          "2130-08-12T05:49:00",
          "2130-08-12T05:49:00",
          "2130-08-12T05:49:00",
          "2131-07-26T17:13:00",
          "2131-07-26T17:13:00",
          "2131-07-26T17:13:00",
          "2131-07-26T17:13:00",
          "2135-10-24T20:28:00",
          "2135-10-24T20:28:00",
          "2135-10-24T20:28:00",
          "2135-10-24T20:28:00",
          "2135-10-24T20:28:00"
         ],
         "hovertemplate": "Activity=Hospital Stay<br>Start=%{base}<br>End=%{x}<br>Patient ID=%{y}<extra></extra>",
         "legendgroup": "Hospital Stay",
         "marker": {
          "color": "#636efa",
          "pattern": {
           "shape": ""
          }
         },
         "name": "Hospital Stay",
         "offsetgroup": "Hospital Stay",
         "orientation": "h",
         "showlegend": true,
         "textposition": "auto",
         "type": "bar",
         "x": [
          876660000,
          876660000,
          876660000,
          876660000,
          1104180000,
          1104180000,
          1104180000,
          1104180000,
          1104180000,
          1104180000,
          304140000,
          304140000,
          304140000,
          304140000,
          304140000,
          3300000,
          3300000,
          199620000,
          199620000,
          795900000,
          795900000,
          795900000,
          795900000,
          795900000,
          795900000,
          795900000,
          795900000,
          795900000,
          492780000,
          492780000,
          492780000,
          492780000,
          492780000,
          492780000,
          573180000,
          573180000,
          573180000,
          573180000,
          573180000,
          553260000,
          553260000,
          553260000,
          553260000,
          168540000,
          168540000,
          168540000,
          168540000,
          248040000,
          248040000,
          248040000,
          248040000,
          248040000
         ],
         "xaxis": "x",
         "y": [
          "10029",
          "10029",
          "10029",
          "10029",
          "10032",
          "10032",
          "10032",
          "10032",
          "10032",
          "10032",
          "10033",
          "10033",
          "10033",
          "10033",
          "10033",
          "10067",
          "10067",
          "10089",
          "10089",
          "10117",
          "10117",
          "10117",
          "10117",
          "10117",
          "10117",
          "10117",
          "10117",
          "10117",
          "10117",
          "10117",
          "10117",
          "10117",
          "10117",
          "10117",
          "40124",
          "40124",
          "40124",
          "40124",
          "40124",
          "40124",
          "40124",
          "40124",
          "40124",
          "42033",
          "42033",
          "42033",
          "42033",
          "42275",
          "42275",
          "42275",
          "42275",
          "42275"
         ],
         "yaxis": "y"
        },
        {
         "alignmentgroup": "True",
         "base": [
          "2139-09-22T10:59:23",
          "2139-09-23T12:37:10",
          "2139-09-25T18:55:04",
          "2139-10-02T14:29:26",
          "2138-04-02T19:53:24",
          "2138-04-07T20:45:49",
          "2138-04-07T23:06:27",
          "2138-04-08T01:38:18",
          "2138-04-11T18:43:34",
          "2138-04-15T14:35:29",
          "2132-12-05T02:48:04",
          "2132-12-05T13:13:18",
          "2132-12-05T14:30:59",
          "2132-12-06T14:53:22",
          "2132-12-08T15:14:46",
          "2130-10-06T01:35:11",
          "2130-10-06T04:07:43",
          "2132-08-05T18:49:14",
          "2132-08-08T06:07:27",
          "2138-11-09T18:08:57",
          "2138-11-09T18:45:07",
          "2138-11-09T21:09:04",
          "2138-11-10T12:50:12",
          "2138-11-12T03:18:24",
          "2138-11-12T13:48:27",
          "2138-11-14T19:29:44",
          "2138-11-17T09:01:00",
          "2138-11-18T23:13:16",
          "2138-06-05T17:23:00",
          "2138-06-05T17:31:00",
          "2138-06-05T20:16:00",
          "2138-06-07T15:08:00",
          "2138-06-09T15:12:00",
          "2138-06-11T10:16:00",
          "2130-02-04T02:27:27",
          "2130-02-06T13:22:34",
          "2130-02-08T14:49:33",
          "2130-02-08T17:15:54",
          "2130-02-10T17:40:28",
          "2130-08-12T05:50:38",
          "2130-08-12T05:52:42",
          "2130-08-15T23:53:00",
          "2130-08-18T15:27:55",
          "2131-07-26T17:13:56",
          "2131-07-27T17:01:20",
          "2131-07-28T14:08:24",
          "2131-07-28T20:48:32",
          "2135-10-24T20:28:37",
          "2135-10-24T21:43:25",
          "2135-10-24T22:06:13",
          "2135-10-25T17:14:30",
          "2135-10-27T17:24:38"
         ],
         "hovertemplate": "Activity=ICU Stay<br>Start=%{base}<br>End=%{x}<br>Patient ID=%{y}<extra></extra>",
         "legendgroup": "ICU Stay",
         "marker": {
          "color": "#EF553B",
          "pattern": {
           "shape": ""
          }
         },
         "name": "ICU Stay",
         "offsetgroup": "ICU Stay",
         "orientation": "h",
         "showlegend": true,
         "textposition": "auto",
         "type": "bar",
         "x": [
          92267000,
          195474000,
          588862000,
          null,
          435145000,
          8438000,
          9111000,
          320716000,
          330715000,
          null,
          37514000,
          4661000,
          87743000,
          174084000,
          null,
          9152000,
          null,
          213493000,
          null,
          2170000,
          8637000,
          56468000,
          138492000,
          37803000,
          193277000,
          221476000,
          137536000,
          null,
          480000,
          9900000,
          154320000,
          173040000,
          155040000,
          null,
          212107000,
          178019000,
          8781000,
          174274000,
          null,
          124000,
          324018000,
          228895000,
          null,
          85644000,
          76024000,
          24008000,
          null,
          4488000,
          1368000,
          68897000,
          173408000,
          null
         ],
         "xaxis": "x",
         "y": [
          "10029",
          "10029",
          "10029",
          "10029",
          "10032",
          "10032",
          "10032",
          "10032",
          "10032",
          "10032",
          "10033",
          "10033",
          "10033",
          "10033",
          "10033",
          "10067",
          "10067",
          "10089",
          "10089",
          "10117",
          "10117",
          "10117",
          "10117",
          "10117",
          "10117",
          "10117",
          "10117",
          "10117",
          "10117",
          "10117",
          "10117",
          "10117",
          "10117",
          "10117",
          "40124",
          "40124",
          "40124",
          "40124",
          "40124",
          "40124",
          "40124",
          "40124",
          "40124",
          "42033",
          "42033",
          "42033",
          "42033",
          "42275",
          "42275",
          "42275",
          "42275",
          "42275"
         ],
         "yaxis": "y"
        }
       ],
       "layout": {
        "autosize": true,
        "barmode": "overlay",
        "legend": {
         "title": {
          "text": "Activity"
         },
         "tracegroupgap": 0
        },
        "template": {
         "data": {
          "bar": [
           {
            "error_x": {
             "color": "#2a3f5f"
            },
            "error_y": {
             "color": "#2a3f5f"
            },
            "marker": {
             "line": {
              "color": "#E5ECF6",
              "width": 0.5
             },
             "pattern": {
              "fillmode": "overlay",
              "size": 10,
              "solidity": 0.2
             }
            },
            "type": "bar"
           }
          ],
          "barpolar": [
           {
            "marker": {
             "line": {
              "color": "#E5ECF6",
              "width": 0.5
             },
             "pattern": {
              "fillmode": "overlay",
              "size": 10,
              "solidity": 0.2
             }
            },
            "type": "barpolar"
           }
          ],
          "carpet": [
           {
            "aaxis": {
             "endlinecolor": "#2a3f5f",
             "gridcolor": "white",
             "linecolor": "white",
             "minorgridcolor": "white",
             "startlinecolor": "#2a3f5f"
            },
            "baxis": {
             "endlinecolor": "#2a3f5f",
             "gridcolor": "white",
             "linecolor": "white",
             "minorgridcolor": "white",
             "startlinecolor": "#2a3f5f"
            },
            "type": "carpet"
           }
          ],
          "choropleth": [
           {
            "colorbar": {
             "outlinewidth": 0,
             "ticks": ""
            },
            "type": "choropleth"
           }
          ],
          "contour": [
           {
            "colorbar": {
             "outlinewidth": 0,
             "ticks": ""
            },
            "colorscale": [
             [
              0,
              "#0d0887"
             ],
             [
              0.1111111111111111,
              "#46039f"
             ],
             [
              0.2222222222222222,
              "#7201a8"
             ],
             [
              0.3333333333333333,
              "#9c179e"
             ],
             [
              0.4444444444444444,
              "#bd3786"
             ],
             [
              0.5555555555555556,
              "#d8576b"
             ],
             [
              0.6666666666666666,
              "#ed7953"
             ],
             [
              0.7777777777777778,
              "#fb9f3a"
             ],
             [
              0.8888888888888888,
              "#fdca26"
             ],
             [
              1,
              "#f0f921"
             ]
            ],
            "type": "contour"
           }
          ],
          "contourcarpet": [
           {
            "colorbar": {
             "outlinewidth": 0,
             "ticks": ""
            },
            "type": "contourcarpet"
           }
          ],
          "heatmap": [
           {
            "colorbar": {
             "outlinewidth": 0,
             "ticks": ""
            },
            "colorscale": [
             [
              0,
              "#0d0887"
             ],
             [
              0.1111111111111111,
              "#46039f"
             ],
             [
              0.2222222222222222,
              "#7201a8"
             ],
             [
              0.3333333333333333,
              "#9c179e"
             ],
             [
              0.4444444444444444,
              "#bd3786"
             ],
             [
              0.5555555555555556,
              "#d8576b"
             ],
             [
              0.6666666666666666,
              "#ed7953"
             ],
             [
              0.7777777777777778,
              "#fb9f3a"
             ],
             [
              0.8888888888888888,
              "#fdca26"
             ],
             [
              1,
              "#f0f921"
             ]
            ],
            "type": "heatmap"
           }
          ],
          "heatmapgl": [
           {
            "colorbar": {
             "outlinewidth": 0,
             "ticks": ""
            },
            "colorscale": [
             [
              0,
              "#0d0887"
             ],
             [
              0.1111111111111111,
              "#46039f"
             ],
             [
              0.2222222222222222,
              "#7201a8"
             ],
             [
              0.3333333333333333,
              "#9c179e"
             ],
             [
              0.4444444444444444,
              "#bd3786"
             ],
             [
              0.5555555555555556,
              "#d8576b"
             ],
             [
              0.6666666666666666,
              "#ed7953"
             ],
             [
              0.7777777777777778,
              "#fb9f3a"
             ],
             [
              0.8888888888888888,
              "#fdca26"
             ],
             [
              1,
              "#f0f921"
             ]
            ],
            "type": "heatmapgl"
           }
          ],
          "histogram": [
           {
            "marker": {
             "pattern": {
              "fillmode": "overlay",
              "size": 10,
              "solidity": 0.2
             }
            },
            "type": "histogram"
           }
          ],
          "histogram2d": [
           {
            "colorbar": {
             "outlinewidth": 0,
             "ticks": ""
            },
            "colorscale": [
             [
              0,
              "#0d0887"
             ],
             [
              0.1111111111111111,
              "#46039f"
             ],
             [
              0.2222222222222222,
              "#7201a8"
             ],
             [
              0.3333333333333333,
              "#9c179e"
             ],
             [
              0.4444444444444444,
              "#bd3786"
             ],
             [
              0.5555555555555556,
              "#d8576b"
             ],
             [
              0.6666666666666666,
              "#ed7953"
             ],
             [
              0.7777777777777778,
              "#fb9f3a"
             ],
             [
              0.8888888888888888,
              "#fdca26"
             ],
             [
              1,
              "#f0f921"
             ]
            ],
            "type": "histogram2d"
           }
          ],
          "histogram2dcontour": [
           {
            "colorbar": {
             "outlinewidth": 0,
             "ticks": ""
            },
            "colorscale": [
             [
              0,
              "#0d0887"
             ],
             [
              0.1111111111111111,
              "#46039f"
             ],
             [
              0.2222222222222222,
              "#7201a8"
             ],
             [
              0.3333333333333333,
              "#9c179e"
             ],
             [
              0.4444444444444444,
              "#bd3786"
             ],
             [
              0.5555555555555556,
              "#d8576b"
             ],
             [
              0.6666666666666666,
              "#ed7953"
             ],
             [
              0.7777777777777778,
              "#fb9f3a"
             ],
             [
              0.8888888888888888,
              "#fdca26"
             ],
             [
              1,
              "#f0f921"
             ]
            ],
            "type": "histogram2dcontour"
           }
          ],
          "mesh3d": [
           {
            "colorbar": {
             "outlinewidth": 0,
             "ticks": ""
            },
            "type": "mesh3d"
           }
          ],
          "parcoords": [
           {
            "line": {
             "colorbar": {
              "outlinewidth": 0,
              "ticks": ""
             }
            },
            "type": "parcoords"
           }
          ],
          "pie": [
           {
            "automargin": true,
            "type": "pie"
           }
          ],
          "scatter": [
           {
            "fillpattern": {
             "fillmode": "overlay",
             "size": 10,
             "solidity": 0.2
            },
            "type": "scatter"
           }
          ],
          "scatter3d": [
           {
            "line": {
             "colorbar": {
              "outlinewidth": 0,
              "ticks": ""
             }
            },
            "marker": {
             "colorbar": {
              "outlinewidth": 0,
              "ticks": ""
             }
            },
            "type": "scatter3d"
           }
          ],
          "scattercarpet": [
           {
            "marker": {
             "colorbar": {
              "outlinewidth": 0,
              "ticks": ""
             }
            },
            "type": "scattercarpet"
           }
          ],
          "scattergeo": [
           {
            "marker": {
             "colorbar": {
              "outlinewidth": 0,
              "ticks": ""
             }
            },
            "type": "scattergeo"
           }
          ],
          "scattergl": [
           {
            "marker": {
             "colorbar": {
              "outlinewidth": 0,
              "ticks": ""
             }
            },
            "type": "scattergl"
           }
          ],
          "scattermapbox": [
           {
            "marker": {
             "colorbar": {
              "outlinewidth": 0,
              "ticks": ""
             }
            },
            "type": "scattermapbox"
           }
          ],
          "scatterpolar": [
           {
            "marker": {
             "colorbar": {
              "outlinewidth": 0,
              "ticks": ""
             }
            },
            "type": "scatterpolar"
           }
          ],
          "scatterpolargl": [
           {
            "marker": {
             "colorbar": {
              "outlinewidth": 0,
              "ticks": ""
             }
            },
            "type": "scatterpolargl"
           }
          ],
          "scatterternary": [
           {
            "marker": {
             "colorbar": {
              "outlinewidth": 0,
              "ticks": ""
             }
            },
            "type": "scatterternary"
           }
          ],
          "surface": [
           {
            "colorbar": {
             "outlinewidth": 0,
             "ticks": ""
            },
            "colorscale": [
             [
              0,
              "#0d0887"
             ],
             [
              0.1111111111111111,
              "#46039f"
             ],
             [
              0.2222222222222222,
              "#7201a8"
             ],
             [
              0.3333333333333333,
              "#9c179e"
             ],
             [
              0.4444444444444444,
              "#bd3786"
             ],
             [
              0.5555555555555556,
              "#d8576b"
             ],
             [
              0.6666666666666666,
              "#ed7953"
             ],
             [
              0.7777777777777778,
              "#fb9f3a"
             ],
             [
              0.8888888888888888,
              "#fdca26"
             ],
             [
              1,
              "#f0f921"
             ]
            ],
            "type": "surface"
           }
          ],
          "table": [
           {
            "cells": {
             "fill": {
              "color": "#EBF0F8"
             },
             "line": {
              "color": "white"
             }
            },
            "header": {
             "fill": {
              "color": "#C8D4E3"
             },
             "line": {
              "color": "white"
             }
            },
            "type": "table"
           }
          ]
         },
         "layout": {
          "annotationdefaults": {
           "arrowcolor": "#2a3f5f",
           "arrowhead": 0,
           "arrowwidth": 1
          },
          "autotypenumbers": "strict",
          "coloraxis": {
           "colorbar": {
            "outlinewidth": 0,
            "ticks": ""
           }
          },
          "colorscale": {
           "diverging": [
            [
             0,
             "#8e0152"
            ],
            [
             0.1,
             "#c51b7d"
            ],
            [
             0.2,
             "#de77ae"
            ],
            [
             0.3,
             "#f1b6da"
            ],
            [
             0.4,
             "#fde0ef"
            ],
            [
             0.5,
             "#f7f7f7"
            ],
            [
             0.6,
             "#e6f5d0"
            ],
            [
             0.7,
             "#b8e186"
            ],
            [
             0.8,
             "#7fbc41"
            ],
            [
             0.9,
             "#4d9221"
            ],
            [
             1,
             "#276419"
            ]
           ],
           "sequential": [
            [
             0,
             "#0d0887"
            ],
            [
             0.1111111111111111,
             "#46039f"
            ],
            [
             0.2222222222222222,
             "#7201a8"
            ],
            [
             0.3333333333333333,
             "#9c179e"
            ],
            [
             0.4444444444444444,
             "#bd3786"
            ],
            [
             0.5555555555555556,
             "#d8576b"
            ],
            [
             0.6666666666666666,
             "#ed7953"
            ],
            [
             0.7777777777777778,
             "#fb9f3a"
            ],
            [
             0.8888888888888888,
             "#fdca26"
            ],
            [
             1,
             "#f0f921"
            ]
           ],
           "sequentialminus": [
            [
             0,
             "#0d0887"
            ],
            [
             0.1111111111111111,
             "#46039f"
            ],
            [
             0.2222222222222222,
             "#7201a8"
            ],
            [
             0.3333333333333333,
             "#9c179e"
            ],
            [
             0.4444444444444444,
             "#bd3786"
            ],
            [
             0.5555555555555556,
             "#d8576b"
            ],
            [
             0.6666666666666666,
             "#ed7953"
            ],
            [
             0.7777777777777778,
             "#fb9f3a"
            ],
            [
             0.8888888888888888,
             "#fdca26"
            ],
            [
             1,
             "#f0f921"
            ]
           ]
          },
          "colorway": [
           "#636efa",
           "#EF553B",
           "#00cc96",
           "#ab63fa",
           "#FFA15A",
           "#19d3f3",
           "#FF6692",
           "#B6E880",
           "#FF97FF",
           "#FECB52"
          ],
          "font": {
           "color": "#2a3f5f"
          },
          "geo": {
           "bgcolor": "white",
           "lakecolor": "white",
           "landcolor": "#E5ECF6",
           "showlakes": true,
           "showland": true,
           "subunitcolor": "white"
          },
          "hoverlabel": {
           "align": "left"
          },
          "hovermode": "closest",
          "mapbox": {
           "style": "light"
          },
          "paper_bgcolor": "white",
          "plot_bgcolor": "#E5ECF6",
          "polar": {
           "angularaxis": {
            "gridcolor": "white",
            "linecolor": "white",
            "ticks": ""
           },
           "bgcolor": "#E5ECF6",
           "radialaxis": {
            "gridcolor": "white",
            "linecolor": "white",
            "ticks": ""
           }
          },
          "scene": {
           "xaxis": {
            "backgroundcolor": "#E5ECF6",
            "gridcolor": "white",
            "gridwidth": 2,
            "linecolor": "white",
            "showbackground": true,
            "ticks": "",
            "zerolinecolor": "white"
           },
           "yaxis": {
            "backgroundcolor": "#E5ECF6",
            "gridcolor": "white",
            "gridwidth": 2,
            "linecolor": "white",
            "showbackground": true,
            "ticks": "",
            "zerolinecolor": "white"
           },
           "zaxis": {
            "backgroundcolor": "#E5ECF6",
            "gridcolor": "white",
            "gridwidth": 2,
            "linecolor": "white",
            "showbackground": true,
            "ticks": "",
            "zerolinecolor": "white"
           }
          },
          "shapedefaults": {
           "line": {
            "color": "#2a3f5f"
           }
          },
          "ternary": {
           "aaxis": {
            "gridcolor": "white",
            "linecolor": "white",
            "ticks": ""
           },
           "baxis": {
            "gridcolor": "white",
            "linecolor": "white",
            "ticks": ""
           },
           "bgcolor": "#E5ECF6",
           "caxis": {
            "gridcolor": "white",
            "linecolor": "white",
            "ticks": ""
           }
          },
          "title": {
           "x": 0.05
          },
          "xaxis": {
           "automargin": true,
           "gridcolor": "white",
           "linecolor": "white",
           "ticks": "",
           "title": {
            "standoff": 15
           },
           "zerolinecolor": "white",
           "zerolinewidth": 2
          },
          "yaxis": {
           "automargin": true,
           "gridcolor": "white",
           "linecolor": "white",
           "ticks": "",
           "title": {
            "standoff": 15
           },
           "zerolinecolor": "white",
           "zerolinewidth": 2
          }
         }
        },
        "title": {
         "text": "Patient Activities from 2130 to 2140"
        },
        "xaxis": {
         "anchor": "y",
         "domain": [
          0,
          1
         ],
         "dtick": "M12",
         "tickformat": "%Y",
         "title": {
          "text": "Date"
         },
         "type": "date"
        },
        "yaxis": {
         "anchor": "x",
         "categoryorder": "total ascending",
         "domain": [
          0,
          1
         ],
         "title": {
          "text": "Patient ID"
         }
        }
       }
      }
     },
     "metadata": {},
     "output_type": "display_data"
    },
    {
     "data": {
      "application/vnd.plotly.v1+json": {
       "config": {
        "plotlyServerURL": "https://plot.ly"
       },
       "data": [
        {
         "alignmentgroup": "True",
         "base": [
          "2149-05-26T17:19:00",
          "2149-05-26T17:19:00",
          "2149-05-26T17:19:00",
          "2149-05-26T17:19:00",
          "2149-05-26T17:19:00",
          "2149-05-26T17:19:00",
          "2144-02-09T17:53:00",
          "2144-02-09T17:53:00",
          "2144-02-09T17:53:00",
          "2144-02-09T17:53:00",
          "2144-02-09T17:53:00",
          "2147-02-23T11:43:00",
          "2147-02-23T11:43:00",
          "2147-02-23T11:43:00",
          "2147-02-06T12:38:00",
          "2147-02-06T12:38:00",
          "2147-02-06T12:38:00",
          "2147-02-06T12:38:00",
          "2147-02-06T12:38:00",
          "2147-02-06T12:38:00",
          "2147-02-06T12:38:00",
          "2141-01-25T08:35:00",
          "2141-01-25T08:35:00",
          "2148-01-13T22:32:00",
          "2148-01-13T22:32:00",
          "2148-01-13T22:32:00",
          "2144-12-24T16:16:00",
          "2144-12-24T16:16:00",
          "2144-07-11T15:02:00",
          "2144-07-11T15:02:00",
          "2144-07-11T15:02:00",
          "2144-07-11T15:02:00",
          "2144-07-11T15:02:00",
          "2144-07-11T15:02:00",
          "2144-07-11T15:02:00",
          "2144-10-15T10:46:00",
          "2144-10-15T10:46:00",
          "2144-07-18T19:32:00",
          "2144-07-18T19:32:00",
          "2144-07-18T19:32:00",
          "2144-07-18T19:32:00",
          "2145-09-06T08:52:00",
          "2145-09-06T08:52:00",
          "2145-09-06T08:52:00",
          "2145-07-07T01:19:00",
          "2145-07-07T01:19:00",
          "2145-07-07T01:19:00",
          "2145-07-07T01:19:00",
          "2145-07-07T01:19:00",
          "2145-12-01T18:13:00",
          "2145-12-01T18:13:00",
          "2145-12-01T18:13:00",
          "2145-12-01T18:13:00",
          "2147-10-03T16:10:00",
          "2147-10-03T16:10:00",
          "2147-10-03T16:10:00",
          "2142-11-26T21:20:00",
          "2142-11-26T21:20:00",
          "2142-11-26T21:20:00",
          "2146-07-21T14:45:00",
          "2146-07-21T14:45:00"
         ],
         "hovertemplate": "Activity=Hospital Stay<br>Start=%{base}<br>End=%{x}<br>Patient ID=%{y}<extra></extra>",
         "legendgroup": "Hospital Stay",
         "marker": {
          "color": "#636efa",
          "pattern": {
           "shape": ""
          }
         },
         "name": "Hospital Stay",
         "offsetgroup": "Hospital Stay",
         "orientation": "h",
         "showlegend": true,
         "textposition": "auto",
         "type": "bar",
         "x": [
          696180000,
          696180000,
          696180000,
          696180000,
          696180000,
          696180000,
          1021020000,
          1021020000,
          1021020000,
          1021020000,
          1021020000,
          362160000,
          362160000,
          362160000,
          973320000,
          973320000,
          973320000,
          973320000,
          973320000,
          973320000,
          973320000,
          66600000,
          66600000,
          491460000,
          491460000,
          491460000,
          606240000,
          606240000,
          10712280000,
          10712280000,
          10712280000,
          10712280000,
          10712280000,
          10712280000,
          10712280000,
          771240000,
          771240000,
          846540000,
          846540000,
          846540000,
          846540000,
          286380000,
          286380000,
          286380000,
          1187760000,
          1187760000,
          1187760000,
          1187760000,
          1187760000,
          1467120000,
          1467120000,
          1467120000,
          1467120000,
          2776800000,
          2776800000,
          2776800000,
          308100000,
          308100000,
          308100000,
          86400000,
          86400000
         ],
         "xaxis": "x",
         "y": [
          "10017",
          "10017",
          "10017",
          "10017",
          "10017",
          "10017",
          "10038",
          "10038",
          "10038",
          "10038",
          "10038",
          "10040",
          "10040",
          "10040",
          "10042",
          "10042",
          "10042",
          "10042",
          "10042",
          "10042",
          "10042",
          "10093",
          "10093",
          "10112",
          "10112",
          "10112",
          "40310",
          "40310",
          "40310",
          "40310",
          "40310",
          "40310",
          "40310",
          "40310",
          "40310",
          "40595",
          "40595",
          "40655",
          "40655",
          "40655",
          "40655",
          "41795",
          "41795",
          "41795",
          "41795",
          "41795",
          "41795",
          "41795",
          "41795",
          "41914",
          "41914",
          "41914",
          "41914",
          "42367",
          "42367",
          "42367",
          "42430",
          "42430",
          "42430",
          "42458",
          "42458"
         ],
         "yaxis": "y"
        },
        {
         "alignmentgroup": "True",
         "base": [
          "2149-05-26T17:21:09",
          "2149-05-26T19:15:46",
          "2149-05-26T19:22:45",
          "2149-05-29T18:52:29",
          "2149-05-31T22:19:17",
          "2149-06-03T18:43:21",
          "2144-02-09T17:53:58",
          "2144-02-09T18:56:41",
          "2144-02-11T12:10:34",
          "2144-02-14T21:25:57",
          "2144-02-21T13:30:50",
          "2147-02-23T11:43:47",
          "2147-02-25T14:51:52",
          "2147-02-27T16:17:28",
          "2147-02-06T12:40:59",
          "2147-02-14T16:04:43",
          "2147-02-15T07:26:18",
          "2147-02-15T08:14:08",
          "2147-02-15T08:23:13",
          "2147-02-15T08:41:16",
          "2147-02-17T19:02:43",
          "2141-01-25T08:35:58",
          "2141-01-26T06:14:24",
          "2148-01-13T22:35:54",
          "2148-01-13T22:36:07",
          "2148-01-19T15:03:21",
          "2144-12-24T16:16:41",
          "2144-12-31T21:02:59",
          "2144-07-11T15:02:58",
          "2144-07-13T03:56:33",
          "2144-07-13T20:48:08",
          "2144-07-14T15:43:41",
          "2144-08-01T17:46:11",
          "2144-09-14T15:15:12",
          "2144-11-12T14:42:29",
          "2144-10-15T10:47:21",
          "2144-10-24T09:00:07",
          "2144-07-18T19:33:25",
          "2144-07-18T22:35:33",
          "2144-07-19T15:44:34",
          "2144-07-28T14:42:11",
          "2145-09-06T08:54:00",
          "2145-09-07T18:31:33",
          "2145-09-09T16:27:09",
          "2145-07-07T01:21:16",
          "2145-07-09T19:13:20",
          "2145-07-10T02:16:21",
          "2145-07-17T18:58:22",
          "2145-07-20T19:17:23",
          "2145-12-01T18:14:06",
          "2145-12-02T11:21:01",
          "2145-12-14T18:00:12",
          "2145-12-18T17:46:23",
          "2147-10-03T16:11:10",
          "2147-11-01T22:25:43",
          "2147-11-04T20:50:00",
          "2142-11-26T21:21:21",
          "2142-11-29T17:36:20",
          "2142-11-30T14:43:33",
          "2146-07-21T14:46:51",
          "2146-07-22T14:58:42"
         ],
         "hovertemplate": "Activity=ICU Stay<br>Start=%{base}<br>End=%{x}<br>Patient ID=%{y}<extra></extra>",
         "legendgroup": "ICU Stay",
         "marker": {
          "color": "#EF553B",
          "pattern": {
           "shape": ""
          }
         },
         "name": "ICU Stay",
         "offsetgroup": "ICU Stay",
         "orientation": "h",
         "showlegend": true,
         "textposition": "auto",
         "type": "bar",
         "x": [
          6877000,
          419000,
          257384000,
          185208000,
          246244000,
          null,
          3763000,
          148433000,
          292523000,
          576293000,
          null,
          184085000,
          177936000,
          null,
          703424000,
          55295000,
          2870000,
          545000,
          1083000,
          210087000,
          null,
          77906000,
          null,
          13000,
          491234000,
          null,
          621978000,
          null,
          132815000,
          60695000,
          68133000,
          1562550000,
          3792541000,
          5095637000,
          null,
          771166000,
          null,
          10928000,
          61741000,
          773857000,
          null,
          121053000,
          165336000,
          null,
          237124000,
          25381000,
          664921000,
          260341000,
          null,
          61615000,
          1060751000,
          344771000,
          null,
          2528073000,
          253457000,
          null,
          245699000,
          76033000,
          null,
          87111000,
          null
         ],
         "xaxis": "x",
         "y": [
          "10017",
          "10017",
          "10017",
          "10017",
          "10017",
          "10017",
          "10038",
          "10038",
          "10038",
          "10038",
          "10038",
          "10040",
          "10040",
          "10040",
          "10042",
          "10042",
          "10042",
          "10042",
          "10042",
          "10042",
          "10042",
          "10093",
          "10093",
          "10112",
          "10112",
          "10112",
          "40310",
          "40310",
          "40310",
          "40310",
          "40310",
          "40310",
          "40310",
          "40310",
          "40310",
          "40595",
          "40595",
          "40655",
          "40655",
          "40655",
          "40655",
          "41795",
          "41795",
          "41795",
          "41795",
          "41795",
          "41795",
          "41795",
          "41795",
          "41914",
          "41914",
          "41914",
          "41914",
          "42367",
          "42367",
          "42367",
          "42430",
          "42430",
          "42430",
          "42458",
          "42458"
         ],
         "yaxis": "y"
        }
       ],
       "layout": {
        "autosize": true,
        "barmode": "overlay",
        "legend": {
         "title": {
          "text": "Activity"
         },
         "tracegroupgap": 0
        },
        "template": {
         "data": {
          "bar": [
           {
            "error_x": {
             "color": "#2a3f5f"
            },
            "error_y": {
             "color": "#2a3f5f"
            },
            "marker": {
             "line": {
              "color": "#E5ECF6",
              "width": 0.5
             },
             "pattern": {
              "fillmode": "overlay",
              "size": 10,
              "solidity": 0.2
             }
            },
            "type": "bar"
           }
          ],
          "barpolar": [
           {
            "marker": {
             "line": {
              "color": "#E5ECF6",
              "width": 0.5
             },
             "pattern": {
              "fillmode": "overlay",
              "size": 10,
              "solidity": 0.2
             }
            },
            "type": "barpolar"
           }
          ],
          "carpet": [
           {
            "aaxis": {
             "endlinecolor": "#2a3f5f",
             "gridcolor": "white",
             "linecolor": "white",
             "minorgridcolor": "white",
             "startlinecolor": "#2a3f5f"
            },
            "baxis": {
             "endlinecolor": "#2a3f5f",
             "gridcolor": "white",
             "linecolor": "white",
             "minorgridcolor": "white",
             "startlinecolor": "#2a3f5f"
            },
            "type": "carpet"
           }
          ],
          "choropleth": [
           {
            "colorbar": {
             "outlinewidth": 0,
             "ticks": ""
            },
            "type": "choropleth"
           }
          ],
          "contour": [
           {
            "colorbar": {
             "outlinewidth": 0,
             "ticks": ""
            },
            "colorscale": [
             [
              0,
              "#0d0887"
             ],
             [
              0.1111111111111111,
              "#46039f"
             ],
             [
              0.2222222222222222,
              "#7201a8"
             ],
             [
              0.3333333333333333,
              "#9c179e"
             ],
             [
              0.4444444444444444,
              "#bd3786"
             ],
             [
              0.5555555555555556,
              "#d8576b"
             ],
             [
              0.6666666666666666,
              "#ed7953"
             ],
             [
              0.7777777777777778,
              "#fb9f3a"
             ],
             [
              0.8888888888888888,
              "#fdca26"
             ],
             [
              1,
              "#f0f921"
             ]
            ],
            "type": "contour"
           }
          ],
          "contourcarpet": [
           {
            "colorbar": {
             "outlinewidth": 0,
             "ticks": ""
            },
            "type": "contourcarpet"
           }
          ],
          "heatmap": [
           {
            "colorbar": {
             "outlinewidth": 0,
             "ticks": ""
            },
            "colorscale": [
             [
              0,
              "#0d0887"
             ],
             [
              0.1111111111111111,
              "#46039f"
             ],
             [
              0.2222222222222222,
              "#7201a8"
             ],
             [
              0.3333333333333333,
              "#9c179e"
             ],
             [
              0.4444444444444444,
              "#bd3786"
             ],
             [
              0.5555555555555556,
              "#d8576b"
             ],
             [
              0.6666666666666666,
              "#ed7953"
             ],
             [
              0.7777777777777778,
              "#fb9f3a"
             ],
             [
              0.8888888888888888,
              "#fdca26"
             ],
             [
              1,
              "#f0f921"
             ]
            ],
            "type": "heatmap"
           }
          ],
          "heatmapgl": [
           {
            "colorbar": {
             "outlinewidth": 0,
             "ticks": ""
            },
            "colorscale": [
             [
              0,
              "#0d0887"
             ],
             [
              0.1111111111111111,
              "#46039f"
             ],
             [
              0.2222222222222222,
              "#7201a8"
             ],
             [
              0.3333333333333333,
              "#9c179e"
             ],
             [
              0.4444444444444444,
              "#bd3786"
             ],
             [
              0.5555555555555556,
              "#d8576b"
             ],
             [
              0.6666666666666666,
              "#ed7953"
             ],
             [
              0.7777777777777778,
              "#fb9f3a"
             ],
             [
              0.8888888888888888,
              "#fdca26"
             ],
             [
              1,
              "#f0f921"
             ]
            ],
            "type": "heatmapgl"
           }
          ],
          "histogram": [
           {
            "marker": {
             "pattern": {
              "fillmode": "overlay",
              "size": 10,
              "solidity": 0.2
             }
            },
            "type": "histogram"
           }
          ],
          "histogram2d": [
           {
            "colorbar": {
             "outlinewidth": 0,
             "ticks": ""
            },
            "colorscale": [
             [
              0,
              "#0d0887"
             ],
             [
              0.1111111111111111,
              "#46039f"
             ],
             [
              0.2222222222222222,
              "#7201a8"
             ],
             [
              0.3333333333333333,
              "#9c179e"
             ],
             [
              0.4444444444444444,
              "#bd3786"
             ],
             [
              0.5555555555555556,
              "#d8576b"
             ],
             [
              0.6666666666666666,
              "#ed7953"
             ],
             [
              0.7777777777777778,
              "#fb9f3a"
             ],
             [
              0.8888888888888888,
              "#fdca26"
             ],
             [
              1,
              "#f0f921"
             ]
            ],
            "type": "histogram2d"
           }
          ],
          "histogram2dcontour": [
           {
            "colorbar": {
             "outlinewidth": 0,
             "ticks": ""
            },
            "colorscale": [
             [
              0,
              "#0d0887"
             ],
             [
              0.1111111111111111,
              "#46039f"
             ],
             [
              0.2222222222222222,
              "#7201a8"
             ],
             [
              0.3333333333333333,
              "#9c179e"
             ],
             [
              0.4444444444444444,
              "#bd3786"
             ],
             [
              0.5555555555555556,
              "#d8576b"
             ],
             [
              0.6666666666666666,
              "#ed7953"
             ],
             [
              0.7777777777777778,
              "#fb9f3a"
             ],
             [
              0.8888888888888888,
              "#fdca26"
             ],
             [
              1,
              "#f0f921"
             ]
            ],
            "type": "histogram2dcontour"
           }
          ],
          "mesh3d": [
           {
            "colorbar": {
             "outlinewidth": 0,
             "ticks": ""
            },
            "type": "mesh3d"
           }
          ],
          "parcoords": [
           {
            "line": {
             "colorbar": {
              "outlinewidth": 0,
              "ticks": ""
             }
            },
            "type": "parcoords"
           }
          ],
          "pie": [
           {
            "automargin": true,
            "type": "pie"
           }
          ],
          "scatter": [
           {
            "fillpattern": {
             "fillmode": "overlay",
             "size": 10,
             "solidity": 0.2
            },
            "type": "scatter"
           }
          ],
          "scatter3d": [
           {
            "line": {
             "colorbar": {
              "outlinewidth": 0,
              "ticks": ""
             }
            },
            "marker": {
             "colorbar": {
              "outlinewidth": 0,
              "ticks": ""
             }
            },
            "type": "scatter3d"
           }
          ],
          "scattercarpet": [
           {
            "marker": {
             "colorbar": {
              "outlinewidth": 0,
              "ticks": ""
             }
            },
            "type": "scattercarpet"
           }
          ],
          "scattergeo": [
           {
            "marker": {
             "colorbar": {
              "outlinewidth": 0,
              "ticks": ""
             }
            },
            "type": "scattergeo"
           }
          ],
          "scattergl": [
           {
            "marker": {
             "colorbar": {
              "outlinewidth": 0,
              "ticks": ""
             }
            },
            "type": "scattergl"
           }
          ],
          "scattermapbox": [
           {
            "marker": {
             "colorbar": {
              "outlinewidth": 0,
              "ticks": ""
             }
            },
            "type": "scattermapbox"
           }
          ],
          "scatterpolar": [
           {
            "marker": {
             "colorbar": {
              "outlinewidth": 0,
              "ticks": ""
             }
            },
            "type": "scatterpolar"
           }
          ],
          "scatterpolargl": [
           {
            "marker": {
             "colorbar": {
              "outlinewidth": 0,
              "ticks": ""
             }
            },
            "type": "scatterpolargl"
           }
          ],
          "scatterternary": [
           {
            "marker": {
             "colorbar": {
              "outlinewidth": 0,
              "ticks": ""
             }
            },
            "type": "scatterternary"
           }
          ],
          "surface": [
           {
            "colorbar": {
             "outlinewidth": 0,
             "ticks": ""
            },
            "colorscale": [
             [
              0,
              "#0d0887"
             ],
             [
              0.1111111111111111,
              "#46039f"
             ],
             [
              0.2222222222222222,
              "#7201a8"
             ],
             [
              0.3333333333333333,
              "#9c179e"
             ],
             [
              0.4444444444444444,
              "#bd3786"
             ],
             [
              0.5555555555555556,
              "#d8576b"
             ],
             [
              0.6666666666666666,
              "#ed7953"
             ],
             [
              0.7777777777777778,
              "#fb9f3a"
             ],
             [
              0.8888888888888888,
              "#fdca26"
             ],
             [
              1,
              "#f0f921"
             ]
            ],
            "type": "surface"
           }
          ],
          "table": [
           {
            "cells": {
             "fill": {
              "color": "#EBF0F8"
             },
             "line": {
              "color": "white"
             }
            },
            "header": {
             "fill": {
              "color": "#C8D4E3"
             },
             "line": {
              "color": "white"
             }
            },
            "type": "table"
           }
          ]
         },
         "layout": {
          "annotationdefaults": {
           "arrowcolor": "#2a3f5f",
           "arrowhead": 0,
           "arrowwidth": 1
          },
          "autotypenumbers": "strict",
          "coloraxis": {
           "colorbar": {
            "outlinewidth": 0,
            "ticks": ""
           }
          },
          "colorscale": {
           "diverging": [
            [
             0,
             "#8e0152"
            ],
            [
             0.1,
             "#c51b7d"
            ],
            [
             0.2,
             "#de77ae"
            ],
            [
             0.3,
             "#f1b6da"
            ],
            [
             0.4,
             "#fde0ef"
            ],
            [
             0.5,
             "#f7f7f7"
            ],
            [
             0.6,
             "#e6f5d0"
            ],
            [
             0.7,
             "#b8e186"
            ],
            [
             0.8,
             "#7fbc41"
            ],
            [
             0.9,
             "#4d9221"
            ],
            [
             1,
             "#276419"
            ]
           ],
           "sequential": [
            [
             0,
             "#0d0887"
            ],
            [
             0.1111111111111111,
             "#46039f"
            ],
            [
             0.2222222222222222,
             "#7201a8"
            ],
            [
             0.3333333333333333,
             "#9c179e"
            ],
            [
             0.4444444444444444,
             "#bd3786"
            ],
            [
             0.5555555555555556,
             "#d8576b"
            ],
            [
             0.6666666666666666,
             "#ed7953"
            ],
            [
             0.7777777777777778,
             "#fb9f3a"
            ],
            [
             0.8888888888888888,
             "#fdca26"
            ],
            [
             1,
             "#f0f921"
            ]
           ],
           "sequentialminus": [
            [
             0,
             "#0d0887"
            ],
            [
             0.1111111111111111,
             "#46039f"
            ],
            [
             0.2222222222222222,
             "#7201a8"
            ],
            [
             0.3333333333333333,
             "#9c179e"
            ],
            [
             0.4444444444444444,
             "#bd3786"
            ],
            [
             0.5555555555555556,
             "#d8576b"
            ],
            [
             0.6666666666666666,
             "#ed7953"
            ],
            [
             0.7777777777777778,
             "#fb9f3a"
            ],
            [
             0.8888888888888888,
             "#fdca26"
            ],
            [
             1,
             "#f0f921"
            ]
           ]
          },
          "colorway": [
           "#636efa",
           "#EF553B",
           "#00cc96",
           "#ab63fa",
           "#FFA15A",
           "#19d3f3",
           "#FF6692",
           "#B6E880",
           "#FF97FF",
           "#FECB52"
          ],
          "font": {
           "color": "#2a3f5f"
          },
          "geo": {
           "bgcolor": "white",
           "lakecolor": "white",
           "landcolor": "#E5ECF6",
           "showlakes": true,
           "showland": true,
           "subunitcolor": "white"
          },
          "hoverlabel": {
           "align": "left"
          },
          "hovermode": "closest",
          "mapbox": {
           "style": "light"
          },
          "paper_bgcolor": "white",
          "plot_bgcolor": "#E5ECF6",
          "polar": {
           "angularaxis": {
            "gridcolor": "white",
            "linecolor": "white",
            "ticks": ""
           },
           "bgcolor": "#E5ECF6",
           "radialaxis": {
            "gridcolor": "white",
            "linecolor": "white",
            "ticks": ""
           }
          },
          "scene": {
           "xaxis": {
            "backgroundcolor": "#E5ECF6",
            "gridcolor": "white",
            "gridwidth": 2,
            "linecolor": "white",
            "showbackground": true,
            "ticks": "",
            "zerolinecolor": "white"
           },
           "yaxis": {
            "backgroundcolor": "#E5ECF6",
            "gridcolor": "white",
            "gridwidth": 2,
            "linecolor": "white",
            "showbackground": true,
            "ticks": "",
            "zerolinecolor": "white"
           },
           "zaxis": {
            "backgroundcolor": "#E5ECF6",
            "gridcolor": "white",
            "gridwidth": 2,
            "linecolor": "white",
            "showbackground": true,
            "ticks": "",
            "zerolinecolor": "white"
           }
          },
          "shapedefaults": {
           "line": {
            "color": "#2a3f5f"
           }
          },
          "ternary": {
           "aaxis": {
            "gridcolor": "white",
            "linecolor": "white",
            "ticks": ""
           },
           "baxis": {
            "gridcolor": "white",
            "linecolor": "white",
            "ticks": ""
           },
           "bgcolor": "#E5ECF6",
           "caxis": {
            "gridcolor": "white",
            "linecolor": "white",
            "ticks": ""
           }
          },
          "title": {
           "x": 0.05
          },
          "xaxis": {
           "automargin": true,
           "gridcolor": "white",
           "linecolor": "white",
           "ticks": "",
           "title": {
            "standoff": 15
           },
           "zerolinecolor": "white",
           "zerolinewidth": 2
          },
          "yaxis": {
           "automargin": true,
           "gridcolor": "white",
           "linecolor": "white",
           "ticks": "",
           "title": {
            "standoff": 15
           },
           "zerolinecolor": "white",
           "zerolinewidth": 2
          }
         }
        },
        "title": {
         "text": "Patient Activities from 2140 to 2150"
        },
        "xaxis": {
         "anchor": "y",
         "domain": [
          0,
          1
         ],
         "dtick": "M12",
         "tickformat": "%Y",
         "title": {
          "text": "Date"
         },
         "type": "date"
        },
        "yaxis": {
         "anchor": "x",
         "categoryorder": "total ascending",
         "domain": [
          0,
          1
         ],
         "title": {
          "text": "Patient ID"
         }
        }
       }
      }
     },
     "metadata": {},
     "output_type": "display_data"
    },
    {
     "data": {
      "application/vnd.plotly.v1+json": {
       "config": {
        "plotlyServerURL": "https://plot.ly"
       },
       "data": [
        {
         "alignmentgroup": "True",
         "base": [
          "2152-10-02T16:24:00",
          "2152-10-02T16:24:00",
          "2152-10-02T16:24:00",
          "2152-10-02T16:24:00",
          "2152-10-02T16:24:00",
          "2152-10-02T16:24:00",
          "2150-08-22T17:33:00",
          "2150-08-22T17:33:00",
          "2150-08-07T21:40:00",
          "2150-08-07T21:40:00",
          "2150-08-07T21:40:00",
          "2150-08-07T21:40:00",
          "2150-08-07T21:40:00",
          "2155-12-16T16:20:00",
          "2155-12-16T16:20:00",
          "2155-12-16T16:20:00",
          "2151-08-13T02:23:00",
          "2151-08-13T02:23:00",
          "2151-08-13T02:23:00",
          "2151-08-13T02:23:00",
          "2151-08-13T02:23:00",
          "2159-11-17T03:28:00",
          "2159-11-17T03:28:00",
          "2159-11-17T03:28:00",
          "2155-03-08T02:35:00",
          "2155-03-08T02:35:00",
          "2155-03-08T02:35:00",
          "2151-09-12T17:04:00",
          "2151-09-12T17:04:00",
          "2151-09-12T17:04:00",
          "2151-09-12T17:04:00",
          "2151-09-12T17:04:00",
          "2151-09-12T17:04:00",
          "2152-10-09T19:05:00",
          "2152-10-09T19:05:00"
         ],
         "hovertemplate": "Activity=Hospital Stay<br>Start=%{base}<br>End=%{x}<br>Patient ID=%{y}<extra></extra>",
         "legendgroup": "Hospital Stay",
         "marker": {
          "color": "#636efa",
          "pattern": {
           "shape": ""
          }
         },
         "name": "Hospital Stay",
         "offsetgroup": "Hospital Stay",
         "orientation": "h",
         "showlegend": true,
         "textposition": "auto",
         "type": "bar",
         "x": [
          775080000,
          775080000,
          775080000,
          775080000,
          775080000,
          775080000,
          607620000,
          607620000,
          481980000,
          481980000,
          481980000,
          481980000,
          481980000,
          685140000,
          685140000,
          685140000,
          405420000,
          405420000,
          405420000,
          405420000,
          405420000,
          470820000,
          470820000,
          470820000,
          303900000,
          303900000,
          303900000,
          200460000,
          200460000,
          200460000,
          200460000,
          200460000,
          200460000,
          12480000,
          12480000
         ],
         "xaxis": "x",
         "y": [
          "10044",
          "10044",
          "10044",
          "10044",
          "10044",
          "10044",
          "10059",
          "10059",
          "10059",
          "10059",
          "10059",
          "10059",
          "10059",
          "40204",
          "40204",
          "40204",
          "40277",
          "40277",
          "40277",
          "40277",
          "40277",
          "40612",
          "40612",
          "40612",
          "40687",
          "40687",
          "40687",
          "41983",
          "41983",
          "41983",
          "41983",
          "41983",
          "41983",
          "43909",
          "43909"
         ],
         "yaxis": "y"
        },
        {
         "alignmentgroup": "True",
         "base": [
          "2152-10-02T16:27:15",
          "2152-10-03T02:02:49",
          "2152-10-03T08:22:17",
          "2152-10-07T16:52:38",
          "2152-10-07T17:56:12",
          "2152-10-11T15:43:53",
          "2150-08-22T17:33:50",
          "2150-08-29T20:09:50",
          "2150-08-07T21:41:28",
          "2150-08-09T15:49:20",
          "2150-08-09T16:22:47",
          "2150-08-09T16:25:28",
          "2150-08-13T11:34:13",
          "2155-12-16T16:21:06",
          "2155-12-17T12:58:21",
          "2155-12-24T14:39:39",
          "2151-08-13T02:24:21",
          "2151-08-13T03:14:03",
          "2151-08-13T12:22:00",
          "2151-08-14T18:39:18",
          "2151-08-17T20:11:16",
          "2159-11-17T03:31:23",
          "2159-11-20T16:38:19",
          "2159-11-22T14:15:48",
          "2155-03-08T02:36:17",
          "2155-03-10T01:54:58",
          "2155-03-11T17:58:58",
          "2151-09-12T17:05:15",
          "2151-09-12T17:12:07",
          "2151-09-12T18:09:52",
          "2151-09-12T18:51:52",
          "2151-09-14T16:53:31",
          "2151-09-15T03:38:29",
          "2152-10-09T19:05:36",
          "2152-10-09T23:39:43"
         ],
         "hovertemplate": "Activity=ICU Stay<br>Start=%{base}<br>End=%{x}<br>Patient ID=%{y}<extra></extra>",
         "legendgroup": "ICU Stay",
         "marker": {
          "color": "#EF553B",
          "pattern": {
           "shape": ""
          }
         },
         "name": "ICU Stay",
         "offsetgroup": "ICU Stay",
         "orientation": "h",
         "showlegend": true,
         "textposition": "auto",
         "type": "bar",
         "x": [
          34534000,
          22768000,
          376221000,
          3814000,
          337661000,
          null,
          614160000,
          null,
          151672000,
          2007000,
          161000,
          328125000,
          null,
          74235000,
          610878000,
          null,
          2982000,
          32877000,
          109038000,
          264718000,
          null,
          306416000,
          164249000,
          null,
          170321000,
          144240000,
          null,
          412000,
          3465000,
          2520000,
          165699000,
          38698000,
          null,
          16447000,
          null
         ],
         "xaxis": "x",
         "y": [
          "10044",
          "10044",
          "10044",
          "10044",
          "10044",
          "10044",
          "10059",
          "10059",
          "10059",
          "10059",
          "10059",
          "10059",
          "10059",
          "40204",
          "40204",
          "40204",
          "40277",
          "40277",
          "40277",
          "40277",
          "40277",
          "40612",
          "40612",
          "40612",
          "40687",
          "40687",
          "40687",
          "41983",
          "41983",
          "41983",
          "41983",
          "41983",
          "41983",
          "43909",
          "43909"
         ],
         "yaxis": "y"
        }
       ],
       "layout": {
        "autosize": true,
        "barmode": "overlay",
        "legend": {
         "title": {
          "text": "Activity"
         },
         "tracegroupgap": 0
        },
        "template": {
         "data": {
          "bar": [
           {
            "error_x": {
             "color": "#2a3f5f"
            },
            "error_y": {
             "color": "#2a3f5f"
            },
            "marker": {
             "line": {
              "color": "#E5ECF6",
              "width": 0.5
             },
             "pattern": {
              "fillmode": "overlay",
              "size": 10,
              "solidity": 0.2
             }
            },
            "type": "bar"
           }
          ],
          "barpolar": [
           {
            "marker": {
             "line": {
              "color": "#E5ECF6",
              "width": 0.5
             },
             "pattern": {
              "fillmode": "overlay",
              "size": 10,
              "solidity": 0.2
             }
            },
            "type": "barpolar"
           }
          ],
          "carpet": [
           {
            "aaxis": {
             "endlinecolor": "#2a3f5f",
             "gridcolor": "white",
             "linecolor": "white",
             "minorgridcolor": "white",
             "startlinecolor": "#2a3f5f"
            },
            "baxis": {
             "endlinecolor": "#2a3f5f",
             "gridcolor": "white",
             "linecolor": "white",
             "minorgridcolor": "white",
             "startlinecolor": "#2a3f5f"
            },
            "type": "carpet"
           }
          ],
          "choropleth": [
           {
            "colorbar": {
             "outlinewidth": 0,
             "ticks": ""
            },
            "type": "choropleth"
           }
          ],
          "contour": [
           {
            "colorbar": {
             "outlinewidth": 0,
             "ticks": ""
            },
            "colorscale": [
             [
              0,
              "#0d0887"
             ],
             [
              0.1111111111111111,
              "#46039f"
             ],
             [
              0.2222222222222222,
              "#7201a8"
             ],
             [
              0.3333333333333333,
              "#9c179e"
             ],
             [
              0.4444444444444444,
              "#bd3786"
             ],
             [
              0.5555555555555556,
              "#d8576b"
             ],
             [
              0.6666666666666666,
              "#ed7953"
             ],
             [
              0.7777777777777778,
              "#fb9f3a"
             ],
             [
              0.8888888888888888,
              "#fdca26"
             ],
             [
              1,
              "#f0f921"
             ]
            ],
            "type": "contour"
           }
          ],
          "contourcarpet": [
           {
            "colorbar": {
             "outlinewidth": 0,
             "ticks": ""
            },
            "type": "contourcarpet"
           }
          ],
          "heatmap": [
           {
            "colorbar": {
             "outlinewidth": 0,
             "ticks": ""
            },
            "colorscale": [
             [
              0,
              "#0d0887"
             ],
             [
              0.1111111111111111,
              "#46039f"
             ],
             [
              0.2222222222222222,
              "#7201a8"
             ],
             [
              0.3333333333333333,
              "#9c179e"
             ],
             [
              0.4444444444444444,
              "#bd3786"
             ],
             [
              0.5555555555555556,
              "#d8576b"
             ],
             [
              0.6666666666666666,
              "#ed7953"
             ],
             [
              0.7777777777777778,
              "#fb9f3a"
             ],
             [
              0.8888888888888888,
              "#fdca26"
             ],
             [
              1,
              "#f0f921"
             ]
            ],
            "type": "heatmap"
           }
          ],
          "heatmapgl": [
           {
            "colorbar": {
             "outlinewidth": 0,
             "ticks": ""
            },
            "colorscale": [
             [
              0,
              "#0d0887"
             ],
             [
              0.1111111111111111,
              "#46039f"
             ],
             [
              0.2222222222222222,
              "#7201a8"
             ],
             [
              0.3333333333333333,
              "#9c179e"
             ],
             [
              0.4444444444444444,
              "#bd3786"
             ],
             [
              0.5555555555555556,
              "#d8576b"
             ],
             [
              0.6666666666666666,
              "#ed7953"
             ],
             [
              0.7777777777777778,
              "#fb9f3a"
             ],
             [
              0.8888888888888888,
              "#fdca26"
             ],
             [
              1,
              "#f0f921"
             ]
            ],
            "type": "heatmapgl"
           }
          ],
          "histogram": [
           {
            "marker": {
             "pattern": {
              "fillmode": "overlay",
              "size": 10,
              "solidity": 0.2
             }
            },
            "type": "histogram"
           }
          ],
          "histogram2d": [
           {
            "colorbar": {
             "outlinewidth": 0,
             "ticks": ""
            },
            "colorscale": [
             [
              0,
              "#0d0887"
             ],
             [
              0.1111111111111111,
              "#46039f"
             ],
             [
              0.2222222222222222,
              "#7201a8"
             ],
             [
              0.3333333333333333,
              "#9c179e"
             ],
             [
              0.4444444444444444,
              "#bd3786"
             ],
             [
              0.5555555555555556,
              "#d8576b"
             ],
             [
              0.6666666666666666,
              "#ed7953"
             ],
             [
              0.7777777777777778,
              "#fb9f3a"
             ],
             [
              0.8888888888888888,
              "#fdca26"
             ],
             [
              1,
              "#f0f921"
             ]
            ],
            "type": "histogram2d"
           }
          ],
          "histogram2dcontour": [
           {
            "colorbar": {
             "outlinewidth": 0,
             "ticks": ""
            },
            "colorscale": [
             [
              0,
              "#0d0887"
             ],
             [
              0.1111111111111111,
              "#46039f"
             ],
             [
              0.2222222222222222,
              "#7201a8"
             ],
             [
              0.3333333333333333,
              "#9c179e"
             ],
             [
              0.4444444444444444,
              "#bd3786"
             ],
             [
              0.5555555555555556,
              "#d8576b"
             ],
             [
              0.6666666666666666,
              "#ed7953"
             ],
             [
              0.7777777777777778,
              "#fb9f3a"
             ],
             [
              0.8888888888888888,
              "#fdca26"
             ],
             [
              1,
              "#f0f921"
             ]
            ],
            "type": "histogram2dcontour"
           }
          ],
          "mesh3d": [
           {
            "colorbar": {
             "outlinewidth": 0,
             "ticks": ""
            },
            "type": "mesh3d"
           }
          ],
          "parcoords": [
           {
            "line": {
             "colorbar": {
              "outlinewidth": 0,
              "ticks": ""
             }
            },
            "type": "parcoords"
           }
          ],
          "pie": [
           {
            "automargin": true,
            "type": "pie"
           }
          ],
          "scatter": [
           {
            "fillpattern": {
             "fillmode": "overlay",
             "size": 10,
             "solidity": 0.2
            },
            "type": "scatter"
           }
          ],
          "scatter3d": [
           {
            "line": {
             "colorbar": {
              "outlinewidth": 0,
              "ticks": ""
             }
            },
            "marker": {
             "colorbar": {
              "outlinewidth": 0,
              "ticks": ""
             }
            },
            "type": "scatter3d"
           }
          ],
          "scattercarpet": [
           {
            "marker": {
             "colorbar": {
              "outlinewidth": 0,
              "ticks": ""
             }
            },
            "type": "scattercarpet"
           }
          ],
          "scattergeo": [
           {
            "marker": {
             "colorbar": {
              "outlinewidth": 0,
              "ticks": ""
             }
            },
            "type": "scattergeo"
           }
          ],
          "scattergl": [
           {
            "marker": {
             "colorbar": {
              "outlinewidth": 0,
              "ticks": ""
             }
            },
            "type": "scattergl"
           }
          ],
          "scattermapbox": [
           {
            "marker": {
             "colorbar": {
              "outlinewidth": 0,
              "ticks": ""
             }
            },
            "type": "scattermapbox"
           }
          ],
          "scatterpolar": [
           {
            "marker": {
             "colorbar": {
              "outlinewidth": 0,
              "ticks": ""
             }
            },
            "type": "scatterpolar"
           }
          ],
          "scatterpolargl": [
           {
            "marker": {
             "colorbar": {
              "outlinewidth": 0,
              "ticks": ""
             }
            },
            "type": "scatterpolargl"
           }
          ],
          "scatterternary": [
           {
            "marker": {
             "colorbar": {
              "outlinewidth": 0,
              "ticks": ""
             }
            },
            "type": "scatterternary"
           }
          ],
          "surface": [
           {
            "colorbar": {
             "outlinewidth": 0,
             "ticks": ""
            },
            "colorscale": [
             [
              0,
              "#0d0887"
             ],
             [
              0.1111111111111111,
              "#46039f"
             ],
             [
              0.2222222222222222,
              "#7201a8"
             ],
             [
              0.3333333333333333,
              "#9c179e"
             ],
             [
              0.4444444444444444,
              "#bd3786"
             ],
             [
              0.5555555555555556,
              "#d8576b"
             ],
             [
              0.6666666666666666,
              "#ed7953"
             ],
             [
              0.7777777777777778,
              "#fb9f3a"
             ],
             [
              0.8888888888888888,
              "#fdca26"
             ],
             [
              1,
              "#f0f921"
             ]
            ],
            "type": "surface"
           }
          ],
          "table": [
           {
            "cells": {
             "fill": {
              "color": "#EBF0F8"
             },
             "line": {
              "color": "white"
             }
            },
            "header": {
             "fill": {
              "color": "#C8D4E3"
             },
             "line": {
              "color": "white"
             }
            },
            "type": "table"
           }
          ]
         },
         "layout": {
          "annotationdefaults": {
           "arrowcolor": "#2a3f5f",
           "arrowhead": 0,
           "arrowwidth": 1
          },
          "autotypenumbers": "strict",
          "coloraxis": {
           "colorbar": {
            "outlinewidth": 0,
            "ticks": ""
           }
          },
          "colorscale": {
           "diverging": [
            [
             0,
             "#8e0152"
            ],
            [
             0.1,
             "#c51b7d"
            ],
            [
             0.2,
             "#de77ae"
            ],
            [
             0.3,
             "#f1b6da"
            ],
            [
             0.4,
             "#fde0ef"
            ],
            [
             0.5,
             "#f7f7f7"
            ],
            [
             0.6,
             "#e6f5d0"
            ],
            [
             0.7,
             "#b8e186"
            ],
            [
             0.8,
             "#7fbc41"
            ],
            [
             0.9,
             "#4d9221"
            ],
            [
             1,
             "#276419"
            ]
           ],
           "sequential": [
            [
             0,
             "#0d0887"
            ],
            [
             0.1111111111111111,
             "#46039f"
            ],
            [
             0.2222222222222222,
             "#7201a8"
            ],
            [
             0.3333333333333333,
             "#9c179e"
            ],
            [
             0.4444444444444444,
             "#bd3786"
            ],
            [
             0.5555555555555556,
             "#d8576b"
            ],
            [
             0.6666666666666666,
             "#ed7953"
            ],
            [
             0.7777777777777778,
             "#fb9f3a"
            ],
            [
             0.8888888888888888,
             "#fdca26"
            ],
            [
             1,
             "#f0f921"
            ]
           ],
           "sequentialminus": [
            [
             0,
             "#0d0887"
            ],
            [
             0.1111111111111111,
             "#46039f"
            ],
            [
             0.2222222222222222,
             "#7201a8"
            ],
            [
             0.3333333333333333,
             "#9c179e"
            ],
            [
             0.4444444444444444,
             "#bd3786"
            ],
            [
             0.5555555555555556,
             "#d8576b"
            ],
            [
             0.6666666666666666,
             "#ed7953"
            ],
            [
             0.7777777777777778,
             "#fb9f3a"
            ],
            [
             0.8888888888888888,
             "#fdca26"
            ],
            [
             1,
             "#f0f921"
            ]
           ]
          },
          "colorway": [
           "#636efa",
           "#EF553B",
           "#00cc96",
           "#ab63fa",
           "#FFA15A",
           "#19d3f3",
           "#FF6692",
           "#B6E880",
           "#FF97FF",
           "#FECB52"
          ],
          "font": {
           "color": "#2a3f5f"
          },
          "geo": {
           "bgcolor": "white",
           "lakecolor": "white",
           "landcolor": "#E5ECF6",
           "showlakes": true,
           "showland": true,
           "subunitcolor": "white"
          },
          "hoverlabel": {
           "align": "left"
          },
          "hovermode": "closest",
          "mapbox": {
           "style": "light"
          },
          "paper_bgcolor": "white",
          "plot_bgcolor": "#E5ECF6",
          "polar": {
           "angularaxis": {
            "gridcolor": "white",
            "linecolor": "white",
            "ticks": ""
           },
           "bgcolor": "#E5ECF6",
           "radialaxis": {
            "gridcolor": "white",
            "linecolor": "white",
            "ticks": ""
           }
          },
          "scene": {
           "xaxis": {
            "backgroundcolor": "#E5ECF6",
            "gridcolor": "white",
            "gridwidth": 2,
            "linecolor": "white",
            "showbackground": true,
            "ticks": "",
            "zerolinecolor": "white"
           },
           "yaxis": {
            "backgroundcolor": "#E5ECF6",
            "gridcolor": "white",
            "gridwidth": 2,
            "linecolor": "white",
            "showbackground": true,
            "ticks": "",
            "zerolinecolor": "white"
           },
           "zaxis": {
            "backgroundcolor": "#E5ECF6",
            "gridcolor": "white",
            "gridwidth": 2,
            "linecolor": "white",
            "showbackground": true,
            "ticks": "",
            "zerolinecolor": "white"
           }
          },
          "shapedefaults": {
           "line": {
            "color": "#2a3f5f"
           }
          },
          "ternary": {
           "aaxis": {
            "gridcolor": "white",
            "linecolor": "white",
            "ticks": ""
           },
           "baxis": {
            "gridcolor": "white",
            "linecolor": "white",
            "ticks": ""
           },
           "bgcolor": "#E5ECF6",
           "caxis": {
            "gridcolor": "white",
            "linecolor": "white",
            "ticks": ""
           }
          },
          "title": {
           "x": 0.05
          },
          "xaxis": {
           "automargin": true,
           "gridcolor": "white",
           "linecolor": "white",
           "ticks": "",
           "title": {
            "standoff": 15
           },
           "zerolinecolor": "white",
           "zerolinewidth": 2
          },
          "yaxis": {
           "automargin": true,
           "gridcolor": "white",
           "linecolor": "white",
           "ticks": "",
           "title": {
            "standoff": 15
           },
           "zerolinecolor": "white",
           "zerolinewidth": 2
          }
         }
        },
        "title": {
         "text": "Patient Activities from 2150 to 2160"
        },
        "xaxis": {
         "anchor": "y",
         "domain": [
          0,
          1
         ],
         "dtick": "M12",
         "tickformat": "%Y",
         "title": {
          "text": "Date"
         },
         "type": "date"
        },
        "yaxis": {
         "anchor": "x",
         "categoryorder": "total ascending",
         "domain": [
          0,
          1
         ],
         "title": {
          "text": "Patient ID"
         }
        }
       }
      }
     },
     "metadata": {},
     "output_type": "display_data"
    },
    {
     "data": {
      "application/vnd.plotly.v1+json": {
       "config": {
        "plotlyServerURL": "https://plot.ly"
       },
       "data": [
        {
         "alignmentgroup": "True",
         "base": [
          "2164-10-23T21:09:00",
          "2164-10-23T21:09:00",
          "2164-10-23T21:09:00",
          "2163-05-14T20:43:00",
          "2163-05-14T20:43:00",
          "2167-02-11T22:10:00",
          "2167-02-11T22:10:00",
          "2167-02-11T22:10:00",
          "2167-02-11T22:10:00",
          "2161-09-14T22:22:00",
          "2161-09-14T22:22:00",
          "2161-09-14T22:22:00",
          "2161-09-14T22:22:00",
          "2161-09-14T22:22:00",
          "2161-09-14T22:22:00",
          "2161-01-30T16:26:00",
          "2161-01-30T16:26:00",
          "2161-01-30T16:26:00",
          "2161-01-30T16:26:00",
          "2161-01-30T16:26:00",
          "2161-01-30T16:26:00",
          "2169-05-06T23:16:00",
          "2169-05-06T23:16:00",
          "2169-05-06T23:16:00",
          "2169-05-06T23:16:00",
          "2169-05-06T23:16:00",
          "2169-05-06T23:16:00",
          "2163-11-21T18:34:00",
          "2163-11-21T18:34:00",
          "2163-11-21T18:34:00",
          "2163-11-21T18:34:00",
          "2163-11-21T18:34:00",
          "2166-02-12T17:57:00",
          "2166-02-12T17:57:00",
          "2166-02-12T17:57:00",
          "2162-01-16T13:56:00",
          "2162-01-16T13:56:00",
          "2162-01-16T13:56:00",
          "2160-05-04T14:10:00",
          "2160-05-04T14:10:00",
          "2160-05-04T14:10:00",
          "2160-05-04T14:10:00",
          "2160-12-26T11:45:00",
          "2160-12-26T11:45:00",
          "2160-12-26T11:45:00",
          "2160-12-26T11:45:00",
          "2160-12-16T13:47:00",
          "2160-12-16T13:47:00",
          "2160-12-16T13:47:00",
          "2165-12-19T12:19:00",
          "2165-12-19T12:19:00",
          "2165-12-19T12:19:00"
         ],
         "hovertemplate": "Activity=Hospital Stay<br>Start=%{base}<br>End=%{x}<br>Patient ID=%{y}<extra></extra>",
         "legendgroup": "Hospital Stay",
         "marker": {
          "color": "#636efa",
          "pattern": {
           "shape": ""
          }
         },
         "name": "Hospital Stay",
         "offsetgroup": "Hospital Stay",
         "orientation": "h",
         "showlegend": true,
         "textposition": "auto",
         "type": "bar",
         "x": [
          763560000,
          763560000,
          763560000,
          55020000,
          55020000,
          667200000,
          667200000,
          667200000,
          667200000,
          412680000,
          412680000,
          412680000,
          412680000,
          412680000,
          412680000,
          1719540000,
          1719540000,
          1719540000,
          1719540000,
          1719540000,
          1719540000,
          466680000,
          466680000,
          466680000,
          466680000,
          466680000,
          466680000,
          836760000,
          836760000,
          836760000,
          836760000,
          836760000,
          1144980000,
          1144980000,
          1144980000,
          258540000,
          258540000,
          258540000,
          337500000,
          337500000,
          337500000,
          337500000,
          72000000,
          72000000,
          72000000,
          72000000,
          438180000,
          438180000,
          438180000,
          525660000,
          525660000,
          525660000
         ],
         "xaxis": "x",
         "y": [
          "10006",
          "10006",
          "10006",
          "10019",
          "10019",
          "10074",
          "10074",
          "10074",
          "10074",
          "10106",
          "10106",
          "10106",
          "10106",
          "10106",
          "10106",
          "10130",
          "10130",
          "10130",
          "10130",
          "10130",
          "10130",
          "40177",
          "40177",
          "40177",
          "40177",
          "40177",
          "40177",
          "40304",
          "40304",
          "40304",
          "40304",
          "40304",
          "42075",
          "42075",
          "42075",
          "42292",
          "42292",
          "42292",
          "42302",
          "42302",
          "42302",
          "42302",
          "42346",
          "42346",
          "42346",
          "42346",
          "42346",
          "42346",
          "42346",
          "42412",
          "42412",
          "42412"
         ],
         "yaxis": "y"
        },
        {
         "alignmentgroup": "True",
         "base": [
          "2164-10-23T21:10:15",
          "2164-10-25T12:21:07",
          "2164-11-01T17:14:27",
          "2163-05-14T20:43:56",
          "2163-05-16T03:47:04",
          "2167-02-11T22:11:30",
          "2167-02-12T13:54:30",
          "2167-02-18T13:04:28",
          "2167-02-19T15:14:36",
          "2161-09-14T22:23:17",
          "2161-09-14T22:26:38",
          "2161-09-14T23:10:00",
          "2161-09-15T03:04:48",
          "2161-09-17T01:14:00",
          "2161-09-19T17:54:42",
          "2161-01-30T16:27:00",
          "2161-02-03T18:24:00",
          "2161-02-04T21:06:00",
          "2161-02-06T12:34:00",
          "2161-02-06T20:34:00",
          "2161-02-19T14:05:00",
          "2169-05-06T23:17:17",
          "2169-05-07T07:24:03",
          "2169-05-08T01:58:01",
          "2169-05-10T14:41:14",
          "2169-05-11T20:45:56",
          "2169-05-12T11:35:14",
          "2163-11-21T18:34:25",
          "2163-11-22T22:06:43",
          "2163-11-24T16:52:26",
          "2163-11-25T20:31:19",
          "2163-12-01T11:00:37",
          "2166-02-12T17:57:37",
          "2166-02-13T17:52:03",
          "2166-02-26T02:31:45",
          "2162-01-16T13:57:37",
          "2162-01-17T14:43:11",
          "2162-01-19T13:45:45",
          "2160-05-04T14:11:23",
          "2160-05-04T15:33:10",
          "2160-05-05T13:58:32",
          "2160-05-08T11:55:53",
          "2160-12-26T11:46:17",
          "2160-12-26T12:33:44",
          "2160-12-27T00:36:37",
          "2160-12-27T11:13:47",
          "2160-12-16T13:47:43",
          "2160-12-17T12:41:12",
          "2160-12-21T16:05:15",
          "2165-12-19T12:19:59",
          "2165-12-21T06:06:09",
          "2165-12-25T14:21:37"
         ],
         "hovertemplate": "Activity=ICU Stay<br>Start=%{base}<br>End=%{x}<br>Patient ID=%{y}<extra></extra>",
         "legendgroup": "ICU Stay",
         "marker": {
          "color": "#EF553B",
          "pattern": {
           "shape": ""
          }
         },
         "name": "ICU Stay",
         "offsetgroup": "ICU Stay",
         "orientation": "h",
         "showlegend": true,
         "textposition": "auto",
         "type": "bar",
         "x": [
          141052000,
          622400000,
          null,
          111788000,
          null,
          56580000,
          515398000,
          94208000,
          null,
          201000,
          2602000,
          14088000,
          166152000,
          232842000,
          null,
          352620000,
          96120000,
          142080000,
          28800000,
          1099860000,
          null,
          29206000,
          66838000,
          218593000,
          108282000,
          53358000,
          null,
          99138000,
          153943000,
          99533000,
          484158000,
          null,
          86066000,
          1067982000,
          null,
          89134000,
          169354000,
          null,
          4907000,
          80722000,
          251841000,
          null,
          2847000,
          43373000,
          38230000,
          null,
          82409000,
          357843000,
          null,
          150370000,
          375328000,
          null
         ],
         "xaxis": "x",
         "y": [
          "10006",
          "10006",
          "10006",
          "10019",
          "10019",
          "10074",
          "10074",
          "10074",
          "10074",
          "10106",
          "10106",
          "10106",
          "10106",
          "10106",
          "10106",
          "10130",
          "10130",
          "10130",
          "10130",
          "10130",
          "10130",
          "40177",
          "40177",
          "40177",
          "40177",
          "40177",
          "40177",
          "40304",
          "40304",
          "40304",
          "40304",
          "40304",
          "42075",
          "42075",
          "42075",
          "42292",
          "42292",
          "42292",
          "42302",
          "42302",
          "42302",
          "42302",
          "42346",
          "42346",
          "42346",
          "42346",
          "42346",
          "42346",
          "42346",
          "42412",
          "42412",
          "42412"
         ],
         "yaxis": "y"
        }
       ],
       "layout": {
        "autosize": true,
        "barmode": "overlay",
        "legend": {
         "title": {
          "text": "Activity"
         },
         "tracegroupgap": 0
        },
        "template": {
         "data": {
          "bar": [
           {
            "error_x": {
             "color": "#2a3f5f"
            },
            "error_y": {
             "color": "#2a3f5f"
            },
            "marker": {
             "line": {
              "color": "#E5ECF6",
              "width": 0.5
             },
             "pattern": {
              "fillmode": "overlay",
              "size": 10,
              "solidity": 0.2
             }
            },
            "type": "bar"
           }
          ],
          "barpolar": [
           {
            "marker": {
             "line": {
              "color": "#E5ECF6",
              "width": 0.5
             },
             "pattern": {
              "fillmode": "overlay",
              "size": 10,
              "solidity": 0.2
             }
            },
            "type": "barpolar"
           }
          ],
          "carpet": [
           {
            "aaxis": {
             "endlinecolor": "#2a3f5f",
             "gridcolor": "white",
             "linecolor": "white",
             "minorgridcolor": "white",
             "startlinecolor": "#2a3f5f"
            },
            "baxis": {
             "endlinecolor": "#2a3f5f",
             "gridcolor": "white",
             "linecolor": "white",
             "minorgridcolor": "white",
             "startlinecolor": "#2a3f5f"
            },
            "type": "carpet"
           }
          ],
          "choropleth": [
           {
            "colorbar": {
             "outlinewidth": 0,
             "ticks": ""
            },
            "type": "choropleth"
           }
          ],
          "contour": [
           {
            "colorbar": {
             "outlinewidth": 0,
             "ticks": ""
            },
            "colorscale": [
             [
              0,
              "#0d0887"
             ],
             [
              0.1111111111111111,
              "#46039f"
             ],
             [
              0.2222222222222222,
              "#7201a8"
             ],
             [
              0.3333333333333333,
              "#9c179e"
             ],
             [
              0.4444444444444444,
              "#bd3786"
             ],
             [
              0.5555555555555556,
              "#d8576b"
             ],
             [
              0.6666666666666666,
              "#ed7953"
             ],
             [
              0.7777777777777778,
              "#fb9f3a"
             ],
             [
              0.8888888888888888,
              "#fdca26"
             ],
             [
              1,
              "#f0f921"
             ]
            ],
            "type": "contour"
           }
          ],
          "contourcarpet": [
           {
            "colorbar": {
             "outlinewidth": 0,
             "ticks": ""
            },
            "type": "contourcarpet"
           }
          ],
          "heatmap": [
           {
            "colorbar": {
             "outlinewidth": 0,
             "ticks": ""
            },
            "colorscale": [
             [
              0,
              "#0d0887"
             ],
             [
              0.1111111111111111,
              "#46039f"
             ],
             [
              0.2222222222222222,
              "#7201a8"
             ],
             [
              0.3333333333333333,
              "#9c179e"
             ],
             [
              0.4444444444444444,
              "#bd3786"
             ],
             [
              0.5555555555555556,
              "#d8576b"
             ],
             [
              0.6666666666666666,
              "#ed7953"
             ],
             [
              0.7777777777777778,
              "#fb9f3a"
             ],
             [
              0.8888888888888888,
              "#fdca26"
             ],
             [
              1,
              "#f0f921"
             ]
            ],
            "type": "heatmap"
           }
          ],
          "heatmapgl": [
           {
            "colorbar": {
             "outlinewidth": 0,
             "ticks": ""
            },
            "colorscale": [
             [
              0,
              "#0d0887"
             ],
             [
              0.1111111111111111,
              "#46039f"
             ],
             [
              0.2222222222222222,
              "#7201a8"
             ],
             [
              0.3333333333333333,
              "#9c179e"
             ],
             [
              0.4444444444444444,
              "#bd3786"
             ],
             [
              0.5555555555555556,
              "#d8576b"
             ],
             [
              0.6666666666666666,
              "#ed7953"
             ],
             [
              0.7777777777777778,
              "#fb9f3a"
             ],
             [
              0.8888888888888888,
              "#fdca26"
             ],
             [
              1,
              "#f0f921"
             ]
            ],
            "type": "heatmapgl"
           }
          ],
          "histogram": [
           {
            "marker": {
             "pattern": {
              "fillmode": "overlay",
              "size": 10,
              "solidity": 0.2
             }
            },
            "type": "histogram"
           }
          ],
          "histogram2d": [
           {
            "colorbar": {
             "outlinewidth": 0,
             "ticks": ""
            },
            "colorscale": [
             [
              0,
              "#0d0887"
             ],
             [
              0.1111111111111111,
              "#46039f"
             ],
             [
              0.2222222222222222,
              "#7201a8"
             ],
             [
              0.3333333333333333,
              "#9c179e"
             ],
             [
              0.4444444444444444,
              "#bd3786"
             ],
             [
              0.5555555555555556,
              "#d8576b"
             ],
             [
              0.6666666666666666,
              "#ed7953"
             ],
             [
              0.7777777777777778,
              "#fb9f3a"
             ],
             [
              0.8888888888888888,
              "#fdca26"
             ],
             [
              1,
              "#f0f921"
             ]
            ],
            "type": "histogram2d"
           }
          ],
          "histogram2dcontour": [
           {
            "colorbar": {
             "outlinewidth": 0,
             "ticks": ""
            },
            "colorscale": [
             [
              0,
              "#0d0887"
             ],
             [
              0.1111111111111111,
              "#46039f"
             ],
             [
              0.2222222222222222,
              "#7201a8"
             ],
             [
              0.3333333333333333,
              "#9c179e"
             ],
             [
              0.4444444444444444,
              "#bd3786"
             ],
             [
              0.5555555555555556,
              "#d8576b"
             ],
             [
              0.6666666666666666,
              "#ed7953"
             ],
             [
              0.7777777777777778,
              "#fb9f3a"
             ],
             [
              0.8888888888888888,
              "#fdca26"
             ],
             [
              1,
              "#f0f921"
             ]
            ],
            "type": "histogram2dcontour"
           }
          ],
          "mesh3d": [
           {
            "colorbar": {
             "outlinewidth": 0,
             "ticks": ""
            },
            "type": "mesh3d"
           }
          ],
          "parcoords": [
           {
            "line": {
             "colorbar": {
              "outlinewidth": 0,
              "ticks": ""
             }
            },
            "type": "parcoords"
           }
          ],
          "pie": [
           {
            "automargin": true,
            "type": "pie"
           }
          ],
          "scatter": [
           {
            "fillpattern": {
             "fillmode": "overlay",
             "size": 10,
             "solidity": 0.2
            },
            "type": "scatter"
           }
          ],
          "scatter3d": [
           {
            "line": {
             "colorbar": {
              "outlinewidth": 0,
              "ticks": ""
             }
            },
            "marker": {
             "colorbar": {
              "outlinewidth": 0,
              "ticks": ""
             }
            },
            "type": "scatter3d"
           }
          ],
          "scattercarpet": [
           {
            "marker": {
             "colorbar": {
              "outlinewidth": 0,
              "ticks": ""
             }
            },
            "type": "scattercarpet"
           }
          ],
          "scattergeo": [
           {
            "marker": {
             "colorbar": {
              "outlinewidth": 0,
              "ticks": ""
             }
            },
            "type": "scattergeo"
           }
          ],
          "scattergl": [
           {
            "marker": {
             "colorbar": {
              "outlinewidth": 0,
              "ticks": ""
             }
            },
            "type": "scattergl"
           }
          ],
          "scattermapbox": [
           {
            "marker": {
             "colorbar": {
              "outlinewidth": 0,
              "ticks": ""
             }
            },
            "type": "scattermapbox"
           }
          ],
          "scatterpolar": [
           {
            "marker": {
             "colorbar": {
              "outlinewidth": 0,
              "ticks": ""
             }
            },
            "type": "scatterpolar"
           }
          ],
          "scatterpolargl": [
           {
            "marker": {
             "colorbar": {
              "outlinewidth": 0,
              "ticks": ""
             }
            },
            "type": "scatterpolargl"
           }
          ],
          "scatterternary": [
           {
            "marker": {
             "colorbar": {
              "outlinewidth": 0,
              "ticks": ""
             }
            },
            "type": "scatterternary"
           }
          ],
          "surface": [
           {
            "colorbar": {
             "outlinewidth": 0,
             "ticks": ""
            },
            "colorscale": [
             [
              0,
              "#0d0887"
             ],
             [
              0.1111111111111111,
              "#46039f"
             ],
             [
              0.2222222222222222,
              "#7201a8"
             ],
             [
              0.3333333333333333,
              "#9c179e"
             ],
             [
              0.4444444444444444,
              "#bd3786"
             ],
             [
              0.5555555555555556,
              "#d8576b"
             ],
             [
              0.6666666666666666,
              "#ed7953"
             ],
             [
              0.7777777777777778,
              "#fb9f3a"
             ],
             [
              0.8888888888888888,
              "#fdca26"
             ],
             [
              1,
              "#f0f921"
             ]
            ],
            "type": "surface"
           }
          ],
          "table": [
           {
            "cells": {
             "fill": {
              "color": "#EBF0F8"
             },
             "line": {
              "color": "white"
             }
            },
            "header": {
             "fill": {
              "color": "#C8D4E3"
             },
             "line": {
              "color": "white"
             }
            },
            "type": "table"
           }
          ]
         },
         "layout": {
          "annotationdefaults": {
           "arrowcolor": "#2a3f5f",
           "arrowhead": 0,
           "arrowwidth": 1
          },
          "autotypenumbers": "strict",
          "coloraxis": {
           "colorbar": {
            "outlinewidth": 0,
            "ticks": ""
           }
          },
          "colorscale": {
           "diverging": [
            [
             0,
             "#8e0152"
            ],
            [
             0.1,
             "#c51b7d"
            ],
            [
             0.2,
             "#de77ae"
            ],
            [
             0.3,
             "#f1b6da"
            ],
            [
             0.4,
             "#fde0ef"
            ],
            [
             0.5,
             "#f7f7f7"
            ],
            [
             0.6,
             "#e6f5d0"
            ],
            [
             0.7,
             "#b8e186"
            ],
            [
             0.8,
             "#7fbc41"
            ],
            [
             0.9,
             "#4d9221"
            ],
            [
             1,
             "#276419"
            ]
           ],
           "sequential": [
            [
             0,
             "#0d0887"
            ],
            [
             0.1111111111111111,
             "#46039f"
            ],
            [
             0.2222222222222222,
             "#7201a8"
            ],
            [
             0.3333333333333333,
             "#9c179e"
            ],
            [
             0.4444444444444444,
             "#bd3786"
            ],
            [
             0.5555555555555556,
             "#d8576b"
            ],
            [
             0.6666666666666666,
             "#ed7953"
            ],
            [
             0.7777777777777778,
             "#fb9f3a"
            ],
            [
             0.8888888888888888,
             "#fdca26"
            ],
            [
             1,
             "#f0f921"
            ]
           ],
           "sequentialminus": [
            [
             0,
             "#0d0887"
            ],
            [
             0.1111111111111111,
             "#46039f"
            ],
            [
             0.2222222222222222,
             "#7201a8"
            ],
            [
             0.3333333333333333,
             "#9c179e"
            ],
            [
             0.4444444444444444,
             "#bd3786"
            ],
            [
             0.5555555555555556,
             "#d8576b"
            ],
            [
             0.6666666666666666,
             "#ed7953"
            ],
            [
             0.7777777777777778,
             "#fb9f3a"
            ],
            [
             0.8888888888888888,
             "#fdca26"
            ],
            [
             1,
             "#f0f921"
            ]
           ]
          },
          "colorway": [
           "#636efa",
           "#EF553B",
           "#00cc96",
           "#ab63fa",
           "#FFA15A",
           "#19d3f3",
           "#FF6692",
           "#B6E880",
           "#FF97FF",
           "#FECB52"
          ],
          "font": {
           "color": "#2a3f5f"
          },
          "geo": {
           "bgcolor": "white",
           "lakecolor": "white",
           "landcolor": "#E5ECF6",
           "showlakes": true,
           "showland": true,
           "subunitcolor": "white"
          },
          "hoverlabel": {
           "align": "left"
          },
          "hovermode": "closest",
          "mapbox": {
           "style": "light"
          },
          "paper_bgcolor": "white",
          "plot_bgcolor": "#E5ECF6",
          "polar": {
           "angularaxis": {
            "gridcolor": "white",
            "linecolor": "white",
            "ticks": ""
           },
           "bgcolor": "#E5ECF6",
           "radialaxis": {
            "gridcolor": "white",
            "linecolor": "white",
            "ticks": ""
           }
          },
          "scene": {
           "xaxis": {
            "backgroundcolor": "#E5ECF6",
            "gridcolor": "white",
            "gridwidth": 2,
            "linecolor": "white",
            "showbackground": true,
            "ticks": "",
            "zerolinecolor": "white"
           },
           "yaxis": {
            "backgroundcolor": "#E5ECF6",
            "gridcolor": "white",
            "gridwidth": 2,
            "linecolor": "white",
            "showbackground": true,
            "ticks": "",
            "zerolinecolor": "white"
           },
           "zaxis": {
            "backgroundcolor": "#E5ECF6",
            "gridcolor": "white",
            "gridwidth": 2,
            "linecolor": "white",
            "showbackground": true,
            "ticks": "",
            "zerolinecolor": "white"
           }
          },
          "shapedefaults": {
           "line": {
            "color": "#2a3f5f"
           }
          },
          "ternary": {
           "aaxis": {
            "gridcolor": "white",
            "linecolor": "white",
            "ticks": ""
           },
           "baxis": {
            "gridcolor": "white",
            "linecolor": "white",
            "ticks": ""
           },
           "bgcolor": "#E5ECF6",
           "caxis": {
            "gridcolor": "white",
            "linecolor": "white",
            "ticks": ""
           }
          },
          "title": {
           "x": 0.05
          },
          "xaxis": {
           "automargin": true,
           "gridcolor": "white",
           "linecolor": "white",
           "ticks": "",
           "title": {
            "standoff": 15
           },
           "zerolinecolor": "white",
           "zerolinewidth": 2
          },
          "yaxis": {
           "automargin": true,
           "gridcolor": "white",
           "linecolor": "white",
           "ticks": "",
           "title": {
            "standoff": 15
           },
           "zerolinecolor": "white",
           "zerolinewidth": 2
          }
         }
        },
        "title": {
         "text": "Patient Activities from 2160 to 2170"
        },
        "xaxis": {
         "anchor": "y",
         "domain": [
          0,
          1
         ],
         "dtick": "M12",
         "tickformat": "%Y",
         "title": {
          "text": "Date"
         },
         "type": "date"
        },
        "yaxis": {
         "anchor": "x",
         "categoryorder": "total ascending",
         "domain": [
          0,
          1
         ],
         "title": {
          "text": "Patient ID"
         }
        }
       }
      }
     },
     "metadata": {},
     "output_type": "display_data"
    },
    {
     "data": {
      "application/vnd.plotly.v1+json": {
       "config": {
        "plotlyServerURL": "https://plot.ly"
       },
       "data": [
        {
         "alignmentgroup": "True",
         "base": [
          "2170-12-02T23:24:00",
          "2170-12-02T23:24:00",
          "2171-10-30T19:03:00",
          "2171-10-30T19:03:00",
          "2171-10-30T19:03:00",
          "2171-10-30T19:03:00",
          "2171-07-12T06:02:00",
          "2171-07-12T06:02:00",
          "2171-07-12T06:02:00",
          "2179-04-17T13:12:00",
          "2179-04-17T13:12:00",
          "2179-04-17T13:12:00",
          "2179-04-17T13:12:00",
          "2173-11-27T21:56:00",
          "2173-11-27T21:56:00",
          "2173-11-27T21:56:00",
          "2176-07-14T13:24:00",
          "2176-07-14T13:24:00",
          "2176-07-14T13:24:00",
          "2175-10-02T12:30:00",
          "2175-10-02T12:30:00",
          "2175-10-02T12:30:00",
          "2175-10-02T12:30:00",
          "2178-05-14T20:29:00",
          "2178-05-14T20:29:00",
          "2178-05-14T20:29:00",
          "2170-12-15T03:14:00",
          "2170-12-15T03:14:00",
          "2170-12-15T03:14:00",
          "2170-12-15T03:14:00"
         ],
         "hovertemplate": "Activity=Hospital Stay<br>Start=%{base}<br>End=%{x}<br>Patient ID=%{y}<extra></extra>",
         "legendgroup": "Hospital Stay",
         "marker": {
          "color": "#636efa",
          "pattern": {
           "shape": ""
          }
         },
         "name": "Hospital Stay",
         "offsetgroup": "Hospital Stay",
         "orientation": "h",
         "showlegend": true,
         "textposition": "auto",
         "type": "bar",
         "x": [
          59460000,
          59460000,
          590160000,
          590160000,
          590160000,
          590160000,
          3045480000,
          3045480000,
          3045480000,
          517380000,
          517380000,
          517380000,
          517380000,
          237240000,
          237240000,
          237240000,
          351360000,
          351360000,
          351360000,
          354600000,
          354600000,
          354600000,
          354600000,
          47760000,
          47760000,
          47760000,
          830760000,
          830760000,
          830760000,
          830760000
         ],
         "xaxis": "x",
         "y": [
          "10098",
          "10098",
          "10114",
          "10114",
          "10114",
          "10114",
          "10126",
          "10126",
          "10126",
          "43748",
          "43748",
          "43748",
          "43748",
          "43779",
          "43779",
          "43779",
          "43827",
          "43827",
          "43827",
          "43927",
          "43927",
          "43927",
          "43927",
          "44154",
          "44154",
          "44154",
          "44228",
          "44228",
          "44228",
          "44228"
         ],
         "yaxis": "y"
        },
        {
         "alignmentgroup": "True",
         "base": [
          "2170-12-02T23:24:59",
          "2170-12-03T17:39:43",
          "2171-10-30T19:03:00",
          "2171-11-04T12:39:00",
          "2171-11-05T12:15:00",
          "2171-11-06T14:59:00",
          "2171-07-12T06:03:04",
          "2171-07-12T16:13:00",
          "2171-08-17T01:58:23",
          "2179-04-17T13:13:40",
          "2179-04-20T17:50:08",
          "2179-04-21T19:08:55",
          "2179-04-23T12:56:10",
          "2173-11-27T21:57:39",
          "2173-11-28T15:48:33",
          "2173-11-30T15:56:42",
          "2176-07-14T13:25:36",
          "2176-07-16T23:06:00",
          "2176-07-18T15:11:55",
          "2175-10-02T00:40:40",
          "2175-10-02T10:45:01",
          "2175-10-03T18:19:00",
          "2175-10-06T16:56:08",
          "2178-05-14T20:29:55",
          "2178-05-14T21:32:08",
          "2178-05-15T11:31:12",
          "2170-12-15T03:15:39",
          "2170-12-15T04:41:39",
          "2170-12-19T19:33:09",
          "2170-12-24T17:59:13"
         ],
         "hovertemplate": "Activity=ICU Stay<br>Start=%{base}<br>End=%{x}<br>Patient ID=%{y}<extra></extra>",
         "legendgroup": "ICU Stay",
         "marker": {
          "color": "#EF553B",
          "pattern": {
           "shape": ""
          }
         },
         "name": "ICU Stay",
         "offsetgroup": "ICU Stay",
         "orientation": "h",
         "showlegend": true,
         "textposition": "auto",
         "type": "bar",
         "x": [
          65684000,
          null,
          408960000,
          84960000,
          96240000,
          null,
          36596000,
          3059123000,
          null,
          275788000,
          91127000,
          150435000,
          null,
          64254000,
          173289000,
          null,
          207624000,
          144355000,
          null,
          36261000,
          113639000,
          254228000,
          null,
          3733000,
          50344000,
          null,
          5160000,
          399090000,
          426364000,
          null
         ],
         "xaxis": "x",
         "y": [
          "10098",
          "10098",
          "10114",
          "10114",
          "10114",
          "10114",
          "10126",
          "10126",
          "10126",
          "43748",
          "43748",
          "43748",
          "43748",
          "43779",
          "43779",
          "43779",
          "43827",
          "43827",
          "43827",
          "43927",
          "43927",
          "43927",
          "43927",
          "44154",
          "44154",
          "44154",
          "44228",
          "44228",
          "44228",
          "44228"
         ],
         "yaxis": "y"
        }
       ],
       "layout": {
        "autosize": true,
        "barmode": "overlay",
        "legend": {
         "title": {
          "text": "Activity"
         },
         "tracegroupgap": 0
        },
        "template": {
         "data": {
          "bar": [
           {
            "error_x": {
             "color": "#2a3f5f"
            },
            "error_y": {
             "color": "#2a3f5f"
            },
            "marker": {
             "line": {
              "color": "#E5ECF6",
              "width": 0.5
             },
             "pattern": {
              "fillmode": "overlay",
              "size": 10,
              "solidity": 0.2
             }
            },
            "type": "bar"
           }
          ],
          "barpolar": [
           {
            "marker": {
             "line": {
              "color": "#E5ECF6",
              "width": 0.5
             },
             "pattern": {
              "fillmode": "overlay",
              "size": 10,
              "solidity": 0.2
             }
            },
            "type": "barpolar"
           }
          ],
          "carpet": [
           {
            "aaxis": {
             "endlinecolor": "#2a3f5f",
             "gridcolor": "white",
             "linecolor": "white",
             "minorgridcolor": "white",
             "startlinecolor": "#2a3f5f"
            },
            "baxis": {
             "endlinecolor": "#2a3f5f",
             "gridcolor": "white",
             "linecolor": "white",
             "minorgridcolor": "white",
             "startlinecolor": "#2a3f5f"
            },
            "type": "carpet"
           }
          ],
          "choropleth": [
           {
            "colorbar": {
             "outlinewidth": 0,
             "ticks": ""
            },
            "type": "choropleth"
           }
          ],
          "contour": [
           {
            "colorbar": {
             "outlinewidth": 0,
             "ticks": ""
            },
            "colorscale": [
             [
              0,
              "#0d0887"
             ],
             [
              0.1111111111111111,
              "#46039f"
             ],
             [
              0.2222222222222222,
              "#7201a8"
             ],
             [
              0.3333333333333333,
              "#9c179e"
             ],
             [
              0.4444444444444444,
              "#bd3786"
             ],
             [
              0.5555555555555556,
              "#d8576b"
             ],
             [
              0.6666666666666666,
              "#ed7953"
             ],
             [
              0.7777777777777778,
              "#fb9f3a"
             ],
             [
              0.8888888888888888,
              "#fdca26"
             ],
             [
              1,
              "#f0f921"
             ]
            ],
            "type": "contour"
           }
          ],
          "contourcarpet": [
           {
            "colorbar": {
             "outlinewidth": 0,
             "ticks": ""
            },
            "type": "contourcarpet"
           }
          ],
          "heatmap": [
           {
            "colorbar": {
             "outlinewidth": 0,
             "ticks": ""
            },
            "colorscale": [
             [
              0,
              "#0d0887"
             ],
             [
              0.1111111111111111,
              "#46039f"
             ],
             [
              0.2222222222222222,
              "#7201a8"
             ],
             [
              0.3333333333333333,
              "#9c179e"
             ],
             [
              0.4444444444444444,
              "#bd3786"
             ],
             [
              0.5555555555555556,
              "#d8576b"
             ],
             [
              0.6666666666666666,
              "#ed7953"
             ],
             [
              0.7777777777777778,
              "#fb9f3a"
             ],
             [
              0.8888888888888888,
              "#fdca26"
             ],
             [
              1,
              "#f0f921"
             ]
            ],
            "type": "heatmap"
           }
          ],
          "heatmapgl": [
           {
            "colorbar": {
             "outlinewidth": 0,
             "ticks": ""
            },
            "colorscale": [
             [
              0,
              "#0d0887"
             ],
             [
              0.1111111111111111,
              "#46039f"
             ],
             [
              0.2222222222222222,
              "#7201a8"
             ],
             [
              0.3333333333333333,
              "#9c179e"
             ],
             [
              0.4444444444444444,
              "#bd3786"
             ],
             [
              0.5555555555555556,
              "#d8576b"
             ],
             [
              0.6666666666666666,
              "#ed7953"
             ],
             [
              0.7777777777777778,
              "#fb9f3a"
             ],
             [
              0.8888888888888888,
              "#fdca26"
             ],
             [
              1,
              "#f0f921"
             ]
            ],
            "type": "heatmapgl"
           }
          ],
          "histogram": [
           {
            "marker": {
             "pattern": {
              "fillmode": "overlay",
              "size": 10,
              "solidity": 0.2
             }
            },
            "type": "histogram"
           }
          ],
          "histogram2d": [
           {
            "colorbar": {
             "outlinewidth": 0,
             "ticks": ""
            },
            "colorscale": [
             [
              0,
              "#0d0887"
             ],
             [
              0.1111111111111111,
              "#46039f"
             ],
             [
              0.2222222222222222,
              "#7201a8"
             ],
             [
              0.3333333333333333,
              "#9c179e"
             ],
             [
              0.4444444444444444,
              "#bd3786"
             ],
             [
              0.5555555555555556,
              "#d8576b"
             ],
             [
              0.6666666666666666,
              "#ed7953"
             ],
             [
              0.7777777777777778,
              "#fb9f3a"
             ],
             [
              0.8888888888888888,
              "#fdca26"
             ],
             [
              1,
              "#f0f921"
             ]
            ],
            "type": "histogram2d"
           }
          ],
          "histogram2dcontour": [
           {
            "colorbar": {
             "outlinewidth": 0,
             "ticks": ""
            },
            "colorscale": [
             [
              0,
              "#0d0887"
             ],
             [
              0.1111111111111111,
              "#46039f"
             ],
             [
              0.2222222222222222,
              "#7201a8"
             ],
             [
              0.3333333333333333,
              "#9c179e"
             ],
             [
              0.4444444444444444,
              "#bd3786"
             ],
             [
              0.5555555555555556,
              "#d8576b"
             ],
             [
              0.6666666666666666,
              "#ed7953"
             ],
             [
              0.7777777777777778,
              "#fb9f3a"
             ],
             [
              0.8888888888888888,
              "#fdca26"
             ],
             [
              1,
              "#f0f921"
             ]
            ],
            "type": "histogram2dcontour"
           }
          ],
          "mesh3d": [
           {
            "colorbar": {
             "outlinewidth": 0,
             "ticks": ""
            },
            "type": "mesh3d"
           }
          ],
          "parcoords": [
           {
            "line": {
             "colorbar": {
              "outlinewidth": 0,
              "ticks": ""
             }
            },
            "type": "parcoords"
           }
          ],
          "pie": [
           {
            "automargin": true,
            "type": "pie"
           }
          ],
          "scatter": [
           {
            "fillpattern": {
             "fillmode": "overlay",
             "size": 10,
             "solidity": 0.2
            },
            "type": "scatter"
           }
          ],
          "scatter3d": [
           {
            "line": {
             "colorbar": {
              "outlinewidth": 0,
              "ticks": ""
             }
            },
            "marker": {
             "colorbar": {
              "outlinewidth": 0,
              "ticks": ""
             }
            },
            "type": "scatter3d"
           }
          ],
          "scattercarpet": [
           {
            "marker": {
             "colorbar": {
              "outlinewidth": 0,
              "ticks": ""
             }
            },
            "type": "scattercarpet"
           }
          ],
          "scattergeo": [
           {
            "marker": {
             "colorbar": {
              "outlinewidth": 0,
              "ticks": ""
             }
            },
            "type": "scattergeo"
           }
          ],
          "scattergl": [
           {
            "marker": {
             "colorbar": {
              "outlinewidth": 0,
              "ticks": ""
             }
            },
            "type": "scattergl"
           }
          ],
          "scattermapbox": [
           {
            "marker": {
             "colorbar": {
              "outlinewidth": 0,
              "ticks": ""
             }
            },
            "type": "scattermapbox"
           }
          ],
          "scatterpolar": [
           {
            "marker": {
             "colorbar": {
              "outlinewidth": 0,
              "ticks": ""
             }
            },
            "type": "scatterpolar"
           }
          ],
          "scatterpolargl": [
           {
            "marker": {
             "colorbar": {
              "outlinewidth": 0,
              "ticks": ""
             }
            },
            "type": "scatterpolargl"
           }
          ],
          "scatterternary": [
           {
            "marker": {
             "colorbar": {
              "outlinewidth": 0,
              "ticks": ""
             }
            },
            "type": "scatterternary"
           }
          ],
          "surface": [
           {
            "colorbar": {
             "outlinewidth": 0,
             "ticks": ""
            },
            "colorscale": [
             [
              0,
              "#0d0887"
             ],
             [
              0.1111111111111111,
              "#46039f"
             ],
             [
              0.2222222222222222,
              "#7201a8"
             ],
             [
              0.3333333333333333,
              "#9c179e"
             ],
             [
              0.4444444444444444,
              "#bd3786"
             ],
             [
              0.5555555555555556,
              "#d8576b"
             ],
             [
              0.6666666666666666,
              "#ed7953"
             ],
             [
              0.7777777777777778,
              "#fb9f3a"
             ],
             [
              0.8888888888888888,
              "#fdca26"
             ],
             [
              1,
              "#f0f921"
             ]
            ],
            "type": "surface"
           }
          ],
          "table": [
           {
            "cells": {
             "fill": {
              "color": "#EBF0F8"
             },
             "line": {
              "color": "white"
             }
            },
            "header": {
             "fill": {
              "color": "#C8D4E3"
             },
             "line": {
              "color": "white"
             }
            },
            "type": "table"
           }
          ]
         },
         "layout": {
          "annotationdefaults": {
           "arrowcolor": "#2a3f5f",
           "arrowhead": 0,
           "arrowwidth": 1
          },
          "autotypenumbers": "strict",
          "coloraxis": {
           "colorbar": {
            "outlinewidth": 0,
            "ticks": ""
           }
          },
          "colorscale": {
           "diverging": [
            [
             0,
             "#8e0152"
            ],
            [
             0.1,
             "#c51b7d"
            ],
            [
             0.2,
             "#de77ae"
            ],
            [
             0.3,
             "#f1b6da"
            ],
            [
             0.4,
             "#fde0ef"
            ],
            [
             0.5,
             "#f7f7f7"
            ],
            [
             0.6,
             "#e6f5d0"
            ],
            [
             0.7,
             "#b8e186"
            ],
            [
             0.8,
             "#7fbc41"
            ],
            [
             0.9,
             "#4d9221"
            ],
            [
             1,
             "#276419"
            ]
           ],
           "sequential": [
            [
             0,
             "#0d0887"
            ],
            [
             0.1111111111111111,
             "#46039f"
            ],
            [
             0.2222222222222222,
             "#7201a8"
            ],
            [
             0.3333333333333333,
             "#9c179e"
            ],
            [
             0.4444444444444444,
             "#bd3786"
            ],
            [
             0.5555555555555556,
             "#d8576b"
            ],
            [
             0.6666666666666666,
             "#ed7953"
            ],
            [
             0.7777777777777778,
             "#fb9f3a"
            ],
            [
             0.8888888888888888,
             "#fdca26"
            ],
            [
             1,
             "#f0f921"
            ]
           ],
           "sequentialminus": [
            [
             0,
             "#0d0887"
            ],
            [
             0.1111111111111111,
             "#46039f"
            ],
            [
             0.2222222222222222,
             "#7201a8"
            ],
            [
             0.3333333333333333,
             "#9c179e"
            ],
            [
             0.4444444444444444,
             "#bd3786"
            ],
            [
             0.5555555555555556,
             "#d8576b"
            ],
            [
             0.6666666666666666,
             "#ed7953"
            ],
            [
             0.7777777777777778,
             "#fb9f3a"
            ],
            [
             0.8888888888888888,
             "#fdca26"
            ],
            [
             1,
             "#f0f921"
            ]
           ]
          },
          "colorway": [
           "#636efa",
           "#EF553B",
           "#00cc96",
           "#ab63fa",
           "#FFA15A",
           "#19d3f3",
           "#FF6692",
           "#B6E880",
           "#FF97FF",
           "#FECB52"
          ],
          "font": {
           "color": "#2a3f5f"
          },
          "geo": {
           "bgcolor": "white",
           "lakecolor": "white",
           "landcolor": "#E5ECF6",
           "showlakes": true,
           "showland": true,
           "subunitcolor": "white"
          },
          "hoverlabel": {
           "align": "left"
          },
          "hovermode": "closest",
          "mapbox": {
           "style": "light"
          },
          "paper_bgcolor": "white",
          "plot_bgcolor": "#E5ECF6",
          "polar": {
           "angularaxis": {
            "gridcolor": "white",
            "linecolor": "white",
            "ticks": ""
           },
           "bgcolor": "#E5ECF6",
           "radialaxis": {
            "gridcolor": "white",
            "linecolor": "white",
            "ticks": ""
           }
          },
          "scene": {
           "xaxis": {
            "backgroundcolor": "#E5ECF6",
            "gridcolor": "white",
            "gridwidth": 2,
            "linecolor": "white",
            "showbackground": true,
            "ticks": "",
            "zerolinecolor": "white"
           },
           "yaxis": {
            "backgroundcolor": "#E5ECF6",
            "gridcolor": "white",
            "gridwidth": 2,
            "linecolor": "white",
            "showbackground": true,
            "ticks": "",
            "zerolinecolor": "white"
           },
           "zaxis": {
            "backgroundcolor": "#E5ECF6",
            "gridcolor": "white",
            "gridwidth": 2,
            "linecolor": "white",
            "showbackground": true,
            "ticks": "",
            "zerolinecolor": "white"
           }
          },
          "shapedefaults": {
           "line": {
            "color": "#2a3f5f"
           }
          },
          "ternary": {
           "aaxis": {
            "gridcolor": "white",
            "linecolor": "white",
            "ticks": ""
           },
           "baxis": {
            "gridcolor": "white",
            "linecolor": "white",
            "ticks": ""
           },
           "bgcolor": "#E5ECF6",
           "caxis": {
            "gridcolor": "white",
            "linecolor": "white",
            "ticks": ""
           }
          },
          "title": {
           "x": 0.05
          },
          "xaxis": {
           "automargin": true,
           "gridcolor": "white",
           "linecolor": "white",
           "ticks": "",
           "title": {
            "standoff": 15
           },
           "zerolinecolor": "white",
           "zerolinewidth": 2
          },
          "yaxis": {
           "automargin": true,
           "gridcolor": "white",
           "linecolor": "white",
           "ticks": "",
           "title": {
            "standoff": 15
           },
           "zerolinecolor": "white",
           "zerolinewidth": 2
          }
         }
        },
        "title": {
         "text": "Patient Activities from 2170 to 2180"
        },
        "xaxis": {
         "anchor": "y",
         "domain": [
          0,
          1
         ],
         "dtick": "M12",
         "tickformat": "%Y",
         "title": {
          "text": "Date"
         },
         "type": "date"
        },
        "yaxis": {
         "anchor": "x",
         "categoryorder": "total ascending",
         "domain": [
          0,
          1
         ],
         "title": {
          "text": "Patient ID"
         }
        }
       }
      }
     },
     "metadata": {},
     "output_type": "display_data"
    },
    {
     "data": {
      "application/vnd.plotly.v1+json": {
       "config": {
        "plotlyServerURL": "https://plot.ly"
       },
       "data": [
        {
         "alignmentgroup": "True",
         "base": [
          "2185-03-24T16:56:00",
          "2185-03-24T16:56:00",
          "2185-04-14T00:23:00",
          "2185-04-14T00:23:00",
          "2185-04-14T00:23:00",
          "2185-04-14T00:23:00",
          "2189-09-08T07:15:00",
          "2189-09-08T07:15:00",
          "2189-09-08T07:15:00",
          "2189-09-08T07:15:00",
          "2189-09-08T07:15:00",
          "2188-02-08T11:15:00",
          "2188-02-08T11:15:00",
          "2188-02-08T11:15:00",
          "2188-02-08T11:15:00",
          "2188-02-08T11:15:00",
          "2188-02-08T11:15:00",
          "2180-03-15T22:35:00",
          "2180-03-15T22:35:00",
          "2180-03-15T22:35:00",
          "2180-03-15T22:35:00",
          "2180-02-29T18:54:00",
          "2180-02-29T18:54:00",
          "2180-02-29T18:54:00",
          "2180-02-29T18:54:00",
          "2180-01-14T18:42:00",
          "2180-01-14T18:42:00",
          "2180-01-14T18:42:00",
          "2180-01-14T18:42:00",
          "2186-07-06T19:59:00",
          "2186-07-06T19:59:00",
          "2184-08-04T05:44:00",
          "2184-08-04T05:44:00",
          "2184-08-04T05:44:00",
          "2184-08-04T05:44:00",
          "2186-02-09T21:32:00",
          "2186-02-09T21:32:00",
          "2186-02-09T21:32:00",
          "2186-02-09T21:32:00",
          "2186-02-09T21:32:00",
          "2186-02-09T21:32:00",
          "2180-07-19T06:55:00",
          "2180-07-19T06:55:00"
         ],
         "hovertemplate": "Activity=Hospital Stay<br>Start=%{base}<br>End=%{x}<br>Patient ID=%{y}<extra></extra>",
         "legendgroup": "Hospital Stay",
         "marker": {
          "color": "#636efa",
          "pattern": {
           "shape": ""
          }
         },
         "name": "Hospital Stay",
         "offsetgroup": "Hospital Stay",
         "orientation": "h",
         "showlegend": true,
         "textposition": "auto",
         "type": "bar",
         "x": [
          145140000,
          145140000,
          1101420000,
          1101420000,
          1101420000,
          1101420000,
          1061100000,
          1061100000,
          1061100000,
          1061100000,
          1061100000,
          1668360000,
          1668360000,
          1668360000,
          1668360000,
          1668360000,
          1668360000,
          415500000,
          415500000,
          415500000,
          415500000,
          859260000,
          859260000,
          859260000,
          859260000,
          1550100000,
          1550100000,
          1550100000,
          1550100000,
          82860000,
          82860000,
          553560000,
          553560000,
          553560000,
          553560000,
          182100000,
          182100000,
          182100000,
          182100000,
          182100000,
          182100000,
          108300000,
          108300000
         ],
         "xaxis": "x",
         "y": [
          "10036",
          "10036",
          "10043",
          "10043",
          "10043",
          "10043",
          "10065",
          "10065",
          "10065",
          "10065",
          "10065",
          "10069",
          "10069",
          "10069",
          "10069",
          "10069",
          "10069",
          "10094",
          "10094",
          "10094",
          "10094",
          "10094",
          "10094",
          "10094",
          "10094",
          "10111",
          "10111",
          "10111",
          "10111",
          "40503",
          "40503",
          "40601",
          "40601",
          "40601",
          "40601",
          "43870",
          "43870",
          "43870",
          "43870",
          "43870",
          "43870",
          "44222",
          "44222"
         ],
         "yaxis": "y"
        },
        {
         "alignmentgroup": "True",
         "base": [
          "2185-03-24T16:57:05",
          "2185-03-26T12:18:56",
          "2185-04-14T00:23:56",
          "2185-04-16T00:44:18",
          "2185-04-24T11:34:56",
          "2185-04-26T18:19:42",
          "2189-09-08T00:59:36",
          "2189-09-08T10:00:31",
          "2189-09-09T17:53:17",
          "2189-09-10T16:09:05",
          "2189-09-20T17:07:59",
          "2188-02-08T11:16:00",
          "2188-02-08T14:50:00",
          "2188-02-09T11:38:00",
          "2188-02-09T11:39:00",
          "2188-02-12T17:42:00",
          "2188-02-27T18:41:00",
          "2180-03-15T22:35:30",
          "2180-03-19T21:54:00",
          "2180-03-19T21:56:08",
          "2180-03-20T19:34:49",
          "2180-02-29T18:54:39",
          "2180-02-29T19:21:49",
          "2180-03-04T21:20:36",
          "2180-03-10T17:37:56",
          "2180-01-14T18:44:02",
          "2180-01-19T14:56:01",
          "2180-01-21T15:34:34",
          "2180-02-01T17:17:23",
          "2186-07-06T19:59:36",
          "2186-07-07T20:48:07",
          "2184-08-04T05:45:07",
          "2184-08-06T17:26:43",
          "2184-08-06T17:30:50",
          "2184-08-10T15:54:06",
          "2186-02-09T21:33:54",
          "2186-02-10T14:21:13",
          "2186-02-10T15:28:30",
          "2186-02-10T15:29:05",
          "2186-02-11T04:39:52",
          "2186-02-12T04:20:06",
          "2180-07-19T06:56:38",
          "2180-07-20T14:48:45"
         ],
         "hovertemplate": "Activity=ICU Stay<br>Start=%{base}<br>End=%{x}<br>Patient ID=%{y}<extra></extra>",
         "legendgroup": "ICU Stay",
         "marker": {
          "color": "#EF553B",
          "pattern": {
           "shape": ""
          }
         },
         "name": "ICU Stay",
         "offsetgroup": "ICU Stay",
         "orientation": "h",
         "showlegend": true,
         "textposition": "auto",
         "type": "bar",
         "x": [
          156111000,
          null,
          174022000,
          730238000,
          197086000,
          null,
          32455000,
          114766000,
          80148000,
          867534000,
          null,
          12840000,
          74880000,
          60000,
          280980000,
          1299540000,
          null,
          343110000,
          128000,
          77921000,
          null,
          1630000,
          352727000,
          505040000,
          null,
          418319000,
          175113000,
          956569000,
          null,
          89311000,
          null,
          214896000,
          247000,
          339796000,
          null,
          60439000,
          4037000,
          35000,
          47447000,
          85214000,
          null,
          114727000,
          null
         ],
         "xaxis": "x",
         "y": [
          "10036",
          "10036",
          "10043",
          "10043",
          "10043",
          "10043",
          "10065",
          "10065",
          "10065",
          "10065",
          "10065",
          "10069",
          "10069",
          "10069",
          "10069",
          "10069",
          "10069",
          "10094",
          "10094",
          "10094",
          "10094",
          "10094",
          "10094",
          "10094",
          "10094",
          "10111",
          "10111",
          "10111",
          "10111",
          "40503",
          "40503",
          "40601",
          "40601",
          "40601",
          "40601",
          "43870",
          "43870",
          "43870",
          "43870",
          "43870",
          "43870",
          "44222",
          "44222"
         ],
         "yaxis": "y"
        }
       ],
       "layout": {
        "autosize": true,
        "barmode": "overlay",
        "legend": {
         "title": {
          "text": "Activity"
         },
         "tracegroupgap": 0
        },
        "template": {
         "data": {
          "bar": [
           {
            "error_x": {
             "color": "#2a3f5f"
            },
            "error_y": {
             "color": "#2a3f5f"
            },
            "marker": {
             "line": {
              "color": "#E5ECF6",
              "width": 0.5
             },
             "pattern": {
              "fillmode": "overlay",
              "size": 10,
              "solidity": 0.2
             }
            },
            "type": "bar"
           }
          ],
          "barpolar": [
           {
            "marker": {
             "line": {
              "color": "#E5ECF6",
              "width": 0.5
             },
             "pattern": {
              "fillmode": "overlay",
              "size": 10,
              "solidity": 0.2
             }
            },
            "type": "barpolar"
           }
          ],
          "carpet": [
           {
            "aaxis": {
             "endlinecolor": "#2a3f5f",
             "gridcolor": "white",
             "linecolor": "white",
             "minorgridcolor": "white",
             "startlinecolor": "#2a3f5f"
            },
            "baxis": {
             "endlinecolor": "#2a3f5f",
             "gridcolor": "white",
             "linecolor": "white",
             "minorgridcolor": "white",
             "startlinecolor": "#2a3f5f"
            },
            "type": "carpet"
           }
          ],
          "choropleth": [
           {
            "colorbar": {
             "outlinewidth": 0,
             "ticks": ""
            },
            "type": "choropleth"
           }
          ],
          "contour": [
           {
            "colorbar": {
             "outlinewidth": 0,
             "ticks": ""
            },
            "colorscale": [
             [
              0,
              "#0d0887"
             ],
             [
              0.1111111111111111,
              "#46039f"
             ],
             [
              0.2222222222222222,
              "#7201a8"
             ],
             [
              0.3333333333333333,
              "#9c179e"
             ],
             [
              0.4444444444444444,
              "#bd3786"
             ],
             [
              0.5555555555555556,
              "#d8576b"
             ],
             [
              0.6666666666666666,
              "#ed7953"
             ],
             [
              0.7777777777777778,
              "#fb9f3a"
             ],
             [
              0.8888888888888888,
              "#fdca26"
             ],
             [
              1,
              "#f0f921"
             ]
            ],
            "type": "contour"
           }
          ],
          "contourcarpet": [
           {
            "colorbar": {
             "outlinewidth": 0,
             "ticks": ""
            },
            "type": "contourcarpet"
           }
          ],
          "heatmap": [
           {
            "colorbar": {
             "outlinewidth": 0,
             "ticks": ""
            },
            "colorscale": [
             [
              0,
              "#0d0887"
             ],
             [
              0.1111111111111111,
              "#46039f"
             ],
             [
              0.2222222222222222,
              "#7201a8"
             ],
             [
              0.3333333333333333,
              "#9c179e"
             ],
             [
              0.4444444444444444,
              "#bd3786"
             ],
             [
              0.5555555555555556,
              "#d8576b"
             ],
             [
              0.6666666666666666,
              "#ed7953"
             ],
             [
              0.7777777777777778,
              "#fb9f3a"
             ],
             [
              0.8888888888888888,
              "#fdca26"
             ],
             [
              1,
              "#f0f921"
             ]
            ],
            "type": "heatmap"
           }
          ],
          "heatmapgl": [
           {
            "colorbar": {
             "outlinewidth": 0,
             "ticks": ""
            },
            "colorscale": [
             [
              0,
              "#0d0887"
             ],
             [
              0.1111111111111111,
              "#46039f"
             ],
             [
              0.2222222222222222,
              "#7201a8"
             ],
             [
              0.3333333333333333,
              "#9c179e"
             ],
             [
              0.4444444444444444,
              "#bd3786"
             ],
             [
              0.5555555555555556,
              "#d8576b"
             ],
             [
              0.6666666666666666,
              "#ed7953"
             ],
             [
              0.7777777777777778,
              "#fb9f3a"
             ],
             [
              0.8888888888888888,
              "#fdca26"
             ],
             [
              1,
              "#f0f921"
             ]
            ],
            "type": "heatmapgl"
           }
          ],
          "histogram": [
           {
            "marker": {
             "pattern": {
              "fillmode": "overlay",
              "size": 10,
              "solidity": 0.2
             }
            },
            "type": "histogram"
           }
          ],
          "histogram2d": [
           {
            "colorbar": {
             "outlinewidth": 0,
             "ticks": ""
            },
            "colorscale": [
             [
              0,
              "#0d0887"
             ],
             [
              0.1111111111111111,
              "#46039f"
             ],
             [
              0.2222222222222222,
              "#7201a8"
             ],
             [
              0.3333333333333333,
              "#9c179e"
             ],
             [
              0.4444444444444444,
              "#bd3786"
             ],
             [
              0.5555555555555556,
              "#d8576b"
             ],
             [
              0.6666666666666666,
              "#ed7953"
             ],
             [
              0.7777777777777778,
              "#fb9f3a"
             ],
             [
              0.8888888888888888,
              "#fdca26"
             ],
             [
              1,
              "#f0f921"
             ]
            ],
            "type": "histogram2d"
           }
          ],
          "histogram2dcontour": [
           {
            "colorbar": {
             "outlinewidth": 0,
             "ticks": ""
            },
            "colorscale": [
             [
              0,
              "#0d0887"
             ],
             [
              0.1111111111111111,
              "#46039f"
             ],
             [
              0.2222222222222222,
              "#7201a8"
             ],
             [
              0.3333333333333333,
              "#9c179e"
             ],
             [
              0.4444444444444444,
              "#bd3786"
             ],
             [
              0.5555555555555556,
              "#d8576b"
             ],
             [
              0.6666666666666666,
              "#ed7953"
             ],
             [
              0.7777777777777778,
              "#fb9f3a"
             ],
             [
              0.8888888888888888,
              "#fdca26"
             ],
             [
              1,
              "#f0f921"
             ]
            ],
            "type": "histogram2dcontour"
           }
          ],
          "mesh3d": [
           {
            "colorbar": {
             "outlinewidth": 0,
             "ticks": ""
            },
            "type": "mesh3d"
           }
          ],
          "parcoords": [
           {
            "line": {
             "colorbar": {
              "outlinewidth": 0,
              "ticks": ""
             }
            },
            "type": "parcoords"
           }
          ],
          "pie": [
           {
            "automargin": true,
            "type": "pie"
           }
          ],
          "scatter": [
           {
            "fillpattern": {
             "fillmode": "overlay",
             "size": 10,
             "solidity": 0.2
            },
            "type": "scatter"
           }
          ],
          "scatter3d": [
           {
            "line": {
             "colorbar": {
              "outlinewidth": 0,
              "ticks": ""
             }
            },
            "marker": {
             "colorbar": {
              "outlinewidth": 0,
              "ticks": ""
             }
            },
            "type": "scatter3d"
           }
          ],
          "scattercarpet": [
           {
            "marker": {
             "colorbar": {
              "outlinewidth": 0,
              "ticks": ""
             }
            },
            "type": "scattercarpet"
           }
          ],
          "scattergeo": [
           {
            "marker": {
             "colorbar": {
              "outlinewidth": 0,
              "ticks": ""
             }
            },
            "type": "scattergeo"
           }
          ],
          "scattergl": [
           {
            "marker": {
             "colorbar": {
              "outlinewidth": 0,
              "ticks": ""
             }
            },
            "type": "scattergl"
           }
          ],
          "scattermapbox": [
           {
            "marker": {
             "colorbar": {
              "outlinewidth": 0,
              "ticks": ""
             }
            },
            "type": "scattermapbox"
           }
          ],
          "scatterpolar": [
           {
            "marker": {
             "colorbar": {
              "outlinewidth": 0,
              "ticks": ""
             }
            },
            "type": "scatterpolar"
           }
          ],
          "scatterpolargl": [
           {
            "marker": {
             "colorbar": {
              "outlinewidth": 0,
              "ticks": ""
             }
            },
            "type": "scatterpolargl"
           }
          ],
          "scatterternary": [
           {
            "marker": {
             "colorbar": {
              "outlinewidth": 0,
              "ticks": ""
             }
            },
            "type": "scatterternary"
           }
          ],
          "surface": [
           {
            "colorbar": {
             "outlinewidth": 0,
             "ticks": ""
            },
            "colorscale": [
             [
              0,
              "#0d0887"
             ],
             [
              0.1111111111111111,
              "#46039f"
             ],
             [
              0.2222222222222222,
              "#7201a8"
             ],
             [
              0.3333333333333333,
              "#9c179e"
             ],
             [
              0.4444444444444444,
              "#bd3786"
             ],
             [
              0.5555555555555556,
              "#d8576b"
             ],
             [
              0.6666666666666666,
              "#ed7953"
             ],
             [
              0.7777777777777778,
              "#fb9f3a"
             ],
             [
              0.8888888888888888,
              "#fdca26"
             ],
             [
              1,
              "#f0f921"
             ]
            ],
            "type": "surface"
           }
          ],
          "table": [
           {
            "cells": {
             "fill": {
              "color": "#EBF0F8"
             },
             "line": {
              "color": "white"
             }
            },
            "header": {
             "fill": {
              "color": "#C8D4E3"
             },
             "line": {
              "color": "white"
             }
            },
            "type": "table"
           }
          ]
         },
         "layout": {
          "annotationdefaults": {
           "arrowcolor": "#2a3f5f",
           "arrowhead": 0,
           "arrowwidth": 1
          },
          "autotypenumbers": "strict",
          "coloraxis": {
           "colorbar": {
            "outlinewidth": 0,
            "ticks": ""
           }
          },
          "colorscale": {
           "diverging": [
            [
             0,
             "#8e0152"
            ],
            [
             0.1,
             "#c51b7d"
            ],
            [
             0.2,
             "#de77ae"
            ],
            [
             0.3,
             "#f1b6da"
            ],
            [
             0.4,
             "#fde0ef"
            ],
            [
             0.5,
             "#f7f7f7"
            ],
            [
             0.6,
             "#e6f5d0"
            ],
            [
             0.7,
             "#b8e186"
            ],
            [
             0.8,
             "#7fbc41"
            ],
            [
             0.9,
             "#4d9221"
            ],
            [
             1,
             "#276419"
            ]
           ],
           "sequential": [
            [
             0,
             "#0d0887"
            ],
            [
             0.1111111111111111,
             "#46039f"
            ],
            [
             0.2222222222222222,
             "#7201a8"
            ],
            [
             0.3333333333333333,
             "#9c179e"
            ],
            [
             0.4444444444444444,
             "#bd3786"
            ],
            [
             0.5555555555555556,
             "#d8576b"
            ],
            [
             0.6666666666666666,
             "#ed7953"
            ],
            [
             0.7777777777777778,
             "#fb9f3a"
            ],
            [
             0.8888888888888888,
             "#fdca26"
            ],
            [
             1,
             "#f0f921"
            ]
           ],
           "sequentialminus": [
            [
             0,
             "#0d0887"
            ],
            [
             0.1111111111111111,
             "#46039f"
            ],
            [
             0.2222222222222222,
             "#7201a8"
            ],
            [
             0.3333333333333333,
             "#9c179e"
            ],
            [
             0.4444444444444444,
             "#bd3786"
            ],
            [
             0.5555555555555556,
             "#d8576b"
            ],
            [
             0.6666666666666666,
             "#ed7953"
            ],
            [
             0.7777777777777778,
             "#fb9f3a"
            ],
            [
             0.8888888888888888,
             "#fdca26"
            ],
            [
             1,
             "#f0f921"
            ]
           ]
          },
          "colorway": [
           "#636efa",
           "#EF553B",
           "#00cc96",
           "#ab63fa",
           "#FFA15A",
           "#19d3f3",
           "#FF6692",
           "#B6E880",
           "#FF97FF",
           "#FECB52"
          ],
          "font": {
           "color": "#2a3f5f"
          },
          "geo": {
           "bgcolor": "white",
           "lakecolor": "white",
           "landcolor": "#E5ECF6",
           "showlakes": true,
           "showland": true,
           "subunitcolor": "white"
          },
          "hoverlabel": {
           "align": "left"
          },
          "hovermode": "closest",
          "mapbox": {
           "style": "light"
          },
          "paper_bgcolor": "white",
          "plot_bgcolor": "#E5ECF6",
          "polar": {
           "angularaxis": {
            "gridcolor": "white",
            "linecolor": "white",
            "ticks": ""
           },
           "bgcolor": "#E5ECF6",
           "radialaxis": {
            "gridcolor": "white",
            "linecolor": "white",
            "ticks": ""
           }
          },
          "scene": {
           "xaxis": {
            "backgroundcolor": "#E5ECF6",
            "gridcolor": "white",
            "gridwidth": 2,
            "linecolor": "white",
            "showbackground": true,
            "ticks": "",
            "zerolinecolor": "white"
           },
           "yaxis": {
            "backgroundcolor": "#E5ECF6",
            "gridcolor": "white",
            "gridwidth": 2,
            "linecolor": "white",
            "showbackground": true,
            "ticks": "",
            "zerolinecolor": "white"
           },
           "zaxis": {
            "backgroundcolor": "#E5ECF6",
            "gridcolor": "white",
            "gridwidth": 2,
            "linecolor": "white",
            "showbackground": true,
            "ticks": "",
            "zerolinecolor": "white"
           }
          },
          "shapedefaults": {
           "line": {
            "color": "#2a3f5f"
           }
          },
          "ternary": {
           "aaxis": {
            "gridcolor": "white",
            "linecolor": "white",
            "ticks": ""
           },
           "baxis": {
            "gridcolor": "white",
            "linecolor": "white",
            "ticks": ""
           },
           "bgcolor": "#E5ECF6",
           "caxis": {
            "gridcolor": "white",
            "linecolor": "white",
            "ticks": ""
           }
          },
          "title": {
           "x": 0.05
          },
          "xaxis": {
           "automargin": true,
           "gridcolor": "white",
           "linecolor": "white",
           "ticks": "",
           "title": {
            "standoff": 15
           },
           "zerolinecolor": "white",
           "zerolinewidth": 2
          },
          "yaxis": {
           "automargin": true,
           "gridcolor": "white",
           "linecolor": "white",
           "ticks": "",
           "title": {
            "standoff": 15
           },
           "zerolinecolor": "white",
           "zerolinewidth": 2
          }
         }
        },
        "title": {
         "text": "Patient Activities from 2180 to 2190"
        },
        "xaxis": {
         "anchor": "y",
         "domain": [
          0,
          1
         ],
         "dtick": "M12",
         "tickformat": "%Y",
         "title": {
          "text": "Date"
         },
         "type": "date"
        },
        "yaxis": {
         "anchor": "x",
         "categoryorder": "total ascending",
         "domain": [
          0,
          1
         ],
         "title": {
          "text": "Patient ID"
         }
        }
       }
      }
     },
     "metadata": {},
     "output_type": "display_data"
    },
    {
     "data": {
      "application/vnd.plotly.v1+json": {
       "config": {
        "plotlyServerURL": "https://plot.ly"
       },
       "data": [
        {
         "alignmentgroup": "True",
         "base": [
          "2195-05-17T07:39:00",
          "2195-05-17T07:39:00",
          "2195-05-17T07:39:00",
          "2195-05-17T07:39:00",
          "2190-07-13T07:15:00",
          "2190-07-13T07:15:00",
          "2190-07-13T07:15:00",
          "2190-07-13T07:15:00",
          "2194-07-26T23:43:00",
          "2194-07-26T23:43:00",
          "2194-07-26T23:43:00",
          "2194-07-26T23:43:00",
          "2194-07-26T23:43:00",
          "2194-07-26T23:43:00",
          "2194-07-26T23:43:00",
          "2192-11-20T04:34:00",
          "2192-11-20T04:34:00",
          "2192-11-20T04:34:00",
          "2192-11-20T04:34:00",
          "2192-11-20T04:34:00",
          "2192-11-20T04:34:00",
          "2192-04-16T20:57:00",
          "2192-04-16T20:57:00",
          "2192-04-16T20:57:00",
          "2192-04-16T20:57:00",
          "2192-04-16T20:57:00",
          "2192-04-16T20:57:00",
          "2192-04-16T20:57:00",
          "2192-04-16T20:57:00",
          "2192-03-26T15:30:00",
          "2192-03-26T15:30:00",
          "2192-03-26T15:30:00",
          "2192-03-26T15:30:00",
          "2198-06-28T05:34:00",
          "2198-06-28T05:34:00",
          "2193-10-15T07:15:00",
          "2193-10-15T07:15:00",
          "2193-10-15T07:15:00",
          "2193-10-15T07:15:00",
          "2193-10-15T07:15:00",
          "2193-10-15T07:15:00",
          "2193-10-15T07:15:00",
          "2198-10-29T06:54:00",
          "2198-10-29T06:54:00",
          "2198-10-29T06:54:00",
          "2199-01-13T17:13:00",
          "2199-01-13T17:13:00",
          "2199-01-31T22:26:00",
          "2199-01-31T22:26:00",
          "2199-01-31T22:26:00",
          "2199-01-31T22:26:00",
          "2199-01-31T22:26:00",
          "2198-06-29T07:15:00",
          "2198-06-29T07:15:00",
          "2198-06-29T07:15:00",
          "2198-06-29T07:15:00"
         ],
         "hovertemplate": "Activity=Hospital Stay<br>Start=%{base}<br>End=%{x}<br>Patient ID=%{y}<extra></extra>",
         "legendgroup": "Hospital Stay",
         "marker": {
          "color": "#636efa",
          "pattern": {
           "shape": ""
          }
         },
         "name": "Hospital Stay",
         "offsetgroup": "Hospital Stay",
         "orientation": "h",
         "showlegend": true,
         "textposition": "auto",
         "type": "bar",
         "x": [
          619560000,
          619560000,
          619560000,
          619560000,
          1061100000,
          1061100000,
          1061100000,
          1061100000,
          919740000,
          919740000,
          919740000,
          919740000,
          919740000,
          919740000,
          919740000,
          1511760000,
          1511760000,
          1511760000,
          1511760000,
          1511760000,
          1511760000,
          2500260000,
          2500260000,
          2500260000,
          2500260000,
          2500260000,
          2500260000,
          2500260000,
          2500260000,
          859860000,
          859860000,
          859860000,
          859860000,
          1934520000,
          1934520000,
          453780000,
          453780000,
          453780000,
          453780000,
          453780000,
          453780000,
          453780000,
          635160000,
          635160000,
          635160000,
          252600000,
          252600000,
          1176960000,
          1176960000,
          1176960000,
          1176960000,
          1176960000,
          3429840000,
          3429840000,
          3429840000,
          3429840000
         ],
         "xaxis": "x",
         "y": [
          "10026",
          "10026",
          "10026",
          "10026",
          "10027",
          "10027",
          "10027",
          "10027",
          "10046",
          "10046",
          "10046",
          "10046",
          "10046",
          "10046",
          "10046",
          "10083",
          "10083",
          "10083",
          "10083",
          "10083",
          "10083",
          "10124",
          "10124",
          "10124",
          "10124",
          "10124",
          "10124",
          "10124",
          "10124",
          "10124",
          "10124",
          "10124",
          "10124",
          "10127",
          "10127",
          "40286",
          "40286",
          "40286",
          "40286",
          "40286",
          "40286",
          "40286",
          "41976",
          "41976",
          "41976",
          "41976",
          "41976",
          "41976",
          "41976",
          "41976",
          "41976",
          "41976",
          "43798",
          "43798",
          "43798",
          "43798"
         ],
         "yaxis": "y"
        },
        {
         "alignmentgroup": "True",
         "base": [
          "2195-05-17T07:40:18",
          "2195-05-19T17:24:25",
          "2195-05-21T16:55:21",
          "2195-05-24T11:49:34",
          "2190-07-13T03:16:35",
          "2190-07-13T10:39:07",
          "2190-07-20T16:55:45",
          "2190-07-25T15:34:23",
          "2194-07-26T23:49:00",
          "2194-07-29T21:01:00",
          "2194-07-30T10:52:00",
          "2194-07-30T11:02:00",
          "2194-07-31T09:10:00",
          "2194-08-01T08:44:00",
          "2194-08-06T15:12:00",
          "2192-11-20T04:35:29",
          "2192-11-22T20:48:26",
          "2192-11-23T17:56:05",
          "2192-11-24T18:25:08",
          "2192-11-29T11:24:53",
          "2192-12-07T16:37:40",
          "2192-04-16T20:58:32",
          "2192-04-20T08:51:28",
          "2192-04-24T02:29:49",
          "2192-04-26T23:59:45",
          "2192-04-27T21:20:31",
          "2192-04-30T10:09:05",
          "2192-04-30T14:50:44",
          "2192-05-15T23:34:21",
          "2192-03-26T15:31:25",
          "2192-03-29T10:46:51",
          "2192-04-01T06:36:00",
          "2192-04-05T14:41:28",
          "2198-06-28T05:35:32",
          "2198-07-20T14:56:23",
          "2193-10-15T00:45:50",
          "2193-10-15T19:45:13",
          "2193-10-15T21:48:33",
          "2193-10-16T21:58:53",
          "2193-10-17T15:19:34",
          "2193-10-17T20:50:28",
          "2193-10-20T13:18:51",
          "2198-10-29T06:55:20",
          "2198-10-31T20:50:58",
          "2198-11-05T15:19:35",
          "2199-01-13T17:14:16",
          "2199-01-16T15:48:45",
          "2199-01-31T22:27:21",
          "2199-02-01T00:14:10",
          "2199-02-01T01:19:00",
          "2199-02-11T17:05:19",
          "2199-02-14T13:23:01",
          "2198-06-29T02:47:18",
          "2198-06-29T15:00:30",
          "2198-07-06T17:35:30",
          "2198-07-10T14:25:16"
         ],
         "hovertemplate": "Activity=ICU Stay<br>Start=%{base}<br>End=%{x}<br>Patient ID=%{y}<extra></extra>",
         "legendgroup": "ICU Stay",
         "marker": {
          "color": "#EF553B",
          "pattern": {
           "shape": ""
          }
         },
         "name": "ICU Stay",
         "offsetgroup": "ICU Stay",
         "orientation": "h",
         "showlegend": true,
         "textposition": "auto",
         "type": "bar",
         "x": [
          207847000,
          171056000,
          240853000,
          null,
          26552000,
          627398000,
          427118000,
          null,
          249120000,
          49860000,
          600000,
          79680000,
          84840000,
          455280000,
          null,
          231177000,
          76059000,
          88143000,
          406785000,
          709967000,
          null,
          301976000,
          322701000,
          250196000,
          76846000,
          218914000,
          16899000,
          1327417000,
          null,
          242126000,
          244149000,
          374728000,
          null,
          1934451000,
          null,
          68363000,
          7400000,
          87020000,
          62441000,
          19854000,
          232103000,
          null,
          222938000,
          412117000,
          null,
          254069000,
          null,
          6409000,
          3890000,
          920779000,
          245862000,
          null,
          43992000,
          614100000,
          334186000,
          null
         ],
         "xaxis": "x",
         "y": [
          "10026",
          "10026",
          "10026",
          "10026",
          "10027",
          "10027",
          "10027",
          "10027",
          "10046",
          "10046",
          "10046",
          "10046",
          "10046",
          "10046",
          "10046",
          "10083",
          "10083",
          "10083",
          "10083",
          "10083",
          "10083",
          "10124",
          "10124",
          "10124",
          "10124",
          "10124",
          "10124",
          "10124",
          "10124",
          "10124",
          "10124",
          "10124",
          "10124",
          "10127",
          "10127",
          "40286",
          "40286",
          "40286",
          "40286",
          "40286",
          "40286",
          "40286",
          "41976",
          "41976",
          "41976",
          "41976",
          "41976",
          "41976",
          "41976",
          "41976",
          "41976",
          "41976",
          "43798",
          "43798",
          "43798",
          "43798"
         ],
         "yaxis": "y"
        }
       ],
       "layout": {
        "autosize": true,
        "barmode": "overlay",
        "legend": {
         "title": {
          "text": "Activity"
         },
         "tracegroupgap": 0
        },
        "template": {
         "data": {
          "bar": [
           {
            "error_x": {
             "color": "#2a3f5f"
            },
            "error_y": {
             "color": "#2a3f5f"
            },
            "marker": {
             "line": {
              "color": "#E5ECF6",
              "width": 0.5
             },
             "pattern": {
              "fillmode": "overlay",
              "size": 10,
              "solidity": 0.2
             }
            },
            "type": "bar"
           }
          ],
          "barpolar": [
           {
            "marker": {
             "line": {
              "color": "#E5ECF6",
              "width": 0.5
             },
             "pattern": {
              "fillmode": "overlay",
              "size": 10,
              "solidity": 0.2
             }
            },
            "type": "barpolar"
           }
          ],
          "carpet": [
           {
            "aaxis": {
             "endlinecolor": "#2a3f5f",
             "gridcolor": "white",
             "linecolor": "white",
             "minorgridcolor": "white",
             "startlinecolor": "#2a3f5f"
            },
            "baxis": {
             "endlinecolor": "#2a3f5f",
             "gridcolor": "white",
             "linecolor": "white",
             "minorgridcolor": "white",
             "startlinecolor": "#2a3f5f"
            },
            "type": "carpet"
           }
          ],
          "choropleth": [
           {
            "colorbar": {
             "outlinewidth": 0,
             "ticks": ""
            },
            "type": "choropleth"
           }
          ],
          "contour": [
           {
            "colorbar": {
             "outlinewidth": 0,
             "ticks": ""
            },
            "colorscale": [
             [
              0,
              "#0d0887"
             ],
             [
              0.1111111111111111,
              "#46039f"
             ],
             [
              0.2222222222222222,
              "#7201a8"
             ],
             [
              0.3333333333333333,
              "#9c179e"
             ],
             [
              0.4444444444444444,
              "#bd3786"
             ],
             [
              0.5555555555555556,
              "#d8576b"
             ],
             [
              0.6666666666666666,
              "#ed7953"
             ],
             [
              0.7777777777777778,
              "#fb9f3a"
             ],
             [
              0.8888888888888888,
              "#fdca26"
             ],
             [
              1,
              "#f0f921"
             ]
            ],
            "type": "contour"
           }
          ],
          "contourcarpet": [
           {
            "colorbar": {
             "outlinewidth": 0,
             "ticks": ""
            },
            "type": "contourcarpet"
           }
          ],
          "heatmap": [
           {
            "colorbar": {
             "outlinewidth": 0,
             "ticks": ""
            },
            "colorscale": [
             [
              0,
              "#0d0887"
             ],
             [
              0.1111111111111111,
              "#46039f"
             ],
             [
              0.2222222222222222,
              "#7201a8"
             ],
             [
              0.3333333333333333,
              "#9c179e"
             ],
             [
              0.4444444444444444,
              "#bd3786"
             ],
             [
              0.5555555555555556,
              "#d8576b"
             ],
             [
              0.6666666666666666,
              "#ed7953"
             ],
             [
              0.7777777777777778,
              "#fb9f3a"
             ],
             [
              0.8888888888888888,
              "#fdca26"
             ],
             [
              1,
              "#f0f921"
             ]
            ],
            "type": "heatmap"
           }
          ],
          "heatmapgl": [
           {
            "colorbar": {
             "outlinewidth": 0,
             "ticks": ""
            },
            "colorscale": [
             [
              0,
              "#0d0887"
             ],
             [
              0.1111111111111111,
              "#46039f"
             ],
             [
              0.2222222222222222,
              "#7201a8"
             ],
             [
              0.3333333333333333,
              "#9c179e"
             ],
             [
              0.4444444444444444,
              "#bd3786"
             ],
             [
              0.5555555555555556,
              "#d8576b"
             ],
             [
              0.6666666666666666,
              "#ed7953"
             ],
             [
              0.7777777777777778,
              "#fb9f3a"
             ],
             [
              0.8888888888888888,
              "#fdca26"
             ],
             [
              1,
              "#f0f921"
             ]
            ],
            "type": "heatmapgl"
           }
          ],
          "histogram": [
           {
            "marker": {
             "pattern": {
              "fillmode": "overlay",
              "size": 10,
              "solidity": 0.2
             }
            },
            "type": "histogram"
           }
          ],
          "histogram2d": [
           {
            "colorbar": {
             "outlinewidth": 0,
             "ticks": ""
            },
            "colorscale": [
             [
              0,
              "#0d0887"
             ],
             [
              0.1111111111111111,
              "#46039f"
             ],
             [
              0.2222222222222222,
              "#7201a8"
             ],
             [
              0.3333333333333333,
              "#9c179e"
             ],
             [
              0.4444444444444444,
              "#bd3786"
             ],
             [
              0.5555555555555556,
              "#d8576b"
             ],
             [
              0.6666666666666666,
              "#ed7953"
             ],
             [
              0.7777777777777778,
              "#fb9f3a"
             ],
             [
              0.8888888888888888,
              "#fdca26"
             ],
             [
              1,
              "#f0f921"
             ]
            ],
            "type": "histogram2d"
           }
          ],
          "histogram2dcontour": [
           {
            "colorbar": {
             "outlinewidth": 0,
             "ticks": ""
            },
            "colorscale": [
             [
              0,
              "#0d0887"
             ],
             [
              0.1111111111111111,
              "#46039f"
             ],
             [
              0.2222222222222222,
              "#7201a8"
             ],
             [
              0.3333333333333333,
              "#9c179e"
             ],
             [
              0.4444444444444444,
              "#bd3786"
             ],
             [
              0.5555555555555556,
              "#d8576b"
             ],
             [
              0.6666666666666666,
              "#ed7953"
             ],
             [
              0.7777777777777778,
              "#fb9f3a"
             ],
             [
              0.8888888888888888,
              "#fdca26"
             ],
             [
              1,
              "#f0f921"
             ]
            ],
            "type": "histogram2dcontour"
           }
          ],
          "mesh3d": [
           {
            "colorbar": {
             "outlinewidth": 0,
             "ticks": ""
            },
            "type": "mesh3d"
           }
          ],
          "parcoords": [
           {
            "line": {
             "colorbar": {
              "outlinewidth": 0,
              "ticks": ""
             }
            },
            "type": "parcoords"
           }
          ],
          "pie": [
           {
            "automargin": true,
            "type": "pie"
           }
          ],
          "scatter": [
           {
            "fillpattern": {
             "fillmode": "overlay",
             "size": 10,
             "solidity": 0.2
            },
            "type": "scatter"
           }
          ],
          "scatter3d": [
           {
            "line": {
             "colorbar": {
              "outlinewidth": 0,
              "ticks": ""
             }
            },
            "marker": {
             "colorbar": {
              "outlinewidth": 0,
              "ticks": ""
             }
            },
            "type": "scatter3d"
           }
          ],
          "scattercarpet": [
           {
            "marker": {
             "colorbar": {
              "outlinewidth": 0,
              "ticks": ""
             }
            },
            "type": "scattercarpet"
           }
          ],
          "scattergeo": [
           {
            "marker": {
             "colorbar": {
              "outlinewidth": 0,
              "ticks": ""
             }
            },
            "type": "scattergeo"
           }
          ],
          "scattergl": [
           {
            "marker": {
             "colorbar": {
              "outlinewidth": 0,
              "ticks": ""
             }
            },
            "type": "scattergl"
           }
          ],
          "scattermapbox": [
           {
            "marker": {
             "colorbar": {
              "outlinewidth": 0,
              "ticks": ""
             }
            },
            "type": "scattermapbox"
           }
          ],
          "scatterpolar": [
           {
            "marker": {
             "colorbar": {
              "outlinewidth": 0,
              "ticks": ""
             }
            },
            "type": "scatterpolar"
           }
          ],
          "scatterpolargl": [
           {
            "marker": {
             "colorbar": {
              "outlinewidth": 0,
              "ticks": ""
             }
            },
            "type": "scatterpolargl"
           }
          ],
          "scatterternary": [
           {
            "marker": {
             "colorbar": {
              "outlinewidth": 0,
              "ticks": ""
             }
            },
            "type": "scatterternary"
           }
          ],
          "surface": [
           {
            "colorbar": {
             "outlinewidth": 0,
             "ticks": ""
            },
            "colorscale": [
             [
              0,
              "#0d0887"
             ],
             [
              0.1111111111111111,
              "#46039f"
             ],
             [
              0.2222222222222222,
              "#7201a8"
             ],
             [
              0.3333333333333333,
              "#9c179e"
             ],
             [
              0.4444444444444444,
              "#bd3786"
             ],
             [
              0.5555555555555556,
              "#d8576b"
             ],
             [
              0.6666666666666666,
              "#ed7953"
             ],
             [
              0.7777777777777778,
              "#fb9f3a"
             ],
             [
              0.8888888888888888,
              "#fdca26"
             ],
             [
              1,
              "#f0f921"
             ]
            ],
            "type": "surface"
           }
          ],
          "table": [
           {
            "cells": {
             "fill": {
              "color": "#EBF0F8"
             },
             "line": {
              "color": "white"
             }
            },
            "header": {
             "fill": {
              "color": "#C8D4E3"
             },
             "line": {
              "color": "white"
             }
            },
            "type": "table"
           }
          ]
         },
         "layout": {
          "annotationdefaults": {
           "arrowcolor": "#2a3f5f",
           "arrowhead": 0,
           "arrowwidth": 1
          },
          "autotypenumbers": "strict",
          "coloraxis": {
           "colorbar": {
            "outlinewidth": 0,
            "ticks": ""
           }
          },
          "colorscale": {
           "diverging": [
            [
             0,
             "#8e0152"
            ],
            [
             0.1,
             "#c51b7d"
            ],
            [
             0.2,
             "#de77ae"
            ],
            [
             0.3,
             "#f1b6da"
            ],
            [
             0.4,
             "#fde0ef"
            ],
            [
             0.5,
             "#f7f7f7"
            ],
            [
             0.6,
             "#e6f5d0"
            ],
            [
             0.7,
             "#b8e186"
            ],
            [
             0.8,
             "#7fbc41"
            ],
            [
             0.9,
             "#4d9221"
            ],
            [
             1,
             "#276419"
            ]
           ],
           "sequential": [
            [
             0,
             "#0d0887"
            ],
            [
             0.1111111111111111,
             "#46039f"
            ],
            [
             0.2222222222222222,
             "#7201a8"
            ],
            [
             0.3333333333333333,
             "#9c179e"
            ],
            [
             0.4444444444444444,
             "#bd3786"
            ],
            [
             0.5555555555555556,
             "#d8576b"
            ],
            [
             0.6666666666666666,
             "#ed7953"
            ],
            [
             0.7777777777777778,
             "#fb9f3a"
            ],
            [
             0.8888888888888888,
             "#fdca26"
            ],
            [
             1,
             "#f0f921"
            ]
           ],
           "sequentialminus": [
            [
             0,
             "#0d0887"
            ],
            [
             0.1111111111111111,
             "#46039f"
            ],
            [
             0.2222222222222222,
             "#7201a8"
            ],
            [
             0.3333333333333333,
             "#9c179e"
            ],
            [
             0.4444444444444444,
             "#bd3786"
            ],
            [
             0.5555555555555556,
             "#d8576b"
            ],
            [
             0.6666666666666666,
             "#ed7953"
            ],
            [
             0.7777777777777778,
             "#fb9f3a"
            ],
            [
             0.8888888888888888,
             "#fdca26"
            ],
            [
             1,
             "#f0f921"
            ]
           ]
          },
          "colorway": [
           "#636efa",
           "#EF553B",
           "#00cc96",
           "#ab63fa",
           "#FFA15A",
           "#19d3f3",
           "#FF6692",
           "#B6E880",
           "#FF97FF",
           "#FECB52"
          ],
          "font": {
           "color": "#2a3f5f"
          },
          "geo": {
           "bgcolor": "white",
           "lakecolor": "white",
           "landcolor": "#E5ECF6",
           "showlakes": true,
           "showland": true,
           "subunitcolor": "white"
          },
          "hoverlabel": {
           "align": "left"
          },
          "hovermode": "closest",
          "mapbox": {
           "style": "light"
          },
          "paper_bgcolor": "white",
          "plot_bgcolor": "#E5ECF6",
          "polar": {
           "angularaxis": {
            "gridcolor": "white",
            "linecolor": "white",
            "ticks": ""
           },
           "bgcolor": "#E5ECF6",
           "radialaxis": {
            "gridcolor": "white",
            "linecolor": "white",
            "ticks": ""
           }
          },
          "scene": {
           "xaxis": {
            "backgroundcolor": "#E5ECF6",
            "gridcolor": "white",
            "gridwidth": 2,
            "linecolor": "white",
            "showbackground": true,
            "ticks": "",
            "zerolinecolor": "white"
           },
           "yaxis": {
            "backgroundcolor": "#E5ECF6",
            "gridcolor": "white",
            "gridwidth": 2,
            "linecolor": "white",
            "showbackground": true,
            "ticks": "",
            "zerolinecolor": "white"
           },
           "zaxis": {
            "backgroundcolor": "#E5ECF6",
            "gridcolor": "white",
            "gridwidth": 2,
            "linecolor": "white",
            "showbackground": true,
            "ticks": "",
            "zerolinecolor": "white"
           }
          },
          "shapedefaults": {
           "line": {
            "color": "#2a3f5f"
           }
          },
          "ternary": {
           "aaxis": {
            "gridcolor": "white",
            "linecolor": "white",
            "ticks": ""
           },
           "baxis": {
            "gridcolor": "white",
            "linecolor": "white",
            "ticks": ""
           },
           "bgcolor": "#E5ECF6",
           "caxis": {
            "gridcolor": "white",
            "linecolor": "white",
            "ticks": ""
           }
          },
          "title": {
           "x": 0.05
          },
          "xaxis": {
           "automargin": true,
           "gridcolor": "white",
           "linecolor": "white",
           "ticks": "",
           "title": {
            "standoff": 15
           },
           "zerolinecolor": "white",
           "zerolinewidth": 2
          },
          "yaxis": {
           "automargin": true,
           "gridcolor": "white",
           "linecolor": "white",
           "ticks": "",
           "title": {
            "standoff": 15
           },
           "zerolinecolor": "white",
           "zerolinewidth": 2
          }
         }
        },
        "title": {
         "text": "Patient Activities from 2190 to 2200"
        },
        "xaxis": {
         "anchor": "y",
         "domain": [
          0,
          1
         ],
         "dtick": "M12",
         "tickformat": "%Y",
         "title": {
          "text": "Date"
         },
         "type": "date"
        },
        "yaxis": {
         "anchor": "x",
         "categoryorder": "total ascending",
         "domain": [
          0,
          1
         ],
         "title": {
          "text": "Patient ID"
         }
        }
       }
      }
     },
     "metadata": {},
     "output_type": "display_data"
    }
   ],
   "source": [
    "# plotting patients  hospitalization timeline\n",
    "\n",
    "# Transform data for visualization\n",
    "events = []\n",
    "for i, row in df_merge.iterrows():\n",
    "    events.append({'Case ID': row['subject_id'], 'Start': row['admittime'], 'End': row['dischtime'], 'Activity': 'Hospital Stay'})\n",
    "    events.append({'Case ID': row['subject_id'], 'Start': row['intime'], 'End': row['outtime'], 'Activity': 'ICU Stay'})\n",
    "\n",
    "events_df = pd.DataFrame(events)\n",
    "events_df['Start'] = pd.to_datetime(events_df['Start'])\n",
    "events_df['End'] = pd.to_datetime(events_df['End'])\n",
    "events_df['Case ID'] = events_df['Case ID'].astype(str)\n",
    "\n",
    "start_year = 2100\n",
    "end_year = 2200\n",
    "interval = 10  # years\n",
    "\n",
    "# # Set up the figure for subplots\n",
    "# fig, axes = plt.subplots(nrows=(end_year - start_year) // interval, ncols=1, figsize=(10, 20), sharey=True)\n",
    "\n",
    "# # Define colors and markers\n",
    "# colors = {'Hospital Stay': 'blue', 'ICU Stay': 'red'}\n",
    "# markers = {'Hospital Stay': 'o', 'ICU Stay': 's'}\n",
    "\n",
    "# for i, ax in enumerate(axes):\n",
    "#     decade_start = start_year + i * interval\n",
    "#     decade_end = decade_start + interval\n",
    "#     mask = (events_df['Start'].dt.year >= decade_start) & (events_df['Start'].dt.year < decade_end)\n",
    "\n",
    "#     # Filter data for the decade\n",
    "#     decade_data = events_df[mask]\n",
    "\n",
    "#     for _, event in decade_data.iterrows():\n",
    "#         ax.scatter(event['Start'], event['Case ID'], color=colors[event['Activity']], marker=markers[event['Activity']], s=100, alpha=0.5)\n",
    "\n",
    "#     # Set the title for each subplot\n",
    "#     ax.set_title(f'Decade: {decade_start} - {decade_end}')\n",
    "#     ax.set_xlim([pd.Timestamp(f'{decade_start}-01-01'), pd.Timestamp(f'{decade_end}-01-01')])\n",
    "\n",
    "#     # Set major ticks format\n",
    "#     ax.xaxis.set_major_locator(mdates.YearLocator())\n",
    "#     ax.xaxis.set_major_formatter(mdates.DateFormatter('%Y'))\n",
    "\n",
    "# # Set common labels\n",
    "# plt.xlabel('Date')\n",
    "# plt.ylabel('Patient ID')\n",
    "# fig.tight_layout()  # Adjust layout to prevent overlap\n",
    "# plt.show()\n",
    "\n",
    "\n",
    "figs = []\n",
    "for decade_start in range(start_year, end_year, interval):\n",
    "    decade_end = decade_start + interval\n",
    "    # Filter data for the decade\n",
    "    mask = (events_df['Start'].dt.year >= decade_start) & (events_df['Start'].dt.year < decade_end)\n",
    "    decade_data = events_df[mask]\n",
    "\n",
    "    # Create a Plotly express timeline chart for the filtered data\n",
    "    fig = px.timeline(decade_data, x_start=\"Start\", x_end=\"End\", y=\"Case ID\", color=\"Activity\",\n",
    "                      labels={\"Case ID\": \"Patient ID\"},\n",
    "                      title=f\"Patient Activities from {decade_start} to {decade_end}\")\n",
    "    \n",
    "    fig.update_xaxes(dtick=\"M12\", tickformat=\"%Y\", title=\"Date\")\n",
    "    fig.update_yaxes(categoryorder=\"total ascending\")\n",
    "    fig.update_layout(autosize=True)\n",
    "\n",
    "    figs.append(fig)\n",
    "\n",
    "for f in figs:\n",
    "    f.show()\n",
    "\n",
    "# fig = px.timeline(events_df, x_start=\"Start\", x_end=\"End\", y=\"Case ID\", color=\"Activity\", title=\"Hospital and ICU Stays per Patient\")\n",
    "# fig.update_yaxes(categoryorder=\"total ascending\")  # Ensure that the y-axis is sorted by patient ID\n",
    "# fig.update_layout(xaxis_title='Date', yaxis_title='Patient ID', xaxis_rangeslider_visible=True)\n",
    "# fig.show()"
   ]
  },
  {
   "cell_type": "code",
   "execution_count": 115,
   "metadata": {},
   "outputs": [
    {
     "name": "stdout",
     "output_type": "stream",
     "text": [
      "subject_id               int64\n",
      "hadm_id                  int64\n",
      "transfertime    datetime64[ns]\n",
      "prev_service            object\n",
      "curr_service            object\n",
      "dtype: object\n",
      "(163, 5)\n"
     ]
    },
    {
     "data": {
      "text/html": [
       "<div>\n",
       "<style scoped>\n",
       "    .dataframe tbody tr th:only-of-type {\n",
       "        vertical-align: middle;\n",
       "    }\n",
       "\n",
       "    .dataframe tbody tr th {\n",
       "        vertical-align: top;\n",
       "    }\n",
       "\n",
       "    .dataframe thead th {\n",
       "        text-align: right;\n",
       "    }\n",
       "</style>\n",
       "<table border=\"1\" class=\"dataframe\">\n",
       "  <thead>\n",
       "    <tr style=\"text-align: right;\">\n",
       "      <th></th>\n",
       "      <th>subject_id</th>\n",
       "      <th>hadm_id</th>\n",
       "      <th>transfertime</th>\n",
       "      <th>prev_service</th>\n",
       "      <th>curr_service</th>\n",
       "    </tr>\n",
       "  </thead>\n",
       "  <tbody>\n",
       "    <tr>\n",
       "      <th>0</th>\n",
       "      <td>10006</td>\n",
       "      <td>142345</td>\n",
       "      <td>2164-10-23 21:10:15</td>\n",
       "      <td>NA</td>\n",
       "      <td>MED</td>\n",
       "    </tr>\n",
       "    <tr>\n",
       "      <th>1</th>\n",
       "      <td>10011</td>\n",
       "      <td>105331</td>\n",
       "      <td>2126-08-14 22:34:00</td>\n",
       "      <td>NA</td>\n",
       "      <td>MED</td>\n",
       "    </tr>\n",
       "    <tr>\n",
       "      <th>2</th>\n",
       "      <td>10013</td>\n",
       "      <td>165520</td>\n",
       "      <td>2125-10-04 23:38:00</td>\n",
       "      <td>NA</td>\n",
       "      <td>MED</td>\n",
       "    </tr>\n",
       "  </tbody>\n",
       "</table>\n",
       "</div>"
      ],
      "text/plain": [
       "   subject_id  hadm_id        transfertime prev_service curr_service\n",
       "0       10006   142345 2164-10-23 21:10:15           NA          MED\n",
       "1       10011   105331 2126-08-14 22:34:00           NA          MED\n",
       "2       10013   165520 2125-10-04 23:38:00           NA          MED"
      ]
     },
     "metadata": {},
     "output_type": "display_data"
    }
   ],
   "source": [
    "# reading services allocated to admitted patients\n",
    "df3 = pd.read_csv('./dataset/mimic-iii-demo-1.4/SERVICES.csv')\n",
    "df3.drop(['row_id'], axis=1, inplace=True)\n",
    "\n",
    "# convert string to datetime\n",
    "df3['transfertime'] = pd.to_datetime(df3['transfertime'])\n",
    "\n",
    "# handle missing values\n",
    "df3['prev_service'] = df3['prev_service'].fillna('NA')\n",
    "\n",
    "# sort by subject_id, hadm_id and  transfertime\n",
    "df3 = df3.sort_values(by=['subject_id', 'hadm_id', 'transfertime'])\n",
    "\n",
    "print(df3.dtypes)\n",
    "print(df3.shape)\n",
    "display(df3.head(3))"
   ]
  },
  {
   "cell_type": "code",
   "execution_count": 116,
   "metadata": {},
   "outputs": [
    {
     "name": "stdout",
     "output_type": "stream",
     "text": [
      "index 58 has problem\n",
      "current transfer time is greater than next intime\n",
      "current: subject_id=44083, hadm_id=131048, transfertime=2112-05-23 13:18:18\n"
     ]
    },
    {
     "data": {
      "text/html": [
       "<div>\n",
       "<style scoped>\n",
       "    .dataframe tbody tr th:only-of-type {\n",
       "        vertical-align: middle;\n",
       "    }\n",
       "\n",
       "    .dataframe tbody tr th {\n",
       "        vertical-align: top;\n",
       "    }\n",
       "\n",
       "    .dataframe thead th {\n",
       "        text-align: right;\n",
       "    }\n",
       "</style>\n",
       "<table border=\"1\" class=\"dataframe\">\n",
       "  <thead>\n",
       "    <tr style=\"text-align: right;\">\n",
       "      <th></th>\n",
       "      <th>subject_id</th>\n",
       "      <th>hadm_id</th>\n",
       "      <th>admittime</th>\n",
       "      <th>dischtime</th>\n",
       "      <th>admission_type</th>\n",
       "      <th>admission_location</th>\n",
       "      <th>edregtime</th>\n",
       "      <th>edouttime</th>\n",
       "      <th>diagnosis</th>\n",
       "      <th>icustay_id</th>\n",
       "      <th>eventtype</th>\n",
       "      <th>curr_careunit</th>\n",
       "      <th>curr_wardid</th>\n",
       "      <th>intime</th>\n",
       "      <th>outtime</th>\n",
       "      <th>los</th>\n",
       "      <th>transfertime</th>\n",
       "      <th>prev_service</th>\n",
       "      <th>curr_service</th>\n",
       "    </tr>\n",
       "  </thead>\n",
       "  <tbody>\n",
       "    <tr>\n",
       "      <th>51</th>\n",
       "      <td>44083</td>\n",
       "      <td>125157</td>\n",
       "      <td>2112-05-04 08:00:00</td>\n",
       "      <td>2112-05-11 14:15:00</td>\n",
       "      <td>ELECTIVE</td>\n",
       "      <td>PHYS REFERRAL/NORMAL DELI</td>\n",
       "      <td>NaT</td>\n",
       "      <td>NaT</td>\n",
       "      <td>ESOPHAGEAL CA/SDA</td>\n",
       "      <td>0</td>\n",
       "      <td>admit</td>\n",
       "      <td>NA</td>\n",
       "      <td>27.0</td>\n",
       "      <td>2112-05-04 01:45:43</td>\n",
       "      <td>2112-05-04 19:03:39</td>\n",
       "      <td>17.30</td>\n",
       "      <td>2112-05-04 01:45:43</td>\n",
       "      <td>NA</td>\n",
       "      <td>TSURG</td>\n",
       "    </tr>\n",
       "    <tr>\n",
       "      <th>52</th>\n",
       "      <td>44083</td>\n",
       "      <td>125157</td>\n",
       "      <td>2112-05-04 08:00:00</td>\n",
       "      <td>2112-05-11 14:15:00</td>\n",
       "      <td>ELECTIVE</td>\n",
       "      <td>PHYS REFERRAL/NORMAL DELI</td>\n",
       "      <td>NaT</td>\n",
       "      <td>NaT</td>\n",
       "      <td>ESOPHAGEAL CA/SDA</td>\n",
       "      <td>265615</td>\n",
       "      <td>transfer</td>\n",
       "      <td>SICU</td>\n",
       "      <td>33.0</td>\n",
       "      <td>2112-05-04 19:03:39</td>\n",
       "      <td>2112-05-06 17:21:01</td>\n",
       "      <td>46.29</td>\n",
       "      <td>2112-05-04 01:45:43</td>\n",
       "      <td>NA</td>\n",
       "      <td>TSURG</td>\n",
       "    </tr>\n",
       "    <tr>\n",
       "      <th>53</th>\n",
       "      <td>44083</td>\n",
       "      <td>125157</td>\n",
       "      <td>2112-05-04 08:00:00</td>\n",
       "      <td>2112-05-11 14:15:00</td>\n",
       "      <td>ELECTIVE</td>\n",
       "      <td>PHYS REFERRAL/NORMAL DELI</td>\n",
       "      <td>NaT</td>\n",
       "      <td>NaT</td>\n",
       "      <td>ESOPHAGEAL CA/SDA</td>\n",
       "      <td>0</td>\n",
       "      <td>transfer</td>\n",
       "      <td>NA</td>\n",
       "      <td>36.0</td>\n",
       "      <td>2112-05-06 17:21:01</td>\n",
       "      <td>2112-05-06 17:32:47</td>\n",
       "      <td>0.20</td>\n",
       "      <td>2112-05-04 01:45:43</td>\n",
       "      <td>NA</td>\n",
       "      <td>TSURG</td>\n",
       "    </tr>\n",
       "    <tr>\n",
       "      <th>54</th>\n",
       "      <td>44083</td>\n",
       "      <td>125157</td>\n",
       "      <td>2112-05-04 08:00:00</td>\n",
       "      <td>2112-05-11 14:15:00</td>\n",
       "      <td>ELECTIVE</td>\n",
       "      <td>PHYS REFERRAL/NORMAL DELI</td>\n",
       "      <td>NaT</td>\n",
       "      <td>NaT</td>\n",
       "      <td>ESOPHAGEAL CA/SDA</td>\n",
       "      <td>0</td>\n",
       "      <td>transfer</td>\n",
       "      <td>NA</td>\n",
       "      <td>36.0</td>\n",
       "      <td>2112-05-06 17:32:47</td>\n",
       "      <td>2112-05-11 14:14:23</td>\n",
       "      <td>116.69</td>\n",
       "      <td>2112-05-04 01:45:43</td>\n",
       "      <td>NA</td>\n",
       "      <td>TSURG</td>\n",
       "    </tr>\n",
       "    <tr>\n",
       "      <th>55</th>\n",
       "      <td>44083</td>\n",
       "      <td>125157</td>\n",
       "      <td>2112-05-04 08:00:00</td>\n",
       "      <td>2112-05-11 14:15:00</td>\n",
       "      <td>ELECTIVE</td>\n",
       "      <td>PHYS REFERRAL/NORMAL DELI</td>\n",
       "      <td>NaT</td>\n",
       "      <td>NaT</td>\n",
       "      <td>ESOPHAGEAL CA/SDA</td>\n",
       "      <td>0</td>\n",
       "      <td>discharge</td>\n",
       "      <td>NA</td>\n",
       "      <td>0.0</td>\n",
       "      <td>2112-05-11 14:14:23</td>\n",
       "      <td>NaT</td>\n",
       "      <td>0.00</td>\n",
       "      <td>2112-05-04 01:45:43</td>\n",
       "      <td>NA</td>\n",
       "      <td>TSURG</td>\n",
       "    </tr>\n",
       "    <tr>\n",
       "      <th>56</th>\n",
       "      <td>44083</td>\n",
       "      <td>131048</td>\n",
       "      <td>2112-05-22 15:37:00</td>\n",
       "      <td>2112-05-25 13:30:00</td>\n",
       "      <td>EMERGENCY</td>\n",
       "      <td>EMERGENCY ROOM ADMIT</td>\n",
       "      <td>2112-05-22 09:25:00</td>\n",
       "      <td>2112-05-22 17:04:00</td>\n",
       "      <td>SHORTNESS OF BREATH</td>\n",
       "      <td>0</td>\n",
       "      <td>admit</td>\n",
       "      <td>NA</td>\n",
       "      <td>36.0</td>\n",
       "      <td>2112-05-22 15:37:59</td>\n",
       "      <td>2112-05-23 12:32:06</td>\n",
       "      <td>20.90</td>\n",
       "      <td>2112-05-22 15:37:59</td>\n",
       "      <td>NA</td>\n",
       "      <td>TSURG</td>\n",
       "    </tr>\n",
       "    <tr>\n",
       "      <th>57</th>\n",
       "      <td>44083</td>\n",
       "      <td>131048</td>\n",
       "      <td>2112-05-22 15:37:00</td>\n",
       "      <td>2112-05-25 13:30:00</td>\n",
       "      <td>EMERGENCY</td>\n",
       "      <td>EMERGENCY ROOM ADMIT</td>\n",
       "      <td>2112-05-22 09:25:00</td>\n",
       "      <td>2112-05-22 17:04:00</td>\n",
       "      <td>SHORTNESS OF BREATH</td>\n",
       "      <td>282640</td>\n",
       "      <td>transfer</td>\n",
       "      <td>CCU</td>\n",
       "      <td>7.0</td>\n",
       "      <td>2112-05-23 12:32:06</td>\n",
       "      <td>2112-05-23 13:15:56</td>\n",
       "      <td>0.73</td>\n",
       "      <td>2112-05-22 15:37:59</td>\n",
       "      <td>NA</td>\n",
       "      <td>TSURG</td>\n",
       "    </tr>\n",
       "    <tr>\n",
       "      <th>58</th>\n",
       "      <td>44083</td>\n",
       "      <td>131048</td>\n",
       "      <td>2112-05-22 15:37:00</td>\n",
       "      <td>2112-05-25 13:30:00</td>\n",
       "      <td>EMERGENCY</td>\n",
       "      <td>EMERGENCY ROOM ADMIT</td>\n",
       "      <td>2112-05-22 09:25:00</td>\n",
       "      <td>2112-05-22 17:04:00</td>\n",
       "      <td>SHORTNESS OF BREATH</td>\n",
       "      <td>0</td>\n",
       "      <td>transfer</td>\n",
       "      <td>NA</td>\n",
       "      <td>36.0</td>\n",
       "      <td>2112-05-23 13:15:56</td>\n",
       "      <td>2112-05-23 13:17:31</td>\n",
       "      <td>0.03</td>\n",
       "      <td>2112-05-23 13:18:18</td>\n",
       "      <td>TSURG</td>\n",
       "      <td>CMED</td>\n",
       "    </tr>\n",
       "    <tr>\n",
       "      <th>59</th>\n",
       "      <td>44083</td>\n",
       "      <td>131048</td>\n",
       "      <td>2112-05-22 15:37:00</td>\n",
       "      <td>2112-05-25 13:30:00</td>\n",
       "      <td>EMERGENCY</td>\n",
       "      <td>EMERGENCY ROOM ADMIT</td>\n",
       "      <td>2112-05-22 09:25:00</td>\n",
       "      <td>2112-05-22 17:04:00</td>\n",
       "      <td>SHORTNESS OF BREATH</td>\n",
       "      <td>282640</td>\n",
       "      <td>transfer</td>\n",
       "      <td>CCU</td>\n",
       "      <td>7.0</td>\n",
       "      <td>2112-05-23 13:17:31</td>\n",
       "      <td>2112-05-25 14:59:50</td>\n",
       "      <td>49.71</td>\n",
       "      <td>2112-05-23 13:18:18</td>\n",
       "      <td>TSURG</td>\n",
       "      <td>CMED</td>\n",
       "    </tr>\n",
       "    <tr>\n",
       "      <th>60</th>\n",
       "      <td>44083</td>\n",
       "      <td>131048</td>\n",
       "      <td>2112-05-22 15:37:00</td>\n",
       "      <td>2112-05-25 13:30:00</td>\n",
       "      <td>EMERGENCY</td>\n",
       "      <td>EMERGENCY ROOM ADMIT</td>\n",
       "      <td>2112-05-22 09:25:00</td>\n",
       "      <td>2112-05-22 17:04:00</td>\n",
       "      <td>SHORTNESS OF BREATH</td>\n",
       "      <td>0</td>\n",
       "      <td>discharge</td>\n",
       "      <td>NA</td>\n",
       "      <td>0.0</td>\n",
       "      <td>2112-05-25 14:59:50</td>\n",
       "      <td>NaT</td>\n",
       "      <td>0.00</td>\n",
       "      <td>2112-05-23 13:18:18</td>\n",
       "      <td>TSURG</td>\n",
       "      <td>CMED</td>\n",
       "    </tr>\n",
       "    <tr>\n",
       "      <th>61</th>\n",
       "      <td>44083</td>\n",
       "      <td>198330</td>\n",
       "      <td>2112-05-28 15:45:00</td>\n",
       "      <td>2112-06-07 16:50:00</td>\n",
       "      <td>EMERGENCY</td>\n",
       "      <td>EMERGENCY ROOM ADMIT</td>\n",
       "      <td>2112-05-28 13:16:00</td>\n",
       "      <td>2112-05-28 17:30:00</td>\n",
       "      <td>PERICARDIAL EFFUSION</td>\n",
       "      <td>0</td>\n",
       "      <td>admit</td>\n",
       "      <td>NA</td>\n",
       "      <td>17.0</td>\n",
       "      <td>2112-05-28 15:46:27</td>\n",
       "      <td>2112-05-29 02:01:33</td>\n",
       "      <td>10.25</td>\n",
       "      <td>2112-05-28 15:46:27</td>\n",
       "      <td>NA</td>\n",
       "      <td>CMED</td>\n",
       "    </tr>\n",
       "    <tr>\n",
       "      <th>62</th>\n",
       "      <td>44083</td>\n",
       "      <td>198330</td>\n",
       "      <td>2112-05-28 15:45:00</td>\n",
       "      <td>2112-06-07 16:50:00</td>\n",
       "      <td>EMERGENCY</td>\n",
       "      <td>EMERGENCY ROOM ADMIT</td>\n",
       "      <td>2112-05-28 13:16:00</td>\n",
       "      <td>2112-05-28 17:30:00</td>\n",
       "      <td>PERICARDIAL EFFUSION</td>\n",
       "      <td>286428</td>\n",
       "      <td>transfer</td>\n",
       "      <td>CCU</td>\n",
       "      <td>7.0</td>\n",
       "      <td>2112-05-29 02:01:33</td>\n",
       "      <td>2112-06-01 16:50:40</td>\n",
       "      <td>86.82</td>\n",
       "      <td>2112-05-28 15:46:27</td>\n",
       "      <td>NA</td>\n",
       "      <td>CMED</td>\n",
       "    </tr>\n",
       "    <tr>\n",
       "      <th>63</th>\n",
       "      <td>44083</td>\n",
       "      <td>198330</td>\n",
       "      <td>2112-05-28 15:45:00</td>\n",
       "      <td>2112-06-07 16:50:00</td>\n",
       "      <td>EMERGENCY</td>\n",
       "      <td>EMERGENCY ROOM ADMIT</td>\n",
       "      <td>2112-05-28 13:16:00</td>\n",
       "      <td>2112-05-28 17:30:00</td>\n",
       "      <td>PERICARDIAL EFFUSION</td>\n",
       "      <td>0</td>\n",
       "      <td>transfer</td>\n",
       "      <td>NA</td>\n",
       "      <td>36.0</td>\n",
       "      <td>2112-06-01 16:50:40</td>\n",
       "      <td>2112-06-01 16:58:45</td>\n",
       "      <td>0.13</td>\n",
       "      <td>2112-05-28 15:46:27</td>\n",
       "      <td>NA</td>\n",
       "      <td>CMED</td>\n",
       "    </tr>\n",
       "    <tr>\n",
       "      <th>64</th>\n",
       "      <td>44083</td>\n",
       "      <td>198330</td>\n",
       "      <td>2112-05-28 15:45:00</td>\n",
       "      <td>2112-06-07 16:50:00</td>\n",
       "      <td>EMERGENCY</td>\n",
       "      <td>EMERGENCY ROOM ADMIT</td>\n",
       "      <td>2112-05-28 13:16:00</td>\n",
       "      <td>2112-05-28 17:30:00</td>\n",
       "      <td>PERICARDIAL EFFUSION</td>\n",
       "      <td>0</td>\n",
       "      <td>transfer</td>\n",
       "      <td>NA</td>\n",
       "      <td>36.0</td>\n",
       "      <td>2112-06-01 16:58:45</td>\n",
       "      <td>2112-06-07 16:54:04</td>\n",
       "      <td>143.92</td>\n",
       "      <td>2112-05-28 15:46:27</td>\n",
       "      <td>NA</td>\n",
       "      <td>CMED</td>\n",
       "    </tr>\n",
       "    <tr>\n",
       "      <th>65</th>\n",
       "      <td>44083</td>\n",
       "      <td>198330</td>\n",
       "      <td>2112-05-28 15:45:00</td>\n",
       "      <td>2112-06-07 16:50:00</td>\n",
       "      <td>EMERGENCY</td>\n",
       "      <td>EMERGENCY ROOM ADMIT</td>\n",
       "      <td>2112-05-28 13:16:00</td>\n",
       "      <td>2112-05-28 17:30:00</td>\n",
       "      <td>PERICARDIAL EFFUSION</td>\n",
       "      <td>0</td>\n",
       "      <td>discharge</td>\n",
       "      <td>NA</td>\n",
       "      <td>0.0</td>\n",
       "      <td>2112-06-07 16:54:04</td>\n",
       "      <td>NaT</td>\n",
       "      <td>0.00</td>\n",
       "      <td>2112-05-28 15:46:27</td>\n",
       "      <td>NA</td>\n",
       "      <td>CMED</td>\n",
       "    </tr>\n",
       "  </tbody>\n",
       "</table>\n",
       "</div>"
      ],
      "text/plain": [
       "    subject_id  hadm_id           admittime           dischtime  \\\n",
       "51       44083   125157 2112-05-04 08:00:00 2112-05-11 14:15:00   \n",
       "52       44083   125157 2112-05-04 08:00:00 2112-05-11 14:15:00   \n",
       "53       44083   125157 2112-05-04 08:00:00 2112-05-11 14:15:00   \n",
       "54       44083   125157 2112-05-04 08:00:00 2112-05-11 14:15:00   \n",
       "55       44083   125157 2112-05-04 08:00:00 2112-05-11 14:15:00   \n",
       "56       44083   131048 2112-05-22 15:37:00 2112-05-25 13:30:00   \n",
       "57       44083   131048 2112-05-22 15:37:00 2112-05-25 13:30:00   \n",
       "58       44083   131048 2112-05-22 15:37:00 2112-05-25 13:30:00   \n",
       "59       44083   131048 2112-05-22 15:37:00 2112-05-25 13:30:00   \n",
       "60       44083   131048 2112-05-22 15:37:00 2112-05-25 13:30:00   \n",
       "61       44083   198330 2112-05-28 15:45:00 2112-06-07 16:50:00   \n",
       "62       44083   198330 2112-05-28 15:45:00 2112-06-07 16:50:00   \n",
       "63       44083   198330 2112-05-28 15:45:00 2112-06-07 16:50:00   \n",
       "64       44083   198330 2112-05-28 15:45:00 2112-06-07 16:50:00   \n",
       "65       44083   198330 2112-05-28 15:45:00 2112-06-07 16:50:00   \n",
       "\n",
       "   admission_type         admission_location           edregtime  \\\n",
       "51       ELECTIVE  PHYS REFERRAL/NORMAL DELI                 NaT   \n",
       "52       ELECTIVE  PHYS REFERRAL/NORMAL DELI                 NaT   \n",
       "53       ELECTIVE  PHYS REFERRAL/NORMAL DELI                 NaT   \n",
       "54       ELECTIVE  PHYS REFERRAL/NORMAL DELI                 NaT   \n",
       "55       ELECTIVE  PHYS REFERRAL/NORMAL DELI                 NaT   \n",
       "56      EMERGENCY       EMERGENCY ROOM ADMIT 2112-05-22 09:25:00   \n",
       "57      EMERGENCY       EMERGENCY ROOM ADMIT 2112-05-22 09:25:00   \n",
       "58      EMERGENCY       EMERGENCY ROOM ADMIT 2112-05-22 09:25:00   \n",
       "59      EMERGENCY       EMERGENCY ROOM ADMIT 2112-05-22 09:25:00   \n",
       "60      EMERGENCY       EMERGENCY ROOM ADMIT 2112-05-22 09:25:00   \n",
       "61      EMERGENCY       EMERGENCY ROOM ADMIT 2112-05-28 13:16:00   \n",
       "62      EMERGENCY       EMERGENCY ROOM ADMIT 2112-05-28 13:16:00   \n",
       "63      EMERGENCY       EMERGENCY ROOM ADMIT 2112-05-28 13:16:00   \n",
       "64      EMERGENCY       EMERGENCY ROOM ADMIT 2112-05-28 13:16:00   \n",
       "65      EMERGENCY       EMERGENCY ROOM ADMIT 2112-05-28 13:16:00   \n",
       "\n",
       "             edouttime             diagnosis  icustay_id  eventtype  \\\n",
       "51                 NaT     ESOPHAGEAL CA/SDA           0      admit   \n",
       "52                 NaT     ESOPHAGEAL CA/SDA      265615   transfer   \n",
       "53                 NaT     ESOPHAGEAL CA/SDA           0   transfer   \n",
       "54                 NaT     ESOPHAGEAL CA/SDA           0   transfer   \n",
       "55                 NaT     ESOPHAGEAL CA/SDA           0  discharge   \n",
       "56 2112-05-22 17:04:00   SHORTNESS OF BREATH           0      admit   \n",
       "57 2112-05-22 17:04:00   SHORTNESS OF BREATH      282640   transfer   \n",
       "58 2112-05-22 17:04:00   SHORTNESS OF BREATH           0   transfer   \n",
       "59 2112-05-22 17:04:00   SHORTNESS OF BREATH      282640   transfer   \n",
       "60 2112-05-22 17:04:00   SHORTNESS OF BREATH           0  discharge   \n",
       "61 2112-05-28 17:30:00  PERICARDIAL EFFUSION           0      admit   \n",
       "62 2112-05-28 17:30:00  PERICARDIAL EFFUSION      286428   transfer   \n",
       "63 2112-05-28 17:30:00  PERICARDIAL EFFUSION           0   transfer   \n",
       "64 2112-05-28 17:30:00  PERICARDIAL EFFUSION           0   transfer   \n",
       "65 2112-05-28 17:30:00  PERICARDIAL EFFUSION           0  discharge   \n",
       "\n",
       "   curr_careunit  curr_wardid              intime             outtime     los  \\\n",
       "51            NA         27.0 2112-05-04 01:45:43 2112-05-04 19:03:39   17.30   \n",
       "52          SICU         33.0 2112-05-04 19:03:39 2112-05-06 17:21:01   46.29   \n",
       "53            NA         36.0 2112-05-06 17:21:01 2112-05-06 17:32:47    0.20   \n",
       "54            NA         36.0 2112-05-06 17:32:47 2112-05-11 14:14:23  116.69   \n",
       "55            NA          0.0 2112-05-11 14:14:23                 NaT    0.00   \n",
       "56            NA         36.0 2112-05-22 15:37:59 2112-05-23 12:32:06   20.90   \n",
       "57           CCU          7.0 2112-05-23 12:32:06 2112-05-23 13:15:56    0.73   \n",
       "58            NA         36.0 2112-05-23 13:15:56 2112-05-23 13:17:31    0.03   \n",
       "59           CCU          7.0 2112-05-23 13:17:31 2112-05-25 14:59:50   49.71   \n",
       "60            NA          0.0 2112-05-25 14:59:50                 NaT    0.00   \n",
       "61            NA         17.0 2112-05-28 15:46:27 2112-05-29 02:01:33   10.25   \n",
       "62           CCU          7.0 2112-05-29 02:01:33 2112-06-01 16:50:40   86.82   \n",
       "63            NA         36.0 2112-06-01 16:50:40 2112-06-01 16:58:45    0.13   \n",
       "64            NA         36.0 2112-06-01 16:58:45 2112-06-07 16:54:04  143.92   \n",
       "65            NA          0.0 2112-06-07 16:54:04                 NaT    0.00   \n",
       "\n",
       "          transfertime prev_service curr_service  \n",
       "51 2112-05-04 01:45:43           NA        TSURG  \n",
       "52 2112-05-04 01:45:43           NA        TSURG  \n",
       "53 2112-05-04 01:45:43           NA        TSURG  \n",
       "54 2112-05-04 01:45:43           NA        TSURG  \n",
       "55 2112-05-04 01:45:43           NA        TSURG  \n",
       "56 2112-05-22 15:37:59           NA        TSURG  \n",
       "57 2112-05-22 15:37:59           NA        TSURG  \n",
       "58 2112-05-23 13:18:18        TSURG         CMED  \n",
       "59 2112-05-23 13:18:18        TSURG         CMED  \n",
       "60 2112-05-23 13:18:18        TSURG         CMED  \n",
       "61 2112-05-28 15:46:27           NA         CMED  \n",
       "62 2112-05-28 15:46:27           NA         CMED  \n",
       "63 2112-05-28 15:46:27           NA         CMED  \n",
       "64 2112-05-28 15:46:27           NA         CMED  \n",
       "65 2112-05-28 15:46:27           NA         CMED  "
      ]
     },
     "metadata": {},
     "output_type": "display_data"
    }
   ],
   "source": [
    "# merge ADMISSIONS, TRANSFERS and SERVICES\n",
    "df_merge2 = pd.merge_asof(df_merge.sort_values('intime'), \n",
    "                          df3.sort_values('transfertime'), \n",
    "                          by=['subject_id', 'hadm_id'], \n",
    "                          left_on='intime',\n",
    "                          right_on='transfertime',\n",
    "                          direction='nearest',\n",
    "                          tolerance=pd.Timedelta('10 minutes'))\n",
    "\n",
    "# tolerance limit problem - 10 minutes seems to have less amount of conflicts. but there are still cases where intime of between two transfers is small and so service is not assigned correctly. there is also the opposite problem that sometimes a service start time does not find any nearset match in 10 minutes range, and ends up getting ignored. this is specially a problem when the transfer has no outtime - that is the discharge case. \n",
    "\n",
    "temp = []\n",
    "flag = True\n",
    "# fix transfer time wrong alignment\n",
    "for index in df_merge2.index:\n",
    "    if len(temp) > 0:\n",
    "        current = temp.pop(0)\n",
    "        flag = False\n",
    "    else:\n",
    "        current = df_merge2.iloc[index]\n",
    "    next = df_merge2.iloc[index+1] if index+1 < df_merge2.shape[0] else None\n",
    "    prev = df_merge2.iloc[index-1] if index-1 >= 0 else None\n",
    "\n",
    "    if flag:\n",
    "        if (current['intime'] <= current['transfertime'] <= current['outtime']):\n",
    "            continue\n",
    "        elif (current['transfertime'] is pd.NaT) and (current['subject_id'] == prev['subject_id']) and (current['hadm_id'] == prev['hadm_id']):\n",
    "            df_merge2.at[index, 'transfertime'] = prev['transfertime']\n",
    "            df_merge2.at[index, 'prev_service'] = prev['prev_service']\n",
    "            df_merge2.at[index, 'curr_service'] = prev['curr_service']\n",
    "        elif (current['transfertime'] > next['intime']):\n",
    "            print(f'index {index} has problem')\n",
    "            curr_sub_id = current['subject_id'] \n",
    "            curr_hadm_id = current['hadm_id'] \n",
    "            curr_transfertime = current['transfertime']\n",
    "            print('current transfer time is greater than next intime') \n",
    "            print(f'current: subject_id={curr_sub_id}, hadm_id={curr_hadm_id}, transfertime={curr_transfertime}')\n",
    "        elif (current['transfertime'] <= next['intime']) and (current['subject_id'] == next['subject_id']) and (current['hadm_id'] == next['hadm_id']) and (current['subject_id'] == prev['subject_id']) and (current['hadm_id'] == prev['hadm_id']):\n",
    "            df_merge2.at[index, 'transfertime'] = prev['transfertime']\n",
    "            df_merge2.at[index, 'prev_service'] = prev['prev_service']\n",
    "            df_merge2.at[index, 'curr_service'] = prev['curr_service']\n",
    "\n",
    "            if pd.isnull(next['transfertime']):\n",
    "                df_merge2.at[index+1, 'transfertime'] = current['transfertime']\n",
    "                df_merge2.at[index+1, 'prev_service'] = current['prev_service']\n",
    "                df_merge2.at[index+1, 'curr_service'] = current['curr_service']\n",
    "            else:\n",
    "                temp.append(next)\n",
    "                df_merge2.at[index+1, 'transfertime'] = current['transfertime']\n",
    "                df_merge2.at[index+1, 'prev_service'] = current['prev_service']\n",
    "                df_merge2.at[index+1, 'curr_service'] = current['curr_service']\n",
    "    else:\n",
    "        if (current['transfertime'] <= next['intime']) and (current['subject_id'] == next['subject_id']) and (current['hadm_id'] == next['hadm_id']) and pd.isnull(next['transfertime']):\n",
    "            df_merge2.at[index+1, 'transfertime'] = current['transfertime']\n",
    "            df_merge2.at[index+1, 'prev_service'] = current['prev_service']\n",
    "            df_merge2.at[index+1, 'curr_service'] = current['curr_service']\n",
    "            flag = True\n",
    "        else:\n",
    "            print(f'index {index} has problem')\n",
    "            curr_sub_id = current['subject_id'] \n",
    "            curr_hadm_id = current['hadm_id'] \n",
    "            curr_transfertime = current['transfertime']\n",
    "            print('temp')\n",
    "            print(f'current: subject_id={curr_sub_id}, hadm_id={curr_hadm_id}, transfertime={curr_transfertime}')\n",
    "\n",
    "\n",
    "# print(df_merge2.dtypes)\n",
    "# print(df_merge2.shape)\n",
    "# display(df_merge2.head(100))\n",
    "# display(df_merge2.tail(30))\n",
    "# display(df_merge2[df_merge2['subject_id'] == 10033])\n",
    "# display(df_merge2[df_merge2['subject_id'] == 41976])\n",
    "display(df_merge2[df_merge2['subject_id'] == 44083])\n",
    "# display(df_merge2[df_merge2['subject_id'] == 42231])"
   ]
  },
  {
   "cell_type": "code",
   "execution_count": 117,
   "metadata": {},
   "outputs": [
    {
     "name": "stdout",
     "output_type": "stream",
     "text": [
      "subject_id                int64\n",
      "hadm_id                   int64\n",
      "itemid                    int64\n",
      "charttime_lab    datetime64[ns]\n",
      "dtype: object\n",
      "(76074, 4)\n"
     ]
    },
    {
     "data": {
      "text/html": [
       "<div>\n",
       "<style scoped>\n",
       "    .dataframe tbody tr th:only-of-type {\n",
       "        vertical-align: middle;\n",
       "    }\n",
       "\n",
       "    .dataframe tbody tr th {\n",
       "        vertical-align: top;\n",
       "    }\n",
       "\n",
       "    .dataframe thead th {\n",
       "        text-align: right;\n",
       "    }\n",
       "</style>\n",
       "<table border=\"1\" class=\"dataframe\">\n",
       "  <thead>\n",
       "    <tr style=\"text-align: right;\">\n",
       "      <th></th>\n",
       "      <th>subject_id</th>\n",
       "      <th>hadm_id</th>\n",
       "      <th>itemid</th>\n",
       "      <th>charttime_lab</th>\n",
       "    </tr>\n",
       "  </thead>\n",
       "  <tbody>\n",
       "    <tr>\n",
       "      <th>0</th>\n",
       "      <td>10006</td>\n",
       "      <td>0</td>\n",
       "      <td>50868</td>\n",
       "      <td>2164-09-24 20:21:00</td>\n",
       "    </tr>\n",
       "    <tr>\n",
       "      <th>1</th>\n",
       "      <td>10006</td>\n",
       "      <td>0</td>\n",
       "      <td>50882</td>\n",
       "      <td>2164-09-24 20:21:00</td>\n",
       "    </tr>\n",
       "    <tr>\n",
       "      <th>2</th>\n",
       "      <td>10006</td>\n",
       "      <td>0</td>\n",
       "      <td>50893</td>\n",
       "      <td>2164-09-24 20:21:00</td>\n",
       "    </tr>\n",
       "  </tbody>\n",
       "</table>\n",
       "</div>"
      ],
      "text/plain": [
       "   subject_id  hadm_id  itemid       charttime_lab\n",
       "0       10006        0   50868 2164-09-24 20:21:00\n",
       "1       10006        0   50882 2164-09-24 20:21:00\n",
       "2       10006        0   50893 2164-09-24 20:21:00"
      ]
     },
     "metadata": {},
     "output_type": "display_data"
    }
   ],
   "source": [
    "# reading lab events data\n",
    "df4 = pd.read_csv('./dataset/mimic-iii-demo-1.4/LABEVENTS.csv')\n",
    "\n",
    "# convert string to datetime\n",
    "df4['charttime_lab'] = pd.to_datetime(df4['charttime'])\n",
    "\n",
    "# handle missing values\n",
    "df4['hadm_id'] = df4['hadm_id'].fillna(0).astype('int64')\n",
    "# df4['value'] = df4['value'].fillna('NA')\n",
    "\n",
    "df4.drop(['row_id', 'value', 'valuenum', 'valueuom', 'flag', 'charttime'], axis=1, inplace=True)\n",
    "\n",
    "# sort by subject_id, hadm_id and  charttime_lab\n",
    "df4 = df4.sort_values(by=['subject_id', 'hadm_id', 'charttime_lab'])\n",
    "\n",
    "print(df4.dtypes)\n",
    "print(df4.shape)\n",
    "display(df4.head(3))"
   ]
  },
  {
   "cell_type": "code",
   "execution_count": 118,
   "metadata": {},
   "outputs": [
    {
     "name": "stdout",
     "output_type": "stream",
     "text": [
      "subject_id                     int64\n",
      "hadm_id                        int64\n",
      "admittime             datetime64[ns]\n",
      "dischtime             datetime64[ns]\n",
      "admission_type                object\n",
      "admission_location            object\n",
      "edregtime             datetime64[ns]\n",
      "edouttime             datetime64[ns]\n",
      "diagnosis                     object\n",
      "icustay_id                     int64\n",
      "eventtype                     object\n",
      "curr_careunit                 object\n",
      "curr_wardid                  float64\n",
      "intime                datetime64[ns]\n",
      "outtime               datetime64[ns]\n",
      "los                          float64\n",
      "itemid                         int64\n",
      "charttime_lab         datetime64[ns]\n",
      "dtype: object\n",
      "(273003, 18)\n"
     ]
    },
    {
     "data": {
      "text/html": [
       "<div>\n",
       "<style scoped>\n",
       "    .dataframe tbody tr th:only-of-type {\n",
       "        vertical-align: middle;\n",
       "    }\n",
       "\n",
       "    .dataframe tbody tr th {\n",
       "        vertical-align: top;\n",
       "    }\n",
       "\n",
       "    .dataframe thead th {\n",
       "        text-align: right;\n",
       "    }\n",
       "</style>\n",
       "<table border=\"1\" class=\"dataframe\">\n",
       "  <thead>\n",
       "    <tr style=\"text-align: right;\">\n",
       "      <th></th>\n",
       "      <th>subject_id</th>\n",
       "      <th>hadm_id</th>\n",
       "      <th>admittime</th>\n",
       "      <th>dischtime</th>\n",
       "      <th>admission_type</th>\n",
       "      <th>admission_location</th>\n",
       "      <th>edregtime</th>\n",
       "      <th>edouttime</th>\n",
       "      <th>diagnosis</th>\n",
       "      <th>icustay_id</th>\n",
       "      <th>eventtype</th>\n",
       "      <th>curr_careunit</th>\n",
       "      <th>curr_wardid</th>\n",
       "      <th>intime</th>\n",
       "      <th>outtime</th>\n",
       "      <th>los</th>\n",
       "      <th>itemid</th>\n",
       "      <th>charttime_lab</th>\n",
       "    </tr>\n",
       "  </thead>\n",
       "  <tbody>\n",
       "    <tr>\n",
       "      <th>0</th>\n",
       "      <td>10006</td>\n",
       "      <td>142345</td>\n",
       "      <td>2164-10-23 21:09:00</td>\n",
       "      <td>2164-11-01 17:15:00</td>\n",
       "      <td>EMERGENCY</td>\n",
       "      <td>EMERGENCY ROOM ADMIT</td>\n",
       "      <td>2164-10-23 16:43:00</td>\n",
       "      <td>2164-10-23 23:00:00</td>\n",
       "      <td>SEPSIS</td>\n",
       "      <td>206504</td>\n",
       "      <td>admit</td>\n",
       "      <td>MICU</td>\n",
       "      <td>52.0</td>\n",
       "      <td>2164-10-23 21:10:15</td>\n",
       "      <td>2164-10-25 12:21:07</td>\n",
       "      <td>39.18</td>\n",
       "      <td>50813</td>\n",
       "      <td>2164-10-23 17:33:00</td>\n",
       "    </tr>\n",
       "    <tr>\n",
       "      <th>1</th>\n",
       "      <td>10006</td>\n",
       "      <td>142345</td>\n",
       "      <td>2164-10-23 21:09:00</td>\n",
       "      <td>2164-11-01 17:15:00</td>\n",
       "      <td>EMERGENCY</td>\n",
       "      <td>EMERGENCY ROOM ADMIT</td>\n",
       "      <td>2164-10-23 16:43:00</td>\n",
       "      <td>2164-10-23 23:00:00</td>\n",
       "      <td>SEPSIS</td>\n",
       "      <td>206504</td>\n",
       "      <td>admit</td>\n",
       "      <td>MICU</td>\n",
       "      <td>52.0</td>\n",
       "      <td>2164-10-23 21:10:15</td>\n",
       "      <td>2164-10-25 12:21:07</td>\n",
       "      <td>39.18</td>\n",
       "      <td>50861</td>\n",
       "      <td>2164-10-23 17:38:00</td>\n",
       "    </tr>\n",
       "    <tr>\n",
       "      <th>2</th>\n",
       "      <td>10006</td>\n",
       "      <td>142345</td>\n",
       "      <td>2164-10-23 21:09:00</td>\n",
       "      <td>2164-11-01 17:15:00</td>\n",
       "      <td>EMERGENCY</td>\n",
       "      <td>EMERGENCY ROOM ADMIT</td>\n",
       "      <td>2164-10-23 16:43:00</td>\n",
       "      <td>2164-10-23 23:00:00</td>\n",
       "      <td>SEPSIS</td>\n",
       "      <td>206504</td>\n",
       "      <td>admit</td>\n",
       "      <td>MICU</td>\n",
       "      <td>52.0</td>\n",
       "      <td>2164-10-23 21:10:15</td>\n",
       "      <td>2164-10-25 12:21:07</td>\n",
       "      <td>39.18</td>\n",
       "      <td>50862</td>\n",
       "      <td>2164-10-23 17:38:00</td>\n",
       "    </tr>\n",
       "  </tbody>\n",
       "</table>\n",
       "</div>"
      ],
      "text/plain": [
       "   subject_id  hadm_id           admittime           dischtime admission_type  \\\n",
       "0       10006   142345 2164-10-23 21:09:00 2164-11-01 17:15:00      EMERGENCY   \n",
       "1       10006   142345 2164-10-23 21:09:00 2164-11-01 17:15:00      EMERGENCY   \n",
       "2       10006   142345 2164-10-23 21:09:00 2164-11-01 17:15:00      EMERGENCY   \n",
       "\n",
       "     admission_location           edregtime           edouttime diagnosis  \\\n",
       "0  EMERGENCY ROOM ADMIT 2164-10-23 16:43:00 2164-10-23 23:00:00    SEPSIS   \n",
       "1  EMERGENCY ROOM ADMIT 2164-10-23 16:43:00 2164-10-23 23:00:00    SEPSIS   \n",
       "2  EMERGENCY ROOM ADMIT 2164-10-23 16:43:00 2164-10-23 23:00:00    SEPSIS   \n",
       "\n",
       "   icustay_id eventtype curr_careunit  curr_wardid              intime  \\\n",
       "0      206504     admit          MICU         52.0 2164-10-23 21:10:15   \n",
       "1      206504     admit          MICU         52.0 2164-10-23 21:10:15   \n",
       "2      206504     admit          MICU         52.0 2164-10-23 21:10:15   \n",
       "\n",
       "              outtime    los  itemid       charttime_lab  \n",
       "0 2164-10-25 12:21:07  39.18   50813 2164-10-23 17:33:00  \n",
       "1 2164-10-25 12:21:07  39.18   50861 2164-10-23 17:38:00  \n",
       "2 2164-10-25 12:21:07  39.18   50862 2164-10-23 17:38:00  "
      ]
     },
     "metadata": {},
     "output_type": "display_data"
    }
   ],
   "source": [
    "# merge ADMISSIONS, TRANSFERS, LABEVENTS\n",
    "\n",
    "df_merge3 = pd.merge(df_merge, df4, on=['subject_id', 'hadm_id'])\n",
    "print(df_merge3.dtypes)\n",
    "print(df_merge3.shape)\n",
    "display(df_merge3.head(3))"
   ]
  },
  {
   "cell_type": "code",
   "execution_count": 119,
   "metadata": {},
   "outputs": [
    {
     "name": "stdout",
     "output_type": "stream",
     "text": [
      "subject_id                  int64\n",
      "hadm_id                     int64\n",
      "icustay_id                  int64\n",
      "starttime          datetime64[ns]\n",
      "endtime            datetime64[ns]\n",
      "itemid                      int64\n",
      "cgid                        int64\n",
      "storetime_input    datetime64[ns]\n",
      "dtype: object\n",
      "(13224, 8)\n"
     ]
    },
    {
     "data": {
      "text/html": [
       "<div>\n",
       "<style scoped>\n",
       "    .dataframe tbody tr th:only-of-type {\n",
       "        vertical-align: middle;\n",
       "    }\n",
       "\n",
       "    .dataframe tbody tr th {\n",
       "        vertical-align: top;\n",
       "    }\n",
       "\n",
       "    .dataframe thead th {\n",
       "        text-align: right;\n",
       "    }\n",
       "</style>\n",
       "<table border=\"1\" class=\"dataframe\">\n",
       "  <thead>\n",
       "    <tr style=\"text-align: right;\">\n",
       "      <th></th>\n",
       "      <th>subject_id</th>\n",
       "      <th>hadm_id</th>\n",
       "      <th>icustay_id</th>\n",
       "      <th>starttime</th>\n",
       "      <th>endtime</th>\n",
       "      <th>itemid</th>\n",
       "      <th>cgid</th>\n",
       "      <th>storetime_input</th>\n",
       "    </tr>\n",
       "  </thead>\n",
       "  <tbody>\n",
       "    <tr>\n",
       "      <th>5925</th>\n",
       "      <td>40124</td>\n",
       "      <td>126179</td>\n",
       "      <td>279554</td>\n",
       "      <td>2130-02-04 04:35:00</td>\n",
       "      <td>2130-02-05 08:21:00</td>\n",
       "      <td>225152</td>\n",
       "      <td>19085</td>\n",
       "      <td>2130-02-04 04:36:00</td>\n",
       "    </tr>\n",
       "    <tr>\n",
       "      <th>5926</th>\n",
       "      <td>40124</td>\n",
       "      <td>126179</td>\n",
       "      <td>279554</td>\n",
       "      <td>2130-02-04 04:35:00</td>\n",
       "      <td>2130-02-05 08:21:00</td>\n",
       "      <td>220949</td>\n",
       "      <td>19085</td>\n",
       "      <td>2130-02-04 04:36:00</td>\n",
       "    </tr>\n",
       "    <tr>\n",
       "      <th>5936</th>\n",
       "      <td>40124</td>\n",
       "      <td>126179</td>\n",
       "      <td>279554</td>\n",
       "      <td>2130-02-04 04:36:00</td>\n",
       "      <td>2130-02-04 10:00:00</td>\n",
       "      <td>222168</td>\n",
       "      <td>19085</td>\n",
       "      <td>2130-02-04 04:36:00</td>\n",
       "    </tr>\n",
       "  </tbody>\n",
       "</table>\n",
       "</div>"
      ],
      "text/plain": [
       "      subject_id  hadm_id  icustay_id           starttime             endtime  \\\n",
       "5925       40124   126179      279554 2130-02-04 04:35:00 2130-02-05 08:21:00   \n",
       "5926       40124   126179      279554 2130-02-04 04:35:00 2130-02-05 08:21:00   \n",
       "5936       40124   126179      279554 2130-02-04 04:36:00 2130-02-04 10:00:00   \n",
       "\n",
       "      itemid   cgid     storetime_input  \n",
       "5925  225152  19085 2130-02-04 04:36:00  \n",
       "5926  220949  19085 2130-02-04 04:36:00  \n",
       "5936  222168  19085 2130-02-04 04:36:00  "
      ]
     },
     "metadata": {},
     "output_type": "display_data"
    }
   ],
   "source": [
    "# reading input events (administered fluid intakes) data\n",
    "df5 = pd.read_csv('./dataset/mimic-iii-demo-1.4/INPUTEVENTS_MV.csv')\n",
    "\n",
    "# convert string to datetime\n",
    "df5['starttime'] = pd.to_datetime(df5['starttime'])\n",
    "df5['endtime'] = pd.to_datetime(df5['endtime'])\n",
    "df5['storetime_input'] = pd.to_datetime(df5['storetime'])\n",
    "\n",
    "# handle missing values\n",
    "# df5['icustay_id'] = df5['icustay_id'].fillna(0).astype('int64')\n",
    "\n",
    "df5.drop(['row_id', 'amount', 'amountuom', 'rate', 'rateuom', 'orderid', 'linkorderid', 'ordercategoryname', 'secondaryordercategoryname', 'ordercomponenttypedescription', 'ordercategorydescription', 'patientweight', 'totalamount', 'totalamountuom', 'isopenbag', 'continueinnextdept', 'cancelreason', 'statusdescription', 'comments_editedby', 'comments_canceledby', 'comments_date', 'originalamount', 'originalrate', 'storetime'], axis=1, inplace=True)\n",
    "\n",
    "# sort by subject_id, hadm_id and  storetime\n",
    "df5 = df5.sort_values(by=['subject_id', 'hadm_id', 'storetime_input'])\n",
    "\n",
    "print(df5.dtypes)\n",
    "print(df5.shape)\n",
    "display(df5.head(3))"
   ]
  },
  {
   "cell_type": "code",
   "execution_count": 120,
   "metadata": {},
   "outputs": [
    {
     "name": "stdout",
     "output_type": "stream",
     "text": [
      "subject_id                   int64\n",
      "hadm_id                      int64\n",
      "icustay_id                   int64\n",
      "itemid                       int64\n",
      "cgid                         int64\n",
      "storetime_output    datetime64[ns]\n",
      "dtype: object\n",
      "(11320, 6)\n"
     ]
    },
    {
     "data": {
      "text/html": [
       "<div>\n",
       "<style scoped>\n",
       "    .dataframe tbody tr th:only-of-type {\n",
       "        vertical-align: middle;\n",
       "    }\n",
       "\n",
       "    .dataframe tbody tr th {\n",
       "        vertical-align: top;\n",
       "    }\n",
       "\n",
       "    .dataframe thead th {\n",
       "        text-align: right;\n",
       "    }\n",
       "</style>\n",
       "<table border=\"1\" class=\"dataframe\">\n",
       "  <thead>\n",
       "    <tr style=\"text-align: right;\">\n",
       "      <th></th>\n",
       "      <th>subject_id</th>\n",
       "      <th>hadm_id</th>\n",
       "      <th>icustay_id</th>\n",
       "      <th>itemid</th>\n",
       "      <th>cgid</th>\n",
       "      <th>storetime_output</th>\n",
       "    </tr>\n",
       "  </thead>\n",
       "  <tbody>\n",
       "    <tr>\n",
       "      <th>1805</th>\n",
       "      <td>10006</td>\n",
       "      <td>142345</td>\n",
       "      <td>206504</td>\n",
       "      <td>40055</td>\n",
       "      <td>14387</td>\n",
       "      <td>2164-10-24 04:58:00</td>\n",
       "    </tr>\n",
       "    <tr>\n",
       "      <th>1806</th>\n",
       "      <td>10006</td>\n",
       "      <td>142345</td>\n",
       "      <td>206504</td>\n",
       "      <td>40069</td>\n",
       "      <td>19150</td>\n",
       "      <td>2164-10-25 03:22:00</td>\n",
       "    </tr>\n",
       "    <tr>\n",
       "      <th>1807</th>\n",
       "      <td>10006</td>\n",
       "      <td>142345</td>\n",
       "      <td>206504</td>\n",
       "      <td>40054</td>\n",
       "      <td>19150</td>\n",
       "      <td>2164-10-25 03:22:00</td>\n",
       "    </tr>\n",
       "  </tbody>\n",
       "</table>\n",
       "</div>"
      ],
      "text/plain": [
       "      subject_id  hadm_id  icustay_id  itemid   cgid    storetime_output\n",
       "1805       10006   142345      206504   40055  14387 2164-10-24 04:58:00\n",
       "1806       10006   142345      206504   40069  19150 2164-10-25 03:22:00\n",
       "1807       10006   142345      206504   40054  19150 2164-10-25 03:22:00"
      ]
     },
     "metadata": {},
     "output_type": "display_data"
    }
   ],
   "source": [
    "# reading output events (excreted fluid) data\n",
    "df6 = pd.read_csv('./dataset/mimic-iii-demo-1.4/OUTPUTEVENTS.csv')\n",
    "\n",
    "# # convert string to datetime\n",
    "df6['storetime_output'] = pd.to_datetime(df6['storetime'])\n",
    "\n",
    "# # handle missing values\n",
    "df6['icustay_id'] = df6['icustay_id'].fillna(0).astype('int64')\n",
    "# df6['value'] = df6['value'].fillna('NA')\n",
    "\n",
    "df6.drop(['row_id', 'valueuom', 'value', 'stopped', 'newbottle', 'iserror','storetime', 'charttime'], axis=1, inplace=True)\n",
    "\n",
    "# # sort by subject_id, hadm_id and  storetime_output\n",
    "df6 = df6.sort_values(by=['subject_id', 'hadm_id', 'storetime_output'])\n",
    "\n",
    "print(df6.dtypes)\n",
    "print(df6.shape)\n",
    "display(df6.head(3))"
   ]
  }
 ],
 "metadata": {
  "kernelspec": {
   "display_name": "torch",
   "language": "python",
   "name": "python3"
  },
  "language_info": {
   "codemirror_mode": {
    "name": "ipython",
    "version": 3
   },
   "file_extension": ".py",
   "mimetype": "text/x-python",
   "name": "python",
   "nbconvert_exporter": "python",
   "pygments_lexer": "ipython3",
   "version": "3.10.11"
  }
 },
 "nbformat": 4,
 "nbformat_minor": 2
}
