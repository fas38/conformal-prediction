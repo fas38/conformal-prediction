{
 "cells": [
  {
   "cell_type": "code",
   "execution_count": 9,
   "metadata": {},
   "outputs": [],
   "source": [
    "import torch\n",
    "from torch.utils.data import TensorDataset\n",
    "\n",
    "from torchcp.regression import Metrics\n",
    "from torchcp.regression.loss import QuantileLoss\n",
    "from torchcp.regression.predictors import ACI, CQR\n",
    "from torchcp.utils import fix_randomness\n",
    "from torchcp_utils.dataset import build_reg_data\n",
    "from torchcp_utils.utils import build_regression_model\n",
    "from torchcp_utils.regression import train"
   ]
  },
  {
   "cell_type": "code",
   "execution_count": 10,
   "metadata": {},
   "outputs": [
    {
     "name": "stdout",
     "output_type": "stream",
     "text": [
      "########################## CQR ###########################\n",
      "{'Coverage_rate': tensor([0.7967]), 'Average_size': tensor([27.8324])}\n",
      "########################## ACI ###########################\n",
      "Evaluating prediction sets...\n",
      "Coverage_rate: tensor([0.8767])\n",
      "Average_size: 30.973995208740234\n"
     ]
    }
   ],
   "source": [
    "if __name__ == '__main__':\n",
    "\n",
    "    ##################################\n",
    "    # Preparing dataset\n",
    "    ##################################\n",
    "    device = torch.device(\"cuda:0\" if torch.cuda.is_available() else \"cpu\")\n",
    "    fix_randomness(seed=2)\n",
    "    X, y = build_reg_data(data_name=\"synthetic\")\n",
    "    num_examples = X.shape[0]\n",
    "    T0 = int(num_examples * 0.4)\n",
    "    train_dataset = TensorDataset(torch.from_numpy(X[:T0, :]), torch.from_numpy(y[:T0]))\n",
    "    train_data_loader = torch.utils.data.DataLoader(train_dataset, batch_size=100, shuffle=True, pin_memory=True)\n",
    "\n",
    "\n",
    "    alpha = 0.1\n",
    "    quantiles = [alpha / 2, 1 - alpha / 2]\n",
    "    model = build_regression_model(\"NonLinearNet\")(X.shape[1], 2, 64, 0.5).to(device)\n",
    "    criterion = QuantileLoss(quantiles)\n",
    "    optimizer = torch.optim.Adam(model.parameters(), lr=0.01)\n",
    "\n",
    "    epochs = 10\n",
    "    for epoch in range(epochs):\n",
    "        train(model, device, epoch, train_data_loader, criterion, optimizer)\n",
    "            \n",
    "    model.eval()        \n",
    "    ##################################\n",
    "    # Conformal Quantile Regression\n",
    "    ##################################\n",
    "    print(\"########################## CQR ###########################\")\n",
    "\n",
    "    predictor = CQR(model)\n",
    "    cal_dataset = TensorDataset(torch.from_numpy(X[0:T0, :]), torch.from_numpy(y[0:T0]))\n",
    "    test_dataset = TensorDataset(torch.from_numpy(X[T0:, :]), torch.from_numpy(y[T0:]))\n",
    "    cal_data_loader = torch.utils.data.DataLoader(cal_dataset, batch_size=100, shuffle=False, pin_memory=True)\n",
    "    test_data_loader = torch.utils.data.DataLoader(test_dataset, batch_size=100, shuffle=False, pin_memory=True)\n",
    "    predictor.calibrate(cal_data_loader, alpha)\n",
    "    print(predictor.evaluate(test_data_loader))      \n",
    "\n",
    "    ##################################\n",
    "    # Adaptive Conformal Inference,\n",
    "    ##################################      \n",
    "    print(\"########################## ACI ###########################\")\n",
    "    predictor = ACI(model, 0.0001)\n",
    "    test_y = torch.from_numpy(y[T0:num_examples]).to(device)\n",
    "    predicts = torch.zeros((num_examples - T0, 2)).to(device)\n",
    "    for i in range(num_examples - T0):\n",
    "        with torch.no_grad():\n",
    "            cal_dataset = TensorDataset(torch.from_numpy(X[i:(T0 + i), :]), torch.from_numpy(y[i:(T0 + i)]))\n",
    "            cal_data_loader = torch.utils.data.DataLoader(cal_dataset, batch_size=100, shuffle=False, pin_memory=True)\n",
    "            predictor.calibrate(cal_data_loader, alpha)\n",
    "            tmp_x = torch.from_numpy(X[(T0 + i), :])\n",
    "            if i == 0:\n",
    "                tmp_prediction_intervals = predictor.predict(tmp_x)\n",
    "            else:\n",
    "                tmp_prediction_intervals = predictor.predict(tmp_x, test_y[i - 1], predicts[i - 1])\n",
    "            predicts[i, :] = tmp_prediction_intervals\n",
    "\n",
    "    metrics = Metrics()\n",
    "    print(\"Evaluating prediction sets...\")\n",
    "    print(f\"Coverage_rate: {metrics('coverage_rate')(predicts, test_y)}\")\n",
    "    print(f\"Average_size: {metrics('average_size')(predicts)}\")"
   ]
  }
 ],
 "metadata": {
  "kernelspec": {
   "display_name": "torch",
   "language": "python",
   "name": "python3"
  },
  "language_info": {
   "codemirror_mode": {
    "name": "ipython",
    "version": 3
   },
   "file_extension": ".py",
   "mimetype": "text/x-python",
   "name": "python",
   "nbconvert_exporter": "python",
   "pygments_lexer": "ipython3",
   "version": "3.10.14"
  }
 },
 "nbformat": 4,
 "nbformat_minor": 2
}
