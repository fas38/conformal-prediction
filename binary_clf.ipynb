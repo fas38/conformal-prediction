{
 "cells": [
  {
   "cell_type": "code",
   "execution_count": 69,
   "metadata": {},
   "outputs": [],
   "source": [
    "import numpy as np\n",
    "import pandas as pd\n",
    "import openml\n",
    "\n",
    "\n",
    "from sklearn.model_selection import train_test_split, GridSearchCV\n",
    "from sklearn.calibration import CalibratedClassifierCV\n",
    "from sklearn.preprocessing import LabelEncoder, StandardScaler\n",
    "from sklearn.ensemble import RandomForestClassifier\n",
    "from sklearn.metrics import log_loss, accuracy_score, brier_score_loss\n",
    "\n",
    "\n",
    "import matplotlib.pyplot as plt\n",
    "from matplotlib.gridspec import GridSpec\n",
    "import seaborn as sns\n",
    "\n",
    "from venn_abers import VennAbersCalibrator, VennAbers\n",
    "\n",
    "from crepes import WrapClassifier, ConformalClassifier\n",
    "\n",
    "from nonconformist.nc import NcFactory, InverseProbabilityErrFunc, MarginErrFunc\n",
    "from nonconformist.cp import TcpClassifier\n",
    "\n",
    "\n",
    "import warnings\n",
    "warnings.filterwarnings('ignore')\n",
    "\n",
    "\n",
    "\n",
    "\n",
    "# from collections import Counter\n"
   ]
  },
  {
   "cell_type": "code",
   "execution_count": 81,
   "metadata": {},
   "outputs": [
    {
     "data": {
      "text/html": [
       "<div>\n",
       "<style scoped>\n",
       "    .dataframe tbody tr th:only-of-type {\n",
       "        vertical-align: middle;\n",
       "    }\n",
       "\n",
       "    .dataframe tbody tr th {\n",
       "        vertical-align: top;\n",
       "    }\n",
       "\n",
       "    .dataframe thead th {\n",
       "        text-align: right;\n",
       "    }\n",
       "</style>\n",
       "<table border=\"1\" class=\"dataframe\">\n",
       "  <thead>\n",
       "    <tr style=\"text-align: right;\">\n",
       "      <th></th>\n",
       "      <th>checking_status</th>\n",
       "      <th>duration</th>\n",
       "      <th>credit_history</th>\n",
       "      <th>purpose</th>\n",
       "      <th>credit_amount</th>\n",
       "      <th>savings_status</th>\n",
       "      <th>employment</th>\n",
       "      <th>installment_commitment</th>\n",
       "      <th>personal_status</th>\n",
       "      <th>other_parties</th>\n",
       "      <th>residence_since</th>\n",
       "      <th>property_magnitude</th>\n",
       "      <th>age</th>\n",
       "      <th>other_payment_plans</th>\n",
       "      <th>housing</th>\n",
       "      <th>existing_credits</th>\n",
       "      <th>job</th>\n",
       "      <th>num_dependents</th>\n",
       "      <th>own_telephone</th>\n",
       "      <th>foreign_worker</th>\n",
       "    </tr>\n",
       "  </thead>\n",
       "  <tbody>\n",
       "    <tr>\n",
       "      <th>0</th>\n",
       "      <td>1</td>\n",
       "      <td>-1.236478</td>\n",
       "      <td>1</td>\n",
       "      <td>6</td>\n",
       "      <td>-0.745131</td>\n",
       "      <td>4</td>\n",
       "      <td>3</td>\n",
       "      <td>0.918477</td>\n",
       "      <td>3</td>\n",
       "      <td>2</td>\n",
       "      <td>1.046987</td>\n",
       "      <td>3</td>\n",
       "      <td>2.766456</td>\n",
       "      <td>1</td>\n",
       "      <td>1</td>\n",
       "      <td>1.027079</td>\n",
       "      <td>1</td>\n",
       "      <td>-0.428290</td>\n",
       "      <td>1</td>\n",
       "      <td>1</td>\n",
       "    </tr>\n",
       "    <tr>\n",
       "      <th>1</th>\n",
       "      <td>0</td>\n",
       "      <td>2.248194</td>\n",
       "      <td>3</td>\n",
       "      <td>6</td>\n",
       "      <td>0.949817</td>\n",
       "      <td>2</td>\n",
       "      <td>0</td>\n",
       "      <td>-0.870183</td>\n",
       "      <td>0</td>\n",
       "      <td>2</td>\n",
       "      <td>-0.765977</td>\n",
       "      <td>3</td>\n",
       "      <td>-1.191404</td>\n",
       "      <td>1</td>\n",
       "      <td>1</td>\n",
       "      <td>-0.704926</td>\n",
       "      <td>1</td>\n",
       "      <td>-0.428290</td>\n",
       "      <td>0</td>\n",
       "      <td>1</td>\n",
       "    </tr>\n",
       "    <tr>\n",
       "      <th>2</th>\n",
       "      <td>3</td>\n",
       "      <td>-0.738668</td>\n",
       "      <td>1</td>\n",
       "      <td>2</td>\n",
       "      <td>-0.416562</td>\n",
       "      <td>2</td>\n",
       "      <td>1</td>\n",
       "      <td>-0.870183</td>\n",
       "      <td>3</td>\n",
       "      <td>2</td>\n",
       "      <td>0.140505</td>\n",
       "      <td>3</td>\n",
       "      <td>1.183312</td>\n",
       "      <td>1</td>\n",
       "      <td>1</td>\n",
       "      <td>-0.704926</td>\n",
       "      <td>3</td>\n",
       "      <td>2.334869</td>\n",
       "      <td>0</td>\n",
       "      <td>1</td>\n",
       "    </tr>\n",
       "    <tr>\n",
       "      <th>3</th>\n",
       "      <td>1</td>\n",
       "      <td>1.750384</td>\n",
       "      <td>3</td>\n",
       "      <td>3</td>\n",
       "      <td>1.634247</td>\n",
       "      <td>2</td>\n",
       "      <td>1</td>\n",
       "      <td>-0.870183</td>\n",
       "      <td>3</td>\n",
       "      <td>1</td>\n",
       "      <td>1.046987</td>\n",
       "      <td>1</td>\n",
       "      <td>0.831502</td>\n",
       "      <td>1</td>\n",
       "      <td>0</td>\n",
       "      <td>-0.704926</td>\n",
       "      <td>1</td>\n",
       "      <td>2.334869</td>\n",
       "      <td>0</td>\n",
       "      <td>1</td>\n",
       "    </tr>\n",
       "    <tr>\n",
       "      <th>4</th>\n",
       "      <td>1</td>\n",
       "      <td>0.256953</td>\n",
       "      <td>2</td>\n",
       "      <td>4</td>\n",
       "      <td>0.566664</td>\n",
       "      <td>2</td>\n",
       "      <td>0</td>\n",
       "      <td>0.024147</td>\n",
       "      <td>3</td>\n",
       "      <td>2</td>\n",
       "      <td>1.046987</td>\n",
       "      <td>2</td>\n",
       "      <td>1.535122</td>\n",
       "      <td>1</td>\n",
       "      <td>0</td>\n",
       "      <td>1.027079</td>\n",
       "      <td>1</td>\n",
       "      <td>2.334869</td>\n",
       "      <td>0</td>\n",
       "      <td>1</td>\n",
       "    </tr>\n",
       "  </tbody>\n",
       "</table>\n",
       "</div>"
      ],
      "text/plain": [
       "   checking_status  duration  credit_history  purpose  credit_amount  \\\n",
       "0                1 -1.236478               1        6      -0.745131   \n",
       "1                0  2.248194               3        6       0.949817   \n",
       "2                3 -0.738668               1        2      -0.416562   \n",
       "3                1  1.750384               3        3       1.634247   \n",
       "4                1  0.256953               2        4       0.566664   \n",
       "\n",
       "   savings_status  employment  installment_commitment  personal_status  \\\n",
       "0               4           3                0.918477                3   \n",
       "1               2           0               -0.870183                0   \n",
       "2               2           1               -0.870183                3   \n",
       "3               2           1               -0.870183                3   \n",
       "4               2           0                0.024147                3   \n",
       "\n",
       "   other_parties  residence_since  property_magnitude       age  \\\n",
       "0              2         1.046987                   3  2.766456   \n",
       "1              2        -0.765977                   3 -1.191404   \n",
       "2              2         0.140505                   3  1.183312   \n",
       "3              1         1.046987                   1  0.831502   \n",
       "4              2         1.046987                   2  1.535122   \n",
       "\n",
       "   other_payment_plans  housing  existing_credits  job  num_dependents  \\\n",
       "0                    1        1          1.027079    1       -0.428290   \n",
       "1                    1        1         -0.704926    1       -0.428290   \n",
       "2                    1        1         -0.704926    3        2.334869   \n",
       "3                    1        0         -0.704926    1        2.334869   \n",
       "4                    1        0          1.027079    1        2.334869   \n",
       "\n",
       "   own_telephone  foreign_worker  \n",
       "0              1               1  \n",
       "1              0               1  \n",
       "2              0               1  \n",
       "3              0               1  \n",
       "4              0               1  "
      ]
     },
     "metadata": {},
     "output_type": "display_data"
    },
    {
     "name": "stdout",
     "output_type": "stream",
     "text": [
      "class labels: ['bad' 'good']\n",
      "class distribution: [300 700]\n"
     ]
    }
   ],
   "source": [
    "# dataset\n",
    "\n",
    "dataset_id = 31 # German Credit Data\n",
    "dataset = openml.datasets.get_dataset(dataset_id)\n",
    "X, y, _, _ = dataset.get_data(target=dataset.default_target_attribute)\n",
    "\n",
    "# handle datatypes\n",
    "# convert categorical data to numerical\n",
    "category_columns = X.select_dtypes(include=['category']).columns\n",
    "label_encoders = {}\n",
    "for column in category_columns:\n",
    "    label_encoders[column] = LabelEncoder()\n",
    "    X[column] = label_encoders[column].fit_transform(X[column])\n",
    "# convert uint8 to int\n",
    "uint8_columns = X.select_dtypes(include=['uint8']).columns\n",
    "for column in uint8_columns:\n",
    "    X[column] = X[column].astype('int')\n",
    "# convert class labels to numerical\n",
    "label_encoder = LabelEncoder()\n",
    "y = label_encoder.fit_transform(y)\n",
    "\n",
    "\n",
    "# standardize the data\n",
    "scaler = StandardScaler()\n",
    "X[uint8_columns] = scaler.fit_transform(X[uint8_columns])\n",
    "X[['credit_amount']] = scaler.fit_transform(X[['credit_amount']])\n",
    "\n",
    "# display dataset\n",
    "display(X.head(5))\n",
    "print(\"class labels:\", label_encoder.classes_)\n",
    "print(\"class distribution:\", np.bincount(y))\n",
    "\n",
    "# train-test split\n",
    "X_train, X_test, y_train, y_test = train_test_split(X, y, test_size=0.2, random_state=42)\n"
   ]
  },
  {
   "cell_type": "markdown",
   "metadata": {},
   "source": [
    "## Nonconformist Library"
   ]
  },
  {
   "cell_type": "code",
   "execution_count": 71,
   "metadata": {},
   "outputs": [],
   "source": [
    "# model\n",
    "clf = RandomForestClassifier(n_estimators=100, random_state=42)\n",
    "\n",
    "nc = NcFactory.create_nc(clf, err_func=InverseProbabilityErrFunc())\n",
    "tcp = TcpClassifier(nc)\n",
    "tcp.fit(X_train, y_train)\n",
    "predictions = tcp.predict(X_test.values, significance=0.1)"
   ]
  },
  {
   "cell_type": "code",
   "execution_count": 73,
   "metadata": {},
   "outputs": [
    {
     "name": "stdout",
     "output_type": "stream",
     "text": [
      "Coverage: 0.880\n",
      "Average Set Width: 1.23\n"
     ]
    },
    {
     "data": {
      "image/png": "[encoded data removed]",
      "text/plain": [
       "<Figure size 800x500 with 1 Axes>"
      ]
     },
     "metadata": {},
     "output_type": "display_data"
    }
   ],
   "source": [
    "# evaluation\n",
    "coverage = np.mean([predictions[i][y_test[i]] for i in range(len(y_test))])\n",
    "widths = [np.sum(pred) for pred in predictions]\n",
    "average_width = np.mean(widths)\n",
    "\n",
    "print(f\"Coverage: {coverage:.3f}\")\n",
    "print(f\"Average Set Width: {average_width:.2f}\")\n",
    "\n",
    "# Plot distribution of predictive set sizes\n",
    "plt.figure(figsize=(8, 5))\n",
    "sns.histplot(widths, bins=np.arange(0, 4) - 0.5, edgecolor='black', kde=False)\n",
    "plt.xticks([0, 1, 2])\n",
    "plt.xlabel('Width of Prediction Sets')\n",
    "plt.ylabel('Frequency')\n",
    "plt.title('Distribution of Prediction Set Widths')\n",
    "# plt.grid(True)\n",
    "plt.show()"
   ]
  },
  {
   "cell_type": "markdown",
   "metadata": {},
   "source": [
    "## Crepes Library"
   ]
  },
  {
   "cell_type": "code",
   "execution_count": 74,
   "metadata": {},
   "outputs": [],
   "source": [
    "# dataset\n",
    "# create calibration set\n",
    "X_train_proper, X_cal, y_train_proper, y_cal = train_test_split(X_train, y_train, test_size=0.2)"
   ]
  },
  {
   "cell_type": "code",
   "execution_count": 75,
   "metadata": {},
   "outputs": [],
   "source": [
    "# model\n",
    "clf = RandomForestClassifier(n_estimators=100, random_state=42)\n",
    "wrapped_clf = WrapClassifier(clf)\n",
    "\n",
    "wrapped_clf.fit(X_train_proper, y_train_proper)\n",
    "wrapped_clf.calibrate(X_cal, y_cal)\n",
    "\n",
    "prediction_sets = wrapped_clf.predict_set(X_test, confidence=0.9)\n",
    "predictions = wrapped_clf.predict(X_test)\n",
    "\n",
    "# print(prediction_sets)\n",
    "# print(prediction_sets.shape)"
   ]
  },
  {
   "cell_type": "code",
   "execution_count": 76,
   "metadata": {},
   "outputs": [
    {
     "name": "stdout",
     "output_type": "stream",
     "text": [
      "Coverage: 0.92\n",
      "Average Set Width: 1.39\n"
     ]
    },
    {
     "data": {
      "text/plain": [
       "{'error': 0.07999999999999996,\n",
       " 'avg_c': 1.39,\n",
       " 'one_c': 0.61,\n",
       " 'empty': 0.0,\n",
       " 'time_fit': 0.0,\n",
       " 'time_evaluate': 0.017412900924682617}"
      ]
     },
     "execution_count": 76,
     "metadata": {},
     "output_type": "execute_result"
    }
   ],
   "source": [
    "# evaluation\n",
    "coverage = np.mean([prediction_sets[i][y_test[i]] for i in range(len(y_test))])\n",
    "widths = [np.sum(pred) for pred in prediction_sets]\n",
    "average_width = np.mean(widths)\n",
    "\n",
    "print(f\"Coverage: {coverage:.2f}\")\n",
    "print(f\"Average Set Width: {average_width:.2f}\")\n",
    "\n",
    "wrapped_clf.evaluate(X_test, y_test, confidence=0.9)"
   ]
  },
  {
   "cell_type": "code",
   "execution_count": 77,
   "metadata": {},
   "outputs": [
    {
     "data": {
      "image/png": "[encoded data removed]",
      "text/plain": [
       "<Figure size 800x500 with 1 Axes>"
      ]
     },
     "metadata": {},
     "output_type": "display_data"
    }
   ],
   "source": [
    "# Plot distribution of predictive set sizes\n",
    "plt.figure(figsize=(8, 5))\n",
    "sns.histplot(widths, bins=np.arange(0, 4) - 0.5, edgecolor='black', kde=False)\n",
    "plt.xticks([0, 1, 2])\n",
    "plt.xlabel('Width of Prediction Sets')\n",
    "plt.ylabel('Frequency')\n",
    "plt.title('Distribution of Prediction Set Widths')\n",
    "# plt.grid(True)\n",
    "plt.show()"
   ]
  },
  {
   "cell_type": "markdown",
   "metadata": {},
   "source": [
    "#### Mondrian conformal classifiers Class-conditional"
   ]
  },
  {
   "cell_type": "code",
   "execution_count": 78,
   "metadata": {},
   "outputs": [],
   "source": [
    "# model\n",
    "clf = RandomForestClassifier(n_estimators=100, random_state=42)\n",
    "wrapped_clf = WrapClassifier(clf)\n",
    "wrapped_clf.fit(X_train_proper, y_train_proper)\n",
    "\n",
    "rf_class_cond = WrapClassifier(wrapped_clf.learner)\n",
    "wrapped_clf = rf_class_cond\n",
    "wrapped_clf.calibrate(X_cal, y_cal, class_cond=True)\n",
    "\n",
    "prediciton_sets = wrapped_clf.predict_set(X_test, confidence=0.9)\n",
    "predictions = wrapped_clf.predict(X_test)\n",
    "\n",
    "# print(prediciton_sets[:5])\n",
    "# print(prediciton_sets.shape)\n"
   ]
  },
  {
   "cell_type": "code",
   "execution_count": 79,
   "metadata": {},
   "outputs": [
    {
     "name": "stdout",
     "output_type": "stream",
     "text": [
      "Coverage: 0.92\n",
      "Average Set Width: 1.39\n"
     ]
    },
    {
     "data": {
      "text/plain": [
       "{'error': 0.06000000000000005,\n",
       " 'avg_c': 1.635,\n",
       " 'one_c': 0.365,\n",
       " 'empty': 0.0,\n",
       " 'time_fit': 0.0,\n",
       " 'time_evaluate': 0.030863523483276367}"
      ]
     },
     "execution_count": 79,
     "metadata": {},
     "output_type": "execute_result"
    }
   ],
   "source": [
    "# evaluation\n",
    "coverage = np.mean([prediction_sets[i][y_test[i]] for i in range(len(y_test))])\n",
    "widths = [np.sum(pred) for pred in prediction_sets]\n",
    "average_width = np.mean(widths)\n",
    "\n",
    "print(f\"Coverage: {coverage:.2f}\")\n",
    "print(f\"Average Set Width: {average_width:.2f}\")\n",
    "\n",
    "wrapped_clf.evaluate(X_test, y_test, confidence=0.9)"
   ]
  },
  {
   "cell_type": "code",
   "execution_count": 80,
   "metadata": {},
   "outputs": [
    {
     "data": {
      "image/png": "[encoded data removed]",
      "text/plain": [
       "<Figure size 800x500 with 1 Axes>"
      ]
     },
     "metadata": {},
     "output_type": "display_data"
    }
   ],
   "source": [
    "# Plot distribution of predictive set sizes\n",
    "plt.figure(figsize=(8, 5))\n",
    "sns.histplot(widths, bins=np.arange(0, 4) - 0.5, edgecolor='black', kde=False)\n",
    "plt.xticks([0, 1, 2])\n",
    "plt.xlabel('Width of Prediction Sets')\n",
    "plt.ylabel('Frequency')\n",
    "plt.title('Distribution of Prediction Set Widths')\n",
    "# plt.grid(True)\n",
    "plt.show()"
   ]
  },
  {
   "cell_type": "markdown",
   "metadata": {},
   "source": [
    "## Venn Abers Library"
   ]
  },
  {
   "cell_type": "code",
   "execution_count": 82,
   "metadata": {},
   "outputs": [
    {
     "name": "stdout",
     "output_type": "stream",
     "text": [
      "[[0. 1.]\n",
      " [0. 1.]\n",
      " [1. 0.]\n",
      " [0. 1.]\n",
      " [0. 1.]]\n",
      "[0 1 1 1 1]\n",
      "[[0.35294118 0.64705882]\n",
      " [0.40000001 0.59999999]\n",
      " [0.74999999 0.25000001]\n",
      " [0.40000001 0.59999999]\n",
      " [0.06521737 0.93478263]]\n",
      "(200, 2)\n"
     ]
    }
   ],
   "source": [
    "# model\n",
    "clf = RandomForestClassifier(n_estimators=100, random_state=42)\n",
    "va = VennAbersCalibrator(estimator=clf, inductive=True, cal_size=0.2, shuffle=False)\n",
    "va.fit(X_train, y_train)\n",
    "va_inductive_prob = va.predict_proba(X_test)\n",
    "va_inductive_pred = va.predict(X_test)\n",
    "predictions = va_inductive_pred\n",
    "prediction_prob = va_inductive_prob\n",
    "\n",
    "print(predictions[:5])\n",
    "print(y_test[:5])\n",
    "print(prediction_prob[:5])\n",
    "print(prediction_prob.shape)\n"
   ]
  },
  {
   "cell_type": "code",
   "execution_count": 83,
   "metadata": {},
   "outputs": [
    {
     "name": "stdout",
     "output_type": "stream",
     "text": [
      "Accuracy: 0.76\n"
     ]
    }
   ],
   "source": [
    "# evaluation\n",
    "predictions = np.argmax(va_inductive_prob, axis=1)\n",
    "accuracy = accuracy_score(y_test, predictions)\n",
    "\n",
    "print(f\"Accuracy: {accuracy:.2f}\")"
   ]
  },
  {
   "cell_type": "code",
   "execution_count": null,
   "metadata": {},
   "outputs": [],
   "source": [
    "# plot prediction probabilities\n",
    "plt.figure(figsize=(8, 5))\n"
   ]
  }
 ],
 "metadata": {
  "kernelspec": {
   "display_name": "torch",
   "language": "python",
   "name": "python3"
  },
  "language_info": {
   "codemirror_mode": {
    "name": "ipython",
    "version": 3
   },
   "file_extension": ".py",
   "mimetype": "text/x-python",
   "name": "python",
   "nbconvert_exporter": "python",
   "pygments_lexer": "ipython3",
   "version": "3.10.11"
  }
 },
 "nbformat": 4,
 "nbformat_minor": 2
}
