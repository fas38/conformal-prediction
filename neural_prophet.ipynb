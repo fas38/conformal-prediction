{
 "cells": [
  {
   "cell_type": "code",
   "execution_count": 22,
   "metadata": {},
   "outputs": [],
   "source": [
    "import numpy as np\n",
    "import pandas as pd\n",
    "from matplotlib import pyplot as plt\n",
    "from neuralprophet import NeuralProphet, uncertainty_evaluate, set_log_level, set_random_seed\n",
    "import logging\n",
    "import warnings\n",
    "logging.getLogger('prophet').setLevel(logging.ERROR)\n",
    "warnings.filterwarnings(\"ignore\")"
   ]
  },
  {
   "cell_type": "code",
   "execution_count": 5,
   "metadata": {},
   "outputs": [
    {
     "data": {
      "text/html": [
       "<div>\n",
       "<style scoped>\n",
       "    .dataframe tbody tr th:only-of-type {\n",
       "        vertical-align: middle;\n",
       "    }\n",
       "\n",
       "    .dataframe tbody tr th {\n",
       "        vertical-align: top;\n",
       "    }\n",
       "\n",
       "    .dataframe thead th {\n",
       "        text-align: right;\n",
       "    }\n",
       "</style>\n",
       "<table border=\"1\" class=\"dataframe\">\n",
       "  <thead>\n",
       "    <tr style=\"text-align: right;\">\n",
       "      <th></th>\n",
       "      <th>ds</th>\n",
       "      <th>y</th>\n",
       "    </tr>\n",
       "  </thead>\n",
       "  <tbody>\n",
       "    <tr>\n",
       "      <th>0</th>\n",
       "      <td>2015-01-01 01:00:00</td>\n",
       "      <td>778.007969</td>\n",
       "    </tr>\n",
       "    <tr>\n",
       "      <th>1</th>\n",
       "      <td>2015-01-01 02:00:00</td>\n",
       "      <td>776.241750</td>\n",
       "    </tr>\n",
       "    <tr>\n",
       "      <th>2</th>\n",
       "      <td>2015-01-01 03:00:00</td>\n",
       "      <td>779.357338</td>\n",
       "    </tr>\n",
       "    <tr>\n",
       "      <th>3</th>\n",
       "      <td>2015-01-01 04:00:00</td>\n",
       "      <td>778.737196</td>\n",
       "    </tr>\n",
       "    <tr>\n",
       "      <th>4</th>\n",
       "      <td>2015-01-01 05:00:00</td>\n",
       "      <td>787.835835</td>\n",
       "    </tr>\n",
       "  </tbody>\n",
       "</table>\n",
       "</div>"
      ],
      "text/plain": [
       "                    ds           y\n",
       "0  2015-01-01 01:00:00  778.007969\n",
       "1  2015-01-01 02:00:00  776.241750\n",
       "2  2015-01-01 03:00:00  779.357338\n",
       "3  2015-01-01 04:00:00  778.737196\n",
       "4  2015-01-01 05:00:00  787.835835"
      ]
     },
     "metadata": {},
     "output_type": "display_data"
    },
    {
     "data": {
      "text/html": [
       "<div>\n",
       "<style scoped>\n",
       "    .dataframe tbody tr th:only-of-type {\n",
       "        vertical-align: middle;\n",
       "    }\n",
       "\n",
       "    .dataframe tbody tr th {\n",
       "        vertical-align: top;\n",
       "    }\n",
       "\n",
       "    .dataframe thead th {\n",
       "        text-align: right;\n",
       "    }\n",
       "</style>\n",
       "<table border=\"1\" class=\"dataframe\">\n",
       "  <thead>\n",
       "    <tr style=\"text-align: right;\">\n",
       "      <th></th>\n",
       "      <th>ds</th>\n",
       "      <th>y</th>\n",
       "    </tr>\n",
       "  </thead>\n",
       "  <tbody>\n",
       "    <tr>\n",
       "      <th>8755</th>\n",
       "      <td>2015-12-31 20:00:00</td>\n",
       "      <td>845.563081</td>\n",
       "    </tr>\n",
       "    <tr>\n",
       "      <th>8756</th>\n",
       "      <td>2015-12-31 21:00:00</td>\n",
       "      <td>827.530521</td>\n",
       "    </tr>\n",
       "    <tr>\n",
       "      <th>8757</th>\n",
       "      <td>2015-12-31 22:00:00</td>\n",
       "      <td>829.256300</td>\n",
       "    </tr>\n",
       "    <tr>\n",
       "      <th>8758</th>\n",
       "      <td>2015-12-31 23:00:00</td>\n",
       "      <td>813.937205</td>\n",
       "    </tr>\n",
       "    <tr>\n",
       "      <th>8759</th>\n",
       "      <td>2016-01-01 00:00:00</td>\n",
       "      <td>815.588584</td>\n",
       "    </tr>\n",
       "  </tbody>\n",
       "</table>\n",
       "</div>"
      ],
      "text/plain": [
       "                       ds           y\n",
       "8755  2015-12-31 20:00:00  845.563081\n",
       "8756  2015-12-31 21:00:00  827.530521\n",
       "8757  2015-12-31 22:00:00  829.256300\n",
       "8758  2015-12-31 23:00:00  813.937205\n",
       "8759  2016-01-01 00:00:00  815.588584"
      ]
     },
     "metadata": {},
     "output_type": "display_data"
    }
   ],
   "source": [
    "df = pd.read_csv('dataset/SF_hospital_load.csv')\n",
    "display(df.head())\n",
    "display(df.tail())"
   ]
  },
  {
   "cell_type": "code",
   "execution_count": 24,
   "metadata": {},
   "outputs": [
    {
     "name": "stderr",
     "output_type": "stream",
     "text": [
      "INFO - (NP.df_utils._infer_frequency) - Major frequency h corresponds to 99.989% of the data.\n",
      "INFO - (NP.df_utils._infer_frequency) - Defined frequency is equal to major frequency - H\n"
     ]
    },
    {
     "name": "stderr",
     "output_type": "stream",
     "text": [
      "INFO - (NP.df_utils.return_df_in_original_format) - Returning df with no ID column\n",
      "INFO - (NP.df_utils.return_df_in_original_format) - Returning df with no ID column\n",
      "INFO - (NP.df_utils._infer_frequency) - Major frequency h corresponds to 99.988% of the data.\n",
      "INFO - (NP.df_utils._infer_frequency) - Defined frequency is equal to major frequency - H\n",
      "INFO - (NP.df_utils.return_df_in_original_format) - Returning df with no ID column\n",
      "INFO - (NP.df_utils.return_df_in_original_format) - Returning df with no ID column\n"
     ]
    },
    {
     "data": {
      "image/png": "[encoded data removed]",
      "text/plain": [
       "<Figure size 1000x600 with 1 Axes>"
      ]
     },
     "metadata": {},
     "output_type": "display_data"
    }
   ],
   "source": [
    "# Create NeuralProphet object\n",
    "m = NeuralProphet()\n",
    "# Data spliting function split one time-series dataframe into two\n",
    "# Configure the hourly frequency by assigning 'H' to parameter freq\n",
    "# Configure the splitting ratio with a value between 0 and 1 for valid_p\n",
    "df['ds'] = pd.to_datetime(df['ds'])\n",
    "df_train, df_test = m.split_df(df, freq=\"H\", valid_p=1.0 / 16)\n",
    "df_train, df_cal = m.split_df(df_train, freq=\"H\", valid_p=1.0 / 11)\n",
    "df_train.shape, df_cal.shape, df_test.shape\n",
    "\n",
    "# plot the data\n",
    "fig, ax = plt.subplots(1, 1, figsize=(10, 6))\n",
    "ax.plot(df_train.ds, df_train.y, label=\"train\")\n",
    "ax.plot(df_cal.ds, df_cal.y, label=\"calibration\")\n",
    "ax.plot(df_test.ds, df_test.y, label=\"test\")\n",
    "ax.legend()\n",
    "plt.show()"
   ]
  },
  {
   "cell_type": "code",
   "execution_count": 27,
   "metadata": {},
   "outputs": [
    {
     "name": "stderr",
     "output_type": "stream",
     "text": [
      "WARNING - (NP.forecaster.fit) - When Global modeling with local normalization, metrics are displayed in normalized scale.\n",
      "INFO - (NP.df_utils._infer_frequency) - Major frequency h corresponds to 99.987% of the data.\n",
      "INFO - (NP.df_utils._infer_frequency) - Defined frequency is equal to major frequency - H\n",
      "INFO - (NP.config.init_data_params) - Setting normalization to global as only one dataframe provided for training.\n",
      "INFO - (NP.utils.set_auto_seasonalities) - Disabling yearly seasonality. Run NeuralProphet with yearly_seasonality=True to override this.\n",
      "INFO - (NP.config.set_auto_batch_epoch) - Auto-set batch_size to 64\n",
      "INFO - (NP.config.set_auto_batch_epoch) - Auto-set epochs to 60\n",
      "WARNING - (NP.config.set_lr_finder_args) - Learning rate finder: The number of batches (117) is too small than the required number                     for the learning rate finder (246). The results might not be optimal.\n",
      "Finding best initial lr: 100%|██████████| 246/246 [00:01<00:00, 161.24it/s]\n"
     ]
    },
    {
     "name": "stdout",
     "output_type": "stream",
     "text": [
      "Epoch 60: 100%|██████████| 60/60 [00:00<00:00, 88.78it/s, loss=0.0299, v_num=2, MAE=64.50, RMSE=81.40, Loss=0.0289, RegLoss=0.000]   "
     ]
    },
    {
     "name": "stderr",
     "output_type": "stream",
     "text": [
      "WARNING - (NP.forecaster.fit) - When Global modeling with local normalization, metrics are displayed in normalized scale.\n",
      "INFO - (NP.df_utils._infer_frequency) - Major frequency h corresponds to 99.987% of the data.\n",
      "INFO - (NP.df_utils._infer_frequency) - Defined frequency is equal to major frequency - H\n",
      "INFO - (NP.config.init_data_params) - Setting normalization to global as only one dataframe provided for training.\n",
      "INFO - (NP.config.set_auto_batch_epoch) - Auto-set batch_size to 64\n",
      "INFO - (NP.config.set_auto_batch_epoch) - Auto-set epochs to 60\n"
     ]
    },
    {
     "name": "stdout",
     "output_type": "stream",
     "text": [
      "\n",
      "Epoch 60: 100%|██████████| 60/60 [00:01<00:00, 48.09it/s, loss=0.000887, v_num=3, MAE=8.500, RMSE=11.90, Loss=0.000795, RegLoss=0.000]    \n"
     ]
    }
   ],
   "source": [
    "# base model\n",
    "# Parameter for autoregression\n",
    "confidence_lv = 0.9\n",
    "quantile_list = [round(((1 - confidence_lv) / 2), 2), round((confidence_lv + (1 - confidence_lv) / 2), 2)]\n",
    "# Predict the value in the next hours based on the last three daysin an-hour steps\n",
    "n_lags = 3 * 24\n",
    "# Create a simple quantile regression model\n",
    "cp_model1 = NeuralProphet(quantiles=quantile_list)\n",
    "cp_model1.set_plotting_backend(\"plotly-static\")\n",
    "\n",
    "# Create a 4-layer autoregression model as the base\n",
    "cp_model2 = NeuralProphet(\n",
    "    yearly_seasonality=False,\n",
    "    weekly_seasonality=False,\n",
    "    daily_seasonality=False,\n",
    "    n_lags=n_lags,\n",
    "    ar_layers=[32, 32, 32, 32],\n",
    "    learning_rate=0.003,\n",
    "    quantiles=quantile_list,\n",
    ")\n",
    "cp_model2.set_plotting_backend(\"plotly-static\")\n",
    "\n",
    "# Feed the training subset in the configured NeuralProphet models\n",
    "# Configure the hourly frequency by assigning 'H' to parameter freq\n",
    "set_random_seed(0)\n",
    "metrics1 = cp_model1.fit(train_df, freq=\"H\")\n",
    "set_random_seed(0)\n",
    "metrics2 = cp_model2.fit(train_df, freq=\"H\")"
   ]
  },
  {
   "cell_type": "code",
   "execution_count": 29,
   "metadata": {},
   "outputs": [
    {
     "name": "stderr",
     "output_type": "stream",
     "text": [
      "INFO - (NP.df_utils._infer_frequency) - Major frequency h corresponds to 99.866% of the data.\n",
      "INFO - (NP.df_utils._infer_frequency) - Defined frequency is equal to major frequency - H\n",
      "INFO - (NP.df_utils._infer_frequency) - Major frequency h corresponds to 99.866% of the data.\n",
      "INFO - (NP.df_utils._infer_frequency) - Defined frequency is equal to major frequency - H\n"
     ]
    },
    {
     "name": "stdout",
     "output_type": "stream",
     "text": [
      "Predicting DataLoader 0: 100%|██████████| 1/1 [00:00<?, ?it/s]"
     ]
    },
    {
     "name": "stderr",
     "output_type": "stream",
     "text": [
      "INFO - (NP.df_utils.return_df_in_original_format) - Returning df with no ID column\n",
      "INFO - (NP.df_utils._infer_frequency) - Major frequency h corresponds to 99.817% of the data.\n",
      "INFO - (NP.df_utils._infer_frequency) - Defined frequency is equal to major frequency - H\n",
      "INFO - (NP.df_utils._infer_frequency) - Major frequency h corresponds to 99.817% of the data.\n",
      "INFO - (NP.df_utils._infer_frequency) - Defined frequency is equal to major frequency - H\n"
     ]
    },
    {
     "name": "stdout",
     "output_type": "stream",
     "text": [
      "\n",
      "Predicting DataLoader 0: 100%|██████████| 1/1 [00:00<00:00, 200.12it/s]"
     ]
    },
    {
     "name": "stderr",
     "output_type": "stream",
     "text": [
      "INFO - (NP.df_utils.return_df_in_original_format) - Returning df with no ID column\n"
     ]
    },
    {
     "name": "stdout",
     "output_type": "stream",
     "text": [
      "\n"
     ]
    },
    {
     "data": {
      "application/vnd.plotly.v1+json": {
       "config": {
        "plotlyServerURL": "https://plot.ly"
       },
       "data": [
        {
         "hovertemplate": "Confidence Level=%{x}<br>One-Sided Interval Width=%{y}<extra></extra>",
         "legendgroup": "",
         "line": {
          "color": "#636efa",
          "dash": "solid"
         },
         "marker": {
          "symbol": "circle"
         },
         "mode": "lines",
         "name": "",
         "orientation": "v",
         "showlegend": false,
         "type": "scatter",
         "x": [
          0,
          0.0013404825737265416,
          0.002680965147453083,
          0.004021447721179625,
          0.005361930294906166,
          0.006702412868632708,
          0.00804289544235925,
          0.00938337801608579,
          0.010723860589812333,
          0.012064343163538873,
          0.013404825737265416,
          0.014745308310991957,
          0.0160857908847185,
          0.01742627345844504,
          0.01876675603217158,
          0.020107238605898123,
          0.021447721179624665,
          0.022788203753351208,
          0.024128686327077747,
          0.02546916890080429,
          0.02680965147453083,
          0.028150134048257374,
          0.029490616621983913,
          0.030831099195710455,
          0.032171581769437,
          0.03351206434316354,
          0.03485254691689008,
          0.036193029490616625,
          0.03753351206434316,
          0.0388739946380697,
          0.040214477211796246,
          0.04155495978552279,
          0.04289544235924933,
          0.04423592493297587,
          0.045576407506702415,
          0.04691689008042895,
          0.04825737265415549,
          0.049597855227882036,
          0.05093833780160858,
          0.05227882037533512,
          0.05361930294906166,
          0.054959785522788206,
          0.05630026809651475,
          0.057640750670241284,
          0.058981233243967826,
          0.06032171581769437,
          0.06166219839142091,
          0.06300268096514745,
          0.064343163538874,
          0.06568364611260054,
          0.06702412868632708,
          0.06836461126005362,
          0.06970509383378017,
          0.07104557640750671,
          0.07238605898123325,
          0.07372654155495978,
          0.07506702412868632,
          0.07640750670241286,
          0.0777479892761394,
          0.07908847184986595,
          0.08042895442359249,
          0.08176943699731903,
          0.08310991957104558,
          0.08445040214477212,
          0.08579088471849866,
          0.0871313672922252,
          0.08847184986595175,
          0.08981233243967829,
          0.09115281501340483,
          0.09249329758713137,
          0.0938337801608579,
          0.09517426273458444,
          0.09651474530831099,
          0.09785522788203753,
          0.09919571045576407,
          0.10053619302949061,
          0.10187667560321716,
          0.1032171581769437,
          0.10455764075067024,
          0.10589812332439678,
          0.10723860589812333,
          0.10857908847184987,
          0.10991957104557641,
          0.11126005361930295,
          0.1126005361930295,
          0.11394101876675604,
          0.11528150134048257,
          0.11662198391420911,
          0.11796246648793565,
          0.1193029490616622,
          0.12064343163538874,
          0.12198391420911528,
          0.12332439678284182,
          0.12466487935656836,
          0.1260053619302949,
          0.12734584450402145,
          0.128686327077748,
          0.13002680965147453,
          0.13136729222520108,
          0.13270777479892762,
          0.13404825737265416,
          0.1353887399463807,
          0.13672922252010725,
          0.1380697050938338,
          0.13941018766756033,
          0.14075067024128687,
          0.14209115281501342,
          0.14343163538873996,
          0.1447721179624665,
          0.14611260053619302,
          0.14745308310991956,
          0.1487935656836461,
          0.15013404825737264,
          0.15147453083109919,
          0.15281501340482573,
          0.15415549597855227,
          0.1554959785522788,
          0.15683646112600536,
          0.1581769436997319,
          0.15951742627345844,
          0.16085790884718498,
          0.16219839142091153,
          0.16353887399463807,
          0.1648793565683646,
          0.16621983914209115,
          0.1675603217158177,
          0.16890080428954424,
          0.17024128686327078,
          0.17158176943699732,
          0.17292225201072386,
          0.1742627345844504,
          0.17560321715817695,
          0.1769436997319035,
          0.17828418230563003,
          0.17962466487935658,
          0.18096514745308312,
          0.18230563002680966,
          0.1836461126005362,
          0.18498659517426275,
          0.1863270777479893,
          0.1876675603217158,
          0.18900804289544235,
          0.1903485254691689,
          0.19168900804289543,
          0.19302949061662197,
          0.19436997319034852,
          0.19571045576407506,
          0.1970509383378016,
          0.19839142091152814,
          0.19973190348525469,
          0.20107238605898123,
          0.20241286863270777,
          0.2037533512064343,
          0.20509383378016086,
          0.2064343163538874,
          0.20777479892761394,
          0.20911528150134048,
          0.21045576407506703,
          0.21179624664879357,
          0.2131367292225201,
          0.21447721179624665,
          0.2158176943699732,
          0.21715817694369974,
          0.21849865951742628,
          0.21983914209115282,
          0.22117962466487937,
          0.2225201072386059,
          0.22386058981233245,
          0.225201072386059,
          0.22654155495978553,
          0.22788203753351208,
          0.2292225201072386,
          0.23056300268096513,
          0.23190348525469168,
          0.23324396782841822,
          0.23458445040214476,
          0.2359249329758713,
          0.23726541554959785,
          0.2386058981233244,
          0.23994638069705093,
          0.24128686327077747,
          0.24262734584450402,
          0.24396782841823056,
          0.2453083109919571,
          0.24664879356568364,
          0.2479892761394102,
          0.24932975871313673,
          0.25067024128686327,
          0.2520107238605898,
          0.25335120643431636,
          0.2546916890080429,
          0.25603217158176944,
          0.257372654155496,
          0.2587131367292225,
          0.26005361930294907,
          0.2613941018766756,
          0.26273458445040215,
          0.2640750670241287,
          0.26541554959785524,
          0.2667560321715818,
          0.2680965147453083,
          0.26943699731903487,
          0.2707774798927614,
          0.27211796246648795,
          0.2734584450402145,
          0.27479892761394104,
          0.2761394101876676,
          0.2774798927613941,
          0.27882037533512066,
          0.2801608579088472,
          0.28150134048257375,
          0.2828418230563003,
          0.28418230563002683,
          0.2855227882037534,
          0.2868632707774799,
          0.28820375335120646,
          0.289544235924933,
          0.29088471849865954,
          0.29222520107238603,
          0.2935656836461126,
          0.2949061662198391,
          0.29624664879356566,
          0.2975871313672922,
          0.29892761394101874,
          0.3002680965147453,
          0.30160857908847183,
          0.30294906166219837,
          0.3042895442359249,
          0.30563002680965146,
          0.306970509383378,
          0.30831099195710454,
          0.3096514745308311,
          0.3109919571045576,
          0.31233243967828417,
          0.3136729222520107,
          0.31501340482573725,
          0.3163538873994638,
          0.31769436997319034,
          0.3190348525469169,
          0.3203753351206434,
          0.32171581769436997,
          0.3230563002680965,
          0.32439678284182305,
          0.3257372654155496,
          0.32707774798927614,
          0.3284182305630027,
          0.3297587131367292,
          0.33109919571045576,
          0.3324396782841823,
          0.33378016085790885,
          0.3351206434316354,
          0.33646112600536193,
          0.3378016085790885,
          0.339142091152815,
          0.34048257372654156,
          0.3418230563002681,
          0.34316353887399464,
          0.3445040214477212,
          0.34584450402144773,
          0.34718498659517427,
          0.3485254691689008,
          0.34986595174262736,
          0.3512064343163539,
          0.35254691689008044,
          0.353887399463807,
          0.3552278820375335,
          0.35656836461126007,
          0.3579088471849866,
          0.35924932975871315,
          0.3605898123324397,
          0.36193029490616624,
          0.3632707774798928,
          0.3646112600536193,
          0.36595174262734587,
          0.3672922252010724,
          0.36863270777479895,
          0.3699731903485255,
          0.37131367292225204,
          0.3726541554959786,
          0.3739946380697051,
          0.3753351206434316,
          0.37667560321715815,
          0.3780160857908847,
          0.37935656836461124,
          0.3806970509383378,
          0.3820375335120643,
          0.38337801608579086,
          0.3847184986595174,
          0.38605898123324395,
          0.3873994638069705,
          0.38873994638069703,
          0.3900804289544236,
          0.3914209115281501,
          0.39276139410187666,
          0.3941018766756032,
          0.39544235924932974,
          0.3967828418230563,
          0.39812332439678283,
          0.39946380697050937,
          0.4008042895442359,
          0.40214477211796246,
          0.403485254691689,
          0.40482573726541554,
          0.4061662198391421,
          0.4075067024128686,
          0.40884718498659517,
          0.4101876675603217,
          0.41152815013404825,
          0.4128686327077748,
          0.41420911528150134,
          0.4155495978552279,
          0.4168900804289544,
          0.41823056300268097,
          0.4195710455764075,
          0.42091152815013405,
          0.4222520107238606,
          0.42359249329758714,
          0.4249329758713137,
          0.4262734584450402,
          0.42761394101876676,
          0.4289544235924933,
          0.43029490616621985,
          0.4316353887399464,
          0.43297587131367293,
          0.4343163538873995,
          0.435656836461126,
          0.43699731903485256,
          0.4383378016085791,
          0.43967828418230565,
          0.4410187667560322,
          0.44235924932975873,
          0.4436997319034853,
          0.4450402144772118,
          0.44638069705093836,
          0.4477211796246649,
          0.44906166219839144,
          0.450402144772118,
          0.4517426273458445,
          0.45308310991957107,
          0.4544235924932976,
          0.45576407506702415,
          0.4571045576407507,
          0.4584450402144772,
          0.4597855227882037,
          0.46112600536193027,
          0.4624664879356568,
          0.46380697050938335,
          0.4651474530831099,
          0.46648793565683644,
          0.467828418230563,
          0.4691689008042895,
          0.47050938337801607,
          0.4718498659517426,
          0.47319034852546915,
          0.4745308310991957,
          0.47587131367292224,
          0.4772117962466488,
          0.4785522788203753,
          0.47989276139410186,
          0.4812332439678284,
          0.48257372654155495,
          0.4839142091152815,
          0.48525469168900803,
          0.4865951742627346,
          0.4879356568364611,
          0.48927613941018766,
          0.4906166219839142,
          0.49195710455764075,
          0.4932975871313673,
          0.49463806970509383,
          0.4959785522788204,
          0.4973190348525469,
          0.49865951742627346,
          0.5,
          0.5013404825737265,
          0.5026809651474531,
          0.5040214477211796,
          0.5053619302949062,
          0.5067024128686327,
          0.5080428954423593,
          0.5093833780160858,
          0.5107238605898123,
          0.5120643431635389,
          0.5134048257372654,
          0.514745308310992,
          0.5160857908847185,
          0.517426273458445,
          0.5187667560321716,
          0.5201072386058981,
          0.5214477211796247,
          0.5227882037533512,
          0.5241286863270778,
          0.5254691689008043,
          0.5268096514745308,
          0.5281501340482574,
          0.5294906166219839,
          0.5308310991957105,
          0.532171581769437,
          0.5335120643431636,
          0.5348525469168901,
          0.5361930294906166,
          0.5375335120643432,
          0.5388739946380697,
          0.5402144772117963,
          0.5415549597855228,
          0.5428954423592494,
          0.5442359249329759,
          0.5455764075067024,
          0.546916890080429,
          0.5482573726541555,
          0.5495978552278821,
          0.5509383378016086,
          0.5522788203753352,
          0.5536193029490617,
          0.5549597855227882,
          0.5563002680965148,
          0.5576407506702413,
          0.5589812332439679,
          0.5603217158176944,
          0.561662198391421,
          0.5630026809651475,
          0.564343163538874,
          0.5656836461126006,
          0.5670241286863271,
          0.5683646112600537,
          0.5697050938337802,
          0.5710455764075067,
          0.5723860589812333,
          0.5737265415549598,
          0.5750670241286864,
          0.5764075067024129,
          0.5777479892761395,
          0.579088471849866,
          0.5804289544235925,
          0.5817694369973191,
          0.5831099195710456,
          0.5844504021447721,
          0.5857908847184986,
          0.5871313672922251,
          0.5884718498659517,
          0.5898123324396782,
          0.5911528150134048,
          0.5924932975871313,
          0.5938337801608579,
          0.5951742627345844,
          0.596514745308311,
          0.5978552278820375,
          0.599195710455764,
          0.6005361930294906,
          0.6018766756032171,
          0.6032171581769437,
          0.6045576407506702,
          0.6058981233243967,
          0.6072386058981233,
          0.6085790884718498,
          0.6099195710455764,
          0.6112600536193029,
          0.6126005361930295,
          0.613941018766756,
          0.6152815013404825,
          0.6166219839142091,
          0.6179624664879356,
          0.6193029490616622,
          0.6206434316353887,
          0.6219839142091153,
          0.6233243967828418,
          0.6246648793565683,
          0.6260053619302949,
          0.6273458445040214,
          0.628686327077748,
          0.6300268096514745,
          0.631367292225201,
          0.6327077747989276,
          0.6340482573726541,
          0.6353887399463807,
          0.6367292225201072,
          0.6380697050938338,
          0.6394101876675603,
          0.6407506702412868,
          0.6420911528150134,
          0.6434316353887399,
          0.6447721179624665,
          0.646112600536193,
          0.6474530831099196,
          0.6487935656836461,
          0.6501340482573726,
          0.6514745308310992,
          0.6528150134048257,
          0.6541554959785523,
          0.6554959785522788,
          0.6568364611260054,
          0.6581769436997319,
          0.6595174262734584,
          0.660857908847185,
          0.6621983914209115,
          0.6635388739946381,
          0.6648793565683646,
          0.6662198391420912,
          0.6675603217158177,
          0.6689008042895442,
          0.6702412868632708,
          0.6715817694369973,
          0.6729222520107239,
          0.6742627345844504,
          0.675603217158177,
          0.6769436997319035,
          0.67828418230563,
          0.6796246648793566,
          0.6809651474530831,
          0.6823056300268097,
          0.6836461126005362,
          0.6849865951742627,
          0.6863270777479893,
          0.6876675603217158,
          0.6890080428954424,
          0.6903485254691689,
          0.6916890080428955,
          0.693029490616622,
          0.6943699731903485,
          0.6957104557640751,
          0.6970509383378016,
          0.6983914209115282,
          0.6997319034852547,
          0.7010723860589813,
          0.7024128686327078,
          0.7037533512064343,
          0.7050938337801609,
          0.7064343163538874,
          0.707774798927614,
          0.7091152815013405,
          0.710455764075067,
          0.7117962466487936,
          0.7131367292225201,
          0.7144772117962467,
          0.7158176943699732,
          0.7171581769436998,
          0.7184986595174263,
          0.7198391420911529,
          0.7211796246648794,
          0.7225201072386059,
          0.7238605898123325,
          0.725201072386059,
          0.7265415549597856,
          0.7278820375335121,
          0.7292225201072386,
          0.7305630026809652,
          0.7319034852546917,
          0.7332439678284183,
          0.7345844504021448,
          0.7359249329758714,
          0.7372654155495979,
          0.7386058981233244,
          0.739946380697051,
          0.7412868632707775,
          0.7426273458445041,
          0.7439678284182306,
          0.7453083109919572,
          0.7466487935656837,
          0.7479892761394102,
          0.7493297587131368,
          0.7506702412868632,
          0.7520107238605898,
          0.7533512064343163,
          0.7546916890080428,
          0.7560321715817694,
          0.7573726541554959,
          0.7587131367292225,
          0.760053619302949,
          0.7613941018766756,
          0.7627345844504021,
          0.7640750670241286,
          0.7654155495978552,
          0.7667560321715817,
          0.7680965147453083,
          0.7694369973190348,
          0.7707774798927614,
          0.7721179624664879,
          0.7734584450402144,
          0.774798927613941,
          0.7761394101876675,
          0.7774798927613941,
          0.7788203753351206,
          0.7801608579088471,
          0.7815013404825737,
          0.7828418230563002,
          0.7841823056300268,
          0.7855227882037533,
          0.7868632707774799,
          0.7882037533512064,
          0.789544235924933,
          0.7908847184986595,
          0.792225201072386,
          0.7935656836461126,
          0.7949061662198391,
          0.7962466487935657,
          0.7975871313672922,
          0.7989276139410187,
          0.8002680965147453,
          0.8016085790884718,
          0.8029490616621984,
          0.8042895442359249,
          0.8056300268096515,
          0.806970509383378,
          0.8083109919571045,
          0.8096514745308311,
          0.8109919571045576,
          0.8123324396782842,
          0.8136729222520107,
          0.8150134048257373,
          0.8163538873994638,
          0.8176943699731903,
          0.8190348525469169,
          0.8203753351206434,
          0.82171581769437,
          0.8230563002680965,
          0.824396782841823,
          0.8257372654155496,
          0.8270777479892761,
          0.8284182305630027,
          0.8297587131367292,
          0.8310991957104558,
          0.8324396782841823,
          0.8337801608579088,
          0.8351206434316354,
          0.8364611260053619,
          0.8378016085790885,
          0.839142091152815,
          0.8404825737265416,
          0.8418230563002681,
          0.8431635388739946,
          0.8445040214477212,
          0.8458445040214477,
          0.8471849865951743,
          0.8485254691689008,
          0.8498659517426274,
          0.8512064343163539,
          0.8525469168900804,
          0.853887399463807,
          0.8552278820375335,
          0.8565683646112601,
          0.8579088471849866,
          0.8592493297587132,
          0.8605898123324397,
          0.8619302949061662,
          0.8632707774798928,
          0.8646112600536193,
          0.8659517426273459,
          0.8672922252010724,
          0.868632707774799,
          0.8699731903485255,
          0.871313672922252,
          0.8726541554959786,
          0.8739946380697051,
          0.8753351206434317,
          0.8766756032171582,
          0.8780160857908847,
          0.8793565683646113,
          0.8806970509383378,
          0.8820375335120644,
          0.8833780160857909,
          0.8847184986595175,
          0.886058981233244,
          0.8873994638069705,
          0.8887399463806971,
          0.8900804289544236,
          0.8914209115281502,
          0.8927613941018767,
          0.8941018766756033,
          0.8954423592493298,
          0.8967828418230563,
          0.8981233243967829,
          0.8994638069705094,
          0.900804289544236,
          0.9021447721179625,
          0.903485254691689,
          0.9048257372654156,
          0.9061662198391421,
          0.9075067024128687,
          0.9088471849865952,
          0.9101876675603218,
          0.9115281501340483,
          0.9128686327077749,
          0.9142091152815014,
          0.9155495978552279,
          0.9168900804289544,
          0.9182305630026809,
          0.9195710455764075,
          0.920911528150134,
          0.9222520107238605,
          0.9235924932975871,
          0.9249329758713136,
          0.9262734584450402,
          0.9276139410187667,
          0.9289544235924933,
          0.9302949061662198,
          0.9316353887399463,
          0.9329758713136729,
          0.9343163538873994,
          0.935656836461126,
          0.9369973190348525,
          0.938337801608579,
          0.9396782841823056,
          0.9410187667560321,
          0.9423592493297587,
          0.9436997319034852,
          0.9450402144772118,
          0.9463806970509383,
          0.9477211796246648,
          0.9490616621983914,
          0.9504021447721179,
          0.9517426273458445,
          0.953083109919571,
          0.9544235924932976,
          0.9557640750670241,
          0.9571045576407506,
          0.9584450402144772,
          0.9597855227882037,
          0.9611260053619303,
          0.9624664879356568,
          0.9638069705093834,
          0.9651474530831099,
          0.9664879356568364,
          0.967828418230563,
          0.9691689008042895,
          0.9705093833780161,
          0.9718498659517426,
          0.9731903485254692,
          0.9745308310991957,
          0.9758713136729222,
          0.9772117962466488,
          0.9785522788203753,
          0.9798927613941019,
          0.9812332439678284,
          0.982573726541555,
          0.9839142091152815,
          0.985254691689008,
          0.9865951742627346,
          0.9879356568364611,
          0.9892761394101877,
          0.9906166219839142,
          0.9919571045576407,
          0.9932975871313673,
          0.9946380697050938,
          0.9959785522788204,
          0.9973190348525469,
          0.9986595174262735
         ],
         "xaxis": "x",
         "y": [
          -134.06713818906246,
          -127.42930654375004,
          -124.41738570625,
          -113.46726353124996,
          -112.54966936718756,
          -102.6317041171875,
          -101.78280124999992,
          -100.93740301562502,
          -97.73035806250004,
          -96.61698406250002,
          -96.53300673750005,
          -94.53830123437501,
          -92.92440049218749,
          -89.08216878124995,
          -87.31062388203122,
          -85.97282123437503,
          -85.76603284218754,
          -85.70420753593748,
          -83.65596213906247,
          -82.66138931249998,
          -82.24233667968747,
          -82.03612689531246,
          -80.9588539609374,
          -80.87123071874998,
          -79.53176760937504,
          -79.08111765624994,
          -78.99577051406254,
          -78.81184206250009,
          -78.47258354687506,
          -77.05564100703123,
          -76.60397862890625,
          -76.18579404687489,
          -76.16412352656255,
          -76.1392605312501,
          -75.71588257812505,
          -75.63100919062504,
          -75.55991620312511,
          -75.23748135468747,
          -74.15556414062507,
          -73.82413915781251,
          -73.80166354687503,
          -73.16121164062497,
          -72.89350030624996,
          -72.28335756249999,
          -72.25654089062505,
          -71.62981632499998,
          -71.1068533507812,
          -71.04737374374997,
          -70.67937939062494,
          -70.54213161093753,
          -70.4323708460937,
          -70.05521373124998,
          -69.85264407343755,
          -69.74335793906255,
          -69.3640348804687,
          -68.86404262499991,
          -68.62191021874992,
          -67.90955382578124,
          -67.76911024765627,
          -67.68110795312509,
          -67.3539554296874,
          -67.32012854687491,
          -67.2710903726562,
          -67.05314920312503,
          -66.91537406249995,
          -66.61854062499992,
          -66.19594565312502,
          -65.88269939140628,
          -65.71275125625004,
          -65.34581860156254,
          -64.73775020312496,
          -64.68910171874995,
          -64.58023212500007,
          -63.90842249609375,
          -63.802086606249986,
          -63.74392619843752,
          -63.6987214374999,
          -63.373871847656346,
          -63.2535421679687,
          -62.804544234375044,
          -62.730209242187584,
          -62.674973734375044,
          -62.47532301171873,
          -62.34455552343752,
          -62.330280885937555,
          -62.035352165625,
          -61.733222734374976,
          -60.8568698281249,
          -60.751979640624995,
          -60.64982288281249,
          -60.642094070312396,
          -60.614961484375044,
          -60.599487631249985,
          -60.52183640625003,
          -60.33198262421877,
          -59.96028756406247,
          -59.626907378125,
          -59.47280884218753,
          -59.428463460937564,
          -59.39297931875001,
          -59.024561308593775,
          -58.993540828125106,
          -58.970195710156304,
          -58.49737789843755,
          -58.09069571093755,
          -57.97799999375002,
          -57.67073175156247,
          -57.46619279687502,
          -57.44922414062489,
          -57.2308309296875,
          -56.7571441210938,
          -56.7077254796875,
          -56.250795468750084,
          -56.115872939062456,
          -55.5025493359376,
          -55.49538575546876,
          -55.429184578125046,
          -54.60258471718748,
          -54.56124003437503,
          -53.99225206250003,
          -53.58421745312489,
          -53.01182662499991,
          -52.996280839843735,
          -52.839384624218724,
          -52.81759218281252,
          -52.77714476562505,
          -52.70569697031249,
          -52.426791890625054,
          -52.412102445312485,
          -52.266085933593786,
          -52.18524425781243,
          -51.94602621093759,
          -51.88886196640624,
          -51.73937979687503,
          -51.44111026562496,
          -51.3706963046875,
          -51.05944685468751,
          -50.79274837968751,
          -50.63976545312494,
          -50.52161410156259,
          -50.13376398125001,
          -49.922245890624936,
          -49.821746498437506,
          -49.81709225781253,
          -49.75237236718749,
          -49.40417651562507,
          -49.11696835937505,
          -48.89012295703128,
          -48.8048082929688,
          -48.733268640625056,
          -48.575080156249896,
          -48.55728480781249,
          -48.232700046874925,
          -47.80865071874996,
          -47.55394036953123,
          -47.537181212499945,
          -47.357292403906285,
          -47.34466697031246,
          -46.925013421875065,
          -46.821870816406204,
          -46.643286004687525,
          -46.310589910156295,
          -46.22549989843753,
          -45.677256853906215,
          -45.641913570312454,
          -45.62437321250002,
          -45.26760401562501,
          -45.18036031249994,
          -44.940225410156245,
          -44.491323914062605,
          -44.38734181562495,
          -44.37397231328123,
          -44.37233139062505,
          -44.24032294531253,
          -44.18175693046874,
          -44.130637170312525,
          -43.990991531250074,
          -43.651981851562596,
          -43.520742828125094,
          -43.426340467187515,
          -43.34316108984376,
          -43.306048124218705,
          -43.22244598750001,
          -43.214769846875015,
          -43.05743755468757,
          -43.03360854296875,
          -42.40709541484375,
          -42.34063307812505,
          -42.329313341406305,
          -42.054403421874895,
          -41.92413282812504,
          -41.92037766406247,
          -41.89652898437498,
          -41.5091344453125,
          -41.30411460859375,
          -41.2816966093751,
          -41.2050469570313,
          -41.04159082812498,
          -40.845570496874984,
          -40.7485198742188,
          -40.687930562500014,
          -40.42938176171879,
          -40.195536746093694,
          -39.730552328124986,
          -39.284731425781274,
          -39.054987730468724,
          -38.812245929687606,
          -38.70964897656245,
          -38.60449503281245,
          -38.13930959375,
          -38.03944890625007,
          -37.84694018749997,
          -37.63807922656247,
          -37.61512571875005,
          -36.92815137499997,
          -36.56831241562497,
          -36.272187109374954,
          -35.82354834374996,
          -35.71493007812501,
          -35.66373182812504,
          -35.31929407031248,
          -34.629288682812444,
          -34.37230912968755,
          -33.408971921875036,
          -33.18764929687495,
          -32.810388562500066,
          -32.46810829843753,
          -32.39355478125003,
          -32.26181704687497,
          -32.12130429765625,
          -31.93902417968752,
          -31.797774075000007,
          -31.70962592187493,
          -31.52749435937494,
          -31.424281342968698,
          -31.007278171874987,
          -30.793968624999934,
          -30.687591982812478,
          -30.642035963281273,
          -30.56490406250009,
          -30.519664507812422,
          -30.363553054687486,
          -29.994810786718745,
          -29.386977128124954,
          -29.140584234374955,
          -29.047422046875,
          -28.99870123437495,
          -28.930361637500027,
          -28.877002203124903,
          -28.702659156250093,
          -28.106332585156224,
          -27.722018421874964,
          -27.408532500000092,
          -27.405788858593723,
          -27.350515969531216,
          -26.716021371874945,
          -26.636136009375036,
          -26.573255171874962,
          -26.55990710156243,
          -26.536386484375043,
          -26.52142787734374,
          -26.43975109374992,
          -26.323190700000055,
          -26.162666148437552,
          -26.08847746406252,
          -26.03181451171872,
          -25.889336906250037,
          -25.711640218750063,
          -25.561634557812454,
          -25.448741796875083,
          -25.351400093750044,
          -24.985465937500067,
          -24.788917835937582,
          -24.745635437499914,
          -24.699110832812494,
          -24.630677954687485,
          -24.477595406249975,
          -24.419110414062516,
          -24.145216125000047,
          -24.006272640624957,
          -23.789676758593714,
          -23.76258045312511,
          -23.69553482499998,
          -23.615555045312476,
          -23.324516848437497,
          -22.97166771875004,
          -22.25085807812502,
          -21.720029721874994,
          -21.656062140624954,
          -21.314496968750063,
          -21.27661845312491,
          -21.04241167812495,
          -20.959689855468696,
          -20.706538468749955,
          -20.704112371093743,
          -20.511143429687536,
          -19.615756196875054,
          -19.412371882812522,
          -19.26899770546879,
          -19.2665110914063,
          -19.261743882812425,
          -19.206437068750006,
          -18.884512798437527,
          -18.734830078125015,
          -18.526718385937556,
          -18.126345752343695,
          -18.01566545312494,
          -17.823629104687484,
          -17.613539296874933,
          -17.601777513281263,
          -17.473073205468722,
          -17.359892375000072,
          -17.32772730078125,
          -17.27651013281252,
          -17.210358186718736,
          -16.992903610937447,
          -16.693529375000026,
          -16.494759242187456,
          -16.483645703125035,
          -16.42064143750008,
          -16.415124851562496,
          -16.372796187499944,
          -15.790425171874972,
          -15.640964828125107,
          -15.57429830390629,
          -15.433456624999963,
          -15.243403484374994,
          -15.184479120312517,
          -14.97276142968758,
          -14.94299723437507,
          -14.689884937499983,
          -14.574876407812553,
          -14.574522285156263,
          -14.394080249999888,
          -14.135900901562536,
          -14.115539796875055,
          -14.093614849999994,
          -14.035642374999952,
          -13.697810394531302,
          -13.461329906250057,
          -13.426586266406275,
          -13.246356996874965,
          -13.080900129687507,
          -12.87218859453128,
          -12.858416531249986,
          -12.836319848437483,
          -12.690344359375104,
          -12.641778890624892,
          -12.377963624999893,
          -12.163905796875042,
          -11.40585175000001,
          -11.22541049531253,
          -10.8992001874999,
          -10.810733921874998,
          -10.759881735937483,
          -10.477403249999952,
          -10.382839718749892,
          -9.911216238281213,
          -9.906441640624962,
          -9.860786992187514,
          -9.83541753124996,
          -9.806126828124889,
          -9.628433626562469,
          -9.330929796875012,
          -9.269087769531211,
          -9.258585390625058,
          -9.089125943749991,
          -8.987214833593725,
          -8.791865849218766,
          -8.768265629687448,
          -8.497407307031267,
          -8.495041890625089,
          -8.303230017968758,
          -8.22583560234375,
          -7.887778343749915,
          -7.7309458601562255,
          -7.676962343749892,
          -7.666016492187509,
          -7.481418421875105,
          -7.456360382812477,
          -7.313896937499976,
          -6.920842562499956,
          -6.662285545312557,
          -6.594965406249912,
          -6.590488640624926,
          -6.547404843749973,
          -6.30469449843747,
          -6.277685226562426,
          -5.845612599218725,
          -5.515309602343791,
          -5.196074317187481,
          -5.037698253906228,
          -4.995899617187433,
          -4.733819999999923,
          -4.554604984374919,
          -4.553157828124995,
          -4.29018426562493,
          -4.253133587499974,
          -4.043444560937473,
          -3.2440918437499704,
          -3.1473586093750328,
          -2.938262359374903,
          -2.927402499999971,
          -2.8707620218749526,
          -2.7525925906249995,
          -2.651335812500065,
          -2.254852406250052,
          -2.184588103906208,
          -1.941778203125068,
          -1.9081558085937331,
          -1.4924991953124618,
          -1.3176074992187523,
          -1.31518648437509,
          -0.9170016875000329,
          -0.52322987499997,
          0.09652244843755398,
          0.12253616640623477,
          0.16143492578123642,
          0.24500506250001308,
          0.2455880468749001,
          0.34297684374996606,
          0.4135560398437974,
          0.8974008437500061,
          1.3544050437500346,
          1.7299366492187573,
          1.8877641250001034,
          2.203285062500072,
          2.2600679781249937,
          2.549873866406301,
          2.5549018984374925,
          2.728357421874989,
          2.819706842968799,
          2.895685346874984,
          3.3599263546874454,
          3.3658158656249952,
          3.3704454960937937,
          3.4734921406250123,
          3.4815843742187553,
          3.6303106406251118,
          3.7214873437499136,
          3.8716111281249823,
          3.8855225140624725,
          3.9564528890624615,
          4.00280666562503,
          4.162396633593744,
          4.350197359374988,
          4.397384140625036,
          4.579045946874999,
          4.8888972968750295,
          4.913184609375094,
          5.066204822656232,
          5.272555512500048,
          5.3068035109374705,
          5.490116267187545,
          6.182172965625,
          6.556042510156203,
          7.008144019531301,
          7.18980455625001,
          7.295560101562387,
          7.356275380468787,
          7.422300109375101,
          7.5702493437499925,
          7.764781562500048,
          7.946181869531301,
          8.132022403125006,
          8.487686679687613,
          8.553486504687498,
          8.59021487968755,
          8.640343611718777,
          8.906234371093774,
          9.040728218750019,
          9.056748843750029,
          9.302861924218746,
          9.411934820312467,
          9.734741421875015,
          10.258574554687584,
          10.4691055937501,
          10.658032659374953,
          11.589679906250012,
          11.758747812499905,
          12.064156109375062,
          12.192949125000041,
          12.44716882656246,
          12.692639537499986,
          13.004035684375026,
          13.030495658593736,
          13.06930574453122,
          13.167444143750004,
          13.727100632812494,
          13.849799468750007,
          13.881863152343726,
          14.12144971875,
          14.218536949218787,
          14.272043265624916,
          14.592832000000044,
          14.92859380781249,
          15.370286156249904,
          15.490058755468795,
          15.780469409374973,
          16.00915224531252,
          16.18144993750002,
          16.904900624999982,
          17.062415124999916,
          17.099535622656276,
          17.13322782656246,
          17.15703948437499,
          17.397894984374943,
          17.645062515625114,
          17.86270177187498,
          18.227770654687447,
          18.290096734375084,
          18.494127393749977,
          18.564140968750053,
          18.702715650781215,
          18.724674460937422,
          18.7884108046876,
          18.810193468749958,
          18.972863546875033,
          19.267196721875052,
          19.81272939062501,
          19.907489796875097,
          19.954920116406242,
          20.399384859375004,
          20.573597231250005,
          20.59008439843751,
          20.66157603906254,
          20.820455343749927,
          20.87693351562507,
          21.037920731249983,
          21.07285187499997,
          21.23327694531247,
          21.347263367187452,
          21.714647555468787,
          21.75103595781252,
          21.874154974218754,
          22.343996633593747,
          22.578100343750066,
          22.802332053906298,
          22.86600737734375,
          23.15715925781251,
          23.286702953124973,
          23.38517592968742,
          23.75279157812497,
          24.041305018749995,
          24.156499499999995,
          24.209815078125075,
          24.480364089062505,
          24.687871204687553,
          25.31582803828121,
          25.35348272500005,
          25.468329843750098,
          25.598436864843734,
          25.638413562499977,
          26.066759342968794,
          26.09592286406246,
          26.55280903749997,
          26.61352448437492,
          26.873511203124963,
          27.190387949218803,
          27.229230228906204,
          27.338049774999945,
          27.410387660937545,
          27.42398376406254,
          27.726363069531203,
          27.984324316406287,
          28.05332324999995,
          28.100998985937508,
          28.36750109374998,
          28.44004018671876,
          28.977298020312446,
          29.212970022656236,
          29.239129695312613,
          29.377931289843787,
          29.404519984375042,
          29.553460328125084,
          30.039020853124953,
          30.152867224218767,
          30.39502677109374,
          30.635551851562468,
          30.872541812500003,
          31.191402859375103,
          31.26632072031248,
          31.43711921328122,
          31.895231325000054,
          31.918106105468723,
          31.966909821093736,
          32.26805882812505,
          32.32998239062499,
          32.60485949218753,
          32.73953278125009,
          32.80455687109372,
          32.80859816796874,
          32.85479745156249,
          32.89028448281249,
          32.94720603515634,
          32.95099950000008,
          33.055246382031214,
          33.05613104687495,
          33.26316244687496,
          33.2769288429688,
          35.12106588593747,
          35.468683145312525,
          35.54928711171874,
          35.970869503906215,
          36.07317889531248,
          36.47940977343751,
          36.890488984375,
          36.92184790624992,
          37.56637386875002,
          37.933795343750035,
          37.959297093750024,
          38.66861142812502,
          39.06149098593755,
          39.07538739843744,
          39.365133203906225,
          39.826703218750026,
          39.92420540624994,
          40.16280813984372,
          40.729780793750024,
          41.41110339062493,
          41.56002916328123,
          41.663059350000026,
          42.39263464062503,
          42.65365056015628,
          42.76311528906251,
          42.874181890625096,
          43.566445239062546,
          44.63344733203121,
          44.82905226562502,
          46.82522961328118,
          48.966875638281294,
          49.0564273437501,
          49.9477741585938,
          50.44102140625,
          51.4483859531249,
          51.9902358164062,
          52.03865355468747,
          52.347628782812535,
          52.74824604374999,
          52.927289164062586,
          53.10875520312493,
          53.474428207031224,
          54.435612054687454,
          54.7755010625001,
          55.54979912500005,
          55.83457560937495,
          56.0212483437499,
          58.15302384375002,
          58.431114667968814,
          59.2328719218749,
          59.31502548828121,
          60.56433025234378,
          61.41929283593754,
          61.42155853281247,
          61.64460262812497,
          61.99671611718759,
          62.12889496484377,
          62.3706430468751,
          62.7753680078124,
          62.93174942187511,
          63.15830234531245,
          63.42905588984377,
          65.29352510937497,
          65.64924024218749,
          65.88970328124992,
          67.07311121093744,
          67.20932097499997,
          67.37738013046874,
          67.92298590625,
          68.99875659999998,
          69.21330966796882,
          69.82505004218751,
          69.87768315624999,
          70.2551629218749,
          70.6173366914062,
          70.76282518749997,
          70.94683296250003,
          71.59336472109374,
          72.68130645390625,
          73.02363610156249,
          73.832227046875,
          74.65588163281245,
          74.68923621093745,
          75.48069382812491,
          75.54049922656259,
          76.57660171875,
          76.84074993437503,
          77.68965625781243,
          78.09503352031254,
          79.04356931171878,
          79.11087901406245,
          79.69189013281255,
          80.04437284609378,
          80.64694423046876,
          80.75345149218742,
          83.12740331640634,
          83.64987074999999,
          87.41158975781241,
          90.35997842187498,
          91.05993039062491,
          93.62570423203124,
          94.75542535937507,
          95.11956802343752,
          96.46866403125,
          98.83331843750011,
          99.520425203125,
          99.74016284687502,
          100.86653543750003,
          101.65830493281248,
          102.17085261718739,
          104.83297030000006,
          105.1661720046875,
          106.38471624062504,
          107.36083556093752,
          107.83143821093745,
          110.37348102656244,
          110.49720628906243,
          110.5642059179687,
          111.69554621484372,
          113.36649900156249,
          114.34143335390627,
          116.01111253125009,
          118.70795064843742,
          120.27443344375001,
          124.23572092656252,
          125.69864000781251,
          128.89116460781247,
          133.15740271875006,
          136.48763041562495,
          138.5129726875,
          142.66032825156253,
          144.0814234359375,
          157.25992841562504,
          157.5671515859375,
          191.39155439062495,
          191.85152033281247,
          199.81078168124998,
          201.55922708749995,
          203.00073864374997,
          206.43726802187496,
          213.40211063125003,
          218.72999176562496,
          222.45778387500002,
          224.79807588125004,
          232.70768837031255,
          280.0791365875
         ],
         "yaxis": "y"
        }
       ],
       "layout": {
        "annotations": [
         {
          "showarrow": false,
          "text": "(1-alpha) = 0.9",
          "x": 0.9,
          "xanchor": "right",
          "xref": "x",
          "y": 1,
          "yanchor": "top",
          "yref": "y domain"
         },
         {
          "showarrow": false,
          "text": "q1 = 69.88",
          "x": 0,
          "xanchor": "left",
          "xref": "x domain",
          "y": 69.87768315624999,
          "yanchor": "bottom",
          "yref": "y"
         }
        ],
        "height": 400,
        "legend": {
         "tracegroupgap": 0
        },
        "margin": {
         "b": 50,
         "l": 70,
         "r": 70,
         "t": 60
        },
        "shapes": [
         {
          "line": {
           "color": "green",
           "width": 1
          },
          "type": "line",
          "x0": 0.9,
          "x1": 0.9,
          "xref": "x",
          "y0": 0,
          "y1": 1,
          "yref": "y domain"
         },
         {
          "line": {
           "color": "red",
           "width": 1
          },
          "type": "line",
          "x0": 0,
          "x1": 1,
          "xref": "x domain",
          "y0": 69.87768315624999,
          "y1": 69.87768315624999,
          "yref": "y"
         }
        ],
        "template": {
         "data": {
          "bar": [
           {
            "error_x": {
             "color": "#2a3f5f"
            },
            "error_y": {
             "color": "#2a3f5f"
            },
            "marker": {
             "line": {
              "color": "#E5ECF6",
              "width": 0.5
             },
             "pattern": {
              "fillmode": "overlay",
              "size": 10,
              "solidity": 0.2
             }
            },
            "type": "bar"
           }
          ],
          "barpolar": [
           {
            "marker": {
             "line": {
              "color": "#E5ECF6",
              "width": 0.5
             },
             "pattern": {
              "fillmode": "overlay",
              "size": 10,
              "solidity": 0.2
             }
            },
            "type": "barpolar"
           }
          ],
          "carpet": [
           {
            "aaxis": {
             "endlinecolor": "#2a3f5f",
             "gridcolor": "white",
             "linecolor": "white",
             "minorgridcolor": "white",
             "startlinecolor": "#2a3f5f"
            },
            "baxis": {
             "endlinecolor": "#2a3f5f",
             "gridcolor": "white",
             "linecolor": "white",
             "minorgridcolor": "white",
             "startlinecolor": "#2a3f5f"
            },
            "type": "carpet"
           }
          ],
          "choropleth": [
           {
            "colorbar": {
             "outlinewidth": 0,
             "ticks": ""
            },
            "type": "choropleth"
           }
          ],
          "contour": [
           {
            "colorbar": {
             "outlinewidth": 0,
             "ticks": ""
            },
            "colorscale": [
             [
              0,
              "#0d0887"
             ],
             [
              0.1111111111111111,
              "#46039f"
             ],
             [
              0.2222222222222222,
              "#7201a8"
             ],
             [
              0.3333333333333333,
              "#9c179e"
             ],
             [
              0.4444444444444444,
              "#bd3786"
             ],
             [
              0.5555555555555556,
              "#d8576b"
             ],
             [
              0.6666666666666666,
              "#ed7953"
             ],
             [
              0.7777777777777778,
              "#fb9f3a"
             ],
             [
              0.8888888888888888,
              "#fdca26"
             ],
             [
              1,
              "#f0f921"
             ]
            ],
            "type": "contour"
           }
          ],
          "contourcarpet": [
           {
            "colorbar": {
             "outlinewidth": 0,
             "ticks": ""
            },
            "type": "contourcarpet"
           }
          ],
          "heatmap": [
           {
            "colorbar": {
             "outlinewidth": 0,
             "ticks": ""
            },
            "colorscale": [
             [
              0,
              "#0d0887"
             ],
             [
              0.1111111111111111,
              "#46039f"
             ],
             [
              0.2222222222222222,
              "#7201a8"
             ],
             [
              0.3333333333333333,
              "#9c179e"
             ],
             [
              0.4444444444444444,
              "#bd3786"
             ],
             [
              0.5555555555555556,
              "#d8576b"
             ],
             [
              0.6666666666666666,
              "#ed7953"
             ],
             [
              0.7777777777777778,
              "#fb9f3a"
             ],
             [
              0.8888888888888888,
              "#fdca26"
             ],
             [
              1,
              "#f0f921"
             ]
            ],
            "type": "heatmap"
           }
          ],
          "heatmapgl": [
           {
            "colorbar": {
             "outlinewidth": 0,
             "ticks": ""
            },
            "colorscale": [
             [
              0,
              "#0d0887"
             ],
             [
              0.1111111111111111,
              "#46039f"
             ],
             [
              0.2222222222222222,
              "#7201a8"
             ],
             [
              0.3333333333333333,
              "#9c179e"
             ],
             [
              0.4444444444444444,
              "#bd3786"
             ],
             [
              0.5555555555555556,
              "#d8576b"
             ],
             [
              0.6666666666666666,
              "#ed7953"
             ],
             [
              0.7777777777777778,
              "#fb9f3a"
             ],
             [
              0.8888888888888888,
              "#fdca26"
             ],
             [
              1,
              "#f0f921"
             ]
            ],
            "type": "heatmapgl"
           }
          ],
          "histogram": [
           {
            "marker": {
             "pattern": {
              "fillmode": "overlay",
              "size": 10,
              "solidity": 0.2
             }
            },
            "type": "histogram"
           }
          ],
          "histogram2d": [
           {
            "colorbar": {
             "outlinewidth": 0,
             "ticks": ""
            },
            "colorscale": [
             [
              0,
              "#0d0887"
             ],
             [
              0.1111111111111111,
              "#46039f"
             ],
             [
              0.2222222222222222,
              "#7201a8"
             ],
             [
              0.3333333333333333,
              "#9c179e"
             ],
             [
              0.4444444444444444,
              "#bd3786"
             ],
             [
              0.5555555555555556,
              "#d8576b"
             ],
             [
              0.6666666666666666,
              "#ed7953"
             ],
             [
              0.7777777777777778,
              "#fb9f3a"
             ],
             [
              0.8888888888888888,
              "#fdca26"
             ],
             [
              1,
              "#f0f921"
             ]
            ],
            "type": "histogram2d"
           }
          ],
          "histogram2dcontour": [
           {
            "colorbar": {
             "outlinewidth": 0,
             "ticks": ""
            },
            "colorscale": [
             [
              0,
              "#0d0887"
             ],
             [
              0.1111111111111111,
              "#46039f"
             ],
             [
              0.2222222222222222,
              "#7201a8"
             ],
             [
              0.3333333333333333,
              "#9c179e"
             ],
             [
              0.4444444444444444,
              "#bd3786"
             ],
             [
              0.5555555555555556,
              "#d8576b"
             ],
             [
              0.6666666666666666,
              "#ed7953"
             ],
             [
              0.7777777777777778,
              "#fb9f3a"
             ],
             [
              0.8888888888888888,
              "#fdca26"
             ],
             [
              1,
              "#f0f921"
             ]
            ],
            "type": "histogram2dcontour"
           }
          ],
          "mesh3d": [
           {
            "colorbar": {
             "outlinewidth": 0,
             "ticks": ""
            },
            "type": "mesh3d"
           }
          ],
          "parcoords": [
           {
            "line": {
             "colorbar": {
              "outlinewidth": 0,
              "ticks": ""
             }
            },
            "type": "parcoords"
           }
          ],
          "pie": [
           {
            "automargin": true,
            "type": "pie"
           }
          ],
          "scatter": [
           {
            "fillpattern": {
             "fillmode": "overlay",
             "size": 10,
             "solidity": 0.2
            },
            "type": "scatter"
           }
          ],
          "scatter3d": [
           {
            "line": {
             "colorbar": {
              "outlinewidth": 0,
              "ticks": ""
             }
            },
            "marker": {
             "colorbar": {
              "outlinewidth": 0,
              "ticks": ""
             }
            },
            "type": "scatter3d"
           }
          ],
          "scattercarpet": [
           {
            "marker": {
             "colorbar": {
              "outlinewidth": 0,
              "ticks": ""
             }
            },
            "type": "scattercarpet"
           }
          ],
          "scattergeo": [
           {
            "marker": {
             "colorbar": {
              "outlinewidth": 0,
              "ticks": ""
             }
            },
            "type": "scattergeo"
           }
          ],
          "scattergl": [
           {
            "marker": {
             "colorbar": {
              "outlinewidth": 0,
              "ticks": ""
             }
            },
            "type": "scattergl"
           }
          ],
          "scattermapbox": [
           {
            "marker": {
             "colorbar": {
              "outlinewidth": 0,
              "ticks": ""
             }
            },
            "type": "scattermapbox"
           }
          ],
          "scatterpolar": [
           {
            "marker": {
             "colorbar": {
              "outlinewidth": 0,
              "ticks": ""
             }
            },
            "type": "scatterpolar"
           }
          ],
          "scatterpolargl": [
           {
            "marker": {
             "colorbar": {
              "outlinewidth": 0,
              "ticks": ""
             }
            },
            "type": "scatterpolargl"
           }
          ],
          "scatterternary": [
           {
            "marker": {
             "colorbar": {
              "outlinewidth": 0,
              "ticks": ""
             }
            },
            "type": "scatterternary"
           }
          ],
          "surface": [
           {
            "colorbar": {
             "outlinewidth": 0,
             "ticks": ""
            },
            "colorscale": [
             [
              0,
              "#0d0887"
             ],
             [
              0.1111111111111111,
              "#46039f"
             ],
             [
              0.2222222222222222,
              "#7201a8"
             ],
             [
              0.3333333333333333,
              "#9c179e"
             ],
             [
              0.4444444444444444,
              "#bd3786"
             ],
             [
              0.5555555555555556,
              "#d8576b"
             ],
             [
              0.6666666666666666,
              "#ed7953"
             ],
             [
              0.7777777777777778,
              "#fb9f3a"
             ],
             [
              0.8888888888888888,
              "#fdca26"
             ],
             [
              1,
              "#f0f921"
             ]
            ],
            "type": "surface"
           }
          ],
          "table": [
           {
            "cells": {
             "fill": {
              "color": "#EBF0F8"
             },
             "line": {
              "color": "white"
             }
            },
            "header": {
             "fill": {
              "color": "#C8D4E3"
             },
             "line": {
              "color": "white"
             }
            },
            "type": "table"
           }
          ]
         },
         "layout": {
          "annotationdefaults": {
           "arrowcolor": "#2a3f5f",
           "arrowhead": 0,
           "arrowwidth": 1
          },
          "autotypenumbers": "strict",
          "coloraxis": {
           "colorbar": {
            "outlinewidth": 0,
            "ticks": ""
           }
          },
          "colorscale": {
           "diverging": [
            [
             0,
             "#8e0152"
            ],
            [
             0.1,
             "#c51b7d"
            ],
            [
             0.2,
             "#de77ae"
            ],
            [
             0.3,
             "#f1b6da"
            ],
            [
             0.4,
             "#fde0ef"
            ],
            [
             0.5,
             "#f7f7f7"
            ],
            [
             0.6,
             "#e6f5d0"
            ],
            [
             0.7,
             "#b8e186"
            ],
            [
             0.8,
             "#7fbc41"
            ],
            [
             0.9,
             "#4d9221"
            ],
            [
             1,
             "#276419"
            ]
           ],
           "sequential": [
            [
             0,
             "#0d0887"
            ],
            [
             0.1111111111111111,
             "#46039f"
            ],
            [
             0.2222222222222222,
             "#7201a8"
            ],
            [
             0.3333333333333333,
             "#9c179e"
            ],
            [
             0.4444444444444444,
             "#bd3786"
            ],
            [
             0.5555555555555556,
             "#d8576b"
            ],
            [
             0.6666666666666666,
             "#ed7953"
            ],
            [
             0.7777777777777778,
             "#fb9f3a"
            ],
            [
             0.8888888888888888,
             "#fdca26"
            ],
            [
             1,
             "#f0f921"
            ]
           ],
           "sequentialminus": [
            [
             0,
             "#0d0887"
            ],
            [
             0.1111111111111111,
             "#46039f"
            ],
            [
             0.2222222222222222,
             "#7201a8"
            ],
            [
             0.3333333333333333,
             "#9c179e"
            ],
            [
             0.4444444444444444,
             "#bd3786"
            ],
            [
             0.5555555555555556,
             "#d8576b"
            ],
            [
             0.6666666666666666,
             "#ed7953"
            ],
            [
             0.7777777777777778,
             "#fb9f3a"
            ],
            [
             0.8888888888888888,
             "#fdca26"
            ],
            [
             1,
             "#f0f921"
            ]
           ]
          },
          "colorway": [
           "#636efa",
           "#EF553B",
           "#00cc96",
           "#ab63fa",
           "#FFA15A",
           "#19d3f3",
           "#FF6692",
           "#B6E880",
           "#FF97FF",
           "#FECB52"
          ],
          "font": {
           "color": "#2a3f5f"
          },
          "geo": {
           "bgcolor": "white",
           "lakecolor": "white",
           "landcolor": "#E5ECF6",
           "showlakes": true,
           "showland": true,
           "subunitcolor": "white"
          },
          "hoverlabel": {
           "align": "left"
          },
          "hovermode": "closest",
          "mapbox": {
           "style": "light"
          },
          "paper_bgcolor": "white",
          "plot_bgcolor": "#E5ECF6",
          "polar": {
           "angularaxis": {
            "gridcolor": "white",
            "linecolor": "white",
            "ticks": ""
           },
           "bgcolor": "#E5ECF6",
           "radialaxis": {
            "gridcolor": "white",
            "linecolor": "white",
            "ticks": ""
           }
          },
          "scene": {
           "xaxis": {
            "backgroundcolor": "#E5ECF6",
            "gridcolor": "white",
            "gridwidth": 2,
            "linecolor": "white",
            "showbackground": true,
            "ticks": "",
            "zerolinecolor": "white"
           },
           "yaxis": {
            "backgroundcolor": "#E5ECF6",
            "gridcolor": "white",
            "gridwidth": 2,
            "linecolor": "white",
            "showbackground": true,
            "ticks": "",
            "zerolinecolor": "white"
           },
           "zaxis": {
            "backgroundcolor": "#E5ECF6",
            "gridcolor": "white",
            "gridwidth": 2,
            "linecolor": "white",
            "showbackground": true,
            "ticks": "",
            "zerolinecolor": "white"
           }
          },
          "shapedefaults": {
           "line": {
            "color": "#2a3f5f"
           }
          },
          "ternary": {
           "aaxis": {
            "gridcolor": "white",
            "linecolor": "white",
            "ticks": ""
           },
           "baxis": {
            "gridcolor": "white",
            "linecolor": "white",
            "ticks": ""
           },
           "bgcolor": "#E5ECF6",
           "caxis": {
            "gridcolor": "white",
            "linecolor": "white",
            "ticks": ""
           }
          },
          "title": {
           "x": 0.05
          },
          "xaxis": {
           "automargin": true,
           "gridcolor": "white",
           "linecolor": "white",
           "ticks": "",
           "title": {
            "standoff": 15
           },
           "zerolinecolor": "white",
           "zerolinewidth": 2
          },
          "yaxis": {
           "automargin": true,
           "gridcolor": "white",
           "linecolor": "white",
           "ticks": "",
           "title": {
            "standoff": 15
           },
           "zerolinecolor": "white",
           "zerolinewidth": 2
          }
         }
        },
        "title": {
         "text": "CQR One-Sided Interval Width with q"
        },
        "width": 600,
        "xaxis": {
         "anchor": "y",
         "domain": [
          0,
          1
         ],
         "title": {
          "text": "Confidence Level"
         }
        },
        "yaxis": {
         "anchor": "x",
         "domain": [
          0,
          1
         ],
         "title": {
          "text": "One-Sided Interval Width"
         }
        }
       }
      }
     },
     "metadata": {},
     "output_type": "display_data"
    },
    {
     "name": "stderr",
     "output_type": "stream",
     "text": [
      "INFO - (NP.df_utils._infer_frequency) - Major frequency h corresponds to 99.866% of the data.\n",
      "INFO - (NP.df_utils._infer_frequency) - Defined frequency is equal to major frequency - H\n",
      "INFO - (NP.df_utils._infer_frequency) - Major frequency h corresponds to 99.866% of the data.\n",
      "INFO - (NP.df_utils._infer_frequency) - Defined frequency is equal to major frequency - H\n"
     ]
    },
    {
     "name": "stdout",
     "output_type": "stream",
     "text": [
      "Predicting DataLoader 0: 100%|██████████| 1/1 [00:00<00:00, 54.86it/s]"
     ]
    },
    {
     "name": "stderr",
     "output_type": "stream",
     "text": [
      "INFO - (NP.df_utils.return_df_in_original_format) - Returning df with no ID column\n",
      "INFO - (NP.df_utils._infer_frequency) - Major frequency h corresponds to 99.817% of the data.\n",
      "INFO - (NP.df_utils._infer_frequency) - Defined frequency is equal to major frequency - H\n",
      "INFO - (NP.df_utils._infer_frequency) - Major frequency h corresponds to 99.817% of the data.\n",
      "INFO - (NP.df_utils._infer_frequency) - Defined frequency is equal to major frequency - H\n"
     ]
    },
    {
     "name": "stdout",
     "output_type": "stream",
     "text": [
      "\n",
      "Predicting DataLoader 0: 100%|██████████| 1/1 [00:00<00:00, 87.36it/s]"
     ]
    },
    {
     "name": "stderr",
     "output_type": "stream",
     "text": [
      "INFO - (NP.df_utils.return_df_in_original_format) - Returning df with no ID column\n"
     ]
    },
    {
     "name": "stdout",
     "output_type": "stream",
     "text": [
      "\n"
     ]
    },
    {
     "data": {
      "application/vnd.plotly.v1+json": {
       "config": {
        "plotlyServerURL": "https://plot.ly"
       },
       "data": [
        {
         "hovertemplate": "Confidence Level=%{x}<br>One-Sided Interval Width=%{y}<extra></extra>",
         "legendgroup": "",
         "line": {
          "color": "#636efa",
          "dash": "solid"
         },
         "marker": {
          "symbol": "circle"
         },
         "mode": "lines",
         "name": "",
         "orientation": "v",
         "showlegend": false,
         "type": "scatter",
         "x": [
          0,
          0.001483679525222552,
          0.002967359050445104,
          0.004451038575667656,
          0.005934718100890208,
          0.00741839762611276,
          0.008902077151335312,
          0.010385756676557863,
          0.011869436201780416,
          0.013353115727002967,
          0.01483679525222552,
          0.016320474777448073,
          0.017804154302670624,
          0.019287833827893175,
          0.020771513353115726,
          0.02225519287833828,
          0.02373887240356083,
          0.025222551928783383,
          0.026706231454005934,
          0.028189910979228485,
          0.02967359050445104,
          0.03115727002967359,
          0.032640949554896145,
          0.03412462908011869,
          0.03560830860534125,
          0.037091988130563795,
          0.03857566765578635,
          0.040059347181008904,
          0.04154302670623145,
          0.04302670623145401,
          0.04451038575667656,
          0.04599406528189911,
          0.04747774480712166,
          0.04896142433234421,
          0.050445103857566766,
          0.05192878338278932,
          0.05341246290801187,
          0.05489614243323442,
          0.05637982195845697,
          0.057863501483679525,
          0.05934718100890208,
          0.06083086053412463,
          0.06231454005934718,
          0.06379821958456973,
          0.06528189910979229,
          0.06676557863501484,
          0.06824925816023739,
          0.06973293768545995,
          0.0712166172106825,
          0.07270029673590504,
          0.07418397626112759,
          0.07566765578635015,
          0.0771513353115727,
          0.07863501483679525,
          0.08011869436201781,
          0.08160237388724036,
          0.0830860534124629,
          0.08456973293768547,
          0.08605341246290801,
          0.08753709198813056,
          0.08902077151335312,
          0.09050445103857567,
          0.09198813056379822,
          0.09347181008902077,
          0.09495548961424333,
          0.09643916913946587,
          0.09792284866468842,
          0.09940652818991098,
          0.10089020771513353,
          0.10237388724035608,
          0.10385756676557864,
          0.10534124629080119,
          0.10682492581602374,
          0.1083086053412463,
          0.10979228486646884,
          0.11127596439169139,
          0.11275964391691394,
          0.1142433234421365,
          0.11572700296735905,
          0.1172106824925816,
          0.11869436201780416,
          0.1201780415430267,
          0.12166172106824925,
          0.12314540059347182,
          0.12462908011869436,
          0.1261127596439169,
          0.12759643916913946,
          0.129080118694362,
          0.13056379821958458,
          0.13204747774480713,
          0.13353115727002968,
          0.13501483679525222,
          0.13649851632047477,
          0.13798219584569732,
          0.1394658753709199,
          0.14094955489614244,
          0.142433234421365,
          0.14391691394658754,
          0.14540059347181009,
          0.14688427299703263,
          0.14836795252225518,
          0.14985163204747776,
          0.1513353115727003,
          0.15281899109792285,
          0.1543026706231454,
          0.15578635014836795,
          0.1572700296735905,
          0.15875370919881307,
          0.16023738872403562,
          0.16172106824925817,
          0.1632047477744807,
          0.16468842729970326,
          0.1661721068249258,
          0.16765578635014836,
          0.16913946587537093,
          0.17062314540059348,
          0.17210682492581603,
          0.17359050445103857,
          0.17507418397626112,
          0.17655786350148367,
          0.17804154302670624,
          0.1795252225519288,
          0.18100890207715134,
          0.1824925816023739,
          0.18397626112759644,
          0.18545994065281898,
          0.18694362017804153,
          0.1884272997032641,
          0.18991097922848665,
          0.1913946587537092,
          0.19287833827893175,
          0.1943620178041543,
          0.19584569732937684,
          0.19732937685459942,
          0.19881305637982197,
          0.20029673590504452,
          0.20178041543026706,
          0.2032640949554896,
          0.20474777448071216,
          0.2062314540059347,
          0.20771513353115728,
          0.20919881305637983,
          0.21068249258160238,
          0.21216617210682492,
          0.21364985163204747,
          0.21513353115727002,
          0.2166172106824926,
          0.21810089020771514,
          0.2195845697329377,
          0.22106824925816024,
          0.22255192878338279,
          0.22403560830860533,
          0.22551928783382788,
          0.22700296735905046,
          0.228486646884273,
          0.22997032640949555,
          0.2314540059347181,
          0.23293768545994065,
          0.2344213649851632,
          0.23590504451038577,
          0.23738872403560832,
          0.23887240356083086,
          0.2403560830860534,
          0.24183976261127596,
          0.2433234421364985,
          0.24480712166172106,
          0.24629080118694363,
          0.24777448071216618,
          0.24925816023738873,
          0.2507418397626113,
          0.2522255192878338,
          0.25370919881305637,
          0.2551928783382789,
          0.25667655786350146,
          0.258160237388724,
          0.2596439169139466,
          0.26112759643916916,
          0.2626112759643917,
          0.26409495548961426,
          0.2655786350148368,
          0.26706231454005935,
          0.2685459940652819,
          0.27002967359050445,
          0.271513353115727,
          0.27299703264094954,
          0.2744807121661721,
          0.27596439169139464,
          0.2774480712166172,
          0.2789317507418398,
          0.28041543026706234,
          0.2818991097922849,
          0.28338278931750743,
          0.28486646884273,
          0.28635014836795253,
          0.2878338278931751,
          0.2893175074183976,
          0.29080118694362017,
          0.2922848664688427,
          0.29376854599406527,
          0.2952522255192878,
          0.29673590504451036,
          0.29821958456973297,
          0.2997032640949555,
          0.30118694362017806,
          0.3026706231454006,
          0.30415430267062316,
          0.3056379821958457,
          0.30712166172106825,
          0.3086053412462908,
          0.31008902077151335,
          0.3115727002967359,
          0.31305637982195844,
          0.314540059347181,
          0.31602373887240354,
          0.31750741839762614,
          0.3189910979228487,
          0.32047477744807124,
          0.3219584569732938,
          0.32344213649851633,
          0.3249258160237389,
          0.3264094955489614,
          0.327893175074184,
          0.3293768545994065,
          0.33086053412462907,
          0.3323442136498516,
          0.33382789317507416,
          0.3353115727002967,
          0.3367952522255193,
          0.33827893175074186,
          0.3397626112759644,
          0.34124629080118696,
          0.3427299703264095,
          0.34421364985163205,
          0.3456973293768546,
          0.34718100890207715,
          0.3486646884272997,
          0.35014836795252224,
          0.3516320474777448,
          0.35311572700296734,
          0.3545994065281899,
          0.3560830860534125,
          0.35756676557863504,
          0.3590504451038576,
          0.36053412462908013,
          0.3620178041543027,
          0.36350148367952523,
          0.3649851632047478,
          0.3664688427299703,
          0.36795252225519287,
          0.3694362017804154,
          0.37091988130563797,
          0.3724035608308605,
          0.37388724035608306,
          0.37537091988130566,
          0.3768545994065282,
          0.37833827893175076,
          0.3798219584569733,
          0.38130563798219586,
          0.3827893175074184,
          0.38427299703264095,
          0.3857566765578635,
          0.38724035608308605,
          0.3887240356083086,
          0.39020771513353114,
          0.3916913946587537,
          0.39317507418397624,
          0.39465875370919884,
          0.3961424332344214,
          0.39762611275964393,
          0.3991097922848665,
          0.40059347181008903,
          0.4020771513353116,
          0.4035608308605341,
          0.4050445103857567,
          0.4065281899109792,
          0.40801186943620177,
          0.4094955489614243,
          0.41097922848664686,
          0.4124629080118694,
          0.413946587537092,
          0.41543026706231456,
          0.4169139465875371,
          0.41839762611275966,
          0.4198813056379822,
          0.42136498516320475,
          0.4228486646884273,
          0.42433234421364985,
          0.4258160237388724,
          0.42729970326409494,
          0.4287833827893175,
          0.43026706231454004,
          0.4317507418397626,
          0.4332344213649852,
          0.43471810089020774,
          0.4362017804154303,
          0.43768545994065283,
          0.4391691394658754,
          0.4406528189910979,
          0.4421364985163205,
          0.443620178041543,
          0.44510385756676557,
          0.4465875370919881,
          0.44807121661721067,
          0.4495548961424332,
          0.45103857566765576,
          0.45252225519287836,
          0.4540059347181009,
          0.45548961424332346,
          0.456973293768546,
          0.45845697329376855,
          0.4599406528189911,
          0.46142433234421365,
          0.4629080118694362,
          0.46439169139465875,
          0.4658753709198813,
          0.46735905044510384,
          0.4688427299703264,
          0.47032640949554894,
          0.47181008902077154,
          0.4732937685459941,
          0.47477744807121663,
          0.4762611275964392,
          0.47774480712166173,
          0.4792284866468843,
          0.4807121661721068,
          0.4821958456973294,
          0.4836795252225519,
          0.48516320474777447,
          0.486646884272997,
          0.48813056379821956,
          0.4896142433234421,
          0.4910979228486647,
          0.49258160237388726,
          0.4940652818991098,
          0.49554896142433236,
          0.4970326409495549,
          0.49851632047477745,
          0.5,
          0.5014836795252225,
          0.5029673590504451,
          0.5044510385756676,
          0.5059347181008902,
          0.5074183976261127,
          0.5089020771513353,
          0.5103857566765578,
          0.5118694362017804,
          0.5133531157270029,
          0.5148367952522255,
          0.516320474777448,
          0.5178041543026706,
          0.5192878338278932,
          0.5207715133531158,
          0.5222551928783383,
          0.5237388724035609,
          0.5252225519287834,
          0.526706231454006,
          0.5281899109792285,
          0.5296735905044511,
          0.5311572700296736,
          0.5326409495548962,
          0.5341246290801187,
          0.5356083086053413,
          0.5370919881305638,
          0.5385756676557863,
          0.5400593471810089,
          0.5415430267062314,
          0.543026706231454,
          0.5445103857566765,
          0.5459940652818991,
          0.5474777448071216,
          0.5489614243323442,
          0.5504451038575667,
          0.5519287833827893,
          0.5534124629080118,
          0.5548961424332344,
          0.5563798219584569,
          0.5578635014836796,
          0.5593471810089021,
          0.5608308605341247,
          0.5623145400593472,
          0.5637982195845698,
          0.5652818991097923,
          0.5667655786350149,
          0.5682492581602374,
          0.56973293768546,
          0.5712166172106825,
          0.5727002967359051,
          0.5741839762611276,
          0.5756676557863502,
          0.5771513353115727,
          0.5786350148367952,
          0.5801186943620178,
          0.5816023738872403,
          0.5830860534124629,
          0.5845697329376854,
          0.586053412462908,
          0.5875370919881305,
          0.5890207715133531,
          0.5905044510385756,
          0.5919881305637982,
          0.5934718100890207,
          0.5949554896142433,
          0.5964391691394659,
          0.5979228486646885,
          0.599406528189911,
          0.6008902077151336,
          0.6023738872403561,
          0.6038575667655787,
          0.6053412462908012,
          0.6068249258160238,
          0.6083086053412463,
          0.6097922848664689,
          0.6112759643916914,
          0.612759643916914,
          0.6142433234421365,
          0.615727002967359,
          0.6172106824925816,
          0.6186943620178041,
          0.6201780415430267,
          0.6216617210682492,
          0.6231454005934718,
          0.6246290801186943,
          0.6261127596439169,
          0.6275964391691394,
          0.629080118694362,
          0.6305637982195845,
          0.6320474777448071,
          0.6335311572700296,
          0.6350148367952523,
          0.6364985163204748,
          0.6379821958456974,
          0.6394658753709199,
          0.6409495548961425,
          0.642433234421365,
          0.6439169139465876,
          0.6454005934718101,
          0.6468842729970327,
          0.6483679525222552,
          0.6498516320474778,
          0.6513353115727003,
          0.6528189910979229,
          0.6543026706231454,
          0.655786350148368,
          0.6572700296735905,
          0.658753709198813,
          0.6602373887240356,
          0.6617210682492581,
          0.6632047477744807,
          0.6646884272997032,
          0.6661721068249258,
          0.6676557863501483,
          0.6691394658753709,
          0.6706231454005934,
          0.672106824925816,
          0.6735905044510386,
          0.6750741839762612,
          0.6765578635014837,
          0.6780415430267063,
          0.6795252225519288,
          0.6810089020771514,
          0.6824925816023739,
          0.6839762611275965,
          0.685459940652819,
          0.6869436201780416,
          0.6884272997032641,
          0.6899109792284867,
          0.6913946587537092,
          0.6928783382789317,
          0.6943620178041543,
          0.6958456973293768,
          0.6973293768545994,
          0.6988130563798219,
          0.7002967359050445,
          0.701780415430267,
          0.7032640949554896,
          0.7047477744807121,
          0.7062314540059347,
          0.7077151335311572,
          0.7091988130563798,
          0.7106824925816023,
          0.712166172106825,
          0.7136498516320475,
          0.7151335311572701,
          0.7166172106824926,
          0.7181008902077152,
          0.7195845697329377,
          0.7210682492581603,
          0.7225519287833828,
          0.7240356083086054,
          0.7255192878338279,
          0.7270029673590505,
          0.728486646884273,
          0.7299703264094956,
          0.7314540059347181,
          0.7329376854599406,
          0.7344213649851632,
          0.7359050445103857,
          0.7373887240356083,
          0.7388724035608308,
          0.7403560830860534,
          0.7418397626112759,
          0.7433234421364985,
          0.744807121661721,
          0.7462908011869436,
          0.7477744807121661,
          0.7492581602373887,
          0.7507418397626113,
          0.7522255192878339,
          0.7537091988130564,
          0.755192878338279,
          0.7566765578635015,
          0.7581602373887241,
          0.7596439169139466,
          0.7611275964391692,
          0.7626112759643917,
          0.7640949554896143,
          0.7655786350148368,
          0.7670623145400594,
          0.7685459940652819,
          0.7700296735905044,
          0.771513353115727,
          0.7729970326409495,
          0.7744807121661721,
          0.7759643916913946,
          0.7774480712166172,
          0.7789317507418397,
          0.7804154302670623,
          0.7818991097922848,
          0.7833827893175074,
          0.7848664688427299,
          0.7863501483679525,
          0.787833827893175,
          0.7893175074183977,
          0.7908011869436202,
          0.7922848664688428,
          0.7937685459940653,
          0.7952522255192879,
          0.7967359050445104,
          0.798219584569733,
          0.7997032640949555,
          0.8011869436201781,
          0.8026706231454006,
          0.8041543026706232,
          0.8056379821958457,
          0.8071216617210683,
          0.8086053412462908,
          0.8100890207715133,
          0.8115727002967359,
          0.8130563798219584,
          0.814540059347181,
          0.8160237388724035,
          0.8175074183976261,
          0.8189910979228486,
          0.8204747774480712,
          0.8219584569732937,
          0.8234421364985163,
          0.8249258160237388,
          0.8264094955489614,
          0.827893175074184,
          0.8293768545994066,
          0.8308605341246291,
          0.8323442136498517,
          0.8338278931750742,
          0.8353115727002968,
          0.8367952522255193,
          0.8382789317507419,
          0.8397626112759644,
          0.841246290801187,
          0.8427299703264095,
          0.844213649851632,
          0.8456973293768546,
          0.8471810089020771,
          0.8486646884272997,
          0.8501483679525222,
          0.8516320474777448,
          0.8531157270029673,
          0.8545994065281899,
          0.8560830860534124,
          0.857566765578635,
          0.8590504451038575,
          0.8605341246290801,
          0.8620178041543026,
          0.8635014836795252,
          0.8649851632047477,
          0.8664688427299704,
          0.8679525222551929,
          0.8694362017804155,
          0.870919881305638,
          0.8724035608308606,
          0.8738872403560831,
          0.8753709198813057,
          0.8768545994065282,
          0.8783382789317508,
          0.8798219584569733,
          0.8813056379821959,
          0.8827893175074184,
          0.884272997032641,
          0.8857566765578635,
          0.887240356083086,
          0.8887240356083086,
          0.8902077151335311,
          0.8916913946587537,
          0.8931750741839762,
          0.8946587537091988,
          0.8961424332344213,
          0.8976261127596439,
          0.8991097922848664,
          0.900593471810089,
          0.9020771513353115,
          0.9035608308605341,
          0.9050445103857567,
          0.9065281899109793,
          0.9080118694362018,
          0.9094955489614244,
          0.9109792284866469,
          0.9124629080118695,
          0.913946587537092,
          0.9154302670623146,
          0.9169139465875371,
          0.9183976261127597,
          0.9198813056379822,
          0.9213649851632048,
          0.9228486646884273,
          0.9243323442136498,
          0.9258160237388724,
          0.9272997032640949,
          0.9287833827893175,
          0.93026706231454,
          0.9317507418397626,
          0.9332344213649851,
          0.9347181008902077,
          0.9362017804154302,
          0.9376854599406528,
          0.9391691394658753,
          0.9406528189910979,
          0.9421364985163204,
          0.9436201780415431,
          0.9451038575667656,
          0.9465875370919882,
          0.9480712166172107,
          0.9495548961424333,
          0.9510385756676558,
          0.9525222551928784,
          0.9540059347181009,
          0.9554896142433235,
          0.956973293768546,
          0.9584569732937686,
          0.9599406528189911,
          0.9614243323442137,
          0.9629080118694362,
          0.9643916913946587,
          0.9658753709198813,
          0.9673590504451038,
          0.9688427299703264,
          0.9703264094955489,
          0.9718100890207715,
          0.973293768545994,
          0.9747774480712166,
          0.9762611275964391,
          0.9777448071216617,
          0.9792284866468842,
          0.9807121661721068,
          0.9821958456973294,
          0.983679525222552,
          0.9851632047477745,
          0.9866468842729971,
          0.9881305637982196,
          0.9896142433234422,
          0.9910979228486647,
          0.9925816023738873,
          0.9940652818991098,
          0.9955489614243324,
          0.9970326409495549,
          0.9985163204747775
         ],
         "xaxis": "x",
         "y": [
          -65.14320131875002,
          -60.68751390624993,
          -53.009985109375066,
          -48.598227502343775,
          -45.58657418749999,
          -43.90856065000003,
          -42.01147517187496,
          -41.328455804687565,
          -39.50829862499995,
          -37.00843661328122,
          -36.881390687500016,
          -36.771929439062546,
          -36.16003102656248,
          -36.08687235156253,
          -35.35897946093746,
          -35.32097761718751,
          -35.20342589296877,
          -34.80335077343739,
          -34.48941123281247,
          -34.0068710007813,
          -33.59105229062504,
          -33.50537830468761,
          -33.244608605468784,
          -33.01457377500003,
          -32.79972646093756,
          -32.4803572968749,
          -32.465994293749986,
          -32.404600825781245,
          -32.25075682343754,
          -32.2044045820312,
          -32.04695741406249,
          -32.020366608593804,
          -31.777662414062547,
          -31.671341853906256,
          -31.07603505468751,
          -31.072448484374945,
          -31.000628268750006,
          -30.84731161328125,
          -30.784067968749923,
          -30.388419625000097,
          -30.32091935937501,
          -30.038415765624904,
          -29.71658356250009,
          -29.678687890625042,
          -29.646470429687497,
          -29.574994234375026,
          -29.114553440624945,
          -29.067342874999895,
          -29.002595295312517,
          -28.9997384374999,
          -28.960452281250014,
          -28.9315421296875,
          -28.84642774218753,
          -28.524726007812433,
          -28.511582937499952,
          -28.432621094531214,
          -28.38609848750002,
          -28.362917576562495,
          -28.073065601562462,
          -28.038598953125074,
          -28.021250727343727,
          -27.702743776562556,
          -27.57012775468752,
          -27.547671523437543,
          -27.393331843750047,
          -27.37007944218749,
          -27.26415124999994,
          -27.104312015625055,
          -27.09190567187511,
          -27.086561927343723,
          -27.082410710937438,
          -26.941181171875087,
          -26.710716304687594,
          -26.354600060156258,
          -26.216973625000037,
          -26.022915650781215,
          -25.987747562499976,
          -25.881795696874974,
          -25.721079890625106,
          -25.67654309375007,
          -25.435371000000032,
          -25.42484720390621,
          -25.416319375000057,
          -25.14159662187501,
          -24.83867166406253,
          -24.80252146875,
          -24.795782500000087,
          -24.780422179687548,
          -24.64922716875003,
          -24.58017749843748,
          -24.514964384375048,
          -24.465586101562394,
          -24.29090485156246,
          -24.038325084374947,
          -24.014313562500092,
          -23.930028578125075,
          -23.834684345312553,
          -23.806366546875097,
          -23.757195710156225,
          -23.64933300000007,
          -23.63801965624998,
          -23.40343879687498,
          -23.372384954687504,
          -23.34716084375009,
          -23.14824861718739,
          -23.110222562499985,
          -23.009914421093754,
          -22.89051327265622,
          -22.853815640625044,
          -22.523412324218725,
          -22.32469431718755,
          -22.188743296874918,
          -21.925025515625066,
          -21.853065835937514,
          -21.829295839062524,
          -21.815911500000084,
          -21.742168203124947,
          -21.722388710937594,
          -21.490100671875098,
          -21.449165898437514,
          -21.365779820312582,
          -21.329250940625002,
          -21.247841773437585,
          -21.12434564062505,
          -21.106857366406302,
          -21.09737597656249,
          -20.929399435937512,
          -20.82577200703122,
          -20.783375804687466,
          -20.779374007031265,
          -20.74373714921876,
          -20.70980726250002,
          -20.70550124218755,
          -20.65814161718754,
          -20.592442968749992,
          -20.568194269531205,
          -20.35880789062503,
          -20.222557539062564,
          -20.182457921875084,
          -20.112622731249985,
          -19.96498185937503,
          -19.890385539062436,
          -19.877881934374955,
          -19.87227041406254,
          -19.77174999218755,
          -19.616739991406234,
          -19.56537492578127,
          -19.551259965625036,
          -19.542201880468724,
          -19.47700804687497,
          -19.476498104687494,
          -19.46201203124997,
          -19.29763457890624,
          -19.274089101562595,
          -19.232664375000013,
          -19.2324773859375,
          -19.044109156249988,
          -18.949667142968792,
          -18.94683896093761,
          -18.844721265624912,
          -18.711583789843758,
          -18.64913754062502,
          -18.624153773437456,
          -18.619275424999955,
          -18.615889539843806,
          -18.589054085937505,
          -18.544600246875007,
          -18.512856050781238,
          -18.450760692187487,
          -18.410263421875015,
          -18.362399867187605,
          -18.288008930468777,
          -18.088534179687485,
          -17.91737359374997,
          -17.879491867187426,
          -17.71294813281247,
          -17.700678114843754,
          -17.680349543750026,
          -17.65059228749999,
          -17.6404222031249,
          -17.586771796874928,
          -17.350566039062528,
          -17.285663599218765,
          -17.236789890625005,
          -16.894951134374992,
          -16.793576628906294,
          -16.723781265624893,
          -16.620602975781253,
          -16.594580703125075,
          -16.59449007812509,
          -16.555062204687488,
          -16.5223976328125,
          -16.419778109375102,
          -16.36859809375005,
          -16.3648031875,
          -16.30566003125,
          -16.270695417968795,
          -16.241408101562456,
          -16.15298132812495,
          -16.13191752499995,
          -16.13190625781249,
          -16.017610734375012,
          -15.915152171093723,
          -15.835058253906254,
          -15.761721848437446,
          -15.675387428124964,
          -15.657682517187482,
          -15.60443957031248,
          -15.520580498437539,
          -15.458318437500111,
          -15.344991875000005,
          -15.218699186718709,
          -15.21078350859375,
          -15.185066050781302,
          -15.150869874999898,
          -15.138059921093713,
          -15.079574062499887,
          -14.936518742968701,
          -14.910201503124995,
          -14.815377843749957,
          -14.340798484375,
          -14.331777164062487,
          -14.287376715624987,
          -14.215538890625112,
          -14.147447953125038,
          -14.137177828125004,
          -14.111193250000042,
          -14.059479087499994,
          -14.029370549999953,
          -14.017437687499978,
          -13.983168534374954,
          -13.897100142968725,
          -13.85239812421878,
          -13.850248823437482,
          -13.816177164062537,
          -13.792025756250041,
          -13.782314812499976,
          -13.61437288437503,
          -13.608457343750047,
          -13.605479812500107,
          -13.503875160156213,
          -13.501016389062556,
          -13.327552598437478,
          -13.262654843749942,
          -13.22258043515626,
          -13.219980046093724,
          -13.143546760156255,
          -13.105836898437474,
          -13.08760239062508,
          -13.076474453125002,
          -13.001989867187604,
          -12.979660007812527,
          -12.966332367187533,
          -12.934895820312477,
          -12.89056699296873,
          -12.818050214843765,
          -12.698715853125009,
          -12.690958179687527,
          -12.527011476562393,
          -12.362358742187553,
          -12.337928859375097,
          -12.336886317187464,
          -12.306646015624892,
          -12.30296654687504,
          -12.211260572656215,
          -12.205774436718798,
          -12.179008843750012,
          -12.135381031250063,
          -12.03864283593748,
          -11.962270742187457,
          -11.911312601562486,
          -11.87394712031255,
          -11.835346265625049,
          -11.748328263281223,
          -11.672140835937398,
          -11.570031791406223,
          -11.536646174999987,
          -11.532291570312509,
          -11.477522703125032,
          -11.384981630468701,
          -11.309830889062482,
          -11.308882281249907,
          -11.287709374999963,
          -11.278198482812513,
          -11.26672770312507,
          -11.16660312656245,
          -11.148013261718802,
          -11.14638903906257,
          -11.112128382812443,
          -11.017138959374961,
          -10.838305400781223,
          -10.752690966406249,
          -10.6821211507812,
          -10.663237003125005,
          -10.605481664062495,
          -10.582570776562534,
          -10.467231521874965,
          -10.326080210937448,
          -10.29880312499995,
          -10.248417312499896,
          -10.245865843750039,
          -10.140992921875068,
          -10.1336086875001,
          -10.092597281249937,
          -10.087199834375042,
          -10.03952106718748,
          -9.892610054687566,
          -9.778679368749977,
          -9.773831515625034,
          -9.682278418750002,
          -9.622726203125012,
          -9.617844707031281,
          -9.593969430468746,
          -9.522366214843714,
          -9.483151171874965,
          -9.439145390625072,
          -9.373203281249971,
          -9.35504592187499,
          -9.222513351562498,
          -9.19076421093746,
          -9.18482679218755,
          -9.171481679687531,
          -9.161553015625032,
          -9.08538674062504,
          -9.082279789062454,
          -9.040525327343744,
          -9.025964332812464,
          -9.00858058593758,
          -9.003701664062419,
          -8.947122296093767,
          -8.93877202968747,
          -8.880511224218708,
          -8.783145453124916,
          -8.760867078124988,
          -8.752176390624982,
          -8.746368928906236,
          -8.744913812500045,
          -8.728994973437466,
          -8.673521718749953,
          -8.633689609375097,
          -8.522986062499967,
          -8.518005218749977,
          -8.477759690625021,
          -8.472981880468751,
          -8.43251209296875,
          -8.427666468749976,
          -8.422498431250006,
          -8.223787249999987,
          -8.082911257812611,
          -8.073717751562526,
          -8.044444543750046,
          -8.015963419531204,
          -8.00723866406247,
          -7.936585050781218,
          -7.891327334374978,
          -7.870320875000061,
          -7.7769751484374865,
          -7.768388573437505,
          -7.7195615078123865,
          -7.5202190625000185,
          -7.513486731250055,
          -7.468832460937392,
          -7.432141597656255,
          -7.421663346874993,
          -7.328058641406301,
          -7.306772140625071,
          -7.256016476562536,
          -7.220907425781206,
          -7.172176703124933,
          -7.137132764843727,
          -7.131147252343794,
          -7.103243609375113,
          -6.968296257812426,
          -6.9632089062499745,
          -6.941492781249963,
          -6.88157310937504,
          -6.8608240718749585,
          -6.860126054687498,
          -6.739277707031306,
          -6.736979259374948,
          -6.717076778906289,
          -6.707511187499904,
          -6.643663668750037,
          -6.636384976562454,
          -6.499531460937533,
          -6.424758640624987,
          -6.383483878125048,
          -6.382841794531259,
          -6.328902476562462,
          -6.327637625000079,
          -6.32592867187509,
          -6.315750624999964,
          -6.258974179687584,
          -6.160687078124965,
          -6.160456671874954,
          -6.089654727343714,
          -6.074577234375056,
          -5.984362133593777,
          -5.969135592187513,
          -5.836421234375052,
          -5.829897220312546,
          -5.814148796875088,
          -5.7298660937499335,
          -5.657980015624958,
          -5.554978522656256,
          -5.46909051718751,
          -5.4062140312501015,
          -5.385758968749997,
          -5.362492484375025,
          -5.313827968750047,
          -5.303989171874946,
          -5.169666406249917,
          -5.151816824218713,
          -5.133273246093722,
          -5.069332601562564,
          -5.028028585937591,
          -4.980034515624993,
          -4.951745960937501,
          -4.881394962500053,
          -4.833711078906276,
          -4.792377109374911,
          -4.734720437500073,
          -4.72089076796874,
          -4.7172542968748985,
          -4.680339414062473,
          -4.677604940624974,
          -4.651555976562577,
          -4.554776725000011,
          -4.397906304687467,
          -4.369170328124937,
          -4.240792671874942,
          -4.195766010937518,
          -4.152513682031213,
          -4.0956728593750995,
          -4.029548593749951,
          -4.023417179687613,
          -3.8477497812500587,
          -3.528735820312477,
          -3.3945188906250223,
          -3.3824242429687956,
          -3.256837622656235,
          -3.204767378124984,
          -3.135986615625029,
          -3.085987775000035,
          -2.921290539062511,
          -2.844671718750078,
          -2.7270921609374454,
          -2.7122184359375296,
          -2.7103413437500876,
          -2.5683568437500526,
          -2.5566822968748966,
          -2.471999000000096,
          -2.2071964015625554,
          -2.191269558593717,
          -2.0992706406250363,
          -1.9591166875,
          -1.9586832656250408,
          -1.9240494640624775,
          -1.8999923750000107,
          -1.889657562499906,
          -1.8875299984374578,
          -1.845547369531232,
          -1.5814504453124982,
          -1.4583151249998991,
          -1.4358336249999866,
          -1.1423282195312368,
          -1.1242020234375332,
          -1.1156344171874935,
          -1.108103162500015,
          -1.0557872265625292,
          -0.8991781249999349,
          -0.8573827593750138,
          -0.6682126796874854,
          -0.6298948281250887,
          -0.6165483046875124,
          -0.43088676171873885,
          -0.4229665554687472,
          -0.3680104765624037,
          -0.2761367656249831,
          -0.26789354687502964,
          -0.2616959070312532,
          -0.22293198437500905,
          -0.11317375546877884,
          -0.10509505312495548,
          0.1567493515624392,
          0.15843004999999266,
          0.17361801562492474,
          0.20712877812502484,
          0.3248224476562882,
          0.3363309374999517,
          0.35682887656253115,
          0.36547995703119796,
          0.36923873984369493,
          0.41180834374995356,
          0.4349267734374962,
          0.4550776421874616,
          0.5279802101562154,
          0.6440492125000219,
          0.6956091171874732,
          0.7480303054687738,
          0.7571164531250361,
          1.107376220312517,
          1.2009981039062723,
          1.2022632679687604,
          1.2027306718750879,
          1.3282850499999768,
          1.3868489640625512,
          1.398360139843703,
          1.4677107031250216,
          1.4680283867187427,
          1.5235729843750505,
          1.5320349062500327,
          1.551678455468732,
          1.5857705320312334,
          1.598182523437572,
          1.6357234687500295,
          1.7078557734375863,
          1.776579420312487,
          1.7950104054687017,
          1.804247135937544,
          1.851307171875078,
          1.8606785109375323,
          1.906548953906281,
          1.958234053906267,
          2.028036587499969,
          2.1697276023437553,
          2.2533863593749857,
          2.3823113593750804,
          2.4023357460937405,
          2.4163179554687986,
          2.443466736718733,
          2.5598836484375624,
          2.6940596226562548,
          2.7179190304688063,
          2.7195874328125456,
          2.882867715625025,
          3.148669403906297,
          3.1585422421874227,
          3.3668641453125474,
          3.3679992265624605,
          3.421712593750044,
          3.9504557640625535,
          3.98970948593751,
          3.994583159374997,
          4.0734231718749925,
          4.099438853906236,
          4.119247328125084,
          4.127352876562554,
          4.1950686859374855,
          4.219455203125108,
          4.2212795812499735,
          4.329557021093706,
          4.362701420312533,
          4.419477902343715,
          4.468481906249963,
          4.507695789062495,
          4.517938593749932,
          4.557791215625002,
          4.822797532031245,
          5.170048078125092,
          5.247574054687448,
          5.531164765624908,
          5.690883277343801,
          5.6982229796874435,
          5.838511534375016,
          5.966840059375045,
          6.10889897265622,
          6.555737646093803,
          6.603123571875017,
          6.728949857031239,
          6.933019156249998,
          6.998578226562586,
          7.0483743265624526,
          7.080395257812597,
          7.237526400781235,
          7.3441014656250445,
          7.446650554687494,
          7.750156148437554,
          8.163748789062538,
          8.200701956249986,
          8.201757140624977,
          8.211013749999893,
          8.273890632812481,
          8.409390457031236,
          8.428093984374982,
          8.798216328124909,
          9.021886617187533,
          9.1865546054687,
          9.342607646874967,
          9.470876992187414,
          9.881681650781275,
          10.110795228124971,
          10.237278492187443,
          10.321168379687492,
          10.4268060375,
          10.44006044531261,
          10.647524382812549,
          11.130816042968718,
          11.176402984375045,
          11.336587414062478,
          11.443654088281278,
          11.65841071093746,
          12.3771025625,
          12.395635842187517,
          12.987459992187496,
          13.814015749999953,
          14.280475931249953,
          14.697839274999978,
          14.828722942187483,
          15.361945390624896,
          15.546924367187557,
          15.835970671093719,
          16.384667172656236,
          16.515461716406207,
          16.581849124999962,
          16.69243514062498,
          16.73065057812505,
          16.956859171875067,
          17.13070840937496,
          17.365639756249948,
          17.86049544843752,
          18.236445882812404,
          18.55854344531258,
          18.78594311328129,
          19.105262593750012,
          19.844607471093695,
          20.105193731249983,
          20.131106205468768,
          20.44540335937495,
          20.634470739843778,
          20.759291984374954,
          20.87737491874998,
          21.54951438906255,
          21.667507589843694,
          21.984440601562483,
          22.180574353906195,
          22.27558502187503,
          22.420821907812524,
          22.494158353125044,
          22.77831475000005,
          23.140244522656303,
          23.452056000000084,
          23.62213855468758,
          24.670037039843805,
          24.857982375000006,
          25.196278040624975,
          25.320893109374992,
          26.09000654062504,
          26.506556628125054,
          26.84036290468748,
          27.26069321875002,
          27.58056631249997,
          30.82651510000005,
          31.190944021093742,
          31.203634906250045,
          32.01701770468753,
          32.448777031250074,
          32.675037268749975,
          35.59138841406252,
          36.62722233750003,
          40.60576626249997,
          40.765693437499976,
          45.352968242187444,
          48.292652771875055,
          49.72758064375,
          52.47231024218752,
          53.656279490625025,
          56.483125608593696,
          68.49077614843748,
          74.4884171835937,
          81.31790078125005,
          85.74905846249999,
          99.12815965624998,
          123.39461707812507
         ],
         "yaxis": "y"
        }
       ],
       "layout": {
        "annotations": [
         {
          "showarrow": false,
          "text": "(1-alpha) = 0.9",
          "x": 0.9,
          "xanchor": "right",
          "xref": "x",
          "y": 1,
          "yanchor": "top",
          "yref": "y domain"
         },
         {
          "showarrow": false,
          "text": "q1 = 14.7",
          "x": 0,
          "xanchor": "left",
          "xref": "x domain",
          "y": 14.697839274999978,
          "yanchor": "bottom",
          "yref": "y"
         }
        ],
        "height": 400,
        "legend": {
         "tracegroupgap": 0
        },
        "margin": {
         "b": 50,
         "l": 70,
         "r": 70,
         "t": 60
        },
        "shapes": [
         {
          "line": {
           "color": "green",
           "width": 1
          },
          "type": "line",
          "x0": 0.9,
          "x1": 0.9,
          "xref": "x",
          "y0": 0,
          "y1": 1,
          "yref": "y domain"
         },
         {
          "line": {
           "color": "red",
           "width": 1
          },
          "type": "line",
          "x0": 0,
          "x1": 1,
          "xref": "x domain",
          "y0": 14.697839274999978,
          "y1": 14.697839274999978,
          "yref": "y"
         }
        ],
        "template": {
         "data": {
          "bar": [
           {
            "error_x": {
             "color": "#2a3f5f"
            },
            "error_y": {
             "color": "#2a3f5f"
            },
            "marker": {
             "line": {
              "color": "#E5ECF6",
              "width": 0.5
             },
             "pattern": {
              "fillmode": "overlay",
              "size": 10,
              "solidity": 0.2
             }
            },
            "type": "bar"
           }
          ],
          "barpolar": [
           {
            "marker": {
             "line": {
              "color": "#E5ECF6",
              "width": 0.5
             },
             "pattern": {
              "fillmode": "overlay",
              "size": 10,
              "solidity": 0.2
             }
            },
            "type": "barpolar"
           }
          ],
          "carpet": [
           {
            "aaxis": {
             "endlinecolor": "#2a3f5f",
             "gridcolor": "white",
             "linecolor": "white",
             "minorgridcolor": "white",
             "startlinecolor": "#2a3f5f"
            },
            "baxis": {
             "endlinecolor": "#2a3f5f",
             "gridcolor": "white",
             "linecolor": "white",
             "minorgridcolor": "white",
             "startlinecolor": "#2a3f5f"
            },
            "type": "carpet"
           }
          ],
          "choropleth": [
           {
            "colorbar": {
             "outlinewidth": 0,
             "ticks": ""
            },
            "type": "choropleth"
           }
          ],
          "contour": [
           {
            "colorbar": {
             "outlinewidth": 0,
             "ticks": ""
            },
            "colorscale": [
             [
              0,
              "#0d0887"
             ],
             [
              0.1111111111111111,
              "#46039f"
             ],
             [
              0.2222222222222222,
              "#7201a8"
             ],
             [
              0.3333333333333333,
              "#9c179e"
             ],
             [
              0.4444444444444444,
              "#bd3786"
             ],
             [
              0.5555555555555556,
              "#d8576b"
             ],
             [
              0.6666666666666666,
              "#ed7953"
             ],
             [
              0.7777777777777778,
              "#fb9f3a"
             ],
             [
              0.8888888888888888,
              "#fdca26"
             ],
             [
              1,
              "#f0f921"
             ]
            ],
            "type": "contour"
           }
          ],
          "contourcarpet": [
           {
            "colorbar": {
             "outlinewidth": 0,
             "ticks": ""
            },
            "type": "contourcarpet"
           }
          ],
          "heatmap": [
           {
            "colorbar": {
             "outlinewidth": 0,
             "ticks": ""
            },
            "colorscale": [
             [
              0,
              "#0d0887"
             ],
             [
              0.1111111111111111,
              "#46039f"
             ],
             [
              0.2222222222222222,
              "#7201a8"
             ],
             [
              0.3333333333333333,
              "#9c179e"
             ],
             [
              0.4444444444444444,
              "#bd3786"
             ],
             [
              0.5555555555555556,
              "#d8576b"
             ],
             [
              0.6666666666666666,
              "#ed7953"
             ],
             [
              0.7777777777777778,
              "#fb9f3a"
             ],
             [
              0.8888888888888888,
              "#fdca26"
             ],
             [
              1,
              "#f0f921"
             ]
            ],
            "type": "heatmap"
           }
          ],
          "heatmapgl": [
           {
            "colorbar": {
             "outlinewidth": 0,
             "ticks": ""
            },
            "colorscale": [
             [
              0,
              "#0d0887"
             ],
             [
              0.1111111111111111,
              "#46039f"
             ],
             [
              0.2222222222222222,
              "#7201a8"
             ],
             [
              0.3333333333333333,
              "#9c179e"
             ],
             [
              0.4444444444444444,
              "#bd3786"
             ],
             [
              0.5555555555555556,
              "#d8576b"
             ],
             [
              0.6666666666666666,
              "#ed7953"
             ],
             [
              0.7777777777777778,
              "#fb9f3a"
             ],
             [
              0.8888888888888888,
              "#fdca26"
             ],
             [
              1,
              "#f0f921"
             ]
            ],
            "type": "heatmapgl"
           }
          ],
          "histogram": [
           {
            "marker": {
             "pattern": {
              "fillmode": "overlay",
              "size": 10,
              "solidity": 0.2
             }
            },
            "type": "histogram"
           }
          ],
          "histogram2d": [
           {
            "colorbar": {
             "outlinewidth": 0,
             "ticks": ""
            },
            "colorscale": [
             [
              0,
              "#0d0887"
             ],
             [
              0.1111111111111111,
              "#46039f"
             ],
             [
              0.2222222222222222,
              "#7201a8"
             ],
             [
              0.3333333333333333,
              "#9c179e"
             ],
             [
              0.4444444444444444,
              "#bd3786"
             ],
             [
              0.5555555555555556,
              "#d8576b"
             ],
             [
              0.6666666666666666,
              "#ed7953"
             ],
             [
              0.7777777777777778,
              "#fb9f3a"
             ],
             [
              0.8888888888888888,
              "#fdca26"
             ],
             [
              1,
              "#f0f921"
             ]
            ],
            "type": "histogram2d"
           }
          ],
          "histogram2dcontour": [
           {
            "colorbar": {
             "outlinewidth": 0,
             "ticks": ""
            },
            "colorscale": [
             [
              0,
              "#0d0887"
             ],
             [
              0.1111111111111111,
              "#46039f"
             ],
             [
              0.2222222222222222,
              "#7201a8"
             ],
             [
              0.3333333333333333,
              "#9c179e"
             ],
             [
              0.4444444444444444,
              "#bd3786"
             ],
             [
              0.5555555555555556,
              "#d8576b"
             ],
             [
              0.6666666666666666,
              "#ed7953"
             ],
             [
              0.7777777777777778,
              "#fb9f3a"
             ],
             [
              0.8888888888888888,
              "#fdca26"
             ],
             [
              1,
              "#f0f921"
             ]
            ],
            "type": "histogram2dcontour"
           }
          ],
          "mesh3d": [
           {
            "colorbar": {
             "outlinewidth": 0,
             "ticks": ""
            },
            "type": "mesh3d"
           }
          ],
          "parcoords": [
           {
            "line": {
             "colorbar": {
              "outlinewidth": 0,
              "ticks": ""
             }
            },
            "type": "parcoords"
           }
          ],
          "pie": [
           {
            "automargin": true,
            "type": "pie"
           }
          ],
          "scatter": [
           {
            "fillpattern": {
             "fillmode": "overlay",
             "size": 10,
             "solidity": 0.2
            },
            "type": "scatter"
           }
          ],
          "scatter3d": [
           {
            "line": {
             "colorbar": {
              "outlinewidth": 0,
              "ticks": ""
             }
            },
            "marker": {
             "colorbar": {
              "outlinewidth": 0,
              "ticks": ""
             }
            },
            "type": "scatter3d"
           }
          ],
          "scattercarpet": [
           {
            "marker": {
             "colorbar": {
              "outlinewidth": 0,
              "ticks": ""
             }
            },
            "type": "scattercarpet"
           }
          ],
          "scattergeo": [
           {
            "marker": {
             "colorbar": {
              "outlinewidth": 0,
              "ticks": ""
             }
            },
            "type": "scattergeo"
           }
          ],
          "scattergl": [
           {
            "marker": {
             "colorbar": {
              "outlinewidth": 0,
              "ticks": ""
             }
            },
            "type": "scattergl"
           }
          ],
          "scattermapbox": [
           {
            "marker": {
             "colorbar": {
              "outlinewidth": 0,
              "ticks": ""
             }
            },
            "type": "scattermapbox"
           }
          ],
          "scatterpolar": [
           {
            "marker": {
             "colorbar": {
              "outlinewidth": 0,
              "ticks": ""
             }
            },
            "type": "scatterpolar"
           }
          ],
          "scatterpolargl": [
           {
            "marker": {
             "colorbar": {
              "outlinewidth": 0,
              "ticks": ""
             }
            },
            "type": "scatterpolargl"
           }
          ],
          "scatterternary": [
           {
            "marker": {
             "colorbar": {
              "outlinewidth": 0,
              "ticks": ""
             }
            },
            "type": "scatterternary"
           }
          ],
          "surface": [
           {
            "colorbar": {
             "outlinewidth": 0,
             "ticks": ""
            },
            "colorscale": [
             [
              0,
              "#0d0887"
             ],
             [
              0.1111111111111111,
              "#46039f"
             ],
             [
              0.2222222222222222,
              "#7201a8"
             ],
             [
              0.3333333333333333,
              "#9c179e"
             ],
             [
              0.4444444444444444,
              "#bd3786"
             ],
             [
              0.5555555555555556,
              "#d8576b"
             ],
             [
              0.6666666666666666,
              "#ed7953"
             ],
             [
              0.7777777777777778,
              "#fb9f3a"
             ],
             [
              0.8888888888888888,
              "#fdca26"
             ],
             [
              1,
              "#f0f921"
             ]
            ],
            "type": "surface"
           }
          ],
          "table": [
           {
            "cells": {
             "fill": {
              "color": "#EBF0F8"
             },
             "line": {
              "color": "white"
             }
            },
            "header": {
             "fill": {
              "color": "#C8D4E3"
             },
             "line": {
              "color": "white"
             }
            },
            "type": "table"
           }
          ]
         },
         "layout": {
          "annotationdefaults": {
           "arrowcolor": "#2a3f5f",
           "arrowhead": 0,
           "arrowwidth": 1
          },
          "autotypenumbers": "strict",
          "coloraxis": {
           "colorbar": {
            "outlinewidth": 0,
            "ticks": ""
           }
          },
          "colorscale": {
           "diverging": [
            [
             0,
             "#8e0152"
            ],
            [
             0.1,
             "#c51b7d"
            ],
            [
             0.2,
             "#de77ae"
            ],
            [
             0.3,
             "#f1b6da"
            ],
            [
             0.4,
             "#fde0ef"
            ],
            [
             0.5,
             "#f7f7f7"
            ],
            [
             0.6,
             "#e6f5d0"
            ],
            [
             0.7,
             "#b8e186"
            ],
            [
             0.8,
             "#7fbc41"
            ],
            [
             0.9,
             "#4d9221"
            ],
            [
             1,
             "#276419"
            ]
           ],
           "sequential": [
            [
             0,
             "#0d0887"
            ],
            [
             0.1111111111111111,
             "#46039f"
            ],
            [
             0.2222222222222222,
             "#7201a8"
            ],
            [
             0.3333333333333333,
             "#9c179e"
            ],
            [
             0.4444444444444444,
             "#bd3786"
            ],
            [
             0.5555555555555556,
             "#d8576b"
            ],
            [
             0.6666666666666666,
             "#ed7953"
            ],
            [
             0.7777777777777778,
             "#fb9f3a"
            ],
            [
             0.8888888888888888,
             "#fdca26"
            ],
            [
             1,
             "#f0f921"
            ]
           ],
           "sequentialminus": [
            [
             0,
             "#0d0887"
            ],
            [
             0.1111111111111111,
             "#46039f"
            ],
            [
             0.2222222222222222,
             "#7201a8"
            ],
            [
             0.3333333333333333,
             "#9c179e"
            ],
            [
             0.4444444444444444,
             "#bd3786"
            ],
            [
             0.5555555555555556,
             "#d8576b"
            ],
            [
             0.6666666666666666,
             "#ed7953"
            ],
            [
             0.7777777777777778,
             "#fb9f3a"
            ],
            [
             0.8888888888888888,
             "#fdca26"
            ],
            [
             1,
             "#f0f921"
            ]
           ]
          },
          "colorway": [
           "#636efa",
           "#EF553B",
           "#00cc96",
           "#ab63fa",
           "#FFA15A",
           "#19d3f3",
           "#FF6692",
           "#B6E880",
           "#FF97FF",
           "#FECB52"
          ],
          "font": {
           "color": "#2a3f5f"
          },
          "geo": {
           "bgcolor": "white",
           "lakecolor": "white",
           "landcolor": "#E5ECF6",
           "showlakes": true,
           "showland": true,
           "subunitcolor": "white"
          },
          "hoverlabel": {
           "align": "left"
          },
          "hovermode": "closest",
          "mapbox": {
           "style": "light"
          },
          "paper_bgcolor": "white",
          "plot_bgcolor": "#E5ECF6",
          "polar": {
           "angularaxis": {
            "gridcolor": "white",
            "linecolor": "white",
            "ticks": ""
           },
           "bgcolor": "#E5ECF6",
           "radialaxis": {
            "gridcolor": "white",
            "linecolor": "white",
            "ticks": ""
           }
          },
          "scene": {
           "xaxis": {
            "backgroundcolor": "#E5ECF6",
            "gridcolor": "white",
            "gridwidth": 2,
            "linecolor": "white",
            "showbackground": true,
            "ticks": "",
            "zerolinecolor": "white"
           },
           "yaxis": {
            "backgroundcolor": "#E5ECF6",
            "gridcolor": "white",
            "gridwidth": 2,
            "linecolor": "white",
            "showbackground": true,
            "ticks": "",
            "zerolinecolor": "white"
           },
           "zaxis": {
            "backgroundcolor": "#E5ECF6",
            "gridcolor": "white",
            "gridwidth": 2,
            "linecolor": "white",
            "showbackground": true,
            "ticks": "",
            "zerolinecolor": "white"
           }
          },
          "shapedefaults": {
           "line": {
            "color": "#2a3f5f"
           }
          },
          "ternary": {
           "aaxis": {
            "gridcolor": "white",
            "linecolor": "white",
            "ticks": ""
           },
           "baxis": {
            "gridcolor": "white",
            "linecolor": "white",
            "ticks": ""
           },
           "bgcolor": "#E5ECF6",
           "caxis": {
            "gridcolor": "white",
            "linecolor": "white",
            "ticks": ""
           }
          },
          "title": {
           "x": 0.05
          },
          "xaxis": {
           "automargin": true,
           "gridcolor": "white",
           "linecolor": "white",
           "ticks": "",
           "title": {
            "standoff": 15
           },
           "zerolinecolor": "white",
           "zerolinewidth": 2
          },
          "yaxis": {
           "automargin": true,
           "gridcolor": "white",
           "linecolor": "white",
           "ticks": "",
           "title": {
            "standoff": 15
           },
           "zerolinecolor": "white",
           "zerolinewidth": 2
          }
         }
        },
        "title": {
         "text": "CQR One-Sided Interval Width with q"
        },
        "width": 600,
        "xaxis": {
         "anchor": "y",
         "domain": [
          0,
          1
         ],
         "title": {
          "text": "Confidence Level"
         }
        },
        "yaxis": {
         "anchor": "x",
         "domain": [
          0,
          1
         ],
         "title": {
          "text": "One-Sided Interval Width"
         }
        }
       }
      }
     },
     "metadata": {},
     "output_type": "display_data"
    }
   ],
   "source": [
    "# Parameter for Conformalized Quantile Regression\n",
    "method = \"cqr\"\n",
    "alpha = 1 - confidence_lv\n",
    "\n",
    "# Enable conformal predict on the pre-trained models\n",
    "# Evaluate parameter is optional, refer to the \"Evaluate Performance\" session below\n",
    "cqr_forecast1 = cp_model1.conformal_predict(\n",
    "    df_test, calibration_df=df_cal, alpha=alpha, method=method, plotting_backend=\"plotly-static\"\n",
    ")\n",
    "cqr_forecast2 = cp_model2.conformal_predict(\n",
    "    df_test, calibration_df=df_cal, alpha=alpha, method=method, plotting_backend=\"plotly-static\"\n",
    ")"
   ]
  },
  {
   "cell_type": "code",
   "execution_count": 31,
   "metadata": {},
   "outputs": [
    {
     "name": "stderr",
     "output_type": "stream",
     "text": [
      "WARNING - (NP.forecaster.plot) - highlight_forecast_step_n is ignored since auto-regression not enabled.\n"
     ]
    },
    {
     "data": {
      "image/svg+xml": [
       "<svg class=\"main-svg\" xmlns=\"http://www.w3.org/2000/svg\" xmlns:xlink=\"http://www.w3.org/1999/xlink\" width=\"700\" height=\"420\" style=\"\" viewBox=\"0 0 700 420\"><rect x=\"0\" y=\"0\" width=\"700\" height=\"420\" style=\"fill: rgb(255, 255, 255); fill-opacity: 1;\"/><defs id=\"defs-655a2e\"><g class=\"clips\"><clipPath id=\"clip655a2exyplot\" class=\"plotclip\"><rect width=\"526\" height=\"263\"/></clipPath><clipPath class=\"axesclip\" id=\"clip655a2ex\"><rect x=\"52\" y=\"0\" width=\"526\" height=\"420\"/></clipPath><clipPath class=\"axesclip\" id=\"clip655a2ey\"><rect x=\"0\" y=\"24\" width=\"700\" height=\"263\"/></clipPath><clipPath class=\"axesclip\" id=\"clip655a2exy\"><rect x=\"52\" y=\"24\" width=\"526\" height=\"263\"/></clipPath></g><g class=\"gradients\"/><g class=\"patterns\"/></defs><g class=\"bglayer\"/><g class=\"layer-below\"><g class=\"imagelayer\"/><g class=\"shapelayer\"/></g><g class=\"cartesianlayer\"><g class=\"subplot xy\"><g class=\"layer-subplot\"><g class=\"shapelayer\"/><g class=\"imagelayer\"/></g><g class=\"minor-gridlayer\"><g class=\"x\"/><g class=\"y\"/></g><g class=\"gridlayer\"><g class=\"x\"><path class=\"xgrid crisp\" transform=\"translate(78.5,0)\" d=\"M0,24v263\" style=\"stroke: rgb(235, 240, 248); stroke-opacity: 1; stroke-width: 1px;\"/><path class=\"xgrid crisp\" transform=\"translate(212.84,0)\" d=\"M0,24v263\" style=\"stroke: rgb(235, 240, 248); stroke-opacity: 1; stroke-width: 1px;\"/><path class=\"xgrid crisp\" transform=\"translate(347.19,0)\" d=\"M0,24v263\" style=\"stroke: rgb(235, 240, 248); stroke-opacity: 1; stroke-width: 1px;\"/><path class=\"xgrid crisp\" transform=\"translate(481.53,0)\" d=\"M0,24v263\" style=\"stroke: rgb(235, 240, 248); stroke-opacity: 1; stroke-width: 1px;\"/></g><g class=\"y\"><path class=\"ygrid crisp\" transform=\"translate(0,255.89)\" d=\"M52,0h526\" style=\"stroke: rgb(235, 240, 248); stroke-opacity: 1; stroke-width: 1px;\"/><path class=\"ygrid crisp\" transform=\"translate(0,202.01)\" d=\"M52,0h526\" style=\"stroke: rgb(235, 240, 248); stroke-opacity: 1; stroke-width: 1px;\"/><path class=\"ygrid crisp\" transform=\"translate(0,148.13)\" d=\"M52,0h526\" style=\"stroke: rgb(235, 240, 248); stroke-opacity: 1; stroke-width: 1px;\"/><path class=\"ygrid crisp\" transform=\"translate(0,94.26)\" d=\"M52,0h526\" style=\"stroke: rgb(235, 240, 248); stroke-opacity: 1; stroke-width: 1px;\"/><path class=\"ygrid crisp\" transform=\"translate(0,40.379999999999995)\" d=\"M52,0h526\" style=\"stroke: rgb(235, 240, 248); stroke-opacity: 1; stroke-width: 1px;\"/></g></g><g class=\"zerolinelayer\"/><g class=\"layer-between\"><g class=\"shapelayer\"/><g class=\"imagelayer\"/></g><path class=\"xlines-below\"/><path class=\"ylines-below\"/><g class=\"overlines-below\"/><g class=\"xaxislayer-below\"/><g class=\"yaxislayer-below\"/><g class=\"overaxes-below\"/><g class=\"plot\" transform=\"translate(52,24)\" clip-path=\"url(#clip655a2exyplot)\"><g class=\"scatterlayer mlayer\"><g class=\"trace scatter trace5f8bb1\" style=\"stroke-miterlimit: 2;\"><g class=\"fills\"><g><path class=\"js-fill\" d=\"M29.3,139.26L32.1,136.77L34.9,137.99L37.7,132.46L40.5,107.55L46.09,41.87L48.89,26.99L51.69,21.9L54.49,20.35L57.29,21.63L60.09,24.46L62.89,25.16L65.68,23.92L71.28,15.92L74.08,17.69L76.88,36.02L79.68,68.62L82.48,98.94L85.28,112.21L90.87,117.04L93.67,120.78L99.27,118.69L102.07,121.34L104.87,116.71L107.67,94L113.26,30.92L116.06,17.45L118.86,13.66L121.66,13.15L124.46,15.76L127.26,19.67L130.06,21.79L132.86,20.77L135.65,18.66L138.45,15.28L141.25,17.72L144.05,36.72L149.65,102.1L152.45,115.45L155.25,117.31L158.04,120.57L160.84,124.43L163.64,124L166.44,122.85L169.24,125.34L172.04,121.65L174.84,98.42L180.44,35.52L183.23,21.6L186.03,17.87L188.83,17.16L191.63,19.52L194.43,23.51L197.23,25.39L200.03,24.59L205.62,18.46L208.42,20.57L211.22,39.12L214.02,72.63L216.82,102.8L219.62,117.37L222.42,119.2L225.22,122.1L228.01,125.9L230.81,125.17L233.61,123.98L236.41,126.23L239.21,122.03L242.01,99.08L247.61,35.74L250.41,21.53L253.2,17.37L256,16.86L258.8,18.51L261.6,22.41L264.4,24.15L267.2,22.96L272.8,16.34L275.59,18.45L278.39,36.95L281.19,69.74L283.99,101.34L286.79,113.84L292.39,119.03L295.19,122.57L297.99,121.85L300.78,120.19L303.58,122.64L306.38,119.01L309.18,95.28L311.98,60.57L314.78,32.53L317.58,18.85L320.38,15.18L323.17,14.96L325.97,17.75L328.77,21.72L331.57,24.11L334.37,23.62L339.97,18.55L342.77,21.61L345.56,41.01L348.36,75.22L351.16,106.72L353.96,121.37L356.76,124.59L359.56,129.1L362.36,133.81L365.16,134.31L367.96,134.5L370.75,138.44L373.55,134.9L376.35,113.4L381.95,52.7L384.75,40.43L387.55,37.95L390.35,38.66L393.14,42.28L395.94,47.27L398.74,50.03L401.54,50.74L404.34,49.12L407.14,46.46L409.94,49.85L412.74,69.1L418.33,136.27L421.13,149.74L423.93,152.09L426.73,155.53L429.53,159.88L432.33,159.38L435.13,158.5L437.93,160.87L440.72,156.52L443.52,133.51L449.12,69.47L451.92,54.97L454.72,50.36L457.52,49.11L460.32,50.6L463.11,53.64L465.91,54.35L468.71,52.26L471.51,48.88L474.31,43.88L477.11,44.81L479.91,62.22L485.5,123.21L488.3,136.02L491.1,136.41L493.9,138.09L496.7,140.63L496.7,233.58L493.9,235.03L491.1,232.95L488.3,223.78L485.5,211.13L482.71,200.25L477.11,174.54L474.31,163.11L471.51,159.66L468.71,159.92L465.91,158.69L463.11,155.65L460.32,154.38L457.52,154.7L454.72,156.66L451.92,165.08L446.32,208.36L443.52,228.47L440.72,241.73L437.93,248.52L435.13,249.85L432.33,247.23L426.73,243.26L423.93,238.04L421.13,225.5L418.33,210.3L409.94,162.94L407.14,147.7L404.34,141.06L401.54,138.5L398.74,134.18L395.94,128.25L393.14,124.11L390.35,121.91L387.55,121.52L384.75,127.78L376.35,185.23L373.55,196.83L370.75,202.9L367.96,203.09L365.16,199.82L362.36,197.05L359.56,195.43L356.76,189.94L351.16,162.07L348.36,148.57L342.77,118.19L339.97,104.23L337.17,98.94L334.37,97.92L331.57,95.31L328.77,91.17L325.97,89.04L323.17,88.81L320.38,90.43L317.58,98.73L309.18,162.5L306.38,176.96L303.58,184.46L300.78,186.71L297.99,185.61L295.19,184.63L292.39,184.83L289.59,181.29L283.99,156.89L281.19,143.98L275.59,116.11L272.8,103.42L270,98.85L267.2,98.57L264.4,96.56L261.6,92.85L258.8,91.09L256,91.24L253.2,93L250.41,101.31L242.01,165.28L239.21,178.79L236.41,186.36L233.61,188.45L230.81,186.75L228.01,185.49L225.22,185.15L222.42,181.18L216.82,155.54L214.02,143.16L208.42,114.42L205.62,101.69L202.83,96.89L200.03,96.39L197.23,94.27L194.43,90.51L191.63,88.69L188.83,88.67L186.03,90.6L183.23,98.94L174.84,163.47L172.04,177.54L169.24,185.14L166.44,187.63L163.64,186.27L160.84,185.34L158.04,185.35L155.25,181.8L149.65,157.82L146.85,144.96L141.25,117.12L138.45,104.48L135.65,100.32L132.86,100.06L130.06,98.55L127.26,95.19L124.46,93.87L121.66,94.31L118.86,96.8L116.06,105.67L107.67,171.2L104.87,185.59L102.07,194.35L99.27,197.22L96.47,196.55L93.67,196.32L90.87,197.05L88.07,194.25L82.48,171.39L79.68,160.18L74.08,134.37L71.28,122.86L68.48,119.82L65.68,120.92L62.89,120.34L60.09,118.35L57.29,118.38L54.49,120.16L51.69,123.77L48.89,133.99L40.5,203.51L37.7,219.83L34.9,229.17L32.1,233.22L29.3,233.61Z\" style=\"fill: rgb(45, 146, 255); fill-opacity: 0.2; stroke-width: 0;\"/></g></g><g class=\"errorbars\"/><g class=\"lines\"><path class=\"js-line\" d=\"M29.3,233.61L32.1,233.22L34.9,229.17L37.7,219.83L40.5,203.51L48.89,133.99L51.69,123.77L54.49,120.16L57.29,118.38L60.09,118.35L62.89,120.34L65.68,120.92L68.48,119.82L71.28,122.86L74.08,134.37L79.68,160.18L82.48,171.39L88.07,194.25L90.87,197.05L93.67,196.32L96.47,196.55L99.27,197.22L102.07,194.35L104.87,185.59L107.67,171.2L116.06,105.67L118.86,96.8L121.66,94.31L124.46,93.87L127.26,95.19L130.06,98.55L132.86,100.06L135.65,100.32L138.45,104.48L141.25,117.12L146.85,144.96L149.65,157.82L155.25,181.8L158.04,185.35L160.84,185.34L163.64,186.27L166.44,187.63L169.24,185.14L172.04,177.54L174.84,163.47L183.23,98.94L186.03,90.6L188.83,88.67L191.63,88.69L194.43,90.51L197.23,94.27L200.03,96.39L202.83,96.89L205.62,101.69L208.42,114.42L214.02,143.16L216.82,155.54L222.42,181.18L225.22,185.15L228.01,185.49L230.81,186.75L233.61,188.45L236.41,186.36L239.21,178.79L242.01,165.28L250.41,101.31L253.2,93L256,91.24L258.8,91.09L261.6,92.85L264.4,96.56L267.2,98.57L270,98.85L272.8,103.42L275.59,116.11L281.19,143.98L283.99,156.89L289.59,181.29L292.39,184.83L295.19,184.63L297.99,185.61L300.78,186.71L303.58,184.46L306.38,176.96L309.18,162.5L317.58,98.73L320.38,90.43L323.17,88.81L325.97,89.04L328.77,91.17L331.57,95.31L334.37,97.92L337.17,98.94L339.97,104.23L342.77,118.19L348.36,148.57L351.16,162.07L356.76,189.94L359.56,195.43L362.36,197.05L365.16,199.82L367.96,203.09L370.75,202.9L373.55,196.83L376.35,185.23L384.75,127.78L387.55,121.52L390.35,121.91L393.14,124.11L395.94,128.25L398.74,134.18L401.54,138.5L404.34,141.06L407.14,147.7L409.94,162.94L418.33,210.3L421.13,225.5L423.93,238.04L426.73,243.26L432.33,247.23L435.13,249.85L437.93,248.52L440.72,241.73L443.52,228.47L446.32,208.36L451.92,165.08L454.72,156.66L457.52,154.7L460.32,154.38L463.11,155.65L465.91,158.69L468.71,159.92L471.51,159.66L474.31,163.11L477.11,174.54L482.71,200.25L485.5,211.13L488.3,223.78L491.1,232.95L493.9,235.03L496.7,233.58\" style=\"vector-effect: none; fill: none; stroke: rgb(45, 146, 255); stroke-opacity: 0.2; stroke-width: 1px; opacity: 1;\"/></g><g class=\"points\"/><g class=\"text\"/></g><g class=\"trace scatter trace54fcf8\" style=\"stroke-miterlimit: 2;\"><g class=\"fills\"/><g class=\"errorbars\"/><g class=\"lines\"><path class=\"js-line\" d=\"M29.3,139.26L32.1,136.77L34.9,137.99L37.7,132.46L40.5,107.55L46.09,41.87L48.89,26.99L51.69,21.9L54.49,20.35L57.29,21.63L60.09,24.46L62.89,25.16L65.68,23.92L71.28,15.92L74.08,17.69L76.88,36.02L79.68,68.62L82.48,98.94L85.28,112.21L90.87,117.04L93.67,120.78L99.27,118.69L102.07,121.34L104.87,116.71L107.67,94L113.26,30.92L116.06,17.45L118.86,13.66L121.66,13.15L124.46,15.76L127.26,19.67L130.06,21.79L132.86,20.77L135.65,18.66L138.45,15.28L141.25,17.72L144.05,36.72L149.65,102.1L152.45,115.45L155.25,117.31L158.04,120.57L160.84,124.43L163.64,124L166.44,122.85L169.24,125.34L172.04,121.65L174.84,98.42L180.44,35.52L183.23,21.6L186.03,17.87L188.83,17.16L191.63,19.52L194.43,23.51L197.23,25.39L200.03,24.59L205.62,18.46L208.42,20.57L211.22,39.12L214.02,72.63L216.82,102.8L219.62,117.37L222.42,119.2L225.22,122.1L228.01,125.9L230.81,125.17L233.61,123.98L236.41,126.23L239.21,122.03L242.01,99.08L247.61,35.74L250.41,21.53L253.2,17.37L256,16.86L258.8,18.51L261.6,22.41L264.4,24.15L267.2,22.96L272.8,16.34L275.59,18.45L278.39,36.95L281.19,69.74L283.99,101.34L286.79,113.84L292.39,119.03L295.19,122.57L297.99,121.85L300.78,120.19L303.58,122.64L306.38,119.01L309.18,95.28L311.98,60.57L314.78,32.53L317.58,18.85L320.38,15.18L323.17,14.96L325.97,17.75L328.77,21.72L331.57,24.11L334.37,23.62L339.97,18.55L342.77,21.61L345.56,41.01L348.36,75.22L351.16,106.72L353.96,121.37L356.76,124.59L359.56,129.1L362.36,133.81L365.16,134.31L367.96,134.5L370.75,138.44L373.55,134.9L376.35,113.4L381.95,52.7L384.75,40.43L387.55,37.95L390.35,38.66L393.14,42.28L395.94,47.27L398.74,50.03L401.54,50.74L404.34,49.12L407.14,46.46L409.94,49.85L412.74,69.1L418.33,136.27L421.13,149.74L423.93,152.09L426.73,155.53L429.53,159.88L432.33,159.38L435.13,158.5L437.93,160.87L440.72,156.52L443.52,133.51L449.12,69.47L451.92,54.97L454.72,50.36L457.52,49.11L460.32,50.6L463.11,53.64L465.91,54.35L468.71,52.26L471.51,48.88L474.31,43.88L477.11,44.81L479.91,62.22L485.5,123.21L488.3,136.02L491.1,136.41L493.9,138.09L496.7,140.63\" style=\"vector-effect: none; fill: none; stroke: rgb(45, 146, 255); stroke-opacity: 0.2; stroke-width: 1px; opacity: 1;\"/></g><g class=\"points\"/><g class=\"text\"/></g><g class=\"trace scatter tracee3b17a\" style=\"stroke-miterlimit: 2; opacity: 1;\"><g class=\"fills\"/><g class=\"errorbars\"/><g class=\"lines\"><path class=\"js-line\" d=\"M29.3,184.8L34.9,178.5L37.7,169.74L40.5,149.11L43.29,118.39L46.09,87.12L48.89,67.09L51.69,60.6L54.49,59.13L57.29,57.74L60.09,58.64L62.89,61.39L65.68,60.07L68.48,54.08L71.28,53.12L74.08,66.36L76.88,88.36L82.48,124.95L85.28,136.64L88.07,145.43L90.87,150.02L93.67,151.48L96.47,151.42L99.27,151.16L102.07,150.14L104.87,143.46L107.67,126.14L113.26,69.31L116.06,51.81L118.86,47.76L121.66,48.2L124.46,49.12L127.26,52.11L130.06,56.97L132.86,56.84L135.65,52.73L138.45,53.28L141.25,67.75L144.05,90.77L149.65,129.81L152.45,141.91L155.25,150.74L158.04,155.57L160.84,157.16L163.64,157.03L166.44,156.73L169.24,155.21L172.04,148.86L174.84,130.85L180.44,73.14L183.23,54.43L186.03,49.98L188.83,49.99L191.63,50.22L194.43,52.73L197.23,56.86L200.03,56.51L202.83,51.71L205.62,51.98L208.42,65.75L211.22,88.27L216.82,126.03L219.62,138.88L222.42,147.78L225.22,152.51L228.01,154.19L230.81,154.09L233.61,154.07L236.41,152.86L239.21,146.44L242.01,129.07L247.61,72.03L250.41,53.68L253.2,49.4L256,49.98L258.8,50.23L261.6,53.06L264.4,57.62L267.2,57.49L270,52.82L272.8,53.22L275.59,67.33L278.39,90.09L283.99,128.52L286.79,140.17L289.59,149.49L292.39,154.13L295.19,155.4L297.99,155.35L303.58,153.4L306.38,147.23L309.18,128.85L311.98,100.47L314.78,71.67L317.58,53.52L320.38,49.26L323.17,49.8L325.97,50.51L328.77,53.39L331.57,58.26L334.37,58.49L337.17,54.3L339.97,55.32L342.77,70.49L345.56,93.93L351.16,134.08L353.96,147.58L356.76,158.12L359.56,164.74L362.36,167.67L365.16,169.25L370.75,171.62L373.55,166.66L376.35,151.24L379.15,124.84L381.95,97.9L384.75,82.26L387.55,80.03L390.35,82.65L393.14,85.28L395.94,90.3L398.74,96.8L401.54,99.02L404.34,96.44L407.14,98.68L409.94,115.14L412.74,139.36L418.33,182.07L421.13,195.34L423.93,205.57L426.73,211.46L429.53,214.27L432.33,215.02L435.13,215.61L437.93,214.75L440.72,208.57L443.52,191.03L449.12,133.12L451.92,114.27L454.72,109.06L457.52,108.63L460.32,107.99L463.11,109.39L465.91,112.26L468.71,110.37L471.51,104.33L474.31,102.62L477.11,114.48L479.91,135.12L482.71,154.49L485.5,168.54L488.3,178.75L491.1,185.01L493.9,187.39L496.7,186.67\" style=\"vector-effect: none; fill: none; stroke: rgb(45, 146, 255); stroke-opacity: 1; stroke-width: 2px; opacity: 1;\"/></g><g class=\"points\"/><g class=\"text\"/></g><g class=\"trace scatter trace778327\" style=\"stroke-miterlimit: 2; opacity: 1;\"><g class=\"fills\"/><g class=\"errorbars\"/><g class=\"lines\"/><g class=\"points\"><path class=\"point\" transform=\"translate(29.3,184.8)\" d=\"M0,1.13l1.13,1.13l1.13,-1.13l-1.13,-1.13l1.13,-1.13l-1.13,-1.13l-1.13,1.13l-1.13,-1.13l-1.13,1.13l1.13,1.13l-1.13,1.13l1.13,1.13Z\" style=\"opacity: 1; stroke-width: 0px; fill: rgb(0, 0, 255); fill-opacity: 1;\"/><path class=\"point\" transform=\"translate(32.1,182.13)\" d=\"M0,1.13l1.13,1.13l1.13,-1.13l-1.13,-1.13l1.13,-1.13l-1.13,-1.13l-1.13,1.13l-1.13,-1.13l-1.13,1.13l1.13,1.13l-1.13,1.13l1.13,1.13Z\" style=\"opacity: 1; stroke-width: 0px; fill: rgb(0, 0, 255); fill-opacity: 1;\"/><path class=\"point\" transform=\"translate(34.9,178.5)\" d=\"M0,1.13l1.13,1.13l1.13,-1.13l-1.13,-1.13l1.13,-1.13l-1.13,-1.13l-1.13,1.13l-1.13,-1.13l-1.13,1.13l1.13,1.13l-1.13,1.13l1.13,1.13Z\" style=\"opacity: 1; stroke-width: 0px; fill: rgb(0, 0, 255); fill-opacity: 1;\"/><path class=\"point\" transform=\"translate(37.7,169.74)\" d=\"M0,1.13l1.13,1.13l1.13,-1.13l-1.13,-1.13l1.13,-1.13l-1.13,-1.13l-1.13,1.13l-1.13,-1.13l-1.13,1.13l1.13,1.13l-1.13,1.13l1.13,1.13Z\" style=\"opacity: 1; stroke-width: 0px; fill: rgb(0, 0, 255); fill-opacity: 1;\"/><path class=\"point\" transform=\"translate(40.5,149.11)\" d=\"M0,1.13l1.13,1.13l1.13,-1.13l-1.13,-1.13l1.13,-1.13l-1.13,-1.13l-1.13,1.13l-1.13,-1.13l-1.13,1.13l1.13,1.13l-1.13,1.13l1.13,1.13Z\" style=\"opacity: 1; stroke-width: 0px; fill: rgb(0, 0, 255); fill-opacity: 1;\"/><path class=\"point\" transform=\"translate(43.29,118.39)\" d=\"M0,1.13l1.13,1.13l1.13,-1.13l-1.13,-1.13l1.13,-1.13l-1.13,-1.13l-1.13,1.13l-1.13,-1.13l-1.13,1.13l1.13,1.13l-1.13,1.13l1.13,1.13Z\" style=\"opacity: 1; stroke-width: 0px; fill: rgb(0, 0, 255); fill-opacity: 1;\"/><path class=\"point\" transform=\"translate(46.09,87.12)\" d=\"M0,1.13l1.13,1.13l1.13,-1.13l-1.13,-1.13l1.13,-1.13l-1.13,-1.13l-1.13,1.13l-1.13,-1.13l-1.13,1.13l1.13,1.13l-1.13,1.13l1.13,1.13Z\" style=\"opacity: 1; stroke-width: 0px; fill: rgb(0, 0, 255); fill-opacity: 1;\"/><path class=\"point\" transform=\"translate(48.89,67.09)\" d=\"M0,1.13l1.13,1.13l1.13,-1.13l-1.13,-1.13l1.13,-1.13l-1.13,-1.13l-1.13,1.13l-1.13,-1.13l-1.13,1.13l1.13,1.13l-1.13,1.13l1.13,1.13Z\" style=\"opacity: 1; stroke-width: 0px; fill: rgb(0, 0, 255); fill-opacity: 1;\"/><path class=\"point\" transform=\"translate(51.69,60.6)\" d=\"M0,1.13l1.13,1.13l1.13,-1.13l-1.13,-1.13l1.13,-1.13l-1.13,-1.13l-1.13,1.13l-1.13,-1.13l-1.13,1.13l1.13,1.13l-1.13,1.13l1.13,1.13Z\" style=\"opacity: 1; stroke-width: 0px; fill: rgb(0, 0, 255); fill-opacity: 1;\"/><path class=\"point\" transform=\"translate(54.49,59.13)\" d=\"M0,1.13l1.13,1.13l1.13,-1.13l-1.13,-1.13l1.13,-1.13l-1.13,-1.13l-1.13,1.13l-1.13,-1.13l-1.13,1.13l1.13,1.13l-1.13,1.13l1.13,1.13Z\" style=\"opacity: 1; stroke-width: 0px; fill: rgb(0, 0, 255); fill-opacity: 1;\"/><path class=\"point\" transform=\"translate(57.29,57.74)\" d=\"M0,1.13l1.13,1.13l1.13,-1.13l-1.13,-1.13l1.13,-1.13l-1.13,-1.13l-1.13,1.13l-1.13,-1.13l-1.13,1.13l1.13,1.13l-1.13,1.13l1.13,1.13Z\" style=\"opacity: 1; stroke-width: 0px; fill: rgb(0, 0, 255); fill-opacity: 1;\"/><path class=\"point\" transform=\"translate(60.09,58.64)\" d=\"M0,1.13l1.13,1.13l1.13,-1.13l-1.13,-1.13l1.13,-1.13l-1.13,-1.13l-1.13,1.13l-1.13,-1.13l-1.13,1.13l1.13,1.13l-1.13,1.13l1.13,1.13Z\" style=\"opacity: 1; stroke-width: 0px; fill: rgb(0, 0, 255); fill-opacity: 1;\"/><path class=\"point\" transform=\"translate(62.89,61.39)\" d=\"M0,1.13l1.13,1.13l1.13,-1.13l-1.13,-1.13l1.13,-1.13l-1.13,-1.13l-1.13,1.13l-1.13,-1.13l-1.13,1.13l1.13,1.13l-1.13,1.13l1.13,1.13Z\" style=\"opacity: 1; stroke-width: 0px; fill: rgb(0, 0, 255); fill-opacity: 1;\"/><path class=\"point\" transform=\"translate(65.68,60.07)\" d=\"M0,1.13l1.13,1.13l1.13,-1.13l-1.13,-1.13l1.13,-1.13l-1.13,-1.13l-1.13,1.13l-1.13,-1.13l-1.13,1.13l1.13,1.13l-1.13,1.13l1.13,1.13Z\" style=\"opacity: 1; stroke-width: 0px; fill: rgb(0, 0, 255); fill-opacity: 1;\"/><path class=\"point\" transform=\"translate(68.48,54.08)\" d=\"M0,1.13l1.13,1.13l1.13,-1.13l-1.13,-1.13l1.13,-1.13l-1.13,-1.13l-1.13,1.13l-1.13,-1.13l-1.13,1.13l1.13,1.13l-1.13,1.13l1.13,1.13Z\" style=\"opacity: 1; stroke-width: 0px; fill: rgb(0, 0, 255); fill-opacity: 1;\"/><path class=\"point\" transform=\"translate(71.28,53.12)\" d=\"M0,1.13l1.13,1.13l1.13,-1.13l-1.13,-1.13l1.13,-1.13l-1.13,-1.13l-1.13,1.13l-1.13,-1.13l-1.13,1.13l1.13,1.13l-1.13,1.13l1.13,1.13Z\" style=\"opacity: 1; stroke-width: 0px; fill: rgb(0, 0, 255); fill-opacity: 1;\"/><path class=\"point\" transform=\"translate(74.08,66.36)\" d=\"M0,1.13l1.13,1.13l1.13,-1.13l-1.13,-1.13l1.13,-1.13l-1.13,-1.13l-1.13,1.13l-1.13,-1.13l-1.13,1.13l1.13,1.13l-1.13,1.13l1.13,1.13Z\" style=\"opacity: 1; stroke-width: 0px; fill: rgb(0, 0, 255); fill-opacity: 1;\"/><path class=\"point\" transform=\"translate(76.88,88.36)\" d=\"M0,1.13l1.13,1.13l1.13,-1.13l-1.13,-1.13l1.13,-1.13l-1.13,-1.13l-1.13,1.13l-1.13,-1.13l-1.13,1.13l1.13,1.13l-1.13,1.13l1.13,1.13Z\" style=\"opacity: 1; stroke-width: 0px; fill: rgb(0, 0, 255); fill-opacity: 1;\"/><path class=\"point\" transform=\"translate(79.68,109.15)\" d=\"M0,1.13l1.13,1.13l1.13,-1.13l-1.13,-1.13l1.13,-1.13l-1.13,-1.13l-1.13,1.13l-1.13,-1.13l-1.13,1.13l1.13,1.13l-1.13,1.13l1.13,1.13Z\" style=\"opacity: 1; stroke-width: 0px; fill: rgb(0, 0, 255); fill-opacity: 1;\"/><path class=\"point\" transform=\"translate(82.48,124.95)\" d=\"M0,1.13l1.13,1.13l1.13,-1.13l-1.13,-1.13l1.13,-1.13l-1.13,-1.13l-1.13,1.13l-1.13,-1.13l-1.13,1.13l1.13,1.13l-1.13,1.13l1.13,1.13Z\" style=\"opacity: 1; stroke-width: 0px; fill: rgb(0, 0, 255); fill-opacity: 1;\"/><path class=\"point\" transform=\"translate(85.28,136.64)\" d=\"M0,1.13l1.13,1.13l1.13,-1.13l-1.13,-1.13l1.13,-1.13l-1.13,-1.13l-1.13,1.13l-1.13,-1.13l-1.13,1.13l1.13,1.13l-1.13,1.13l1.13,1.13Z\" style=\"opacity: 1; stroke-width: 0px; fill: rgb(0, 0, 255); fill-opacity: 1;\"/><path class=\"point\" transform=\"translate(88.07,145.43)\" d=\"M0,1.13l1.13,1.13l1.13,-1.13l-1.13,-1.13l1.13,-1.13l-1.13,-1.13l-1.13,1.13l-1.13,-1.13l-1.13,1.13l1.13,1.13l-1.13,1.13l1.13,1.13Z\" style=\"opacity: 1; stroke-width: 0px; fill: rgb(0, 0, 255); fill-opacity: 1;\"/><path class=\"point\" transform=\"translate(90.87,150.02)\" d=\"M0,1.13l1.13,1.13l1.13,-1.13l-1.13,-1.13l1.13,-1.13l-1.13,-1.13l-1.13,1.13l-1.13,-1.13l-1.13,1.13l1.13,1.13l-1.13,1.13l1.13,1.13Z\" style=\"opacity: 1; stroke-width: 0px; fill: rgb(0, 0, 255); fill-opacity: 1;\"/><path class=\"point\" transform=\"translate(93.67,151.48)\" d=\"M0,1.13l1.13,1.13l1.13,-1.13l-1.13,-1.13l1.13,-1.13l-1.13,-1.13l-1.13,1.13l-1.13,-1.13l-1.13,1.13l1.13,1.13l-1.13,1.13l1.13,1.13Z\" style=\"opacity: 1; stroke-width: 0px; fill: rgb(0, 0, 255); fill-opacity: 1;\"/><path class=\"point\" transform=\"translate(96.47,151.42)\" d=\"M0,1.13l1.13,1.13l1.13,-1.13l-1.13,-1.13l1.13,-1.13l-1.13,-1.13l-1.13,1.13l-1.13,-1.13l-1.13,1.13l1.13,1.13l-1.13,1.13l1.13,1.13Z\" style=\"opacity: 1; stroke-width: 0px; fill: rgb(0, 0, 255); fill-opacity: 1;\"/><path class=\"point\" transform=\"translate(99.27,151.16)\" d=\"M0,1.13l1.13,1.13l1.13,-1.13l-1.13,-1.13l1.13,-1.13l-1.13,-1.13l-1.13,1.13l-1.13,-1.13l-1.13,1.13l1.13,1.13l-1.13,1.13l1.13,1.13Z\" style=\"opacity: 1; stroke-width: 0px; fill: rgb(0, 0, 255); fill-opacity: 1;\"/><path class=\"point\" transform=\"translate(102.07,150.14)\" d=\"M0,1.13l1.13,1.13l1.13,-1.13l-1.13,-1.13l1.13,-1.13l-1.13,-1.13l-1.13,1.13l-1.13,-1.13l-1.13,1.13l1.13,1.13l-1.13,1.13l1.13,1.13Z\" style=\"opacity: 1; stroke-width: 0px; fill: rgb(0, 0, 255); fill-opacity: 1;\"/><path class=\"point\" transform=\"translate(104.87,143.46)\" d=\"M0,1.13l1.13,1.13l1.13,-1.13l-1.13,-1.13l1.13,-1.13l-1.13,-1.13l-1.13,1.13l-1.13,-1.13l-1.13,1.13l1.13,1.13l-1.13,1.13l1.13,1.13Z\" style=\"opacity: 1; stroke-width: 0px; fill: rgb(0, 0, 255); fill-opacity: 1;\"/><path class=\"point\" transform=\"translate(107.67,126.14)\" d=\"M0,1.13l1.13,1.13l1.13,-1.13l-1.13,-1.13l1.13,-1.13l-1.13,-1.13l-1.13,1.13l-1.13,-1.13l-1.13,1.13l1.13,1.13l-1.13,1.13l1.13,1.13Z\" style=\"opacity: 1; stroke-width: 0px; fill: rgb(0, 0, 255); fill-opacity: 1;\"/><path class=\"point\" transform=\"translate(110.47,98.18)\" d=\"M0,1.13l1.13,1.13l1.13,-1.13l-1.13,-1.13l1.13,-1.13l-1.13,-1.13l-1.13,1.13l-1.13,-1.13l-1.13,1.13l1.13,1.13l-1.13,1.13l1.13,1.13Z\" style=\"opacity: 1; stroke-width: 0px; fill: rgb(0, 0, 255); fill-opacity: 1;\"/><path class=\"point\" transform=\"translate(113.26,69.31)\" d=\"M0,1.13l1.13,1.13l1.13,-1.13l-1.13,-1.13l1.13,-1.13l-1.13,-1.13l-1.13,1.13l-1.13,-1.13l-1.13,1.13l1.13,1.13l-1.13,1.13l1.13,1.13Z\" style=\"opacity: 1; stroke-width: 0px; fill: rgb(0, 0, 255); fill-opacity: 1;\"/><path class=\"point\" transform=\"translate(116.06,51.81)\" d=\"M0,1.13l1.13,1.13l1.13,-1.13l-1.13,-1.13l1.13,-1.13l-1.13,-1.13l-1.13,1.13l-1.13,-1.13l-1.13,1.13l1.13,1.13l-1.13,1.13l1.13,1.13Z\" style=\"opacity: 1; stroke-width: 0px; fill: rgb(0, 0, 255); fill-opacity: 1;\"/><path class=\"point\" transform=\"translate(118.86,47.76)\" d=\"M0,1.13l1.13,1.13l1.13,-1.13l-1.13,-1.13l1.13,-1.13l-1.13,-1.13l-1.13,1.13l-1.13,-1.13l-1.13,1.13l1.13,1.13l-1.13,1.13l1.13,1.13Z\" style=\"opacity: 1; stroke-width: 0px; fill: rgb(0, 0, 255); fill-opacity: 1;\"/><path class=\"point\" transform=\"translate(121.66,48.2)\" d=\"M0,1.13l1.13,1.13l1.13,-1.13l-1.13,-1.13l1.13,-1.13l-1.13,-1.13l-1.13,1.13l-1.13,-1.13l-1.13,1.13l1.13,1.13l-1.13,1.13l1.13,1.13Z\" style=\"opacity: 1; stroke-width: 0px; fill: rgb(0, 0, 255); fill-opacity: 1;\"/><path class=\"point\" transform=\"translate(124.46,49.12)\" d=\"M0,1.13l1.13,1.13l1.13,-1.13l-1.13,-1.13l1.13,-1.13l-1.13,-1.13l-1.13,1.13l-1.13,-1.13l-1.13,1.13l1.13,1.13l-1.13,1.13l1.13,1.13Z\" style=\"opacity: 1; stroke-width: 0px; fill: rgb(0, 0, 255); fill-opacity: 1;\"/><path class=\"point\" transform=\"translate(127.26,52.11)\" d=\"M0,1.13l1.13,1.13l1.13,-1.13l-1.13,-1.13l1.13,-1.13l-1.13,-1.13l-1.13,1.13l-1.13,-1.13l-1.13,1.13l1.13,1.13l-1.13,1.13l1.13,1.13Z\" style=\"opacity: 1; stroke-width: 0px; fill: rgb(0, 0, 255); fill-opacity: 1;\"/><path class=\"point\" transform=\"translate(130.06,56.97)\" d=\"M0,1.13l1.13,1.13l1.13,-1.13l-1.13,-1.13l1.13,-1.13l-1.13,-1.13l-1.13,1.13l-1.13,-1.13l-1.13,1.13l1.13,1.13l-1.13,1.13l1.13,1.13Z\" style=\"opacity: 1; stroke-width: 0px; fill: rgb(0, 0, 255); fill-opacity: 1;\"/><path class=\"point\" transform=\"translate(132.86,56.84)\" d=\"M0,1.13l1.13,1.13l1.13,-1.13l-1.13,-1.13l1.13,-1.13l-1.13,-1.13l-1.13,1.13l-1.13,-1.13l-1.13,1.13l1.13,1.13l-1.13,1.13l1.13,1.13Z\" style=\"opacity: 1; stroke-width: 0px; fill: rgb(0, 0, 255); fill-opacity: 1;\"/><path class=\"point\" transform=\"translate(135.65,52.73)\" d=\"M0,1.13l1.13,1.13l1.13,-1.13l-1.13,-1.13l1.13,-1.13l-1.13,-1.13l-1.13,1.13l-1.13,-1.13l-1.13,1.13l1.13,1.13l-1.13,1.13l1.13,1.13Z\" style=\"opacity: 1; stroke-width: 0px; fill: rgb(0, 0, 255); fill-opacity: 1;\"/><path class=\"point\" transform=\"translate(138.45,53.28)\" d=\"M0,1.13l1.13,1.13l1.13,-1.13l-1.13,-1.13l1.13,-1.13l-1.13,-1.13l-1.13,1.13l-1.13,-1.13l-1.13,1.13l1.13,1.13l-1.13,1.13l1.13,1.13Z\" style=\"opacity: 1; stroke-width: 0px; fill: rgb(0, 0, 255); fill-opacity: 1;\"/><path class=\"point\" transform=\"translate(141.25,67.75)\" d=\"M0,1.13l1.13,1.13l1.13,-1.13l-1.13,-1.13l1.13,-1.13l-1.13,-1.13l-1.13,1.13l-1.13,-1.13l-1.13,1.13l1.13,1.13l-1.13,1.13l1.13,1.13Z\" style=\"opacity: 1; stroke-width: 0px; fill: rgb(0, 0, 255); fill-opacity: 1;\"/><path class=\"point\" transform=\"translate(144.05,90.77)\" d=\"M0,1.13l1.13,1.13l1.13,-1.13l-1.13,-1.13l1.13,-1.13l-1.13,-1.13l-1.13,1.13l-1.13,-1.13l-1.13,1.13l1.13,1.13l-1.13,1.13l1.13,1.13Z\" style=\"opacity: 1; stroke-width: 0px; fill: rgb(0, 0, 255); fill-opacity: 1;\"/><path class=\"point\" transform=\"translate(146.85,112.49)\" d=\"M0,1.13l1.13,1.13l1.13,-1.13l-1.13,-1.13l1.13,-1.13l-1.13,-1.13l-1.13,1.13l-1.13,-1.13l-1.13,1.13l1.13,1.13l-1.13,1.13l1.13,1.13Z\" style=\"opacity: 1; stroke-width: 0px; fill: rgb(0, 0, 255); fill-opacity: 1;\"/><path class=\"point\" transform=\"translate(149.65,129.81)\" d=\"M0,1.13l1.13,1.13l1.13,-1.13l-1.13,-1.13l1.13,-1.13l-1.13,-1.13l-1.13,1.13l-1.13,-1.13l-1.13,1.13l1.13,1.13l-1.13,1.13l1.13,1.13Z\" style=\"opacity: 1; stroke-width: 0px; fill: rgb(0, 0, 255); fill-opacity: 1;\"/><path class=\"point\" transform=\"translate(152.45,141.91)\" d=\"M0,1.13l1.13,1.13l1.13,-1.13l-1.13,-1.13l1.13,-1.13l-1.13,-1.13l-1.13,1.13l-1.13,-1.13l-1.13,1.13l1.13,1.13l-1.13,1.13l1.13,1.13Z\" style=\"opacity: 1; stroke-width: 0px; fill: rgb(0, 0, 255); fill-opacity: 1;\"/><path class=\"point\" transform=\"translate(155.25,150.74)\" d=\"M0,1.13l1.13,1.13l1.13,-1.13l-1.13,-1.13l1.13,-1.13l-1.13,-1.13l-1.13,1.13l-1.13,-1.13l-1.13,1.13l1.13,1.13l-1.13,1.13l1.13,1.13Z\" style=\"opacity: 1; stroke-width: 0px; fill: rgb(0, 0, 255); fill-opacity: 1;\"/><path class=\"point\" transform=\"translate(158.04,155.57)\" d=\"M0,1.13l1.13,1.13l1.13,-1.13l-1.13,-1.13l1.13,-1.13l-1.13,-1.13l-1.13,1.13l-1.13,-1.13l-1.13,1.13l1.13,1.13l-1.13,1.13l1.13,1.13Z\" style=\"opacity: 1; stroke-width: 0px; fill: rgb(0, 0, 255); fill-opacity: 1;\"/><path class=\"point\" transform=\"translate(160.84,157.16)\" d=\"M0,1.13l1.13,1.13l1.13,-1.13l-1.13,-1.13l1.13,-1.13l-1.13,-1.13l-1.13,1.13l-1.13,-1.13l-1.13,1.13l1.13,1.13l-1.13,1.13l1.13,1.13Z\" style=\"opacity: 1; stroke-width: 0px; fill: rgb(0, 0, 255); fill-opacity: 1;\"/><path class=\"point\" transform=\"translate(163.64,157.03)\" d=\"M0,1.13l1.13,1.13l1.13,-1.13l-1.13,-1.13l1.13,-1.13l-1.13,-1.13l-1.13,1.13l-1.13,-1.13l-1.13,1.13l1.13,1.13l-1.13,1.13l1.13,1.13Z\" style=\"opacity: 1; stroke-width: 0px; fill: rgb(0, 0, 255); fill-opacity: 1;\"/><path class=\"point\" transform=\"translate(166.44,156.73)\" d=\"M0,1.13l1.13,1.13l1.13,-1.13l-1.13,-1.13l1.13,-1.13l-1.13,-1.13l-1.13,1.13l-1.13,-1.13l-1.13,1.13l1.13,1.13l-1.13,1.13l1.13,1.13Z\" style=\"opacity: 1; stroke-width: 0px; fill: rgb(0, 0, 255); fill-opacity: 1;\"/><path class=\"point\" transform=\"translate(169.24,155.21)\" d=\"M0,1.13l1.13,1.13l1.13,-1.13l-1.13,-1.13l1.13,-1.13l-1.13,-1.13l-1.13,1.13l-1.13,-1.13l-1.13,1.13l1.13,1.13l-1.13,1.13l1.13,1.13Z\" style=\"opacity: 1; stroke-width: 0px; fill: rgb(0, 0, 255); fill-opacity: 1;\"/><path class=\"point\" transform=\"translate(172.04,148.86)\" d=\"M0,1.13l1.13,1.13l1.13,-1.13l-1.13,-1.13l1.13,-1.13l-1.13,-1.13l-1.13,1.13l-1.13,-1.13l-1.13,1.13l1.13,1.13l-1.13,1.13l1.13,1.13Z\" style=\"opacity: 1; stroke-width: 0px; fill: rgb(0, 0, 255); fill-opacity: 1;\"/><path class=\"point\" transform=\"translate(174.84,130.85)\" d=\"M0,1.13l1.13,1.13l1.13,-1.13l-1.13,-1.13l1.13,-1.13l-1.13,-1.13l-1.13,1.13l-1.13,-1.13l-1.13,1.13l1.13,1.13l-1.13,1.13l1.13,1.13Z\" style=\"opacity: 1; stroke-width: 0px; fill: rgb(0, 0, 255); fill-opacity: 1;\"/><path class=\"point\" transform=\"translate(177.64,102.48)\" d=\"M0,1.13l1.13,1.13l1.13,-1.13l-1.13,-1.13l1.13,-1.13l-1.13,-1.13l-1.13,1.13l-1.13,-1.13l-1.13,1.13l1.13,1.13l-1.13,1.13l1.13,1.13Z\" style=\"opacity: 1; stroke-width: 0px; fill: rgb(0, 0, 255); fill-opacity: 1;\"/><path class=\"point\" transform=\"translate(180.44,73.14)\" d=\"M0,1.13l1.13,1.13l1.13,-1.13l-1.13,-1.13l1.13,-1.13l-1.13,-1.13l-1.13,1.13l-1.13,-1.13l-1.13,1.13l1.13,1.13l-1.13,1.13l1.13,1.13Z\" style=\"opacity: 1; stroke-width: 0px; fill: rgb(0, 0, 255); fill-opacity: 1;\"/><path class=\"point\" transform=\"translate(183.23,54.43)\" d=\"M0,1.13l1.13,1.13l1.13,-1.13l-1.13,-1.13l1.13,-1.13l-1.13,-1.13l-1.13,1.13l-1.13,-1.13l-1.13,1.13l1.13,1.13l-1.13,1.13l1.13,1.13Z\" style=\"opacity: 1; stroke-width: 0px; fill: rgb(0, 0, 255); fill-opacity: 1;\"/><path class=\"point\" transform=\"translate(186.03,49.98)\" d=\"M0,1.13l1.13,1.13l1.13,-1.13l-1.13,-1.13l1.13,-1.13l-1.13,-1.13l-1.13,1.13l-1.13,-1.13l-1.13,1.13l1.13,1.13l-1.13,1.13l1.13,1.13Z\" style=\"opacity: 1; stroke-width: 0px; fill: rgb(0, 0, 255); fill-opacity: 1;\"/><path class=\"point\" transform=\"translate(188.83,49.99)\" d=\"M0,1.13l1.13,1.13l1.13,-1.13l-1.13,-1.13l1.13,-1.13l-1.13,-1.13l-1.13,1.13l-1.13,-1.13l-1.13,1.13l1.13,1.13l-1.13,1.13l1.13,1.13Z\" style=\"opacity: 1; stroke-width: 0px; fill: rgb(0, 0, 255); fill-opacity: 1;\"/><path class=\"point\" transform=\"translate(191.63,50.22)\" d=\"M0,1.13l1.13,1.13l1.13,-1.13l-1.13,-1.13l1.13,-1.13l-1.13,-1.13l-1.13,1.13l-1.13,-1.13l-1.13,1.13l1.13,1.13l-1.13,1.13l1.13,1.13Z\" style=\"opacity: 1; stroke-width: 0px; fill: rgb(0, 0, 255); fill-opacity: 1;\"/><path class=\"point\" transform=\"translate(194.43,52.73)\" d=\"M0,1.13l1.13,1.13l1.13,-1.13l-1.13,-1.13l1.13,-1.13l-1.13,-1.13l-1.13,1.13l-1.13,-1.13l-1.13,1.13l1.13,1.13l-1.13,1.13l1.13,1.13Z\" style=\"opacity: 1; stroke-width: 0px; fill: rgb(0, 0, 255); fill-opacity: 1;\"/><path class=\"point\" transform=\"translate(197.23,56.86)\" d=\"M0,1.13l1.13,1.13l1.13,-1.13l-1.13,-1.13l1.13,-1.13l-1.13,-1.13l-1.13,1.13l-1.13,-1.13l-1.13,1.13l1.13,1.13l-1.13,1.13l1.13,1.13Z\" style=\"opacity: 1; stroke-width: 0px; fill: rgb(0, 0, 255); fill-opacity: 1;\"/><path class=\"point\" transform=\"translate(200.03,56.51)\" d=\"M0,1.13l1.13,1.13l1.13,-1.13l-1.13,-1.13l1.13,-1.13l-1.13,-1.13l-1.13,1.13l-1.13,-1.13l-1.13,1.13l1.13,1.13l-1.13,1.13l1.13,1.13Z\" style=\"opacity: 1; stroke-width: 0px; fill: rgb(0, 0, 255); fill-opacity: 1;\"/><path class=\"point\" transform=\"translate(202.83,51.71)\" d=\"M0,1.13l1.13,1.13l1.13,-1.13l-1.13,-1.13l1.13,-1.13l-1.13,-1.13l-1.13,1.13l-1.13,-1.13l-1.13,1.13l1.13,1.13l-1.13,1.13l1.13,1.13Z\" style=\"opacity: 1; stroke-width: 0px; fill: rgb(0, 0, 255); fill-opacity: 1;\"/><path class=\"point\" transform=\"translate(205.62,51.98)\" d=\"M0,1.13l1.13,1.13l1.13,-1.13l-1.13,-1.13l1.13,-1.13l-1.13,-1.13l-1.13,1.13l-1.13,-1.13l-1.13,1.13l1.13,1.13l-1.13,1.13l1.13,1.13Z\" style=\"opacity: 1; stroke-width: 0px; fill: rgb(0, 0, 255); fill-opacity: 1;\"/><path class=\"point\" transform=\"translate(208.42,65.75)\" d=\"M0,1.13l1.13,1.13l1.13,-1.13l-1.13,-1.13l1.13,-1.13l-1.13,-1.13l-1.13,1.13l-1.13,-1.13l-1.13,1.13l1.13,1.13l-1.13,1.13l1.13,1.13Z\" style=\"opacity: 1; stroke-width: 0px; fill: rgb(0, 0, 255); fill-opacity: 1;\"/><path class=\"point\" transform=\"translate(211.22,88.27)\" d=\"M0,1.13l1.13,1.13l1.13,-1.13l-1.13,-1.13l1.13,-1.13l-1.13,-1.13l-1.13,1.13l-1.13,-1.13l-1.13,1.13l1.13,1.13l-1.13,1.13l1.13,1.13Z\" style=\"opacity: 1; stroke-width: 0px; fill: rgb(0, 0, 255); fill-opacity: 1;\"/><path class=\"point\" transform=\"translate(214.02,110.04)\" d=\"M0,1.13l1.13,1.13l1.13,-1.13l-1.13,-1.13l1.13,-1.13l-1.13,-1.13l-1.13,1.13l-1.13,-1.13l-1.13,1.13l1.13,1.13l-1.13,1.13l1.13,1.13Z\" style=\"opacity: 1; stroke-width: 0px; fill: rgb(0, 0, 255); fill-opacity: 1;\"/><path class=\"point\" transform=\"translate(216.82,126.03)\" d=\"M0,1.13l1.13,1.13l1.13,-1.13l-1.13,-1.13l1.13,-1.13l-1.13,-1.13l-1.13,1.13l-1.13,-1.13l-1.13,1.13l1.13,1.13l-1.13,1.13l1.13,1.13Z\" style=\"opacity: 1; stroke-width: 0px; fill: rgb(0, 0, 255); fill-opacity: 1;\"/><path class=\"point\" transform=\"translate(219.62,138.88)\" d=\"M0,1.13l1.13,1.13l1.13,-1.13l-1.13,-1.13l1.13,-1.13l-1.13,-1.13l-1.13,1.13l-1.13,-1.13l-1.13,1.13l1.13,1.13l-1.13,1.13l1.13,1.13Z\" style=\"opacity: 1; stroke-width: 0px; fill: rgb(0, 0, 255); fill-opacity: 1;\"/><path class=\"point\" transform=\"translate(222.42,147.78)\" d=\"M0,1.13l1.13,1.13l1.13,-1.13l-1.13,-1.13l1.13,-1.13l-1.13,-1.13l-1.13,1.13l-1.13,-1.13l-1.13,1.13l1.13,1.13l-1.13,1.13l1.13,1.13Z\" style=\"opacity: 1; stroke-width: 0px; fill: rgb(0, 0, 255); fill-opacity: 1;\"/><path class=\"point\" transform=\"translate(225.22,152.51)\" d=\"M0,1.13l1.13,1.13l1.13,-1.13l-1.13,-1.13l1.13,-1.13l-1.13,-1.13l-1.13,1.13l-1.13,-1.13l-1.13,1.13l1.13,1.13l-1.13,1.13l1.13,1.13Z\" style=\"opacity: 1; stroke-width: 0px; fill: rgb(0, 0, 255); fill-opacity: 1;\"/><path class=\"point\" transform=\"translate(228.01,154.19)\" d=\"M0,1.13l1.13,1.13l1.13,-1.13l-1.13,-1.13l1.13,-1.13l-1.13,-1.13l-1.13,1.13l-1.13,-1.13l-1.13,1.13l1.13,1.13l-1.13,1.13l1.13,1.13Z\" style=\"opacity: 1; stroke-width: 0px; fill: rgb(0, 0, 255); fill-opacity: 1;\"/><path class=\"point\" transform=\"translate(230.81,154.09)\" d=\"M0,1.13l1.13,1.13l1.13,-1.13l-1.13,-1.13l1.13,-1.13l-1.13,-1.13l-1.13,1.13l-1.13,-1.13l-1.13,1.13l1.13,1.13l-1.13,1.13l1.13,1.13Z\" style=\"opacity: 1; stroke-width: 0px; fill: rgb(0, 0, 255); fill-opacity: 1;\"/><path class=\"point\" transform=\"translate(233.61,154.07)\" d=\"M0,1.13l1.13,1.13l1.13,-1.13l-1.13,-1.13l1.13,-1.13l-1.13,-1.13l-1.13,1.13l-1.13,-1.13l-1.13,1.13l1.13,1.13l-1.13,1.13l1.13,1.13Z\" style=\"opacity: 1; stroke-width: 0px; fill: rgb(0, 0, 255); fill-opacity: 1;\"/><path class=\"point\" transform=\"translate(236.41,152.86)\" d=\"M0,1.13l1.13,1.13l1.13,-1.13l-1.13,-1.13l1.13,-1.13l-1.13,-1.13l-1.13,1.13l-1.13,-1.13l-1.13,1.13l1.13,1.13l-1.13,1.13l1.13,1.13Z\" style=\"opacity: 1; stroke-width: 0px; fill: rgb(0, 0, 255); fill-opacity: 1;\"/><path class=\"point\" transform=\"translate(239.21,146.44)\" d=\"M0,1.13l1.13,1.13l1.13,-1.13l-1.13,-1.13l1.13,-1.13l-1.13,-1.13l-1.13,1.13l-1.13,-1.13l-1.13,1.13l1.13,1.13l-1.13,1.13l1.13,1.13Z\" style=\"opacity: 1; stroke-width: 0px; fill: rgb(0, 0, 255); fill-opacity: 1;\"/><path class=\"point\" transform=\"translate(242.01,129.07)\" d=\"M0,1.13l1.13,1.13l1.13,-1.13l-1.13,-1.13l1.13,-1.13l-1.13,-1.13l-1.13,1.13l-1.13,-1.13l-1.13,1.13l1.13,1.13l-1.13,1.13l1.13,1.13Z\" style=\"opacity: 1; stroke-width: 0px; fill: rgb(0, 0, 255); fill-opacity: 1;\"/><path class=\"point\" transform=\"translate(244.81,100.66)\" d=\"M0,1.13l1.13,1.13l1.13,-1.13l-1.13,-1.13l1.13,-1.13l-1.13,-1.13l-1.13,1.13l-1.13,-1.13l-1.13,1.13l1.13,1.13l-1.13,1.13l1.13,1.13Z\" style=\"opacity: 1; stroke-width: 0px; fill: rgb(0, 0, 255); fill-opacity: 1;\"/><path class=\"point\" transform=\"translate(247.61,72.03)\" d=\"M0,1.13l1.13,1.13l1.13,-1.13l-1.13,-1.13l1.13,-1.13l-1.13,-1.13l-1.13,1.13l-1.13,-1.13l-1.13,1.13l1.13,1.13l-1.13,1.13l1.13,1.13Z\" style=\"opacity: 1; stroke-width: 0px; fill: rgb(0, 0, 255); fill-opacity: 1;\"/><path class=\"point\" transform=\"translate(250.41,53.68)\" d=\"M0,1.13l1.13,1.13l1.13,-1.13l-1.13,-1.13l1.13,-1.13l-1.13,-1.13l-1.13,1.13l-1.13,-1.13l-1.13,1.13l1.13,1.13l-1.13,1.13l1.13,1.13Z\" style=\"opacity: 1; stroke-width: 0px; fill: rgb(0, 0, 255); fill-opacity: 1;\"/><path class=\"point\" transform=\"translate(253.2,49.4)\" d=\"M0,1.13l1.13,1.13l1.13,-1.13l-1.13,-1.13l1.13,-1.13l-1.13,-1.13l-1.13,1.13l-1.13,-1.13l-1.13,1.13l1.13,1.13l-1.13,1.13l1.13,1.13Z\" style=\"opacity: 1; stroke-width: 0px; fill: rgb(0, 0, 255); fill-opacity: 1;\"/><path class=\"point\" transform=\"translate(256,49.98)\" d=\"M0,1.13l1.13,1.13l1.13,-1.13l-1.13,-1.13l1.13,-1.13l-1.13,-1.13l-1.13,1.13l-1.13,-1.13l-1.13,1.13l1.13,1.13l-1.13,1.13l1.13,1.13Z\" style=\"opacity: 1; stroke-width: 0px; fill: rgb(0, 0, 255); fill-opacity: 1;\"/><path class=\"point\" transform=\"translate(258.8,50.23)\" d=\"M0,1.13l1.13,1.13l1.13,-1.13l-1.13,-1.13l1.13,-1.13l-1.13,-1.13l-1.13,1.13l-1.13,-1.13l-1.13,1.13l1.13,1.13l-1.13,1.13l1.13,1.13Z\" style=\"opacity: 1; stroke-width: 0px; fill: rgb(0, 0, 255); fill-opacity: 1;\"/><path class=\"point\" transform=\"translate(261.6,53.06)\" d=\"M0,1.13l1.13,1.13l1.13,-1.13l-1.13,-1.13l1.13,-1.13l-1.13,-1.13l-1.13,1.13l-1.13,-1.13l-1.13,1.13l1.13,1.13l-1.13,1.13l1.13,1.13Z\" style=\"opacity: 1; stroke-width: 0px; fill: rgb(0, 0, 255); fill-opacity: 1;\"/><path class=\"point\" transform=\"translate(264.4,57.62)\" d=\"M0,1.13l1.13,1.13l1.13,-1.13l-1.13,-1.13l1.13,-1.13l-1.13,-1.13l-1.13,1.13l-1.13,-1.13l-1.13,1.13l1.13,1.13l-1.13,1.13l1.13,1.13Z\" style=\"opacity: 1; stroke-width: 0px; fill: rgb(0, 0, 255); fill-opacity: 1;\"/><path class=\"point\" transform=\"translate(267.2,57.49)\" d=\"M0,1.13l1.13,1.13l1.13,-1.13l-1.13,-1.13l1.13,-1.13l-1.13,-1.13l-1.13,1.13l-1.13,-1.13l-1.13,1.13l1.13,1.13l-1.13,1.13l1.13,1.13Z\" style=\"opacity: 1; stroke-width: 0px; fill: rgb(0, 0, 255); fill-opacity: 1;\"/><path class=\"point\" transform=\"translate(270,52.82)\" d=\"M0,1.13l1.13,1.13l1.13,-1.13l-1.13,-1.13l1.13,-1.13l-1.13,-1.13l-1.13,1.13l-1.13,-1.13l-1.13,1.13l1.13,1.13l-1.13,1.13l1.13,1.13Z\" style=\"opacity: 1; stroke-width: 0px; fill: rgb(0, 0, 255); fill-opacity: 1;\"/><path class=\"point\" transform=\"translate(272.8,53.22)\" d=\"M0,1.13l1.13,1.13l1.13,-1.13l-1.13,-1.13l1.13,-1.13l-1.13,-1.13l-1.13,1.13l-1.13,-1.13l-1.13,1.13l1.13,1.13l-1.13,1.13l1.13,1.13Z\" style=\"opacity: 1; stroke-width: 0px; fill: rgb(0, 0, 255); fill-opacity: 1;\"/><path class=\"point\" transform=\"translate(275.59,67.33)\" d=\"M0,1.13l1.13,1.13l1.13,-1.13l-1.13,-1.13l1.13,-1.13l-1.13,-1.13l-1.13,1.13l-1.13,-1.13l-1.13,1.13l1.13,1.13l-1.13,1.13l1.13,1.13Z\" style=\"opacity: 1; stroke-width: 0px; fill: rgb(0, 0, 255); fill-opacity: 1;\"/><path class=\"point\" transform=\"translate(278.39,90.09)\" d=\"M0,1.13l1.13,1.13l1.13,-1.13l-1.13,-1.13l1.13,-1.13l-1.13,-1.13l-1.13,1.13l-1.13,-1.13l-1.13,1.13l1.13,1.13l-1.13,1.13l1.13,1.13Z\" style=\"opacity: 1; stroke-width: 0px; fill: rgb(0, 0, 255); fill-opacity: 1;\"/><path class=\"point\" transform=\"translate(281.19,111.48)\" d=\"M0,1.13l1.13,1.13l1.13,-1.13l-1.13,-1.13l1.13,-1.13l-1.13,-1.13l-1.13,1.13l-1.13,-1.13l-1.13,1.13l1.13,1.13l-1.13,1.13l1.13,1.13Z\" style=\"opacity: 1; stroke-width: 0px; fill: rgb(0, 0, 255); fill-opacity: 1;\"/><path class=\"point\" transform=\"translate(283.99,128.52)\" d=\"M0,1.13l1.13,1.13l1.13,-1.13l-1.13,-1.13l1.13,-1.13l-1.13,-1.13l-1.13,1.13l-1.13,-1.13l-1.13,1.13l1.13,1.13l-1.13,1.13l1.13,1.13Z\" style=\"opacity: 1; stroke-width: 0px; fill: rgb(0, 0, 255); fill-opacity: 1;\"/><path class=\"point\" transform=\"translate(286.79,140.17)\" d=\"M0,1.13l1.13,1.13l1.13,-1.13l-1.13,-1.13l1.13,-1.13l-1.13,-1.13l-1.13,1.13l-1.13,-1.13l-1.13,1.13l1.13,1.13l-1.13,1.13l1.13,1.13Z\" style=\"opacity: 1; stroke-width: 0px; fill: rgb(0, 0, 255); fill-opacity: 1;\"/><path class=\"point\" transform=\"translate(289.59,149.49)\" d=\"M0,1.13l1.13,1.13l1.13,-1.13l-1.13,-1.13l1.13,-1.13l-1.13,-1.13l-1.13,1.13l-1.13,-1.13l-1.13,1.13l1.13,1.13l-1.13,1.13l1.13,1.13Z\" style=\"opacity: 1; stroke-width: 0px; fill: rgb(0, 0, 255); fill-opacity: 1;\"/><path class=\"point\" transform=\"translate(292.39,154.13)\" d=\"M0,1.13l1.13,1.13l1.13,-1.13l-1.13,-1.13l1.13,-1.13l-1.13,-1.13l-1.13,1.13l-1.13,-1.13l-1.13,1.13l1.13,1.13l-1.13,1.13l1.13,1.13Z\" style=\"opacity: 1; stroke-width: 0px; fill: rgb(0, 0, 255); fill-opacity: 1;\"/><path class=\"point\" transform=\"translate(295.19,155.4)\" d=\"M0,1.13l1.13,1.13l1.13,-1.13l-1.13,-1.13l1.13,-1.13l-1.13,-1.13l-1.13,1.13l-1.13,-1.13l-1.13,1.13l1.13,1.13l-1.13,1.13l1.13,1.13Z\" style=\"opacity: 1; stroke-width: 0px; fill: rgb(0, 0, 255); fill-opacity: 1;\"/><path class=\"point\" transform=\"translate(297.99,155.35)\" d=\"M0,1.13l1.13,1.13l1.13,-1.13l-1.13,-1.13l1.13,-1.13l-1.13,-1.13l-1.13,1.13l-1.13,-1.13l-1.13,1.13l1.13,1.13l-1.13,1.13l1.13,1.13Z\" style=\"opacity: 1; stroke-width: 0px; fill: rgb(0, 0, 255); fill-opacity: 1;\"/><path class=\"point\" transform=\"translate(300.78,154.63)\" d=\"M0,1.13l1.13,1.13l1.13,-1.13l-1.13,-1.13l1.13,-1.13l-1.13,-1.13l-1.13,1.13l-1.13,-1.13l-1.13,1.13l1.13,1.13l-1.13,1.13l1.13,1.13Z\" style=\"opacity: 1; stroke-width: 0px; fill: rgb(0, 0, 255); fill-opacity: 1;\"/><path class=\"point\" transform=\"translate(303.58,153.4)\" d=\"M0,1.13l1.13,1.13l1.13,-1.13l-1.13,-1.13l1.13,-1.13l-1.13,-1.13l-1.13,1.13l-1.13,-1.13l-1.13,1.13l1.13,1.13l-1.13,1.13l1.13,1.13Z\" style=\"opacity: 1; stroke-width: 0px; fill: rgb(0, 0, 255); fill-opacity: 1;\"/><path class=\"point\" transform=\"translate(306.38,147.23)\" d=\"M0,1.13l1.13,1.13l1.13,-1.13l-1.13,-1.13l1.13,-1.13l-1.13,-1.13l-1.13,1.13l-1.13,-1.13l-1.13,1.13l1.13,1.13l-1.13,1.13l1.13,1.13Z\" style=\"opacity: 1; stroke-width: 0px; fill: rgb(0, 0, 255); fill-opacity: 1;\"/><path class=\"point\" transform=\"translate(309.18,128.85)\" d=\"M0,1.13l1.13,1.13l1.13,-1.13l-1.13,-1.13l1.13,-1.13l-1.13,-1.13l-1.13,1.13l-1.13,-1.13l-1.13,1.13l1.13,1.13l-1.13,1.13l1.13,1.13Z\" style=\"opacity: 1; stroke-width: 0px; fill: rgb(0, 0, 255); fill-opacity: 1;\"/><path class=\"point\" transform=\"translate(311.98,100.47)\" d=\"M0,1.13l1.13,1.13l1.13,-1.13l-1.13,-1.13l1.13,-1.13l-1.13,-1.13l-1.13,1.13l-1.13,-1.13l-1.13,1.13l1.13,1.13l-1.13,1.13l1.13,1.13Z\" style=\"opacity: 1; stroke-width: 0px; fill: rgb(0, 0, 255); fill-opacity: 1;\"/><path class=\"point\" transform=\"translate(314.78,71.67)\" d=\"M0,1.13l1.13,1.13l1.13,-1.13l-1.13,-1.13l1.13,-1.13l-1.13,-1.13l-1.13,1.13l-1.13,-1.13l-1.13,1.13l1.13,1.13l-1.13,1.13l1.13,1.13Z\" style=\"opacity: 1; stroke-width: 0px; fill: rgb(0, 0, 255); fill-opacity: 1;\"/><path class=\"point\" transform=\"translate(317.58,53.52)\" d=\"M0,1.13l1.13,1.13l1.13,-1.13l-1.13,-1.13l1.13,-1.13l-1.13,-1.13l-1.13,1.13l-1.13,-1.13l-1.13,1.13l1.13,1.13l-1.13,1.13l1.13,1.13Z\" style=\"opacity: 1; stroke-width: 0px; fill: rgb(0, 0, 255); fill-opacity: 1;\"/><path class=\"point\" transform=\"translate(320.38,49.26)\" d=\"M0,1.13l1.13,1.13l1.13,-1.13l-1.13,-1.13l1.13,-1.13l-1.13,-1.13l-1.13,1.13l-1.13,-1.13l-1.13,1.13l1.13,1.13l-1.13,1.13l1.13,1.13Z\" style=\"opacity: 1; stroke-width: 0px; fill: rgb(0, 0, 255); fill-opacity: 1;\"/><path class=\"point\" transform=\"translate(323.17,49.8)\" d=\"M0,1.13l1.13,1.13l1.13,-1.13l-1.13,-1.13l1.13,-1.13l-1.13,-1.13l-1.13,1.13l-1.13,-1.13l-1.13,1.13l1.13,1.13l-1.13,1.13l1.13,1.13Z\" style=\"opacity: 1; stroke-width: 0px; fill: rgb(0, 0, 255); fill-opacity: 1;\"/><path class=\"point\" transform=\"translate(325.97,50.51)\" d=\"M0,1.13l1.13,1.13l1.13,-1.13l-1.13,-1.13l1.13,-1.13l-1.13,-1.13l-1.13,1.13l-1.13,-1.13l-1.13,1.13l1.13,1.13l-1.13,1.13l1.13,1.13Z\" style=\"opacity: 1; stroke-width: 0px; fill: rgb(0, 0, 255); fill-opacity: 1;\"/><path class=\"point\" transform=\"translate(328.77,53.39)\" d=\"M0,1.13l1.13,1.13l1.13,-1.13l-1.13,-1.13l1.13,-1.13l-1.13,-1.13l-1.13,1.13l-1.13,-1.13l-1.13,1.13l1.13,1.13l-1.13,1.13l1.13,1.13Z\" style=\"opacity: 1; stroke-width: 0px; fill: rgb(0, 0, 255); fill-opacity: 1;\"/><path class=\"point\" transform=\"translate(331.57,58.26)\" d=\"M0,1.13l1.13,1.13l1.13,-1.13l-1.13,-1.13l1.13,-1.13l-1.13,-1.13l-1.13,1.13l-1.13,-1.13l-1.13,1.13l1.13,1.13l-1.13,1.13l1.13,1.13Z\" style=\"opacity: 1; stroke-width: 0px; fill: rgb(0, 0, 255); fill-opacity: 1;\"/><path class=\"point\" transform=\"translate(334.37,58.49)\" d=\"M0,1.13l1.13,1.13l1.13,-1.13l-1.13,-1.13l1.13,-1.13l-1.13,-1.13l-1.13,1.13l-1.13,-1.13l-1.13,1.13l1.13,1.13l-1.13,1.13l1.13,1.13Z\" style=\"opacity: 1; stroke-width: 0px; fill: rgb(0, 0, 255); fill-opacity: 1;\"/><path class=\"point\" transform=\"translate(337.17,54.3)\" d=\"M0,1.13l1.13,1.13l1.13,-1.13l-1.13,-1.13l1.13,-1.13l-1.13,-1.13l-1.13,1.13l-1.13,-1.13l-1.13,1.13l1.13,1.13l-1.13,1.13l1.13,1.13Z\" style=\"opacity: 1; stroke-width: 0px; fill: rgb(0, 0, 255); fill-opacity: 1;\"/><path class=\"point\" transform=\"translate(339.97,55.32)\" d=\"M0,1.13l1.13,1.13l1.13,-1.13l-1.13,-1.13l1.13,-1.13l-1.13,-1.13l-1.13,1.13l-1.13,-1.13l-1.13,1.13l1.13,1.13l-1.13,1.13l1.13,1.13Z\" style=\"opacity: 1; stroke-width: 0px; fill: rgb(0, 0, 255); fill-opacity: 1;\"/><path class=\"point\" transform=\"translate(342.77,70.49)\" d=\"M0,1.13l1.13,1.13l1.13,-1.13l-1.13,-1.13l1.13,-1.13l-1.13,-1.13l-1.13,1.13l-1.13,-1.13l-1.13,1.13l1.13,1.13l-1.13,1.13l1.13,1.13Z\" style=\"opacity: 1; stroke-width: 0px; fill: rgb(0, 0, 255); fill-opacity: 1;\"/><path class=\"point\" transform=\"translate(345.56,93.93)\" d=\"M0,1.13l1.13,1.13l1.13,-1.13l-1.13,-1.13l1.13,-1.13l-1.13,-1.13l-1.13,1.13l-1.13,-1.13l-1.13,1.13l1.13,1.13l-1.13,1.13l1.13,1.13Z\" style=\"opacity: 1; stroke-width: 0px; fill: rgb(0, 0, 255); fill-opacity: 1;\"/><path class=\"point\" transform=\"translate(348.36,116.72)\" d=\"M0,1.13l1.13,1.13l1.13,-1.13l-1.13,-1.13l1.13,-1.13l-1.13,-1.13l-1.13,1.13l-1.13,-1.13l-1.13,1.13l1.13,1.13l-1.13,1.13l1.13,1.13Z\" style=\"opacity: 1; stroke-width: 0px; fill: rgb(0, 0, 255); fill-opacity: 1;\"/><path class=\"point\" transform=\"translate(351.16,134.08)\" d=\"M0,1.13l1.13,1.13l1.13,-1.13l-1.13,-1.13l1.13,-1.13l-1.13,-1.13l-1.13,1.13l-1.13,-1.13l-1.13,1.13l1.13,1.13l-1.13,1.13l1.13,1.13Z\" style=\"opacity: 1; stroke-width: 0px; fill: rgb(0, 0, 255); fill-opacity: 1;\"/><path class=\"point\" transform=\"translate(353.96,147.58)\" d=\"M0,1.13l1.13,1.13l1.13,-1.13l-1.13,-1.13l1.13,-1.13l-1.13,-1.13l-1.13,1.13l-1.13,-1.13l-1.13,1.13l1.13,1.13l-1.13,1.13l1.13,1.13Z\" style=\"opacity: 1; stroke-width: 0px; fill: rgb(0, 0, 255); fill-opacity: 1;\"/><path class=\"point\" transform=\"translate(356.76,158.12)\" d=\"M0,1.13l1.13,1.13l1.13,-1.13l-1.13,-1.13l1.13,-1.13l-1.13,-1.13l-1.13,1.13l-1.13,-1.13l-1.13,1.13l1.13,1.13l-1.13,1.13l1.13,1.13Z\" style=\"opacity: 1; stroke-width: 0px; fill: rgb(0, 0, 255); fill-opacity: 1;\"/><path class=\"point\" transform=\"translate(359.56,164.74)\" d=\"M0,1.13l1.13,1.13l1.13,-1.13l-1.13,-1.13l1.13,-1.13l-1.13,-1.13l-1.13,1.13l-1.13,-1.13l-1.13,1.13l1.13,1.13l-1.13,1.13l1.13,1.13Z\" style=\"opacity: 1; stroke-width: 0px; fill: rgb(0, 0, 255); fill-opacity: 1;\"/><path class=\"point\" transform=\"translate(362.36,167.67)\" d=\"M0,1.13l1.13,1.13l1.13,-1.13l-1.13,-1.13l1.13,-1.13l-1.13,-1.13l-1.13,1.13l-1.13,-1.13l-1.13,1.13l1.13,1.13l-1.13,1.13l1.13,1.13Z\" style=\"opacity: 1; stroke-width: 0px; fill: rgb(0, 0, 255); fill-opacity: 1;\"/><path class=\"point\" transform=\"translate(365.16,169.25)\" d=\"M0,1.13l1.13,1.13l1.13,-1.13l-1.13,-1.13l1.13,-1.13l-1.13,-1.13l-1.13,1.13l-1.13,-1.13l-1.13,1.13l1.13,1.13l-1.13,1.13l1.13,1.13Z\" style=\"opacity: 1; stroke-width: 0px; fill: rgb(0, 0, 255); fill-opacity: 1;\"/><path class=\"point\" transform=\"translate(367.96,170.84)\" d=\"M0,1.13l1.13,1.13l1.13,-1.13l-1.13,-1.13l1.13,-1.13l-1.13,-1.13l-1.13,1.13l-1.13,-1.13l-1.13,1.13l1.13,1.13l-1.13,1.13l1.13,1.13Z\" style=\"opacity: 1; stroke-width: 0px; fill: rgb(0, 0, 255); fill-opacity: 1;\"/><path class=\"point\" transform=\"translate(370.75,171.62)\" d=\"M0,1.13l1.13,1.13l1.13,-1.13l-1.13,-1.13l1.13,-1.13l-1.13,-1.13l-1.13,1.13l-1.13,-1.13l-1.13,1.13l1.13,1.13l-1.13,1.13l1.13,1.13Z\" style=\"opacity: 1; stroke-width: 0px; fill: rgb(0, 0, 255); fill-opacity: 1;\"/><path class=\"point\" transform=\"translate(373.55,166.66)\" d=\"M0,1.13l1.13,1.13l1.13,-1.13l-1.13,-1.13l1.13,-1.13l-1.13,-1.13l-1.13,1.13l-1.13,-1.13l-1.13,1.13l1.13,1.13l-1.13,1.13l1.13,1.13Z\" style=\"opacity: 1; stroke-width: 0px; fill: rgb(0, 0, 255); fill-opacity: 1;\"/><path class=\"point\" transform=\"translate(376.35,151.24)\" d=\"M0,1.13l1.13,1.13l1.13,-1.13l-1.13,-1.13l1.13,-1.13l-1.13,-1.13l-1.13,1.13l-1.13,-1.13l-1.13,1.13l1.13,1.13l-1.13,1.13l1.13,1.13Z\" style=\"opacity: 1; stroke-width: 0px; fill: rgb(0, 0, 255); fill-opacity: 1;\"/><path class=\"point\" transform=\"translate(379.15,124.84)\" d=\"M0,1.13l1.13,1.13l1.13,-1.13l-1.13,-1.13l1.13,-1.13l-1.13,-1.13l-1.13,1.13l-1.13,-1.13l-1.13,1.13l1.13,1.13l-1.13,1.13l1.13,1.13Z\" style=\"opacity: 1; stroke-width: 0px; fill: rgb(0, 0, 255); fill-opacity: 1;\"/><path class=\"point\" transform=\"translate(381.95,97.9)\" d=\"M0,1.13l1.13,1.13l1.13,-1.13l-1.13,-1.13l1.13,-1.13l-1.13,-1.13l-1.13,1.13l-1.13,-1.13l-1.13,1.13l1.13,1.13l-1.13,1.13l1.13,1.13Z\" style=\"opacity: 1; stroke-width: 0px; fill: rgb(0, 0, 255); fill-opacity: 1;\"/><path class=\"point\" transform=\"translate(384.75,82.26)\" d=\"M0,1.13l1.13,1.13l1.13,-1.13l-1.13,-1.13l1.13,-1.13l-1.13,-1.13l-1.13,1.13l-1.13,-1.13l-1.13,1.13l1.13,1.13l-1.13,1.13l1.13,1.13Z\" style=\"opacity: 1; stroke-width: 0px; fill: rgb(0, 0, 255); fill-opacity: 1;\"/><path class=\"point\" transform=\"translate(387.55,80.03)\" d=\"M0,1.13l1.13,1.13l1.13,-1.13l-1.13,-1.13l1.13,-1.13l-1.13,-1.13l-1.13,1.13l-1.13,-1.13l-1.13,1.13l1.13,1.13l-1.13,1.13l1.13,1.13Z\" style=\"opacity: 1; stroke-width: 0px; fill: rgb(0, 0, 255); fill-opacity: 1;\"/><path class=\"point\" transform=\"translate(390.35,82.65)\" d=\"M0,1.13l1.13,1.13l1.13,-1.13l-1.13,-1.13l1.13,-1.13l-1.13,-1.13l-1.13,1.13l-1.13,-1.13l-1.13,1.13l1.13,1.13l-1.13,1.13l1.13,1.13Z\" style=\"opacity: 1; stroke-width: 0px; fill: rgb(0, 0, 255); fill-opacity: 1;\"/><path class=\"point\" transform=\"translate(393.14,85.28)\" d=\"M0,1.13l1.13,1.13l1.13,-1.13l-1.13,-1.13l1.13,-1.13l-1.13,-1.13l-1.13,1.13l-1.13,-1.13l-1.13,1.13l1.13,1.13l-1.13,1.13l1.13,1.13Z\" style=\"opacity: 1; stroke-width: 0px; fill: rgb(0, 0, 255); fill-opacity: 1;\"/><path class=\"point\" transform=\"translate(395.94,90.3)\" d=\"M0,1.13l1.13,1.13l1.13,-1.13l-1.13,-1.13l1.13,-1.13l-1.13,-1.13l-1.13,1.13l-1.13,-1.13l-1.13,1.13l1.13,1.13l-1.13,1.13l1.13,1.13Z\" style=\"opacity: 1; stroke-width: 0px; fill: rgb(0, 0, 255); fill-opacity: 1;\"/><path class=\"point\" transform=\"translate(398.74,96.8)\" d=\"M0,1.13l1.13,1.13l1.13,-1.13l-1.13,-1.13l1.13,-1.13l-1.13,-1.13l-1.13,1.13l-1.13,-1.13l-1.13,1.13l1.13,1.13l-1.13,1.13l1.13,1.13Z\" style=\"opacity: 1; stroke-width: 0px; fill: rgb(0, 0, 255); fill-opacity: 1;\"/><path class=\"point\" transform=\"translate(401.54,99.02)\" d=\"M0,1.13l1.13,1.13l1.13,-1.13l-1.13,-1.13l1.13,-1.13l-1.13,-1.13l-1.13,1.13l-1.13,-1.13l-1.13,1.13l1.13,1.13l-1.13,1.13l1.13,1.13Z\" style=\"opacity: 1; stroke-width: 0px; fill: rgb(0, 0, 255); fill-opacity: 1;\"/><path class=\"point\" transform=\"translate(404.34,96.44)\" d=\"M0,1.13l1.13,1.13l1.13,-1.13l-1.13,-1.13l1.13,-1.13l-1.13,-1.13l-1.13,1.13l-1.13,-1.13l-1.13,1.13l1.13,1.13l-1.13,1.13l1.13,1.13Z\" style=\"opacity: 1; stroke-width: 0px; fill: rgb(0, 0, 255); fill-opacity: 1;\"/><path class=\"point\" transform=\"translate(407.14,98.68)\" d=\"M0,1.13l1.13,1.13l1.13,-1.13l-1.13,-1.13l1.13,-1.13l-1.13,-1.13l-1.13,1.13l-1.13,-1.13l-1.13,1.13l1.13,1.13l-1.13,1.13l1.13,1.13Z\" style=\"opacity: 1; stroke-width: 0px; fill: rgb(0, 0, 255); fill-opacity: 1;\"/><path class=\"point\" transform=\"translate(409.94,115.14)\" d=\"M0,1.13l1.13,1.13l1.13,-1.13l-1.13,-1.13l1.13,-1.13l-1.13,-1.13l-1.13,1.13l-1.13,-1.13l-1.13,1.13l1.13,1.13l-1.13,1.13l1.13,1.13Z\" style=\"opacity: 1; stroke-width: 0px; fill: rgb(0, 0, 255); fill-opacity: 1;\"/><path class=\"point\" transform=\"translate(412.74,139.36)\" d=\"M0,1.13l1.13,1.13l1.13,-1.13l-1.13,-1.13l1.13,-1.13l-1.13,-1.13l-1.13,1.13l-1.13,-1.13l-1.13,1.13l1.13,1.13l-1.13,1.13l1.13,1.13Z\" style=\"opacity: 1; stroke-width: 0px; fill: rgb(0, 0, 255); fill-opacity: 1;\"/><path class=\"point\" transform=\"translate(415.53,163.07)\" d=\"M0,1.13l1.13,1.13l1.13,-1.13l-1.13,-1.13l1.13,-1.13l-1.13,-1.13l-1.13,1.13l-1.13,-1.13l-1.13,1.13l1.13,1.13l-1.13,1.13l1.13,1.13Z\" style=\"opacity: 1; stroke-width: 0px; fill: rgb(0, 0, 255); fill-opacity: 1;\"/><path class=\"point\" transform=\"translate(418.33,182.07)\" d=\"M0,1.13l1.13,1.13l1.13,-1.13l-1.13,-1.13l1.13,-1.13l-1.13,-1.13l-1.13,1.13l-1.13,-1.13l-1.13,1.13l1.13,1.13l-1.13,1.13l1.13,1.13Z\" style=\"opacity: 1; stroke-width: 0px; fill: rgb(0, 0, 255); fill-opacity: 1;\"/><path class=\"point\" transform=\"translate(421.13,195.34)\" d=\"M0,1.13l1.13,1.13l1.13,-1.13l-1.13,-1.13l1.13,-1.13l-1.13,-1.13l-1.13,1.13l-1.13,-1.13l-1.13,1.13l1.13,1.13l-1.13,1.13l1.13,1.13Z\" style=\"opacity: 1; stroke-width: 0px; fill: rgb(0, 0, 255); fill-opacity: 1;\"/><path class=\"point\" transform=\"translate(423.93,205.57)\" d=\"M0,1.13l1.13,1.13l1.13,-1.13l-1.13,-1.13l1.13,-1.13l-1.13,-1.13l-1.13,1.13l-1.13,-1.13l-1.13,1.13l1.13,1.13l-1.13,1.13l1.13,1.13Z\" style=\"opacity: 1; stroke-width: 0px; fill: rgb(0, 0, 255); fill-opacity: 1;\"/><path class=\"point\" transform=\"translate(426.73,211.46)\" d=\"M0,1.13l1.13,1.13l1.13,-1.13l-1.13,-1.13l1.13,-1.13l-1.13,-1.13l-1.13,1.13l-1.13,-1.13l-1.13,1.13l1.13,1.13l-1.13,1.13l1.13,1.13Z\" style=\"opacity: 1; stroke-width: 0px; fill: rgb(0, 0, 255); fill-opacity: 1;\"/><path class=\"point\" transform=\"translate(429.53,214.27)\" d=\"M0,1.13l1.13,1.13l1.13,-1.13l-1.13,-1.13l1.13,-1.13l-1.13,-1.13l-1.13,1.13l-1.13,-1.13l-1.13,1.13l1.13,1.13l-1.13,1.13l1.13,1.13Z\" style=\"opacity: 1; stroke-width: 0px; fill: rgb(0, 0, 255); fill-opacity: 1;\"/><path class=\"point\" transform=\"translate(432.33,215.02)\" d=\"M0,1.13l1.13,1.13l1.13,-1.13l-1.13,-1.13l1.13,-1.13l-1.13,-1.13l-1.13,1.13l-1.13,-1.13l-1.13,1.13l1.13,1.13l-1.13,1.13l1.13,1.13Z\" style=\"opacity: 1; stroke-width: 0px; fill: rgb(0, 0, 255); fill-opacity: 1;\"/><path class=\"point\" transform=\"translate(435.13,215.61)\" d=\"M0,1.13l1.13,1.13l1.13,-1.13l-1.13,-1.13l1.13,-1.13l-1.13,-1.13l-1.13,1.13l-1.13,-1.13l-1.13,1.13l1.13,1.13l-1.13,1.13l1.13,1.13Z\" style=\"opacity: 1; stroke-width: 0px; fill: rgb(0, 0, 255); fill-opacity: 1;\"/><path class=\"point\" transform=\"translate(437.93,214.75)\" d=\"M0,1.13l1.13,1.13l1.13,-1.13l-1.13,-1.13l1.13,-1.13l-1.13,-1.13l-1.13,1.13l-1.13,-1.13l-1.13,1.13l1.13,1.13l-1.13,1.13l1.13,1.13Z\" style=\"opacity: 1; stroke-width: 0px; fill: rgb(0, 0, 255); fill-opacity: 1;\"/><path class=\"point\" transform=\"translate(440.72,208.57)\" d=\"M0,1.13l1.13,1.13l1.13,-1.13l-1.13,-1.13l1.13,-1.13l-1.13,-1.13l-1.13,1.13l-1.13,-1.13l-1.13,1.13l1.13,1.13l-1.13,1.13l1.13,1.13Z\" style=\"opacity: 1; stroke-width: 0px; fill: rgb(0, 0, 255); fill-opacity: 1;\"/><path class=\"point\" transform=\"translate(443.52,191.03)\" d=\"M0,1.13l1.13,1.13l1.13,-1.13l-1.13,-1.13l1.13,-1.13l-1.13,-1.13l-1.13,1.13l-1.13,-1.13l-1.13,1.13l1.13,1.13l-1.13,1.13l1.13,1.13Z\" style=\"opacity: 1; stroke-width: 0px; fill: rgb(0, 0, 255); fill-opacity: 1;\"/><path class=\"point\" transform=\"translate(446.32,162.51)\" d=\"M0,1.13l1.13,1.13l1.13,-1.13l-1.13,-1.13l1.13,-1.13l-1.13,-1.13l-1.13,1.13l-1.13,-1.13l-1.13,1.13l1.13,1.13l-1.13,1.13l1.13,1.13Z\" style=\"opacity: 1; stroke-width: 0px; fill: rgb(0, 0, 255); fill-opacity: 1;\"/><path class=\"point\" transform=\"translate(449.12,133.12)\" d=\"M0,1.13l1.13,1.13l1.13,-1.13l-1.13,-1.13l1.13,-1.13l-1.13,-1.13l-1.13,1.13l-1.13,-1.13l-1.13,1.13l1.13,1.13l-1.13,1.13l1.13,1.13Z\" style=\"opacity: 1; stroke-width: 0px; fill: rgb(0, 0, 255); fill-opacity: 1;\"/><path class=\"point\" transform=\"translate(451.92,114.27)\" d=\"M0,1.13l1.13,1.13l1.13,-1.13l-1.13,-1.13l1.13,-1.13l-1.13,-1.13l-1.13,1.13l-1.13,-1.13l-1.13,1.13l1.13,1.13l-1.13,1.13l1.13,1.13Z\" style=\"opacity: 1; stroke-width: 0px; fill: rgb(0, 0, 255); fill-opacity: 1;\"/><path class=\"point\" transform=\"translate(454.72,109.06)\" d=\"M0,1.13l1.13,1.13l1.13,-1.13l-1.13,-1.13l1.13,-1.13l-1.13,-1.13l-1.13,1.13l-1.13,-1.13l-1.13,1.13l1.13,1.13l-1.13,1.13l1.13,1.13Z\" style=\"opacity: 1; stroke-width: 0px; fill: rgb(0, 0, 255); fill-opacity: 1;\"/><path class=\"point\" transform=\"translate(457.52,108.63)\" d=\"M0,1.13l1.13,1.13l1.13,-1.13l-1.13,-1.13l1.13,-1.13l-1.13,-1.13l-1.13,1.13l-1.13,-1.13l-1.13,1.13l1.13,1.13l-1.13,1.13l1.13,1.13Z\" style=\"opacity: 1; stroke-width: 0px; fill: rgb(0, 0, 255); fill-opacity: 1;\"/><path class=\"point\" transform=\"translate(460.32,107.99)\" d=\"M0,1.13l1.13,1.13l1.13,-1.13l-1.13,-1.13l1.13,-1.13l-1.13,-1.13l-1.13,1.13l-1.13,-1.13l-1.13,1.13l1.13,1.13l-1.13,1.13l1.13,1.13Z\" style=\"opacity: 1; stroke-width: 0px; fill: rgb(0, 0, 255); fill-opacity: 1;\"/><path class=\"point\" transform=\"translate(463.11,109.39)\" d=\"M0,1.13l1.13,1.13l1.13,-1.13l-1.13,-1.13l1.13,-1.13l-1.13,-1.13l-1.13,1.13l-1.13,-1.13l-1.13,1.13l1.13,1.13l-1.13,1.13l1.13,1.13Z\" style=\"opacity: 1; stroke-width: 0px; fill: rgb(0, 0, 255); fill-opacity: 1;\"/><path class=\"point\" transform=\"translate(465.91,112.26)\" d=\"M0,1.13l1.13,1.13l1.13,-1.13l-1.13,-1.13l1.13,-1.13l-1.13,-1.13l-1.13,1.13l-1.13,-1.13l-1.13,1.13l1.13,1.13l-1.13,1.13l1.13,1.13Z\" style=\"opacity: 1; stroke-width: 0px; fill: rgb(0, 0, 255); fill-opacity: 1;\"/><path class=\"point\" transform=\"translate(468.71,110.37)\" d=\"M0,1.13l1.13,1.13l1.13,-1.13l-1.13,-1.13l1.13,-1.13l-1.13,-1.13l-1.13,1.13l-1.13,-1.13l-1.13,1.13l1.13,1.13l-1.13,1.13l1.13,1.13Z\" style=\"opacity: 1; stroke-width: 0px; fill: rgb(0, 0, 255); fill-opacity: 1;\"/><path class=\"point\" transform=\"translate(471.51,104.33)\" d=\"M0,1.13l1.13,1.13l1.13,-1.13l-1.13,-1.13l1.13,-1.13l-1.13,-1.13l-1.13,1.13l-1.13,-1.13l-1.13,1.13l1.13,1.13l-1.13,1.13l1.13,1.13Z\" style=\"opacity: 1; stroke-width: 0px; fill: rgb(0, 0, 255); fill-opacity: 1;\"/><path class=\"point\" transform=\"translate(474.31,102.62)\" d=\"M0,1.13l1.13,1.13l1.13,-1.13l-1.13,-1.13l1.13,-1.13l-1.13,-1.13l-1.13,1.13l-1.13,-1.13l-1.13,1.13l1.13,1.13l-1.13,1.13l1.13,1.13Z\" style=\"opacity: 1; stroke-width: 0px; fill: rgb(0, 0, 255); fill-opacity: 1;\"/><path class=\"point\" transform=\"translate(477.11,114.48)\" d=\"M0,1.13l1.13,1.13l1.13,-1.13l-1.13,-1.13l1.13,-1.13l-1.13,-1.13l-1.13,1.13l-1.13,-1.13l-1.13,1.13l1.13,1.13l-1.13,1.13l1.13,1.13Z\" style=\"opacity: 1; stroke-width: 0px; fill: rgb(0, 0, 255); fill-opacity: 1;\"/><path class=\"point\" transform=\"translate(479.91,135.12)\" d=\"M0,1.13l1.13,1.13l1.13,-1.13l-1.13,-1.13l1.13,-1.13l-1.13,-1.13l-1.13,1.13l-1.13,-1.13l-1.13,1.13l1.13,1.13l-1.13,1.13l1.13,1.13Z\" style=\"opacity: 1; stroke-width: 0px; fill: rgb(0, 0, 255); fill-opacity: 1;\"/><path class=\"point\" transform=\"translate(482.71,154.49)\" d=\"M0,1.13l1.13,1.13l1.13,-1.13l-1.13,-1.13l1.13,-1.13l-1.13,-1.13l-1.13,1.13l-1.13,-1.13l-1.13,1.13l1.13,1.13l-1.13,1.13l1.13,1.13Z\" style=\"opacity: 1; stroke-width: 0px; fill: rgb(0, 0, 255); fill-opacity: 1;\"/><path class=\"point\" transform=\"translate(485.5,168.54)\" d=\"M0,1.13l1.13,1.13l1.13,-1.13l-1.13,-1.13l1.13,-1.13l-1.13,-1.13l-1.13,1.13l-1.13,-1.13l-1.13,1.13l1.13,1.13l-1.13,1.13l1.13,1.13Z\" style=\"opacity: 1; stroke-width: 0px; fill: rgb(0, 0, 255); fill-opacity: 1;\"/><path class=\"point\" transform=\"translate(488.3,178.75)\" d=\"M0,1.13l1.13,1.13l1.13,-1.13l-1.13,-1.13l1.13,-1.13l-1.13,-1.13l-1.13,1.13l-1.13,-1.13l-1.13,1.13l1.13,1.13l-1.13,1.13l1.13,1.13Z\" style=\"opacity: 1; stroke-width: 0px; fill: rgb(0, 0, 255); fill-opacity: 1;\"/><path class=\"point\" transform=\"translate(491.1,185.01)\" d=\"M0,1.13l1.13,1.13l1.13,-1.13l-1.13,-1.13l1.13,-1.13l-1.13,-1.13l-1.13,1.13l-1.13,-1.13l-1.13,1.13l1.13,1.13l-1.13,1.13l1.13,1.13Z\" style=\"opacity: 1; stroke-width: 0px; fill: rgb(0, 0, 255); fill-opacity: 1;\"/><path class=\"point\" transform=\"translate(493.9,187.39)\" d=\"M0,1.13l1.13,1.13l1.13,-1.13l-1.13,-1.13l1.13,-1.13l-1.13,-1.13l-1.13,1.13l-1.13,-1.13l-1.13,1.13l1.13,1.13l-1.13,1.13l1.13,1.13Z\" style=\"opacity: 1; stroke-width: 0px; fill: rgb(0, 0, 255); fill-opacity: 1;\"/><path class=\"point\" transform=\"translate(496.7,186.67)\" d=\"M0,1.13l1.13,1.13l1.13,-1.13l-1.13,-1.13l1.13,-1.13l-1.13,-1.13l-1.13,1.13l-1.13,-1.13l-1.13,1.13l1.13,1.13l-1.13,1.13l1.13,1.13Z\" style=\"opacity: 1; stroke-width: 0px; fill: rgb(0, 0, 255); fill-opacity: 1;\"/></g><g class=\"text\"/></g><g class=\"trace scatter trace0538a4\" style=\"stroke-miterlimit: 2; opacity: 1;\"><g class=\"fills\"/><g class=\"errorbars\"/><g class=\"lines\"/><g class=\"points\"><path class=\"point\" transform=\"translate(29.3,171.67)\" d=\"M2,0A2,2 0 1,1 0,-2A2,2 0 0,1 2,0Z\" style=\"opacity: 1; stroke-width: 0px; fill: rgb(0, 0, 0); fill-opacity: 1;\"/><path class=\"point\" transform=\"translate(32.1,171.11)\" d=\"M2,0A2,2 0 1,1 0,-2A2,2 0 0,1 2,0Z\" style=\"opacity: 1; stroke-width: 0px; fill: rgb(0, 0, 0); fill-opacity: 1;\"/><path class=\"point\" transform=\"translate(34.9,170.82)\" d=\"M2,0A2,2 0 1,1 0,-2A2,2 0 0,1 2,0Z\" style=\"opacity: 1; stroke-width: 0px; fill: rgb(0, 0, 0); fill-opacity: 1;\"/><path class=\"point\" transform=\"translate(37.7,170.67)\" d=\"M2,0A2,2 0 1,1 0,-2A2,2 0 0,1 2,0Z\" style=\"opacity: 1; stroke-width: 0px; fill: rgb(0, 0, 0); fill-opacity: 1;\"/><path class=\"point\" transform=\"translate(40.5,170.13)\" d=\"M2,0A2,2 0 1,1 0,-2A2,2 0 0,1 2,0Z\" style=\"opacity: 1; stroke-width: 0px; fill: rgb(0, 0, 0); fill-opacity: 1;\"/><path class=\"point\" transform=\"translate(43.29,168.63)\" d=\"M2,0A2,2 0 1,1 0,-2A2,2 0 0,1 2,0Z\" style=\"opacity: 1; stroke-width: 0px; fill: rgb(0, 0, 0); fill-opacity: 1;\"/><path class=\"point\" transform=\"translate(46.09,150.08)\" d=\"M2,0A2,2 0 1,1 0,-2A2,2 0 0,1 2,0Z\" style=\"opacity: 1; stroke-width: 0px; fill: rgb(0, 0, 0); fill-opacity: 1;\"/><path class=\"point\" transform=\"translate(48.89,152.96)\" d=\"M2,0A2,2 0 1,1 0,-2A2,2 0 0,1 2,0Z\" style=\"opacity: 1; stroke-width: 0px; fill: rgb(0, 0, 0); fill-opacity: 1;\"/><path class=\"point\" transform=\"translate(51.69,132.06)\" d=\"M2,0A2,2 0 1,1 0,-2A2,2 0 0,1 2,0Z\" style=\"opacity: 1; stroke-width: 0px; fill: rgb(0, 0, 0); fill-opacity: 1;\"/><path class=\"point\" transform=\"translate(54.49,133.89)\" d=\"M2,0A2,2 0 1,1 0,-2A2,2 0 0,1 2,0Z\" style=\"opacity: 1; stroke-width: 0px; fill: rgb(0, 0, 0); fill-opacity: 1;\"/><path class=\"point\" transform=\"translate(57.29,132.24)\" d=\"M2,0A2,2 0 1,1 0,-2A2,2 0 0,1 2,0Z\" style=\"opacity: 1; stroke-width: 0px; fill: rgb(0, 0, 0); fill-opacity: 1;\"/><path class=\"point\" transform=\"translate(60.09,131.2)\" d=\"M2,0A2,2 0 1,1 0,-2A2,2 0 0,1 2,0Z\" style=\"opacity: 1; stroke-width: 0px; fill: rgb(0, 0, 0); fill-opacity: 1;\"/><path class=\"point\" transform=\"translate(62.89,131.67)\" d=\"M2,0A2,2 0 1,1 0,-2A2,2 0 0,1 2,0Z\" style=\"opacity: 1; stroke-width: 0px; fill: rgb(0, 0, 0); fill-opacity: 1;\"/><path class=\"point\" transform=\"translate(65.68,134.33)\" d=\"M2,0A2,2 0 1,1 0,-2A2,2 0 0,1 2,0Z\" style=\"opacity: 1; stroke-width: 0px; fill: rgb(0, 0, 0); fill-opacity: 1;\"/><path class=\"point\" transform=\"translate(68.48,135.37)\" d=\"M2,0A2,2 0 1,1 0,-2A2,2 0 0,1 2,0Z\" style=\"opacity: 1; stroke-width: 0px; fill: rgb(0, 0, 0); fill-opacity: 1;\"/><path class=\"point\" transform=\"translate(71.28,134.75)\" d=\"M2,0A2,2 0 1,1 0,-2A2,2 0 0,1 2,0Z\" style=\"opacity: 1; stroke-width: 0px; fill: rgb(0, 0, 0); fill-opacity: 1;\"/><path class=\"point\" transform=\"translate(74.08,140.94)\" d=\"M2,0A2,2 0 1,1 0,-2A2,2 0 0,1 2,0Z\" style=\"opacity: 1; stroke-width: 0px; fill: rgb(0, 0, 0); fill-opacity: 1;\"/><path class=\"point\" transform=\"translate(76.88,155.22)\" d=\"M2,0A2,2 0 1,1 0,-2A2,2 0 0,1 2,0Z\" style=\"opacity: 1; stroke-width: 0px; fill: rgb(0, 0, 0); fill-opacity: 1;\"/><path class=\"point\" transform=\"translate(79.68,160.18)\" d=\"M2,0A2,2 0 1,1 0,-2A2,2 0 0,1 2,0Z\" style=\"opacity: 1; stroke-width: 0px; fill: rgb(0, 0, 0); fill-opacity: 1;\"/><path class=\"point\" transform=\"translate(82.48,158.8)\" d=\"M2,0A2,2 0 1,1 0,-2A2,2 0 0,1 2,0Z\" style=\"opacity: 1; stroke-width: 0px; fill: rgb(0, 0, 0); fill-opacity: 1;\"/><path class=\"point\" transform=\"translate(85.28,167.99)\" d=\"M2,0A2,2 0 1,1 0,-2A2,2 0 0,1 2,0Z\" style=\"opacity: 1; stroke-width: 0px; fill: rgb(0, 0, 0); fill-opacity: 1;\"/><path class=\"point\" transform=\"translate(88.07,166.18)\" d=\"M2,0A2,2 0 1,1 0,-2A2,2 0 0,1 2,0Z\" style=\"opacity: 1; stroke-width: 0px; fill: rgb(0, 0, 0); fill-opacity: 1;\"/><path class=\"point\" transform=\"translate(90.87,167.28)\" d=\"M2,0A2,2 0 1,1 0,-2A2,2 0 0,1 2,0Z\" style=\"opacity: 1; stroke-width: 0px; fill: rgb(0, 0, 0); fill-opacity: 1;\"/><path class=\"point\" transform=\"translate(93.67,167.05)\" d=\"M2,0A2,2 0 1,1 0,-2A2,2 0 0,1 2,0Z\" style=\"opacity: 1; stroke-width: 0px; fill: rgb(0, 0, 0); fill-opacity: 1;\"/><path class=\"point\" transform=\"translate(96.47,171.12)\" d=\"M2,0A2,2 0 1,1 0,-2A2,2 0 0,1 2,0Z\" style=\"opacity: 1; stroke-width: 0px; fill: rgb(0, 0, 0); fill-opacity: 1;\"/><path class=\"point\" transform=\"translate(99.27,171.66)\" d=\"M2,0A2,2 0 1,1 0,-2A2,2 0 0,1 2,0Z\" style=\"opacity: 1; stroke-width: 0px; fill: rgb(0, 0, 0); fill-opacity: 1;\"/><path class=\"point\" transform=\"translate(102.07,172.31)\" d=\"M2,0A2,2 0 1,1 0,-2A2,2 0 0,1 2,0Z\" style=\"opacity: 1; stroke-width: 0px; fill: rgb(0, 0, 0); fill-opacity: 1;\"/><path class=\"point\" transform=\"translate(104.87,174.64)\" d=\"M2,0A2,2 0 1,1 0,-2A2,2 0 0,1 2,0Z\" style=\"opacity: 1; stroke-width: 0px; fill: rgb(0, 0, 0); fill-opacity: 1;\"/><path class=\"point\" transform=\"translate(107.67,153.05)\" d=\"M2,0A2,2 0 1,1 0,-2A2,2 0 0,1 2,0Z\" style=\"opacity: 1; stroke-width: 0px; fill: rgb(0, 0, 0); fill-opacity: 1;\"/><path class=\"point\" transform=\"translate(110.47,153.32)\" d=\"M2,0A2,2 0 1,1 0,-2A2,2 0 0,1 2,0Z\" style=\"opacity: 1; stroke-width: 0px; fill: rgb(0, 0, 0); fill-opacity: 1;\"/><path class=\"point\" transform=\"translate(113.26,92.91)\" d=\"M2,0A2,2 0 1,1 0,-2A2,2 0 0,1 2,0Z\" style=\"opacity: 1; stroke-width: 0px; fill: rgb(0, 0, 0); fill-opacity: 1;\"/><path class=\"point\" transform=\"translate(116.06,63.71)\" d=\"M2,0A2,2 0 1,1 0,-2A2,2 0 0,1 2,0Z\" style=\"opacity: 1; stroke-width: 0px; fill: rgb(0, 0, 0); fill-opacity: 1;\"/><path class=\"point\" transform=\"translate(118.86,54.66)\" d=\"M2,0A2,2 0 1,1 0,-2A2,2 0 0,1 2,0Z\" style=\"opacity: 1; stroke-width: 0px; fill: rgb(0, 0, 0); fill-opacity: 1;\"/><path class=\"point\" transform=\"translate(121.66,43.76)\" d=\"M2,0A2,2 0 1,1 0,-2A2,2 0 0,1 2,0Z\" style=\"opacity: 1; stroke-width: 0px; fill: rgb(0, 0, 0); fill-opacity: 1;\"/><path class=\"point\" transform=\"translate(124.46,39.08)\" d=\"M2,0A2,2 0 1,1 0,-2A2,2 0 0,1 2,0Z\" style=\"opacity: 1; stroke-width: 0px; fill: rgb(0, 0, 0); fill-opacity: 1;\"/><path class=\"point\" transform=\"translate(127.26,35.53)\" d=\"M2,0A2,2 0 1,1 0,-2A2,2 0 0,1 2,0Z\" style=\"opacity: 1; stroke-width: 0px; fill: rgb(0, 0, 0); fill-opacity: 1;\"/><path class=\"point\" transform=\"translate(130.06,45.21)\" d=\"M2,0A2,2 0 1,1 0,-2A2,2 0 0,1 2,0Z\" style=\"opacity: 1; stroke-width: 0px; fill: rgb(0, 0, 0); fill-opacity: 1;\"/><path class=\"point\" transform=\"translate(132.86,33.27)\" d=\"M2,0A2,2 0 1,1 0,-2A2,2 0 0,1 2,0Z\" style=\"opacity: 1; stroke-width: 0px; fill: rgb(0, 0, 0); fill-opacity: 1;\"/><path class=\"point\" transform=\"translate(135.65,30.6)\" d=\"M2,0A2,2 0 1,1 0,-2A2,2 0 0,1 2,0Z\" style=\"opacity: 1; stroke-width: 0px; fill: rgb(0, 0, 0); fill-opacity: 1;\"/><path class=\"point\" transform=\"translate(138.45,32.65)\" d=\"M2,0A2,2 0 1,1 0,-2A2,2 0 0,1 2,0Z\" style=\"opacity: 1; stroke-width: 0px; fill: rgb(0, 0, 0); fill-opacity: 1;\"/><path class=\"point\" transform=\"translate(141.25,34)\" d=\"M2,0A2,2 0 1,1 0,-2A2,2 0 0,1 2,0Z\" style=\"opacity: 1; stroke-width: 0px; fill: rgb(0, 0, 0); fill-opacity: 1;\"/><path class=\"point\" transform=\"translate(144.05,29.75)\" d=\"M2,0A2,2 0 1,1 0,-2A2,2 0 0,1 2,0Z\" style=\"opacity: 1; stroke-width: 0px; fill: rgb(0, 0, 0); fill-opacity: 1;\"/><path class=\"point\" transform=\"translate(146.85,107.43)\" d=\"M2,0A2,2 0 1,1 0,-2A2,2 0 0,1 2,0Z\" style=\"opacity: 1; stroke-width: 0px; fill: rgb(0, 0, 0); fill-opacity: 1;\"/><path class=\"point\" transform=\"translate(149.65,108.21)\" d=\"M2,0A2,2 0 1,1 0,-2A2,2 0 0,1 2,0Z\" style=\"opacity: 1; stroke-width: 0px; fill: rgb(0, 0, 0); fill-opacity: 1;\"/><path class=\"point\" transform=\"translate(152.45,140.22)\" d=\"M2,0A2,2 0 1,1 0,-2A2,2 0 0,1 2,0Z\" style=\"opacity: 1; stroke-width: 0px; fill: rgb(0, 0, 0); fill-opacity: 1;\"/><path class=\"point\" transform=\"translate(155.25,151.23)\" d=\"M2,0A2,2 0 1,1 0,-2A2,2 0 0,1 2,0Z\" style=\"opacity: 1; stroke-width: 0px; fill: rgb(0, 0, 0); fill-opacity: 1;\"/><path class=\"point\" transform=\"translate(158.04,170.63)\" d=\"M2,0A2,2 0 1,1 0,-2A2,2 0 0,1 2,0Z\" style=\"opacity: 1; stroke-width: 0px; fill: rgb(0, 0, 0); fill-opacity: 1;\"/><path class=\"point\" transform=\"translate(160.84,171.68)\" d=\"M2,0A2,2 0 1,1 0,-2A2,2 0 0,1 2,0Z\" style=\"opacity: 1; stroke-width: 0px; fill: rgb(0, 0, 0); fill-opacity: 1;\"/><path class=\"point\" transform=\"translate(163.64,175.43)\" d=\"M2,0A2,2 0 1,1 0,-2A2,2 0 0,1 2,0Z\" style=\"opacity: 1; stroke-width: 0px; fill: rgb(0, 0, 0); fill-opacity: 1;\"/><path class=\"point\" transform=\"translate(166.44,175.58)\" d=\"M2,0A2,2 0 1,1 0,-2A2,2 0 0,1 2,0Z\" style=\"opacity: 1; stroke-width: 0px; fill: rgb(0, 0, 0); fill-opacity: 1;\"/><path class=\"point\" transform=\"translate(169.24,177.13)\" d=\"M2,0A2,2 0 1,1 0,-2A2,2 0 0,1 2,0Z\" style=\"opacity: 1; stroke-width: 0px; fill: rgb(0, 0, 0); fill-opacity: 1;\"/><path class=\"point\" transform=\"translate(172.04,179.06)\" d=\"M2,0A2,2 0 1,1 0,-2A2,2 0 0,1 2,0Z\" style=\"opacity: 1; stroke-width: 0px; fill: rgb(0, 0, 0); fill-opacity: 1;\"/><path class=\"point\" transform=\"translate(174.84,154.5)\" d=\"M2,0A2,2 0 1,1 0,-2A2,2 0 0,1 2,0Z\" style=\"opacity: 1; stroke-width: 0px; fill: rgb(0, 0, 0); fill-opacity: 1;\"/><path class=\"point\" transform=\"translate(177.64,154.84)\" d=\"M2,0A2,2 0 1,1 0,-2A2,2 0 0,1 2,0Z\" style=\"opacity: 1; stroke-width: 0px; fill: rgb(0, 0, 0); fill-opacity: 1;\"/><path class=\"point\" transform=\"translate(180.44,95.55)\" d=\"M2,0A2,2 0 1,1 0,-2A2,2 0 0,1 2,0Z\" style=\"opacity: 1; stroke-width: 0px; fill: rgb(0, 0, 0); fill-opacity: 1;\"/><path class=\"point\" transform=\"translate(183.23,63.61)\" d=\"M2,0A2,2 0 1,1 0,-2A2,2 0 0,1 2,0Z\" style=\"opacity: 1; stroke-width: 0px; fill: rgb(0, 0, 0); fill-opacity: 1;\"/><path class=\"point\" transform=\"translate(186.03,54.24)\" d=\"M2,0A2,2 0 1,1 0,-2A2,2 0 0,1 2,0Z\" style=\"opacity: 1; stroke-width: 0px; fill: rgb(0, 0, 0); fill-opacity: 1;\"/><path class=\"point\" transform=\"translate(188.83,45.19)\" d=\"M2,0A2,2 0 1,1 0,-2A2,2 0 0,1 2,0Z\" style=\"opacity: 1; stroke-width: 0px; fill: rgb(0, 0, 0); fill-opacity: 1;\"/><path class=\"point\" transform=\"translate(191.63,41.93)\" d=\"M2,0A2,2 0 1,1 0,-2A2,2 0 0,1 2,0Z\" style=\"opacity: 1; stroke-width: 0px; fill: rgb(0, 0, 0); fill-opacity: 1;\"/><path class=\"point\" transform=\"translate(194.43,40.83)\" d=\"M2,0A2,2 0 1,1 0,-2A2,2 0 0,1 2,0Z\" style=\"opacity: 1; stroke-width: 0px; fill: rgb(0, 0, 0); fill-opacity: 1;\"/><path class=\"point\" transform=\"translate(197.23,50.6)\" d=\"M2,0A2,2 0 1,1 0,-2A2,2 0 0,1 2,0Z\" style=\"opacity: 1; stroke-width: 0px; fill: rgb(0, 0, 0); fill-opacity: 1;\"/><path class=\"point\" transform=\"translate(200.03,41.91)\" d=\"M2,0A2,2 0 1,1 0,-2A2,2 0 0,1 2,0Z\" style=\"opacity: 1; stroke-width: 0px; fill: rgb(0, 0, 0); fill-opacity: 1;\"/><path class=\"point\" transform=\"translate(202.83,41.81)\" d=\"M2,0A2,2 0 1,1 0,-2A2,2 0 0,1 2,0Z\" style=\"opacity: 1; stroke-width: 0px; fill: rgb(0, 0, 0); fill-opacity: 1;\"/><path class=\"point\" transform=\"translate(205.62,39.48)\" d=\"M2,0A2,2 0 1,1 0,-2A2,2 0 0,1 2,0Z\" style=\"opacity: 1; stroke-width: 0px; fill: rgb(0, 0, 0); fill-opacity: 1;\"/><path class=\"point\" transform=\"translate(208.42,32.44)\" d=\"M2,0A2,2 0 1,1 0,-2A2,2 0 0,1 2,0Z\" style=\"opacity: 1; stroke-width: 0px; fill: rgb(0, 0, 0); fill-opacity: 1;\"/><path class=\"point\" transform=\"translate(211.22,32.74)\" d=\"M2,0A2,2 0 1,1 0,-2A2,2 0 0,1 2,0Z\" style=\"opacity: 1; stroke-width: 0px; fill: rgb(0, 0, 0); fill-opacity: 1;\"/><path class=\"point\" transform=\"translate(214.02,107.06)\" d=\"M2,0A2,2 0 1,1 0,-2A2,2 0 0,1 2,0Z\" style=\"opacity: 1; stroke-width: 0px; fill: rgb(0, 0, 0); fill-opacity: 1;\"/><path class=\"point\" transform=\"translate(216.82,107.81)\" d=\"M2,0A2,2 0 1,1 0,-2A2,2 0 0,1 2,0Z\" style=\"opacity: 1; stroke-width: 0px; fill: rgb(0, 0, 0); fill-opacity: 1;\"/><path class=\"point\" transform=\"translate(219.62,144.1)\" d=\"M2,0A2,2 0 1,1 0,-2A2,2 0 0,1 2,0Z\" style=\"opacity: 1; stroke-width: 0px; fill: rgb(0, 0, 0); fill-opacity: 1;\"/><path class=\"point\" transform=\"translate(222.42,155.05)\" d=\"M2,0A2,2 0 1,1 0,-2A2,2 0 0,1 2,0Z\" style=\"opacity: 1; stroke-width: 0px; fill: rgb(0, 0, 0); fill-opacity: 1;\"/><path class=\"point\" transform=\"translate(225.22,175.45)\" d=\"M2,0A2,2 0 1,1 0,-2A2,2 0 0,1 2,0Z\" style=\"opacity: 1; stroke-width: 0px; fill: rgb(0, 0, 0); fill-opacity: 1;\"/><path class=\"point\" transform=\"translate(228.01,175.06)\" d=\"M2,0A2,2 0 1,1 0,-2A2,2 0 0,1 2,0Z\" style=\"opacity: 1; stroke-width: 0px; fill: rgb(0, 0, 0); fill-opacity: 1;\"/><path class=\"point\" transform=\"translate(230.81,177.99)\" d=\"M2,0A2,2 0 1,1 0,-2A2,2 0 0,1 2,0Z\" style=\"opacity: 1; stroke-width: 0px; fill: rgb(0, 0, 0); fill-opacity: 1;\"/><path class=\"point\" transform=\"translate(233.61,179.33)\" d=\"M2,0A2,2 0 1,1 0,-2A2,2 0 0,1 2,0Z\" style=\"opacity: 1; stroke-width: 0px; fill: rgb(0, 0, 0); fill-opacity: 1;\"/><path class=\"point\" transform=\"translate(236.41,178.79)\" d=\"M2,0A2,2 0 1,1 0,-2A2,2 0 0,1 2,0Z\" style=\"opacity: 1; stroke-width: 0px; fill: rgb(0, 0, 0); fill-opacity: 1;\"/><path class=\"point\" transform=\"translate(239.21,180.61)\" d=\"M2,0A2,2 0 1,1 0,-2A2,2 0 0,1 2,0Z\" style=\"opacity: 1; stroke-width: 0px; fill: rgb(0, 0, 0); fill-opacity: 1;\"/><path class=\"point\" transform=\"translate(242.01,155.57)\" d=\"M2,0A2,2 0 1,1 0,-2A2,2 0 0,1 2,0Z\" style=\"opacity: 1; stroke-width: 0px; fill: rgb(0, 0, 0); fill-opacity: 1;\"/><path class=\"point\" transform=\"translate(244.81,155.16)\" d=\"M2,0A2,2 0 1,1 0,-2A2,2 0 0,1 2,0Z\" style=\"opacity: 1; stroke-width: 0px; fill: rgb(0, 0, 0); fill-opacity: 1;\"/><path class=\"point\" transform=\"translate(247.61,94.72)\" d=\"M2,0A2,2 0 1,1 0,-2A2,2 0 0,1 2,0Z\" style=\"opacity: 1; stroke-width: 0px; fill: rgb(0, 0, 0); fill-opacity: 1;\"/><path class=\"point\" transform=\"translate(250.41,62.95)\" d=\"M2,0A2,2 0 1,1 0,-2A2,2 0 0,1 2,0Z\" style=\"opacity: 1; stroke-width: 0px; fill: rgb(0, 0, 0); fill-opacity: 1;\"/><path class=\"point\" transform=\"translate(253.2,53.65)\" d=\"M2,0A2,2 0 1,1 0,-2A2,2 0 0,1 2,0Z\" style=\"opacity: 1; stroke-width: 0px; fill: rgb(0, 0, 0); fill-opacity: 1;\"/><path class=\"point\" transform=\"translate(256,41.41)\" d=\"M2,0A2,2 0 1,1 0,-2A2,2 0 0,1 2,0Z\" style=\"opacity: 1; stroke-width: 0px; fill: rgb(0, 0, 0); fill-opacity: 1;\"/><path class=\"point\" transform=\"translate(258.8,34.97)\" d=\"M2,0A2,2 0 1,1 0,-2A2,2 0 0,1 2,0Z\" style=\"opacity: 1; stroke-width: 0px; fill: rgb(0, 0, 0); fill-opacity: 1;\"/><path class=\"point\" transform=\"translate(261.6,35.38)\" d=\"M2,0A2,2 0 1,1 0,-2A2,2 0 0,1 2,0Z\" style=\"opacity: 1; stroke-width: 0px; fill: rgb(0, 0, 0); fill-opacity: 1;\"/><path class=\"point\" transform=\"translate(264.4,47.39)\" d=\"M2,0A2,2 0 1,1 0,-2A2,2 0 0,1 2,0Z\" style=\"opacity: 1; stroke-width: 0px; fill: rgb(0, 0, 0); fill-opacity: 1;\"/><path class=\"point\" transform=\"translate(267.2,37.52)\" d=\"M2,0A2,2 0 1,1 0,-2A2,2 0 0,1 2,0Z\" style=\"opacity: 1; stroke-width: 0px; fill: rgb(0, 0, 0); fill-opacity: 1;\"/><path class=\"point\" transform=\"translate(270,38.36)\" d=\"M2,0A2,2 0 1,1 0,-2A2,2 0 0,1 2,0Z\" style=\"opacity: 1; stroke-width: 0px; fill: rgb(0, 0, 0); fill-opacity: 1;\"/><path class=\"point\" transform=\"translate(272.8,39.5)\" d=\"M2,0A2,2 0 1,1 0,-2A2,2 0 0,1 2,0Z\" style=\"opacity: 1; stroke-width: 0px; fill: rgb(0, 0, 0); fill-opacity: 1;\"/><path class=\"point\" transform=\"translate(275.59,35.71)\" d=\"M2,0A2,2 0 1,1 0,-2A2,2 0 0,1 2,0Z\" style=\"opacity: 1; stroke-width: 0px; fill: rgb(0, 0, 0); fill-opacity: 1;\"/><path class=\"point\" transform=\"translate(278.39,31.5)\" d=\"M2,0A2,2 0 1,1 0,-2A2,2 0 0,1 2,0Z\" style=\"opacity: 1; stroke-width: 0px; fill: rgb(0, 0, 0); fill-opacity: 1;\"/><path class=\"point\" transform=\"translate(281.19,102.88)\" d=\"M2,0A2,2 0 1,1 0,-2A2,2 0 0,1 2,0Z\" style=\"opacity: 1; stroke-width: 0px; fill: rgb(0, 0, 0); fill-opacity: 1;\"/><path class=\"point\" transform=\"translate(283.99,104.74)\" d=\"M2,0A2,2 0 1,1 0,-2A2,2 0 0,1 2,0Z\" style=\"opacity: 1; stroke-width: 0px; fill: rgb(0, 0, 0); fill-opacity: 1;\"/><path class=\"point\" transform=\"translate(286.79,143.29)\" d=\"M2,0A2,2 0 1,1 0,-2A2,2 0 0,1 2,0Z\" style=\"opacity: 1; stroke-width: 0px; fill: rgb(0, 0, 0); fill-opacity: 1;\"/><path class=\"point\" transform=\"translate(289.59,155.98)\" d=\"M2,0A2,2 0 1,1 0,-2A2,2 0 0,1 2,0Z\" style=\"opacity: 1; stroke-width: 0px; fill: rgb(0, 0, 0); fill-opacity: 1;\"/><path class=\"point\" transform=\"translate(292.39,172.51)\" d=\"M2,0A2,2 0 1,1 0,-2A2,2 0 0,1 2,0Z\" style=\"opacity: 1; stroke-width: 0px; fill: rgb(0, 0, 0); fill-opacity: 1;\"/><path class=\"point\" transform=\"translate(295.19,173.66)\" d=\"M2,0A2,2 0 1,1 0,-2A2,2 0 0,1 2,0Z\" style=\"opacity: 1; stroke-width: 0px; fill: rgb(0, 0, 0); fill-opacity: 1;\"/><path class=\"point\" transform=\"translate(297.99,178.03)\" d=\"M2,0A2,2 0 1,1 0,-2A2,2 0 0,1 2,0Z\" style=\"opacity: 1; stroke-width: 0px; fill: rgb(0, 0, 0); fill-opacity: 1;\"/><path class=\"point\" transform=\"translate(300.78,178.08)\" d=\"M2,0A2,2 0 1,1 0,-2A2,2 0 0,1 2,0Z\" style=\"opacity: 1; stroke-width: 0px; fill: rgb(0, 0, 0); fill-opacity: 1;\"/><path class=\"point\" transform=\"translate(303.58,178.82)\" d=\"M2,0A2,2 0 1,1 0,-2A2,2 0 0,1 2,0Z\" style=\"opacity: 1; stroke-width: 0px; fill: rgb(0, 0, 0); fill-opacity: 1;\"/><path class=\"point\" transform=\"translate(306.38,180.16)\" d=\"M2,0A2,2 0 1,1 0,-2A2,2 0 0,1 2,0Z\" style=\"opacity: 1; stroke-width: 0px; fill: rgb(0, 0, 0); fill-opacity: 1;\"/><path class=\"point\" transform=\"translate(309.18,155.31)\" d=\"M2,0A2,2 0 1,1 0,-2A2,2 0 0,1 2,0Z\" style=\"opacity: 1; stroke-width: 0px; fill: rgb(0, 0, 0); fill-opacity: 1;\"/><path class=\"point\" transform=\"translate(311.98,154.66)\" d=\"M2,0A2,2 0 1,1 0,-2A2,2 0 0,1 2,0Z\" style=\"opacity: 1; stroke-width: 0px; fill: rgb(0, 0, 0); fill-opacity: 1;\"/><path class=\"point\" transform=\"translate(314.78,93.12)\" d=\"M2,0A2,2 0 1,1 0,-2A2,2 0 0,1 2,0Z\" style=\"opacity: 1; stroke-width: 0px; fill: rgb(0, 0, 0); fill-opacity: 1;\"/><path class=\"point\" transform=\"translate(317.58,63.35)\" d=\"M2,0A2,2 0 1,1 0,-2A2,2 0 0,1 2,0Z\" style=\"opacity: 1; stroke-width: 0px; fill: rgb(0, 0, 0); fill-opacity: 1;\"/><path class=\"point\" transform=\"translate(320.38,52.55)\" d=\"M2,0A2,2 0 1,1 0,-2A2,2 0 0,1 2,0Z\" style=\"opacity: 1; stroke-width: 0px; fill: rgb(0, 0, 0); fill-opacity: 1;\"/><path class=\"point\" transform=\"translate(323.17,42.71)\" d=\"M2,0A2,2 0 1,1 0,-2A2,2 0 0,1 2,0Z\" style=\"opacity: 1; stroke-width: 0px; fill: rgb(0, 0, 0); fill-opacity: 1;\"/><path class=\"point\" transform=\"translate(325.97,39.08)\" d=\"M2,0A2,2 0 1,1 0,-2A2,2 0 0,1 2,0Z\" style=\"opacity: 1; stroke-width: 0px; fill: rgb(0, 0, 0); fill-opacity: 1;\"/><path class=\"point\" transform=\"translate(328.77,37.59)\" d=\"M2,0A2,2 0 1,1 0,-2A2,2 0 0,1 2,0Z\" style=\"opacity: 1; stroke-width: 0px; fill: rgb(0, 0, 0); fill-opacity: 1;\"/><path class=\"point\" transform=\"translate(331.57,44.9)\" d=\"M2,0A2,2 0 1,1 0,-2A2,2 0 0,1 2,0Z\" style=\"opacity: 1; stroke-width: 0px; fill: rgb(0, 0, 0); fill-opacity: 1;\"/><path class=\"point\" transform=\"translate(334.37,33.99)\" d=\"M2,0A2,2 0 1,1 0,-2A2,2 0 0,1 2,0Z\" style=\"opacity: 1; stroke-width: 0px; fill: rgb(0, 0, 0); fill-opacity: 1;\"/><path class=\"point\" transform=\"translate(337.17,38.05)\" d=\"M2,0A2,2 0 1,1 0,-2A2,2 0 0,1 2,0Z\" style=\"opacity: 1; stroke-width: 0px; fill: rgb(0, 0, 0); fill-opacity: 1;\"/><path class=\"point\" transform=\"translate(339.97,41.62)\" d=\"M2,0A2,2 0 1,1 0,-2A2,2 0 0,1 2,0Z\" style=\"opacity: 1; stroke-width: 0px; fill: rgb(0, 0, 0); fill-opacity: 1;\"/><path class=\"point\" transform=\"translate(342.77,37.03)\" d=\"M2,0A2,2 0 1,1 0,-2A2,2 0 0,1 2,0Z\" style=\"opacity: 1; stroke-width: 0px; fill: rgb(0, 0, 0); fill-opacity: 1;\"/><path class=\"point\" transform=\"translate(345.56,31.59)\" d=\"M2,0A2,2 0 1,1 0,-2A2,2 0 0,1 2,0Z\" style=\"opacity: 1; stroke-width: 0px; fill: rgb(0, 0, 0); fill-opacity: 1;\"/><path class=\"point\" transform=\"translate(348.36,106.68)\" d=\"M2,0A2,2 0 1,1 0,-2A2,2 0 0,1 2,0Z\" style=\"opacity: 1; stroke-width: 0px; fill: rgb(0, 0, 0); fill-opacity: 1;\"/><path class=\"point\" transform=\"translate(351.16,109.06)\" d=\"M2,0A2,2 0 1,1 0,-2A2,2 0 0,1 2,0Z\" style=\"opacity: 1; stroke-width: 0px; fill: rgb(0, 0, 0); fill-opacity: 1;\"/><path class=\"point\" transform=\"translate(353.96,145.44)\" d=\"M2,0A2,2 0 1,1 0,-2A2,2 0 0,1 2,0Z\" style=\"opacity: 1; stroke-width: 0px; fill: rgb(0, 0, 0); fill-opacity: 1;\"/><path class=\"point\" transform=\"translate(356.76,156.48)\" d=\"M2,0A2,2 0 1,1 0,-2A2,2 0 0,1 2,0Z\" style=\"opacity: 1; stroke-width: 0px; fill: rgb(0, 0, 0); fill-opacity: 1;\"/><path class=\"point\" transform=\"translate(359.56,175.04)\" d=\"M2,0A2,2 0 1,1 0,-2A2,2 0 0,1 2,0Z\" style=\"opacity: 1; stroke-width: 0px; fill: rgb(0, 0, 0); fill-opacity: 1;\"/><path class=\"point\" transform=\"translate(362.36,174.87)\" d=\"M2,0A2,2 0 1,1 0,-2A2,2 0 0,1 2,0Z\" style=\"opacity: 1; stroke-width: 0px; fill: rgb(0, 0, 0); fill-opacity: 1;\"/><path class=\"point\" transform=\"translate(365.16,178.73)\" d=\"M2,0A2,2 0 1,1 0,-2A2,2 0 0,1 2,0Z\" style=\"opacity: 1; stroke-width: 0px; fill: rgb(0, 0, 0); fill-opacity: 1;\"/><path class=\"point\" transform=\"translate(367.96,177.96)\" d=\"M2,0A2,2 0 1,1 0,-2A2,2 0 0,1 2,0Z\" style=\"opacity: 1; stroke-width: 0px; fill: rgb(0, 0, 0); fill-opacity: 1;\"/><path class=\"point\" transform=\"translate(370.75,180.04)\" d=\"M2,0A2,2 0 1,1 0,-2A2,2 0 0,1 2,0Z\" style=\"opacity: 1; stroke-width: 0px; fill: rgb(0, 0, 0); fill-opacity: 1;\"/><path class=\"point\" transform=\"translate(373.55,180.34)\" d=\"M2,0A2,2 0 1,1 0,-2A2,2 0 0,1 2,0Z\" style=\"opacity: 1; stroke-width: 0px; fill: rgb(0, 0, 0); fill-opacity: 1;\"/><path class=\"point\" transform=\"translate(376.35,176.4)\" d=\"M2,0A2,2 0 1,1 0,-2A2,2 0 0,1 2,0Z\" style=\"opacity: 1; stroke-width: 0px; fill: rgb(0, 0, 0); fill-opacity: 1;\"/><path class=\"point\" transform=\"translate(379.15,177.89)\" d=\"M2,0A2,2 0 1,1 0,-2A2,2 0 0,1 2,0Z\" style=\"opacity: 1; stroke-width: 0px; fill: rgb(0, 0, 0); fill-opacity: 1;\"/><path class=\"point\" transform=\"translate(381.95,159.14)\" d=\"M2,0A2,2 0 1,1 0,-2A2,2 0 0,1 2,0Z\" style=\"opacity: 1; stroke-width: 0px; fill: rgb(0, 0, 0); fill-opacity: 1;\"/><path class=\"point\" transform=\"translate(384.75,129.47)\" d=\"M2,0A2,2 0 1,1 0,-2A2,2 0 0,1 2,0Z\" style=\"opacity: 1; stroke-width: 0px; fill: rgb(0, 0, 0); fill-opacity: 1;\"/><path class=\"point\" transform=\"translate(387.55,125.66)\" d=\"M2,0A2,2 0 1,1 0,-2A2,2 0 0,1 2,0Z\" style=\"opacity: 1; stroke-width: 0px; fill: rgb(0, 0, 0); fill-opacity: 1;\"/><path class=\"point\" transform=\"translate(390.35,94.92)\" d=\"M2,0A2,2 0 1,1 0,-2A2,2 0 0,1 2,0Z\" style=\"opacity: 1; stroke-width: 0px; fill: rgb(0, 0, 0); fill-opacity: 1;\"/><path class=\"point\" transform=\"translate(393.14,90.72)\" d=\"M2,0A2,2 0 1,1 0,-2A2,2 0 0,1 2,0Z\" style=\"opacity: 1; stroke-width: 0px; fill: rgb(0, 0, 0); fill-opacity: 1;\"/><path class=\"point\" transform=\"translate(395.94,89.26)\" d=\"M2,0A2,2 0 1,1 0,-2A2,2 0 0,1 2,0Z\" style=\"opacity: 1; stroke-width: 0px; fill: rgb(0, 0, 0); fill-opacity: 1;\"/><path class=\"point\" transform=\"translate(398.74,99.68)\" d=\"M2,0A2,2 0 1,1 0,-2A2,2 0 0,1 2,0Z\" style=\"opacity: 1; stroke-width: 0px; fill: rgb(0, 0, 0); fill-opacity: 1;\"/><path class=\"point\" transform=\"translate(401.54,100.91)\" d=\"M2,0A2,2 0 1,1 0,-2A2,2 0 0,1 2,0Z\" style=\"opacity: 1; stroke-width: 0px; fill: rgb(0, 0, 0); fill-opacity: 1;\"/><path class=\"point\" transform=\"translate(404.34,100.47)\" d=\"M2,0A2,2 0 1,1 0,-2A2,2 0 0,1 2,0Z\" style=\"opacity: 1; stroke-width: 0px; fill: rgb(0, 0, 0); fill-opacity: 1;\"/><path class=\"point\" transform=\"translate(407.14,121.49)\" d=\"M2,0A2,2 0 1,1 0,-2A2,2 0 0,1 2,0Z\" style=\"opacity: 1; stroke-width: 0px; fill: rgb(0, 0, 0); fill-opacity: 1;\"/><path class=\"point\" transform=\"translate(409.94,118.97)\" d=\"M2,0A2,2 0 1,1 0,-2A2,2 0 0,1 2,0Z\" style=\"opacity: 1; stroke-width: 0px; fill: rgb(0, 0, 0); fill-opacity: 1;\"/><path class=\"point\" transform=\"translate(412.74,127.42)\" d=\"M2,0A2,2 0 1,1 0,-2A2,2 0 0,1 2,0Z\" style=\"opacity: 1; stroke-width: 0px; fill: rgb(0, 0, 0); fill-opacity: 1;\"/><path class=\"point\" transform=\"translate(415.53,138.47)\" d=\"M2,0A2,2 0 1,1 0,-2A2,2 0 0,1 2,0Z\" style=\"opacity: 1; stroke-width: 0px; fill: rgb(0, 0, 0); fill-opacity: 1;\"/><path class=\"point\" transform=\"translate(418.33,139.65)\" d=\"M2,0A2,2 0 1,1 0,-2A2,2 0 0,1 2,0Z\" style=\"opacity: 1; stroke-width: 0px; fill: rgb(0, 0, 0); fill-opacity: 1;\"/><path class=\"point\" transform=\"translate(421.13,169.9)\" d=\"M2,0A2,2 0 1,1 0,-2A2,2 0 0,1 2,0Z\" style=\"opacity: 1; stroke-width: 0px; fill: rgb(0, 0, 0); fill-opacity: 1;\"/><path class=\"point\" transform=\"translate(423.93,170.91)\" d=\"M2,0A2,2 0 1,1 0,-2A2,2 0 0,1 2,0Z\" style=\"opacity: 1; stroke-width: 0px; fill: rgb(0, 0, 0); fill-opacity: 1;\"/><path class=\"point\" transform=\"translate(426.73,173.66)\" d=\"M2,0A2,2 0 1,1 0,-2A2,2 0 0,1 2,0Z\" style=\"opacity: 1; stroke-width: 0px; fill: rgb(0, 0, 0); fill-opacity: 1;\"/><path class=\"point\" transform=\"translate(429.53,173.43)\" d=\"M2,0A2,2 0 1,1 0,-2A2,2 0 0,1 2,0Z\" style=\"opacity: 1; stroke-width: 0px; fill: rgb(0, 0, 0); fill-opacity: 1;\"/><path class=\"point\" transform=\"translate(432.33,180.17)\" d=\"M2,0A2,2 0 1,1 0,-2A2,2 0 0,1 2,0Z\" style=\"opacity: 1; stroke-width: 0px; fill: rgb(0, 0, 0); fill-opacity: 1;\"/><path class=\"point\" transform=\"translate(435.13,180.97)\" d=\"M2,0A2,2 0 1,1 0,-2A2,2 0 0,1 2,0Z\" style=\"opacity: 1; stroke-width: 0px; fill: rgb(0, 0, 0); fill-opacity: 1;\"/><path class=\"point\" transform=\"translate(437.93,181.57)\" d=\"M2,0A2,2 0 1,1 0,-2A2,2 0 0,1 2,0Z\" style=\"opacity: 1; stroke-width: 0px; fill: rgb(0, 0, 0); fill-opacity: 1;\"/><path class=\"point\" transform=\"translate(440.72,181.36)\" d=\"M2,0A2,2 0 1,1 0,-2A2,2 0 0,1 2,0Z\" style=\"opacity: 1; stroke-width: 0px; fill: rgb(0, 0, 0); fill-opacity: 1;\"/><path class=\"point\" transform=\"translate(443.52,178.74)\" d=\"M2,0A2,2 0 1,1 0,-2A2,2 0 0,1 2,0Z\" style=\"opacity: 1; stroke-width: 0px; fill: rgb(0, 0, 0); fill-opacity: 1;\"/><path class=\"point\" transform=\"translate(446.32,179.58)\" d=\"M2,0A2,2 0 1,1 0,-2A2,2 0 0,1 2,0Z\" style=\"opacity: 1; stroke-width: 0px; fill: rgb(0, 0, 0); fill-opacity: 1;\"/><path class=\"point\" transform=\"translate(449.12,159.92)\" d=\"M2,0A2,2 0 1,1 0,-2A2,2 0 0,1 2,0Z\" style=\"opacity: 1; stroke-width: 0px; fill: rgb(0, 0, 0); fill-opacity: 1;\"/><path class=\"point\" transform=\"translate(451.92,160.78)\" d=\"M2,0A2,2 0 1,1 0,-2A2,2 0 0,1 2,0Z\" style=\"opacity: 1; stroke-width: 0px; fill: rgb(0, 0, 0); fill-opacity: 1;\"/><path class=\"point\" transform=\"translate(454.72,139.3)\" d=\"M2,0A2,2 0 1,1 0,-2A2,2 0 0,1 2,0Z\" style=\"opacity: 1; stroke-width: 0px; fill: rgb(0, 0, 0); fill-opacity: 1;\"/><path class=\"point\" transform=\"translate(457.52,140.44)\" d=\"M2,0A2,2 0 1,1 0,-2A2,2 0 0,1 2,0Z\" style=\"opacity: 1; stroke-width: 0px; fill: rgb(0, 0, 0); fill-opacity: 1;\"/><path class=\"point\" transform=\"translate(460.32,137.49)\" d=\"M2,0A2,2 0 1,1 0,-2A2,2 0 0,1 2,0Z\" style=\"opacity: 1; stroke-width: 0px; fill: rgb(0, 0, 0); fill-opacity: 1;\"/><path class=\"point\" transform=\"translate(463.11,136.54)\" d=\"M2,0A2,2 0 1,1 0,-2A2,2 0 0,1 2,0Z\" style=\"opacity: 1; stroke-width: 0px; fill: rgb(0, 0, 0); fill-opacity: 1;\"/><path class=\"point\" transform=\"translate(465.91,136)\" d=\"M2,0A2,2 0 1,1 0,-2A2,2 0 0,1 2,0Z\" style=\"opacity: 1; stroke-width: 0px; fill: rgb(0, 0, 0); fill-opacity: 1;\"/><path class=\"point\" transform=\"translate(468.71,137.56)\" d=\"M2,0A2,2 0 1,1 0,-2A2,2 0 0,1 2,0Z\" style=\"opacity: 1; stroke-width: 0px; fill: rgb(0, 0, 0); fill-opacity: 1;\"/><path class=\"point\" transform=\"translate(471.51,137.44)\" d=\"M2,0A2,2 0 1,1 0,-2A2,2 0 0,1 2,0Z\" style=\"opacity: 1; stroke-width: 0px; fill: rgb(0, 0, 0); fill-opacity: 1;\"/><path class=\"point\" transform=\"translate(474.31,137.44)\" d=\"M2,0A2,2 0 1,1 0,-2A2,2 0 0,1 2,0Z\" style=\"opacity: 1; stroke-width: 0px; fill: rgb(0, 0, 0); fill-opacity: 1;\"/><path class=\"point\" transform=\"translate(477.11,143.84)\" d=\"M2,0A2,2 0 1,1 0,-2A2,2 0 0,1 2,0Z\" style=\"opacity: 1; stroke-width: 0px; fill: rgb(0, 0, 0); fill-opacity: 1;\"/><path class=\"point\" transform=\"translate(479.91,155.46)\" d=\"M2,0A2,2 0 1,1 0,-2A2,2 0 0,1 2,0Z\" style=\"opacity: 1; stroke-width: 0px; fill: rgb(0, 0, 0); fill-opacity: 1;\"/><path class=\"point\" transform=\"translate(482.71,164.48)\" d=\"M2,0A2,2 0 1,1 0,-2A2,2 0 0,1 2,0Z\" style=\"opacity: 1; stroke-width: 0px; fill: rgb(0, 0, 0); fill-opacity: 1;\"/><path class=\"point\" transform=\"translate(485.5,165.74)\" d=\"M2,0A2,2 0 1,1 0,-2A2,2 0 0,1 2,0Z\" style=\"opacity: 1; stroke-width: 0px; fill: rgb(0, 0, 0); fill-opacity: 1;\"/><path class=\"point\" transform=\"translate(488.3,170.6)\" d=\"M2,0A2,2 0 1,1 0,-2A2,2 0 0,1 2,0Z\" style=\"opacity: 1; stroke-width: 0px; fill: rgb(0, 0, 0); fill-opacity: 1;\"/><path class=\"point\" transform=\"translate(491.1,170.13)\" d=\"M2,0A2,2 0 1,1 0,-2A2,2 0 0,1 2,0Z\" style=\"opacity: 1; stroke-width: 0px; fill: rgb(0, 0, 0); fill-opacity: 1;\"/><path class=\"point\" transform=\"translate(493.9,174.26)\" d=\"M2,0A2,2 0 1,1 0,-2A2,2 0 0,1 2,0Z\" style=\"opacity: 1; stroke-width: 0px; fill: rgb(0, 0, 0); fill-opacity: 1;\"/><path class=\"point\" transform=\"translate(496.7,173.81)\" d=\"M2,0A2,2 0 1,1 0,-2A2,2 0 0,1 2,0Z\" style=\"opacity: 1; stroke-width: 0px; fill: rgb(0, 0, 0); fill-opacity: 1;\"/></g><g class=\"text\"/></g></g></g><g class=\"overplot\"/><path class=\"xlines-above crisp\" d=\"M50.5,287.75H579.5M50.5,23.25H579.5\" style=\"fill: none; stroke-width: 1.5px; stroke: rgb(235, 240, 248); stroke-opacity: 1;\"/><path class=\"ylines-above crisp\" d=\"M51.25,24V287M578.75,24V287\" style=\"fill: none; stroke-width: 1.5px; stroke: rgb(235, 240, 248); stroke-opacity: 1;\"/><g class=\"overlines-above\"/><g class=\"xaxislayer-above\"><g class=\"xtick\"><text text-anchor=\"middle\" x=\"0\" y=\"300.5\" transform=\"translate(78.5,0)\" style=\"font-family: 'Open Sans', verdana, arial, sans-serif; font-size: 10px; fill: rgb(42, 63, 95); fill-opacity: 1; white-space: pre; opacity: 1;\"><tspan class=\"line\" dy=\"0em\" x=\"0\" y=\"300.5\">Dec 25</tspan><tspan class=\"line\" dy=\"1.3em\" x=\"0\" y=\"300.5\">2015</tspan></text></g><g class=\"xtick\"><text text-anchor=\"middle\" x=\"0\" y=\"300.5\" style=\"font-family: 'Open Sans', verdana, arial, sans-serif; font-size: 10px; fill: rgb(42, 63, 95); fill-opacity: 1; white-space: pre; opacity: 1;\" transform=\"translate(212.84,0)\">Dec 27</text></g><g class=\"xtick\"><text text-anchor=\"middle\" x=\"0\" y=\"300.5\" style=\"font-family: 'Open Sans', verdana, arial, sans-serif; font-size: 10px; fill: rgb(42, 63, 95); fill-opacity: 1; white-space: pre; opacity: 1;\" transform=\"translate(347.19,0)\">Dec 29</text></g><g class=\"xtick\"><text text-anchor=\"middle\" x=\"0\" y=\"300.5\" style=\"font-family: 'Open Sans', verdana, arial, sans-serif; font-size: 10px; fill: rgb(42, 63, 95); fill-opacity: 1; white-space: pre; opacity: 1;\" transform=\"translate(481.53,0)\">Dec 31</text></g></g><g class=\"yaxislayer-above\"><g class=\"ytick\"><text text-anchor=\"end\" x=\"48.5\" y=\"3.5\" transform=\"translate(0,255.89)\" style=\"font-family: 'Open Sans', verdana, arial, sans-serif; font-size: 10px; fill: rgb(42, 63, 95); fill-opacity: 1; white-space: pre; opacity: 1;\">600</text></g><g class=\"ytick\"><text text-anchor=\"end\" x=\"48.5\" y=\"3.5\" style=\"font-family: 'Open Sans', verdana, arial, sans-serif; font-size: 10px; fill: rgb(42, 63, 95); fill-opacity: 1; white-space: pre; opacity: 1;\" transform=\"translate(0,202.01)\">800</text></g><g class=\"ytick\"><text text-anchor=\"end\" x=\"48.5\" y=\"3.5\" style=\"font-family: 'Open Sans', verdana, arial, sans-serif; font-size: 10px; fill: rgb(42, 63, 95); fill-opacity: 1; white-space: pre; opacity: 1;\" transform=\"translate(0,148.13)\">1000</text></g><g class=\"ytick\"><text text-anchor=\"end\" x=\"48.5\" y=\"3.5\" style=\"font-family: 'Open Sans', verdana, arial, sans-serif; font-size: 10px; fill: rgb(42, 63, 95); fill-opacity: 1; white-space: pre; opacity: 1;\" transform=\"translate(0,94.26)\">1200</text></g><g class=\"ytick\"><text text-anchor=\"end\" x=\"48.5\" y=\"3.5\" style=\"font-family: 'Open Sans', verdana, arial, sans-serif; font-size: 10px; fill: rgb(42, 63, 95); fill-opacity: 1; white-space: pre; opacity: 1;\" transform=\"translate(0,40.379999999999995)\">1400</text></g></g><g class=\"overaxes-above\"/></g></g><g class=\"polarlayer\"/><g class=\"smithlayer\"/><g class=\"ternarylayer\"/><g class=\"geolayer\"/><g class=\"funnelarealayer\"/><g class=\"pielayer\"/><g class=\"iciclelayer\"/><g class=\"treemaplayer\"/><g class=\"sunburstlayer\"/><g class=\"glimages\"/><defs id=\"topdefs-655a2e\"><g class=\"clips\"/><clipPath id=\"legend655a2e\"><rect width=\"111\" height=\"105\" x=\"0\" y=\"0\"/></clipPath><clipPath id=\"rangesliderx-655a2e\"><rect x=\"0\" y=\"0\" width=\"526\" height=\"61.5\"/></clipPath></defs><g class=\"layer-above\"><g class=\"imagelayer\"/><g class=\"shapelayer\"/></g><g class=\"infolayer\"><g class=\"legend\" pointer-events=\"all\" transform=\"translate(588.52,24)\"><rect class=\"bg\" shape-rendering=\"crispEdges\" style=\"stroke: rgb(68, 68, 68); stroke-opacity: 1; fill: rgb(255, 255, 255); fill-opacity: 1; stroke-width: 0px;\" width=\"111\" height=\"105\" x=\"0\" y=\"0\"/><g class=\"scrollbox\" transform=\"\" clip-path=\"url(#legend655a2e)\"><g class=\"groups\"><g class=\"traces\" transform=\"translate(0,14.5)\" style=\"opacity: 1;\"><text class=\"legendtext\" text-anchor=\"start\" x=\"40\" y=\"3.9\" style=\"font-family: 'Open Sans', verdana, arial, sans-serif; font-size: 10px; fill: rgb(42, 63, 95); fill-opacity: 1; white-space: pre;\">Actual</text><g class=\"layers\" style=\"opacity: 1;\"><g class=\"legendfill\"/><g class=\"legendlines\"/><g class=\"legendsymbols\"><g class=\"legendpoints\"><path class=\"scatterpts\" transform=\"translate(20,0)\" d=\"M2,0A2,2 0 1,1 0,-2A2,2 0 0,1 2,0Z\" style=\"opacity: 1; stroke-width: 0px; fill: rgb(0, 0, 0); fill-opacity: 1;\"/></g></g></g><rect class=\"legendtoggle\" x=\"0\" y=\"-9.5\" width=\"105.78125\" height=\"19\" style=\"fill: rgb(0, 0, 0); fill-opacity: 0;\"/></g><g class=\"traces\" transform=\"translate(0,33.5)\" style=\"opacity: 1;\"><text class=\"legendtext\" text-anchor=\"start\" x=\"40\" y=\"3.9\" style=\"font-family: 'Open Sans', verdana, arial, sans-serif; font-size: 10px; fill: rgb(42, 63, 95); fill-opacity: 1; white-space: pre;\">Predicted</text><g class=\"layers\" style=\"opacity: 1;\"><g class=\"legendfill\"/><g class=\"legendlines\"/><g class=\"legendsymbols\"><g class=\"legendpoints\"><path class=\"scatterpts\" transform=\"translate(20,0)\" d=\"M0,1.13l1.13,1.13l1.13,-1.13l-1.13,-1.13l1.13,-1.13l-1.13,-1.13l-1.13,1.13l-1.13,-1.13l-1.13,1.13l1.13,1.13l-1.13,1.13l1.13,1.13Z\" style=\"opacity: 1; stroke-width: 0px; fill: rgb(0, 0, 255); fill-opacity: 1;\"/></g></g></g><rect class=\"legendtoggle\" x=\"0\" y=\"-9.5\" width=\"105.78125\" height=\"19\" style=\"fill: rgb(0, 0, 0); fill-opacity: 0;\"/></g><g class=\"traces\" transform=\"translate(0,52.5)\" style=\"opacity: 1;\"><text class=\"legendtext\" text-anchor=\"start\" x=\"40\" y=\"3.9\" style=\"font-family: 'Open Sans', verdana, arial, sans-serif; font-size: 10px; fill: rgb(42, 63, 95); fill-opacity: 1; white-space: pre;\">Predicted</text><g class=\"layers\" style=\"opacity: 1;\"><g class=\"legendfill\"/><g class=\"legendlines\"><path class=\"js-line\" d=\"M5,0h30\" style=\"fill: none; stroke: rgb(45, 146, 255); stroke-opacity: 1; stroke-width: 2px;\"/></g><g class=\"legendsymbols\"><g class=\"legendpoints\"/></g></g><rect class=\"legendtoggle\" x=\"0\" y=\"-9.5\" width=\"105.78125\" height=\"19\" style=\"fill: rgb(0, 0, 0); fill-opacity: 0;\"/></g><g class=\"traces\" transform=\"translate(0,71.5)\" style=\"opacity: 1;\"><text class=\"legendtext\" text-anchor=\"start\" x=\"40\" y=\"3.9\" style=\"font-family: 'Open Sans', verdana, arial, sans-serif; font-size: 10px; fill: rgb(42, 63, 95); fill-opacity: 1; white-space: pre;\">yhat1 95.0%</text><g class=\"layers\"><g class=\"legendfill\"><path class=\"js-fill\" d=\"M5,-2h30v6h-30z\" style=\"stroke-width: 0; fill: rgb(45, 146, 255); fill-opacity: 0.2;\"/></g><g class=\"legendlines\"><path class=\"js-line\" d=\"M5,-2h30\" style=\"fill: none; stroke: rgb(45, 146, 255); stroke-opacity: 0.2; stroke-width: 1px;\"/></g><g class=\"legendsymbols\"><g class=\"legendpoints\"/></g></g><rect class=\"legendtoggle\" x=\"0\" y=\"-9.5\" width=\"105.78125\" height=\"19\" style=\"fill: rgb(0, 0, 0); fill-opacity: 0;\"/></g><g class=\"traces\" transform=\"translate(0,90.5)\" style=\"opacity: 1;\"><text class=\"legendtext\" text-anchor=\"start\" x=\"40\" y=\"3.9\" style=\"font-family: 'Open Sans', verdana, arial, sans-serif; font-size: 10px; fill: rgb(42, 63, 95); fill-opacity: 1; white-space: pre;\">yhat1 5.0%</text><g class=\"layers\"><g class=\"legendfill\"/><g class=\"legendlines\"><path class=\"js-line\" d=\"M5,0h30\" style=\"fill: none; stroke: rgb(45, 146, 255); stroke-opacity: 0.2; stroke-width: 1px;\"/></g><g class=\"legendsymbols\"><g class=\"legendpoints\"/></g></g><rect class=\"legendtoggle\" x=\"0\" y=\"-9.5\" width=\"105.78125\" height=\"19\" style=\"fill: rgb(0, 0, 0); fill-opacity: 0;\"/></g></g></g><rect class=\"scrollbar\" rx=\"20\" ry=\"3\" width=\"0\" height=\"0\" style=\"fill: rgb(128, 139, 164); fill-opacity: 1;\" x=\"0\" y=\"0\"/></g><g class=\"rangeselector\" transform=\"\" style=\"cursor: pointer; pointer-events: all;\"><g class=\"button\" transform=\"\"><rect class=\"selector-rect\" shape-rendering=\"crispEdges\" rx=\"3\" ry=\"3\" style=\"stroke: rgb(68, 68, 68); stroke-opacity: 1; fill: rgb(238, 238, 238); fill-opacity: 1; stroke-width: 0px;\" x=\"0\" y=\"0\" width=\"30\" height=\"19\"/><text class=\"selector-text\" text-anchor=\"middle\" x=\"15\" y=\"12.5\" style=\"font-family: 'Open Sans', verdana, arial, sans-serif; font-size: 10px; fill: rgb(42, 63, 95); fill-opacity: 1; white-space: pre;\">1w</text></g><g class=\"button\" transform=\"translate(35,0)\"><rect class=\"selector-rect\" shape-rendering=\"crispEdges\" rx=\"3\" ry=\"3\" style=\"stroke: rgb(68, 68, 68); stroke-opacity: 1; fill: rgb(238, 238, 238); fill-opacity: 1; stroke-width: 0px;\" x=\"0\" y=\"0\" width=\"30\" height=\"19\"/><text class=\"selector-text\" text-anchor=\"middle\" x=\"15\" y=\"12.5\" style=\"font-family: 'Open Sans', verdana, arial, sans-serif; font-size: 10px; fill: rgb(42, 63, 95); fill-opacity: 1; white-space: pre;\">1m</text></g><g class=\"button\" transform=\"translate(70,0)\"><rect class=\"selector-rect\" shape-rendering=\"crispEdges\" rx=\"3\" ry=\"3\" style=\"stroke: rgb(68, 68, 68); stroke-opacity: 1; fill: rgb(238, 238, 238); fill-opacity: 1; stroke-width: 0px;\" x=\"0\" y=\"0\" width=\"30\" height=\"19\"/><text class=\"selector-text\" text-anchor=\"middle\" x=\"15\" y=\"12.5\" style=\"font-family: 'Open Sans', verdana, arial, sans-serif; font-size: 10px; fill: rgb(42, 63, 95); fill-opacity: 1; white-space: pre;\">6m</text></g><g class=\"button\" transform=\"translate(105,0)\"><rect class=\"selector-rect\" shape-rendering=\"crispEdges\" rx=\"3\" ry=\"3\" style=\"stroke: rgb(68, 68, 68); stroke-opacity: 1; fill: rgb(238, 238, 238); fill-opacity: 1; stroke-width: 0px;\" x=\"0\" y=\"0\" width=\"30\" height=\"19\"/><text class=\"selector-text\" text-anchor=\"middle\" x=\"15\" y=\"12.5\" style=\"font-family: 'Open Sans', verdana, arial, sans-serif; font-size: 10px; fill: rgb(42, 63, 95); fill-opacity: 1; white-space: pre;\">1y</text></g><g class=\"button\" transform=\"translate(140,0)\"><rect class=\"selector-rect\" shape-rendering=\"crispEdges\" rx=\"3\" ry=\"3\" style=\"stroke: rgb(68, 68, 68); stroke-opacity: 1; fill: rgb(212, 212, 212); fill-opacity: 1; stroke-width: 0px;\" x=\"0\" y=\"0\" width=\"30\" height=\"19\"/><text class=\"selector-text\" text-anchor=\"middle\" x=\"15\" y=\"12.5\" style=\"font-family: 'Open Sans', verdana, arial, sans-serif; font-size: 10px; fill: rgb(42, 63, 95); fill-opacity: 1; white-space: pre;\">all</text></g></g><g class=\"g-gtitle\"/><g class=\"rangeslider-container\" pointer-events=\"all\" transform=\"translate(52,331)\"><rect class=\"rangeslider-bg\" x=\"0\" y=\"0\" shape-rendering=\"crispEdges\" width=\"526\" height=\"61.5\" transform=\"\" stroke-width=\"0\" style=\"stroke: rgb(68, 68, 68); stroke-opacity: 1; fill: rgb(255, 255, 255); fill-opacity: 1;\"/><g class=\"rangeslider-rangeplot xy\" clip-path=\"url(#rangesliderx-655a2e)\"><g class=\"layer-subplot\"><g class=\"shapelayer\"/><g class=\"imagelayer\"/></g><g class=\"minor-gridlayer\"><g class=\"x\"/><g class=\"y\"/></g><g class=\"gridlayer\"><g class=\"x\"/><g class=\"y\"/></g><g class=\"zerolinelayer\"/><g class=\"layer-between\"><g class=\"shapelayer\"/><g class=\"imagelayer\"/></g><path class=\"xlines-below\"/><path class=\"ylines-below\"/><g class=\"overlines-below\"/><g class=\"xaxislayer-below\"/><g class=\"yaxislayer-below\"/><g class=\"overaxes-below\"/><g class=\"plot\"><g class=\"scatterlayer mlayer rangeplot\"><g class=\"trace scatter trace5f8bb1\" style=\"stroke-miterlimit: 2;\"><g class=\"fills\"><g><path class=\"js-fill\" d=\"M29.3,32.83L32.1,32.24L34.9,32.53L37.7,31.23L40.5,25.35L46.09,9.87L48.89,6.36L51.69,5.16L54.49,4.8L65.68,5.64L68.48,4.8L71.28,3.75L74.08,4.17L76.88,8.49L79.68,16.18L82.48,23.32L85.28,26.45L96.47,28.3L99.27,27.98L102.07,28.6L104.87,27.51L107.67,22.16L110.47,13.99L113.26,7.29L116.06,4.11L121.66,3.1L124.46,3.72L130.06,5.14L132.86,4.9L138.45,3.6L141.25,4.18L144.05,8.66L146.85,16.45L149.65,24.07L152.45,27.22L158.04,28.42L160.84,29.33L169.24,29.55L172.04,28.68L174.84,23.2L177.64,15.09L180.44,8.37L183.23,5.09L188.83,4.04L191.63,4.6L197.23,5.99L200.03,5.8L205.62,4.35L208.42,4.85L211.22,9.22L214.02,17.12L216.82,24.23L219.62,27.67L230.81,29.51L233.61,29.23L236.41,29.76L239.21,28.77L242.01,23.36L244.81,15.07L247.61,8.43L250.41,5.07L253.2,4.09L256,3.97L267.2,5.41L270,4.75L272.8,3.85L275.59,4.35L278.39,8.71L281.19,16.44L283.99,23.89L286.79,26.84L297.99,28.73L300.78,28.33L303.58,28.91L306.38,28.06L309.18,22.46L311.98,14.28L314.78,7.67L317.58,4.44L320.38,3.58L323.17,3.53L331.57,5.68L334.37,5.57L339.97,4.37L342.77,5.1L345.56,9.67L348.36,17.73L351.16,25.16L353.96,28.61L365.16,31.66L367.96,31.71L370.75,32.63L373.55,31.8L376.35,26.73L379.15,18.82L381.95,12.42L384.75,9.53L390.35,9.11L393.14,9.97L398.74,11.79L401.54,11.96L407.14,10.95L409.94,11.75L412.74,16.29L415.53,24.38L418.33,32.12L421.13,35.3L432.33,37.57L435.13,37.36L437.93,37.92L440.72,36.9L443.52,31.47L446.32,23.16L449.12,16.38L451.92,12.96L457.52,11.58L460.32,11.93L465.91,12.81L468.71,12.32L474.31,10.35L477.11,10.56L479.91,14.67L482.71,22.13L485.5,29.05L488.3,32.07L493.9,32.55L496.7,33.15L496.7,55.07L493.9,55.41L491.1,54.92L485.5,49.77L482.71,47.21L477.11,41.15L474.31,38.45L471.51,37.64L468.71,37.7L463.11,36.69L460.32,36.39L454.72,36.93L451.92,38.92L446.32,49.12L443.52,53.86L440.72,56.99L437.93,58.59L426.73,57.35L423.93,56.12L421.13,53.16L418.33,49.58L409.94,38.41L407.14,34.82L404.34,33.25L401.54,32.65L395.94,30.23L393.14,29.26L387.55,28.65L384.75,30.12L379.15,39.29L376.35,43.67L373.55,46.4L370.75,47.83L359.56,46.07L356.76,44.78L353.96,41.79L351.16,38.21L342.77,27.86L339.97,24.57L337.17,23.33L334.37,23.08L328.77,21.49L325.97,20.99L320.38,21.32L317.58,23.28L311.98,33.44L309.18,38.31L306.38,41.72L303.58,43.48L292.39,43.57L289.59,42.74L286.79,40.12L283.99,36.99L275.59,27.37L272.8,24.38L270,23.3L267.2,23.24L261.6,21.89L258.8,21.47L253.2,21.92L250.41,23.88L244.81,34.13L242.01,38.96L239.21,42.15L236.41,43.93L225.22,43.65L222.42,42.71L219.62,40.09L216.82,36.67L208.42,26.97L205.62,23.97L202.83,22.84L200.03,22.72L194.43,21.34L191.63,20.91L186.03,21.36L183.23,23.32L177.64,33.68L174.84,38.54L172.04,41.85L169.24,43.64L158.04,43.69L155.25,42.86L152.45,40.34L149.65,37.2L141.25,27.61L138.45,24.63L135.65,23.65L132.86,23.59L127.26,22.44L124.46,22.13L118.86,22.82L116.06,24.91L110.47,35.38L107.67,40.36L104.87,43.75L102.07,45.82L90.87,46.45L88.07,45.79L82.48,40.4L79.68,37.76L74.08,31.68L71.28,28.96L68.48,28.25L65.68,28.51L60.09,27.9L57.29,27.91L51.69,29.18L48.89,31.59L40.5,47.97L37.7,51.82L34.9,54.02L32.1,54.98L29.3,55.07Z\" style=\"fill: rgb(45, 146, 255); fill-opacity: 0.2; stroke-width: 0;\"/></g></g><g class=\"errorbars\"/><g class=\"lines\"><path class=\"js-line\" d=\"M29.3,55.07L32.1,54.98L34.9,54.02L37.7,51.82L40.5,47.97L48.89,31.59L51.69,29.18L57.29,27.91L60.09,27.9L65.68,28.51L68.48,28.25L71.28,28.96L74.08,31.68L79.68,37.76L82.48,40.4L88.07,45.79L90.87,46.45L102.07,45.82L104.87,43.75L107.67,40.36L110.47,35.38L116.06,24.91L118.86,22.82L124.46,22.13L127.26,22.44L132.86,23.59L135.65,23.65L138.45,24.63L141.25,27.61L149.65,37.2L152.45,40.34L155.25,42.86L158.04,43.69L169.24,43.64L172.04,41.85L174.84,38.54L177.64,33.68L183.23,23.32L186.03,21.36L191.63,20.91L194.43,21.34L200.03,22.72L202.83,22.84L205.62,23.97L208.42,26.97L216.82,36.67L219.62,40.09L222.42,42.71L225.22,43.65L236.41,43.93L239.21,42.15L242.01,38.96L244.81,34.13L250.41,23.88L253.2,21.92L258.8,21.47L261.6,21.89L267.2,23.24L270,23.3L272.8,24.38L275.59,27.37L283.99,36.99L286.79,40.12L289.59,42.74L292.39,43.57L303.58,43.48L306.38,41.72L309.18,38.31L311.98,33.44L317.58,23.28L320.38,21.32L325.97,20.99L328.77,21.49L334.37,23.08L337.17,23.33L339.97,24.57L342.77,27.86L351.16,38.21L353.96,41.79L356.76,44.78L359.56,46.07L370.75,47.83L373.55,46.4L376.35,43.67L379.15,39.29L384.75,30.12L387.55,28.65L393.14,29.26L395.94,30.23L401.54,32.65L404.34,33.25L407.14,34.82L409.94,38.41L418.33,49.58L421.13,53.16L423.93,56.12L426.73,57.35L437.93,58.59L440.72,56.99L443.52,53.86L446.32,49.12L451.92,38.92L454.72,36.93L460.32,36.39L463.11,36.69L468.71,37.7L471.51,37.64L474.31,38.45L477.11,41.15L482.71,47.21L485.5,49.77L491.1,54.92L493.9,55.41L496.7,55.07\" style=\"vector-effect: none; fill: none; stroke: rgb(45, 146, 255); stroke-opacity: 0.2; stroke-width: 1px; opacity: 1;\"/></g><g class=\"points\"/><g class=\"text\"/></g><g class=\"trace scatter trace54fcf8\" style=\"stroke-miterlimit: 2;\"><g class=\"fills\"/><g class=\"errorbars\"/><g class=\"lines\"><path class=\"js-line\" d=\"M29.3,32.83L32.1,32.24L34.9,32.53L37.7,31.23L40.5,25.35L46.09,9.87L48.89,6.36L51.69,5.16L54.49,4.8L65.68,5.64L68.48,4.8L71.28,3.75L74.08,4.17L76.88,8.49L79.68,16.18L82.48,23.32L85.28,26.45L96.47,28.3L99.27,27.98L102.07,28.6L104.87,27.51L107.67,22.16L110.47,13.99L113.26,7.29L116.06,4.11L121.66,3.1L124.46,3.72L130.06,5.14L132.86,4.9L138.45,3.6L141.25,4.18L144.05,8.66L146.85,16.45L149.65,24.07L152.45,27.22L158.04,28.42L160.84,29.33L169.24,29.55L172.04,28.68L174.84,23.2L177.64,15.09L180.44,8.37L183.23,5.09L188.83,4.04L191.63,4.6L197.23,5.99L200.03,5.8L205.62,4.35L208.42,4.85L211.22,9.22L214.02,17.12L216.82,24.23L219.62,27.67L230.81,29.51L233.61,29.23L236.41,29.76L239.21,28.77L242.01,23.36L244.81,15.07L247.61,8.43L250.41,5.07L253.2,4.09L256,3.97L267.2,5.41L270,4.75L272.8,3.85L275.59,4.35L278.39,8.71L281.19,16.44L283.99,23.89L286.79,26.84L297.99,28.73L300.78,28.33L303.58,28.91L306.38,28.06L309.18,22.46L311.98,14.28L314.78,7.67L317.58,4.44L320.38,3.58L323.17,3.53L331.57,5.68L334.37,5.57L339.97,4.37L342.77,5.1L345.56,9.67L348.36,17.73L351.16,25.16L353.96,28.61L365.16,31.66L367.96,31.71L370.75,32.63L373.55,31.8L376.35,26.73L379.15,18.82L381.95,12.42L384.75,9.53L390.35,9.11L393.14,9.97L398.74,11.79L401.54,11.96L407.14,10.95L409.94,11.75L412.74,16.29L415.53,24.38L418.33,32.12L421.13,35.3L432.33,37.57L435.13,37.36L437.93,37.92L440.72,36.9L443.52,31.47L446.32,23.16L449.12,16.38L451.92,12.96L457.52,11.58L460.32,11.93L465.91,12.81L468.71,12.32L474.31,10.35L477.11,10.56L479.91,14.67L482.71,22.13L485.5,29.05L488.3,32.07L493.9,32.55L496.7,33.15\" style=\"vector-effect: none; fill: none; stroke: rgb(45, 146, 255); stroke-opacity: 0.2; stroke-width: 1px; opacity: 1;\"/></g><g class=\"points\"/><g class=\"text\"/></g><g class=\"trace scatter tracee3b17a\" style=\"stroke-miterlimit: 2; opacity: 1;\"><g class=\"fills\"/><g class=\"errorbars\"/><g class=\"lines\"><path class=\"js-line\" d=\"M29.3,43.56L34.9,42.08L37.7,40.02L40.5,35.15L43.29,27.91L46.09,20.54L48.89,15.82L51.69,14.29L54.49,13.94L60.09,13.82L62.89,14.47L65.68,14.16L68.48,12.75L71.28,12.52L74.08,15.64L79.68,25.73L82.48,29.46L88.07,34.28L90.87,35.37L96.47,35.7L99.27,35.63L102.07,35.4L104.87,33.82L107.67,29.74L110.47,23.15L113.26,16.34L116.06,12.21L118.86,11.26L121.66,11.36L127.26,12.28L130.06,13.43L132.86,13.4L135.65,12.43L138.45,12.56L141.25,15.97L146.85,26.52L149.65,30.6L155.25,35.54L158.04,36.67L163.64,37.02L166.44,36.95L169.24,36.59L172.04,35.09L174.84,30.85L177.64,24.16L180.44,17.24L183.23,12.83L186.03,11.78L188.83,11.78L194.43,12.43L197.23,13.4L200.03,13.32L202.83,12.19L205.62,12.25L208.42,15.5L214.02,25.94L216.82,29.71L222.42,34.84L225.22,35.95L230.81,36.33L233.61,36.32L236.41,36.03L239.21,34.52L242.01,30.43L244.81,23.73L247.61,16.98L250.41,12.65L253.2,11.64L256,11.78L261.6,12.51L264.4,13.58L267.2,13.55L270,12.45L272.8,12.55L275.59,15.87L281.19,26.28L283.99,30.3L289.59,35.24L292.39,36.33L297.99,36.62L300.78,36.45L303.58,36.16L306.38,34.71L309.18,30.38L311.98,23.69L314.78,16.9L317.58,12.62L320.38,11.61L323.17,11.74L328.77,12.59L331.57,13.73L334.37,13.79L337.17,12.8L339.97,13.04L342.77,16.62L351.16,31.61L353.96,34.79L359.56,38.84L362.36,39.53L370.75,40.46L373.55,39.29L376.35,35.65L379.15,29.43L381.95,23.08L384.75,19.39L387.55,18.87L390.35,19.48L395.94,21.29L398.74,22.82L401.54,23.34L404.34,22.74L407.14,23.26L409.94,27.14L418.33,42.92L421.13,46.05L423.93,48.46L426.73,49.85L432.33,50.69L435.13,50.83L437.93,50.63L440.72,49.17L443.52,45.03L446.32,38.31L449.12,31.38L451.92,26.94L454.72,25.71L457.52,25.61L463.11,25.79L465.91,26.47L468.71,26.02L471.51,24.59L474.31,24.19L477.11,26.99L482.71,36.42L485.5,39.73L491.1,43.62L493.9,44.18L496.7,44.01\" style=\"vector-effect: none; fill: none; stroke: rgb(45, 146, 255); stroke-opacity: 1; stroke-width: 2px; opacity: 1;\"/></g><g class=\"points\"/><g class=\"text\"/></g><g class=\"trace scatter trace778327\" style=\"stroke-miterlimit: 2; opacity: 1;\"><g class=\"fills\"/><g class=\"errorbars\"/><g class=\"lines\"/><g class=\"points\"><path class=\"point\" transform=\"translate(29.3,43.56)\" d=\"M0,1.13l1.13,1.13l1.13,-1.13l-1.13,-1.13l1.13,-1.13l-1.13,-1.13l-1.13,1.13l-1.13,-1.13l-1.13,1.13l1.13,1.13l-1.13,1.13l1.13,1.13Z\" style=\"opacity: 1; stroke-width: 0px; fill: rgb(0, 0, 255); fill-opacity: 1;\"/><path class=\"point\" transform=\"translate(32.1,42.93)\" d=\"M0,1.13l1.13,1.13l1.13,-1.13l-1.13,-1.13l1.13,-1.13l-1.13,-1.13l-1.13,1.13l-1.13,-1.13l-1.13,1.13l1.13,1.13l-1.13,1.13l1.13,1.13Z\" style=\"opacity: 1; stroke-width: 0px; fill: rgb(0, 0, 255); fill-opacity: 1;\"/><path class=\"point\" transform=\"translate(34.9,42.08)\" d=\"M0,1.13l1.13,1.13l1.13,-1.13l-1.13,-1.13l1.13,-1.13l-1.13,-1.13l-1.13,1.13l-1.13,-1.13l-1.13,1.13l1.13,1.13l-1.13,1.13l1.13,1.13Z\" style=\"opacity: 1; stroke-width: 0px; fill: rgb(0, 0, 255); fill-opacity: 1;\"/><path class=\"point\" transform=\"translate(37.7,40.02)\" d=\"M0,1.13l1.13,1.13l1.13,-1.13l-1.13,-1.13l1.13,-1.13l-1.13,-1.13l-1.13,1.13l-1.13,-1.13l-1.13,1.13l1.13,1.13l-1.13,1.13l1.13,1.13Z\" style=\"opacity: 1; stroke-width: 0px; fill: rgb(0, 0, 255); fill-opacity: 1;\"/><path class=\"point\" transform=\"translate(40.5,35.15)\" d=\"M0,1.13l1.13,1.13l1.13,-1.13l-1.13,-1.13l1.13,-1.13l-1.13,-1.13l-1.13,1.13l-1.13,-1.13l-1.13,1.13l1.13,1.13l-1.13,1.13l1.13,1.13Z\" style=\"opacity: 1; stroke-width: 0px; fill: rgb(0, 0, 255); fill-opacity: 1;\"/><path class=\"point\" transform=\"translate(43.29,27.91)\" d=\"M0,1.13l1.13,1.13l1.13,-1.13l-1.13,-1.13l1.13,-1.13l-1.13,-1.13l-1.13,1.13l-1.13,-1.13l-1.13,1.13l1.13,1.13l-1.13,1.13l1.13,1.13Z\" style=\"opacity: 1; stroke-width: 0px; fill: rgb(0, 0, 255); fill-opacity: 1;\"/><path class=\"point\" transform=\"translate(46.09,20.54)\" d=\"M0,1.13l1.13,1.13l1.13,-1.13l-1.13,-1.13l1.13,-1.13l-1.13,-1.13l-1.13,1.13l-1.13,-1.13l-1.13,1.13l1.13,1.13l-1.13,1.13l1.13,1.13Z\" style=\"opacity: 1; stroke-width: 0px; fill: rgb(0, 0, 255); fill-opacity: 1;\"/><path class=\"point\" transform=\"translate(48.89,15.82)\" d=\"M0,1.13l1.13,1.13l1.13,-1.13l-1.13,-1.13l1.13,-1.13l-1.13,-1.13l-1.13,1.13l-1.13,-1.13l-1.13,1.13l1.13,1.13l-1.13,1.13l1.13,1.13Z\" style=\"opacity: 1; stroke-width: 0px; fill: rgb(0, 0, 255); fill-opacity: 1;\"/><path class=\"point\" transform=\"translate(51.69,14.29)\" d=\"M0,1.13l1.13,1.13l1.13,-1.13l-1.13,-1.13l1.13,-1.13l-1.13,-1.13l-1.13,1.13l-1.13,-1.13l-1.13,1.13l1.13,1.13l-1.13,1.13l1.13,1.13Z\" style=\"opacity: 1; stroke-width: 0px; fill: rgb(0, 0, 255); fill-opacity: 1;\"/><path class=\"point\" transform=\"translate(54.49,13.94)\" d=\"M0,1.13l1.13,1.13l1.13,-1.13l-1.13,-1.13l1.13,-1.13l-1.13,-1.13l-1.13,1.13l-1.13,-1.13l-1.13,1.13l1.13,1.13l-1.13,1.13l1.13,1.13Z\" style=\"opacity: 1; stroke-width: 0px; fill: rgb(0, 0, 255); fill-opacity: 1;\"/><path class=\"point\" transform=\"translate(57.29,13.61)\" d=\"M0,1.13l1.13,1.13l1.13,-1.13l-1.13,-1.13l1.13,-1.13l-1.13,-1.13l-1.13,1.13l-1.13,-1.13l-1.13,1.13l1.13,1.13l-1.13,1.13l1.13,1.13Z\" style=\"opacity: 1; stroke-width: 0px; fill: rgb(0, 0, 255); fill-opacity: 1;\"/><path class=\"point\" transform=\"translate(60.09,13.82)\" d=\"M0,1.13l1.13,1.13l1.13,-1.13l-1.13,-1.13l1.13,-1.13l-1.13,-1.13l-1.13,1.13l-1.13,-1.13l-1.13,1.13l1.13,1.13l-1.13,1.13l1.13,1.13Z\" style=\"opacity: 1; stroke-width: 0px; fill: rgb(0, 0, 255); fill-opacity: 1;\"/><path class=\"point\" transform=\"translate(62.89,14.47)\" d=\"M0,1.13l1.13,1.13l1.13,-1.13l-1.13,-1.13l1.13,-1.13l-1.13,-1.13l-1.13,1.13l-1.13,-1.13l-1.13,1.13l1.13,1.13l-1.13,1.13l1.13,1.13Z\" style=\"opacity: 1; stroke-width: 0px; fill: rgb(0, 0, 255); fill-opacity: 1;\"/><path class=\"point\" transform=\"translate(65.68,14.16)\" d=\"M0,1.13l1.13,1.13l1.13,-1.13l-1.13,-1.13l1.13,-1.13l-1.13,-1.13l-1.13,1.13l-1.13,-1.13l-1.13,1.13l1.13,1.13l-1.13,1.13l1.13,1.13Z\" style=\"opacity: 1; stroke-width: 0px; fill: rgb(0, 0, 255); fill-opacity: 1;\"/><path class=\"point\" transform=\"translate(68.48,12.75)\" d=\"M0,1.13l1.13,1.13l1.13,-1.13l-1.13,-1.13l1.13,-1.13l-1.13,-1.13l-1.13,1.13l-1.13,-1.13l-1.13,1.13l1.13,1.13l-1.13,1.13l1.13,1.13Z\" style=\"opacity: 1; stroke-width: 0px; fill: rgb(0, 0, 255); fill-opacity: 1;\"/><path class=\"point\" transform=\"translate(71.28,12.52)\" d=\"M0,1.13l1.13,1.13l1.13,-1.13l-1.13,-1.13l1.13,-1.13l-1.13,-1.13l-1.13,1.13l-1.13,-1.13l-1.13,1.13l1.13,1.13l-1.13,1.13l1.13,1.13Z\" style=\"opacity: 1; stroke-width: 0px; fill: rgb(0, 0, 255); fill-opacity: 1;\"/><path class=\"point\" transform=\"translate(74.08,15.64)\" d=\"M0,1.13l1.13,1.13l1.13,-1.13l-1.13,-1.13l1.13,-1.13l-1.13,-1.13l-1.13,1.13l-1.13,-1.13l-1.13,1.13l1.13,1.13l-1.13,1.13l1.13,1.13Z\" style=\"opacity: 1; stroke-width: 0px; fill: rgb(0, 0, 255); fill-opacity: 1;\"/><path class=\"point\" transform=\"translate(76.88,20.83)\" d=\"M0,1.13l1.13,1.13l1.13,-1.13l-1.13,-1.13l1.13,-1.13l-1.13,-1.13l-1.13,1.13l-1.13,-1.13l-1.13,1.13l1.13,1.13l-1.13,1.13l1.13,1.13Z\" style=\"opacity: 1; stroke-width: 0px; fill: rgb(0, 0, 255); fill-opacity: 1;\"/><path class=\"point\" transform=\"translate(79.68,25.73)\" d=\"M0,1.13l1.13,1.13l1.13,-1.13l-1.13,-1.13l1.13,-1.13l-1.13,-1.13l-1.13,1.13l-1.13,-1.13l-1.13,1.13l1.13,1.13l-1.13,1.13l1.13,1.13Z\" style=\"opacity: 1; stroke-width: 0px; fill: rgb(0, 0, 255); fill-opacity: 1;\"/><path class=\"point\" transform=\"translate(82.48,29.46)\" d=\"M0,1.13l1.13,1.13l1.13,-1.13l-1.13,-1.13l1.13,-1.13l-1.13,-1.13l-1.13,1.13l-1.13,-1.13l-1.13,1.13l1.13,1.13l-1.13,1.13l1.13,1.13Z\" style=\"opacity: 1; stroke-width: 0px; fill: rgb(0, 0, 255); fill-opacity: 1;\"/><path class=\"point\" transform=\"translate(85.28,32.21)\" d=\"M0,1.13l1.13,1.13l1.13,-1.13l-1.13,-1.13l1.13,-1.13l-1.13,-1.13l-1.13,1.13l-1.13,-1.13l-1.13,1.13l1.13,1.13l-1.13,1.13l1.13,1.13Z\" style=\"opacity: 1; stroke-width: 0px; fill: rgb(0, 0, 255); fill-opacity: 1;\"/><path class=\"point\" transform=\"translate(88.07,34.28)\" d=\"M0,1.13l1.13,1.13l1.13,-1.13l-1.13,-1.13l1.13,-1.13l-1.13,-1.13l-1.13,1.13l-1.13,-1.13l-1.13,1.13l1.13,1.13l-1.13,1.13l1.13,1.13Z\" style=\"opacity: 1; stroke-width: 0px; fill: rgb(0, 0, 255); fill-opacity: 1;\"/><path class=\"point\" transform=\"translate(90.87,35.37)\" d=\"M0,1.13l1.13,1.13l1.13,-1.13l-1.13,-1.13l1.13,-1.13l-1.13,-1.13l-1.13,1.13l-1.13,-1.13l-1.13,1.13l1.13,1.13l-1.13,1.13l1.13,1.13Z\" style=\"opacity: 1; stroke-width: 0px; fill: rgb(0, 0, 255); fill-opacity: 1;\"/><path class=\"point\" transform=\"translate(93.67,35.71)\" d=\"M0,1.13l1.13,1.13l1.13,-1.13l-1.13,-1.13l1.13,-1.13l-1.13,-1.13l-1.13,1.13l-1.13,-1.13l-1.13,1.13l1.13,1.13l-1.13,1.13l1.13,1.13Z\" style=\"opacity: 1; stroke-width: 0px; fill: rgb(0, 0, 255); fill-opacity: 1;\"/><path class=\"point\" transform=\"translate(96.47,35.7)\" d=\"M0,1.13l1.13,1.13l1.13,-1.13l-1.13,-1.13l1.13,-1.13l-1.13,-1.13l-1.13,1.13l-1.13,-1.13l-1.13,1.13l1.13,1.13l-1.13,1.13l1.13,1.13Z\" style=\"opacity: 1; stroke-width: 0px; fill: rgb(0, 0, 255); fill-opacity: 1;\"/><path class=\"point\" transform=\"translate(99.27,35.63)\" d=\"M0,1.13l1.13,1.13l1.13,-1.13l-1.13,-1.13l1.13,-1.13l-1.13,-1.13l-1.13,1.13l-1.13,-1.13l-1.13,1.13l1.13,1.13l-1.13,1.13l1.13,1.13Z\" style=\"opacity: 1; stroke-width: 0px; fill: rgb(0, 0, 255); fill-opacity: 1;\"/><path class=\"point\" transform=\"translate(102.07,35.4)\" d=\"M0,1.13l1.13,1.13l1.13,-1.13l-1.13,-1.13l1.13,-1.13l-1.13,-1.13l-1.13,1.13l-1.13,-1.13l-1.13,1.13l1.13,1.13l-1.13,1.13l1.13,1.13Z\" style=\"opacity: 1; stroke-width: 0px; fill: rgb(0, 0, 255); fill-opacity: 1;\"/><path class=\"point\" transform=\"translate(104.87,33.82)\" d=\"M0,1.13l1.13,1.13l1.13,-1.13l-1.13,-1.13l1.13,-1.13l-1.13,-1.13l-1.13,1.13l-1.13,-1.13l-1.13,1.13l1.13,1.13l-1.13,1.13l1.13,1.13Z\" style=\"opacity: 1; stroke-width: 0px; fill: rgb(0, 0, 255); fill-opacity: 1;\"/><path class=\"point\" transform=\"translate(107.67,29.74)\" d=\"M0,1.13l1.13,1.13l1.13,-1.13l-1.13,-1.13l1.13,-1.13l-1.13,-1.13l-1.13,1.13l-1.13,-1.13l-1.13,1.13l1.13,1.13l-1.13,1.13l1.13,1.13Z\" style=\"opacity: 1; stroke-width: 0px; fill: rgb(0, 0, 255); fill-opacity: 1;\"/><path class=\"point\" transform=\"translate(110.47,23.15)\" d=\"M0,1.13l1.13,1.13l1.13,-1.13l-1.13,-1.13l1.13,-1.13l-1.13,-1.13l-1.13,1.13l-1.13,-1.13l-1.13,1.13l1.13,1.13l-1.13,1.13l1.13,1.13Z\" style=\"opacity: 1; stroke-width: 0px; fill: rgb(0, 0, 255); fill-opacity: 1;\"/><path class=\"point\" transform=\"translate(113.26,16.34)\" d=\"M0,1.13l1.13,1.13l1.13,-1.13l-1.13,-1.13l1.13,-1.13l-1.13,-1.13l-1.13,1.13l-1.13,-1.13l-1.13,1.13l1.13,1.13l-1.13,1.13l1.13,1.13Z\" style=\"opacity: 1; stroke-width: 0px; fill: rgb(0, 0, 255); fill-opacity: 1;\"/><path class=\"point\" transform=\"translate(116.06,12.21)\" d=\"M0,1.13l1.13,1.13l1.13,-1.13l-1.13,-1.13l1.13,-1.13l-1.13,-1.13l-1.13,1.13l-1.13,-1.13l-1.13,1.13l1.13,1.13l-1.13,1.13l1.13,1.13Z\" style=\"opacity: 1; stroke-width: 0px; fill: rgb(0, 0, 255); fill-opacity: 1;\"/><path class=\"point\" transform=\"translate(118.86,11.26)\" d=\"M0,1.13l1.13,1.13l1.13,-1.13l-1.13,-1.13l1.13,-1.13l-1.13,-1.13l-1.13,1.13l-1.13,-1.13l-1.13,1.13l1.13,1.13l-1.13,1.13l1.13,1.13Z\" style=\"opacity: 1; stroke-width: 0px; fill: rgb(0, 0, 255); fill-opacity: 1;\"/><path class=\"point\" transform=\"translate(121.66,11.36)\" d=\"M0,1.13l1.13,1.13l1.13,-1.13l-1.13,-1.13l1.13,-1.13l-1.13,-1.13l-1.13,1.13l-1.13,-1.13l-1.13,1.13l1.13,1.13l-1.13,1.13l1.13,1.13Z\" style=\"opacity: 1; stroke-width: 0px; fill: rgb(0, 0, 255); fill-opacity: 1;\"/><path class=\"point\" transform=\"translate(124.46,11.58)\" d=\"M0,1.13l1.13,1.13l1.13,-1.13l-1.13,-1.13l1.13,-1.13l-1.13,-1.13l-1.13,1.13l-1.13,-1.13l-1.13,1.13l1.13,1.13l-1.13,1.13l1.13,1.13Z\" style=\"opacity: 1; stroke-width: 0px; fill: rgb(0, 0, 255); fill-opacity: 1;\"/><path class=\"point\" transform=\"translate(127.26,12.28)\" d=\"M0,1.13l1.13,1.13l1.13,-1.13l-1.13,-1.13l1.13,-1.13l-1.13,-1.13l-1.13,1.13l-1.13,-1.13l-1.13,1.13l1.13,1.13l-1.13,1.13l1.13,1.13Z\" style=\"opacity: 1; stroke-width: 0px; fill: rgb(0, 0, 255); fill-opacity: 1;\"/><path class=\"point\" transform=\"translate(130.06,13.43)\" d=\"M0,1.13l1.13,1.13l1.13,-1.13l-1.13,-1.13l1.13,-1.13l-1.13,-1.13l-1.13,1.13l-1.13,-1.13l-1.13,1.13l1.13,1.13l-1.13,1.13l1.13,1.13Z\" style=\"opacity: 1; stroke-width: 0px; fill: rgb(0, 0, 255); fill-opacity: 1;\"/><path class=\"point\" transform=\"translate(132.86,13.4)\" d=\"M0,1.13l1.13,1.13l1.13,-1.13l-1.13,-1.13l1.13,-1.13l-1.13,-1.13l-1.13,1.13l-1.13,-1.13l-1.13,1.13l1.13,1.13l-1.13,1.13l1.13,1.13Z\" style=\"opacity: 1; stroke-width: 0px; fill: rgb(0, 0, 255); fill-opacity: 1;\"/><path class=\"point\" transform=\"translate(135.65,12.43)\" d=\"M0,1.13l1.13,1.13l1.13,-1.13l-1.13,-1.13l1.13,-1.13l-1.13,-1.13l-1.13,1.13l-1.13,-1.13l-1.13,1.13l1.13,1.13l-1.13,1.13l1.13,1.13Z\" style=\"opacity: 1; stroke-width: 0px; fill: rgb(0, 0, 255); fill-opacity: 1;\"/><path class=\"point\" transform=\"translate(138.45,12.56)\" d=\"M0,1.13l1.13,1.13l1.13,-1.13l-1.13,-1.13l1.13,-1.13l-1.13,-1.13l-1.13,1.13l-1.13,-1.13l-1.13,1.13l1.13,1.13l-1.13,1.13l1.13,1.13Z\" style=\"opacity: 1; stroke-width: 0px; fill: rgb(0, 0, 255); fill-opacity: 1;\"/><path class=\"point\" transform=\"translate(141.25,15.97)\" d=\"M0,1.13l1.13,1.13l1.13,-1.13l-1.13,-1.13l1.13,-1.13l-1.13,-1.13l-1.13,1.13l-1.13,-1.13l-1.13,1.13l1.13,1.13l-1.13,1.13l1.13,1.13Z\" style=\"opacity: 1; stroke-width: 0px; fill: rgb(0, 0, 255); fill-opacity: 1;\"/><path class=\"point\" transform=\"translate(144.05,21.4)\" d=\"M0,1.13l1.13,1.13l1.13,-1.13l-1.13,-1.13l1.13,-1.13l-1.13,-1.13l-1.13,1.13l-1.13,-1.13l-1.13,1.13l1.13,1.13l-1.13,1.13l1.13,1.13Z\" style=\"opacity: 1; stroke-width: 0px; fill: rgb(0, 0, 255); fill-opacity: 1;\"/><path class=\"point\" transform=\"translate(146.85,26.52)\" d=\"M0,1.13l1.13,1.13l1.13,-1.13l-1.13,-1.13l1.13,-1.13l-1.13,-1.13l-1.13,1.13l-1.13,-1.13l-1.13,1.13l1.13,1.13l-1.13,1.13l1.13,1.13Z\" style=\"opacity: 1; stroke-width: 0px; fill: rgb(0, 0, 255); fill-opacity: 1;\"/><path class=\"point\" transform=\"translate(149.65,30.6)\" d=\"M0,1.13l1.13,1.13l1.13,-1.13l-1.13,-1.13l1.13,-1.13l-1.13,-1.13l-1.13,1.13l-1.13,-1.13l-1.13,1.13l1.13,1.13l-1.13,1.13l1.13,1.13Z\" style=\"opacity: 1; stroke-width: 0px; fill: rgb(0, 0, 255); fill-opacity: 1;\"/><path class=\"point\" transform=\"translate(152.45,33.45)\" d=\"M0,1.13l1.13,1.13l1.13,-1.13l-1.13,-1.13l1.13,-1.13l-1.13,-1.13l-1.13,1.13l-1.13,-1.13l-1.13,1.13l1.13,1.13l-1.13,1.13l1.13,1.13Z\" style=\"opacity: 1; stroke-width: 0px; fill: rgb(0, 0, 255); fill-opacity: 1;\"/><path class=\"point\" transform=\"translate(155.25,35.54)\" d=\"M0,1.13l1.13,1.13l1.13,-1.13l-1.13,-1.13l1.13,-1.13l-1.13,-1.13l-1.13,1.13l-1.13,-1.13l-1.13,1.13l1.13,1.13l-1.13,1.13l1.13,1.13Z\" style=\"opacity: 1; stroke-width: 0px; fill: rgb(0, 0, 255); fill-opacity: 1;\"/><path class=\"point\" transform=\"translate(158.04,36.67)\" d=\"M0,1.13l1.13,1.13l1.13,-1.13l-1.13,-1.13l1.13,-1.13l-1.13,-1.13l-1.13,1.13l-1.13,-1.13l-1.13,1.13l1.13,1.13l-1.13,1.13l1.13,1.13Z\" style=\"opacity: 1; stroke-width: 0px; fill: rgb(0, 0, 255); fill-opacity: 1;\"/><path class=\"point\" transform=\"translate(160.84,37.05)\" d=\"M0,1.13l1.13,1.13l1.13,-1.13l-1.13,-1.13l1.13,-1.13l-1.13,-1.13l-1.13,1.13l-1.13,-1.13l-1.13,1.13l1.13,1.13l-1.13,1.13l1.13,1.13Z\" style=\"opacity: 1; stroke-width: 0px; fill: rgb(0, 0, 255); fill-opacity: 1;\"/><path class=\"point\" transform=\"translate(163.64,37.02)\" d=\"M0,1.13l1.13,1.13l1.13,-1.13l-1.13,-1.13l1.13,-1.13l-1.13,-1.13l-1.13,1.13l-1.13,-1.13l-1.13,1.13l1.13,1.13l-1.13,1.13l1.13,1.13Z\" style=\"opacity: 1; stroke-width: 0px; fill: rgb(0, 0, 255); fill-opacity: 1;\"/><path class=\"point\" transform=\"translate(166.44,36.95)\" d=\"M0,1.13l1.13,1.13l1.13,-1.13l-1.13,-1.13l1.13,-1.13l-1.13,-1.13l-1.13,1.13l-1.13,-1.13l-1.13,1.13l1.13,1.13l-1.13,1.13l1.13,1.13Z\" style=\"opacity: 1; stroke-width: 0px; fill: rgb(0, 0, 255); fill-opacity: 1;\"/><path class=\"point\" transform=\"translate(169.24,36.59)\" d=\"M0,1.13l1.13,1.13l1.13,-1.13l-1.13,-1.13l1.13,-1.13l-1.13,-1.13l-1.13,1.13l-1.13,-1.13l-1.13,1.13l1.13,1.13l-1.13,1.13l1.13,1.13Z\" style=\"opacity: 1; stroke-width: 0px; fill: rgb(0, 0, 255); fill-opacity: 1;\"/><path class=\"point\" transform=\"translate(172.04,35.09)\" d=\"M0,1.13l1.13,1.13l1.13,-1.13l-1.13,-1.13l1.13,-1.13l-1.13,-1.13l-1.13,1.13l-1.13,-1.13l-1.13,1.13l1.13,1.13l-1.13,1.13l1.13,1.13Z\" style=\"opacity: 1; stroke-width: 0px; fill: rgb(0, 0, 255); fill-opacity: 1;\"/><path class=\"point\" transform=\"translate(174.84,30.85)\" d=\"M0,1.13l1.13,1.13l1.13,-1.13l-1.13,-1.13l1.13,-1.13l-1.13,-1.13l-1.13,1.13l-1.13,-1.13l-1.13,1.13l1.13,1.13l-1.13,1.13l1.13,1.13Z\" style=\"opacity: 1; stroke-width: 0px; fill: rgb(0, 0, 255); fill-opacity: 1;\"/><path class=\"point\" transform=\"translate(177.64,24.16)\" d=\"M0,1.13l1.13,1.13l1.13,-1.13l-1.13,-1.13l1.13,-1.13l-1.13,-1.13l-1.13,1.13l-1.13,-1.13l-1.13,1.13l1.13,1.13l-1.13,1.13l1.13,1.13Z\" style=\"opacity: 1; stroke-width: 0px; fill: rgb(0, 0, 255); fill-opacity: 1;\"/><path class=\"point\" transform=\"translate(180.44,17.24)\" d=\"M0,1.13l1.13,1.13l1.13,-1.13l-1.13,-1.13l1.13,-1.13l-1.13,-1.13l-1.13,1.13l-1.13,-1.13l-1.13,1.13l1.13,1.13l-1.13,1.13l1.13,1.13Z\" style=\"opacity: 1; stroke-width: 0px; fill: rgb(0, 0, 255); fill-opacity: 1;\"/><path class=\"point\" transform=\"translate(183.23,12.83)\" d=\"M0,1.13l1.13,1.13l1.13,-1.13l-1.13,-1.13l1.13,-1.13l-1.13,-1.13l-1.13,1.13l-1.13,-1.13l-1.13,1.13l1.13,1.13l-1.13,1.13l1.13,1.13Z\" style=\"opacity: 1; stroke-width: 0px; fill: rgb(0, 0, 255); fill-opacity: 1;\"/><path class=\"point\" transform=\"translate(186.03,11.78)\" d=\"M0,1.13l1.13,1.13l1.13,-1.13l-1.13,-1.13l1.13,-1.13l-1.13,-1.13l-1.13,1.13l-1.13,-1.13l-1.13,1.13l1.13,1.13l-1.13,1.13l1.13,1.13Z\" style=\"opacity: 1; stroke-width: 0px; fill: rgb(0, 0, 255); fill-opacity: 1;\"/><path class=\"point\" transform=\"translate(188.83,11.78)\" d=\"M0,1.13l1.13,1.13l1.13,-1.13l-1.13,-1.13l1.13,-1.13l-1.13,-1.13l-1.13,1.13l-1.13,-1.13l-1.13,1.13l1.13,1.13l-1.13,1.13l1.13,1.13Z\" style=\"opacity: 1; stroke-width: 0px; fill: rgb(0, 0, 255); fill-opacity: 1;\"/><path class=\"point\" transform=\"translate(191.63,11.84)\" d=\"M0,1.13l1.13,1.13l1.13,-1.13l-1.13,-1.13l1.13,-1.13l-1.13,-1.13l-1.13,1.13l-1.13,-1.13l-1.13,1.13l1.13,1.13l-1.13,1.13l1.13,1.13Z\" style=\"opacity: 1; stroke-width: 0px; fill: rgb(0, 0, 255); fill-opacity: 1;\"/><path class=\"point\" transform=\"translate(194.43,12.43)\" d=\"M0,1.13l1.13,1.13l1.13,-1.13l-1.13,-1.13l1.13,-1.13l-1.13,-1.13l-1.13,1.13l-1.13,-1.13l-1.13,1.13l1.13,1.13l-1.13,1.13l1.13,1.13Z\" style=\"opacity: 1; stroke-width: 0px; fill: rgb(0, 0, 255); fill-opacity: 1;\"/><path class=\"point\" transform=\"translate(197.23,13.4)\" d=\"M0,1.13l1.13,1.13l1.13,-1.13l-1.13,-1.13l1.13,-1.13l-1.13,-1.13l-1.13,1.13l-1.13,-1.13l-1.13,1.13l1.13,1.13l-1.13,1.13l1.13,1.13Z\" style=\"opacity: 1; stroke-width: 0px; fill: rgb(0, 0, 255); fill-opacity: 1;\"/><path class=\"point\" transform=\"translate(200.03,13.32)\" d=\"M0,1.13l1.13,1.13l1.13,-1.13l-1.13,-1.13l1.13,-1.13l-1.13,-1.13l-1.13,1.13l-1.13,-1.13l-1.13,1.13l1.13,1.13l-1.13,1.13l1.13,1.13Z\" style=\"opacity: 1; stroke-width: 0px; fill: rgb(0, 0, 255); fill-opacity: 1;\"/><path class=\"point\" transform=\"translate(202.83,12.19)\" d=\"M0,1.13l1.13,1.13l1.13,-1.13l-1.13,-1.13l1.13,-1.13l-1.13,-1.13l-1.13,1.13l-1.13,-1.13l-1.13,1.13l1.13,1.13l-1.13,1.13l1.13,1.13Z\" style=\"opacity: 1; stroke-width: 0px; fill: rgb(0, 0, 255); fill-opacity: 1;\"/><path class=\"point\" transform=\"translate(205.62,12.25)\" d=\"M0,1.13l1.13,1.13l1.13,-1.13l-1.13,-1.13l1.13,-1.13l-1.13,-1.13l-1.13,1.13l-1.13,-1.13l-1.13,1.13l1.13,1.13l-1.13,1.13l1.13,1.13Z\" style=\"opacity: 1; stroke-width: 0px; fill: rgb(0, 0, 255); fill-opacity: 1;\"/><path class=\"point\" transform=\"translate(208.42,15.5)\" d=\"M0,1.13l1.13,1.13l1.13,-1.13l-1.13,-1.13l1.13,-1.13l-1.13,-1.13l-1.13,1.13l-1.13,-1.13l-1.13,1.13l1.13,1.13l-1.13,1.13l1.13,1.13Z\" style=\"opacity: 1; stroke-width: 0px; fill: rgb(0, 0, 255); fill-opacity: 1;\"/><path class=\"point\" transform=\"translate(211.22,20.81)\" d=\"M0,1.13l1.13,1.13l1.13,-1.13l-1.13,-1.13l1.13,-1.13l-1.13,-1.13l-1.13,1.13l-1.13,-1.13l-1.13,1.13l1.13,1.13l-1.13,1.13l1.13,1.13Z\" style=\"opacity: 1; stroke-width: 0px; fill: rgb(0, 0, 255); fill-opacity: 1;\"/><path class=\"point\" transform=\"translate(214.02,25.94)\" d=\"M0,1.13l1.13,1.13l1.13,-1.13l-1.13,-1.13l1.13,-1.13l-1.13,-1.13l-1.13,1.13l-1.13,-1.13l-1.13,1.13l1.13,1.13l-1.13,1.13l1.13,1.13Z\" style=\"opacity: 1; stroke-width: 0px; fill: rgb(0, 0, 255); fill-opacity: 1;\"/><path class=\"point\" transform=\"translate(216.82,29.71)\" d=\"M0,1.13l1.13,1.13l1.13,-1.13l-1.13,-1.13l1.13,-1.13l-1.13,-1.13l-1.13,1.13l-1.13,-1.13l-1.13,1.13l1.13,1.13l-1.13,1.13l1.13,1.13Z\" style=\"opacity: 1; stroke-width: 0px; fill: rgb(0, 0, 255); fill-opacity: 1;\"/><path class=\"point\" transform=\"translate(219.62,32.74)\" d=\"M0,1.13l1.13,1.13l1.13,-1.13l-1.13,-1.13l1.13,-1.13l-1.13,-1.13l-1.13,1.13l-1.13,-1.13l-1.13,1.13l1.13,1.13l-1.13,1.13l1.13,1.13Z\" style=\"opacity: 1; stroke-width: 0px; fill: rgb(0, 0, 255); fill-opacity: 1;\"/><path class=\"point\" transform=\"translate(222.42,34.84)\" d=\"M0,1.13l1.13,1.13l1.13,-1.13l-1.13,-1.13l1.13,-1.13l-1.13,-1.13l-1.13,1.13l-1.13,-1.13l-1.13,1.13l1.13,1.13l-1.13,1.13l1.13,1.13Z\" style=\"opacity: 1; stroke-width: 0px; fill: rgb(0, 0, 255); fill-opacity: 1;\"/><path class=\"point\" transform=\"translate(225.22,35.95)\" d=\"M0,1.13l1.13,1.13l1.13,-1.13l-1.13,-1.13l1.13,-1.13l-1.13,-1.13l-1.13,1.13l-1.13,-1.13l-1.13,1.13l1.13,1.13l-1.13,1.13l1.13,1.13Z\" style=\"opacity: 1; stroke-width: 0px; fill: rgb(0, 0, 255); fill-opacity: 1;\"/><path class=\"point\" transform=\"translate(228.01,36.35)\" d=\"M0,1.13l1.13,1.13l1.13,-1.13l-1.13,-1.13l1.13,-1.13l-1.13,-1.13l-1.13,1.13l-1.13,-1.13l-1.13,1.13l1.13,1.13l-1.13,1.13l1.13,1.13Z\" style=\"opacity: 1; stroke-width: 0px; fill: rgb(0, 0, 255); fill-opacity: 1;\"/><path class=\"point\" transform=\"translate(230.81,36.33)\" d=\"M0,1.13l1.13,1.13l1.13,-1.13l-1.13,-1.13l1.13,-1.13l-1.13,-1.13l-1.13,1.13l-1.13,-1.13l-1.13,1.13l1.13,1.13l-1.13,1.13l1.13,1.13Z\" style=\"opacity: 1; stroke-width: 0px; fill: rgb(0, 0, 255); fill-opacity: 1;\"/><path class=\"point\" transform=\"translate(233.61,36.32)\" d=\"M0,1.13l1.13,1.13l1.13,-1.13l-1.13,-1.13l1.13,-1.13l-1.13,-1.13l-1.13,1.13l-1.13,-1.13l-1.13,1.13l1.13,1.13l-1.13,1.13l1.13,1.13Z\" style=\"opacity: 1; stroke-width: 0px; fill: rgb(0, 0, 255); fill-opacity: 1;\"/><path class=\"point\" transform=\"translate(236.41,36.03)\" d=\"M0,1.13l1.13,1.13l1.13,-1.13l-1.13,-1.13l1.13,-1.13l-1.13,-1.13l-1.13,1.13l-1.13,-1.13l-1.13,1.13l1.13,1.13l-1.13,1.13l1.13,1.13Z\" style=\"opacity: 1; stroke-width: 0px; fill: rgb(0, 0, 255); fill-opacity: 1;\"/><path class=\"point\" transform=\"translate(239.21,34.52)\" d=\"M0,1.13l1.13,1.13l1.13,-1.13l-1.13,-1.13l1.13,-1.13l-1.13,-1.13l-1.13,1.13l-1.13,-1.13l-1.13,1.13l1.13,1.13l-1.13,1.13l1.13,1.13Z\" style=\"opacity: 1; stroke-width: 0px; fill: rgb(0, 0, 255); fill-opacity: 1;\"/><path class=\"point\" transform=\"translate(242.01,30.43)\" d=\"M0,1.13l1.13,1.13l1.13,-1.13l-1.13,-1.13l1.13,-1.13l-1.13,-1.13l-1.13,1.13l-1.13,-1.13l-1.13,1.13l1.13,1.13l-1.13,1.13l1.13,1.13Z\" style=\"opacity: 1; stroke-width: 0px; fill: rgb(0, 0, 255); fill-opacity: 1;\"/><path class=\"point\" transform=\"translate(244.81,23.73)\" d=\"M0,1.13l1.13,1.13l1.13,-1.13l-1.13,-1.13l1.13,-1.13l-1.13,-1.13l-1.13,1.13l-1.13,-1.13l-1.13,1.13l1.13,1.13l-1.13,1.13l1.13,1.13Z\" style=\"opacity: 1; stroke-width: 0px; fill: rgb(0, 0, 255); fill-opacity: 1;\"/><path class=\"point\" transform=\"translate(247.61,16.98)\" d=\"M0,1.13l1.13,1.13l1.13,-1.13l-1.13,-1.13l1.13,-1.13l-1.13,-1.13l-1.13,1.13l-1.13,-1.13l-1.13,1.13l1.13,1.13l-1.13,1.13l1.13,1.13Z\" style=\"opacity: 1; stroke-width: 0px; fill: rgb(0, 0, 255); fill-opacity: 1;\"/><path class=\"point\" transform=\"translate(250.41,12.65)\" d=\"M0,1.13l1.13,1.13l1.13,-1.13l-1.13,-1.13l1.13,-1.13l-1.13,-1.13l-1.13,1.13l-1.13,-1.13l-1.13,1.13l1.13,1.13l-1.13,1.13l1.13,1.13Z\" style=\"opacity: 1; stroke-width: 0px; fill: rgb(0, 0, 255); fill-opacity: 1;\"/><path class=\"point\" transform=\"translate(253.2,11.64)\" d=\"M0,1.13l1.13,1.13l1.13,-1.13l-1.13,-1.13l1.13,-1.13l-1.13,-1.13l-1.13,1.13l-1.13,-1.13l-1.13,1.13l1.13,1.13l-1.13,1.13l1.13,1.13Z\" style=\"opacity: 1; stroke-width: 0px; fill: rgb(0, 0, 255); fill-opacity: 1;\"/><path class=\"point\" transform=\"translate(256,11.78)\" d=\"M0,1.13l1.13,1.13l1.13,-1.13l-1.13,-1.13l1.13,-1.13l-1.13,-1.13l-1.13,1.13l-1.13,-1.13l-1.13,1.13l1.13,1.13l-1.13,1.13l1.13,1.13Z\" style=\"opacity: 1; stroke-width: 0px; fill: rgb(0, 0, 255); fill-opacity: 1;\"/><path class=\"point\" transform=\"translate(258.8,11.84)\" d=\"M0,1.13l1.13,1.13l1.13,-1.13l-1.13,-1.13l1.13,-1.13l-1.13,-1.13l-1.13,1.13l-1.13,-1.13l-1.13,1.13l1.13,1.13l-1.13,1.13l1.13,1.13Z\" style=\"opacity: 1; stroke-width: 0px; fill: rgb(0, 0, 255); fill-opacity: 1;\"/><path class=\"point\" transform=\"translate(261.6,12.51)\" d=\"M0,1.13l1.13,1.13l1.13,-1.13l-1.13,-1.13l1.13,-1.13l-1.13,-1.13l-1.13,1.13l-1.13,-1.13l-1.13,1.13l1.13,1.13l-1.13,1.13l1.13,1.13Z\" style=\"opacity: 1; stroke-width: 0px; fill: rgb(0, 0, 255); fill-opacity: 1;\"/><path class=\"point\" transform=\"translate(264.4,13.58)\" d=\"M0,1.13l1.13,1.13l1.13,-1.13l-1.13,-1.13l1.13,-1.13l-1.13,-1.13l-1.13,1.13l-1.13,-1.13l-1.13,1.13l1.13,1.13l-1.13,1.13l1.13,1.13Z\" style=\"opacity: 1; stroke-width: 0px; fill: rgb(0, 0, 255); fill-opacity: 1;\"/><path class=\"point\" transform=\"translate(267.2,13.55)\" d=\"M0,1.13l1.13,1.13l1.13,-1.13l-1.13,-1.13l1.13,-1.13l-1.13,-1.13l-1.13,1.13l-1.13,-1.13l-1.13,1.13l1.13,1.13l-1.13,1.13l1.13,1.13Z\" style=\"opacity: 1; stroke-width: 0px; fill: rgb(0, 0, 255); fill-opacity: 1;\"/><path class=\"point\" transform=\"translate(270,12.45)\" d=\"M0,1.13l1.13,1.13l1.13,-1.13l-1.13,-1.13l1.13,-1.13l-1.13,-1.13l-1.13,1.13l-1.13,-1.13l-1.13,1.13l1.13,1.13l-1.13,1.13l1.13,1.13Z\" style=\"opacity: 1; stroke-width: 0px; fill: rgb(0, 0, 255); fill-opacity: 1;\"/><path class=\"point\" transform=\"translate(272.8,12.55)\" d=\"M0,1.13l1.13,1.13l1.13,-1.13l-1.13,-1.13l1.13,-1.13l-1.13,-1.13l-1.13,1.13l-1.13,-1.13l-1.13,1.13l1.13,1.13l-1.13,1.13l1.13,1.13Z\" style=\"opacity: 1; stroke-width: 0px; fill: rgb(0, 0, 255); fill-opacity: 1;\"/><path class=\"point\" transform=\"translate(275.59,15.87)\" d=\"M0,1.13l1.13,1.13l1.13,-1.13l-1.13,-1.13l1.13,-1.13l-1.13,-1.13l-1.13,1.13l-1.13,-1.13l-1.13,1.13l1.13,1.13l-1.13,1.13l1.13,1.13Z\" style=\"opacity: 1; stroke-width: 0px; fill: rgb(0, 0, 255); fill-opacity: 1;\"/><path class=\"point\" transform=\"translate(278.39,21.24)\" d=\"M0,1.13l1.13,1.13l1.13,-1.13l-1.13,-1.13l1.13,-1.13l-1.13,-1.13l-1.13,1.13l-1.13,-1.13l-1.13,1.13l1.13,1.13l-1.13,1.13l1.13,1.13Z\" style=\"opacity: 1; stroke-width: 0px; fill: rgb(0, 0, 255); fill-opacity: 1;\"/><path class=\"point\" transform=\"translate(281.19,26.28)\" d=\"M0,1.13l1.13,1.13l1.13,-1.13l-1.13,-1.13l1.13,-1.13l-1.13,-1.13l-1.13,1.13l-1.13,-1.13l-1.13,1.13l1.13,1.13l-1.13,1.13l1.13,1.13Z\" style=\"opacity: 1; stroke-width: 0px; fill: rgb(0, 0, 255); fill-opacity: 1;\"/><path class=\"point\" transform=\"translate(283.99,30.3)\" d=\"M0,1.13l1.13,1.13l1.13,-1.13l-1.13,-1.13l1.13,-1.13l-1.13,-1.13l-1.13,1.13l-1.13,-1.13l-1.13,1.13l1.13,1.13l-1.13,1.13l1.13,1.13Z\" style=\"opacity: 1; stroke-width: 0px; fill: rgb(0, 0, 255); fill-opacity: 1;\"/><path class=\"point\" transform=\"translate(286.79,33.04)\" d=\"M0,1.13l1.13,1.13l1.13,-1.13l-1.13,-1.13l1.13,-1.13l-1.13,-1.13l-1.13,1.13l-1.13,-1.13l-1.13,1.13l1.13,1.13l-1.13,1.13l1.13,1.13Z\" style=\"opacity: 1; stroke-width: 0px; fill: rgb(0, 0, 255); fill-opacity: 1;\"/><path class=\"point\" transform=\"translate(289.59,35.24)\" d=\"M0,1.13l1.13,1.13l1.13,-1.13l-1.13,-1.13l1.13,-1.13l-1.13,-1.13l-1.13,1.13l-1.13,-1.13l-1.13,1.13l1.13,1.13l-1.13,1.13l1.13,1.13Z\" style=\"opacity: 1; stroke-width: 0px; fill: rgb(0, 0, 255); fill-opacity: 1;\"/><path class=\"point\" transform=\"translate(292.39,36.33)\" d=\"M0,1.13l1.13,1.13l1.13,-1.13l-1.13,-1.13l1.13,-1.13l-1.13,-1.13l-1.13,1.13l-1.13,-1.13l-1.13,1.13l1.13,1.13l-1.13,1.13l1.13,1.13Z\" style=\"opacity: 1; stroke-width: 0px; fill: rgb(0, 0, 255); fill-opacity: 1;\"/><path class=\"point\" transform=\"translate(295.19,36.63)\" d=\"M0,1.13l1.13,1.13l1.13,-1.13l-1.13,-1.13l1.13,-1.13l-1.13,-1.13l-1.13,1.13l-1.13,-1.13l-1.13,1.13l1.13,1.13l-1.13,1.13l1.13,1.13Z\" style=\"opacity: 1; stroke-width: 0px; fill: rgb(0, 0, 255); fill-opacity: 1;\"/><path class=\"point\" transform=\"translate(297.99,36.62)\" d=\"M0,1.13l1.13,1.13l1.13,-1.13l-1.13,-1.13l1.13,-1.13l-1.13,-1.13l-1.13,1.13l-1.13,-1.13l-1.13,1.13l1.13,1.13l-1.13,1.13l1.13,1.13Z\" style=\"opacity: 1; stroke-width: 0px; fill: rgb(0, 0, 255); fill-opacity: 1;\"/><path class=\"point\" transform=\"translate(300.78,36.45)\" d=\"M0,1.13l1.13,1.13l1.13,-1.13l-1.13,-1.13l1.13,-1.13l-1.13,-1.13l-1.13,1.13l-1.13,-1.13l-1.13,1.13l1.13,1.13l-1.13,1.13l1.13,1.13Z\" style=\"opacity: 1; stroke-width: 0px; fill: rgb(0, 0, 255); fill-opacity: 1;\"/><path class=\"point\" transform=\"translate(303.58,36.16)\" d=\"M0,1.13l1.13,1.13l1.13,-1.13l-1.13,-1.13l1.13,-1.13l-1.13,-1.13l-1.13,1.13l-1.13,-1.13l-1.13,1.13l1.13,1.13l-1.13,1.13l1.13,1.13Z\" style=\"opacity: 1; stroke-width: 0px; fill: rgb(0, 0, 255); fill-opacity: 1;\"/><path class=\"point\" transform=\"translate(306.38,34.71)\" d=\"M0,1.13l1.13,1.13l1.13,-1.13l-1.13,-1.13l1.13,-1.13l-1.13,-1.13l-1.13,1.13l-1.13,-1.13l-1.13,1.13l1.13,1.13l-1.13,1.13l1.13,1.13Z\" style=\"opacity: 1; stroke-width: 0px; fill: rgb(0, 0, 255); fill-opacity: 1;\"/><path class=\"point\" transform=\"translate(309.18,30.38)\" d=\"M0,1.13l1.13,1.13l1.13,-1.13l-1.13,-1.13l1.13,-1.13l-1.13,-1.13l-1.13,1.13l-1.13,-1.13l-1.13,1.13l1.13,1.13l-1.13,1.13l1.13,1.13Z\" style=\"opacity: 1; stroke-width: 0px; fill: rgb(0, 0, 255); fill-opacity: 1;\"/><path class=\"point\" transform=\"translate(311.98,23.69)\" d=\"M0,1.13l1.13,1.13l1.13,-1.13l-1.13,-1.13l1.13,-1.13l-1.13,-1.13l-1.13,1.13l-1.13,-1.13l-1.13,1.13l1.13,1.13l-1.13,1.13l1.13,1.13Z\" style=\"opacity: 1; stroke-width: 0px; fill: rgb(0, 0, 255); fill-opacity: 1;\"/><path class=\"point\" transform=\"translate(314.78,16.9)\" d=\"M0,1.13l1.13,1.13l1.13,-1.13l-1.13,-1.13l1.13,-1.13l-1.13,-1.13l-1.13,1.13l-1.13,-1.13l-1.13,1.13l1.13,1.13l-1.13,1.13l1.13,1.13Z\" style=\"opacity: 1; stroke-width: 0px; fill: rgb(0, 0, 255); fill-opacity: 1;\"/><path class=\"point\" transform=\"translate(317.58,12.62)\" d=\"M0,1.13l1.13,1.13l1.13,-1.13l-1.13,-1.13l1.13,-1.13l-1.13,-1.13l-1.13,1.13l-1.13,-1.13l-1.13,1.13l1.13,1.13l-1.13,1.13l1.13,1.13Z\" style=\"opacity: 1; stroke-width: 0px; fill: rgb(0, 0, 255); fill-opacity: 1;\"/><path class=\"point\" transform=\"translate(320.38,11.61)\" d=\"M0,1.13l1.13,1.13l1.13,-1.13l-1.13,-1.13l1.13,-1.13l-1.13,-1.13l-1.13,1.13l-1.13,-1.13l-1.13,1.13l1.13,1.13l-1.13,1.13l1.13,1.13Z\" style=\"opacity: 1; stroke-width: 0px; fill: rgb(0, 0, 255); fill-opacity: 1;\"/><path class=\"point\" transform=\"translate(323.17,11.74)\" d=\"M0,1.13l1.13,1.13l1.13,-1.13l-1.13,-1.13l1.13,-1.13l-1.13,-1.13l-1.13,1.13l-1.13,-1.13l-1.13,1.13l1.13,1.13l-1.13,1.13l1.13,1.13Z\" style=\"opacity: 1; stroke-width: 0px; fill: rgb(0, 0, 255); fill-opacity: 1;\"/><path class=\"point\" transform=\"translate(325.97,11.91)\" d=\"M0,1.13l1.13,1.13l1.13,-1.13l-1.13,-1.13l1.13,-1.13l-1.13,-1.13l-1.13,1.13l-1.13,-1.13l-1.13,1.13l1.13,1.13l-1.13,1.13l1.13,1.13Z\" style=\"opacity: 1; stroke-width: 0px; fill: rgb(0, 0, 255); fill-opacity: 1;\"/><path class=\"point\" transform=\"translate(328.77,12.59)\" d=\"M0,1.13l1.13,1.13l1.13,-1.13l-1.13,-1.13l1.13,-1.13l-1.13,-1.13l-1.13,1.13l-1.13,-1.13l-1.13,1.13l1.13,1.13l-1.13,1.13l1.13,1.13Z\" style=\"opacity: 1; stroke-width: 0px; fill: rgb(0, 0, 255); fill-opacity: 1;\"/><path class=\"point\" transform=\"translate(331.57,13.73)\" d=\"M0,1.13l1.13,1.13l1.13,-1.13l-1.13,-1.13l1.13,-1.13l-1.13,-1.13l-1.13,1.13l-1.13,-1.13l-1.13,1.13l1.13,1.13l-1.13,1.13l1.13,1.13Z\" style=\"opacity: 1; stroke-width: 0px; fill: rgb(0, 0, 255); fill-opacity: 1;\"/><path class=\"point\" transform=\"translate(334.37,13.79)\" d=\"M0,1.13l1.13,1.13l1.13,-1.13l-1.13,-1.13l1.13,-1.13l-1.13,-1.13l-1.13,1.13l-1.13,-1.13l-1.13,1.13l1.13,1.13l-1.13,1.13l1.13,1.13Z\" style=\"opacity: 1; stroke-width: 0px; fill: rgb(0, 0, 255); fill-opacity: 1;\"/><path class=\"point\" transform=\"translate(337.17,12.8)\" d=\"M0,1.13l1.13,1.13l1.13,-1.13l-1.13,-1.13l1.13,-1.13l-1.13,-1.13l-1.13,1.13l-1.13,-1.13l-1.13,1.13l1.13,1.13l-1.13,1.13l1.13,1.13Z\" style=\"opacity: 1; stroke-width: 0px; fill: rgb(0, 0, 255); fill-opacity: 1;\"/><path class=\"point\" transform=\"translate(339.97,13.04)\" d=\"M0,1.13l1.13,1.13l1.13,-1.13l-1.13,-1.13l1.13,-1.13l-1.13,-1.13l-1.13,1.13l-1.13,-1.13l-1.13,1.13l1.13,1.13l-1.13,1.13l1.13,1.13Z\" style=\"opacity: 1; stroke-width: 0px; fill: rgb(0, 0, 255); fill-opacity: 1;\"/><path class=\"point\" transform=\"translate(342.77,16.62)\" d=\"M0,1.13l1.13,1.13l1.13,-1.13l-1.13,-1.13l1.13,-1.13l-1.13,-1.13l-1.13,1.13l-1.13,-1.13l-1.13,1.13l1.13,1.13l-1.13,1.13l1.13,1.13Z\" style=\"opacity: 1; stroke-width: 0px; fill: rgb(0, 0, 255); fill-opacity: 1;\"/><path class=\"point\" transform=\"translate(345.56,22.14)\" d=\"M0,1.13l1.13,1.13l1.13,-1.13l-1.13,-1.13l1.13,-1.13l-1.13,-1.13l-1.13,1.13l-1.13,-1.13l-1.13,1.13l1.13,1.13l-1.13,1.13l1.13,1.13Z\" style=\"opacity: 1; stroke-width: 0px; fill: rgb(0, 0, 255); fill-opacity: 1;\"/><path class=\"point\" transform=\"translate(348.36,27.52)\" d=\"M0,1.13l1.13,1.13l1.13,-1.13l-1.13,-1.13l1.13,-1.13l-1.13,-1.13l-1.13,1.13l-1.13,-1.13l-1.13,1.13l1.13,1.13l-1.13,1.13l1.13,1.13Z\" style=\"opacity: 1; stroke-width: 0px; fill: rgb(0, 0, 255); fill-opacity: 1;\"/><path class=\"point\" transform=\"translate(351.16,31.61)\" d=\"M0,1.13l1.13,1.13l1.13,-1.13l-1.13,-1.13l1.13,-1.13l-1.13,-1.13l-1.13,1.13l-1.13,-1.13l-1.13,1.13l1.13,1.13l-1.13,1.13l1.13,1.13Z\" style=\"opacity: 1; stroke-width: 0px; fill: rgb(0, 0, 255); fill-opacity: 1;\"/><path class=\"point\" transform=\"translate(353.96,34.79)\" d=\"M0,1.13l1.13,1.13l1.13,-1.13l-1.13,-1.13l1.13,-1.13l-1.13,-1.13l-1.13,1.13l-1.13,-1.13l-1.13,1.13l1.13,1.13l-1.13,1.13l1.13,1.13Z\" style=\"opacity: 1; stroke-width: 0px; fill: rgb(0, 0, 255); fill-opacity: 1;\"/><path class=\"point\" transform=\"translate(356.76,37.27)\" d=\"M0,1.13l1.13,1.13l1.13,-1.13l-1.13,-1.13l1.13,-1.13l-1.13,-1.13l-1.13,1.13l-1.13,-1.13l-1.13,1.13l1.13,1.13l-1.13,1.13l1.13,1.13Z\" style=\"opacity: 1; stroke-width: 0px; fill: rgb(0, 0, 255); fill-opacity: 1;\"/><path class=\"point\" transform=\"translate(359.56,38.84)\" d=\"M0,1.13l1.13,1.13l1.13,-1.13l-1.13,-1.13l1.13,-1.13l-1.13,-1.13l-1.13,1.13l-1.13,-1.13l-1.13,1.13l1.13,1.13l-1.13,1.13l1.13,1.13Z\" style=\"opacity: 1; stroke-width: 0px; fill: rgb(0, 0, 255); fill-opacity: 1;\"/><path class=\"point\" transform=\"translate(362.36,39.53)\" d=\"M0,1.13l1.13,1.13l1.13,-1.13l-1.13,-1.13l1.13,-1.13l-1.13,-1.13l-1.13,1.13l-1.13,-1.13l-1.13,1.13l1.13,1.13l-1.13,1.13l1.13,1.13Z\" style=\"opacity: 1; stroke-width: 0px; fill: rgb(0, 0, 255); fill-opacity: 1;\"/><path class=\"point\" transform=\"translate(365.16,39.9)\" d=\"M0,1.13l1.13,1.13l1.13,-1.13l-1.13,-1.13l1.13,-1.13l-1.13,-1.13l-1.13,1.13l-1.13,-1.13l-1.13,1.13l1.13,1.13l-1.13,1.13l1.13,1.13Z\" style=\"opacity: 1; stroke-width: 0px; fill: rgb(0, 0, 255); fill-opacity: 1;\"/><path class=\"point\" transform=\"translate(367.96,40.27)\" d=\"M0,1.13l1.13,1.13l1.13,-1.13l-1.13,-1.13l1.13,-1.13l-1.13,-1.13l-1.13,1.13l-1.13,-1.13l-1.13,1.13l1.13,1.13l-1.13,1.13l1.13,1.13Z\" style=\"opacity: 1; stroke-width: 0px; fill: rgb(0, 0, 255); fill-opacity: 1;\"/><path class=\"point\" transform=\"translate(370.75,40.46)\" d=\"M0,1.13l1.13,1.13l1.13,-1.13l-1.13,-1.13l1.13,-1.13l-1.13,-1.13l-1.13,1.13l-1.13,-1.13l-1.13,1.13l1.13,1.13l-1.13,1.13l1.13,1.13Z\" style=\"opacity: 1; stroke-width: 0px; fill: rgb(0, 0, 255); fill-opacity: 1;\"/><path class=\"point\" transform=\"translate(373.55,39.29)\" d=\"M0,1.13l1.13,1.13l1.13,-1.13l-1.13,-1.13l1.13,-1.13l-1.13,-1.13l-1.13,1.13l-1.13,-1.13l-1.13,1.13l1.13,1.13l-1.13,1.13l1.13,1.13Z\" style=\"opacity: 1; stroke-width: 0px; fill: rgb(0, 0, 255); fill-opacity: 1;\"/><path class=\"point\" transform=\"translate(376.35,35.65)\" d=\"M0,1.13l1.13,1.13l1.13,-1.13l-1.13,-1.13l1.13,-1.13l-1.13,-1.13l-1.13,1.13l-1.13,-1.13l-1.13,1.13l1.13,1.13l-1.13,1.13l1.13,1.13Z\" style=\"opacity: 1; stroke-width: 0px; fill: rgb(0, 0, 255); fill-opacity: 1;\"/><path class=\"point\" transform=\"translate(379.15,29.43)\" d=\"M0,1.13l1.13,1.13l1.13,-1.13l-1.13,-1.13l1.13,-1.13l-1.13,-1.13l-1.13,1.13l-1.13,-1.13l-1.13,1.13l1.13,1.13l-1.13,1.13l1.13,1.13Z\" style=\"opacity: 1; stroke-width: 0px; fill: rgb(0, 0, 255); fill-opacity: 1;\"/><path class=\"point\" transform=\"translate(381.95,23.08)\" d=\"M0,1.13l1.13,1.13l1.13,-1.13l-1.13,-1.13l1.13,-1.13l-1.13,-1.13l-1.13,1.13l-1.13,-1.13l-1.13,1.13l1.13,1.13l-1.13,1.13l1.13,1.13Z\" style=\"opacity: 1; stroke-width: 0px; fill: rgb(0, 0, 255); fill-opacity: 1;\"/><path class=\"point\" transform=\"translate(384.75,19.39)\" d=\"M0,1.13l1.13,1.13l1.13,-1.13l-1.13,-1.13l1.13,-1.13l-1.13,-1.13l-1.13,1.13l-1.13,-1.13l-1.13,1.13l1.13,1.13l-1.13,1.13l1.13,1.13Z\" style=\"opacity: 1; stroke-width: 0px; fill: rgb(0, 0, 255); fill-opacity: 1;\"/><path class=\"point\" transform=\"translate(387.55,18.87)\" d=\"M0,1.13l1.13,1.13l1.13,-1.13l-1.13,-1.13l1.13,-1.13l-1.13,-1.13l-1.13,1.13l-1.13,-1.13l-1.13,1.13l1.13,1.13l-1.13,1.13l1.13,1.13Z\" style=\"opacity: 1; stroke-width: 0px; fill: rgb(0, 0, 255); fill-opacity: 1;\"/><path class=\"point\" transform=\"translate(390.35,19.48)\" d=\"M0,1.13l1.13,1.13l1.13,-1.13l-1.13,-1.13l1.13,-1.13l-1.13,-1.13l-1.13,1.13l-1.13,-1.13l-1.13,1.13l1.13,1.13l-1.13,1.13l1.13,1.13Z\" style=\"opacity: 1; stroke-width: 0px; fill: rgb(0, 0, 255); fill-opacity: 1;\"/><path class=\"point\" transform=\"translate(393.14,20.1)\" d=\"M0,1.13l1.13,1.13l1.13,-1.13l-1.13,-1.13l1.13,-1.13l-1.13,-1.13l-1.13,1.13l-1.13,-1.13l-1.13,1.13l1.13,1.13l-1.13,1.13l1.13,1.13Z\" style=\"opacity: 1; stroke-width: 0px; fill: rgb(0, 0, 255); fill-opacity: 1;\"/><path class=\"point\" transform=\"translate(395.94,21.29)\" d=\"M0,1.13l1.13,1.13l1.13,-1.13l-1.13,-1.13l1.13,-1.13l-1.13,-1.13l-1.13,1.13l-1.13,-1.13l-1.13,1.13l1.13,1.13l-1.13,1.13l1.13,1.13Z\" style=\"opacity: 1; stroke-width: 0px; fill: rgb(0, 0, 255); fill-opacity: 1;\"/><path class=\"point\" transform=\"translate(398.74,22.82)\" d=\"M0,1.13l1.13,1.13l1.13,-1.13l-1.13,-1.13l1.13,-1.13l-1.13,-1.13l-1.13,1.13l-1.13,-1.13l-1.13,1.13l1.13,1.13l-1.13,1.13l1.13,1.13Z\" style=\"opacity: 1; stroke-width: 0px; fill: rgb(0, 0, 255); fill-opacity: 1;\"/><path class=\"point\" transform=\"translate(401.54,23.34)\" d=\"M0,1.13l1.13,1.13l1.13,-1.13l-1.13,-1.13l1.13,-1.13l-1.13,-1.13l-1.13,1.13l-1.13,-1.13l-1.13,1.13l1.13,1.13l-1.13,1.13l1.13,1.13Z\" style=\"opacity: 1; stroke-width: 0px; fill: rgb(0, 0, 255); fill-opacity: 1;\"/><path class=\"point\" transform=\"translate(404.34,22.74)\" d=\"M0,1.13l1.13,1.13l1.13,-1.13l-1.13,-1.13l1.13,-1.13l-1.13,-1.13l-1.13,1.13l-1.13,-1.13l-1.13,1.13l1.13,1.13l-1.13,1.13l1.13,1.13Z\" style=\"opacity: 1; stroke-width: 0px; fill: rgb(0, 0, 255); fill-opacity: 1;\"/><path class=\"point\" transform=\"translate(407.14,23.26)\" d=\"M0,1.13l1.13,1.13l1.13,-1.13l-1.13,-1.13l1.13,-1.13l-1.13,-1.13l-1.13,1.13l-1.13,-1.13l-1.13,1.13l1.13,1.13l-1.13,1.13l1.13,1.13Z\" style=\"opacity: 1; stroke-width: 0px; fill: rgb(0, 0, 255); fill-opacity: 1;\"/><path class=\"point\" transform=\"translate(409.94,27.14)\" d=\"M0,1.13l1.13,1.13l1.13,-1.13l-1.13,-1.13l1.13,-1.13l-1.13,-1.13l-1.13,1.13l-1.13,-1.13l-1.13,1.13l1.13,1.13l-1.13,1.13l1.13,1.13Z\" style=\"opacity: 1; stroke-width: 0px; fill: rgb(0, 0, 255); fill-opacity: 1;\"/><path class=\"point\" transform=\"translate(412.74,32.85)\" d=\"M0,1.13l1.13,1.13l1.13,-1.13l-1.13,-1.13l1.13,-1.13l-1.13,-1.13l-1.13,1.13l-1.13,-1.13l-1.13,1.13l1.13,1.13l-1.13,1.13l1.13,1.13Z\" style=\"opacity: 1; stroke-width: 0px; fill: rgb(0, 0, 255); fill-opacity: 1;\"/><path class=\"point\" transform=\"translate(415.53,38.44)\" d=\"M0,1.13l1.13,1.13l1.13,-1.13l-1.13,-1.13l1.13,-1.13l-1.13,-1.13l-1.13,1.13l-1.13,-1.13l-1.13,1.13l1.13,1.13l-1.13,1.13l1.13,1.13Z\" style=\"opacity: 1; stroke-width: 0px; fill: rgb(0, 0, 255); fill-opacity: 1;\"/><path class=\"point\" transform=\"translate(418.33,42.92)\" d=\"M0,1.13l1.13,1.13l1.13,-1.13l-1.13,-1.13l1.13,-1.13l-1.13,-1.13l-1.13,1.13l-1.13,-1.13l-1.13,1.13l1.13,1.13l-1.13,1.13l1.13,1.13Z\" style=\"opacity: 1; stroke-width: 0px; fill: rgb(0, 0, 255); fill-opacity: 1;\"/><path class=\"point\" transform=\"translate(421.13,46.05)\" d=\"M0,1.13l1.13,1.13l1.13,-1.13l-1.13,-1.13l1.13,-1.13l-1.13,-1.13l-1.13,1.13l-1.13,-1.13l-1.13,1.13l1.13,1.13l-1.13,1.13l1.13,1.13Z\" style=\"opacity: 1; stroke-width: 0px; fill: rgb(0, 0, 255); fill-opacity: 1;\"/><path class=\"point\" transform=\"translate(423.93,48.46)\" d=\"M0,1.13l1.13,1.13l1.13,-1.13l-1.13,-1.13l1.13,-1.13l-1.13,-1.13l-1.13,1.13l-1.13,-1.13l-1.13,1.13l1.13,1.13l-1.13,1.13l1.13,1.13Z\" style=\"opacity: 1; stroke-width: 0px; fill: rgb(0, 0, 255); fill-opacity: 1;\"/><path class=\"point\" transform=\"translate(426.73,49.85)\" d=\"M0,1.13l1.13,1.13l1.13,-1.13l-1.13,-1.13l1.13,-1.13l-1.13,-1.13l-1.13,1.13l-1.13,-1.13l-1.13,1.13l1.13,1.13l-1.13,1.13l1.13,1.13Z\" style=\"opacity: 1; stroke-width: 0px; fill: rgb(0, 0, 255); fill-opacity: 1;\"/><path class=\"point\" transform=\"translate(429.53,50.51)\" d=\"M0,1.13l1.13,1.13l1.13,-1.13l-1.13,-1.13l1.13,-1.13l-1.13,-1.13l-1.13,1.13l-1.13,-1.13l-1.13,1.13l1.13,1.13l-1.13,1.13l1.13,1.13Z\" style=\"opacity: 1; stroke-width: 0px; fill: rgb(0, 0, 255); fill-opacity: 1;\"/><path class=\"point\" transform=\"translate(432.33,50.69)\" d=\"M0,1.13l1.13,1.13l1.13,-1.13l-1.13,-1.13l1.13,-1.13l-1.13,-1.13l-1.13,1.13l-1.13,-1.13l-1.13,1.13l1.13,1.13l-1.13,1.13l1.13,1.13Z\" style=\"opacity: 1; stroke-width: 0px; fill: rgb(0, 0, 255); fill-opacity: 1;\"/><path class=\"point\" transform=\"translate(435.13,50.83)\" d=\"M0,1.13l1.13,1.13l1.13,-1.13l-1.13,-1.13l1.13,-1.13l-1.13,-1.13l-1.13,1.13l-1.13,-1.13l-1.13,1.13l1.13,1.13l-1.13,1.13l1.13,1.13Z\" style=\"opacity: 1; stroke-width: 0px; fill: rgb(0, 0, 255); fill-opacity: 1;\"/><path class=\"point\" transform=\"translate(437.93,50.63)\" d=\"M0,1.13l1.13,1.13l1.13,-1.13l-1.13,-1.13l1.13,-1.13l-1.13,-1.13l-1.13,1.13l-1.13,-1.13l-1.13,1.13l1.13,1.13l-1.13,1.13l1.13,1.13Z\" style=\"opacity: 1; stroke-width: 0px; fill: rgb(0, 0, 255); fill-opacity: 1;\"/><path class=\"point\" transform=\"translate(440.72,49.17)\" d=\"M0,1.13l1.13,1.13l1.13,-1.13l-1.13,-1.13l1.13,-1.13l-1.13,-1.13l-1.13,1.13l-1.13,-1.13l-1.13,1.13l1.13,1.13l-1.13,1.13l1.13,1.13Z\" style=\"opacity: 1; stroke-width: 0px; fill: rgb(0, 0, 255); fill-opacity: 1;\"/><path class=\"point\" transform=\"translate(443.52,45.03)\" d=\"M0,1.13l1.13,1.13l1.13,-1.13l-1.13,-1.13l1.13,-1.13l-1.13,-1.13l-1.13,1.13l-1.13,-1.13l-1.13,1.13l1.13,1.13l-1.13,1.13l1.13,1.13Z\" style=\"opacity: 1; stroke-width: 0px; fill: rgb(0, 0, 255); fill-opacity: 1;\"/><path class=\"point\" transform=\"translate(446.32,38.31)\" d=\"M0,1.13l1.13,1.13l1.13,-1.13l-1.13,-1.13l1.13,-1.13l-1.13,-1.13l-1.13,1.13l-1.13,-1.13l-1.13,1.13l1.13,1.13l-1.13,1.13l1.13,1.13Z\" style=\"opacity: 1; stroke-width: 0px; fill: rgb(0, 0, 255); fill-opacity: 1;\"/><path class=\"point\" transform=\"translate(449.12,31.38)\" d=\"M0,1.13l1.13,1.13l1.13,-1.13l-1.13,-1.13l1.13,-1.13l-1.13,-1.13l-1.13,1.13l-1.13,-1.13l-1.13,1.13l1.13,1.13l-1.13,1.13l1.13,1.13Z\" style=\"opacity: 1; stroke-width: 0px; fill: rgb(0, 0, 255); fill-opacity: 1;\"/><path class=\"point\" transform=\"translate(451.92,26.94)\" d=\"M0,1.13l1.13,1.13l1.13,-1.13l-1.13,-1.13l1.13,-1.13l-1.13,-1.13l-1.13,1.13l-1.13,-1.13l-1.13,1.13l1.13,1.13l-1.13,1.13l1.13,1.13Z\" style=\"opacity: 1; stroke-width: 0px; fill: rgb(0, 0, 255); fill-opacity: 1;\"/><path class=\"point\" transform=\"translate(454.72,25.71)\" d=\"M0,1.13l1.13,1.13l1.13,-1.13l-1.13,-1.13l1.13,-1.13l-1.13,-1.13l-1.13,1.13l-1.13,-1.13l-1.13,1.13l1.13,1.13l-1.13,1.13l1.13,1.13Z\" style=\"opacity: 1; stroke-width: 0px; fill: rgb(0, 0, 255); fill-opacity: 1;\"/><path class=\"point\" transform=\"translate(457.52,25.61)\" d=\"M0,1.13l1.13,1.13l1.13,-1.13l-1.13,-1.13l1.13,-1.13l-1.13,-1.13l-1.13,1.13l-1.13,-1.13l-1.13,1.13l1.13,1.13l-1.13,1.13l1.13,1.13Z\" style=\"opacity: 1; stroke-width: 0px; fill: rgb(0, 0, 255); fill-opacity: 1;\"/><path class=\"point\" transform=\"translate(460.32,25.46)\" d=\"M0,1.13l1.13,1.13l1.13,-1.13l-1.13,-1.13l1.13,-1.13l-1.13,-1.13l-1.13,1.13l-1.13,-1.13l-1.13,1.13l1.13,1.13l-1.13,1.13l1.13,1.13Z\" style=\"opacity: 1; stroke-width: 0px; fill: rgb(0, 0, 255); fill-opacity: 1;\"/><path class=\"point\" transform=\"translate(463.11,25.79)\" d=\"M0,1.13l1.13,1.13l1.13,-1.13l-1.13,-1.13l1.13,-1.13l-1.13,-1.13l-1.13,1.13l-1.13,-1.13l-1.13,1.13l1.13,1.13l-1.13,1.13l1.13,1.13Z\" style=\"opacity: 1; stroke-width: 0px; fill: rgb(0, 0, 255); fill-opacity: 1;\"/><path class=\"point\" transform=\"translate(465.91,26.47)\" d=\"M0,1.13l1.13,1.13l1.13,-1.13l-1.13,-1.13l1.13,-1.13l-1.13,-1.13l-1.13,1.13l-1.13,-1.13l-1.13,1.13l1.13,1.13l-1.13,1.13l1.13,1.13Z\" style=\"opacity: 1; stroke-width: 0px; fill: rgb(0, 0, 255); fill-opacity: 1;\"/><path class=\"point\" transform=\"translate(468.71,26.02)\" d=\"M0,1.13l1.13,1.13l1.13,-1.13l-1.13,-1.13l1.13,-1.13l-1.13,-1.13l-1.13,1.13l-1.13,-1.13l-1.13,1.13l1.13,1.13l-1.13,1.13l1.13,1.13Z\" style=\"opacity: 1; stroke-width: 0px; fill: rgb(0, 0, 255); fill-opacity: 1;\"/><path class=\"point\" transform=\"translate(471.51,24.59)\" d=\"M0,1.13l1.13,1.13l1.13,-1.13l-1.13,-1.13l1.13,-1.13l-1.13,-1.13l-1.13,1.13l-1.13,-1.13l-1.13,1.13l1.13,1.13l-1.13,1.13l1.13,1.13Z\" style=\"opacity: 1; stroke-width: 0px; fill: rgb(0, 0, 255); fill-opacity: 1;\"/><path class=\"point\" transform=\"translate(474.31,24.19)\" d=\"M0,1.13l1.13,1.13l1.13,-1.13l-1.13,-1.13l1.13,-1.13l-1.13,-1.13l-1.13,1.13l-1.13,-1.13l-1.13,1.13l1.13,1.13l-1.13,1.13l1.13,1.13Z\" style=\"opacity: 1; stroke-width: 0px; fill: rgb(0, 0, 255); fill-opacity: 1;\"/><path class=\"point\" transform=\"translate(477.11,26.99)\" d=\"M0,1.13l1.13,1.13l1.13,-1.13l-1.13,-1.13l1.13,-1.13l-1.13,-1.13l-1.13,1.13l-1.13,-1.13l-1.13,1.13l1.13,1.13l-1.13,1.13l1.13,1.13Z\" style=\"opacity: 1; stroke-width: 0px; fill: rgb(0, 0, 255); fill-opacity: 1;\"/><path class=\"point\" transform=\"translate(479.91,31.85)\" d=\"M0,1.13l1.13,1.13l1.13,-1.13l-1.13,-1.13l1.13,-1.13l-1.13,-1.13l-1.13,1.13l-1.13,-1.13l-1.13,1.13l1.13,1.13l-1.13,1.13l1.13,1.13Z\" style=\"opacity: 1; stroke-width: 0px; fill: rgb(0, 0, 255); fill-opacity: 1;\"/><path class=\"point\" transform=\"translate(482.71,36.42)\" d=\"M0,1.13l1.13,1.13l1.13,-1.13l-1.13,-1.13l1.13,-1.13l-1.13,-1.13l-1.13,1.13l-1.13,-1.13l-1.13,1.13l1.13,1.13l-1.13,1.13l1.13,1.13Z\" style=\"opacity: 1; stroke-width: 0px; fill: rgb(0, 0, 255); fill-opacity: 1;\"/><path class=\"point\" transform=\"translate(485.5,39.73)\" d=\"M0,1.13l1.13,1.13l1.13,-1.13l-1.13,-1.13l1.13,-1.13l-1.13,-1.13l-1.13,1.13l-1.13,-1.13l-1.13,1.13l1.13,1.13l-1.13,1.13l1.13,1.13Z\" style=\"opacity: 1; stroke-width: 0px; fill: rgb(0, 0, 255); fill-opacity: 1;\"/><path class=\"point\" transform=\"translate(488.3,42.14)\" d=\"M0,1.13l1.13,1.13l1.13,-1.13l-1.13,-1.13l1.13,-1.13l-1.13,-1.13l-1.13,1.13l-1.13,-1.13l-1.13,1.13l1.13,1.13l-1.13,1.13l1.13,1.13Z\" style=\"opacity: 1; stroke-width: 0px; fill: rgb(0, 0, 255); fill-opacity: 1;\"/><path class=\"point\" transform=\"translate(491.1,43.62)\" d=\"M0,1.13l1.13,1.13l1.13,-1.13l-1.13,-1.13l1.13,-1.13l-1.13,-1.13l-1.13,1.13l-1.13,-1.13l-1.13,1.13l1.13,1.13l-1.13,1.13l1.13,1.13Z\" style=\"opacity: 1; stroke-width: 0px; fill: rgb(0, 0, 255); fill-opacity: 1;\"/><path class=\"point\" transform=\"translate(493.9,44.18)\" d=\"M0,1.13l1.13,1.13l1.13,-1.13l-1.13,-1.13l1.13,-1.13l-1.13,-1.13l-1.13,1.13l-1.13,-1.13l-1.13,1.13l1.13,1.13l-1.13,1.13l1.13,1.13Z\" style=\"opacity: 1; stroke-width: 0px; fill: rgb(0, 0, 255); fill-opacity: 1;\"/><path class=\"point\" transform=\"translate(496.7,44.01)\" d=\"M0,1.13l1.13,1.13l1.13,-1.13l-1.13,-1.13l1.13,-1.13l-1.13,-1.13l-1.13,1.13l-1.13,-1.13l-1.13,1.13l1.13,1.13l-1.13,1.13l1.13,1.13Z\" style=\"opacity: 1; stroke-width: 0px; fill: rgb(0, 0, 255); fill-opacity: 1;\"/></g><g class=\"text\"/></g><g class=\"trace scatter trace0538a4\" style=\"stroke-miterlimit: 2; opacity: 1;\"><g class=\"fills\"/><g class=\"errorbars\"/><g class=\"lines\"/><g class=\"points\"><path class=\"point\" transform=\"translate(29.3,40.47)\" d=\"M2,0A2,2 0 1,1 0,-2A2,2 0 0,1 2,0Z\" style=\"opacity: 1; stroke-width: 0px; fill: rgb(0, 0, 0); fill-opacity: 1;\"/><path class=\"point\" transform=\"translate(32.1,40.34)\" d=\"M2,0A2,2 0 1,1 0,-2A2,2 0 0,1 2,0Z\" style=\"opacity: 1; stroke-width: 0px; fill: rgb(0, 0, 0); fill-opacity: 1;\"/><path class=\"point\" transform=\"translate(34.9,40.27)\" d=\"M2,0A2,2 0 1,1 0,-2A2,2 0 0,1 2,0Z\" style=\"opacity: 1; stroke-width: 0px; fill: rgb(0, 0, 0); fill-opacity: 1;\"/><path class=\"point\" transform=\"translate(37.7,40.23)\" d=\"M2,0A2,2 0 1,1 0,-2A2,2 0 0,1 2,0Z\" style=\"opacity: 1; stroke-width: 0px; fill: rgb(0, 0, 0); fill-opacity: 1;\"/><path class=\"point\" transform=\"translate(40.5,40.11)\" d=\"M2,0A2,2 0 1,1 0,-2A2,2 0 0,1 2,0Z\" style=\"opacity: 1; stroke-width: 0px; fill: rgb(0, 0, 0); fill-opacity: 1;\"/><path class=\"point\" transform=\"translate(43.29,39.75)\" d=\"M2,0A2,2 0 1,1 0,-2A2,2 0 0,1 2,0Z\" style=\"opacity: 1; stroke-width: 0px; fill: rgb(0, 0, 0); fill-opacity: 1;\"/><path class=\"point\" transform=\"translate(46.09,35.38)\" d=\"M2,0A2,2 0 1,1 0,-2A2,2 0 0,1 2,0Z\" style=\"opacity: 1; stroke-width: 0px; fill: rgb(0, 0, 0); fill-opacity: 1;\"/><path class=\"point\" transform=\"translate(48.89,36.06)\" d=\"M2,0A2,2 0 1,1 0,-2A2,2 0 0,1 2,0Z\" style=\"opacity: 1; stroke-width: 0px; fill: rgb(0, 0, 0); fill-opacity: 1;\"/><path class=\"point\" transform=\"translate(51.69,31.13)\" d=\"M2,0A2,2 0 1,1 0,-2A2,2 0 0,1 2,0Z\" style=\"opacity: 1; stroke-width: 0px; fill: rgb(0, 0, 0); fill-opacity: 1;\"/><path class=\"point\" transform=\"translate(54.49,31.56)\" d=\"M2,0A2,2 0 1,1 0,-2A2,2 0 0,1 2,0Z\" style=\"opacity: 1; stroke-width: 0px; fill: rgb(0, 0, 0); fill-opacity: 1;\"/><path class=\"point\" transform=\"translate(57.29,31.18)\" d=\"M2,0A2,2 0 1,1 0,-2A2,2 0 0,1 2,0Z\" style=\"opacity: 1; stroke-width: 0px; fill: rgb(0, 0, 0); fill-opacity: 1;\"/><path class=\"point\" transform=\"translate(60.09,30.93)\" d=\"M2,0A2,2 0 1,1 0,-2A2,2 0 0,1 2,0Z\" style=\"opacity: 1; stroke-width: 0px; fill: rgb(0, 0, 0); fill-opacity: 1;\"/><path class=\"point\" transform=\"translate(62.89,31.04)\" d=\"M2,0A2,2 0 1,1 0,-2A2,2 0 0,1 2,0Z\" style=\"opacity: 1; stroke-width: 0px; fill: rgb(0, 0, 0); fill-opacity: 1;\"/><path class=\"point\" transform=\"translate(65.68,31.67)\" d=\"M2,0A2,2 0 1,1 0,-2A2,2 0 0,1 2,0Z\" style=\"opacity: 1; stroke-width: 0px; fill: rgb(0, 0, 0); fill-opacity: 1;\"/><path class=\"point\" transform=\"translate(68.48,31.91)\" d=\"M2,0A2,2 0 1,1 0,-2A2,2 0 0,1 2,0Z\" style=\"opacity: 1; stroke-width: 0px; fill: rgb(0, 0, 0); fill-opacity: 1;\"/><path class=\"point\" transform=\"translate(71.28,31.77)\" d=\"M2,0A2,2 0 1,1 0,-2A2,2 0 0,1 2,0Z\" style=\"opacity: 1; stroke-width: 0px; fill: rgb(0, 0, 0); fill-opacity: 1;\"/><path class=\"point\" transform=\"translate(74.08,33.23)\" d=\"M2,0A2,2 0 1,1 0,-2A2,2 0 0,1 2,0Z\" style=\"opacity: 1; stroke-width: 0px; fill: rgb(0, 0, 0); fill-opacity: 1;\"/><path class=\"point\" transform=\"translate(76.88,36.59)\" d=\"M2,0A2,2 0 1,1 0,-2A2,2 0 0,1 2,0Z\" style=\"opacity: 1; stroke-width: 0px; fill: rgb(0, 0, 0); fill-opacity: 1;\"/><path class=\"point\" transform=\"translate(79.68,37.76)\" d=\"M2,0A2,2 0 1,1 0,-2A2,2 0 0,1 2,0Z\" style=\"opacity: 1; stroke-width: 0px; fill: rgb(0, 0, 0); fill-opacity: 1;\"/><path class=\"point\" transform=\"translate(82.48,37.44)\" d=\"M2,0A2,2 0 1,1 0,-2A2,2 0 0,1 2,0Z\" style=\"opacity: 1; stroke-width: 0px; fill: rgb(0, 0, 0); fill-opacity: 1;\"/><path class=\"point\" transform=\"translate(85.28,39.6)\" d=\"M2,0A2,2 0 1,1 0,-2A2,2 0 0,1 2,0Z\" style=\"opacity: 1; stroke-width: 0px; fill: rgb(0, 0, 0); fill-opacity: 1;\"/><path class=\"point\" transform=\"translate(88.07,39.18)\" d=\"M2,0A2,2 0 1,1 0,-2A2,2 0 0,1 2,0Z\" style=\"opacity: 1; stroke-width: 0px; fill: rgb(0, 0, 0); fill-opacity: 1;\"/><path class=\"point\" transform=\"translate(90.87,39.44)\" d=\"M2,0A2,2 0 1,1 0,-2A2,2 0 0,1 2,0Z\" style=\"opacity: 1; stroke-width: 0px; fill: rgb(0, 0, 0); fill-opacity: 1;\"/><path class=\"point\" transform=\"translate(93.67,39.38)\" d=\"M2,0A2,2 0 1,1 0,-2A2,2 0 0,1 2,0Z\" style=\"opacity: 1; stroke-width: 0px; fill: rgb(0, 0, 0); fill-opacity: 1;\"/><path class=\"point\" transform=\"translate(96.47,40.34)\" d=\"M2,0A2,2 0 1,1 0,-2A2,2 0 0,1 2,0Z\" style=\"opacity: 1; stroke-width: 0px; fill: rgb(0, 0, 0); fill-opacity: 1;\"/><path class=\"point\" transform=\"translate(99.27,40.47)\" d=\"M2,0A2,2 0 1,1 0,-2A2,2 0 0,1 2,0Z\" style=\"opacity: 1; stroke-width: 0px; fill: rgb(0, 0, 0); fill-opacity: 1;\"/><path class=\"point\" transform=\"translate(102.07,40.62)\" d=\"M2,0A2,2 0 1,1 0,-2A2,2 0 0,1 2,0Z\" style=\"opacity: 1; stroke-width: 0px; fill: rgb(0, 0, 0); fill-opacity: 1;\"/><path class=\"point\" transform=\"translate(104.87,41.17)\" d=\"M2,0A2,2 0 1,1 0,-2A2,2 0 0,1 2,0Z\" style=\"opacity: 1; stroke-width: 0px; fill: rgb(0, 0, 0); fill-opacity: 1;\"/><path class=\"point\" transform=\"translate(107.67,36.08)\" d=\"M2,0A2,2 0 1,1 0,-2A2,2 0 0,1 2,0Z\" style=\"opacity: 1; stroke-width: 0px; fill: rgb(0, 0, 0); fill-opacity: 1;\"/><path class=\"point\" transform=\"translate(110.47,36.14)\" d=\"M2,0A2,2 0 1,1 0,-2A2,2 0 0,1 2,0Z\" style=\"opacity: 1; stroke-width: 0px; fill: rgb(0, 0, 0); fill-opacity: 1;\"/><path class=\"point\" transform=\"translate(113.26,21.9)\" d=\"M2,0A2,2 0 1,1 0,-2A2,2 0 0,1 2,0Z\" style=\"opacity: 1; stroke-width: 0px; fill: rgb(0, 0, 0); fill-opacity: 1;\"/><path class=\"point\" transform=\"translate(116.06,15.02)\" d=\"M2,0A2,2 0 1,1 0,-2A2,2 0 0,1 2,0Z\" style=\"opacity: 1; stroke-width: 0px; fill: rgb(0, 0, 0); fill-opacity: 1;\"/><path class=\"point\" transform=\"translate(118.86,12.89)\" d=\"M2,0A2,2 0 1,1 0,-2A2,2 0 0,1 2,0Z\" style=\"opacity: 1; stroke-width: 0px; fill: rgb(0, 0, 0); fill-opacity: 1;\"/><path class=\"point\" transform=\"translate(121.66,10.32)\" d=\"M2,0A2,2 0 1,1 0,-2A2,2 0 0,1 2,0Z\" style=\"opacity: 1; stroke-width: 0px; fill: rgb(0, 0, 0); fill-opacity: 1;\"/><path class=\"point\" transform=\"translate(124.46,9.21)\" d=\"M2,0A2,2 0 1,1 0,-2A2,2 0 0,1 2,0Z\" style=\"opacity: 1; stroke-width: 0px; fill: rgb(0, 0, 0); fill-opacity: 1;\"/><path class=\"point\" transform=\"translate(127.26,8.38)\" d=\"M2,0A2,2 0 1,1 0,-2A2,2 0 0,1 2,0Z\" style=\"opacity: 1; stroke-width: 0px; fill: rgb(0, 0, 0); fill-opacity: 1;\"/><path class=\"point\" transform=\"translate(130.06,10.66)\" d=\"M2,0A2,2 0 1,1 0,-2A2,2 0 0,1 2,0Z\" style=\"opacity: 1; stroke-width: 0px; fill: rgb(0, 0, 0); fill-opacity: 1;\"/><path class=\"point\" transform=\"translate(132.86,7.84)\" d=\"M2,0A2,2 0 1,1 0,-2A2,2 0 0,1 2,0Z\" style=\"opacity: 1; stroke-width: 0px; fill: rgb(0, 0, 0); fill-opacity: 1;\"/><path class=\"point\" transform=\"translate(135.65,7.21)\" d=\"M2,0A2,2 0 1,1 0,-2A2,2 0 0,1 2,0Z\" style=\"opacity: 1; stroke-width: 0px; fill: rgb(0, 0, 0); fill-opacity: 1;\"/><path class=\"point\" transform=\"translate(138.45,7.7)\" d=\"M2,0A2,2 0 1,1 0,-2A2,2 0 0,1 2,0Z\" style=\"opacity: 1; stroke-width: 0px; fill: rgb(0, 0, 0); fill-opacity: 1;\"/><path class=\"point\" transform=\"translate(141.25,8.02)\" d=\"M2,0A2,2 0 1,1 0,-2A2,2 0 0,1 2,0Z\" style=\"opacity: 1; stroke-width: 0px; fill: rgb(0, 0, 0); fill-opacity: 1;\"/><path class=\"point\" transform=\"translate(144.05,7.01)\" d=\"M2,0A2,2 0 1,1 0,-2A2,2 0 0,1 2,0Z\" style=\"opacity: 1; stroke-width: 0px; fill: rgb(0, 0, 0); fill-opacity: 1;\"/><path class=\"point\" transform=\"translate(146.85,25.33)\" d=\"M2,0A2,2 0 1,1 0,-2A2,2 0 0,1 2,0Z\" style=\"opacity: 1; stroke-width: 0px; fill: rgb(0, 0, 0); fill-opacity: 1;\"/><path class=\"point\" transform=\"translate(149.65,25.51)\" d=\"M2,0A2,2 0 1,1 0,-2A2,2 0 0,1 2,0Z\" style=\"opacity: 1; stroke-width: 0px; fill: rgb(0, 0, 0); fill-opacity: 1;\"/><path class=\"point\" transform=\"translate(152.45,33.06)\" d=\"M2,0A2,2 0 1,1 0,-2A2,2 0 0,1 2,0Z\" style=\"opacity: 1; stroke-width: 0px; fill: rgb(0, 0, 0); fill-opacity: 1;\"/><path class=\"point\" transform=\"translate(155.25,35.65)\" d=\"M2,0A2,2 0 1,1 0,-2A2,2 0 0,1 2,0Z\" style=\"opacity: 1; stroke-width: 0px; fill: rgb(0, 0, 0); fill-opacity: 1;\"/><path class=\"point\" transform=\"translate(158.04,40.22)\" d=\"M2,0A2,2 0 1,1 0,-2A2,2 0 0,1 2,0Z\" style=\"opacity: 1; stroke-width: 0px; fill: rgb(0, 0, 0); fill-opacity: 1;\"/><path class=\"point\" transform=\"translate(160.84,40.47)\" d=\"M2,0A2,2 0 1,1 0,-2A2,2 0 0,1 2,0Z\" style=\"opacity: 1; stroke-width: 0px; fill: rgb(0, 0, 0); fill-opacity: 1;\"/><path class=\"point\" transform=\"translate(163.64,41.36)\" d=\"M2,0A2,2 0 1,1 0,-2A2,2 0 0,1 2,0Z\" style=\"opacity: 1; stroke-width: 0px; fill: rgb(0, 0, 0); fill-opacity: 1;\"/><path class=\"point\" transform=\"translate(166.44,41.39)\" d=\"M2,0A2,2 0 1,1 0,-2A2,2 0 0,1 2,0Z\" style=\"opacity: 1; stroke-width: 0px; fill: rgb(0, 0, 0); fill-opacity: 1;\"/><path class=\"point\" transform=\"translate(169.24,41.76)\" d=\"M2,0A2,2 0 1,1 0,-2A2,2 0 0,1 2,0Z\" style=\"opacity: 1; stroke-width: 0px; fill: rgb(0, 0, 0); fill-opacity: 1;\"/><path class=\"point\" transform=\"translate(172.04,42.21)\" d=\"M2,0A2,2 0 1,1 0,-2A2,2 0 0,1 2,0Z\" style=\"opacity: 1; stroke-width: 0px; fill: rgb(0, 0, 0); fill-opacity: 1;\"/><path class=\"point\" transform=\"translate(174.84,36.42)\" d=\"M2,0A2,2 0 1,1 0,-2A2,2 0 0,1 2,0Z\" style=\"opacity: 1; stroke-width: 0px; fill: rgb(0, 0, 0); fill-opacity: 1;\"/><path class=\"point\" transform=\"translate(177.64,36.5)\" d=\"M2,0A2,2 0 1,1 0,-2A2,2 0 0,1 2,0Z\" style=\"opacity: 1; stroke-width: 0px; fill: rgb(0, 0, 0); fill-opacity: 1;\"/><path class=\"point\" transform=\"translate(180.44,22.53)\" d=\"M2,0A2,2 0 1,1 0,-2A2,2 0 0,1 2,0Z\" style=\"opacity: 1; stroke-width: 0px; fill: rgb(0, 0, 0); fill-opacity: 1;\"/><path class=\"point\" transform=\"translate(183.23,15)\" d=\"M2,0A2,2 0 1,1 0,-2A2,2 0 0,1 2,0Z\" style=\"opacity: 1; stroke-width: 0px; fill: rgb(0, 0, 0); fill-opacity: 1;\"/><path class=\"point\" transform=\"translate(186.03,12.79)\" d=\"M2,0A2,2 0 1,1 0,-2A2,2 0 0,1 2,0Z\" style=\"opacity: 1; stroke-width: 0px; fill: rgb(0, 0, 0); fill-opacity: 1;\"/><path class=\"point\" transform=\"translate(188.83,10.65)\" d=\"M2,0A2,2 0 1,1 0,-2A2,2 0 0,1 2,0Z\" style=\"opacity: 1; stroke-width: 0px; fill: rgb(0, 0, 0); fill-opacity: 1;\"/><path class=\"point\" transform=\"translate(191.63,9.88)\" d=\"M2,0A2,2 0 1,1 0,-2A2,2 0 0,1 2,0Z\" style=\"opacity: 1; stroke-width: 0px; fill: rgb(0, 0, 0); fill-opacity: 1;\"/><path class=\"point\" transform=\"translate(194.43,9.63)\" d=\"M2,0A2,2 0 1,1 0,-2A2,2 0 0,1 2,0Z\" style=\"opacity: 1; stroke-width: 0px; fill: rgb(0, 0, 0); fill-opacity: 1;\"/><path class=\"point\" transform=\"translate(197.23,11.93)\" d=\"M2,0A2,2 0 1,1 0,-2A2,2 0 0,1 2,0Z\" style=\"opacity: 1; stroke-width: 0px; fill: rgb(0, 0, 0); fill-opacity: 1;\"/><path class=\"point\" transform=\"translate(200.03,9.88)\" d=\"M2,0A2,2 0 1,1 0,-2A2,2 0 0,1 2,0Z\" style=\"opacity: 1; stroke-width: 0px; fill: rgb(0, 0, 0); fill-opacity: 1;\"/><path class=\"point\" transform=\"translate(202.83,9.86)\" d=\"M2,0A2,2 0 1,1 0,-2A2,2 0 0,1 2,0Z\" style=\"opacity: 1; stroke-width: 0px; fill: rgb(0, 0, 0); fill-opacity: 1;\"/><path class=\"point\" transform=\"translate(205.62,9.31)\" d=\"M2,0A2,2 0 1,1 0,-2A2,2 0 0,1 2,0Z\" style=\"opacity: 1; stroke-width: 0px; fill: rgb(0, 0, 0); fill-opacity: 1;\"/><path class=\"point\" transform=\"translate(208.42,7.65)\" d=\"M2,0A2,2 0 1,1 0,-2A2,2 0 0,1 2,0Z\" style=\"opacity: 1; stroke-width: 0px; fill: rgb(0, 0, 0); fill-opacity: 1;\"/><path class=\"point\" transform=\"translate(211.22,7.72)\" d=\"M2,0A2,2 0 1,1 0,-2A2,2 0 0,1 2,0Z\" style=\"opacity: 1; stroke-width: 0px; fill: rgb(0, 0, 0); fill-opacity: 1;\"/><path class=\"point\" transform=\"translate(214.02,25.24)\" d=\"M2,0A2,2 0 1,1 0,-2A2,2 0 0,1 2,0Z\" style=\"opacity: 1; stroke-width: 0px; fill: rgb(0, 0, 0); fill-opacity: 1;\"/><path class=\"point\" transform=\"translate(216.82,25.42)\" d=\"M2,0A2,2 0 1,1 0,-2A2,2 0 0,1 2,0Z\" style=\"opacity: 1; stroke-width: 0px; fill: rgb(0, 0, 0); fill-opacity: 1;\"/><path class=\"point\" transform=\"translate(219.62,33.97)\" d=\"M2,0A2,2 0 1,1 0,-2A2,2 0 0,1 2,0Z\" style=\"opacity: 1; stroke-width: 0px; fill: rgb(0, 0, 0); fill-opacity: 1;\"/><path class=\"point\" transform=\"translate(222.42,36.55)\" d=\"M2,0A2,2 0 1,1 0,-2A2,2 0 0,1 2,0Z\" style=\"opacity: 1; stroke-width: 0px; fill: rgb(0, 0, 0); fill-opacity: 1;\"/><path class=\"point\" transform=\"translate(225.22,41.36)\" d=\"M2,0A2,2 0 1,1 0,-2A2,2 0 0,1 2,0Z\" style=\"opacity: 1; stroke-width: 0px; fill: rgb(0, 0, 0); fill-opacity: 1;\"/><path class=\"point\" transform=\"translate(228.01,41.27)\" d=\"M2,0A2,2 0 1,1 0,-2A2,2 0 0,1 2,0Z\" style=\"opacity: 1; stroke-width: 0px; fill: rgb(0, 0, 0); fill-opacity: 1;\"/><path class=\"point\" transform=\"translate(230.81,41.96)\" d=\"M2,0A2,2 0 1,1 0,-2A2,2 0 0,1 2,0Z\" style=\"opacity: 1; stroke-width: 0px; fill: rgb(0, 0, 0); fill-opacity: 1;\"/><path class=\"point\" transform=\"translate(233.61,42.27)\" d=\"M2,0A2,2 0 1,1 0,-2A2,2 0 0,1 2,0Z\" style=\"opacity: 1; stroke-width: 0px; fill: rgb(0, 0, 0); fill-opacity: 1;\"/><path class=\"point\" transform=\"translate(236.41,42.15)\" d=\"M2,0A2,2 0 1,1 0,-2A2,2 0 0,1 2,0Z\" style=\"opacity: 1; stroke-width: 0px; fill: rgb(0, 0, 0); fill-opacity: 1;\"/><path class=\"point\" transform=\"translate(239.21,42.58)\" d=\"M2,0A2,2 0 1,1 0,-2A2,2 0 0,1 2,0Z\" style=\"opacity: 1; stroke-width: 0px; fill: rgb(0, 0, 0); fill-opacity: 1;\"/><path class=\"point\" transform=\"translate(242.01,36.67)\" d=\"M2,0A2,2 0 1,1 0,-2A2,2 0 0,1 2,0Z\" style=\"opacity: 1; stroke-width: 0px; fill: rgb(0, 0, 0); fill-opacity: 1;\"/><path class=\"point\" transform=\"translate(244.81,36.58)\" d=\"M2,0A2,2 0 1,1 0,-2A2,2 0 0,1 2,0Z\" style=\"opacity: 1; stroke-width: 0px; fill: rgb(0, 0, 0); fill-opacity: 1;\"/><path class=\"point\" transform=\"translate(247.61,22.33)\" d=\"M2,0A2,2 0 1,1 0,-2A2,2 0 0,1 2,0Z\" style=\"opacity: 1; stroke-width: 0px; fill: rgb(0, 0, 0); fill-opacity: 1;\"/><path class=\"point\" transform=\"translate(250.41,14.84)\" d=\"M2,0A2,2 0 1,1 0,-2A2,2 0 0,1 2,0Z\" style=\"opacity: 1; stroke-width: 0px; fill: rgb(0, 0, 0); fill-opacity: 1;\"/><path class=\"point\" transform=\"translate(253.2,12.65)\" d=\"M2,0A2,2 0 1,1 0,-2A2,2 0 0,1 2,0Z\" style=\"opacity: 1; stroke-width: 0px; fill: rgb(0, 0, 0); fill-opacity: 1;\"/><path class=\"point\" transform=\"translate(256,9.76)\" d=\"M2,0A2,2 0 1,1 0,-2A2,2 0 0,1 2,0Z\" style=\"opacity: 1; stroke-width: 0px; fill: rgb(0, 0, 0); fill-opacity: 1;\"/><path class=\"point\" transform=\"translate(258.8,8.24)\" d=\"M2,0A2,2 0 1,1 0,-2A2,2 0 0,1 2,0Z\" style=\"opacity: 1; stroke-width: 0px; fill: rgb(0, 0, 0); fill-opacity: 1;\"/><path class=\"point\" transform=\"translate(261.6,8.34)\" d=\"M2,0A2,2 0 1,1 0,-2A2,2 0 0,1 2,0Z\" style=\"opacity: 1; stroke-width: 0px; fill: rgb(0, 0, 0); fill-opacity: 1;\"/><path class=\"point\" transform=\"translate(264.4,11.17)\" d=\"M2,0A2,2 0 1,1 0,-2A2,2 0 0,1 2,0Z\" style=\"opacity: 1; stroke-width: 0px; fill: rgb(0, 0, 0); fill-opacity: 1;\"/><path class=\"point\" transform=\"translate(267.2,8.84)\" d=\"M2,0A2,2 0 1,1 0,-2A2,2 0 0,1 2,0Z\" style=\"opacity: 1; stroke-width: 0px; fill: rgb(0, 0, 0); fill-opacity: 1;\"/><path class=\"point\" transform=\"translate(270,9.04)\" d=\"M2,0A2,2 0 1,1 0,-2A2,2 0 0,1 2,0Z\" style=\"opacity: 1; stroke-width: 0px; fill: rgb(0, 0, 0); fill-opacity: 1;\"/><path class=\"point\" transform=\"translate(272.8,9.31)\" d=\"M2,0A2,2 0 1,1 0,-2A2,2 0 0,1 2,0Z\" style=\"opacity: 1; stroke-width: 0px; fill: rgb(0, 0, 0); fill-opacity: 1;\"/><path class=\"point\" transform=\"translate(275.59,8.42)\" d=\"M2,0A2,2 0 1,1 0,-2A2,2 0 0,1 2,0Z\" style=\"opacity: 1; stroke-width: 0px; fill: rgb(0, 0, 0); fill-opacity: 1;\"/><path class=\"point\" transform=\"translate(278.39,7.43)\" d=\"M2,0A2,2 0 1,1 0,-2A2,2 0 0,1 2,0Z\" style=\"opacity: 1; stroke-width: 0px; fill: rgb(0, 0, 0); fill-opacity: 1;\"/><path class=\"point\" transform=\"translate(281.19,24.25)\" d=\"M2,0A2,2 0 1,1 0,-2A2,2 0 0,1 2,0Z\" style=\"opacity: 1; stroke-width: 0px; fill: rgb(0, 0, 0); fill-opacity: 1;\"/><path class=\"point\" transform=\"translate(283.99,24.69)\" d=\"M2,0A2,2 0 1,1 0,-2A2,2 0 0,1 2,0Z\" style=\"opacity: 1; stroke-width: 0px; fill: rgb(0, 0, 0); fill-opacity: 1;\"/><path class=\"point\" transform=\"translate(286.79,33.78)\" d=\"M2,0A2,2 0 1,1 0,-2A2,2 0 0,1 2,0Z\" style=\"opacity: 1; stroke-width: 0px; fill: rgb(0, 0, 0); fill-opacity: 1;\"/><path class=\"point\" transform=\"translate(289.59,36.77)\" d=\"M2,0A2,2 0 1,1 0,-2A2,2 0 0,1 2,0Z\" style=\"opacity: 1; stroke-width: 0px; fill: rgb(0, 0, 0); fill-opacity: 1;\"/><path class=\"point\" transform=\"translate(292.39,40.67)\" d=\"M2,0A2,2 0 1,1 0,-2A2,2 0 0,1 2,0Z\" style=\"opacity: 1; stroke-width: 0px; fill: rgb(0, 0, 0); fill-opacity: 1;\"/><path class=\"point\" transform=\"translate(295.19,40.94)\" d=\"M2,0A2,2 0 1,1 0,-2A2,2 0 0,1 2,0Z\" style=\"opacity: 1; stroke-width: 0px; fill: rgb(0, 0, 0); fill-opacity: 1;\"/><path class=\"point\" transform=\"translate(297.99,41.97)\" d=\"M2,0A2,2 0 1,1 0,-2A2,2 0 0,1 2,0Z\" style=\"opacity: 1; stroke-width: 0px; fill: rgb(0, 0, 0); fill-opacity: 1;\"/><path class=\"point\" transform=\"translate(300.78,41.98)\" d=\"M2,0A2,2 0 1,1 0,-2A2,2 0 0,1 2,0Z\" style=\"opacity: 1; stroke-width: 0px; fill: rgb(0, 0, 0); fill-opacity: 1;\"/><path class=\"point\" transform=\"translate(303.58,42.15)\" d=\"M2,0A2,2 0 1,1 0,-2A2,2 0 0,1 2,0Z\" style=\"opacity: 1; stroke-width: 0px; fill: rgb(0, 0, 0); fill-opacity: 1;\"/><path class=\"point\" transform=\"translate(306.38,42.47)\" d=\"M2,0A2,2 0 1,1 0,-2A2,2 0 0,1 2,0Z\" style=\"opacity: 1; stroke-width: 0px; fill: rgb(0, 0, 0); fill-opacity: 1;\"/><path class=\"point\" transform=\"translate(309.18,36.61)\" d=\"M2,0A2,2 0 1,1 0,-2A2,2 0 0,1 2,0Z\" style=\"opacity: 1; stroke-width: 0px; fill: rgb(0, 0, 0); fill-opacity: 1;\"/><path class=\"point\" transform=\"translate(311.98,36.46)\" d=\"M2,0A2,2 0 1,1 0,-2A2,2 0 0,1 2,0Z\" style=\"opacity: 1; stroke-width: 0px; fill: rgb(0, 0, 0); fill-opacity: 1;\"/><path class=\"point\" transform=\"translate(314.78,21.95)\" d=\"M2,0A2,2 0 1,1 0,-2A2,2 0 0,1 2,0Z\" style=\"opacity: 1; stroke-width: 0px; fill: rgb(0, 0, 0); fill-opacity: 1;\"/><path class=\"point\" transform=\"translate(317.58,14.93)\" d=\"M2,0A2,2 0 1,1 0,-2A2,2 0 0,1 2,0Z\" style=\"opacity: 1; stroke-width: 0px; fill: rgb(0, 0, 0); fill-opacity: 1;\"/><path class=\"point\" transform=\"translate(320.38,12.39)\" d=\"M2,0A2,2 0 1,1 0,-2A2,2 0 0,1 2,0Z\" style=\"opacity: 1; stroke-width: 0px; fill: rgb(0, 0, 0); fill-opacity: 1;\"/><path class=\"point\" transform=\"translate(323.17,10.07)\" d=\"M2,0A2,2 0 1,1 0,-2A2,2 0 0,1 2,0Z\" style=\"opacity: 1; stroke-width: 0px; fill: rgb(0, 0, 0); fill-opacity: 1;\"/><path class=\"point\" transform=\"translate(325.97,9.21)\" d=\"M2,0A2,2 0 1,1 0,-2A2,2 0 0,1 2,0Z\" style=\"opacity: 1; stroke-width: 0px; fill: rgb(0, 0, 0); fill-opacity: 1;\"/><path class=\"point\" transform=\"translate(328.77,8.86)\" d=\"M2,0A2,2 0 1,1 0,-2A2,2 0 0,1 2,0Z\" style=\"opacity: 1; stroke-width: 0px; fill: rgb(0, 0, 0); fill-opacity: 1;\"/><path class=\"point\" transform=\"translate(331.57,10.58)\" d=\"M2,0A2,2 0 1,1 0,-2A2,2 0 0,1 2,0Z\" style=\"opacity: 1; stroke-width: 0px; fill: rgb(0, 0, 0); fill-opacity: 1;\"/><path class=\"point\" transform=\"translate(334.37,8.01)\" d=\"M2,0A2,2 0 1,1 0,-2A2,2 0 0,1 2,0Z\" style=\"opacity: 1; stroke-width: 0px; fill: rgb(0, 0, 0); fill-opacity: 1;\"/><path class=\"point\" transform=\"translate(337.17,8.97)\" d=\"M2,0A2,2 0 1,1 0,-2A2,2 0 0,1 2,0Z\" style=\"opacity: 1; stroke-width: 0px; fill: rgb(0, 0, 0); fill-opacity: 1;\"/><path class=\"point\" transform=\"translate(339.97,9.81)\" d=\"M2,0A2,2 0 1,1 0,-2A2,2 0 0,1 2,0Z\" style=\"opacity: 1; stroke-width: 0px; fill: rgb(0, 0, 0); fill-opacity: 1;\"/><path class=\"point\" transform=\"translate(342.77,8.73)\" d=\"M2,0A2,2 0 1,1 0,-2A2,2 0 0,1 2,0Z\" style=\"opacity: 1; stroke-width: 0px; fill: rgb(0, 0, 0); fill-opacity: 1;\"/><path class=\"point\" transform=\"translate(345.56,7.45)\" d=\"M2,0A2,2 0 1,1 0,-2A2,2 0 0,1 2,0Z\" style=\"opacity: 1; stroke-width: 0px; fill: rgb(0, 0, 0); fill-opacity: 1;\"/><path class=\"point\" transform=\"translate(348.36,25.15)\" d=\"M2,0A2,2 0 1,1 0,-2A2,2 0 0,1 2,0Z\" style=\"opacity: 1; stroke-width: 0px; fill: rgb(0, 0, 0); fill-opacity: 1;\"/><path class=\"point\" transform=\"translate(351.16,25.71)\" d=\"M2,0A2,2 0 1,1 0,-2A2,2 0 0,1 2,0Z\" style=\"opacity: 1; stroke-width: 0px; fill: rgb(0, 0, 0); fill-opacity: 1;\"/><path class=\"point\" transform=\"translate(353.96,34.29)\" d=\"M2,0A2,2 0 1,1 0,-2A2,2 0 0,1 2,0Z\" style=\"opacity: 1; stroke-width: 0px; fill: rgb(0, 0, 0); fill-opacity: 1;\"/><path class=\"point\" transform=\"translate(356.76,36.89)\" d=\"M2,0A2,2 0 1,1 0,-2A2,2 0 0,1 2,0Z\" style=\"opacity: 1; stroke-width: 0px; fill: rgb(0, 0, 0); fill-opacity: 1;\"/><path class=\"point\" transform=\"translate(359.56,41.26)\" d=\"M2,0A2,2 0 1,1 0,-2A2,2 0 0,1 2,0Z\" style=\"opacity: 1; stroke-width: 0px; fill: rgb(0, 0, 0); fill-opacity: 1;\"/><path class=\"point\" transform=\"translate(362.36,41.23)\" d=\"M2,0A2,2 0 1,1 0,-2A2,2 0 0,1 2,0Z\" style=\"opacity: 1; stroke-width: 0px; fill: rgb(0, 0, 0); fill-opacity: 1;\"/><path class=\"point\" transform=\"translate(365.16,42.13)\" d=\"M2,0A2,2 0 1,1 0,-2A2,2 0 0,1 2,0Z\" style=\"opacity: 1; stroke-width: 0px; fill: rgb(0, 0, 0); fill-opacity: 1;\"/><path class=\"point\" transform=\"translate(367.96,41.95)\" d=\"M2,0A2,2 0 1,1 0,-2A2,2 0 0,1 2,0Z\" style=\"opacity: 1; stroke-width: 0px; fill: rgb(0, 0, 0); fill-opacity: 1;\"/><path class=\"point\" transform=\"translate(370.75,42.44)\" d=\"M2,0A2,2 0 1,1 0,-2A2,2 0 0,1 2,0Z\" style=\"opacity: 1; stroke-width: 0px; fill: rgb(0, 0, 0); fill-opacity: 1;\"/><path class=\"point\" transform=\"translate(373.55,42.51)\" d=\"M2,0A2,2 0 1,1 0,-2A2,2 0 0,1 2,0Z\" style=\"opacity: 1; stroke-width: 0px; fill: rgb(0, 0, 0); fill-opacity: 1;\"/><path class=\"point\" transform=\"translate(376.35,41.58)\" d=\"M2,0A2,2 0 1,1 0,-2A2,2 0 0,1 2,0Z\" style=\"opacity: 1; stroke-width: 0px; fill: rgb(0, 0, 0); fill-opacity: 1;\"/><path class=\"point\" transform=\"translate(379.15,41.94)\" d=\"M2,0A2,2 0 1,1 0,-2A2,2 0 0,1 2,0Z\" style=\"opacity: 1; stroke-width: 0px; fill: rgb(0, 0, 0); fill-opacity: 1;\"/><path class=\"point\" transform=\"translate(381.95,37.52)\" d=\"M2,0A2,2 0 1,1 0,-2A2,2 0 0,1 2,0Z\" style=\"opacity: 1; stroke-width: 0px; fill: rgb(0, 0, 0); fill-opacity: 1;\"/><path class=\"point\" transform=\"translate(384.75,30.52)\" d=\"M2,0A2,2 0 1,1 0,-2A2,2 0 0,1 2,0Z\" style=\"opacity: 1; stroke-width: 0px; fill: rgb(0, 0, 0); fill-opacity: 1;\"/><path class=\"point\" transform=\"translate(387.55,29.62)\" d=\"M2,0A2,2 0 1,1 0,-2A2,2 0 0,1 2,0Z\" style=\"opacity: 1; stroke-width: 0px; fill: rgb(0, 0, 0); fill-opacity: 1;\"/><path class=\"point\" transform=\"translate(390.35,22.38)\" d=\"M2,0A2,2 0 1,1 0,-2A2,2 0 0,1 2,0Z\" style=\"opacity: 1; stroke-width: 0px; fill: rgb(0, 0, 0); fill-opacity: 1;\"/><path class=\"point\" transform=\"translate(393.14,21.39)\" d=\"M2,0A2,2 0 1,1 0,-2A2,2 0 0,1 2,0Z\" style=\"opacity: 1; stroke-width: 0px; fill: rgb(0, 0, 0); fill-opacity: 1;\"/><path class=\"point\" transform=\"translate(395.94,21.04)\" d=\"M2,0A2,2 0 1,1 0,-2A2,2 0 0,1 2,0Z\" style=\"opacity: 1; stroke-width: 0px; fill: rgb(0, 0, 0); fill-opacity: 1;\"/><path class=\"point\" transform=\"translate(398.74,23.5)\" d=\"M2,0A2,2 0 1,1 0,-2A2,2 0 0,1 2,0Z\" style=\"opacity: 1; stroke-width: 0px; fill: rgb(0, 0, 0); fill-opacity: 1;\"/><path class=\"point\" transform=\"translate(401.54,23.79)\" d=\"M2,0A2,2 0 1,1 0,-2A2,2 0 0,1 2,0Z\" style=\"opacity: 1; stroke-width: 0px; fill: rgb(0, 0, 0); fill-opacity: 1;\"/><path class=\"point\" transform=\"translate(404.34,23.69)\" d=\"M2,0A2,2 0 1,1 0,-2A2,2 0 0,1 2,0Z\" style=\"opacity: 1; stroke-width: 0px; fill: rgb(0, 0, 0); fill-opacity: 1;\"/><path class=\"point\" transform=\"translate(407.14,28.64)\" d=\"M2,0A2,2 0 1,1 0,-2A2,2 0 0,1 2,0Z\" style=\"opacity: 1; stroke-width: 0px; fill: rgb(0, 0, 0); fill-opacity: 1;\"/><path class=\"point\" transform=\"translate(409.94,28.05)\" d=\"M2,0A2,2 0 1,1 0,-2A2,2 0 0,1 2,0Z\" style=\"opacity: 1; stroke-width: 0px; fill: rgb(0, 0, 0); fill-opacity: 1;\"/><path class=\"point\" transform=\"translate(412.74,30.04)\" d=\"M2,0A2,2 0 1,1 0,-2A2,2 0 0,1 2,0Z\" style=\"opacity: 1; stroke-width: 0px; fill: rgb(0, 0, 0); fill-opacity: 1;\"/><path class=\"point\" transform=\"translate(415.53,32.64)\" d=\"M2,0A2,2 0 1,1 0,-2A2,2 0 0,1 2,0Z\" style=\"opacity: 1; stroke-width: 0px; fill: rgb(0, 0, 0); fill-opacity: 1;\"/><path class=\"point\" transform=\"translate(418.33,32.92)\" d=\"M2,0A2,2 0 1,1 0,-2A2,2 0 0,1 2,0Z\" style=\"opacity: 1; stroke-width: 0px; fill: rgb(0, 0, 0); fill-opacity: 1;\"/><path class=\"point\" transform=\"translate(421.13,40.05)\" d=\"M2,0A2,2 0 1,1 0,-2A2,2 0 0,1 2,0Z\" style=\"opacity: 1; stroke-width: 0px; fill: rgb(0, 0, 0); fill-opacity: 1;\"/><path class=\"point\" transform=\"translate(423.93,40.29)\" d=\"M2,0A2,2 0 1,1 0,-2A2,2 0 0,1 2,0Z\" style=\"opacity: 1; stroke-width: 0px; fill: rgb(0, 0, 0); fill-opacity: 1;\"/><path class=\"point\" transform=\"translate(426.73,40.94)\" d=\"M2,0A2,2 0 1,1 0,-2A2,2 0 0,1 2,0Z\" style=\"opacity: 1; stroke-width: 0px; fill: rgb(0, 0, 0); fill-opacity: 1;\"/><path class=\"point\" transform=\"translate(429.53,40.88)\" d=\"M2,0A2,2 0 1,1 0,-2A2,2 0 0,1 2,0Z\" style=\"opacity: 1; stroke-width: 0px; fill: rgb(0, 0, 0); fill-opacity: 1;\"/><path class=\"point\" transform=\"translate(432.33,42.47)\" d=\"M2,0A2,2 0 1,1 0,-2A2,2 0 0,1 2,0Z\" style=\"opacity: 1; stroke-width: 0px; fill: rgb(0, 0, 0); fill-opacity: 1;\"/><path class=\"point\" transform=\"translate(435.13,42.66)\" d=\"M2,0A2,2 0 1,1 0,-2A2,2 0 0,1 2,0Z\" style=\"opacity: 1; stroke-width: 0px; fill: rgb(0, 0, 0); fill-opacity: 1;\"/><path class=\"point\" transform=\"translate(437.93,42.8)\" d=\"M2,0A2,2 0 1,1 0,-2A2,2 0 0,1 2,0Z\" style=\"opacity: 1; stroke-width: 0px; fill: rgb(0, 0, 0); fill-opacity: 1;\"/><path class=\"point\" transform=\"translate(440.72,42.75)\" d=\"M2,0A2,2 0 1,1 0,-2A2,2 0 0,1 2,0Z\" style=\"opacity: 1; stroke-width: 0px; fill: rgb(0, 0, 0); fill-opacity: 1;\"/><path class=\"point\" transform=\"translate(443.52,42.14)\" d=\"M2,0A2,2 0 1,1 0,-2A2,2 0 0,1 2,0Z\" style=\"opacity: 1; stroke-width: 0px; fill: rgb(0, 0, 0); fill-opacity: 1;\"/><path class=\"point\" transform=\"translate(446.32,42.33)\" d=\"M2,0A2,2 0 1,1 0,-2A2,2 0 0,1 2,0Z\" style=\"opacity: 1; stroke-width: 0px; fill: rgb(0, 0, 0); fill-opacity: 1;\"/><path class=\"point\" transform=\"translate(449.12,37.7)\" d=\"M2,0A2,2 0 1,1 0,-2A2,2 0 0,1 2,0Z\" style=\"opacity: 1; stroke-width: 0px; fill: rgb(0, 0, 0); fill-opacity: 1;\"/><path class=\"point\" transform=\"translate(451.92,37.9)\" d=\"M2,0A2,2 0 1,1 0,-2A2,2 0 0,1 2,0Z\" style=\"opacity: 1; stroke-width: 0px; fill: rgb(0, 0, 0); fill-opacity: 1;\"/><path class=\"point\" transform=\"translate(454.72,32.84)\" d=\"M2,0A2,2 0 1,1 0,-2A2,2 0 0,1 2,0Z\" style=\"opacity: 1; stroke-width: 0px; fill: rgb(0, 0, 0); fill-opacity: 1;\"/><path class=\"point\" transform=\"translate(457.52,33.11)\" d=\"M2,0A2,2 0 1,1 0,-2A2,2 0 0,1 2,0Z\" style=\"opacity: 1; stroke-width: 0px; fill: rgb(0, 0, 0); fill-opacity: 1;\"/><path class=\"point\" transform=\"translate(460.32,32.41)\" d=\"M2,0A2,2 0 1,1 0,-2A2,2 0 0,1 2,0Z\" style=\"opacity: 1; stroke-width: 0px; fill: rgb(0, 0, 0); fill-opacity: 1;\"/><path class=\"point\" transform=\"translate(463.11,32.19)\" d=\"M2,0A2,2 0 1,1 0,-2A2,2 0 0,1 2,0Z\" style=\"opacity: 1; stroke-width: 0px; fill: rgb(0, 0, 0); fill-opacity: 1;\"/><path class=\"point\" transform=\"translate(465.91,32.06)\" d=\"M2,0A2,2 0 1,1 0,-2A2,2 0 0,1 2,0Z\" style=\"opacity: 1; stroke-width: 0px; fill: rgb(0, 0, 0); fill-opacity: 1;\"/><path class=\"point\" transform=\"translate(468.71,32.43)\" d=\"M2,0A2,2 0 1,1 0,-2A2,2 0 0,1 2,0Z\" style=\"opacity: 1; stroke-width: 0px; fill: rgb(0, 0, 0); fill-opacity: 1;\"/><path class=\"point\" transform=\"translate(471.51,32.4)\" d=\"M2,0A2,2 0 1,1 0,-2A2,2 0 0,1 2,0Z\" style=\"opacity: 1; stroke-width: 0px; fill: rgb(0, 0, 0); fill-opacity: 1;\"/><path class=\"point\" transform=\"translate(474.31,32.4)\" d=\"M2,0A2,2 0 1,1 0,-2A2,2 0 0,1 2,0Z\" style=\"opacity: 1; stroke-width: 0px; fill: rgb(0, 0, 0); fill-opacity: 1;\"/><path class=\"point\" transform=\"translate(477.11,33.91)\" d=\"M2,0A2,2 0 1,1 0,-2A2,2 0 0,1 2,0Z\" style=\"opacity: 1; stroke-width: 0px; fill: rgb(0, 0, 0); fill-opacity: 1;\"/><path class=\"point\" transform=\"translate(479.91,36.65)\" d=\"M2,0A2,2 0 1,1 0,-2A2,2 0 0,1 2,0Z\" style=\"opacity: 1; stroke-width: 0px; fill: rgb(0, 0, 0); fill-opacity: 1;\"/><path class=\"point\" transform=\"translate(482.71,38.78)\" d=\"M2,0A2,2 0 1,1 0,-2A2,2 0 0,1 2,0Z\" style=\"opacity: 1; stroke-width: 0px; fill: rgb(0, 0, 0); fill-opacity: 1;\"/><path class=\"point\" transform=\"translate(485.5,39.07)\" d=\"M2,0A2,2 0 1,1 0,-2A2,2 0 0,1 2,0Z\" style=\"opacity: 1; stroke-width: 0px; fill: rgb(0, 0, 0); fill-opacity: 1;\"/><path class=\"point\" transform=\"translate(488.3,40.22)\" d=\"M2,0A2,2 0 1,1 0,-2A2,2 0 0,1 2,0Z\" style=\"opacity: 1; stroke-width: 0px; fill: rgb(0, 0, 0); fill-opacity: 1;\"/><path class=\"point\" transform=\"translate(491.1,40.11)\" d=\"M2,0A2,2 0 1,1 0,-2A2,2 0 0,1 2,0Z\" style=\"opacity: 1; stroke-width: 0px; fill: rgb(0, 0, 0); fill-opacity: 1;\"/><path class=\"point\" transform=\"translate(493.9,41.08)\" d=\"M2,0A2,2 0 1,1 0,-2A2,2 0 0,1 2,0Z\" style=\"opacity: 1; stroke-width: 0px; fill: rgb(0, 0, 0); fill-opacity: 1;\"/><path class=\"point\" transform=\"translate(496.7,40.97)\" d=\"M2,0A2,2 0 1,1 0,-2A2,2 0 0,1 2,0Z\" style=\"opacity: 1; stroke-width: 0px; fill: rgb(0, 0, 0); fill-opacity: 1;\"/></g><g class=\"text\"/></g></g></g><g class=\"overplot\"/><path class=\"xlines-above crisp\" style=\"fill: none;\"/><path class=\"ylines-above crisp\" style=\"fill: none;\"/><g class=\"overlines-above\"/><g class=\"xaxislayer-above\"/><g class=\"yaxislayer-above\"/><g class=\"overaxes-above\"/></g><rect class=\"rangeslider-mask-min\" x=\"0\" y=\"0\" shape-rendering=\"crispEdges\" height=\"61.5\" width=\"0\" style=\"fill: rgb(0, 0, 0); fill-opacity: 0.4;\"/><rect class=\"rangeslider-mask-max\" y=\"0\" shape-rendering=\"crispEdges\" height=\"61.5\" x=\"526\" width=\"0\" style=\"fill: rgb(0, 0, 0); fill-opacity: 0.4;\"/><g class=\"rangeslider-grabber-min\" transform=\"translate(-2.5,0.5)\"><rect class=\"rangeslider-handle-min\" x=\"0\" width=\"4\" rx=\"1\" fill=\"#fff\" stroke=\"#444\" stroke-width=\"1\" shape-rendering=\"crispEdges\" y=\"15\" height=\"31\"/><rect class=\"rangeslider-grabarea-min\" width=\"10\" x=\"0\" y=\"0\" fill=\"transparent\" height=\"61.5\"/></g><g class=\"rangeslider-grabber-max\" transform=\"translate(524.5,0.5)\"><rect class=\"rangeslider-handle-max\" x=\"0\" width=\"4\" rx=\"1\" fill=\"#fff\" stroke=\"#444\" stroke-width=\"1\" shape-rendering=\"crispEdges\" y=\"15\" height=\"31\"/><rect class=\"rangeslider-grabarea-max\" width=\"10\" x=\"0\" y=\"0\" fill=\"transparent\" height=\"61.5\"/></g></g><g class=\"g-ytitle\" transform=\"translate(11.587890625,0)\"><text class=\"ytitle\" transform=\"rotate(-90,0.4125000000000014,155.5)\" x=\"0.4125000000000014\" y=\"155.5\" text-anchor=\"middle\" style=\"font-family: 'Open Sans', verdana, arial, sans-serif; font-size: 12px; fill: rgb(42, 63, 95); opacity: 1; font-weight: normal; white-space: pre;\">y</text></g><g class=\"g-xtitle\"><text class=\"xtitle\" x=\"315\" y=\"420.5\" text-anchor=\"middle\" style=\"font-family: 'Open Sans', verdana, arial, sans-serif; font-size: 12px; fill: rgb(42, 63, 95); opacity: 1; font-weight: normal; white-space: pre;\">ds</text></g></g></svg>"
      ]
     },
     "metadata": {},
     "output_type": "display_data"
    },
    {
     "data": {
      "image/svg+xml": [
       "<svg class=\"main-svg\" xmlns=\"http://www.w3.org/2000/svg\" xmlns:xlink=\"http://www.w3.org/1999/xlink\" width=\"700\" height=\"420\" style=\"\" viewBox=\"0 0 700 420\"><rect x=\"0\" y=\"0\" width=\"700\" height=\"420\" style=\"fill: rgb(255, 255, 255); fill-opacity: 1;\"/><defs id=\"defs-2988ef\"><g class=\"clips\"><clipPath id=\"clip2988efxyplot\" class=\"plotclip\"><rect width=\"526\" height=\"263\"/></clipPath><clipPath class=\"axesclip\" id=\"clip2988efx\"><rect x=\"52\" y=\"0\" width=\"526\" height=\"420\"/></clipPath><clipPath class=\"axesclip\" id=\"clip2988efy\"><rect x=\"0\" y=\"24\" width=\"700\" height=\"263\"/></clipPath><clipPath class=\"axesclip\" id=\"clip2988efxy\"><rect x=\"52\" y=\"24\" width=\"526\" height=\"263\"/></clipPath></g><g class=\"gradients\"/><g class=\"patterns\"/></defs><g class=\"bglayer\"/><g class=\"layer-below\"><g class=\"imagelayer\"/><g class=\"shapelayer\"/></g><g class=\"cartesianlayer\"><g class=\"subplot xy\"><g class=\"layer-subplot\"><g class=\"shapelayer\"/><g class=\"imagelayer\"/></g><g class=\"minor-gridlayer\"><g class=\"x\"/><g class=\"y\"/></g><g class=\"gridlayer\"><g class=\"x\"><path class=\"xgrid crisp\" transform=\"translate(78.5,0)\" d=\"M0,24v263\" style=\"stroke: rgb(235, 240, 248); stroke-opacity: 1; stroke-width: 1px;\"/><path class=\"xgrid crisp\" transform=\"translate(212.84,0)\" d=\"M0,24v263\" style=\"stroke: rgb(235, 240, 248); stroke-opacity: 1; stroke-width: 1px;\"/><path class=\"xgrid crisp\" transform=\"translate(347.19,0)\" d=\"M0,24v263\" style=\"stroke: rgb(235, 240, 248); stroke-opacity: 1; stroke-width: 1px;\"/><path class=\"xgrid crisp\" transform=\"translate(481.53,0)\" d=\"M0,24v263\" style=\"stroke: rgb(235, 240, 248); stroke-opacity: 1; stroke-width: 1px;\"/></g><g class=\"y\"><path class=\"ygrid crisp\" transform=\"translate(0,253.57)\" d=\"M52,0h526\" style=\"stroke: rgb(235, 240, 248); stroke-opacity: 1; stroke-width: 1px;\"/><path class=\"ygrid crisp\" transform=\"translate(0,216.77)\" d=\"M52,0h526\" style=\"stroke: rgb(235, 240, 248); stroke-opacity: 1; stroke-width: 1px;\"/><path class=\"ygrid crisp\" transform=\"translate(0,179.98)\" d=\"M52,0h526\" style=\"stroke: rgb(235, 240, 248); stroke-opacity: 1; stroke-width: 1px;\"/><path class=\"ygrid crisp\" transform=\"translate(0,143.18)\" d=\"M52,0h526\" style=\"stroke: rgb(235, 240, 248); stroke-opacity: 1; stroke-width: 1px;\"/><path class=\"ygrid crisp\" transform=\"translate(0,106.38)\" d=\"M52,0h526\" style=\"stroke: rgb(235, 240, 248); stroke-opacity: 1; stroke-width: 1px;\"/><path class=\"ygrid crisp\" transform=\"translate(0,69.59)\" d=\"M52,0h526\" style=\"stroke: rgb(235, 240, 248); stroke-opacity: 1; stroke-width: 1px;\"/><path class=\"ygrid crisp\" transform=\"translate(0,32.79)\" d=\"M52,0h526\" style=\"stroke: rgb(235, 240, 248); stroke-opacity: 1; stroke-width: 1px;\"/></g></g><g class=\"zerolinelayer\"/><g class=\"layer-between\"><g class=\"shapelayer\"/><g class=\"imagelayer\"/></g><path class=\"xlines-below\"/><path class=\"ylines-below\"/><g class=\"overlines-below\"/><g class=\"xaxislayer-below\"/><g class=\"yaxislayer-below\"/><g class=\"overaxes-below\"/><g class=\"plot\" transform=\"translate(52,24)\" clip-path=\"url(#clip2988efxyplot)\"><g class=\"scatterlayer mlayer\"><g class=\"trace scatter trace8c05d0\" style=\"stroke-miterlimit: 2;\"><g class=\"fills\"><g><path class=\"js-fill\" d=\"M29.3,196.73L32.1,210.37L34.9,210.71L37.7,212.01L40.5,185.27L43.29,201.92L46.09,162.93L48.89,160.37L51.69,155.97L54.49,151.5L57.29,152.26L60.09,159.66L62.89,152.94L65.68,153.96L68.48,153.89L71.28,168.85L74.08,165.27L76.88,193.6L79.68,196.89L82.48,193.65L85.28,197.59L88.07,209.09L90.87,214.36L93.67,212.61L96.47,214.15L99.27,210.22L102.07,200.33L104.87,195.61L107.67,189.02L110.47,190.23L113.26,114.45L116.06,64.69L118.86,28.69L121.66,30.8L124.46,40.94L127.26,32.16L130.06,45.87L132.86,37.83L135.65,34.93L138.45,26.41L141.25,26.94L144.05,16.42L146.85,108.52L149.65,114L152.45,159.53L155.25,169.68L158.04,206.68L163.64,215.38L166.44,212.53L169.24,213.66L172.04,203.38L174.84,187.65L177.64,183.31L180.44,103.45L183.23,55.98L186.03,36.82L188.83,26.9L191.63,27.23L194.43,32.24L197.23,34.21L200.03,29.56L202.83,39.19L205.62,40.39L211.22,21.44L214.02,112.97L216.82,121.69L219.62,162.64L222.42,187.64L225.22,204.68L228.01,204.05L230.81,216.36L233.61,213.74L236.41,214.32L239.21,219.75L242.01,190.51L244.81,188.88L247.61,103.18L250.41,55.69L253.2,38.45L256,35.22L258.8,33.91L261.6,27.43L264.4,39.77L267.2,27.56L270,29.43L272.8,33.31L275.59,21.59L278.39,13.15L281.19,115.79L283.99,106.12L286.79,166.51L289.59,180.49L292.39,203.8L295.19,204.59L297.99,210.35L300.78,209.12L303.58,212.7L306.38,214L309.18,185.67L311.98,185.01L314.78,103.9L317.58,52.98L320.38,46.47L323.17,31.52L325.97,26.19L328.77,20.09L331.57,38.51L334.37,24.57L337.17,20.46L339.97,25.01L342.77,15.8L345.56,15.19L348.36,113.21L351.16,115.61L353.96,169.29L356.76,183.51L359.56,206.8L362.36,205.64L365.16,212.47L367.96,213.92L370.75,213.78L373.55,213.63L376.35,187.74L379.15,205.83L381.95,173.03L384.75,150.22L387.55,143.7L390.35,95.39L393.14,92.06L395.94,93.96L398.74,111.38L401.54,108.29L404.34,116.27L407.14,142.2L409.94,130.83L415.53,152.33L418.33,158.08L421.13,207.94L423.93,209.72L426.73,201.71L429.53,203.73L435.13,218.94L437.93,215.25L440.72,222.98L443.52,217.39L446.32,219.69L449.12,187.57L451.92,185.22L454.72,160.5L460.32,162.15L463.11,167.37L465.91,162.1L468.71,163.37L474.31,167.46L477.11,166.15L479.91,182.42L482.71,193.07L485.5,194.27L488.3,212.68L493.9,208.29L496.7,208.28L496.7,239.72L493.9,234.05L491.1,236.68L488.3,235.06L485.5,226.25L482.71,220.83L479.91,211.64L477.11,194.21L474.31,190L468.71,185.81L465.91,192.68L463.11,183.37L460.32,191.07L457.52,191.64L454.72,183.21L451.92,222.73L449.12,214.79L446.32,238.55L443.52,240.44L437.93,249.85L435.13,246.72L432.33,240.43L429.53,235.9L426.73,246.83L423.93,235.48L421.13,233.04L418.33,191.46L415.53,193.6L412.74,174.7L409.94,161.48L407.14,174.14L404.34,136.35L401.54,139.24L398.74,136.17L395.94,124.98L393.14,123.87L390.35,127.52L387.55,173.37L384.75,174.96L381.95,213.53L379.15,242.14L376.35,234.39L373.55,243.5L367.96,237.52L365.16,240.23L362.36,232.66L359.56,238.2L353.96,195.26L351.16,142.21L348.36,151.17L345.56,53.57L342.77,54.23L339.97,53.15L337.17,43.45L334.37,42.7L331.57,65.77L328.77,58.59L325.97,56.8L323.17,59.74L320.38,72.88L317.58,81.22L314.78,133.35L311.98,216.31L309.18,234L306.38,243.33L303.58,241.2L300.78,239.15L297.99,242.99L295.19,235.9L292.39,241.61L289.59,213.14L286.79,195.55L283.99,140.51L281.19,148.22L278.39,53.35L275.59,51.86L272.8,59.74L270,60.69L267.2,52.46L264.4,62.04L261.6,44.84L258.8,50.44L256,46.04L250.41,80.38L247.61,124.55L244.81,203.02L242.01,208.53L239.21,242.24L236.41,242.64L233.61,238.42L230.81,244.24L228.01,236.21L225.22,231L219.62,188.98L216.82,135.62L214.02,142.05L211.22,53.13L208.42,52.59L205.62,64.3L200.03,49.09L197.23,64.59L194.43,54.7L191.63,62.59L188.83,61.36L186.03,66.32L183.23,77.65L180.44,129.96L177.64,212.11L174.84,218.03L172.04,231.22L169.24,235.92L166.44,231.19L163.64,233.47L160.84,223.01L158.04,231.33L155.25,201.14L152.45,184.77L149.65,136.12L146.85,136.78L144.05,41.3L141.25,42.23L135.65,48.02L132.86,51.72L130.06,61.69L127.26,60.84L124.46,51.75L121.66,56.85L118.86,54.35L116.06,75.5L113.26,140.07L110.47,201.04L107.67,207.02L104.87,233.6L102.07,224.66L99.27,224.42L96.47,224.97L93.67,226.24L90.87,229.03L88.07,219.91L85.28,221.07L82.48,221.9L76.88,204.42L74.08,184.17L71.28,187.61L68.48,178.11L62.89,183.23L60.09,172.87L57.29,171.47L54.49,184.55L51.69,186.22L48.89,208.97L46.09,214.25L43.29,227.82L40.5,217.12L37.7,233.1L34.9,230.73L32.1,230.88L29.3,234.5Z\" style=\"fill: rgb(45, 146, 255); fill-opacity: 0.2; stroke-width: 0;\"/></g></g><g class=\"errorbars\"/><g class=\"lines\"><path class=\"js-line\" d=\"M29.3,234.5L32.1,230.88L34.9,230.73L37.7,233.1L40.5,217.12L43.29,227.82L46.09,214.25L48.89,208.97L51.69,186.22L54.49,184.55L57.29,171.47L60.09,172.87L62.89,183.23L68.48,178.11L71.28,187.61L74.08,184.17L76.88,204.42L82.48,221.9L85.28,221.07L88.07,219.91L90.87,229.03L93.67,226.24L96.47,224.97L99.27,224.42L102.07,224.66L104.87,233.6L107.67,207.02L110.47,201.04L113.26,140.07L116.06,75.5L118.86,54.35L121.66,56.85L124.46,51.75L127.26,60.84L130.06,61.69L132.86,51.72L135.65,48.02L141.25,42.23L144.05,41.3L146.85,136.78L149.65,136.12L152.45,184.77L155.25,201.14L158.04,231.33L160.84,223.01L163.64,233.47L166.44,231.19L169.24,235.92L172.04,231.22L174.84,218.03L177.64,212.11L180.44,129.96L183.23,77.65L186.03,66.32L188.83,61.36L191.63,62.59L194.43,54.7L197.23,64.59L200.03,49.09L205.62,64.3L208.42,52.59L211.22,53.13L214.02,142.05L216.82,135.62L219.62,188.98L225.22,231L228.01,236.21L230.81,244.24L233.61,238.42L236.41,242.64L239.21,242.24L242.01,208.53L244.81,203.02L247.61,124.55L250.41,80.38L256,46.04L258.8,50.44L261.6,44.84L264.4,62.04L267.2,52.46L270,60.69L272.8,59.74L275.59,51.86L278.39,53.35L281.19,148.22L283.99,140.51L286.79,195.55L289.59,213.14L292.39,241.61L295.19,235.9L297.99,242.99L300.78,239.15L303.58,241.2L306.38,243.33L309.18,234L311.98,216.31L314.78,133.35L317.58,81.22L320.38,72.88L323.17,59.74L325.97,56.8L328.77,58.59L331.57,65.77L334.37,42.7L337.17,43.45L339.97,53.15L342.77,54.23L345.56,53.57L348.36,151.17L351.16,142.21L353.96,195.26L359.56,238.2L362.36,232.66L365.16,240.23L367.96,237.52L373.55,243.5L376.35,234.39L379.15,242.14L381.95,213.53L384.75,174.96L387.55,173.37L390.35,127.52L393.14,123.87L395.94,124.98L398.74,136.17L401.54,139.24L404.34,136.35L407.14,174.14L409.94,161.48L412.74,174.7L415.53,193.6L418.33,191.46L421.13,233.04L423.93,235.48L426.73,246.83L429.53,235.9L432.33,240.43L435.13,246.72L437.93,249.85L443.52,240.44L446.32,238.55L449.12,214.79L451.92,222.73L454.72,183.21L457.52,191.64L460.32,191.07L463.11,183.37L465.91,192.68L468.71,185.81L474.31,190L477.11,194.21L479.91,211.64L482.71,220.83L485.5,226.25L488.3,235.06L491.1,236.68L493.9,234.05L496.7,239.72\" style=\"vector-effect: none; fill: none; stroke: rgb(45, 146, 255); stroke-opacity: 0.2; stroke-width: 1px; opacity: 1;\"/></g><g class=\"points\"/><g class=\"text\"/></g><g class=\"trace scatter traceae8590\" style=\"stroke-miterlimit: 2;\"><g class=\"fills\"/><g class=\"errorbars\"/><g class=\"lines\"><path class=\"js-line\" d=\"M29.3,196.73L32.1,210.37L34.9,210.71L37.7,212.01L40.5,185.27L43.29,201.92L46.09,162.93L48.89,160.37L51.69,155.97L54.49,151.5L57.29,152.26L60.09,159.66L62.89,152.94L65.68,153.96L68.48,153.89L71.28,168.85L74.08,165.27L76.88,193.6L79.68,196.89L82.48,193.65L85.28,197.59L88.07,209.09L90.87,214.36L93.67,212.61L96.47,214.15L99.27,210.22L102.07,200.33L104.87,195.61L107.67,189.02L110.47,190.23L113.26,114.45L116.06,64.69L118.86,28.69L121.66,30.8L124.46,40.94L127.26,32.16L130.06,45.87L132.86,37.83L135.65,34.93L138.45,26.41L141.25,26.94L144.05,16.42L146.85,108.52L149.65,114L152.45,159.53L155.25,169.68L158.04,206.68L163.64,215.38L166.44,212.53L169.24,213.66L172.04,203.38L174.84,187.65L177.64,183.31L180.44,103.45L183.23,55.98L186.03,36.82L188.83,26.9L191.63,27.23L194.43,32.24L197.23,34.21L200.03,29.56L202.83,39.19L205.62,40.39L211.22,21.44L214.02,112.97L216.82,121.69L219.62,162.64L222.42,187.64L225.22,204.68L228.01,204.05L230.81,216.36L233.61,213.74L236.41,214.32L239.21,219.75L242.01,190.51L244.81,188.88L247.61,103.18L250.41,55.69L253.2,38.45L256,35.22L258.8,33.91L261.6,27.43L264.4,39.77L267.2,27.56L270,29.43L272.8,33.31L275.59,21.59L278.39,13.15L281.19,115.79L283.99,106.12L286.79,166.51L289.59,180.49L292.39,203.8L295.19,204.59L297.99,210.35L300.78,209.12L303.58,212.7L306.38,214L309.18,185.67L311.98,185.01L314.78,103.9L317.58,52.98L320.38,46.47L323.17,31.52L325.97,26.19L328.77,20.09L331.57,38.51L334.37,24.57L337.17,20.46L339.97,25.01L342.77,15.8L345.56,15.19L348.36,113.21L351.16,115.61L353.96,169.29L356.76,183.51L359.56,206.8L362.36,205.64L365.16,212.47L367.96,213.92L370.75,213.78L373.55,213.63L376.35,187.74L379.15,205.83L381.95,173.03L384.75,150.22L387.55,143.7L390.35,95.39L393.14,92.06L395.94,93.96L398.74,111.38L401.54,108.29L404.34,116.27L407.14,142.2L409.94,130.83L415.53,152.33L418.33,158.08L421.13,207.94L423.93,209.72L426.73,201.71L429.53,203.73L435.13,218.94L437.93,215.25L440.72,222.98L443.52,217.39L446.32,219.69L449.12,187.57L451.92,185.22L454.72,160.5L460.32,162.15L463.11,167.37L465.91,162.1L468.71,163.37L474.31,167.46L477.11,166.15L479.91,182.42L482.71,193.07L485.5,194.27L488.3,212.68L493.9,208.29L496.7,208.28\" style=\"vector-effect: none; fill: none; stroke: rgb(45, 146, 255); stroke-opacity: 0.2; stroke-width: 1px; opacity: 1;\"/></g><g class=\"points\"/><g class=\"text\"/></g><g class=\"trace scatter trace61599a\" style=\"stroke-miterlimit: 2; opacity: 1;\"><g class=\"fills\"/><g class=\"errorbars\"/><g class=\"lines\"><path class=\"js-line\" d=\"M29.3,222.65L32.1,220.24L34.9,222.18L37.7,221.86L40.5,203.19L43.29,215.1L46.09,189.02L48.89,182.83L51.69,170.39L54.49,168.04L57.29,162.64L60.09,166.2L62.89,167.42L65.68,170.26L68.48,164.76L71.28,178.15L74.08,177.13L76.88,199.01L79.68,204.92L85.28,209.64L88.07,214.5L90.87,223.62L93.67,220.83L99.27,219.01L102.07,215.82L104.87,216.9L107.67,201.62L110.47,195.63L113.26,129.2L116.06,70.1L118.86,44.58L121.66,44.23L124.46,46.35L127.26,44.52L130.06,52.05L138.45,34.96L141.25,33.34L144.05,32.28L146.85,118.97L149.65,125L152.45,175.39L155.25,187.33L158.04,222.6L160.84,217.6L163.64,227.81L166.44,225.79L169.24,226.89L172.04,220.45L174.84,201.93L177.64,198.32L180.44,120.94L183.23,71.27L186.03,50.55L188.83,43.45L191.63,46.85L194.43,44.57L197.23,50.88L200.03,40.59L202.83,45.33L205.62,50.11L208.42,42.87L211.22,36.79L214.02,128.17L216.82,127.31L219.62,178.24L225.22,219.75L228.01,222.75L230.81,232.51L233.61,229.13L239.21,234.71L242.01,200.26L244.81,197.61L247.61,115.9L250.41,68.93L253.2,52.29L256,40.63L258.8,43.34L261.6,36.41L264.4,52.55L267.2,41.13L270,43.53L272.8,48.11L275.59,37.26L278.39,31.92L281.19,131.32L283.99,127.51L286.79,182.94L289.59,198.12L292.39,225.19L295.19,223.58L297.99,228.29L300.78,226.65L303.58,228.8L306.38,231.09L309.18,209.18L311.98,201.72L314.78,118.83L317.58,66.6L320.38,58.52L323.17,45.63L325.97,42.79L328.77,41.44L331.57,55.72L334.37,36.87L337.17,32.37L339.97,37.55L342.77,39.66L345.56,35.32L348.36,131.09L351.16,130.83L353.96,184.86L356.76,201.11L359.56,224.65L362.36,221.91L365.16,228.04L370.75,229.22L373.55,231.09L376.35,210.83L379.15,225.77L381.95,199.08L384.75,164.73L387.55,160.36L390.35,112.77L393.14,111.44L395.94,111.65L398.74,124.52L401.54,124.35L404.34,126.68L407.14,156.91L409.94,150.86L412.74,161.2L415.53,176.39L418.33,177.95L421.13,219.59L423.93,222.02L426.73,226.84L429.53,223.69L435.13,233.83L437.93,234.45L440.72,235.93L443.52,229.21L446.32,231.61L449.12,205.51L451.92,205.86L454.72,177.8L460.32,176.89L463.11,175.12L465.91,177.48L468.71,175.98L471.51,175.95L474.31,179.47L477.11,181.24L479.91,198.94L482.71,208.76L485.5,211.25L488.3,224.74L491.1,222.92L493.9,224.43L496.7,224.23\" style=\"vector-effect: none; fill: none; stroke: rgb(45, 146, 255); stroke-opacity: 1; stroke-width: 2px; opacity: 1;\"/></g><g class=\"points\"/><g class=\"text\"/></g><g class=\"trace scatter trace4a0f27\" style=\"stroke-miterlimit: 2; opacity: 1;\"><g class=\"fills\"/><g class=\"errorbars\"/><g class=\"lines\"/><g class=\"points\"><path class=\"point\" transform=\"translate(29.3,222.65)\" d=\"M0,1.13l1.13,1.13l1.13,-1.13l-1.13,-1.13l1.13,-1.13l-1.13,-1.13l-1.13,1.13l-1.13,-1.13l-1.13,1.13l1.13,1.13l-1.13,1.13l1.13,1.13Z\" style=\"opacity: 1; stroke-width: 0px; fill: rgb(0, 0, 255); fill-opacity: 1;\"/><path class=\"point\" transform=\"translate(32.1,220.24)\" d=\"M0,1.13l1.13,1.13l1.13,-1.13l-1.13,-1.13l1.13,-1.13l-1.13,-1.13l-1.13,1.13l-1.13,-1.13l-1.13,1.13l1.13,1.13l-1.13,1.13l1.13,1.13Z\" style=\"opacity: 1; stroke-width: 0px; fill: rgb(0, 0, 255); fill-opacity: 1;\"/><path class=\"point\" transform=\"translate(34.9,222.18)\" d=\"M0,1.13l1.13,1.13l1.13,-1.13l-1.13,-1.13l1.13,-1.13l-1.13,-1.13l-1.13,1.13l-1.13,-1.13l-1.13,1.13l1.13,1.13l-1.13,1.13l1.13,1.13Z\" style=\"opacity: 1; stroke-width: 0px; fill: rgb(0, 0, 255); fill-opacity: 1;\"/><path class=\"point\" transform=\"translate(37.7,221.86)\" d=\"M0,1.13l1.13,1.13l1.13,-1.13l-1.13,-1.13l1.13,-1.13l-1.13,-1.13l-1.13,1.13l-1.13,-1.13l-1.13,1.13l1.13,1.13l-1.13,1.13l1.13,1.13Z\" style=\"opacity: 1; stroke-width: 0px; fill: rgb(0, 0, 255); fill-opacity: 1;\"/><path class=\"point\" transform=\"translate(40.5,203.19)\" d=\"M0,1.13l1.13,1.13l1.13,-1.13l-1.13,-1.13l1.13,-1.13l-1.13,-1.13l-1.13,1.13l-1.13,-1.13l-1.13,1.13l1.13,1.13l-1.13,1.13l1.13,1.13Z\" style=\"opacity: 1; stroke-width: 0px; fill: rgb(0, 0, 255); fill-opacity: 1;\"/><path class=\"point\" transform=\"translate(43.29,215.1)\" d=\"M0,1.13l1.13,1.13l1.13,-1.13l-1.13,-1.13l1.13,-1.13l-1.13,-1.13l-1.13,1.13l-1.13,-1.13l-1.13,1.13l1.13,1.13l-1.13,1.13l1.13,1.13Z\" style=\"opacity: 1; stroke-width: 0px; fill: rgb(0, 0, 255); fill-opacity: 1;\"/><path class=\"point\" transform=\"translate(46.09,189.02)\" d=\"M0,1.13l1.13,1.13l1.13,-1.13l-1.13,-1.13l1.13,-1.13l-1.13,-1.13l-1.13,1.13l-1.13,-1.13l-1.13,1.13l1.13,1.13l-1.13,1.13l1.13,1.13Z\" style=\"opacity: 1; stroke-width: 0px; fill: rgb(0, 0, 255); fill-opacity: 1;\"/><path class=\"point\" transform=\"translate(48.89,182.83)\" d=\"M0,1.13l1.13,1.13l1.13,-1.13l-1.13,-1.13l1.13,-1.13l-1.13,-1.13l-1.13,1.13l-1.13,-1.13l-1.13,1.13l1.13,1.13l-1.13,1.13l1.13,1.13Z\" style=\"opacity: 1; stroke-width: 0px; fill: rgb(0, 0, 255); fill-opacity: 1;\"/><path class=\"point\" transform=\"translate(51.69,170.39)\" d=\"M0,1.13l1.13,1.13l1.13,-1.13l-1.13,-1.13l1.13,-1.13l-1.13,-1.13l-1.13,1.13l-1.13,-1.13l-1.13,1.13l1.13,1.13l-1.13,1.13l1.13,1.13Z\" style=\"opacity: 1; stroke-width: 0px; fill: rgb(0, 0, 255); fill-opacity: 1;\"/><path class=\"point\" transform=\"translate(54.49,168.04)\" d=\"M0,1.13l1.13,1.13l1.13,-1.13l-1.13,-1.13l1.13,-1.13l-1.13,-1.13l-1.13,1.13l-1.13,-1.13l-1.13,1.13l1.13,1.13l-1.13,1.13l1.13,1.13Z\" style=\"opacity: 1; stroke-width: 0px; fill: rgb(0, 0, 255); fill-opacity: 1;\"/><path class=\"point\" transform=\"translate(57.29,162.64)\" d=\"M0,1.13l1.13,1.13l1.13,-1.13l-1.13,-1.13l1.13,-1.13l-1.13,-1.13l-1.13,1.13l-1.13,-1.13l-1.13,1.13l1.13,1.13l-1.13,1.13l1.13,1.13Z\" style=\"opacity: 1; stroke-width: 0px; fill: rgb(0, 0, 255); fill-opacity: 1;\"/><path class=\"point\" transform=\"translate(60.09,166.2)\" d=\"M0,1.13l1.13,1.13l1.13,-1.13l-1.13,-1.13l1.13,-1.13l-1.13,-1.13l-1.13,1.13l-1.13,-1.13l-1.13,1.13l1.13,1.13l-1.13,1.13l1.13,1.13Z\" style=\"opacity: 1; stroke-width: 0px; fill: rgb(0, 0, 255); fill-opacity: 1;\"/><path class=\"point\" transform=\"translate(62.89,167.42)\" d=\"M0,1.13l1.13,1.13l1.13,-1.13l-1.13,-1.13l1.13,-1.13l-1.13,-1.13l-1.13,1.13l-1.13,-1.13l-1.13,1.13l1.13,1.13l-1.13,1.13l1.13,1.13Z\" style=\"opacity: 1; stroke-width: 0px; fill: rgb(0, 0, 255); fill-opacity: 1;\"/><path class=\"point\" transform=\"translate(65.68,170.26)\" d=\"M0,1.13l1.13,1.13l1.13,-1.13l-1.13,-1.13l1.13,-1.13l-1.13,-1.13l-1.13,1.13l-1.13,-1.13l-1.13,1.13l1.13,1.13l-1.13,1.13l1.13,1.13Z\" style=\"opacity: 1; stroke-width: 0px; fill: rgb(0, 0, 255); fill-opacity: 1;\"/><path class=\"point\" transform=\"translate(68.48,164.76)\" d=\"M0,1.13l1.13,1.13l1.13,-1.13l-1.13,-1.13l1.13,-1.13l-1.13,-1.13l-1.13,1.13l-1.13,-1.13l-1.13,1.13l1.13,1.13l-1.13,1.13l1.13,1.13Z\" style=\"opacity: 1; stroke-width: 0px; fill: rgb(0, 0, 255); fill-opacity: 1;\"/><path class=\"point\" transform=\"translate(71.28,178.15)\" d=\"M0,1.13l1.13,1.13l1.13,-1.13l-1.13,-1.13l1.13,-1.13l-1.13,-1.13l-1.13,1.13l-1.13,-1.13l-1.13,1.13l1.13,1.13l-1.13,1.13l1.13,1.13Z\" style=\"opacity: 1; stroke-width: 0px; fill: rgb(0, 0, 255); fill-opacity: 1;\"/><path class=\"point\" transform=\"translate(74.08,177.13)\" d=\"M0,1.13l1.13,1.13l1.13,-1.13l-1.13,-1.13l1.13,-1.13l-1.13,-1.13l-1.13,1.13l-1.13,-1.13l-1.13,1.13l1.13,1.13l-1.13,1.13l1.13,1.13Z\" style=\"opacity: 1; stroke-width: 0px; fill: rgb(0, 0, 255); fill-opacity: 1;\"/><path class=\"point\" transform=\"translate(76.88,199.01)\" d=\"M0,1.13l1.13,1.13l1.13,-1.13l-1.13,-1.13l1.13,-1.13l-1.13,-1.13l-1.13,1.13l-1.13,-1.13l-1.13,1.13l1.13,1.13l-1.13,1.13l1.13,1.13Z\" style=\"opacity: 1; stroke-width: 0px; fill: rgb(0, 0, 255); fill-opacity: 1;\"/><path class=\"point\" transform=\"translate(79.68,204.92)\" d=\"M0,1.13l1.13,1.13l1.13,-1.13l-1.13,-1.13l1.13,-1.13l-1.13,-1.13l-1.13,1.13l-1.13,-1.13l-1.13,1.13l1.13,1.13l-1.13,1.13l1.13,1.13Z\" style=\"opacity: 1; stroke-width: 0px; fill: rgb(0, 0, 255); fill-opacity: 1;\"/><path class=\"point\" transform=\"translate(82.48,206.96)\" d=\"M0,1.13l1.13,1.13l1.13,-1.13l-1.13,-1.13l1.13,-1.13l-1.13,-1.13l-1.13,1.13l-1.13,-1.13l-1.13,1.13l1.13,1.13l-1.13,1.13l1.13,1.13Z\" style=\"opacity: 1; stroke-width: 0px; fill: rgb(0, 0, 255); fill-opacity: 1;\"/><path class=\"point\" transform=\"translate(85.28,209.64)\" d=\"M0,1.13l1.13,1.13l1.13,-1.13l-1.13,-1.13l1.13,-1.13l-1.13,-1.13l-1.13,1.13l-1.13,-1.13l-1.13,1.13l1.13,1.13l-1.13,1.13l1.13,1.13Z\" style=\"opacity: 1; stroke-width: 0px; fill: rgb(0, 0, 255); fill-opacity: 1;\"/><path class=\"point\" transform=\"translate(88.07,214.5)\" d=\"M0,1.13l1.13,1.13l1.13,-1.13l-1.13,-1.13l1.13,-1.13l-1.13,-1.13l-1.13,1.13l-1.13,-1.13l-1.13,1.13l1.13,1.13l-1.13,1.13l1.13,1.13Z\" style=\"opacity: 1; stroke-width: 0px; fill: rgb(0, 0, 255); fill-opacity: 1;\"/><path class=\"point\" transform=\"translate(90.87,223.62)\" d=\"M0,1.13l1.13,1.13l1.13,-1.13l-1.13,-1.13l1.13,-1.13l-1.13,-1.13l-1.13,1.13l-1.13,-1.13l-1.13,1.13l1.13,1.13l-1.13,1.13l1.13,1.13Z\" style=\"opacity: 1; stroke-width: 0px; fill: rgb(0, 0, 255); fill-opacity: 1;\"/><path class=\"point\" transform=\"translate(93.67,220.83)\" d=\"M0,1.13l1.13,1.13l1.13,-1.13l-1.13,-1.13l1.13,-1.13l-1.13,-1.13l-1.13,1.13l-1.13,-1.13l-1.13,1.13l1.13,1.13l-1.13,1.13l1.13,1.13Z\" style=\"opacity: 1; stroke-width: 0px; fill: rgb(0, 0, 255); fill-opacity: 1;\"/><path class=\"point\" transform=\"translate(96.47,219.56)\" d=\"M0,1.13l1.13,1.13l1.13,-1.13l-1.13,-1.13l1.13,-1.13l-1.13,-1.13l-1.13,1.13l-1.13,-1.13l-1.13,1.13l1.13,1.13l-1.13,1.13l1.13,1.13Z\" style=\"opacity: 1; stroke-width: 0px; fill: rgb(0, 0, 255); fill-opacity: 1;\"/><path class=\"point\" transform=\"translate(99.27,219.01)\" d=\"M0,1.13l1.13,1.13l1.13,-1.13l-1.13,-1.13l1.13,-1.13l-1.13,-1.13l-1.13,1.13l-1.13,-1.13l-1.13,1.13l1.13,1.13l-1.13,1.13l1.13,1.13Z\" style=\"opacity: 1; stroke-width: 0px; fill: rgb(0, 0, 255); fill-opacity: 1;\"/><path class=\"point\" transform=\"translate(102.07,215.82)\" d=\"M0,1.13l1.13,1.13l1.13,-1.13l-1.13,-1.13l1.13,-1.13l-1.13,-1.13l-1.13,1.13l-1.13,-1.13l-1.13,1.13l1.13,1.13l-1.13,1.13l1.13,1.13Z\" style=\"opacity: 1; stroke-width: 0px; fill: rgb(0, 0, 255); fill-opacity: 1;\"/><path class=\"point\" transform=\"translate(104.87,216.9)\" d=\"M0,1.13l1.13,1.13l1.13,-1.13l-1.13,-1.13l1.13,-1.13l-1.13,-1.13l-1.13,1.13l-1.13,-1.13l-1.13,1.13l1.13,1.13l-1.13,1.13l1.13,1.13Z\" style=\"opacity: 1; stroke-width: 0px; fill: rgb(0, 0, 255); fill-opacity: 1;\"/><path class=\"point\" transform=\"translate(107.67,201.62)\" d=\"M0,1.13l1.13,1.13l1.13,-1.13l-1.13,-1.13l1.13,-1.13l-1.13,-1.13l-1.13,1.13l-1.13,-1.13l-1.13,1.13l1.13,1.13l-1.13,1.13l1.13,1.13Z\" style=\"opacity: 1; stroke-width: 0px; fill: rgb(0, 0, 255); fill-opacity: 1;\"/><path class=\"point\" transform=\"translate(110.47,195.63)\" d=\"M0,1.13l1.13,1.13l1.13,-1.13l-1.13,-1.13l1.13,-1.13l-1.13,-1.13l-1.13,1.13l-1.13,-1.13l-1.13,1.13l1.13,1.13l-1.13,1.13l1.13,1.13Z\" style=\"opacity: 1; stroke-width: 0px; fill: rgb(0, 0, 255); fill-opacity: 1;\"/><path class=\"point\" transform=\"translate(113.26,129.2)\" d=\"M0,1.13l1.13,1.13l1.13,-1.13l-1.13,-1.13l1.13,-1.13l-1.13,-1.13l-1.13,1.13l-1.13,-1.13l-1.13,1.13l1.13,1.13l-1.13,1.13l1.13,1.13Z\" style=\"opacity: 1; stroke-width: 0px; fill: rgb(0, 0, 255); fill-opacity: 1;\"/><path class=\"point\" transform=\"translate(116.06,70.1)\" d=\"M0,1.13l1.13,1.13l1.13,-1.13l-1.13,-1.13l1.13,-1.13l-1.13,-1.13l-1.13,1.13l-1.13,-1.13l-1.13,1.13l1.13,1.13l-1.13,1.13l1.13,1.13Z\" style=\"opacity: 1; stroke-width: 0px; fill: rgb(0, 0, 255); fill-opacity: 1;\"/><path class=\"point\" transform=\"translate(118.86,44.58)\" d=\"M0,1.13l1.13,1.13l1.13,-1.13l-1.13,-1.13l1.13,-1.13l-1.13,-1.13l-1.13,1.13l-1.13,-1.13l-1.13,1.13l1.13,1.13l-1.13,1.13l1.13,1.13Z\" style=\"opacity: 1; stroke-width: 0px; fill: rgb(0, 0, 255); fill-opacity: 1;\"/><path class=\"point\" transform=\"translate(121.66,44.23)\" d=\"M0,1.13l1.13,1.13l1.13,-1.13l-1.13,-1.13l1.13,-1.13l-1.13,-1.13l-1.13,1.13l-1.13,-1.13l-1.13,1.13l1.13,1.13l-1.13,1.13l1.13,1.13Z\" style=\"opacity: 1; stroke-width: 0px; fill: rgb(0, 0, 255); fill-opacity: 1;\"/><path class=\"point\" transform=\"translate(124.46,46.35)\" d=\"M0,1.13l1.13,1.13l1.13,-1.13l-1.13,-1.13l1.13,-1.13l-1.13,-1.13l-1.13,1.13l-1.13,-1.13l-1.13,1.13l1.13,1.13l-1.13,1.13l1.13,1.13Z\" style=\"opacity: 1; stroke-width: 0px; fill: rgb(0, 0, 255); fill-opacity: 1;\"/><path class=\"point\" transform=\"translate(127.26,44.52)\" d=\"M0,1.13l1.13,1.13l1.13,-1.13l-1.13,-1.13l1.13,-1.13l-1.13,-1.13l-1.13,1.13l-1.13,-1.13l-1.13,1.13l1.13,1.13l-1.13,1.13l1.13,1.13Z\" style=\"opacity: 1; stroke-width: 0px; fill: rgb(0, 0, 255); fill-opacity: 1;\"/><path class=\"point\" transform=\"translate(130.06,52.05)\" d=\"M0,1.13l1.13,1.13l1.13,-1.13l-1.13,-1.13l1.13,-1.13l-1.13,-1.13l-1.13,1.13l-1.13,-1.13l-1.13,1.13l1.13,1.13l-1.13,1.13l1.13,1.13Z\" style=\"opacity: 1; stroke-width: 0px; fill: rgb(0, 0, 255); fill-opacity: 1;\"/><path class=\"point\" transform=\"translate(132.86,46.31)\" d=\"M0,1.13l1.13,1.13l1.13,-1.13l-1.13,-1.13l1.13,-1.13l-1.13,-1.13l-1.13,1.13l-1.13,-1.13l-1.13,1.13l1.13,1.13l-1.13,1.13l1.13,1.13Z\" style=\"opacity: 1; stroke-width: 0px; fill: rgb(0, 0, 255); fill-opacity: 1;\"/><path class=\"point\" transform=\"translate(135.65,41.31)\" d=\"M0,1.13l1.13,1.13l1.13,-1.13l-1.13,-1.13l1.13,-1.13l-1.13,-1.13l-1.13,1.13l-1.13,-1.13l-1.13,1.13l1.13,1.13l-1.13,1.13l1.13,1.13Z\" style=\"opacity: 1; stroke-width: 0px; fill: rgb(0, 0, 255); fill-opacity: 1;\"/><path class=\"point\" transform=\"translate(138.45,34.96)\" d=\"M0,1.13l1.13,1.13l1.13,-1.13l-1.13,-1.13l1.13,-1.13l-1.13,-1.13l-1.13,1.13l-1.13,-1.13l-1.13,1.13l1.13,1.13l-1.13,1.13l1.13,1.13Z\" style=\"opacity: 1; stroke-width: 0px; fill: rgb(0, 0, 255); fill-opacity: 1;\"/><path class=\"point\" transform=\"translate(141.25,33.34)\" d=\"M0,1.13l1.13,1.13l1.13,-1.13l-1.13,-1.13l1.13,-1.13l-1.13,-1.13l-1.13,1.13l-1.13,-1.13l-1.13,1.13l1.13,1.13l-1.13,1.13l1.13,1.13Z\" style=\"opacity: 1; stroke-width: 0px; fill: rgb(0, 0, 255); fill-opacity: 1;\"/><path class=\"point\" transform=\"translate(144.05,32.28)\" d=\"M0,1.13l1.13,1.13l1.13,-1.13l-1.13,-1.13l1.13,-1.13l-1.13,-1.13l-1.13,1.13l-1.13,-1.13l-1.13,1.13l1.13,1.13l-1.13,1.13l1.13,1.13Z\" style=\"opacity: 1; stroke-width: 0px; fill: rgb(0, 0, 255); fill-opacity: 1;\"/><path class=\"point\" transform=\"translate(146.85,118.97)\" d=\"M0,1.13l1.13,1.13l1.13,-1.13l-1.13,-1.13l1.13,-1.13l-1.13,-1.13l-1.13,1.13l-1.13,-1.13l-1.13,1.13l1.13,1.13l-1.13,1.13l1.13,1.13Z\" style=\"opacity: 1; stroke-width: 0px; fill: rgb(0, 0, 255); fill-opacity: 1;\"/><path class=\"point\" transform=\"translate(149.65,125)\" d=\"M0,1.13l1.13,1.13l1.13,-1.13l-1.13,-1.13l1.13,-1.13l-1.13,-1.13l-1.13,1.13l-1.13,-1.13l-1.13,1.13l1.13,1.13l-1.13,1.13l1.13,1.13Z\" style=\"opacity: 1; stroke-width: 0px; fill: rgb(0, 0, 255); fill-opacity: 1;\"/><path class=\"point\" transform=\"translate(152.45,175.39)\" d=\"M0,1.13l1.13,1.13l1.13,-1.13l-1.13,-1.13l1.13,-1.13l-1.13,-1.13l-1.13,1.13l-1.13,-1.13l-1.13,1.13l1.13,1.13l-1.13,1.13l1.13,1.13Z\" style=\"opacity: 1; stroke-width: 0px; fill: rgb(0, 0, 255); fill-opacity: 1;\"/><path class=\"point\" transform=\"translate(155.25,187.33)\" d=\"M0,1.13l1.13,1.13l1.13,-1.13l-1.13,-1.13l1.13,-1.13l-1.13,-1.13l-1.13,1.13l-1.13,-1.13l-1.13,1.13l1.13,1.13l-1.13,1.13l1.13,1.13Z\" style=\"opacity: 1; stroke-width: 0px; fill: rgb(0, 0, 255); fill-opacity: 1;\"/><path class=\"point\" transform=\"translate(158.04,222.6)\" d=\"M0,1.13l1.13,1.13l1.13,-1.13l-1.13,-1.13l1.13,-1.13l-1.13,-1.13l-1.13,1.13l-1.13,-1.13l-1.13,1.13l1.13,1.13l-1.13,1.13l1.13,1.13Z\" style=\"opacity: 1; stroke-width: 0px; fill: rgb(0, 0, 255); fill-opacity: 1;\"/><path class=\"point\" transform=\"translate(160.84,217.6)\" d=\"M0,1.13l1.13,1.13l1.13,-1.13l-1.13,-1.13l1.13,-1.13l-1.13,-1.13l-1.13,1.13l-1.13,-1.13l-1.13,1.13l1.13,1.13l-1.13,1.13l1.13,1.13Z\" style=\"opacity: 1; stroke-width: 0px; fill: rgb(0, 0, 255); fill-opacity: 1;\"/><path class=\"point\" transform=\"translate(163.64,227.81)\" d=\"M0,1.13l1.13,1.13l1.13,-1.13l-1.13,-1.13l1.13,-1.13l-1.13,-1.13l-1.13,1.13l-1.13,-1.13l-1.13,1.13l1.13,1.13l-1.13,1.13l1.13,1.13Z\" style=\"opacity: 1; stroke-width: 0px; fill: rgb(0, 0, 255); fill-opacity: 1;\"/><path class=\"point\" transform=\"translate(166.44,225.79)\" d=\"M0,1.13l1.13,1.13l1.13,-1.13l-1.13,-1.13l1.13,-1.13l-1.13,-1.13l-1.13,1.13l-1.13,-1.13l-1.13,1.13l1.13,1.13l-1.13,1.13l1.13,1.13Z\" style=\"opacity: 1; stroke-width: 0px; fill: rgb(0, 0, 255); fill-opacity: 1;\"/><path class=\"point\" transform=\"translate(169.24,226.89)\" d=\"M0,1.13l1.13,1.13l1.13,-1.13l-1.13,-1.13l1.13,-1.13l-1.13,-1.13l-1.13,1.13l-1.13,-1.13l-1.13,1.13l1.13,1.13l-1.13,1.13l1.13,1.13Z\" style=\"opacity: 1; stroke-width: 0px; fill: rgb(0, 0, 255); fill-opacity: 1;\"/><path class=\"point\" transform=\"translate(172.04,220.45)\" d=\"M0,1.13l1.13,1.13l1.13,-1.13l-1.13,-1.13l1.13,-1.13l-1.13,-1.13l-1.13,1.13l-1.13,-1.13l-1.13,1.13l1.13,1.13l-1.13,1.13l1.13,1.13Z\" style=\"opacity: 1; stroke-width: 0px; fill: rgb(0, 0, 255); fill-opacity: 1;\"/><path class=\"point\" transform=\"translate(174.84,201.93)\" d=\"M0,1.13l1.13,1.13l1.13,-1.13l-1.13,-1.13l1.13,-1.13l-1.13,-1.13l-1.13,1.13l-1.13,-1.13l-1.13,1.13l1.13,1.13l-1.13,1.13l1.13,1.13Z\" style=\"opacity: 1; stroke-width: 0px; fill: rgb(0, 0, 255); fill-opacity: 1;\"/><path class=\"point\" transform=\"translate(177.64,198.32)\" d=\"M0,1.13l1.13,1.13l1.13,-1.13l-1.13,-1.13l1.13,-1.13l-1.13,-1.13l-1.13,1.13l-1.13,-1.13l-1.13,1.13l1.13,1.13l-1.13,1.13l1.13,1.13Z\" style=\"opacity: 1; stroke-width: 0px; fill: rgb(0, 0, 255); fill-opacity: 1;\"/><path class=\"point\" transform=\"translate(180.44,120.94)\" d=\"M0,1.13l1.13,1.13l1.13,-1.13l-1.13,-1.13l1.13,-1.13l-1.13,-1.13l-1.13,1.13l-1.13,-1.13l-1.13,1.13l1.13,1.13l-1.13,1.13l1.13,1.13Z\" style=\"opacity: 1; stroke-width: 0px; fill: rgb(0, 0, 255); fill-opacity: 1;\"/><path class=\"point\" transform=\"translate(183.23,71.27)\" d=\"M0,1.13l1.13,1.13l1.13,-1.13l-1.13,-1.13l1.13,-1.13l-1.13,-1.13l-1.13,1.13l-1.13,-1.13l-1.13,1.13l1.13,1.13l-1.13,1.13l1.13,1.13Z\" style=\"opacity: 1; stroke-width: 0px; fill: rgb(0, 0, 255); fill-opacity: 1;\"/><path class=\"point\" transform=\"translate(186.03,50.55)\" d=\"M0,1.13l1.13,1.13l1.13,-1.13l-1.13,-1.13l1.13,-1.13l-1.13,-1.13l-1.13,1.13l-1.13,-1.13l-1.13,1.13l1.13,1.13l-1.13,1.13l1.13,1.13Z\" style=\"opacity: 1; stroke-width: 0px; fill: rgb(0, 0, 255); fill-opacity: 1;\"/><path class=\"point\" transform=\"translate(188.83,43.45)\" d=\"M0,1.13l1.13,1.13l1.13,-1.13l-1.13,-1.13l1.13,-1.13l-1.13,-1.13l-1.13,1.13l-1.13,-1.13l-1.13,1.13l1.13,1.13l-1.13,1.13l1.13,1.13Z\" style=\"opacity: 1; stroke-width: 0px; fill: rgb(0, 0, 255); fill-opacity: 1;\"/><path class=\"point\" transform=\"translate(191.63,46.85)\" d=\"M0,1.13l1.13,1.13l1.13,-1.13l-1.13,-1.13l1.13,-1.13l-1.13,-1.13l-1.13,1.13l-1.13,-1.13l-1.13,1.13l1.13,1.13l-1.13,1.13l1.13,1.13Z\" style=\"opacity: 1; stroke-width: 0px; fill: rgb(0, 0, 255); fill-opacity: 1;\"/><path class=\"point\" transform=\"translate(194.43,44.57)\" d=\"M0,1.13l1.13,1.13l1.13,-1.13l-1.13,-1.13l1.13,-1.13l-1.13,-1.13l-1.13,1.13l-1.13,-1.13l-1.13,1.13l1.13,1.13l-1.13,1.13l1.13,1.13Z\" style=\"opacity: 1; stroke-width: 0px; fill: rgb(0, 0, 255); fill-opacity: 1;\"/><path class=\"point\" transform=\"translate(197.23,50.88)\" d=\"M0,1.13l1.13,1.13l1.13,-1.13l-1.13,-1.13l1.13,-1.13l-1.13,-1.13l-1.13,1.13l-1.13,-1.13l-1.13,1.13l1.13,1.13l-1.13,1.13l1.13,1.13Z\" style=\"opacity: 1; stroke-width: 0px; fill: rgb(0, 0, 255); fill-opacity: 1;\"/><path class=\"point\" transform=\"translate(200.03,40.59)\" d=\"M0,1.13l1.13,1.13l1.13,-1.13l-1.13,-1.13l1.13,-1.13l-1.13,-1.13l-1.13,1.13l-1.13,-1.13l-1.13,1.13l1.13,1.13l-1.13,1.13l1.13,1.13Z\" style=\"opacity: 1; stroke-width: 0px; fill: rgb(0, 0, 255); fill-opacity: 1;\"/><path class=\"point\" transform=\"translate(202.83,45.33)\" d=\"M0,1.13l1.13,1.13l1.13,-1.13l-1.13,-1.13l1.13,-1.13l-1.13,-1.13l-1.13,1.13l-1.13,-1.13l-1.13,1.13l1.13,1.13l-1.13,1.13l1.13,1.13Z\" style=\"opacity: 1; stroke-width: 0px; fill: rgb(0, 0, 255); fill-opacity: 1;\"/><path class=\"point\" transform=\"translate(205.62,50.11)\" d=\"M0,1.13l1.13,1.13l1.13,-1.13l-1.13,-1.13l1.13,-1.13l-1.13,-1.13l-1.13,1.13l-1.13,-1.13l-1.13,1.13l1.13,1.13l-1.13,1.13l1.13,1.13Z\" style=\"opacity: 1; stroke-width: 0px; fill: rgb(0, 0, 255); fill-opacity: 1;\"/><path class=\"point\" transform=\"translate(208.42,42.87)\" d=\"M0,1.13l1.13,1.13l1.13,-1.13l-1.13,-1.13l1.13,-1.13l-1.13,-1.13l-1.13,1.13l-1.13,-1.13l-1.13,1.13l1.13,1.13l-1.13,1.13l1.13,1.13Z\" style=\"opacity: 1; stroke-width: 0px; fill: rgb(0, 0, 255); fill-opacity: 1;\"/><path class=\"point\" transform=\"translate(211.22,36.79)\" d=\"M0,1.13l1.13,1.13l1.13,-1.13l-1.13,-1.13l1.13,-1.13l-1.13,-1.13l-1.13,1.13l-1.13,-1.13l-1.13,1.13l1.13,1.13l-1.13,1.13l1.13,1.13Z\" style=\"opacity: 1; stroke-width: 0px; fill: rgb(0, 0, 255); fill-opacity: 1;\"/><path class=\"point\" transform=\"translate(214.02,128.17)\" d=\"M0,1.13l1.13,1.13l1.13,-1.13l-1.13,-1.13l1.13,-1.13l-1.13,-1.13l-1.13,1.13l-1.13,-1.13l-1.13,1.13l1.13,1.13l-1.13,1.13l1.13,1.13Z\" style=\"opacity: 1; stroke-width: 0px; fill: rgb(0, 0, 255); fill-opacity: 1;\"/><path class=\"point\" transform=\"translate(216.82,127.31)\" d=\"M0,1.13l1.13,1.13l1.13,-1.13l-1.13,-1.13l1.13,-1.13l-1.13,-1.13l-1.13,1.13l-1.13,-1.13l-1.13,1.13l1.13,1.13l-1.13,1.13l1.13,1.13Z\" style=\"opacity: 1; stroke-width: 0px; fill: rgb(0, 0, 255); fill-opacity: 1;\"/><path class=\"point\" transform=\"translate(219.62,178.24)\" d=\"M0,1.13l1.13,1.13l1.13,-1.13l-1.13,-1.13l1.13,-1.13l-1.13,-1.13l-1.13,1.13l-1.13,-1.13l-1.13,1.13l1.13,1.13l-1.13,1.13l1.13,1.13Z\" style=\"opacity: 1; stroke-width: 0px; fill: rgb(0, 0, 255); fill-opacity: 1;\"/><path class=\"point\" transform=\"translate(222.42,199.77)\" d=\"M0,1.13l1.13,1.13l1.13,-1.13l-1.13,-1.13l1.13,-1.13l-1.13,-1.13l-1.13,1.13l-1.13,-1.13l-1.13,1.13l1.13,1.13l-1.13,1.13l1.13,1.13Z\" style=\"opacity: 1; stroke-width: 0px; fill: rgb(0, 0, 255); fill-opacity: 1;\"/><path class=\"point\" transform=\"translate(225.22,219.75)\" d=\"M0,1.13l1.13,1.13l1.13,-1.13l-1.13,-1.13l1.13,-1.13l-1.13,-1.13l-1.13,1.13l-1.13,-1.13l-1.13,1.13l1.13,1.13l-1.13,1.13l1.13,1.13Z\" style=\"opacity: 1; stroke-width: 0px; fill: rgb(0, 0, 255); fill-opacity: 1;\"/><path class=\"point\" transform=\"translate(228.01,222.75)\" d=\"M0,1.13l1.13,1.13l1.13,-1.13l-1.13,-1.13l1.13,-1.13l-1.13,-1.13l-1.13,1.13l-1.13,-1.13l-1.13,1.13l1.13,1.13l-1.13,1.13l1.13,1.13Z\" style=\"opacity: 1; stroke-width: 0px; fill: rgb(0, 0, 255); fill-opacity: 1;\"/><path class=\"point\" transform=\"translate(230.81,232.51)\" d=\"M0,1.13l1.13,1.13l1.13,-1.13l-1.13,-1.13l1.13,-1.13l-1.13,-1.13l-1.13,1.13l-1.13,-1.13l-1.13,1.13l1.13,1.13l-1.13,1.13l1.13,1.13Z\" style=\"opacity: 1; stroke-width: 0px; fill: rgb(0, 0, 255); fill-opacity: 1;\"/><path class=\"point\" transform=\"translate(233.61,229.13)\" d=\"M0,1.13l1.13,1.13l1.13,-1.13l-1.13,-1.13l1.13,-1.13l-1.13,-1.13l-1.13,1.13l-1.13,-1.13l-1.13,1.13l1.13,1.13l-1.13,1.13l1.13,1.13Z\" style=\"opacity: 1; stroke-width: 0px; fill: rgb(0, 0, 255); fill-opacity: 1;\"/><path class=\"point\" transform=\"translate(236.41,232.18)\" d=\"M0,1.13l1.13,1.13l1.13,-1.13l-1.13,-1.13l1.13,-1.13l-1.13,-1.13l-1.13,1.13l-1.13,-1.13l-1.13,1.13l1.13,1.13l-1.13,1.13l1.13,1.13Z\" style=\"opacity: 1; stroke-width: 0px; fill: rgb(0, 0, 255); fill-opacity: 1;\"/><path class=\"point\" transform=\"translate(239.21,234.71)\" d=\"M0,1.13l1.13,1.13l1.13,-1.13l-1.13,-1.13l1.13,-1.13l-1.13,-1.13l-1.13,1.13l-1.13,-1.13l-1.13,1.13l1.13,1.13l-1.13,1.13l1.13,1.13Z\" style=\"opacity: 1; stroke-width: 0px; fill: rgb(0, 0, 255); fill-opacity: 1;\"/><path class=\"point\" transform=\"translate(242.01,200.26)\" d=\"M0,1.13l1.13,1.13l1.13,-1.13l-1.13,-1.13l1.13,-1.13l-1.13,-1.13l-1.13,1.13l-1.13,-1.13l-1.13,1.13l1.13,1.13l-1.13,1.13l1.13,1.13Z\" style=\"opacity: 1; stroke-width: 0px; fill: rgb(0, 0, 255); fill-opacity: 1;\"/><path class=\"point\" transform=\"translate(244.81,197.61)\" d=\"M0,1.13l1.13,1.13l1.13,-1.13l-1.13,-1.13l1.13,-1.13l-1.13,-1.13l-1.13,1.13l-1.13,-1.13l-1.13,1.13l1.13,1.13l-1.13,1.13l1.13,1.13Z\" style=\"opacity: 1; stroke-width: 0px; fill: rgb(0, 0, 255); fill-opacity: 1;\"/><path class=\"point\" transform=\"translate(247.61,115.9)\" d=\"M0,1.13l1.13,1.13l1.13,-1.13l-1.13,-1.13l1.13,-1.13l-1.13,-1.13l-1.13,1.13l-1.13,-1.13l-1.13,1.13l1.13,1.13l-1.13,1.13l1.13,1.13Z\" style=\"opacity: 1; stroke-width: 0px; fill: rgb(0, 0, 255); fill-opacity: 1;\"/><path class=\"point\" transform=\"translate(250.41,68.93)\" d=\"M0,1.13l1.13,1.13l1.13,-1.13l-1.13,-1.13l1.13,-1.13l-1.13,-1.13l-1.13,1.13l-1.13,-1.13l-1.13,1.13l1.13,1.13l-1.13,1.13l1.13,1.13Z\" style=\"opacity: 1; stroke-width: 0px; fill: rgb(0, 0, 255); fill-opacity: 1;\"/><path class=\"point\" transform=\"translate(253.2,52.29)\" d=\"M0,1.13l1.13,1.13l1.13,-1.13l-1.13,-1.13l1.13,-1.13l-1.13,-1.13l-1.13,1.13l-1.13,-1.13l-1.13,1.13l1.13,1.13l-1.13,1.13l1.13,1.13Z\" style=\"opacity: 1; stroke-width: 0px; fill: rgb(0, 0, 255); fill-opacity: 1;\"/><path class=\"point\" transform=\"translate(256,40.63)\" d=\"M0,1.13l1.13,1.13l1.13,-1.13l-1.13,-1.13l1.13,-1.13l-1.13,-1.13l-1.13,1.13l-1.13,-1.13l-1.13,1.13l1.13,1.13l-1.13,1.13l1.13,1.13Z\" style=\"opacity: 1; stroke-width: 0px; fill: rgb(0, 0, 255); fill-opacity: 1;\"/><path class=\"point\" transform=\"translate(258.8,43.34)\" d=\"M0,1.13l1.13,1.13l1.13,-1.13l-1.13,-1.13l1.13,-1.13l-1.13,-1.13l-1.13,1.13l-1.13,-1.13l-1.13,1.13l1.13,1.13l-1.13,1.13l1.13,1.13Z\" style=\"opacity: 1; stroke-width: 0px; fill: rgb(0, 0, 255); fill-opacity: 1;\"/><path class=\"point\" transform=\"translate(261.6,36.41)\" d=\"M0,1.13l1.13,1.13l1.13,-1.13l-1.13,-1.13l1.13,-1.13l-1.13,-1.13l-1.13,1.13l-1.13,-1.13l-1.13,1.13l1.13,1.13l-1.13,1.13l1.13,1.13Z\" style=\"opacity: 1; stroke-width: 0px; fill: rgb(0, 0, 255); fill-opacity: 1;\"/><path class=\"point\" transform=\"translate(264.4,52.55)\" d=\"M0,1.13l1.13,1.13l1.13,-1.13l-1.13,-1.13l1.13,-1.13l-1.13,-1.13l-1.13,1.13l-1.13,-1.13l-1.13,1.13l1.13,1.13l-1.13,1.13l1.13,1.13Z\" style=\"opacity: 1; stroke-width: 0px; fill: rgb(0, 0, 255); fill-opacity: 1;\"/><path class=\"point\" transform=\"translate(267.2,41.13)\" d=\"M0,1.13l1.13,1.13l1.13,-1.13l-1.13,-1.13l1.13,-1.13l-1.13,-1.13l-1.13,1.13l-1.13,-1.13l-1.13,1.13l1.13,1.13l-1.13,1.13l1.13,1.13Z\" style=\"opacity: 1; stroke-width: 0px; fill: rgb(0, 0, 255); fill-opacity: 1;\"/><path class=\"point\" transform=\"translate(270,43.53)\" d=\"M0,1.13l1.13,1.13l1.13,-1.13l-1.13,-1.13l1.13,-1.13l-1.13,-1.13l-1.13,1.13l-1.13,-1.13l-1.13,1.13l1.13,1.13l-1.13,1.13l1.13,1.13Z\" style=\"opacity: 1; stroke-width: 0px; fill: rgb(0, 0, 255); fill-opacity: 1;\"/><path class=\"point\" transform=\"translate(272.8,48.11)\" d=\"M0,1.13l1.13,1.13l1.13,-1.13l-1.13,-1.13l1.13,-1.13l-1.13,-1.13l-1.13,1.13l-1.13,-1.13l-1.13,1.13l1.13,1.13l-1.13,1.13l1.13,1.13Z\" style=\"opacity: 1; stroke-width: 0px; fill: rgb(0, 0, 255); fill-opacity: 1;\"/><path class=\"point\" transform=\"translate(275.59,37.26)\" d=\"M0,1.13l1.13,1.13l1.13,-1.13l-1.13,-1.13l1.13,-1.13l-1.13,-1.13l-1.13,1.13l-1.13,-1.13l-1.13,1.13l1.13,1.13l-1.13,1.13l1.13,1.13Z\" style=\"opacity: 1; stroke-width: 0px; fill: rgb(0, 0, 255); fill-opacity: 1;\"/><path class=\"point\" transform=\"translate(278.39,31.92)\" d=\"M0,1.13l1.13,1.13l1.13,-1.13l-1.13,-1.13l1.13,-1.13l-1.13,-1.13l-1.13,1.13l-1.13,-1.13l-1.13,1.13l1.13,1.13l-1.13,1.13l1.13,1.13Z\" style=\"opacity: 1; stroke-width: 0px; fill: rgb(0, 0, 255); fill-opacity: 1;\"/><path class=\"point\" transform=\"translate(281.19,131.32)\" d=\"M0,1.13l1.13,1.13l1.13,-1.13l-1.13,-1.13l1.13,-1.13l-1.13,-1.13l-1.13,1.13l-1.13,-1.13l-1.13,1.13l1.13,1.13l-1.13,1.13l1.13,1.13Z\" style=\"opacity: 1; stroke-width: 0px; fill: rgb(0, 0, 255); fill-opacity: 1;\"/><path class=\"point\" transform=\"translate(283.99,127.51)\" d=\"M0,1.13l1.13,1.13l1.13,-1.13l-1.13,-1.13l1.13,-1.13l-1.13,-1.13l-1.13,1.13l-1.13,-1.13l-1.13,1.13l1.13,1.13l-1.13,1.13l1.13,1.13Z\" style=\"opacity: 1; stroke-width: 0px; fill: rgb(0, 0, 255); fill-opacity: 1;\"/><path class=\"point\" transform=\"translate(286.79,182.94)\" d=\"M0,1.13l1.13,1.13l1.13,-1.13l-1.13,-1.13l1.13,-1.13l-1.13,-1.13l-1.13,1.13l-1.13,-1.13l-1.13,1.13l1.13,1.13l-1.13,1.13l1.13,1.13Z\" style=\"opacity: 1; stroke-width: 0px; fill: rgb(0, 0, 255); fill-opacity: 1;\"/><path class=\"point\" transform=\"translate(289.59,198.12)\" d=\"M0,1.13l1.13,1.13l1.13,-1.13l-1.13,-1.13l1.13,-1.13l-1.13,-1.13l-1.13,1.13l-1.13,-1.13l-1.13,1.13l1.13,1.13l-1.13,1.13l1.13,1.13Z\" style=\"opacity: 1; stroke-width: 0px; fill: rgb(0, 0, 255); fill-opacity: 1;\"/><path class=\"point\" transform=\"translate(292.39,225.19)\" d=\"M0,1.13l1.13,1.13l1.13,-1.13l-1.13,-1.13l1.13,-1.13l-1.13,-1.13l-1.13,1.13l-1.13,-1.13l-1.13,1.13l1.13,1.13l-1.13,1.13l1.13,1.13Z\" style=\"opacity: 1; stroke-width: 0px; fill: rgb(0, 0, 255); fill-opacity: 1;\"/><path class=\"point\" transform=\"translate(295.19,223.58)\" d=\"M0,1.13l1.13,1.13l1.13,-1.13l-1.13,-1.13l1.13,-1.13l-1.13,-1.13l-1.13,1.13l-1.13,-1.13l-1.13,1.13l1.13,1.13l-1.13,1.13l1.13,1.13Z\" style=\"opacity: 1; stroke-width: 0px; fill: rgb(0, 0, 255); fill-opacity: 1;\"/><path class=\"point\" transform=\"translate(297.99,228.29)\" d=\"M0,1.13l1.13,1.13l1.13,-1.13l-1.13,-1.13l1.13,-1.13l-1.13,-1.13l-1.13,1.13l-1.13,-1.13l-1.13,1.13l1.13,1.13l-1.13,1.13l1.13,1.13Z\" style=\"opacity: 1; stroke-width: 0px; fill: rgb(0, 0, 255); fill-opacity: 1;\"/><path class=\"point\" transform=\"translate(300.78,226.65)\" d=\"M0,1.13l1.13,1.13l1.13,-1.13l-1.13,-1.13l1.13,-1.13l-1.13,-1.13l-1.13,1.13l-1.13,-1.13l-1.13,1.13l1.13,1.13l-1.13,1.13l1.13,1.13Z\" style=\"opacity: 1; stroke-width: 0px; fill: rgb(0, 0, 255); fill-opacity: 1;\"/><path class=\"point\" transform=\"translate(303.58,228.8)\" d=\"M0,1.13l1.13,1.13l1.13,-1.13l-1.13,-1.13l1.13,-1.13l-1.13,-1.13l-1.13,1.13l-1.13,-1.13l-1.13,1.13l1.13,1.13l-1.13,1.13l1.13,1.13Z\" style=\"opacity: 1; stroke-width: 0px; fill: rgb(0, 0, 255); fill-opacity: 1;\"/><path class=\"point\" transform=\"translate(306.38,231.09)\" d=\"M0,1.13l1.13,1.13l1.13,-1.13l-1.13,-1.13l1.13,-1.13l-1.13,-1.13l-1.13,1.13l-1.13,-1.13l-1.13,1.13l1.13,1.13l-1.13,1.13l1.13,1.13Z\" style=\"opacity: 1; stroke-width: 0px; fill: rgb(0, 0, 255); fill-opacity: 1;\"/><path class=\"point\" transform=\"translate(309.18,209.18)\" d=\"M0,1.13l1.13,1.13l1.13,-1.13l-1.13,-1.13l1.13,-1.13l-1.13,-1.13l-1.13,1.13l-1.13,-1.13l-1.13,1.13l1.13,1.13l-1.13,1.13l1.13,1.13Z\" style=\"opacity: 1; stroke-width: 0px; fill: rgb(0, 0, 255); fill-opacity: 1;\"/><path class=\"point\" transform=\"translate(311.98,201.72)\" d=\"M0,1.13l1.13,1.13l1.13,-1.13l-1.13,-1.13l1.13,-1.13l-1.13,-1.13l-1.13,1.13l-1.13,-1.13l-1.13,1.13l1.13,1.13l-1.13,1.13l1.13,1.13Z\" style=\"opacity: 1; stroke-width: 0px; fill: rgb(0, 0, 255); fill-opacity: 1;\"/><path class=\"point\" transform=\"translate(314.78,118.83)\" d=\"M0,1.13l1.13,1.13l1.13,-1.13l-1.13,-1.13l1.13,-1.13l-1.13,-1.13l-1.13,1.13l-1.13,-1.13l-1.13,1.13l1.13,1.13l-1.13,1.13l1.13,1.13Z\" style=\"opacity: 1; stroke-width: 0px; fill: rgb(0, 0, 255); fill-opacity: 1;\"/><path class=\"point\" transform=\"translate(317.58,66.6)\" d=\"M0,1.13l1.13,1.13l1.13,-1.13l-1.13,-1.13l1.13,-1.13l-1.13,-1.13l-1.13,1.13l-1.13,-1.13l-1.13,1.13l1.13,1.13l-1.13,1.13l1.13,1.13Z\" style=\"opacity: 1; stroke-width: 0px; fill: rgb(0, 0, 255); fill-opacity: 1;\"/><path class=\"point\" transform=\"translate(320.38,58.52)\" d=\"M0,1.13l1.13,1.13l1.13,-1.13l-1.13,-1.13l1.13,-1.13l-1.13,-1.13l-1.13,1.13l-1.13,-1.13l-1.13,1.13l1.13,1.13l-1.13,1.13l1.13,1.13Z\" style=\"opacity: 1; stroke-width: 0px; fill: rgb(0, 0, 255); fill-opacity: 1;\"/><path class=\"point\" transform=\"translate(323.17,45.63)\" d=\"M0,1.13l1.13,1.13l1.13,-1.13l-1.13,-1.13l1.13,-1.13l-1.13,-1.13l-1.13,1.13l-1.13,-1.13l-1.13,1.13l1.13,1.13l-1.13,1.13l1.13,1.13Z\" style=\"opacity: 1; stroke-width: 0px; fill: rgb(0, 0, 255); fill-opacity: 1;\"/><path class=\"point\" transform=\"translate(325.97,42.79)\" d=\"M0,1.13l1.13,1.13l1.13,-1.13l-1.13,-1.13l1.13,-1.13l-1.13,-1.13l-1.13,1.13l-1.13,-1.13l-1.13,1.13l1.13,1.13l-1.13,1.13l1.13,1.13Z\" style=\"opacity: 1; stroke-width: 0px; fill: rgb(0, 0, 255); fill-opacity: 1;\"/><path class=\"point\" transform=\"translate(328.77,41.44)\" d=\"M0,1.13l1.13,1.13l1.13,-1.13l-1.13,-1.13l1.13,-1.13l-1.13,-1.13l-1.13,1.13l-1.13,-1.13l-1.13,1.13l1.13,1.13l-1.13,1.13l1.13,1.13Z\" style=\"opacity: 1; stroke-width: 0px; fill: rgb(0, 0, 255); fill-opacity: 1;\"/><path class=\"point\" transform=\"translate(331.57,55.72)\" d=\"M0,1.13l1.13,1.13l1.13,-1.13l-1.13,-1.13l1.13,-1.13l-1.13,-1.13l-1.13,1.13l-1.13,-1.13l-1.13,1.13l1.13,1.13l-1.13,1.13l1.13,1.13Z\" style=\"opacity: 1; stroke-width: 0px; fill: rgb(0, 0, 255); fill-opacity: 1;\"/><path class=\"point\" transform=\"translate(334.37,36.87)\" d=\"M0,1.13l1.13,1.13l1.13,-1.13l-1.13,-1.13l1.13,-1.13l-1.13,-1.13l-1.13,1.13l-1.13,-1.13l-1.13,1.13l1.13,1.13l-1.13,1.13l1.13,1.13Z\" style=\"opacity: 1; stroke-width: 0px; fill: rgb(0, 0, 255); fill-opacity: 1;\"/><path class=\"point\" transform=\"translate(337.17,32.37)\" d=\"M0,1.13l1.13,1.13l1.13,-1.13l-1.13,-1.13l1.13,-1.13l-1.13,-1.13l-1.13,1.13l-1.13,-1.13l-1.13,1.13l1.13,1.13l-1.13,1.13l1.13,1.13Z\" style=\"opacity: 1; stroke-width: 0px; fill: rgb(0, 0, 255); fill-opacity: 1;\"/><path class=\"point\" transform=\"translate(339.97,37.55)\" d=\"M0,1.13l1.13,1.13l1.13,-1.13l-1.13,-1.13l1.13,-1.13l-1.13,-1.13l-1.13,1.13l-1.13,-1.13l-1.13,1.13l1.13,1.13l-1.13,1.13l1.13,1.13Z\" style=\"opacity: 1; stroke-width: 0px; fill: rgb(0, 0, 255); fill-opacity: 1;\"/><path class=\"point\" transform=\"translate(342.77,39.66)\" d=\"M0,1.13l1.13,1.13l1.13,-1.13l-1.13,-1.13l1.13,-1.13l-1.13,-1.13l-1.13,1.13l-1.13,-1.13l-1.13,1.13l1.13,1.13l-1.13,1.13l1.13,1.13Z\" style=\"opacity: 1; stroke-width: 0px; fill: rgb(0, 0, 255); fill-opacity: 1;\"/><path class=\"point\" transform=\"translate(345.56,35.32)\" d=\"M0,1.13l1.13,1.13l1.13,-1.13l-1.13,-1.13l1.13,-1.13l-1.13,-1.13l-1.13,1.13l-1.13,-1.13l-1.13,1.13l1.13,1.13l-1.13,1.13l1.13,1.13Z\" style=\"opacity: 1; stroke-width: 0px; fill: rgb(0, 0, 255); fill-opacity: 1;\"/><path class=\"point\" transform=\"translate(348.36,131.09)\" d=\"M0,1.13l1.13,1.13l1.13,-1.13l-1.13,-1.13l1.13,-1.13l-1.13,-1.13l-1.13,1.13l-1.13,-1.13l-1.13,1.13l1.13,1.13l-1.13,1.13l1.13,1.13Z\" style=\"opacity: 1; stroke-width: 0px; fill: rgb(0, 0, 255); fill-opacity: 1;\"/><path class=\"point\" transform=\"translate(351.16,130.83)\" d=\"M0,1.13l1.13,1.13l1.13,-1.13l-1.13,-1.13l1.13,-1.13l-1.13,-1.13l-1.13,1.13l-1.13,-1.13l-1.13,1.13l1.13,1.13l-1.13,1.13l1.13,1.13Z\" style=\"opacity: 1; stroke-width: 0px; fill: rgb(0, 0, 255); fill-opacity: 1;\"/><path class=\"point\" transform=\"translate(353.96,184.86)\" d=\"M0,1.13l1.13,1.13l1.13,-1.13l-1.13,-1.13l1.13,-1.13l-1.13,-1.13l-1.13,1.13l-1.13,-1.13l-1.13,1.13l1.13,1.13l-1.13,1.13l1.13,1.13Z\" style=\"opacity: 1; stroke-width: 0px; fill: rgb(0, 0, 255); fill-opacity: 1;\"/><path class=\"point\" transform=\"translate(356.76,201.11)\" d=\"M0,1.13l1.13,1.13l1.13,-1.13l-1.13,-1.13l1.13,-1.13l-1.13,-1.13l-1.13,1.13l-1.13,-1.13l-1.13,1.13l1.13,1.13l-1.13,1.13l1.13,1.13Z\" style=\"opacity: 1; stroke-width: 0px; fill: rgb(0, 0, 255); fill-opacity: 1;\"/><path class=\"point\" transform=\"translate(359.56,224.65)\" d=\"M0,1.13l1.13,1.13l1.13,-1.13l-1.13,-1.13l1.13,-1.13l-1.13,-1.13l-1.13,1.13l-1.13,-1.13l-1.13,1.13l1.13,1.13l-1.13,1.13l1.13,1.13Z\" style=\"opacity: 1; stroke-width: 0px; fill: rgb(0, 0, 255); fill-opacity: 1;\"/><path class=\"point\" transform=\"translate(362.36,221.91)\" d=\"M0,1.13l1.13,1.13l1.13,-1.13l-1.13,-1.13l1.13,-1.13l-1.13,-1.13l-1.13,1.13l-1.13,-1.13l-1.13,1.13l1.13,1.13l-1.13,1.13l1.13,1.13Z\" style=\"opacity: 1; stroke-width: 0px; fill: rgb(0, 0, 255); fill-opacity: 1;\"/><path class=\"point\" transform=\"translate(365.16,228.04)\" d=\"M0,1.13l1.13,1.13l1.13,-1.13l-1.13,-1.13l1.13,-1.13l-1.13,-1.13l-1.13,1.13l-1.13,-1.13l-1.13,1.13l1.13,1.13l-1.13,1.13l1.13,1.13Z\" style=\"opacity: 1; stroke-width: 0px; fill: rgb(0, 0, 255); fill-opacity: 1;\"/><path class=\"point\" transform=\"translate(367.96,228.28)\" d=\"M0,1.13l1.13,1.13l1.13,-1.13l-1.13,-1.13l1.13,-1.13l-1.13,-1.13l-1.13,1.13l-1.13,-1.13l-1.13,1.13l1.13,1.13l-1.13,1.13l1.13,1.13Z\" style=\"opacity: 1; stroke-width: 0px; fill: rgb(0, 0, 255); fill-opacity: 1;\"/><path class=\"point\" transform=\"translate(370.75,229.22)\" d=\"M0,1.13l1.13,1.13l1.13,-1.13l-1.13,-1.13l1.13,-1.13l-1.13,-1.13l-1.13,1.13l-1.13,-1.13l-1.13,1.13l1.13,1.13l-1.13,1.13l1.13,1.13Z\" style=\"opacity: 1; stroke-width: 0px; fill: rgb(0, 0, 255); fill-opacity: 1;\"/><path class=\"point\" transform=\"translate(373.55,231.09)\" d=\"M0,1.13l1.13,1.13l1.13,-1.13l-1.13,-1.13l1.13,-1.13l-1.13,-1.13l-1.13,1.13l-1.13,-1.13l-1.13,1.13l1.13,1.13l-1.13,1.13l1.13,1.13Z\" style=\"opacity: 1; stroke-width: 0px; fill: rgb(0, 0, 255); fill-opacity: 1;\"/><path class=\"point\" transform=\"translate(376.35,210.83)\" d=\"M0,1.13l1.13,1.13l1.13,-1.13l-1.13,-1.13l1.13,-1.13l-1.13,-1.13l-1.13,1.13l-1.13,-1.13l-1.13,1.13l1.13,1.13l-1.13,1.13l1.13,1.13Z\" style=\"opacity: 1; stroke-width: 0px; fill: rgb(0, 0, 255); fill-opacity: 1;\"/><path class=\"point\" transform=\"translate(379.15,225.77)\" d=\"M0,1.13l1.13,1.13l1.13,-1.13l-1.13,-1.13l1.13,-1.13l-1.13,-1.13l-1.13,1.13l-1.13,-1.13l-1.13,1.13l1.13,1.13l-1.13,1.13l1.13,1.13Z\" style=\"opacity: 1; stroke-width: 0px; fill: rgb(0, 0, 255); fill-opacity: 1;\"/><path class=\"point\" transform=\"translate(381.95,199.08)\" d=\"M0,1.13l1.13,1.13l1.13,-1.13l-1.13,-1.13l1.13,-1.13l-1.13,-1.13l-1.13,1.13l-1.13,-1.13l-1.13,1.13l1.13,1.13l-1.13,1.13l1.13,1.13Z\" style=\"opacity: 1; stroke-width: 0px; fill: rgb(0, 0, 255); fill-opacity: 1;\"/><path class=\"point\" transform=\"translate(384.75,164.73)\" d=\"M0,1.13l1.13,1.13l1.13,-1.13l-1.13,-1.13l1.13,-1.13l-1.13,-1.13l-1.13,1.13l-1.13,-1.13l-1.13,1.13l1.13,1.13l-1.13,1.13l1.13,1.13Z\" style=\"opacity: 1; stroke-width: 0px; fill: rgb(0, 0, 255); fill-opacity: 1;\"/><path class=\"point\" transform=\"translate(387.55,160.36)\" d=\"M0,1.13l1.13,1.13l1.13,-1.13l-1.13,-1.13l1.13,-1.13l-1.13,-1.13l-1.13,1.13l-1.13,-1.13l-1.13,1.13l1.13,1.13l-1.13,1.13l1.13,1.13Z\" style=\"opacity: 1; stroke-width: 0px; fill: rgb(0, 0, 255); fill-opacity: 1;\"/><path class=\"point\" transform=\"translate(390.35,112.77)\" d=\"M0,1.13l1.13,1.13l1.13,-1.13l-1.13,-1.13l1.13,-1.13l-1.13,-1.13l-1.13,1.13l-1.13,-1.13l-1.13,1.13l1.13,1.13l-1.13,1.13l1.13,1.13Z\" style=\"opacity: 1; stroke-width: 0px; fill: rgb(0, 0, 255); fill-opacity: 1;\"/><path class=\"point\" transform=\"translate(393.14,111.44)\" d=\"M0,1.13l1.13,1.13l1.13,-1.13l-1.13,-1.13l1.13,-1.13l-1.13,-1.13l-1.13,1.13l-1.13,-1.13l-1.13,1.13l1.13,1.13l-1.13,1.13l1.13,1.13Z\" style=\"opacity: 1; stroke-width: 0px; fill: rgb(0, 0, 255); fill-opacity: 1;\"/><path class=\"point\" transform=\"translate(395.94,111.65)\" d=\"M0,1.13l1.13,1.13l1.13,-1.13l-1.13,-1.13l1.13,-1.13l-1.13,-1.13l-1.13,1.13l-1.13,-1.13l-1.13,1.13l1.13,1.13l-1.13,1.13l1.13,1.13Z\" style=\"opacity: 1; stroke-width: 0px; fill: rgb(0, 0, 255); fill-opacity: 1;\"/><path class=\"point\" transform=\"translate(398.74,124.52)\" d=\"M0,1.13l1.13,1.13l1.13,-1.13l-1.13,-1.13l1.13,-1.13l-1.13,-1.13l-1.13,1.13l-1.13,-1.13l-1.13,1.13l1.13,1.13l-1.13,1.13l1.13,1.13Z\" style=\"opacity: 1; stroke-width: 0px; fill: rgb(0, 0, 255); fill-opacity: 1;\"/><path class=\"point\" transform=\"translate(401.54,124.35)\" d=\"M0,1.13l1.13,1.13l1.13,-1.13l-1.13,-1.13l1.13,-1.13l-1.13,-1.13l-1.13,1.13l-1.13,-1.13l-1.13,1.13l1.13,1.13l-1.13,1.13l1.13,1.13Z\" style=\"opacity: 1; stroke-width: 0px; fill: rgb(0, 0, 255); fill-opacity: 1;\"/><path class=\"point\" transform=\"translate(404.34,126.68)\" d=\"M0,1.13l1.13,1.13l1.13,-1.13l-1.13,-1.13l1.13,-1.13l-1.13,-1.13l-1.13,1.13l-1.13,-1.13l-1.13,1.13l1.13,1.13l-1.13,1.13l1.13,1.13Z\" style=\"opacity: 1; stroke-width: 0px; fill: rgb(0, 0, 255); fill-opacity: 1;\"/><path class=\"point\" transform=\"translate(407.14,156.91)\" d=\"M0,1.13l1.13,1.13l1.13,-1.13l-1.13,-1.13l1.13,-1.13l-1.13,-1.13l-1.13,1.13l-1.13,-1.13l-1.13,1.13l1.13,1.13l-1.13,1.13l1.13,1.13Z\" style=\"opacity: 1; stroke-width: 0px; fill: rgb(0, 0, 255); fill-opacity: 1;\"/><path class=\"point\" transform=\"translate(409.94,150.86)\" d=\"M0,1.13l1.13,1.13l1.13,-1.13l-1.13,-1.13l1.13,-1.13l-1.13,-1.13l-1.13,1.13l-1.13,-1.13l-1.13,1.13l1.13,1.13l-1.13,1.13l1.13,1.13Z\" style=\"opacity: 1; stroke-width: 0px; fill: rgb(0, 0, 255); fill-opacity: 1;\"/><path class=\"point\" transform=\"translate(412.74,161.2)\" d=\"M0,1.13l1.13,1.13l1.13,-1.13l-1.13,-1.13l1.13,-1.13l-1.13,-1.13l-1.13,1.13l-1.13,-1.13l-1.13,1.13l1.13,1.13l-1.13,1.13l1.13,1.13Z\" style=\"opacity: 1; stroke-width: 0px; fill: rgb(0, 0, 255); fill-opacity: 1;\"/><path class=\"point\" transform=\"translate(415.53,176.39)\" d=\"M0,1.13l1.13,1.13l1.13,-1.13l-1.13,-1.13l1.13,-1.13l-1.13,-1.13l-1.13,1.13l-1.13,-1.13l-1.13,1.13l1.13,1.13l-1.13,1.13l1.13,1.13Z\" style=\"opacity: 1; stroke-width: 0px; fill: rgb(0, 0, 255); fill-opacity: 1;\"/><path class=\"point\" transform=\"translate(418.33,177.95)\" d=\"M0,1.13l1.13,1.13l1.13,-1.13l-1.13,-1.13l1.13,-1.13l-1.13,-1.13l-1.13,1.13l-1.13,-1.13l-1.13,1.13l1.13,1.13l-1.13,1.13l1.13,1.13Z\" style=\"opacity: 1; stroke-width: 0px; fill: rgb(0, 0, 255); fill-opacity: 1;\"/><path class=\"point\" transform=\"translate(421.13,219.59)\" d=\"M0,1.13l1.13,1.13l1.13,-1.13l-1.13,-1.13l1.13,-1.13l-1.13,-1.13l-1.13,1.13l-1.13,-1.13l-1.13,1.13l1.13,1.13l-1.13,1.13l1.13,1.13Z\" style=\"opacity: 1; stroke-width: 0px; fill: rgb(0, 0, 255); fill-opacity: 1;\"/><path class=\"point\" transform=\"translate(423.93,222.02)\" d=\"M0,1.13l1.13,1.13l1.13,-1.13l-1.13,-1.13l1.13,-1.13l-1.13,-1.13l-1.13,1.13l-1.13,-1.13l-1.13,1.13l1.13,1.13l-1.13,1.13l1.13,1.13Z\" style=\"opacity: 1; stroke-width: 0px; fill: rgb(0, 0, 255); fill-opacity: 1;\"/><path class=\"point\" transform=\"translate(426.73,226.84)\" d=\"M0,1.13l1.13,1.13l1.13,-1.13l-1.13,-1.13l1.13,-1.13l-1.13,-1.13l-1.13,1.13l-1.13,-1.13l-1.13,1.13l1.13,1.13l-1.13,1.13l1.13,1.13Z\" style=\"opacity: 1; stroke-width: 0px; fill: rgb(0, 0, 255); fill-opacity: 1;\"/><path class=\"point\" transform=\"translate(429.53,223.69)\" d=\"M0,1.13l1.13,1.13l1.13,-1.13l-1.13,-1.13l1.13,-1.13l-1.13,-1.13l-1.13,1.13l-1.13,-1.13l-1.13,1.13l1.13,1.13l-1.13,1.13l1.13,1.13Z\" style=\"opacity: 1; stroke-width: 0px; fill: rgb(0, 0, 255); fill-opacity: 1;\"/><path class=\"point\" transform=\"translate(432.33,229.22)\" d=\"M0,1.13l1.13,1.13l1.13,-1.13l-1.13,-1.13l1.13,-1.13l-1.13,-1.13l-1.13,1.13l-1.13,-1.13l-1.13,1.13l1.13,1.13l-1.13,1.13l1.13,1.13Z\" style=\"opacity: 1; stroke-width: 0px; fill: rgb(0, 0, 255); fill-opacity: 1;\"/><path class=\"point\" transform=\"translate(435.13,233.83)\" d=\"M0,1.13l1.13,1.13l1.13,-1.13l-1.13,-1.13l1.13,-1.13l-1.13,-1.13l-1.13,1.13l-1.13,-1.13l-1.13,1.13l1.13,1.13l-1.13,1.13l1.13,1.13Z\" style=\"opacity: 1; stroke-width: 0px; fill: rgb(0, 0, 255); fill-opacity: 1;\"/><path class=\"point\" transform=\"translate(437.93,234.45)\" d=\"M0,1.13l1.13,1.13l1.13,-1.13l-1.13,-1.13l1.13,-1.13l-1.13,-1.13l-1.13,1.13l-1.13,-1.13l-1.13,1.13l1.13,1.13l-1.13,1.13l1.13,1.13Z\" style=\"opacity: 1; stroke-width: 0px; fill: rgb(0, 0, 255); fill-opacity: 1;\"/><path class=\"point\" transform=\"translate(440.72,235.93)\" d=\"M0,1.13l1.13,1.13l1.13,-1.13l-1.13,-1.13l1.13,-1.13l-1.13,-1.13l-1.13,1.13l-1.13,-1.13l-1.13,1.13l1.13,1.13l-1.13,1.13l1.13,1.13Z\" style=\"opacity: 1; stroke-width: 0px; fill: rgb(0, 0, 255); fill-opacity: 1;\"/><path class=\"point\" transform=\"translate(443.52,229.21)\" d=\"M0,1.13l1.13,1.13l1.13,-1.13l-1.13,-1.13l1.13,-1.13l-1.13,-1.13l-1.13,1.13l-1.13,-1.13l-1.13,1.13l1.13,1.13l-1.13,1.13l1.13,1.13Z\" style=\"opacity: 1; stroke-width: 0px; fill: rgb(0, 0, 255); fill-opacity: 1;\"/><path class=\"point\" transform=\"translate(446.32,231.61)\" d=\"M0,1.13l1.13,1.13l1.13,-1.13l-1.13,-1.13l1.13,-1.13l-1.13,-1.13l-1.13,1.13l-1.13,-1.13l-1.13,1.13l1.13,1.13l-1.13,1.13l1.13,1.13Z\" style=\"opacity: 1; stroke-width: 0px; fill: rgb(0, 0, 255); fill-opacity: 1;\"/><path class=\"point\" transform=\"translate(449.12,205.51)\" d=\"M0,1.13l1.13,1.13l1.13,-1.13l-1.13,-1.13l1.13,-1.13l-1.13,-1.13l-1.13,1.13l-1.13,-1.13l-1.13,1.13l1.13,1.13l-1.13,1.13l1.13,1.13Z\" style=\"opacity: 1; stroke-width: 0px; fill: rgb(0, 0, 255); fill-opacity: 1;\"/><path class=\"point\" transform=\"translate(451.92,205.86)\" d=\"M0,1.13l1.13,1.13l1.13,-1.13l-1.13,-1.13l1.13,-1.13l-1.13,-1.13l-1.13,1.13l-1.13,-1.13l-1.13,1.13l1.13,1.13l-1.13,1.13l1.13,1.13Z\" style=\"opacity: 1; stroke-width: 0px; fill: rgb(0, 0, 255); fill-opacity: 1;\"/><path class=\"point\" transform=\"translate(454.72,177.8)\" d=\"M0,1.13l1.13,1.13l1.13,-1.13l-1.13,-1.13l1.13,-1.13l-1.13,-1.13l-1.13,1.13l-1.13,-1.13l-1.13,1.13l1.13,1.13l-1.13,1.13l1.13,1.13Z\" style=\"opacity: 1; stroke-width: 0px; fill: rgb(0, 0, 255); fill-opacity: 1;\"/><path class=\"point\" transform=\"translate(457.52,177.66)\" d=\"M0,1.13l1.13,1.13l1.13,-1.13l-1.13,-1.13l1.13,-1.13l-1.13,-1.13l-1.13,1.13l-1.13,-1.13l-1.13,1.13l1.13,1.13l-1.13,1.13l1.13,1.13Z\" style=\"opacity: 1; stroke-width: 0px; fill: rgb(0, 0, 255); fill-opacity: 1;\"/><path class=\"point\" transform=\"translate(460.32,176.89)\" d=\"M0,1.13l1.13,1.13l1.13,-1.13l-1.13,-1.13l1.13,-1.13l-1.13,-1.13l-1.13,1.13l-1.13,-1.13l-1.13,1.13l1.13,1.13l-1.13,1.13l1.13,1.13Z\" style=\"opacity: 1; stroke-width: 0px; fill: rgb(0, 0, 255); fill-opacity: 1;\"/><path class=\"point\" transform=\"translate(463.11,175.12)\" d=\"M0,1.13l1.13,1.13l1.13,-1.13l-1.13,-1.13l1.13,-1.13l-1.13,-1.13l-1.13,1.13l-1.13,-1.13l-1.13,1.13l1.13,1.13l-1.13,1.13l1.13,1.13Z\" style=\"opacity: 1; stroke-width: 0px; fill: rgb(0, 0, 255); fill-opacity: 1;\"/><path class=\"point\" transform=\"translate(465.91,177.48)\" d=\"M0,1.13l1.13,1.13l1.13,-1.13l-1.13,-1.13l1.13,-1.13l-1.13,-1.13l-1.13,1.13l-1.13,-1.13l-1.13,1.13l1.13,1.13l-1.13,1.13l1.13,1.13Z\" style=\"opacity: 1; stroke-width: 0px; fill: rgb(0, 0, 255); fill-opacity: 1;\"/><path class=\"point\" transform=\"translate(468.71,175.98)\" d=\"M0,1.13l1.13,1.13l1.13,-1.13l-1.13,-1.13l1.13,-1.13l-1.13,-1.13l-1.13,1.13l-1.13,-1.13l-1.13,1.13l1.13,1.13l-1.13,1.13l1.13,1.13Z\" style=\"opacity: 1; stroke-width: 0px; fill: rgb(0, 0, 255); fill-opacity: 1;\"/><path class=\"point\" transform=\"translate(471.51,175.95)\" d=\"M0,1.13l1.13,1.13l1.13,-1.13l-1.13,-1.13l1.13,-1.13l-1.13,-1.13l-1.13,1.13l-1.13,-1.13l-1.13,1.13l1.13,1.13l-1.13,1.13l1.13,1.13Z\" style=\"opacity: 1; stroke-width: 0px; fill: rgb(0, 0, 255); fill-opacity: 1;\"/><path class=\"point\" transform=\"translate(474.31,179.47)\" d=\"M0,1.13l1.13,1.13l1.13,-1.13l-1.13,-1.13l1.13,-1.13l-1.13,-1.13l-1.13,1.13l-1.13,-1.13l-1.13,1.13l1.13,1.13l-1.13,1.13l1.13,1.13Z\" style=\"opacity: 1; stroke-width: 0px; fill: rgb(0, 0, 255); fill-opacity: 1;\"/><path class=\"point\" transform=\"translate(477.11,181.24)\" d=\"M0,1.13l1.13,1.13l1.13,-1.13l-1.13,-1.13l1.13,-1.13l-1.13,-1.13l-1.13,1.13l-1.13,-1.13l-1.13,1.13l1.13,1.13l-1.13,1.13l1.13,1.13Z\" style=\"opacity: 1; stroke-width: 0px; fill: rgb(0, 0, 255); fill-opacity: 1;\"/><path class=\"point\" transform=\"translate(479.91,198.94)\" d=\"M0,1.13l1.13,1.13l1.13,-1.13l-1.13,-1.13l1.13,-1.13l-1.13,-1.13l-1.13,1.13l-1.13,-1.13l-1.13,1.13l1.13,1.13l-1.13,1.13l1.13,1.13Z\" style=\"opacity: 1; stroke-width: 0px; fill: rgb(0, 0, 255); fill-opacity: 1;\"/><path class=\"point\" transform=\"translate(482.71,208.76)\" d=\"M0,1.13l1.13,1.13l1.13,-1.13l-1.13,-1.13l1.13,-1.13l-1.13,-1.13l-1.13,1.13l-1.13,-1.13l-1.13,1.13l1.13,1.13l-1.13,1.13l1.13,1.13Z\" style=\"opacity: 1; stroke-width: 0px; fill: rgb(0, 0, 255); fill-opacity: 1;\"/><path class=\"point\" transform=\"translate(485.5,211.25)\" d=\"M0,1.13l1.13,1.13l1.13,-1.13l-1.13,-1.13l1.13,-1.13l-1.13,-1.13l-1.13,1.13l-1.13,-1.13l-1.13,1.13l1.13,1.13l-1.13,1.13l1.13,1.13Z\" style=\"opacity: 1; stroke-width: 0px; fill: rgb(0, 0, 255); fill-opacity: 1;\"/><path class=\"point\" transform=\"translate(488.3,224.74)\" d=\"M0,1.13l1.13,1.13l1.13,-1.13l-1.13,-1.13l1.13,-1.13l-1.13,-1.13l-1.13,1.13l-1.13,-1.13l-1.13,1.13l1.13,1.13l-1.13,1.13l1.13,1.13Z\" style=\"opacity: 1; stroke-width: 0px; fill: rgb(0, 0, 255); fill-opacity: 1;\"/><path class=\"point\" transform=\"translate(491.1,222.92)\" d=\"M0,1.13l1.13,1.13l1.13,-1.13l-1.13,-1.13l1.13,-1.13l-1.13,-1.13l-1.13,1.13l-1.13,-1.13l-1.13,1.13l1.13,1.13l-1.13,1.13l1.13,1.13Z\" style=\"opacity: 1; stroke-width: 0px; fill: rgb(0, 0, 255); fill-opacity: 1;\"/><path class=\"point\" transform=\"translate(493.9,224.43)\" d=\"M0,1.13l1.13,1.13l1.13,-1.13l-1.13,-1.13l1.13,-1.13l-1.13,-1.13l-1.13,1.13l-1.13,-1.13l-1.13,1.13l1.13,1.13l-1.13,1.13l1.13,1.13Z\" style=\"opacity: 1; stroke-width: 0px; fill: rgb(0, 0, 255); fill-opacity: 1;\"/><path class=\"point\" transform=\"translate(496.7,224.23)\" d=\"M0,1.13l1.13,1.13l1.13,-1.13l-1.13,-1.13l1.13,-1.13l-1.13,-1.13l-1.13,1.13l-1.13,-1.13l-1.13,1.13l1.13,1.13l-1.13,1.13l1.13,1.13Z\" style=\"opacity: 1; stroke-width: 0px; fill: rgb(0, 0, 255); fill-opacity: 1;\"/></g><g class=\"text\"/></g><g class=\"trace scatter traceddc3ab\" style=\"stroke-miterlimit: 2; opacity: 1;\"><g class=\"fills\"/><g class=\"errorbars\"/><g class=\"lines\"/><g class=\"points\"><path class=\"point\" transform=\"translate(29.3,220.91)\" d=\"M2,0A2,2 0 1,1 0,-2A2,2 0 0,1 2,0Z\" style=\"opacity: 1; stroke-width: 0px; fill: rgb(0, 0, 0); fill-opacity: 1;\"/><path class=\"point\" transform=\"translate(32.1,220.15)\" d=\"M2,0A2,2 0 1,1 0,-2A2,2 0 0,1 2,0Z\" style=\"opacity: 1; stroke-width: 0px; fill: rgb(0, 0, 0); fill-opacity: 1;\"/><path class=\"point\" transform=\"translate(34.9,219.75)\" d=\"M2,0A2,2 0 1,1 0,-2A2,2 0 0,1 2,0Z\" style=\"opacity: 1; stroke-width: 0px; fill: rgb(0, 0, 0); fill-opacity: 1;\"/><path class=\"point\" transform=\"translate(37.7,219.54)\" d=\"M2,0A2,2 0 1,1 0,-2A2,2 0 0,1 2,0Z\" style=\"opacity: 1; stroke-width: 0px; fill: rgb(0, 0, 0); fill-opacity: 1;\"/><path class=\"point\" transform=\"translate(40.5,218.8)\" d=\"M2,0A2,2 0 1,1 0,-2A2,2 0 0,1 2,0Z\" style=\"opacity: 1; stroke-width: 0px; fill: rgb(0, 0, 0); fill-opacity: 1;\"/><path class=\"point\" transform=\"translate(43.29,216.75)\" d=\"M2,0A2,2 0 1,1 0,-2A2,2 0 0,1 2,0Z\" style=\"opacity: 1; stroke-width: 0px; fill: rgb(0, 0, 0); fill-opacity: 1;\"/><path class=\"point\" transform=\"translate(46.09,191.41)\" d=\"M2,0A2,2 0 1,1 0,-2A2,2 0 0,1 2,0Z\" style=\"opacity: 1; stroke-width: 0px; fill: rgb(0, 0, 0); fill-opacity: 1;\"/><path class=\"point\" transform=\"translate(48.89,195.36)\" d=\"M2,0A2,2 0 1,1 0,-2A2,2 0 0,1 2,0Z\" style=\"opacity: 1; stroke-width: 0px; fill: rgb(0, 0, 0); fill-opacity: 1;\"/><path class=\"point\" transform=\"translate(51.69,166.8)\" d=\"M2,0A2,2 0 1,1 0,-2A2,2 0 0,1 2,0Z\" style=\"opacity: 1; stroke-width: 0px; fill: rgb(0, 0, 0); fill-opacity: 1;\"/><path class=\"point\" transform=\"translate(54.49,169.3)\" d=\"M2,0A2,2 0 1,1 0,-2A2,2 0 0,1 2,0Z\" style=\"opacity: 1; stroke-width: 0px; fill: rgb(0, 0, 0); fill-opacity: 1;\"/><path class=\"point\" transform=\"translate(57.29,167.06)\" d=\"M2,0A2,2 0 1,1 0,-2A2,2 0 0,1 2,0Z\" style=\"opacity: 1; stroke-width: 0px; fill: rgb(0, 0, 0); fill-opacity: 1;\"/><path class=\"point\" transform=\"translate(60.09,165.62)\" d=\"M2,0A2,2 0 1,1 0,-2A2,2 0 0,1 2,0Z\" style=\"opacity: 1; stroke-width: 0px; fill: rgb(0, 0, 0); fill-opacity: 1;\"/><path class=\"point\" transform=\"translate(62.89,166.27)\" d=\"M2,0A2,2 0 1,1 0,-2A2,2 0 0,1 2,0Z\" style=\"opacity: 1; stroke-width: 0px; fill: rgb(0, 0, 0); fill-opacity: 1;\"/><path class=\"point\" transform=\"translate(65.68,169.9)\" d=\"M2,0A2,2 0 1,1 0,-2A2,2 0 0,1 2,0Z\" style=\"opacity: 1; stroke-width: 0px; fill: rgb(0, 0, 0); fill-opacity: 1;\"/><path class=\"point\" transform=\"translate(68.48,171.32)\" d=\"M2,0A2,2 0 1,1 0,-2A2,2 0 0,1 2,0Z\" style=\"opacity: 1; stroke-width: 0px; fill: rgb(0, 0, 0); fill-opacity: 1;\"/><path class=\"point\" transform=\"translate(71.28,170.48)\" d=\"M2,0A2,2 0 1,1 0,-2A2,2 0 0,1 2,0Z\" style=\"opacity: 1; stroke-width: 0px; fill: rgb(0, 0, 0); fill-opacity: 1;\"/><path class=\"point\" transform=\"translate(74.08,178.93)\" d=\"M2,0A2,2 0 1,1 0,-2A2,2 0 0,1 2,0Z\" style=\"opacity: 1; stroke-width: 0px; fill: rgb(0, 0, 0); fill-opacity: 1;\"/><path class=\"point\" transform=\"translate(76.88,198.44)\" d=\"M2,0A2,2 0 1,1 0,-2A2,2 0 0,1 2,0Z\" style=\"opacity: 1; stroke-width: 0px; fill: rgb(0, 0, 0); fill-opacity: 1;\"/><path class=\"point\" transform=\"translate(79.68,205.21)\" d=\"M2,0A2,2 0 1,1 0,-2A2,2 0 0,1 2,0Z\" style=\"opacity: 1; stroke-width: 0px; fill: rgb(0, 0, 0); fill-opacity: 1;\"/><path class=\"point\" transform=\"translate(82.48,203.33)\" d=\"M2,0A2,2 0 1,1 0,-2A2,2 0 0,1 2,0Z\" style=\"opacity: 1; stroke-width: 0px; fill: rgb(0, 0, 0); fill-opacity: 1;\"/><path class=\"point\" transform=\"translate(85.28,215.88)\" d=\"M2,0A2,2 0 1,1 0,-2A2,2 0 0,1 2,0Z\" style=\"opacity: 1; stroke-width: 0px; fill: rgb(0, 0, 0); fill-opacity: 1;\"/><path class=\"point\" transform=\"translate(88.07,213.41)\" d=\"M2,0A2,2 0 1,1 0,-2A2,2 0 0,1 2,0Z\" style=\"opacity: 1; stroke-width: 0px; fill: rgb(0, 0, 0); fill-opacity: 1;\"/><path class=\"point\" transform=\"translate(90.87,214.92)\" d=\"M2,0A2,2 0 1,1 0,-2A2,2 0 0,1 2,0Z\" style=\"opacity: 1; stroke-width: 0px; fill: rgb(0, 0, 0); fill-opacity: 1;\"/><path class=\"point\" transform=\"translate(93.67,214.6)\" d=\"M2,0A2,2 0 1,1 0,-2A2,2 0 0,1 2,0Z\" style=\"opacity: 1; stroke-width: 0px; fill: rgb(0, 0, 0); fill-opacity: 1;\"/><path class=\"point\" transform=\"translate(96.47,220.15)\" d=\"M2,0A2,2 0 1,1 0,-2A2,2 0 0,1 2,0Z\" style=\"opacity: 1; stroke-width: 0px; fill: rgb(0, 0, 0); fill-opacity: 1;\"/><path class=\"point\" transform=\"translate(99.27,220.89)\" d=\"M2,0A2,2 0 1,1 0,-2A2,2 0 0,1 2,0Z\" style=\"opacity: 1; stroke-width: 0px; fill: rgb(0, 0, 0); fill-opacity: 1;\"/><path class=\"point\" transform=\"translate(102.07,221.78)\" d=\"M2,0A2,2 0 1,1 0,-2A2,2 0 0,1 2,0Z\" style=\"opacity: 1; stroke-width: 0px; fill: rgb(0, 0, 0); fill-opacity: 1;\"/><path class=\"point\" transform=\"translate(104.87,224.97)\" d=\"M2,0A2,2 0 1,1 0,-2A2,2 0 0,1 2,0Z\" style=\"opacity: 1; stroke-width: 0px; fill: rgb(0, 0, 0); fill-opacity: 1;\"/><path class=\"point\" transform=\"translate(107.67,195.47)\" d=\"M2,0A2,2 0 1,1 0,-2A2,2 0 0,1 2,0Z\" style=\"opacity: 1; stroke-width: 0px; fill: rgb(0, 0, 0); fill-opacity: 1;\"/><path class=\"point\" transform=\"translate(110.47,195.85)\" d=\"M2,0A2,2 0 1,1 0,-2A2,2 0 0,1 2,0Z\" style=\"opacity: 1; stroke-width: 0px; fill: rgb(0, 0, 0); fill-opacity: 1;\"/><path class=\"point\" transform=\"translate(113.26,113.33)\" d=\"M2,0A2,2 0 1,1 0,-2A2,2 0 0,1 2,0Z\" style=\"opacity: 1; stroke-width: 0px; fill: rgb(0, 0, 0); fill-opacity: 1;\"/><path class=\"point\" transform=\"translate(116.06,73.44)\" d=\"M2,0A2,2 0 1,1 0,-2A2,2 0 0,1 2,0Z\" style=\"opacity: 1; stroke-width: 0px; fill: rgb(0, 0, 0); fill-opacity: 1;\"/><path class=\"point\" transform=\"translate(118.86,61.08)\" d=\"M2,0A2,2 0 1,1 0,-2A2,2 0 0,1 2,0Z\" style=\"opacity: 1; stroke-width: 0px; fill: rgb(0, 0, 0); fill-opacity: 1;\"/><path class=\"point\" transform=\"translate(121.66,46.19)\" d=\"M2,0A2,2 0 1,1 0,-2A2,2 0 0,1 2,0Z\" style=\"opacity: 1; stroke-width: 0px; fill: rgb(0, 0, 0); fill-opacity: 1;\"/><path class=\"point\" transform=\"translate(124.46,39.8)\" d=\"M2,0A2,2 0 1,1 0,-2A2,2 0 0,1 2,0Z\" style=\"opacity: 1; stroke-width: 0px; fill: rgb(0, 0, 0); fill-opacity: 1;\"/><path class=\"point\" transform=\"translate(127.26,34.95)\" d=\"M2,0A2,2 0 1,1 0,-2A2,2 0 0,1 2,0Z\" style=\"opacity: 1; stroke-width: 0px; fill: rgb(0, 0, 0); fill-opacity: 1;\"/><path class=\"point\" transform=\"translate(130.06,48.17)\" d=\"M2,0A2,2 0 1,1 0,-2A2,2 0 0,1 2,0Z\" style=\"opacity: 1; stroke-width: 0px; fill: rgb(0, 0, 0); fill-opacity: 1;\"/><path class=\"point\" transform=\"translate(132.86,31.87)\" d=\"M2,0A2,2 0 1,1 0,-2A2,2 0 0,1 2,0Z\" style=\"opacity: 1; stroke-width: 0px; fill: rgb(0, 0, 0); fill-opacity: 1;\"/><path class=\"point\" transform=\"translate(135.65,28.22)\" d=\"M2,0A2,2 0 1,1 0,-2A2,2 0 0,1 2,0Z\" style=\"opacity: 1; stroke-width: 0px; fill: rgb(0, 0, 0); fill-opacity: 1;\"/><path class=\"point\" transform=\"translate(138.45,31.01)\" d=\"M2,0A2,2 0 1,1 0,-2A2,2 0 0,1 2,0Z\" style=\"opacity: 1; stroke-width: 0px; fill: rgb(0, 0, 0); fill-opacity: 1;\"/><path class=\"point\" transform=\"translate(141.25,32.86)\" d=\"M2,0A2,2 0 1,1 0,-2A2,2 0 0,1 2,0Z\" style=\"opacity: 1; stroke-width: 0px; fill: rgb(0, 0, 0); fill-opacity: 1;\"/><path class=\"point\" transform=\"translate(144.05,27.05)\" d=\"M2,0A2,2 0 1,1 0,-2A2,2 0 0,1 2,0Z\" style=\"opacity: 1; stroke-width: 0px; fill: rgb(0, 0, 0); fill-opacity: 1;\"/><path class=\"point\" transform=\"translate(146.85,133.16)\" d=\"M2,0A2,2 0 1,1 0,-2A2,2 0 0,1 2,0Z\" style=\"opacity: 1; stroke-width: 0px; fill: rgb(0, 0, 0); fill-opacity: 1;\"/><path class=\"point\" transform=\"translate(149.65,134.23)\" d=\"M2,0A2,2 0 1,1 0,-2A2,2 0 0,1 2,0Z\" style=\"opacity: 1; stroke-width: 0px; fill: rgb(0, 0, 0); fill-opacity: 1;\"/><path class=\"point\" transform=\"translate(152.45,177.95)\" d=\"M2,0A2,2 0 1,1 0,-2A2,2 0 0,1 2,0Z\" style=\"opacity: 1; stroke-width: 0px; fill: rgb(0, 0, 0); fill-opacity: 1;\"/><path class=\"point\" transform=\"translate(155.25,192.99)\" d=\"M2,0A2,2 0 1,1 0,-2A2,2 0 0,1 2,0Z\" style=\"opacity: 1; stroke-width: 0px; fill: rgb(0, 0, 0); fill-opacity: 1;\"/><path class=\"point\" transform=\"translate(158.04,219.49)\" d=\"M2,0A2,2 0 1,1 0,-2A2,2 0 0,1 2,0Z\" style=\"opacity: 1; stroke-width: 0px; fill: rgb(0, 0, 0); fill-opacity: 1;\"/><path class=\"point\" transform=\"translate(160.84,220.92)\" d=\"M2,0A2,2 0 1,1 0,-2A2,2 0 0,1 2,0Z\" style=\"opacity: 1; stroke-width: 0px; fill: rgb(0, 0, 0); fill-opacity: 1;\"/><path class=\"point\" transform=\"translate(163.64,226.05)\" d=\"M2,0A2,2 0 1,1 0,-2A2,2 0 0,1 2,0Z\" style=\"opacity: 1; stroke-width: 0px; fill: rgb(0, 0, 0); fill-opacity: 1;\"/><path class=\"point\" transform=\"translate(166.44,226.24)\" d=\"M2,0A2,2 0 1,1 0,-2A2,2 0 0,1 2,0Z\" style=\"opacity: 1; stroke-width: 0px; fill: rgb(0, 0, 0); fill-opacity: 1;\"/><path class=\"point\" transform=\"translate(169.24,228.37)\" d=\"M2,0A2,2 0 1,1 0,-2A2,2 0 0,1 2,0Z\" style=\"opacity: 1; stroke-width: 0px; fill: rgb(0, 0, 0); fill-opacity: 1;\"/><path class=\"point\" transform=\"translate(172.04,231)\" d=\"M2,0A2,2 0 1,1 0,-2A2,2 0 0,1 2,0Z\" style=\"opacity: 1; stroke-width: 0px; fill: rgb(0, 0, 0); fill-opacity: 1;\"/><path class=\"point\" transform=\"translate(174.84,197.46)\" d=\"M2,0A2,2 0 1,1 0,-2A2,2 0 0,1 2,0Z\" style=\"opacity: 1; stroke-width: 0px; fill: rgb(0, 0, 0); fill-opacity: 1;\"/><path class=\"point\" transform=\"translate(177.64,197.92)\" d=\"M2,0A2,2 0 1,1 0,-2A2,2 0 0,1 2,0Z\" style=\"opacity: 1; stroke-width: 0px; fill: rgb(0, 0, 0); fill-opacity: 1;\"/><path class=\"point\" transform=\"translate(180.44,116.94)\" d=\"M2,0A2,2 0 1,1 0,-2A2,2 0 0,1 2,0Z\" style=\"opacity: 1; stroke-width: 0px; fill: rgb(0, 0, 0); fill-opacity: 1;\"/><path class=\"point\" transform=\"translate(183.23,73.31)\" d=\"M2,0A2,2 0 1,1 0,-2A2,2 0 0,1 2,0Z\" style=\"opacity: 1; stroke-width: 0px; fill: rgb(0, 0, 0); fill-opacity: 1;\"/><path class=\"point\" transform=\"translate(186.03,60.5)\" d=\"M2,0A2,2 0 1,1 0,-2A2,2 0 0,1 2,0Z\" style=\"opacity: 1; stroke-width: 0px; fill: rgb(0, 0, 0); fill-opacity: 1;\"/><path class=\"point\" transform=\"translate(188.83,48.14)\" d=\"M2,0A2,2 0 1,1 0,-2A2,2 0 0,1 2,0Z\" style=\"opacity: 1; stroke-width: 0px; fill: rgb(0, 0, 0); fill-opacity: 1;\"/><path class=\"point\" transform=\"translate(191.63,43.68)\" d=\"M2,0A2,2 0 1,1 0,-2A2,2 0 0,1 2,0Z\" style=\"opacity: 1; stroke-width: 0px; fill: rgb(0, 0, 0); fill-opacity: 1;\"/><path class=\"point\" transform=\"translate(194.43,42.19)\" d=\"M2,0A2,2 0 1,1 0,-2A2,2 0 0,1 2,0Z\" style=\"opacity: 1; stroke-width: 0px; fill: rgb(0, 0, 0); fill-opacity: 1;\"/><path class=\"point\" transform=\"translate(197.23,55.54)\" d=\"M2,0A2,2 0 1,1 0,-2A2,2 0 0,1 2,0Z\" style=\"opacity: 1; stroke-width: 0px; fill: rgb(0, 0, 0); fill-opacity: 1;\"/><path class=\"point\" transform=\"translate(200.03,43.66)\" d=\"M2,0A2,2 0 1,1 0,-2A2,2 0 0,1 2,0Z\" style=\"opacity: 1; stroke-width: 0px; fill: rgb(0, 0, 0); fill-opacity: 1;\"/><path class=\"point\" transform=\"translate(202.83,43.52)\" d=\"M2,0A2,2 0 1,1 0,-2A2,2 0 0,1 2,0Z\" style=\"opacity: 1; stroke-width: 0px; fill: rgb(0, 0, 0); fill-opacity: 1;\"/><path class=\"point\" transform=\"translate(205.62,40.34)\" d=\"M2,0A2,2 0 1,1 0,-2A2,2 0 0,1 2,0Z\" style=\"opacity: 1; stroke-width: 0px; fill: rgb(0, 0, 0); fill-opacity: 1;\"/><path class=\"point\" transform=\"translate(208.42,30.73)\" d=\"M2,0A2,2 0 1,1 0,-2A2,2 0 0,1 2,0Z\" style=\"opacity: 1; stroke-width: 0px; fill: rgb(0, 0, 0); fill-opacity: 1;\"/><path class=\"point\" transform=\"translate(211.22,31.14)\" d=\"M2,0A2,2 0 1,1 0,-2A2,2 0 0,1 2,0Z\" style=\"opacity: 1; stroke-width: 0px; fill: rgb(0, 0, 0); fill-opacity: 1;\"/><path class=\"point\" transform=\"translate(214.02,132.66)\" d=\"M2,0A2,2 0 1,1 0,-2A2,2 0 0,1 2,0Z\" style=\"opacity: 1; stroke-width: 0px; fill: rgb(0, 0, 0); fill-opacity: 1;\"/><path class=\"point\" transform=\"translate(216.82,133.68)\" d=\"M2,0A2,2 0 1,1 0,-2A2,2 0 0,1 2,0Z\" style=\"opacity: 1; stroke-width: 0px; fill: rgb(0, 0, 0); fill-opacity: 1;\"/><path class=\"point\" transform=\"translate(219.62,183.24)\" d=\"M2,0A2,2 0 1,1 0,-2A2,2 0 0,1 2,0Z\" style=\"opacity: 1; stroke-width: 0px; fill: rgb(0, 0, 0); fill-opacity: 1;\"/><path class=\"point\" transform=\"translate(222.42,198.21)\" d=\"M2,0A2,2 0 1,1 0,-2A2,2 0 0,1 2,0Z\" style=\"opacity: 1; stroke-width: 0px; fill: rgb(0, 0, 0); fill-opacity: 1;\"/><path class=\"point\" transform=\"translate(225.22,226.08)\" d=\"M2,0A2,2 0 1,1 0,-2A2,2 0 0,1 2,0Z\" style=\"opacity: 1; stroke-width: 0px; fill: rgb(0, 0, 0); fill-opacity: 1;\"/><path class=\"point\" transform=\"translate(228.01,225.54)\" d=\"M2,0A2,2 0 1,1 0,-2A2,2 0 0,1 2,0Z\" style=\"opacity: 1; stroke-width: 0px; fill: rgb(0, 0, 0); fill-opacity: 1;\"/><path class=\"point\" transform=\"translate(230.81,229.54)\" d=\"M2,0A2,2 0 1,1 0,-2A2,2 0 0,1 2,0Z\" style=\"opacity: 1; stroke-width: 0px; fill: rgb(0, 0, 0); fill-opacity: 1;\"/><path class=\"point\" transform=\"translate(233.61,231.37)\" d=\"M2,0A2,2 0 1,1 0,-2A2,2 0 0,1 2,0Z\" style=\"opacity: 1; stroke-width: 0px; fill: rgb(0, 0, 0); fill-opacity: 1;\"/><path class=\"point\" transform=\"translate(236.41,230.64)\" d=\"M2,0A2,2 0 1,1 0,-2A2,2 0 0,1 2,0Z\" style=\"opacity: 1; stroke-width: 0px; fill: rgb(0, 0, 0); fill-opacity: 1;\"/><path class=\"point\" transform=\"translate(239.21,233.11)\" d=\"M2,0A2,2 0 1,1 0,-2A2,2 0 0,1 2,0Z\" style=\"opacity: 1; stroke-width: 0px; fill: rgb(0, 0, 0); fill-opacity: 1;\"/><path class=\"point\" transform=\"translate(242.01,198.91)\" d=\"M2,0A2,2 0 1,1 0,-2A2,2 0 0,1 2,0Z\" style=\"opacity: 1; stroke-width: 0px; fill: rgb(0, 0, 0); fill-opacity: 1;\"/><path class=\"point\" transform=\"translate(244.81,198.35)\" d=\"M2,0A2,2 0 1,1 0,-2A2,2 0 0,1 2,0Z\" style=\"opacity: 1; stroke-width: 0px; fill: rgb(0, 0, 0); fill-opacity: 1;\"/><path class=\"point\" transform=\"translate(247.61,115.8)\" d=\"M2,0A2,2 0 1,1 0,-2A2,2 0 0,1 2,0Z\" style=\"opacity: 1; stroke-width: 0px; fill: rgb(0, 0, 0); fill-opacity: 1;\"/><path class=\"point\" transform=\"translate(250.41,72.4)\" d=\"M2,0A2,2 0 1,1 0,-2A2,2 0 0,1 2,0Z\" style=\"opacity: 1; stroke-width: 0px; fill: rgb(0, 0, 0); fill-opacity: 1;\"/><path class=\"point\" transform=\"translate(253.2,59.7)\" d=\"M2,0A2,2 0 1,1 0,-2A2,2 0 0,1 2,0Z\" style=\"opacity: 1; stroke-width: 0px; fill: rgb(0, 0, 0); fill-opacity: 1;\"/><path class=\"point\" transform=\"translate(256,42.97)\" d=\"M2,0A2,2 0 1,1 0,-2A2,2 0 0,1 2,0Z\" style=\"opacity: 1; stroke-width: 0px; fill: rgb(0, 0, 0); fill-opacity: 1;\"/><path class=\"point\" transform=\"translate(258.8,34.19)\" d=\"M2,0A2,2 0 1,1 0,-2A2,2 0 0,1 2,0Z\" style=\"opacity: 1; stroke-width: 0px; fill: rgb(0, 0, 0); fill-opacity: 1;\"/><path class=\"point\" transform=\"translate(261.6,34.74)\" d=\"M2,0A2,2 0 1,1 0,-2A2,2 0 0,1 2,0Z\" style=\"opacity: 1; stroke-width: 0px; fill: rgb(0, 0, 0); fill-opacity: 1;\"/><path class=\"point\" transform=\"translate(264.4,51.15)\" d=\"M2,0A2,2 0 1,1 0,-2A2,2 0 0,1 2,0Z\" style=\"opacity: 1; stroke-width: 0px; fill: rgb(0, 0, 0); fill-opacity: 1;\"/><path class=\"point\" transform=\"translate(267.2,37.66)\" d=\"M2,0A2,2 0 1,1 0,-2A2,2 0 0,1 2,0Z\" style=\"opacity: 1; stroke-width: 0px; fill: rgb(0, 0, 0); fill-opacity: 1;\"/><path class=\"point\" transform=\"translate(270,38.82)\" d=\"M2,0A2,2 0 1,1 0,-2A2,2 0 0,1 2,0Z\" style=\"opacity: 1; stroke-width: 0px; fill: rgb(0, 0, 0); fill-opacity: 1;\"/><path class=\"point\" transform=\"translate(272.8,40.37)\" d=\"M2,0A2,2 0 1,1 0,-2A2,2 0 0,1 2,0Z\" style=\"opacity: 1; stroke-width: 0px; fill: rgb(0, 0, 0); fill-opacity: 1;\"/><path class=\"point\" transform=\"translate(275.59,35.19)\" d=\"M2,0A2,2 0 1,1 0,-2A2,2 0 0,1 2,0Z\" style=\"opacity: 1; stroke-width: 0px; fill: rgb(0, 0, 0); fill-opacity: 1;\"/><path class=\"point\" transform=\"translate(278.39,29.44)\" d=\"M2,0A2,2 0 1,1 0,-2A2,2 0 0,1 2,0Z\" style=\"opacity: 1; stroke-width: 0px; fill: rgb(0, 0, 0); fill-opacity: 1;\"/><path class=\"point\" transform=\"translate(281.19,126.95)\" d=\"M2,0A2,2 0 1,1 0,-2A2,2 0 0,1 2,0Z\" style=\"opacity: 1; stroke-width: 0px; fill: rgb(0, 0, 0); fill-opacity: 1;\"/><path class=\"point\" transform=\"translate(283.99,129.49)\" d=\"M2,0A2,2 0 1,1 0,-2A2,2 0 0,1 2,0Z\" style=\"opacity: 1; stroke-width: 0px; fill: rgb(0, 0, 0); fill-opacity: 1;\"/><path class=\"point\" transform=\"translate(286.79,182.14)\" d=\"M2,0A2,2 0 1,1 0,-2A2,2 0 0,1 2,0Z\" style=\"opacity: 1; stroke-width: 0px; fill: rgb(0, 0, 0); fill-opacity: 1;\"/><path class=\"point\" transform=\"translate(289.59,199.48)\" d=\"M2,0A2,2 0 1,1 0,-2A2,2 0 0,1 2,0Z\" style=\"opacity: 1; stroke-width: 0px; fill: rgb(0, 0, 0); fill-opacity: 1;\"/><path class=\"point\" transform=\"translate(292.39,222.06)\" d=\"M2,0A2,2 0 1,1 0,-2A2,2 0 0,1 2,0Z\" style=\"opacity: 1; stroke-width: 0px; fill: rgb(0, 0, 0); fill-opacity: 1;\"/><path class=\"point\" transform=\"translate(295.19,223.63)\" d=\"M2,0A2,2 0 1,1 0,-2A2,2 0 0,1 2,0Z\" style=\"opacity: 1; stroke-width: 0px; fill: rgb(0, 0, 0); fill-opacity: 1;\"/><path class=\"point\" transform=\"translate(297.99,229.59)\" d=\"M2,0A2,2 0 1,1 0,-2A2,2 0 0,1 2,0Z\" style=\"opacity: 1; stroke-width: 0px; fill: rgb(0, 0, 0); fill-opacity: 1;\"/><path class=\"point\" transform=\"translate(300.78,229.66)\" d=\"M2,0A2,2 0 1,1 0,-2A2,2 0 0,1 2,0Z\" style=\"opacity: 1; stroke-width: 0px; fill: rgb(0, 0, 0); fill-opacity: 1;\"/><path class=\"point\" transform=\"translate(303.58,230.67)\" d=\"M2,0A2,2 0 1,1 0,-2A2,2 0 0,1 2,0Z\" style=\"opacity: 1; stroke-width: 0px; fill: rgb(0, 0, 0); fill-opacity: 1;\"/><path class=\"point\" transform=\"translate(306.38,232.5)\" d=\"M2,0A2,2 0 1,1 0,-2A2,2 0 0,1 2,0Z\" style=\"opacity: 1; stroke-width: 0px; fill: rgb(0, 0, 0); fill-opacity: 1;\"/><path class=\"point\" transform=\"translate(309.18,198.57)\" d=\"M2,0A2,2 0 1,1 0,-2A2,2 0 0,1 2,0Z\" style=\"opacity: 1; stroke-width: 0px; fill: rgb(0, 0, 0); fill-opacity: 1;\"/><path class=\"point\" transform=\"translate(311.98,197.68)\" d=\"M2,0A2,2 0 1,1 0,-2A2,2 0 0,1 2,0Z\" style=\"opacity: 1; stroke-width: 0px; fill: rgb(0, 0, 0); fill-opacity: 1;\"/><path class=\"point\" transform=\"translate(314.78,113.61)\" d=\"M2,0A2,2 0 1,1 0,-2A2,2 0 0,1 2,0Z\" style=\"opacity: 1; stroke-width: 0px; fill: rgb(0, 0, 0); fill-opacity: 1;\"/><path class=\"point\" transform=\"translate(317.58,72.94)\" d=\"M2,0A2,2 0 1,1 0,-2A2,2 0 0,1 2,0Z\" style=\"opacity: 1; stroke-width: 0px; fill: rgb(0, 0, 0); fill-opacity: 1;\"/><path class=\"point\" transform=\"translate(320.38,58.2)\" d=\"M2,0A2,2 0 1,1 0,-2A2,2 0 0,1 2,0Z\" style=\"opacity: 1; stroke-width: 0px; fill: rgb(0, 0, 0); fill-opacity: 1;\"/><path class=\"point\" transform=\"translate(323.17,44.76)\" d=\"M2,0A2,2 0 1,1 0,-2A2,2 0 0,1 2,0Z\" style=\"opacity: 1; stroke-width: 0px; fill: rgb(0, 0, 0); fill-opacity: 1;\"/><path class=\"point\" transform=\"translate(325.97,39.8)\" d=\"M2,0A2,2 0 1,1 0,-2A2,2 0 0,1 2,0Z\" style=\"opacity: 1; stroke-width: 0px; fill: rgb(0, 0, 0); fill-opacity: 1;\"/><path class=\"point\" transform=\"translate(328.77,37.76)\" d=\"M2,0A2,2 0 1,1 0,-2A2,2 0 0,1 2,0Z\" style=\"opacity: 1; stroke-width: 0px; fill: rgb(0, 0, 0); fill-opacity: 1;\"/><path class=\"point\" transform=\"translate(331.57,47.75)\" d=\"M2,0A2,2 0 1,1 0,-2A2,2 0 0,1 2,0Z\" style=\"opacity: 1; stroke-width: 0px; fill: rgb(0, 0, 0); fill-opacity: 1;\"/><path class=\"point\" transform=\"translate(334.37,32.84)\" d=\"M2,0A2,2 0 1,1 0,-2A2,2 0 0,1 2,0Z\" style=\"opacity: 1; stroke-width: 0px; fill: rgb(0, 0, 0); fill-opacity: 1;\"/><path class=\"point\" transform=\"translate(337.17,38.39)\" d=\"M2,0A2,2 0 1,1 0,-2A2,2 0 0,1 2,0Z\" style=\"opacity: 1; stroke-width: 0px; fill: rgb(0, 0, 0); fill-opacity: 1;\"/><path class=\"point\" transform=\"translate(339.97,43.26)\" d=\"M2,0A2,2 0 1,1 0,-2A2,2 0 0,1 2,0Z\" style=\"opacity: 1; stroke-width: 0px; fill: rgb(0, 0, 0); fill-opacity: 1;\"/><path class=\"point\" transform=\"translate(342.77,37)\" d=\"M2,0A2,2 0 1,1 0,-2A2,2 0 0,1 2,0Z\" style=\"opacity: 1; stroke-width: 0px; fill: rgb(0, 0, 0); fill-opacity: 1;\"/><path class=\"point\" transform=\"translate(345.56,29.57)\" d=\"M2,0A2,2 0 1,1 0,-2A2,2 0 0,1 2,0Z\" style=\"opacity: 1; stroke-width: 0px; fill: rgb(0, 0, 0); fill-opacity: 1;\"/><path class=\"point\" transform=\"translate(348.36,132.14)\" d=\"M2,0A2,2 0 1,1 0,-2A2,2 0 0,1 2,0Z\" style=\"opacity: 1; stroke-width: 0px; fill: rgb(0, 0, 0); fill-opacity: 1;\"/><path class=\"point\" transform=\"translate(351.16,135.39)\" d=\"M2,0A2,2 0 1,1 0,-2A2,2 0 0,1 2,0Z\" style=\"opacity: 1; stroke-width: 0px; fill: rgb(0, 0, 0); fill-opacity: 1;\"/><path class=\"point\" transform=\"translate(353.96,185.08)\" d=\"M2,0A2,2 0 1,1 0,-2A2,2 0 0,1 2,0Z\" style=\"opacity: 1; stroke-width: 0px; fill: rgb(0, 0, 0); fill-opacity: 1;\"/><path class=\"point\" transform=\"translate(356.76,200.16)\" d=\"M2,0A2,2 0 1,1 0,-2A2,2 0 0,1 2,0Z\" style=\"opacity: 1; stroke-width: 0px; fill: rgb(0, 0, 0); fill-opacity: 1;\"/><path class=\"point\" transform=\"translate(359.56,225.51)\" d=\"M2,0A2,2 0 1,1 0,-2A2,2 0 0,1 2,0Z\" style=\"opacity: 1; stroke-width: 0px; fill: rgb(0, 0, 0); fill-opacity: 1;\"/><path class=\"point\" transform=\"translate(362.36,225.28)\" d=\"M2,0A2,2 0 1,1 0,-2A2,2 0 0,1 2,0Z\" style=\"opacity: 1; stroke-width: 0px; fill: rgb(0, 0, 0); fill-opacity: 1;\"/><path class=\"point\" transform=\"translate(365.16,230.55)\" d=\"M2,0A2,2 0 1,1 0,-2A2,2 0 0,1 2,0Z\" style=\"opacity: 1; stroke-width: 0px; fill: rgb(0, 0, 0); fill-opacity: 1;\"/><path class=\"point\" transform=\"translate(367.96,229.5)\" d=\"M2,0A2,2 0 1,1 0,-2A2,2 0 0,1 2,0Z\" style=\"opacity: 1; stroke-width: 0px; fill: rgb(0, 0, 0); fill-opacity: 1;\"/><path class=\"point\" transform=\"translate(370.75,232.34)\" d=\"M2,0A2,2 0 1,1 0,-2A2,2 0 0,1 2,0Z\" style=\"opacity: 1; stroke-width: 0px; fill: rgb(0, 0, 0); fill-opacity: 1;\"/><path class=\"point\" transform=\"translate(373.55,232.76)\" d=\"M2,0A2,2 0 1,1 0,-2A2,2 0 0,1 2,0Z\" style=\"opacity: 1; stroke-width: 0px; fill: rgb(0, 0, 0); fill-opacity: 1;\"/><path class=\"point\" transform=\"translate(376.35,227.37)\" d=\"M2,0A2,2 0 1,1 0,-2A2,2 0 0,1 2,0Z\" style=\"opacity: 1; stroke-width: 0px; fill: rgb(0, 0, 0); fill-opacity: 1;\"/><path class=\"point\" transform=\"translate(379.15,229.41)\" d=\"M2,0A2,2 0 1,1 0,-2A2,2 0 0,1 2,0Z\" style=\"opacity: 1; stroke-width: 0px; fill: rgb(0, 0, 0); fill-opacity: 1;\"/><path class=\"point\" transform=\"translate(381.95,203.79)\" d=\"M2,0A2,2 0 1,1 0,-2A2,2 0 0,1 2,0Z\" style=\"opacity: 1; stroke-width: 0px; fill: rgb(0, 0, 0); fill-opacity: 1;\"/><path class=\"point\" transform=\"translate(384.75,163.27)\" d=\"M2,0A2,2 0 1,1 0,-2A2,2 0 0,1 2,0Z\" style=\"opacity: 1; stroke-width: 0px; fill: rgb(0, 0, 0); fill-opacity: 1;\"/><path class=\"point\" transform=\"translate(387.55,158.06)\" d=\"M2,0A2,2 0 1,1 0,-2A2,2 0 0,1 2,0Z\" style=\"opacity: 1; stroke-width: 0px; fill: rgb(0, 0, 0); fill-opacity: 1;\"/><path class=\"point\" transform=\"translate(390.35,116.08)\" d=\"M2,0A2,2 0 1,1 0,-2A2,2 0 0,1 2,0Z\" style=\"opacity: 1; stroke-width: 0px; fill: rgb(0, 0, 0); fill-opacity: 1;\"/><path class=\"point\" transform=\"translate(393.14,110.33)\" d=\"M2,0A2,2 0 1,1 0,-2A2,2 0 0,1 2,0Z\" style=\"opacity: 1; stroke-width: 0px; fill: rgb(0, 0, 0); fill-opacity: 1;\"/><path class=\"point\" transform=\"translate(395.94,108.35)\" d=\"M2,0A2,2 0 1,1 0,-2A2,2 0 0,1 2,0Z\" style=\"opacity: 1; stroke-width: 0px; fill: rgb(0, 0, 0); fill-opacity: 1;\"/><path class=\"point\" transform=\"translate(398.74,122.57)\" d=\"M2,0A2,2 0 1,1 0,-2A2,2 0 0,1 2,0Z\" style=\"opacity: 1; stroke-width: 0px; fill: rgb(0, 0, 0); fill-opacity: 1;\"/><path class=\"point\" transform=\"translate(401.54,124.25)\" d=\"M2,0A2,2 0 1,1 0,-2A2,2 0 0,1 2,0Z\" style=\"opacity: 1; stroke-width: 0px; fill: rgb(0, 0, 0); fill-opacity: 1;\"/><path class=\"point\" transform=\"translate(404.34,123.66)\" d=\"M2,0A2,2 0 1,1 0,-2A2,2 0 0,1 2,0Z\" style=\"opacity: 1; stroke-width: 0px; fill: rgb(0, 0, 0); fill-opacity: 1;\"/><path class=\"point\" transform=\"translate(407.14,152.36)\" d=\"M2,0A2,2 0 1,1 0,-2A2,2 0 0,1 2,0Z\" style=\"opacity: 1; stroke-width: 0px; fill: rgb(0, 0, 0); fill-opacity: 1;\"/><path class=\"point\" transform=\"translate(409.94,148.92)\" d=\"M2,0A2,2 0 1,1 0,-2A2,2 0 0,1 2,0Z\" style=\"opacity: 1; stroke-width: 0px; fill: rgb(0, 0, 0); fill-opacity: 1;\"/><path class=\"point\" transform=\"translate(412.74,160.47)\" d=\"M2,0A2,2 0 1,1 0,-2A2,2 0 0,1 2,0Z\" style=\"opacity: 1; stroke-width: 0px; fill: rgb(0, 0, 0); fill-opacity: 1;\"/><path class=\"point\" transform=\"translate(415.53,175.56)\" d=\"M2,0A2,2 0 1,1 0,-2A2,2 0 0,1 2,0Z\" style=\"opacity: 1; stroke-width: 0px; fill: rgb(0, 0, 0); fill-opacity: 1;\"/><path class=\"point\" transform=\"translate(418.33,177.17)\" d=\"M2,0A2,2 0 1,1 0,-2A2,2 0 0,1 2,0Z\" style=\"opacity: 1; stroke-width: 0px; fill: rgb(0, 0, 0); fill-opacity: 1;\"/><path class=\"point\" transform=\"translate(421.13,218.49)\" d=\"M2,0A2,2 0 1,1 0,-2A2,2 0 0,1 2,0Z\" style=\"opacity: 1; stroke-width: 0px; fill: rgb(0, 0, 0); fill-opacity: 1;\"/><path class=\"point\" transform=\"translate(423.93,219.88)\" d=\"M2,0A2,2 0 1,1 0,-2A2,2 0 0,1 2,0Z\" style=\"opacity: 1; stroke-width: 0px; fill: rgb(0, 0, 0); fill-opacity: 1;\"/><path class=\"point\" transform=\"translate(426.73,223.62)\" d=\"M2,0A2,2 0 1,1 0,-2A2,2 0 0,1 2,0Z\" style=\"opacity: 1; stroke-width: 0px; fill: rgb(0, 0, 0); fill-opacity: 1;\"/><path class=\"point\" transform=\"translate(429.53,223.31)\" d=\"M2,0A2,2 0 1,1 0,-2A2,2 0 0,1 2,0Z\" style=\"opacity: 1; stroke-width: 0px; fill: rgb(0, 0, 0); fill-opacity: 1;\"/><path class=\"point\" transform=\"translate(432.33,232.52)\" d=\"M2,0A2,2 0 1,1 0,-2A2,2 0 0,1 2,0Z\" style=\"opacity: 1; stroke-width: 0px; fill: rgb(0, 0, 0); fill-opacity: 1;\"/><path class=\"point\" transform=\"translate(435.13,233.61)\" d=\"M2,0A2,2 0 1,1 0,-2A2,2 0 0,1 2,0Z\" style=\"opacity: 1; stroke-width: 0px; fill: rgb(0, 0, 0); fill-opacity: 1;\"/><path class=\"point\" transform=\"translate(437.93,234.43)\" d=\"M2,0A2,2 0 1,1 0,-2A2,2 0 0,1 2,0Z\" style=\"opacity: 1; stroke-width: 0px; fill: rgb(0, 0, 0); fill-opacity: 1;\"/><path class=\"point\" transform=\"translate(440.72,234.14)\" d=\"M2,0A2,2 0 1,1 0,-2A2,2 0 0,1 2,0Z\" style=\"opacity: 1; stroke-width: 0px; fill: rgb(0, 0, 0); fill-opacity: 1;\"/><path class=\"point\" transform=\"translate(443.52,230.56)\" d=\"M2,0A2,2 0 1,1 0,-2A2,2 0 0,1 2,0Z\" style=\"opacity: 1; stroke-width: 0px; fill: rgb(0, 0, 0); fill-opacity: 1;\"/><path class=\"point\" transform=\"translate(446.32,231.71)\" d=\"M2,0A2,2 0 1,1 0,-2A2,2 0 0,1 2,0Z\" style=\"opacity: 1; stroke-width: 0px; fill: rgb(0, 0, 0); fill-opacity: 1;\"/><path class=\"point\" transform=\"translate(449.12,204.86)\" d=\"M2,0A2,2 0 1,1 0,-2A2,2 0 0,1 2,0Z\" style=\"opacity: 1; stroke-width: 0px; fill: rgb(0, 0, 0); fill-opacity: 1;\"/><path class=\"point\" transform=\"translate(451.92,206.03)\" d=\"M2,0A2,2 0 1,1 0,-2A2,2 0 0,1 2,0Z\" style=\"opacity: 1; stroke-width: 0px; fill: rgb(0, 0, 0); fill-opacity: 1;\"/><path class=\"point\" transform=\"translate(454.72,176.7)\" d=\"M2,0A2,2 0 1,1 0,-2A2,2 0 0,1 2,0Z\" style=\"opacity: 1; stroke-width: 0px; fill: rgb(0, 0, 0); fill-opacity: 1;\"/><path class=\"point\" transform=\"translate(457.52,178.25)\" d=\"M2,0A2,2 0 1,1 0,-2A2,2 0 0,1 2,0Z\" style=\"opacity: 1; stroke-width: 0px; fill: rgb(0, 0, 0); fill-opacity: 1;\"/><path class=\"point\" transform=\"translate(460.32,174.22)\" d=\"M2,0A2,2 0 1,1 0,-2A2,2 0 0,1 2,0Z\" style=\"opacity: 1; stroke-width: 0px; fill: rgb(0, 0, 0); fill-opacity: 1;\"/><path class=\"point\" transform=\"translate(463.11,172.93)\" d=\"M2,0A2,2 0 1,1 0,-2A2,2 0 0,1 2,0Z\" style=\"opacity: 1; stroke-width: 0px; fill: rgb(0, 0, 0); fill-opacity: 1;\"/><path class=\"point\" transform=\"translate(465.91,172.18)\" d=\"M2,0A2,2 0 1,1 0,-2A2,2 0 0,1 2,0Z\" style=\"opacity: 1; stroke-width: 0px; fill: rgb(0, 0, 0); fill-opacity: 1;\"/><path class=\"point\" transform=\"translate(468.71,174.31)\" d=\"M2,0A2,2 0 1,1 0,-2A2,2 0 0,1 2,0Z\" style=\"opacity: 1; stroke-width: 0px; fill: rgb(0, 0, 0); fill-opacity: 1;\"/><path class=\"point\" transform=\"translate(471.51,174.15)\" d=\"M2,0A2,2 0 1,1 0,-2A2,2 0 0,1 2,0Z\" style=\"opacity: 1; stroke-width: 0px; fill: rgb(0, 0, 0); fill-opacity: 1;\"/><path class=\"point\" transform=\"translate(474.31,174.15)\" d=\"M2,0A2,2 0 1,1 0,-2A2,2 0 0,1 2,0Z\" style=\"opacity: 1; stroke-width: 0px; fill: rgb(0, 0, 0); fill-opacity: 1;\"/><path class=\"point\" transform=\"translate(477.11,182.89)\" d=\"M2,0A2,2 0 1,1 0,-2A2,2 0 0,1 2,0Z\" style=\"opacity: 1; stroke-width: 0px; fill: rgb(0, 0, 0); fill-opacity: 1;\"/><path class=\"point\" transform=\"translate(479.91,198.76)\" d=\"M2,0A2,2 0 1,1 0,-2A2,2 0 0,1 2,0Z\" style=\"opacity: 1; stroke-width: 0px; fill: rgb(0, 0, 0); fill-opacity: 1;\"/><path class=\"point\" transform=\"translate(482.71,211.09)\" d=\"M2,0A2,2 0 1,1 0,-2A2,2 0 0,1 2,0Z\" style=\"opacity: 1; stroke-width: 0px; fill: rgb(0, 0, 0); fill-opacity: 1;\"/><path class=\"point\" transform=\"translate(485.5,212.81)\" d=\"M2,0A2,2 0 1,1 0,-2A2,2 0 0,1 2,0Z\" style=\"opacity: 1; stroke-width: 0px; fill: rgb(0, 0, 0); fill-opacity: 1;\"/><path class=\"point\" transform=\"translate(488.3,219.44)\" d=\"M2,0A2,2 0 1,1 0,-2A2,2 0 0,1 2,0Z\" style=\"opacity: 1; stroke-width: 0px; fill: rgb(0, 0, 0); fill-opacity: 1;\"/><path class=\"point\" transform=\"translate(491.1,218.81)\" d=\"M2,0A2,2 0 1,1 0,-2A2,2 0 0,1 2,0Z\" style=\"opacity: 1; stroke-width: 0px; fill: rgb(0, 0, 0); fill-opacity: 1;\"/><path class=\"point\" transform=\"translate(493.9,224.44)\" d=\"M2,0A2,2 0 1,1 0,-2A2,2 0 0,1 2,0Z\" style=\"opacity: 1; stroke-width: 0px; fill: rgb(0, 0, 0); fill-opacity: 1;\"/><path class=\"point\" transform=\"translate(496.7,223.83)\" d=\"M2,0A2,2 0 1,1 0,-2A2,2 0 0,1 2,0Z\" style=\"opacity: 1; stroke-width: 0px; fill: rgb(0, 0, 0); fill-opacity: 1;\"/></g><g class=\"text\"/></g></g></g><g class=\"overplot\"/><path class=\"xlines-above crisp\" d=\"M50.5,287.75H579.5M50.5,23.25H579.5\" style=\"fill: none; stroke-width: 1.5px; stroke: rgb(235, 240, 248); stroke-opacity: 1;\"/><path class=\"ylines-above crisp\" d=\"M51.25,24V287M578.75,24V287\" style=\"fill: none; stroke-width: 1.5px; stroke: rgb(235, 240, 248); stroke-opacity: 1;\"/><g class=\"overlines-above\"/><g class=\"xaxislayer-above\"><g class=\"xtick\"><text text-anchor=\"middle\" x=\"0\" y=\"300.5\" transform=\"translate(78.5,0)\" style=\"font-family: 'Open Sans', verdana, arial, sans-serif; font-size: 10px; fill: rgb(42, 63, 95); fill-opacity: 1; white-space: pre; opacity: 1;\"><tspan class=\"line\" dy=\"0em\" x=\"0\" y=\"300.5\">Dec 25</tspan><tspan class=\"line\" dy=\"1.3em\" x=\"0\" y=\"300.5\">2015</tspan></text></g><g class=\"xtick\"><text text-anchor=\"middle\" x=\"0\" y=\"300.5\" style=\"font-family: 'Open Sans', verdana, arial, sans-serif; font-size: 10px; fill: rgb(42, 63, 95); fill-opacity: 1; white-space: pre; opacity: 1;\" transform=\"translate(212.84,0)\">Dec 27</text></g><g class=\"xtick\"><text text-anchor=\"middle\" x=\"0\" y=\"300.5\" style=\"font-family: 'Open Sans', verdana, arial, sans-serif; font-size: 10px; fill: rgb(42, 63, 95); fill-opacity: 1; white-space: pre; opacity: 1;\" transform=\"translate(347.19,0)\">Dec 29</text></g><g class=\"xtick\"><text text-anchor=\"middle\" x=\"0\" y=\"300.5\" style=\"font-family: 'Open Sans', verdana, arial, sans-serif; font-size: 10px; fill: rgb(42, 63, 95); fill-opacity: 1; white-space: pre; opacity: 1;\" transform=\"translate(481.53,0)\">Dec 31</text></g></g><g class=\"yaxislayer-above\"><g class=\"ytick\"><text text-anchor=\"end\" x=\"48.5\" y=\"3.5\" transform=\"translate(0,253.57)\" style=\"font-family: 'Open Sans', verdana, arial, sans-serif; font-size: 10px; fill: rgb(42, 63, 95); fill-opacity: 1; white-space: pre; opacity: 1;\">800</text></g><g class=\"ytick\"><text text-anchor=\"end\" x=\"48.5\" y=\"3.5\" style=\"font-family: 'Open Sans', verdana, arial, sans-serif; font-size: 10px; fill: rgb(42, 63, 95); fill-opacity: 1; white-space: pre; opacity: 1;\" transform=\"translate(0,216.77)\">900</text></g><g class=\"ytick\"><text text-anchor=\"end\" x=\"48.5\" y=\"3.5\" style=\"font-family: 'Open Sans', verdana, arial, sans-serif; font-size: 10px; fill: rgb(42, 63, 95); fill-opacity: 1; white-space: pre; opacity: 1;\" transform=\"translate(0,179.98)\">1000</text></g><g class=\"ytick\"><text text-anchor=\"end\" x=\"48.5\" y=\"3.5\" style=\"font-family: 'Open Sans', verdana, arial, sans-serif; font-size: 10px; fill: rgb(42, 63, 95); fill-opacity: 1; white-space: pre; opacity: 1;\" transform=\"translate(0,143.18)\">1100</text></g><g class=\"ytick\"><text text-anchor=\"end\" x=\"48.5\" y=\"3.5\" style=\"font-family: 'Open Sans', verdana, arial, sans-serif; font-size: 10px; fill: rgb(42, 63, 95); fill-opacity: 1; white-space: pre; opacity: 1;\" transform=\"translate(0,106.38)\">1200</text></g><g class=\"ytick\"><text text-anchor=\"end\" x=\"48.5\" y=\"3.5\" style=\"font-family: 'Open Sans', verdana, arial, sans-serif; font-size: 10px; fill: rgb(42, 63, 95); fill-opacity: 1; white-space: pre; opacity: 1;\" transform=\"translate(0,69.59)\">1300</text></g><g class=\"ytick\"><text text-anchor=\"end\" x=\"48.5\" y=\"3.5\" style=\"font-family: 'Open Sans', verdana, arial, sans-serif; font-size: 10px; fill: rgb(42, 63, 95); fill-opacity: 1; white-space: pre; opacity: 1;\" transform=\"translate(0,32.79)\">1400</text></g></g><g class=\"overaxes-above\"/></g></g><g class=\"polarlayer\"/><g class=\"smithlayer\"/><g class=\"ternarylayer\"/><g class=\"geolayer\"/><g class=\"funnelarealayer\"/><g class=\"pielayer\"/><g class=\"iciclelayer\"/><g class=\"treemaplayer\"/><g class=\"sunburstlayer\"/><g class=\"glimages\"/><defs id=\"topdefs-2988ef\"><g class=\"clips\"/><clipPath id=\"legend2988ef\"><rect width=\"111\" height=\"105\" x=\"0\" y=\"0\"/></clipPath><clipPath id=\"rangesliderx-2988ef\"><rect x=\"0\" y=\"0\" width=\"526\" height=\"61.5\"/></clipPath></defs><g class=\"layer-above\"><g class=\"imagelayer\"/><g class=\"shapelayer\"/></g><g class=\"infolayer\"><g class=\"legend\" pointer-events=\"all\" transform=\"translate(588.52,24)\"><rect class=\"bg\" shape-rendering=\"crispEdges\" width=\"111\" height=\"105\" x=\"0\" y=\"0\" style=\"stroke: rgb(68, 68, 68); stroke-opacity: 1; fill: rgb(255, 255, 255); fill-opacity: 1; stroke-width: 0px;\"/><g class=\"scrollbox\" transform=\"\" clip-path=\"url(#legend2988ef)\"><g class=\"groups\"><g class=\"traces\" transform=\"translate(0,14.5)\" style=\"opacity: 1;\"><text class=\"legendtext\" text-anchor=\"start\" x=\"40\" y=\"3.9\" style=\"font-family: 'Open Sans', verdana, arial, sans-serif; font-size: 10px; fill: rgb(42, 63, 95); fill-opacity: 1; white-space: pre;\">Actual</text><g class=\"layers\" style=\"opacity: 1;\"><g class=\"legendfill\"/><g class=\"legendlines\"/><g class=\"legendsymbols\"><g class=\"legendpoints\"><path class=\"scatterpts\" transform=\"translate(20,0)\" d=\"M2,0A2,2 0 1,1 0,-2A2,2 0 0,1 2,0Z\" style=\"opacity: 1; stroke-width: 0px; fill: rgb(0, 0, 0); fill-opacity: 1;\"/></g></g></g><rect class=\"legendtoggle\" x=\"0\" y=\"-9.5\" width=\"105.78125\" height=\"19\" style=\"fill: rgb(0, 0, 0); fill-opacity: 0;\"/></g><g class=\"traces\" transform=\"translate(0,33.5)\" style=\"opacity: 1;\"><text class=\"legendtext\" text-anchor=\"start\" x=\"40\" y=\"3.9\" style=\"font-family: 'Open Sans', verdana, arial, sans-serif; font-size: 10px; fill: rgb(42, 63, 95); fill-opacity: 1; white-space: pre;\">Predicted</text><g class=\"layers\" style=\"opacity: 1;\"><g class=\"legendfill\"/><g class=\"legendlines\"/><g class=\"legendsymbols\"><g class=\"legendpoints\"><path class=\"scatterpts\" transform=\"translate(20,0)\" d=\"M0,1.13l1.13,1.13l1.13,-1.13l-1.13,-1.13l1.13,-1.13l-1.13,-1.13l-1.13,1.13l-1.13,-1.13l-1.13,1.13l1.13,1.13l-1.13,1.13l1.13,1.13Z\" style=\"opacity: 1; stroke-width: 0px; fill: rgb(0, 0, 255); fill-opacity: 1;\"/></g></g></g><rect class=\"legendtoggle\" x=\"0\" y=\"-9.5\" width=\"105.78125\" height=\"19\" style=\"fill: rgb(0, 0, 0); fill-opacity: 0;\"/></g><g class=\"traces\" transform=\"translate(0,52.5)\" style=\"opacity: 1;\"><text class=\"legendtext\" text-anchor=\"start\" x=\"40\" y=\"3.9\" style=\"font-family: 'Open Sans', verdana, arial, sans-serif; font-size: 10px; fill: rgb(42, 63, 95); fill-opacity: 1; white-space: pre;\">Predicted</text><g class=\"layers\" style=\"opacity: 1;\"><g class=\"legendfill\"/><g class=\"legendlines\"><path class=\"js-line\" d=\"M5,0h30\" style=\"fill: none; stroke: rgb(45, 146, 255); stroke-opacity: 1; stroke-width: 2px;\"/></g><g class=\"legendsymbols\"><g class=\"legendpoints\"/></g></g><rect class=\"legendtoggle\" x=\"0\" y=\"-9.5\" width=\"105.78125\" height=\"19\" style=\"fill: rgb(0, 0, 0); fill-opacity: 0;\"/></g><g class=\"traces\" transform=\"translate(0,71.5)\" style=\"opacity: 1;\"><text class=\"legendtext\" text-anchor=\"start\" x=\"40\" y=\"3.9\" style=\"font-family: 'Open Sans', verdana, arial, sans-serif; font-size: 10px; fill: rgb(42, 63, 95); fill-opacity: 1; white-space: pre;\">yhat1 95.0%</text><g class=\"layers\"><g class=\"legendfill\"><path class=\"js-fill\" d=\"M5,-2h30v6h-30z\" style=\"stroke-width: 0; fill: rgb(45, 146, 255); fill-opacity: 0.2;\"/></g><g class=\"legendlines\"><path class=\"js-line\" d=\"M5,-2h30\" style=\"fill: none; stroke: rgb(45, 146, 255); stroke-opacity: 0.2; stroke-width: 1px;\"/></g><g class=\"legendsymbols\"><g class=\"legendpoints\"/></g></g><rect class=\"legendtoggle\" x=\"0\" y=\"-9.5\" width=\"105.78125\" height=\"19\" style=\"fill: rgb(0, 0, 0); fill-opacity: 0;\"/></g><g class=\"traces\" transform=\"translate(0,90.5)\" style=\"opacity: 1;\"><text class=\"legendtext\" text-anchor=\"start\" x=\"40\" y=\"3.9\" style=\"font-family: 'Open Sans', verdana, arial, sans-serif; font-size: 10px; fill: rgb(42, 63, 95); fill-opacity: 1; white-space: pre;\">yhat1 5.0%</text><g class=\"layers\"><g class=\"legendfill\"/><g class=\"legendlines\"><path class=\"js-line\" d=\"M5,0h30\" style=\"fill: none; stroke: rgb(45, 146, 255); stroke-opacity: 0.2; stroke-width: 1px;\"/></g><g class=\"legendsymbols\"><g class=\"legendpoints\"/></g></g><rect class=\"legendtoggle\" x=\"0\" y=\"-9.5\" width=\"105.78125\" height=\"19\" style=\"fill: rgb(0, 0, 0); fill-opacity: 0;\"/></g></g></g><rect class=\"scrollbar\" rx=\"20\" ry=\"3\" width=\"0\" height=\"0\" x=\"0\" y=\"0\" style=\"fill: rgb(128, 139, 164); fill-opacity: 1;\"/></g><g class=\"rangeselector\" transform=\"\" style=\"cursor: pointer; pointer-events: all;\"><g class=\"button\" transform=\"\"><rect class=\"selector-rect\" shape-rendering=\"crispEdges\" rx=\"3\" ry=\"3\" x=\"0\" y=\"0\" width=\"30\" height=\"19\" style=\"stroke: rgb(68, 68, 68); stroke-opacity: 1; fill: rgb(238, 238, 238); fill-opacity: 1; stroke-width: 0px;\"/><text class=\"selector-text\" text-anchor=\"middle\" x=\"15\" y=\"12.5\" style=\"font-family: 'Open Sans', verdana, arial, sans-serif; font-size: 10px; fill: rgb(42, 63, 95); fill-opacity: 1; white-space: pre;\">1w</text></g><g class=\"button\" transform=\"translate(35,0)\"><rect class=\"selector-rect\" shape-rendering=\"crispEdges\" rx=\"3\" ry=\"3\" x=\"0\" y=\"0\" width=\"30\" height=\"19\" style=\"stroke: rgb(68, 68, 68); stroke-opacity: 1; fill: rgb(238, 238, 238); fill-opacity: 1; stroke-width: 0px;\"/><text class=\"selector-text\" text-anchor=\"middle\" x=\"15\" y=\"12.5\" style=\"font-family: 'Open Sans', verdana, arial, sans-serif; font-size: 10px; fill: rgb(42, 63, 95); fill-opacity: 1; white-space: pre;\">1m</text></g><g class=\"button\" transform=\"translate(70,0)\"><rect class=\"selector-rect\" shape-rendering=\"crispEdges\" rx=\"3\" ry=\"3\" x=\"0\" y=\"0\" width=\"30\" height=\"19\" style=\"stroke: rgb(68, 68, 68); stroke-opacity: 1; fill: rgb(238, 238, 238); fill-opacity: 1; stroke-width: 0px;\"/><text class=\"selector-text\" text-anchor=\"middle\" x=\"15\" y=\"12.5\" style=\"font-family: 'Open Sans', verdana, arial, sans-serif; font-size: 10px; fill: rgb(42, 63, 95); fill-opacity: 1; white-space: pre;\">6m</text></g><g class=\"button\" transform=\"translate(105,0)\"><rect class=\"selector-rect\" shape-rendering=\"crispEdges\" rx=\"3\" ry=\"3\" x=\"0\" y=\"0\" width=\"30\" height=\"19\" style=\"stroke: rgb(68, 68, 68); stroke-opacity: 1; fill: rgb(238, 238, 238); fill-opacity: 1; stroke-width: 0px;\"/><text class=\"selector-text\" text-anchor=\"middle\" x=\"15\" y=\"12.5\" style=\"font-family: 'Open Sans', verdana, arial, sans-serif; font-size: 10px; fill: rgb(42, 63, 95); fill-opacity: 1; white-space: pre;\">1y</text></g><g class=\"button\" transform=\"translate(140,0)\"><rect class=\"selector-rect\" shape-rendering=\"crispEdges\" rx=\"3\" ry=\"3\" x=\"0\" y=\"0\" width=\"30\" height=\"19\" style=\"stroke: rgb(68, 68, 68); stroke-opacity: 1; fill: rgb(212, 212, 212); fill-opacity: 1; stroke-width: 0px;\"/><text class=\"selector-text\" text-anchor=\"middle\" x=\"15\" y=\"12.5\" style=\"font-family: 'Open Sans', verdana, arial, sans-serif; font-size: 10px; fill: rgb(42, 63, 95); fill-opacity: 1; white-space: pre;\">all</text></g></g><g class=\"g-gtitle\"/><g class=\"rangeslider-container\" pointer-events=\"all\" transform=\"translate(52,331)\"><rect class=\"rangeslider-bg\" x=\"0\" y=\"0\" shape-rendering=\"crispEdges\" width=\"526\" height=\"61.5\" transform=\"\" stroke-width=\"0\" style=\"stroke: rgb(68, 68, 68); stroke-opacity: 1; fill: rgb(255, 255, 255); fill-opacity: 1;\"/><g class=\"rangeslider-rangeplot xy\" clip-path=\"url(#rangesliderx-2988ef)\"><g class=\"layer-subplot\"><g class=\"shapelayer\"/><g class=\"imagelayer\"/></g><g class=\"minor-gridlayer\"><g class=\"x\"/><g class=\"y\"/></g><g class=\"gridlayer\"><g class=\"x\"/><g class=\"y\"/></g><g class=\"zerolinelayer\"/><g class=\"layer-between\"><g class=\"shapelayer\"/><g class=\"imagelayer\"/></g><path class=\"xlines-below\"/><path class=\"ylines-below\"/><g class=\"overlines-below\"/><g class=\"xaxislayer-below\"/><g class=\"yaxislayer-below\"/><g class=\"overaxes-below\"/><g class=\"plot\"><g class=\"scatterlayer mlayer rangeplot\"><g class=\"trace scatter trace8c05d0\" style=\"stroke-miterlimit: 2;\"><g class=\"fills\"><g><path class=\"js-fill\" d=\"M29.3,46.38L32.1,49.59L34.9,49.67L37.7,49.98L40.5,43.68L43.29,47.6L46.09,38.41L51.69,36.77L54.49,35.72L57.29,35.9L60.09,37.64L62.89,36.05L65.68,36.3L68.48,36.28L71.28,39.81L74.08,38.96L76.88,45.64L79.68,46.42L82.48,45.65L85.28,46.58L88.07,49.29L90.87,50.53L93.67,50.12L96.47,50.48L99.27,49.56L102.07,47.23L104.87,46.11L107.67,44.56L110.47,44.84L113.26,26.98L116.06,15.25L118.86,6.76L121.66,7.26L124.46,9.65L127.26,7.58L130.06,10.81L132.86,8.92L135.65,8.24L138.45,6.22L141.25,6.35L144.05,3.87L146.85,25.58L149.65,26.87L152.45,37.61L155.25,40L158.04,48.72L160.84,49.78L163.64,50.77L166.44,50.1L169.24,50.37L172.04,47.94L174.84,44.24L177.64,43.21L180.44,24.39L183.23,13.2L186.03,8.68L188.83,6.34L191.63,6.42L194.43,7.6L197.23,8.06L200.03,6.97L202.83,9.24L205.62,9.52L211.22,5.05L214.02,26.63L216.82,28.69L219.62,38.34L222.42,44.24L225.22,48.25L228.01,48.1L230.81,51L236.41,50.52L239.21,51.8L242.01,44.91L244.81,44.53L247.61,24.32L250.41,13.13L253.2,9.06L256,8.3L258.8,7.99L261.6,6.47L264.4,9.38L267.2,6.5L272.8,7.85L275.59,5.09L278.39,3.1L281.19,27.3L283.99,25.02L286.79,39.25L289.59,42.55L292.39,48.04L295.19,48.23L297.99,49.59L300.78,49.3L303.58,50.14L306.38,50.45L309.18,43.77L311.98,43.62L314.78,24.49L317.58,12.49L320.38,10.95L323.17,7.43L325.97,6.17L328.77,4.74L331.57,9.08L334.37,5.79L337.17,4.82L339.97,5.9L342.77,3.72L345.56,3.58L348.36,26.69L351.16,27.25L353.96,39.91L356.76,43.26L359.56,48.75L362.36,48.48L365.16,50.09L373.55,50.36L376.35,44.26L379.15,48.52L381.95,40.79L384.75,35.41L387.55,33.88L390.35,22.49L393.14,21.7L395.94,22.15L398.74,26.26L401.54,25.53L404.34,27.41L407.14,33.52L409.94,30.84L415.53,35.91L418.33,37.27L421.13,49.02L423.93,49.44L426.73,47.55L429.53,48.03L435.13,51.61L437.93,50.74L440.72,52.57L443.52,51.25L446.32,51.79L449.12,44.22L451.92,43.66L454.72,37.84L460.32,38.23L463.11,39.46L465.91,38.21L468.71,38.51L474.31,39.48L477.11,39.17L479.91,43L482.71,45.52L485.5,45.8L488.3,50.14L496.7,49.1L496.7,56.51L493.9,55.17L491.1,55.8L488.3,55.41L485.5,53.34L479.91,49.89L477.11,45.78L471.51,44.23L468.71,43.8L465.91,45.42L463.11,43.23L460.32,45.04L457.52,45.18L454.72,43.19L451.92,52.51L449.12,50.63L446.32,56.24L440.72,57.7L437.93,58.9L432.33,56.68L429.53,55.61L426.73,58.19L423.93,55.51L421.13,54.94L418.33,45.14L415.53,45.64L412.74,41.18L409.94,38.07L407.14,41.05L404.34,32.14L401.54,32.82L398.74,32.1L395.94,29.46L393.14,29.2L390.35,30.06L387.55,40.87L384.75,41.25L381.95,50.34L379.15,57.08L376.35,55.26L373.55,57.4L367.96,55.99L365.16,56.63L362.36,54.85L359.56,56.15L353.96,46.03L351.16,33.52L348.36,35.64L345.56,12.63L342.77,12.78L339.97,12.53L337.17,10.24L334.37,10.07L331.57,15.51L328.77,13.81L325.97,13.39L323.17,14.08L320.38,17.18L317.58,19.15L314.78,31.44L311.98,50.99L309.18,55.16L306.38,57.36L303.58,56.86L300.78,56.38L297.99,57.28L295.19,55.61L292.39,56.96L289.59,50.25L286.79,46.1L283.99,33.12L281.19,34.94L278.39,12.58L275.59,12.23L272.8,14.08L270,14.31L267.2,12.37L264.4,14.63L261.6,10.57L258.8,11.89L256,10.85L250.41,18.95L247.61,29.36L244.81,47.86L242.01,49.16L239.21,57.11L236.41,57.2L233.61,56.21L230.81,57.58L228.01,55.68L225.22,54.46L219.62,44.55L216.82,31.97L214.02,33.49L211.22,12.53L208.42,12.4L205.62,15.16L202.83,13.23L200.03,11.57L197.23,15.23L194.43,12.89L191.63,14.76L188.83,14.46L186.03,15.63L183.23,18.31L180.44,30.64L177.64,50L174.84,51.4L172.04,54.51L169.24,55.62L166.44,54.5L163.64,55.04L160.84,52.57L158.04,54.54L155.25,47.42L152.45,43.56L149.65,32.09L146.85,32.25L144.05,9.73L135.65,11.32L132.86,12.19L130.06,14.54L127.26,14.34L124.46,12.2L121.66,13.4L118.86,12.81L116.06,17.8L110.47,47.39L107.67,48.8L104.87,55.07L102.07,52.96L99.27,52.9L96.47,53.03L90.87,53.99L88.07,51.84L85.28,52.11L82.48,52.31L76.88,48.19L74.08,43.42L71.28,44.23L68.48,41.99L62.89,43.19L60.09,40.75L57.29,40.42L54.49,43.51L51.69,43.9L48.89,49.26L46.09,50.51L43.29,53.71L40.5,51.18L37.7,54.95L34.9,54.39L32.1,54.43L29.3,55.28Z\" style=\"fill: rgb(45, 146, 255); fill-opacity: 0.2; stroke-width: 0;\"/></g></g><g class=\"errorbars\"/><g class=\"lines\"><path class=\"js-line\" d=\"M29.3,55.28L32.1,54.43L34.9,54.39L37.7,54.95L40.5,51.18L43.29,53.71L46.09,50.51L48.89,49.26L51.69,43.9L54.49,43.51L57.29,40.42L60.09,40.75L62.89,43.19L68.48,41.99L71.28,44.23L74.08,43.42L76.88,48.19L82.48,52.31L85.28,52.11L88.07,51.84L90.87,53.99L96.47,53.03L99.27,52.9L102.07,52.96L104.87,55.07L107.67,48.8L110.47,47.39L116.06,17.8L118.86,12.81L121.66,13.4L124.46,12.2L127.26,14.34L130.06,14.54L132.86,12.19L135.65,11.32L144.05,9.73L146.85,32.25L149.65,32.09L152.45,43.56L155.25,47.42L158.04,54.54L160.84,52.57L163.64,55.04L166.44,54.5L169.24,55.62L172.04,54.51L174.84,51.4L177.64,50L180.44,30.64L183.23,18.31L186.03,15.63L188.83,14.46L191.63,14.76L194.43,12.89L197.23,15.23L200.03,11.57L202.83,13.23L205.62,15.16L208.42,12.4L211.22,12.53L214.02,33.49L216.82,31.97L219.62,44.55L225.22,54.46L228.01,55.68L230.81,57.58L233.61,56.21L236.41,57.2L239.21,57.11L242.01,49.16L244.81,47.86L247.61,29.36L250.41,18.95L256,10.85L258.8,11.89L261.6,10.57L264.4,14.63L267.2,12.37L270,14.31L272.8,14.08L275.59,12.23L278.39,12.58L281.19,34.94L283.99,33.12L286.79,46.1L289.59,50.25L292.39,56.96L295.19,55.61L297.99,57.28L300.78,56.38L303.58,56.86L306.38,57.36L309.18,55.16L311.98,50.99L314.78,31.44L317.58,19.15L320.38,17.18L323.17,14.08L325.97,13.39L328.77,13.81L331.57,15.51L334.37,10.07L337.17,10.24L339.97,12.53L342.77,12.78L345.56,12.63L348.36,35.64L351.16,33.52L353.96,46.03L359.56,56.15L362.36,54.85L365.16,56.63L367.96,55.99L373.55,57.4L376.35,55.26L379.15,57.08L381.95,50.34L384.75,41.25L387.55,40.87L390.35,30.06L393.14,29.2L395.94,29.46L398.74,32.1L401.54,32.82L404.34,32.14L407.14,41.05L409.94,38.07L412.74,41.18L415.53,45.64L418.33,45.14L421.13,54.94L423.93,55.51L426.73,58.19L429.53,55.61L432.33,56.68L437.93,58.9L440.72,57.7L446.32,56.24L449.12,50.63L451.92,52.51L454.72,43.19L457.52,45.18L460.32,45.04L463.11,43.23L465.91,45.42L468.71,43.8L471.51,44.23L477.11,45.78L479.91,49.89L485.5,53.34L488.3,55.41L491.1,55.8L493.9,55.17L496.7,56.51\" style=\"vector-effect: none; fill: none; stroke: rgb(45, 146, 255); stroke-opacity: 0.2; stroke-width: 1px; opacity: 1;\"/></g><g class=\"points\"/><g class=\"text\"/></g><g class=\"trace scatter traceae8590\" style=\"stroke-miterlimit: 2;\"><g class=\"fills\"/><g class=\"errorbars\"/><g class=\"lines\"><path class=\"js-line\" d=\"M29.3,46.38L32.1,49.59L34.9,49.67L37.7,49.98L40.5,43.68L43.29,47.6L46.09,38.41L51.69,36.77L54.49,35.72L57.29,35.9L60.09,37.64L62.89,36.05L65.68,36.3L68.48,36.28L71.28,39.81L74.08,38.96L76.88,45.64L79.68,46.42L82.48,45.65L85.28,46.58L88.07,49.29L90.87,50.53L93.67,50.12L96.47,50.48L99.27,49.56L102.07,47.23L104.87,46.11L107.67,44.56L110.47,44.84L113.26,26.98L116.06,15.25L118.86,6.76L121.66,7.26L124.46,9.65L127.26,7.58L130.06,10.81L132.86,8.92L135.65,8.24L138.45,6.22L141.25,6.35L144.05,3.87L146.85,25.58L149.65,26.87L152.45,37.61L155.25,40L158.04,48.72L160.84,49.78L163.64,50.77L166.44,50.1L169.24,50.37L172.04,47.94L174.84,44.24L177.64,43.21L180.44,24.39L183.23,13.2L186.03,8.68L188.83,6.34L191.63,6.42L194.43,7.6L197.23,8.06L200.03,6.97L202.83,9.24L205.62,9.52L211.22,5.05L214.02,26.63L216.82,28.69L219.62,38.34L222.42,44.24L225.22,48.25L228.01,48.1L230.81,51L236.41,50.52L239.21,51.8L242.01,44.91L244.81,44.53L247.61,24.32L250.41,13.13L253.2,9.06L256,8.3L258.8,7.99L261.6,6.47L264.4,9.38L267.2,6.5L272.8,7.85L275.59,5.09L278.39,3.1L281.19,27.3L283.99,25.02L286.79,39.25L289.59,42.55L292.39,48.04L295.19,48.23L297.99,49.59L300.78,49.3L303.58,50.14L306.38,50.45L309.18,43.77L311.98,43.62L314.78,24.49L317.58,12.49L320.38,10.95L323.17,7.43L325.97,6.17L328.77,4.74L331.57,9.08L334.37,5.79L337.17,4.82L339.97,5.9L342.77,3.72L345.56,3.58L348.36,26.69L351.16,27.25L353.96,39.91L356.76,43.26L359.56,48.75L362.36,48.48L365.16,50.09L373.55,50.36L376.35,44.26L379.15,48.52L381.95,40.79L384.75,35.41L387.55,33.88L390.35,22.49L393.14,21.7L395.94,22.15L398.74,26.26L401.54,25.53L404.34,27.41L407.14,33.52L409.94,30.84L415.53,35.91L418.33,37.27L421.13,49.02L423.93,49.44L426.73,47.55L429.53,48.03L435.13,51.61L437.93,50.74L440.72,52.57L443.52,51.25L446.32,51.79L449.12,44.22L451.92,43.66L454.72,37.84L460.32,38.23L463.11,39.46L465.91,38.21L468.71,38.51L474.31,39.48L477.11,39.17L479.91,43L482.71,45.52L485.5,45.8L488.3,50.14L496.7,49.1\" style=\"vector-effect: none; fill: none; stroke: rgb(45, 146, 255); stroke-opacity: 0.2; stroke-width: 1px; opacity: 1;\"/></g><g class=\"points\"/><g class=\"text\"/></g><g class=\"trace scatter trace61599a\" style=\"stroke-miterlimit: 2; opacity: 1;\"><g class=\"fills\"/><g class=\"errorbars\"/><g class=\"lines\"><path class=\"js-line\" d=\"M29.3,52.49L32.1,51.92L34.9,52.38L37.7,52.3L40.5,47.9L43.29,50.71L46.09,44.56L48.89,43.1L51.69,40.17L57.29,38.34L60.09,39.18L65.68,40.14L68.48,38.84L71.28,42L74.08,41.76L76.88,46.92L79.68,48.31L85.28,49.42L88.07,50.57L90.87,52.72L93.67,52.06L104.87,51.13L107.67,47.53L110.47,46.12L113.26,30.46L116.06,16.52L118.86,10.51L127.26,10.5L130.06,12.27L138.45,8.24L141.25,7.86L144.05,7.61L146.85,28.05L149.65,29.47L152.45,41.35L155.25,44.16L158.04,52.48L160.84,51.3L163.64,53.71L169.24,53.49L172.04,51.97L174.84,47.6L177.64,46.75L180.44,28.51L183.23,16.8L186.03,11.92L188.83,10.24L191.63,11.04L194.43,10.51L197.23,11.99L200.03,9.57L205.62,11.81L208.42,10.11L211.22,8.67L214.02,30.22L216.82,30.01L219.62,42.02L225.22,51.81L228.01,52.51L230.81,54.81L233.61,54.02L239.21,55.33L242.01,47.21L244.81,46.59L247.61,27.32L250.41,16.25L253.2,12.33L256,9.58L258.8,10.22L261.6,8.58L264.4,12.39L267.2,9.7L270,10.26L272.8,11.34L275.59,8.78L278.39,7.53L281.19,30.96L283.99,30.06L286.79,43.13L289.59,46.71L292.39,53.09L295.19,52.71L297.99,53.82L300.78,53.43L303.58,53.94L306.38,54.48L309.18,49.31L311.98,47.55L314.78,28.01L317.58,15.7L320.38,13.79L323.17,10.76L325.97,10.09L328.77,9.77L331.57,13.13L334.37,8.69L337.17,7.63L342.77,9.35L345.56,8.33L348.36,30.9L351.16,30.84L353.96,43.58L356.76,47.41L359.56,52.96L362.36,52.31L365.16,53.76L367.96,53.81L373.55,54.48L376.35,49.7L379.15,53.22L381.95,46.93L384.75,38.83L387.55,37.8L390.35,26.59L393.14,26.27L395.94,26.32L398.74,29.35L404.34,29.86L407.14,36.99L409.94,35.56L412.74,38L415.53,41.58L418.33,41.95L421.13,51.77L423.93,52.34L426.73,53.48L429.53,52.73L435.13,55.12L437.93,55.27L440.72,55.62L443.52,54.03L446.32,54.6L449.12,48.45L451.92,48.53L454.72,41.92L471.51,41.48L474.31,42.31L477.11,42.72L479.91,46.9L482.71,49.21L485.5,49.8L488.3,52.98L491.1,52.55L496.7,52.86\" style=\"vector-effect: none; fill: none; stroke: rgb(45, 146, 255); stroke-opacity: 1; stroke-width: 2px; opacity: 1;\"/></g><g class=\"points\"/><g class=\"text\"/></g><g class=\"trace scatter trace4a0f27\" style=\"stroke-miterlimit: 2; opacity: 1;\"><g class=\"fills\"/><g class=\"errorbars\"/><g class=\"lines\"/><g class=\"points\"><path class=\"point\" transform=\"translate(29.3,52.49)\" d=\"M0,1.13l1.13,1.13l1.13,-1.13l-1.13,-1.13l1.13,-1.13l-1.13,-1.13l-1.13,1.13l-1.13,-1.13l-1.13,1.13l1.13,1.13l-1.13,1.13l1.13,1.13Z\" style=\"opacity: 1; stroke-width: 0px; fill: rgb(0, 0, 255); fill-opacity: 1;\"/><path class=\"point\" transform=\"translate(32.1,51.92)\" d=\"M0,1.13l1.13,1.13l1.13,-1.13l-1.13,-1.13l1.13,-1.13l-1.13,-1.13l-1.13,1.13l-1.13,-1.13l-1.13,1.13l1.13,1.13l-1.13,1.13l1.13,1.13Z\" style=\"opacity: 1; stroke-width: 0px; fill: rgb(0, 0, 255); fill-opacity: 1;\"/><path class=\"point\" transform=\"translate(34.9,52.38)\" d=\"M0,1.13l1.13,1.13l1.13,-1.13l-1.13,-1.13l1.13,-1.13l-1.13,-1.13l-1.13,1.13l-1.13,-1.13l-1.13,1.13l1.13,1.13l-1.13,1.13l1.13,1.13Z\" style=\"opacity: 1; stroke-width: 0px; fill: rgb(0, 0, 255); fill-opacity: 1;\"/><path class=\"point\" transform=\"translate(37.7,52.3)\" d=\"M0,1.13l1.13,1.13l1.13,-1.13l-1.13,-1.13l1.13,-1.13l-1.13,-1.13l-1.13,1.13l-1.13,-1.13l-1.13,1.13l1.13,1.13l-1.13,1.13l1.13,1.13Z\" style=\"opacity: 1; stroke-width: 0px; fill: rgb(0, 0, 255); fill-opacity: 1;\"/><path class=\"point\" transform=\"translate(40.5,47.9)\" d=\"M0,1.13l1.13,1.13l1.13,-1.13l-1.13,-1.13l1.13,-1.13l-1.13,-1.13l-1.13,1.13l-1.13,-1.13l-1.13,1.13l1.13,1.13l-1.13,1.13l1.13,1.13Z\" style=\"opacity: 1; stroke-width: 0px; fill: rgb(0, 0, 255); fill-opacity: 1;\"/><path class=\"point\" transform=\"translate(43.29,50.71)\" d=\"M0,1.13l1.13,1.13l1.13,-1.13l-1.13,-1.13l1.13,-1.13l-1.13,-1.13l-1.13,1.13l-1.13,-1.13l-1.13,1.13l1.13,1.13l-1.13,1.13l1.13,1.13Z\" style=\"opacity: 1; stroke-width: 0px; fill: rgb(0, 0, 255); fill-opacity: 1;\"/><path class=\"point\" transform=\"translate(46.09,44.56)\" d=\"M0,1.13l1.13,1.13l1.13,-1.13l-1.13,-1.13l1.13,-1.13l-1.13,-1.13l-1.13,1.13l-1.13,-1.13l-1.13,1.13l1.13,1.13l-1.13,1.13l1.13,1.13Z\" style=\"opacity: 1; stroke-width: 0px; fill: rgb(0, 0, 255); fill-opacity: 1;\"/><path class=\"point\" transform=\"translate(48.89,43.1)\" d=\"M0,1.13l1.13,1.13l1.13,-1.13l-1.13,-1.13l1.13,-1.13l-1.13,-1.13l-1.13,1.13l-1.13,-1.13l-1.13,1.13l1.13,1.13l-1.13,1.13l1.13,1.13Z\" style=\"opacity: 1; stroke-width: 0px; fill: rgb(0, 0, 255); fill-opacity: 1;\"/><path class=\"point\" transform=\"translate(51.69,40.17)\" d=\"M0,1.13l1.13,1.13l1.13,-1.13l-1.13,-1.13l1.13,-1.13l-1.13,-1.13l-1.13,1.13l-1.13,-1.13l-1.13,1.13l1.13,1.13l-1.13,1.13l1.13,1.13Z\" style=\"opacity: 1; stroke-width: 0px; fill: rgb(0, 0, 255); fill-opacity: 1;\"/><path class=\"point\" transform=\"translate(54.49,39.61)\" d=\"M0,1.13l1.13,1.13l1.13,-1.13l-1.13,-1.13l1.13,-1.13l-1.13,-1.13l-1.13,1.13l-1.13,-1.13l-1.13,1.13l1.13,1.13l-1.13,1.13l1.13,1.13Z\" style=\"opacity: 1; stroke-width: 0px; fill: rgb(0, 0, 255); fill-opacity: 1;\"/><path class=\"point\" transform=\"translate(57.29,38.34)\" d=\"M0,1.13l1.13,1.13l1.13,-1.13l-1.13,-1.13l1.13,-1.13l-1.13,-1.13l-1.13,1.13l-1.13,-1.13l-1.13,1.13l1.13,1.13l-1.13,1.13l1.13,1.13Z\" style=\"opacity: 1; stroke-width: 0px; fill: rgb(0, 0, 255); fill-opacity: 1;\"/><path class=\"point\" transform=\"translate(60.09,39.18)\" d=\"M0,1.13l1.13,1.13l1.13,-1.13l-1.13,-1.13l1.13,-1.13l-1.13,-1.13l-1.13,1.13l-1.13,-1.13l-1.13,1.13l1.13,1.13l-1.13,1.13l1.13,1.13Z\" style=\"opacity: 1; stroke-width: 0px; fill: rgb(0, 0, 255); fill-opacity: 1;\"/><path class=\"point\" transform=\"translate(62.89,39.47)\" d=\"M0,1.13l1.13,1.13l1.13,-1.13l-1.13,-1.13l1.13,-1.13l-1.13,-1.13l-1.13,1.13l-1.13,-1.13l-1.13,1.13l1.13,1.13l-1.13,1.13l1.13,1.13Z\" style=\"opacity: 1; stroke-width: 0px; fill: rgb(0, 0, 255); fill-opacity: 1;\"/><path class=\"point\" transform=\"translate(65.68,40.14)\" d=\"M0,1.13l1.13,1.13l1.13,-1.13l-1.13,-1.13l1.13,-1.13l-1.13,-1.13l-1.13,1.13l-1.13,-1.13l-1.13,1.13l1.13,1.13l-1.13,1.13l1.13,1.13Z\" style=\"opacity: 1; stroke-width: 0px; fill: rgb(0, 0, 255); fill-opacity: 1;\"/><path class=\"point\" transform=\"translate(68.48,38.84)\" d=\"M0,1.13l1.13,1.13l1.13,-1.13l-1.13,-1.13l1.13,-1.13l-1.13,-1.13l-1.13,1.13l-1.13,-1.13l-1.13,1.13l1.13,1.13l-1.13,1.13l1.13,1.13Z\" style=\"opacity: 1; stroke-width: 0px; fill: rgb(0, 0, 255); fill-opacity: 1;\"/><path class=\"point\" transform=\"translate(71.28,42)\" d=\"M0,1.13l1.13,1.13l1.13,-1.13l-1.13,-1.13l1.13,-1.13l-1.13,-1.13l-1.13,1.13l-1.13,-1.13l-1.13,1.13l1.13,1.13l-1.13,1.13l1.13,1.13Z\" style=\"opacity: 1; stroke-width: 0px; fill: rgb(0, 0, 255); fill-opacity: 1;\"/><path class=\"point\" transform=\"translate(74.08,41.76)\" d=\"M0,1.13l1.13,1.13l1.13,-1.13l-1.13,-1.13l1.13,-1.13l-1.13,-1.13l-1.13,1.13l-1.13,-1.13l-1.13,1.13l1.13,1.13l-1.13,1.13l1.13,1.13Z\" style=\"opacity: 1; stroke-width: 0px; fill: rgb(0, 0, 255); fill-opacity: 1;\"/><path class=\"point\" transform=\"translate(76.88,46.92)\" d=\"M0,1.13l1.13,1.13l1.13,-1.13l-1.13,-1.13l1.13,-1.13l-1.13,-1.13l-1.13,1.13l-1.13,-1.13l-1.13,1.13l1.13,1.13l-1.13,1.13l1.13,1.13Z\" style=\"opacity: 1; stroke-width: 0px; fill: rgb(0, 0, 255); fill-opacity: 1;\"/><path class=\"point\" transform=\"translate(79.68,48.31)\" d=\"M0,1.13l1.13,1.13l1.13,-1.13l-1.13,-1.13l1.13,-1.13l-1.13,-1.13l-1.13,1.13l-1.13,-1.13l-1.13,1.13l1.13,1.13l-1.13,1.13l1.13,1.13Z\" style=\"opacity: 1; stroke-width: 0px; fill: rgb(0, 0, 255); fill-opacity: 1;\"/><path class=\"point\" transform=\"translate(82.48,48.79)\" d=\"M0,1.13l1.13,1.13l1.13,-1.13l-1.13,-1.13l1.13,-1.13l-1.13,-1.13l-1.13,1.13l-1.13,-1.13l-1.13,1.13l1.13,1.13l-1.13,1.13l1.13,1.13Z\" style=\"opacity: 1; stroke-width: 0px; fill: rgb(0, 0, 255); fill-opacity: 1;\"/><path class=\"point\" transform=\"translate(85.28,49.42)\" d=\"M0,1.13l1.13,1.13l1.13,-1.13l-1.13,-1.13l1.13,-1.13l-1.13,-1.13l-1.13,1.13l-1.13,-1.13l-1.13,1.13l1.13,1.13l-1.13,1.13l1.13,1.13Z\" style=\"opacity: 1; stroke-width: 0px; fill: rgb(0, 0, 255); fill-opacity: 1;\"/><path class=\"point\" transform=\"translate(88.07,50.57)\" d=\"M0,1.13l1.13,1.13l1.13,-1.13l-1.13,-1.13l1.13,-1.13l-1.13,-1.13l-1.13,1.13l-1.13,-1.13l-1.13,1.13l1.13,1.13l-1.13,1.13l1.13,1.13Z\" style=\"opacity: 1; stroke-width: 0px; fill: rgb(0, 0, 255); fill-opacity: 1;\"/><path class=\"point\" transform=\"translate(90.87,52.72)\" d=\"M0,1.13l1.13,1.13l1.13,-1.13l-1.13,-1.13l1.13,-1.13l-1.13,-1.13l-1.13,1.13l-1.13,-1.13l-1.13,1.13l1.13,1.13l-1.13,1.13l1.13,1.13Z\" style=\"opacity: 1; stroke-width: 0px; fill: rgb(0, 0, 255); fill-opacity: 1;\"/><path class=\"point\" transform=\"translate(93.67,52.06)\" d=\"M0,1.13l1.13,1.13l1.13,-1.13l-1.13,-1.13l1.13,-1.13l-1.13,-1.13l-1.13,1.13l-1.13,-1.13l-1.13,1.13l1.13,1.13l-1.13,1.13l1.13,1.13Z\" style=\"opacity: 1; stroke-width: 0px; fill: rgb(0, 0, 255); fill-opacity: 1;\"/><path class=\"point\" transform=\"translate(96.47,51.76)\" d=\"M0,1.13l1.13,1.13l1.13,-1.13l-1.13,-1.13l1.13,-1.13l-1.13,-1.13l-1.13,1.13l-1.13,-1.13l-1.13,1.13l1.13,1.13l-1.13,1.13l1.13,1.13Z\" style=\"opacity: 1; stroke-width: 0px; fill: rgb(0, 0, 255); fill-opacity: 1;\"/><path class=\"point\" transform=\"translate(99.27,51.63)\" d=\"M0,1.13l1.13,1.13l1.13,-1.13l-1.13,-1.13l1.13,-1.13l-1.13,-1.13l-1.13,1.13l-1.13,-1.13l-1.13,1.13l1.13,1.13l-1.13,1.13l1.13,1.13Z\" style=\"opacity: 1; stroke-width: 0px; fill: rgb(0, 0, 255); fill-opacity: 1;\"/><path class=\"point\" transform=\"translate(102.07,50.88)\" d=\"M0,1.13l1.13,1.13l1.13,-1.13l-1.13,-1.13l1.13,-1.13l-1.13,-1.13l-1.13,1.13l-1.13,-1.13l-1.13,1.13l1.13,1.13l-1.13,1.13l1.13,1.13Z\" style=\"opacity: 1; stroke-width: 0px; fill: rgb(0, 0, 255); fill-opacity: 1;\"/><path class=\"point\" transform=\"translate(104.87,51.13)\" d=\"M0,1.13l1.13,1.13l1.13,-1.13l-1.13,-1.13l1.13,-1.13l-1.13,-1.13l-1.13,1.13l-1.13,-1.13l-1.13,1.13l1.13,1.13l-1.13,1.13l1.13,1.13Z\" style=\"opacity: 1; stroke-width: 0px; fill: rgb(0, 0, 255); fill-opacity: 1;\"/><path class=\"point\" transform=\"translate(107.67,47.53)\" d=\"M0,1.13l1.13,1.13l1.13,-1.13l-1.13,-1.13l1.13,-1.13l-1.13,-1.13l-1.13,1.13l-1.13,-1.13l-1.13,1.13l1.13,1.13l-1.13,1.13l1.13,1.13Z\" style=\"opacity: 1; stroke-width: 0px; fill: rgb(0, 0, 255); fill-opacity: 1;\"/><path class=\"point\" transform=\"translate(110.47,46.12)\" d=\"M0,1.13l1.13,1.13l1.13,-1.13l-1.13,-1.13l1.13,-1.13l-1.13,-1.13l-1.13,1.13l-1.13,-1.13l-1.13,1.13l1.13,1.13l-1.13,1.13l1.13,1.13Z\" style=\"opacity: 1; stroke-width: 0px; fill: rgb(0, 0, 255); fill-opacity: 1;\"/><path class=\"point\" transform=\"translate(113.26,30.46)\" d=\"M0,1.13l1.13,1.13l1.13,-1.13l-1.13,-1.13l1.13,-1.13l-1.13,-1.13l-1.13,1.13l-1.13,-1.13l-1.13,1.13l1.13,1.13l-1.13,1.13l1.13,1.13Z\" style=\"opacity: 1; stroke-width: 0px; fill: rgb(0, 0, 255); fill-opacity: 1;\"/><path class=\"point\" transform=\"translate(116.06,16.52)\" d=\"M0,1.13l1.13,1.13l1.13,-1.13l-1.13,-1.13l1.13,-1.13l-1.13,-1.13l-1.13,1.13l-1.13,-1.13l-1.13,1.13l1.13,1.13l-1.13,1.13l1.13,1.13Z\" style=\"opacity: 1; stroke-width: 0px; fill: rgb(0, 0, 255); fill-opacity: 1;\"/><path class=\"point\" transform=\"translate(118.86,10.51)\" d=\"M0,1.13l1.13,1.13l1.13,-1.13l-1.13,-1.13l1.13,-1.13l-1.13,-1.13l-1.13,1.13l-1.13,-1.13l-1.13,1.13l1.13,1.13l-1.13,1.13l1.13,1.13Z\" style=\"opacity: 1; stroke-width: 0px; fill: rgb(0, 0, 255); fill-opacity: 1;\"/><path class=\"point\" transform=\"translate(121.66,10.43)\" d=\"M0,1.13l1.13,1.13l1.13,-1.13l-1.13,-1.13l1.13,-1.13l-1.13,-1.13l-1.13,1.13l-1.13,-1.13l-1.13,1.13l1.13,1.13l-1.13,1.13l1.13,1.13Z\" style=\"opacity: 1; stroke-width: 0px; fill: rgb(0, 0, 255); fill-opacity: 1;\"/><path class=\"point\" transform=\"translate(124.46,10.93)\" d=\"M0,1.13l1.13,1.13l1.13,-1.13l-1.13,-1.13l1.13,-1.13l-1.13,-1.13l-1.13,1.13l-1.13,-1.13l-1.13,1.13l1.13,1.13l-1.13,1.13l1.13,1.13Z\" style=\"opacity: 1; stroke-width: 0px; fill: rgb(0, 0, 255); fill-opacity: 1;\"/><path class=\"point\" transform=\"translate(127.26,10.5)\" d=\"M0,1.13l1.13,1.13l1.13,-1.13l-1.13,-1.13l1.13,-1.13l-1.13,-1.13l-1.13,1.13l-1.13,-1.13l-1.13,1.13l1.13,1.13l-1.13,1.13l1.13,1.13Z\" style=\"opacity: 1; stroke-width: 0px; fill: rgb(0, 0, 255); fill-opacity: 1;\"/><path class=\"point\" transform=\"translate(130.06,12.27)\" d=\"M0,1.13l1.13,1.13l1.13,-1.13l-1.13,-1.13l1.13,-1.13l-1.13,-1.13l-1.13,1.13l-1.13,-1.13l-1.13,1.13l1.13,1.13l-1.13,1.13l1.13,1.13Z\" style=\"opacity: 1; stroke-width: 0px; fill: rgb(0, 0, 255); fill-opacity: 1;\"/><path class=\"point\" transform=\"translate(132.86,10.92)\" d=\"M0,1.13l1.13,1.13l1.13,-1.13l-1.13,-1.13l1.13,-1.13l-1.13,-1.13l-1.13,1.13l-1.13,-1.13l-1.13,1.13l1.13,1.13l-1.13,1.13l1.13,1.13Z\" style=\"opacity: 1; stroke-width: 0px; fill: rgb(0, 0, 255); fill-opacity: 1;\"/><path class=\"point\" transform=\"translate(135.65,9.74)\" d=\"M0,1.13l1.13,1.13l1.13,-1.13l-1.13,-1.13l1.13,-1.13l-1.13,-1.13l-1.13,1.13l-1.13,-1.13l-1.13,1.13l1.13,1.13l-1.13,1.13l1.13,1.13Z\" style=\"opacity: 1; stroke-width: 0px; fill: rgb(0, 0, 255); fill-opacity: 1;\"/><path class=\"point\" transform=\"translate(138.45,8.24)\" d=\"M0,1.13l1.13,1.13l1.13,-1.13l-1.13,-1.13l1.13,-1.13l-1.13,-1.13l-1.13,1.13l-1.13,-1.13l-1.13,1.13l1.13,1.13l-1.13,1.13l1.13,1.13Z\" style=\"opacity: 1; stroke-width: 0px; fill: rgb(0, 0, 255); fill-opacity: 1;\"/><path class=\"point\" transform=\"translate(141.25,7.86)\" d=\"M0,1.13l1.13,1.13l1.13,-1.13l-1.13,-1.13l1.13,-1.13l-1.13,-1.13l-1.13,1.13l-1.13,-1.13l-1.13,1.13l1.13,1.13l-1.13,1.13l1.13,1.13Z\" style=\"opacity: 1; stroke-width: 0px; fill: rgb(0, 0, 255); fill-opacity: 1;\"/><path class=\"point\" transform=\"translate(144.05,7.61)\" d=\"M0,1.13l1.13,1.13l1.13,-1.13l-1.13,-1.13l1.13,-1.13l-1.13,-1.13l-1.13,1.13l-1.13,-1.13l-1.13,1.13l1.13,1.13l-1.13,1.13l1.13,1.13Z\" style=\"opacity: 1; stroke-width: 0px; fill: rgb(0, 0, 255); fill-opacity: 1;\"/><path class=\"point\" transform=\"translate(146.85,28.05)\" d=\"M0,1.13l1.13,1.13l1.13,-1.13l-1.13,-1.13l1.13,-1.13l-1.13,-1.13l-1.13,1.13l-1.13,-1.13l-1.13,1.13l1.13,1.13l-1.13,1.13l1.13,1.13Z\" style=\"opacity: 1; stroke-width: 0px; fill: rgb(0, 0, 255); fill-opacity: 1;\"/><path class=\"point\" transform=\"translate(149.65,29.47)\" d=\"M0,1.13l1.13,1.13l1.13,-1.13l-1.13,-1.13l1.13,-1.13l-1.13,-1.13l-1.13,1.13l-1.13,-1.13l-1.13,1.13l1.13,1.13l-1.13,1.13l1.13,1.13Z\" style=\"opacity: 1; stroke-width: 0px; fill: rgb(0, 0, 255); fill-opacity: 1;\"/><path class=\"point\" transform=\"translate(152.45,41.35)\" d=\"M0,1.13l1.13,1.13l1.13,-1.13l-1.13,-1.13l1.13,-1.13l-1.13,-1.13l-1.13,1.13l-1.13,-1.13l-1.13,1.13l1.13,1.13l-1.13,1.13l1.13,1.13Z\" style=\"opacity: 1; stroke-width: 0px; fill: rgb(0, 0, 255); fill-opacity: 1;\"/><path class=\"point\" transform=\"translate(155.25,44.16)\" d=\"M0,1.13l1.13,1.13l1.13,-1.13l-1.13,-1.13l1.13,-1.13l-1.13,-1.13l-1.13,1.13l-1.13,-1.13l-1.13,1.13l1.13,1.13l-1.13,1.13l1.13,1.13Z\" style=\"opacity: 1; stroke-width: 0px; fill: rgb(0, 0, 255); fill-opacity: 1;\"/><path class=\"point\" transform=\"translate(158.04,52.48)\" d=\"M0,1.13l1.13,1.13l1.13,-1.13l-1.13,-1.13l1.13,-1.13l-1.13,-1.13l-1.13,1.13l-1.13,-1.13l-1.13,1.13l1.13,1.13l-1.13,1.13l1.13,1.13Z\" style=\"opacity: 1; stroke-width: 0px; fill: rgb(0, 0, 255); fill-opacity: 1;\"/><path class=\"point\" transform=\"translate(160.84,51.3)\" d=\"M0,1.13l1.13,1.13l1.13,-1.13l-1.13,-1.13l1.13,-1.13l-1.13,-1.13l-1.13,1.13l-1.13,-1.13l-1.13,1.13l1.13,1.13l-1.13,1.13l1.13,1.13Z\" style=\"opacity: 1; stroke-width: 0px; fill: rgb(0, 0, 255); fill-opacity: 1;\"/><path class=\"point\" transform=\"translate(163.64,53.71)\" d=\"M0,1.13l1.13,1.13l1.13,-1.13l-1.13,-1.13l1.13,-1.13l-1.13,-1.13l-1.13,1.13l-1.13,-1.13l-1.13,1.13l1.13,1.13l-1.13,1.13l1.13,1.13Z\" style=\"opacity: 1; stroke-width: 0px; fill: rgb(0, 0, 255); fill-opacity: 1;\"/><path class=\"point\" transform=\"translate(166.44,53.23)\" d=\"M0,1.13l1.13,1.13l1.13,-1.13l-1.13,-1.13l1.13,-1.13l-1.13,-1.13l-1.13,1.13l-1.13,-1.13l-1.13,1.13l1.13,1.13l-1.13,1.13l1.13,1.13Z\" style=\"opacity: 1; stroke-width: 0px; fill: rgb(0, 0, 255); fill-opacity: 1;\"/><path class=\"point\" transform=\"translate(169.24,53.49)\" d=\"M0,1.13l1.13,1.13l1.13,-1.13l-1.13,-1.13l1.13,-1.13l-1.13,-1.13l-1.13,1.13l-1.13,-1.13l-1.13,1.13l1.13,1.13l-1.13,1.13l1.13,1.13Z\" style=\"opacity: 1; stroke-width: 0px; fill: rgb(0, 0, 255); fill-opacity: 1;\"/><path class=\"point\" transform=\"translate(172.04,51.97)\" d=\"M0,1.13l1.13,1.13l1.13,-1.13l-1.13,-1.13l1.13,-1.13l-1.13,-1.13l-1.13,1.13l-1.13,-1.13l-1.13,1.13l1.13,1.13l-1.13,1.13l1.13,1.13Z\" style=\"opacity: 1; stroke-width: 0px; fill: rgb(0, 0, 255); fill-opacity: 1;\"/><path class=\"point\" transform=\"translate(174.84,47.6)\" d=\"M0,1.13l1.13,1.13l1.13,-1.13l-1.13,-1.13l1.13,-1.13l-1.13,-1.13l-1.13,1.13l-1.13,-1.13l-1.13,1.13l1.13,1.13l-1.13,1.13l1.13,1.13Z\" style=\"opacity: 1; stroke-width: 0px; fill: rgb(0, 0, 255); fill-opacity: 1;\"/><path class=\"point\" transform=\"translate(177.64,46.75)\" d=\"M0,1.13l1.13,1.13l1.13,-1.13l-1.13,-1.13l1.13,-1.13l-1.13,-1.13l-1.13,1.13l-1.13,-1.13l-1.13,1.13l1.13,1.13l-1.13,1.13l1.13,1.13Z\" style=\"opacity: 1; stroke-width: 0px; fill: rgb(0, 0, 255); fill-opacity: 1;\"/><path class=\"point\" transform=\"translate(180.44,28.51)\" d=\"M0,1.13l1.13,1.13l1.13,-1.13l-1.13,-1.13l1.13,-1.13l-1.13,-1.13l-1.13,1.13l-1.13,-1.13l-1.13,1.13l1.13,1.13l-1.13,1.13l1.13,1.13Z\" style=\"opacity: 1; stroke-width: 0px; fill: rgb(0, 0, 255); fill-opacity: 1;\"/><path class=\"point\" transform=\"translate(183.23,16.8)\" d=\"M0,1.13l1.13,1.13l1.13,-1.13l-1.13,-1.13l1.13,-1.13l-1.13,-1.13l-1.13,1.13l-1.13,-1.13l-1.13,1.13l1.13,1.13l-1.13,1.13l1.13,1.13Z\" style=\"opacity: 1; stroke-width: 0px; fill: rgb(0, 0, 255); fill-opacity: 1;\"/><path class=\"point\" transform=\"translate(186.03,11.92)\" d=\"M0,1.13l1.13,1.13l1.13,-1.13l-1.13,-1.13l1.13,-1.13l-1.13,-1.13l-1.13,1.13l-1.13,-1.13l-1.13,1.13l1.13,1.13l-1.13,1.13l1.13,1.13Z\" style=\"opacity: 1; stroke-width: 0px; fill: rgb(0, 0, 255); fill-opacity: 1;\"/><path class=\"point\" transform=\"translate(188.83,10.24)\" d=\"M0,1.13l1.13,1.13l1.13,-1.13l-1.13,-1.13l1.13,-1.13l-1.13,-1.13l-1.13,1.13l-1.13,-1.13l-1.13,1.13l1.13,1.13l-1.13,1.13l1.13,1.13Z\" style=\"opacity: 1; stroke-width: 0px; fill: rgb(0, 0, 255); fill-opacity: 1;\"/><path class=\"point\" transform=\"translate(191.63,11.04)\" d=\"M0,1.13l1.13,1.13l1.13,-1.13l-1.13,-1.13l1.13,-1.13l-1.13,-1.13l-1.13,1.13l-1.13,-1.13l-1.13,1.13l1.13,1.13l-1.13,1.13l1.13,1.13Z\" style=\"opacity: 1; stroke-width: 0px; fill: rgb(0, 0, 255); fill-opacity: 1;\"/><path class=\"point\" transform=\"translate(194.43,10.51)\" d=\"M0,1.13l1.13,1.13l1.13,-1.13l-1.13,-1.13l1.13,-1.13l-1.13,-1.13l-1.13,1.13l-1.13,-1.13l-1.13,1.13l1.13,1.13l-1.13,1.13l1.13,1.13Z\" style=\"opacity: 1; stroke-width: 0px; fill: rgb(0, 0, 255); fill-opacity: 1;\"/><path class=\"point\" transform=\"translate(197.23,11.99)\" d=\"M0,1.13l1.13,1.13l1.13,-1.13l-1.13,-1.13l1.13,-1.13l-1.13,-1.13l-1.13,1.13l-1.13,-1.13l-1.13,1.13l1.13,1.13l-1.13,1.13l1.13,1.13Z\" style=\"opacity: 1; stroke-width: 0px; fill: rgb(0, 0, 255); fill-opacity: 1;\"/><path class=\"point\" transform=\"translate(200.03,9.57)\" d=\"M0,1.13l1.13,1.13l1.13,-1.13l-1.13,-1.13l1.13,-1.13l-1.13,-1.13l-1.13,1.13l-1.13,-1.13l-1.13,1.13l1.13,1.13l-1.13,1.13l1.13,1.13Z\" style=\"opacity: 1; stroke-width: 0px; fill: rgb(0, 0, 255); fill-opacity: 1;\"/><path class=\"point\" transform=\"translate(202.83,10.69)\" d=\"M0,1.13l1.13,1.13l1.13,-1.13l-1.13,-1.13l1.13,-1.13l-1.13,-1.13l-1.13,1.13l-1.13,-1.13l-1.13,1.13l1.13,1.13l-1.13,1.13l1.13,1.13Z\" style=\"opacity: 1; stroke-width: 0px; fill: rgb(0, 0, 255); fill-opacity: 1;\"/><path class=\"point\" transform=\"translate(205.62,11.81)\" d=\"M0,1.13l1.13,1.13l1.13,-1.13l-1.13,-1.13l1.13,-1.13l-1.13,-1.13l-1.13,1.13l-1.13,-1.13l-1.13,1.13l1.13,1.13l-1.13,1.13l1.13,1.13Z\" style=\"opacity: 1; stroke-width: 0px; fill: rgb(0, 0, 255); fill-opacity: 1;\"/><path class=\"point\" transform=\"translate(208.42,10.11)\" d=\"M0,1.13l1.13,1.13l1.13,-1.13l-1.13,-1.13l1.13,-1.13l-1.13,-1.13l-1.13,1.13l-1.13,-1.13l-1.13,1.13l1.13,1.13l-1.13,1.13l1.13,1.13Z\" style=\"opacity: 1; stroke-width: 0px; fill: rgb(0, 0, 255); fill-opacity: 1;\"/><path class=\"point\" transform=\"translate(211.22,8.67)\" d=\"M0,1.13l1.13,1.13l1.13,-1.13l-1.13,-1.13l1.13,-1.13l-1.13,-1.13l-1.13,1.13l-1.13,-1.13l-1.13,1.13l1.13,1.13l-1.13,1.13l1.13,1.13Z\" style=\"opacity: 1; stroke-width: 0px; fill: rgb(0, 0, 255); fill-opacity: 1;\"/><path class=\"point\" transform=\"translate(214.02,30.22)\" d=\"M0,1.13l1.13,1.13l1.13,-1.13l-1.13,-1.13l1.13,-1.13l-1.13,-1.13l-1.13,1.13l-1.13,-1.13l-1.13,1.13l1.13,1.13l-1.13,1.13l1.13,1.13Z\" style=\"opacity: 1; stroke-width: 0px; fill: rgb(0, 0, 255); fill-opacity: 1;\"/><path class=\"point\" transform=\"translate(216.82,30.01)\" d=\"M0,1.13l1.13,1.13l1.13,-1.13l-1.13,-1.13l1.13,-1.13l-1.13,-1.13l-1.13,1.13l-1.13,-1.13l-1.13,1.13l1.13,1.13l-1.13,1.13l1.13,1.13Z\" style=\"opacity: 1; stroke-width: 0px; fill: rgb(0, 0, 255); fill-opacity: 1;\"/><path class=\"point\" transform=\"translate(219.62,42.02)\" d=\"M0,1.13l1.13,1.13l1.13,-1.13l-1.13,-1.13l1.13,-1.13l-1.13,-1.13l-1.13,1.13l-1.13,-1.13l-1.13,1.13l1.13,1.13l-1.13,1.13l1.13,1.13Z\" style=\"opacity: 1; stroke-width: 0px; fill: rgb(0, 0, 255); fill-opacity: 1;\"/><path class=\"point\" transform=\"translate(222.42,47.09)\" d=\"M0,1.13l1.13,1.13l1.13,-1.13l-1.13,-1.13l1.13,-1.13l-1.13,-1.13l-1.13,1.13l-1.13,-1.13l-1.13,1.13l1.13,1.13l-1.13,1.13l1.13,1.13Z\" style=\"opacity: 1; stroke-width: 0px; fill: rgb(0, 0, 255); fill-opacity: 1;\"/><path class=\"point\" transform=\"translate(225.22,51.81)\" d=\"M0,1.13l1.13,1.13l1.13,-1.13l-1.13,-1.13l1.13,-1.13l-1.13,-1.13l-1.13,1.13l-1.13,-1.13l-1.13,1.13l1.13,1.13l-1.13,1.13l1.13,1.13Z\" style=\"opacity: 1; stroke-width: 0px; fill: rgb(0, 0, 255); fill-opacity: 1;\"/><path class=\"point\" transform=\"translate(228.01,52.51)\" d=\"M0,1.13l1.13,1.13l1.13,-1.13l-1.13,-1.13l1.13,-1.13l-1.13,-1.13l-1.13,1.13l-1.13,-1.13l-1.13,1.13l1.13,1.13l-1.13,1.13l1.13,1.13Z\" style=\"opacity: 1; stroke-width: 0px; fill: rgb(0, 0, 255); fill-opacity: 1;\"/><path class=\"point\" transform=\"translate(230.81,54.81)\" d=\"M0,1.13l1.13,1.13l1.13,-1.13l-1.13,-1.13l1.13,-1.13l-1.13,-1.13l-1.13,1.13l-1.13,-1.13l-1.13,1.13l1.13,1.13l-1.13,1.13l1.13,1.13Z\" style=\"opacity: 1; stroke-width: 0px; fill: rgb(0, 0, 255); fill-opacity: 1;\"/><path class=\"point\" transform=\"translate(233.61,54.02)\" d=\"M0,1.13l1.13,1.13l1.13,-1.13l-1.13,-1.13l1.13,-1.13l-1.13,-1.13l-1.13,1.13l-1.13,-1.13l-1.13,1.13l1.13,1.13l-1.13,1.13l1.13,1.13Z\" style=\"opacity: 1; stroke-width: 0px; fill: rgb(0, 0, 255); fill-opacity: 1;\"/><path class=\"point\" transform=\"translate(236.41,54.74)\" d=\"M0,1.13l1.13,1.13l1.13,-1.13l-1.13,-1.13l1.13,-1.13l-1.13,-1.13l-1.13,1.13l-1.13,-1.13l-1.13,1.13l1.13,1.13l-1.13,1.13l1.13,1.13Z\" style=\"opacity: 1; stroke-width: 0px; fill: rgb(0, 0, 255); fill-opacity: 1;\"/><path class=\"point\" transform=\"translate(239.21,55.33)\" d=\"M0,1.13l1.13,1.13l1.13,-1.13l-1.13,-1.13l1.13,-1.13l-1.13,-1.13l-1.13,1.13l-1.13,-1.13l-1.13,1.13l1.13,1.13l-1.13,1.13l1.13,1.13Z\" style=\"opacity: 1; stroke-width: 0px; fill: rgb(0, 0, 255); fill-opacity: 1;\"/><path class=\"point\" transform=\"translate(242.01,47.21)\" d=\"M0,1.13l1.13,1.13l1.13,-1.13l-1.13,-1.13l1.13,-1.13l-1.13,-1.13l-1.13,1.13l-1.13,-1.13l-1.13,1.13l1.13,1.13l-1.13,1.13l1.13,1.13Z\" style=\"opacity: 1; stroke-width: 0px; fill: rgb(0, 0, 255); fill-opacity: 1;\"/><path class=\"point\" transform=\"translate(244.81,46.59)\" d=\"M0,1.13l1.13,1.13l1.13,-1.13l-1.13,-1.13l1.13,-1.13l-1.13,-1.13l-1.13,1.13l-1.13,-1.13l-1.13,1.13l1.13,1.13l-1.13,1.13l1.13,1.13Z\" style=\"opacity: 1; stroke-width: 0px; fill: rgb(0, 0, 255); fill-opacity: 1;\"/><path class=\"point\" transform=\"translate(247.61,27.32)\" d=\"M0,1.13l1.13,1.13l1.13,-1.13l-1.13,-1.13l1.13,-1.13l-1.13,-1.13l-1.13,1.13l-1.13,-1.13l-1.13,1.13l1.13,1.13l-1.13,1.13l1.13,1.13Z\" style=\"opacity: 1; stroke-width: 0px; fill: rgb(0, 0, 255); fill-opacity: 1;\"/><path class=\"point\" transform=\"translate(250.41,16.25)\" d=\"M0,1.13l1.13,1.13l1.13,-1.13l-1.13,-1.13l1.13,-1.13l-1.13,-1.13l-1.13,1.13l-1.13,-1.13l-1.13,1.13l1.13,1.13l-1.13,1.13l1.13,1.13Z\" style=\"opacity: 1; stroke-width: 0px; fill: rgb(0, 0, 255); fill-opacity: 1;\"/><path class=\"point\" transform=\"translate(253.2,12.33)\" d=\"M0,1.13l1.13,1.13l1.13,-1.13l-1.13,-1.13l1.13,-1.13l-1.13,-1.13l-1.13,1.13l-1.13,-1.13l-1.13,1.13l1.13,1.13l-1.13,1.13l1.13,1.13Z\" style=\"opacity: 1; stroke-width: 0px; fill: rgb(0, 0, 255); fill-opacity: 1;\"/><path class=\"point\" transform=\"translate(256,9.58)\" d=\"M0,1.13l1.13,1.13l1.13,-1.13l-1.13,-1.13l1.13,-1.13l-1.13,-1.13l-1.13,1.13l-1.13,-1.13l-1.13,1.13l1.13,1.13l-1.13,1.13l1.13,1.13Z\" style=\"opacity: 1; stroke-width: 0px; fill: rgb(0, 0, 255); fill-opacity: 1;\"/><path class=\"point\" transform=\"translate(258.8,10.22)\" d=\"M0,1.13l1.13,1.13l1.13,-1.13l-1.13,-1.13l1.13,-1.13l-1.13,-1.13l-1.13,1.13l-1.13,-1.13l-1.13,1.13l1.13,1.13l-1.13,1.13l1.13,1.13Z\" style=\"opacity: 1; stroke-width: 0px; fill: rgb(0, 0, 255); fill-opacity: 1;\"/><path class=\"point\" transform=\"translate(261.6,8.58)\" d=\"M0,1.13l1.13,1.13l1.13,-1.13l-1.13,-1.13l1.13,-1.13l-1.13,-1.13l-1.13,1.13l-1.13,-1.13l-1.13,1.13l1.13,1.13l-1.13,1.13l1.13,1.13Z\" style=\"opacity: 1; stroke-width: 0px; fill: rgb(0, 0, 255); fill-opacity: 1;\"/><path class=\"point\" transform=\"translate(264.4,12.39)\" d=\"M0,1.13l1.13,1.13l1.13,-1.13l-1.13,-1.13l1.13,-1.13l-1.13,-1.13l-1.13,1.13l-1.13,-1.13l-1.13,1.13l1.13,1.13l-1.13,1.13l1.13,1.13Z\" style=\"opacity: 1; stroke-width: 0px; fill: rgb(0, 0, 255); fill-opacity: 1;\"/><path class=\"point\" transform=\"translate(267.2,9.7)\" d=\"M0,1.13l1.13,1.13l1.13,-1.13l-1.13,-1.13l1.13,-1.13l-1.13,-1.13l-1.13,1.13l-1.13,-1.13l-1.13,1.13l1.13,1.13l-1.13,1.13l1.13,1.13Z\" style=\"opacity: 1; stroke-width: 0px; fill: rgb(0, 0, 255); fill-opacity: 1;\"/><path class=\"point\" transform=\"translate(270,10.26)\" d=\"M0,1.13l1.13,1.13l1.13,-1.13l-1.13,-1.13l1.13,-1.13l-1.13,-1.13l-1.13,1.13l-1.13,-1.13l-1.13,1.13l1.13,1.13l-1.13,1.13l1.13,1.13Z\" style=\"opacity: 1; stroke-width: 0px; fill: rgb(0, 0, 255); fill-opacity: 1;\"/><path class=\"point\" transform=\"translate(272.8,11.34)\" d=\"M0,1.13l1.13,1.13l1.13,-1.13l-1.13,-1.13l1.13,-1.13l-1.13,-1.13l-1.13,1.13l-1.13,-1.13l-1.13,1.13l1.13,1.13l-1.13,1.13l1.13,1.13Z\" style=\"opacity: 1; stroke-width: 0px; fill: rgb(0, 0, 255); fill-opacity: 1;\"/><path class=\"point\" transform=\"translate(275.59,8.78)\" d=\"M0,1.13l1.13,1.13l1.13,-1.13l-1.13,-1.13l1.13,-1.13l-1.13,-1.13l-1.13,1.13l-1.13,-1.13l-1.13,1.13l1.13,1.13l-1.13,1.13l1.13,1.13Z\" style=\"opacity: 1; stroke-width: 0px; fill: rgb(0, 0, 255); fill-opacity: 1;\"/><path class=\"point\" transform=\"translate(278.39,7.53)\" d=\"M0,1.13l1.13,1.13l1.13,-1.13l-1.13,-1.13l1.13,-1.13l-1.13,-1.13l-1.13,1.13l-1.13,-1.13l-1.13,1.13l1.13,1.13l-1.13,1.13l1.13,1.13Z\" style=\"opacity: 1; stroke-width: 0px; fill: rgb(0, 0, 255); fill-opacity: 1;\"/><path class=\"point\" transform=\"translate(281.19,30.96)\" d=\"M0,1.13l1.13,1.13l1.13,-1.13l-1.13,-1.13l1.13,-1.13l-1.13,-1.13l-1.13,1.13l-1.13,-1.13l-1.13,1.13l1.13,1.13l-1.13,1.13l1.13,1.13Z\" style=\"opacity: 1; stroke-width: 0px; fill: rgb(0, 0, 255); fill-opacity: 1;\"/><path class=\"point\" transform=\"translate(283.99,30.06)\" d=\"M0,1.13l1.13,1.13l1.13,-1.13l-1.13,-1.13l1.13,-1.13l-1.13,-1.13l-1.13,1.13l-1.13,-1.13l-1.13,1.13l1.13,1.13l-1.13,1.13l1.13,1.13Z\" style=\"opacity: 1; stroke-width: 0px; fill: rgb(0, 0, 255); fill-opacity: 1;\"/><path class=\"point\" transform=\"translate(286.79,43.13)\" d=\"M0,1.13l1.13,1.13l1.13,-1.13l-1.13,-1.13l1.13,-1.13l-1.13,-1.13l-1.13,1.13l-1.13,-1.13l-1.13,1.13l1.13,1.13l-1.13,1.13l1.13,1.13Z\" style=\"opacity: 1; stroke-width: 0px; fill: rgb(0, 0, 255); fill-opacity: 1;\"/><path class=\"point\" transform=\"translate(289.59,46.71)\" d=\"M0,1.13l1.13,1.13l1.13,-1.13l-1.13,-1.13l1.13,-1.13l-1.13,-1.13l-1.13,1.13l-1.13,-1.13l-1.13,1.13l1.13,1.13l-1.13,1.13l1.13,1.13Z\" style=\"opacity: 1; stroke-width: 0px; fill: rgb(0, 0, 255); fill-opacity: 1;\"/><path class=\"point\" transform=\"translate(292.39,53.09)\" d=\"M0,1.13l1.13,1.13l1.13,-1.13l-1.13,-1.13l1.13,-1.13l-1.13,-1.13l-1.13,1.13l-1.13,-1.13l-1.13,1.13l1.13,1.13l-1.13,1.13l1.13,1.13Z\" style=\"opacity: 1; stroke-width: 0px; fill: rgb(0, 0, 255); fill-opacity: 1;\"/><path class=\"point\" transform=\"translate(295.19,52.71)\" d=\"M0,1.13l1.13,1.13l1.13,-1.13l-1.13,-1.13l1.13,-1.13l-1.13,-1.13l-1.13,1.13l-1.13,-1.13l-1.13,1.13l1.13,1.13l-1.13,1.13l1.13,1.13Z\" style=\"opacity: 1; stroke-width: 0px; fill: rgb(0, 0, 255); fill-opacity: 1;\"/><path class=\"point\" transform=\"translate(297.99,53.82)\" d=\"M0,1.13l1.13,1.13l1.13,-1.13l-1.13,-1.13l1.13,-1.13l-1.13,-1.13l-1.13,1.13l-1.13,-1.13l-1.13,1.13l1.13,1.13l-1.13,1.13l1.13,1.13Z\" style=\"opacity: 1; stroke-width: 0px; fill: rgb(0, 0, 255); fill-opacity: 1;\"/><path class=\"point\" transform=\"translate(300.78,53.43)\" d=\"M0,1.13l1.13,1.13l1.13,-1.13l-1.13,-1.13l1.13,-1.13l-1.13,-1.13l-1.13,1.13l-1.13,-1.13l-1.13,1.13l1.13,1.13l-1.13,1.13l1.13,1.13Z\" style=\"opacity: 1; stroke-width: 0px; fill: rgb(0, 0, 255); fill-opacity: 1;\"/><path class=\"point\" transform=\"translate(303.58,53.94)\" d=\"M0,1.13l1.13,1.13l1.13,-1.13l-1.13,-1.13l1.13,-1.13l-1.13,-1.13l-1.13,1.13l-1.13,-1.13l-1.13,1.13l1.13,1.13l-1.13,1.13l1.13,1.13Z\" style=\"opacity: 1; stroke-width: 0px; fill: rgb(0, 0, 255); fill-opacity: 1;\"/><path class=\"point\" transform=\"translate(306.38,54.48)\" d=\"M0,1.13l1.13,1.13l1.13,-1.13l-1.13,-1.13l1.13,-1.13l-1.13,-1.13l-1.13,1.13l-1.13,-1.13l-1.13,1.13l1.13,1.13l-1.13,1.13l1.13,1.13Z\" style=\"opacity: 1; stroke-width: 0px; fill: rgb(0, 0, 255); fill-opacity: 1;\"/><path class=\"point\" transform=\"translate(309.18,49.31)\" d=\"M0,1.13l1.13,1.13l1.13,-1.13l-1.13,-1.13l1.13,-1.13l-1.13,-1.13l-1.13,1.13l-1.13,-1.13l-1.13,1.13l1.13,1.13l-1.13,1.13l1.13,1.13Z\" style=\"opacity: 1; stroke-width: 0px; fill: rgb(0, 0, 255); fill-opacity: 1;\"/><path class=\"point\" transform=\"translate(311.98,47.55)\" d=\"M0,1.13l1.13,1.13l1.13,-1.13l-1.13,-1.13l1.13,-1.13l-1.13,-1.13l-1.13,1.13l-1.13,-1.13l-1.13,1.13l1.13,1.13l-1.13,1.13l1.13,1.13Z\" style=\"opacity: 1; stroke-width: 0px; fill: rgb(0, 0, 255); fill-opacity: 1;\"/><path class=\"point\" transform=\"translate(314.78,28.01)\" d=\"M0,1.13l1.13,1.13l1.13,-1.13l-1.13,-1.13l1.13,-1.13l-1.13,-1.13l-1.13,1.13l-1.13,-1.13l-1.13,1.13l1.13,1.13l-1.13,1.13l1.13,1.13Z\" style=\"opacity: 1; stroke-width: 0px; fill: rgb(0, 0, 255); fill-opacity: 1;\"/><path class=\"point\" transform=\"translate(317.58,15.7)\" d=\"M0,1.13l1.13,1.13l1.13,-1.13l-1.13,-1.13l1.13,-1.13l-1.13,-1.13l-1.13,1.13l-1.13,-1.13l-1.13,1.13l1.13,1.13l-1.13,1.13l1.13,1.13Z\" style=\"opacity: 1; stroke-width: 0px; fill: rgb(0, 0, 255); fill-opacity: 1;\"/><path class=\"point\" transform=\"translate(320.38,13.79)\" d=\"M0,1.13l1.13,1.13l1.13,-1.13l-1.13,-1.13l1.13,-1.13l-1.13,-1.13l-1.13,1.13l-1.13,-1.13l-1.13,1.13l1.13,1.13l-1.13,1.13l1.13,1.13Z\" style=\"opacity: 1; stroke-width: 0px; fill: rgb(0, 0, 255); fill-opacity: 1;\"/><path class=\"point\" transform=\"translate(323.17,10.76)\" d=\"M0,1.13l1.13,1.13l1.13,-1.13l-1.13,-1.13l1.13,-1.13l-1.13,-1.13l-1.13,1.13l-1.13,-1.13l-1.13,1.13l1.13,1.13l-1.13,1.13l1.13,1.13Z\" style=\"opacity: 1; stroke-width: 0px; fill: rgb(0, 0, 255); fill-opacity: 1;\"/><path class=\"point\" transform=\"translate(325.97,10.09)\" d=\"M0,1.13l1.13,1.13l1.13,-1.13l-1.13,-1.13l1.13,-1.13l-1.13,-1.13l-1.13,1.13l-1.13,-1.13l-1.13,1.13l1.13,1.13l-1.13,1.13l1.13,1.13Z\" style=\"opacity: 1; stroke-width: 0px; fill: rgb(0, 0, 255); fill-opacity: 1;\"/><path class=\"point\" transform=\"translate(328.77,9.77)\" d=\"M0,1.13l1.13,1.13l1.13,-1.13l-1.13,-1.13l1.13,-1.13l-1.13,-1.13l-1.13,1.13l-1.13,-1.13l-1.13,1.13l1.13,1.13l-1.13,1.13l1.13,1.13Z\" style=\"opacity: 1; stroke-width: 0px; fill: rgb(0, 0, 255); fill-opacity: 1;\"/><path class=\"point\" transform=\"translate(331.57,13.13)\" d=\"M0,1.13l1.13,1.13l1.13,-1.13l-1.13,-1.13l1.13,-1.13l-1.13,-1.13l-1.13,1.13l-1.13,-1.13l-1.13,1.13l1.13,1.13l-1.13,1.13l1.13,1.13Z\" style=\"opacity: 1; stroke-width: 0px; fill: rgb(0, 0, 255); fill-opacity: 1;\"/><path class=\"point\" transform=\"translate(334.37,8.69)\" d=\"M0,1.13l1.13,1.13l1.13,-1.13l-1.13,-1.13l1.13,-1.13l-1.13,-1.13l-1.13,1.13l-1.13,-1.13l-1.13,1.13l1.13,1.13l-1.13,1.13l1.13,1.13Z\" style=\"opacity: 1; stroke-width: 0px; fill: rgb(0, 0, 255); fill-opacity: 1;\"/><path class=\"point\" transform=\"translate(337.17,7.63)\" d=\"M0,1.13l1.13,1.13l1.13,-1.13l-1.13,-1.13l1.13,-1.13l-1.13,-1.13l-1.13,1.13l-1.13,-1.13l-1.13,1.13l1.13,1.13l-1.13,1.13l1.13,1.13Z\" style=\"opacity: 1; stroke-width: 0px; fill: rgb(0, 0, 255); fill-opacity: 1;\"/><path class=\"point\" transform=\"translate(339.97,8.85)\" d=\"M0,1.13l1.13,1.13l1.13,-1.13l-1.13,-1.13l1.13,-1.13l-1.13,-1.13l-1.13,1.13l-1.13,-1.13l-1.13,1.13l1.13,1.13l-1.13,1.13l1.13,1.13Z\" style=\"opacity: 1; stroke-width: 0px; fill: rgb(0, 0, 255); fill-opacity: 1;\"/><path class=\"point\" transform=\"translate(342.77,9.35)\" d=\"M0,1.13l1.13,1.13l1.13,-1.13l-1.13,-1.13l1.13,-1.13l-1.13,-1.13l-1.13,1.13l-1.13,-1.13l-1.13,1.13l1.13,1.13l-1.13,1.13l1.13,1.13Z\" style=\"opacity: 1; stroke-width: 0px; fill: rgb(0, 0, 255); fill-opacity: 1;\"/><path class=\"point\" transform=\"translate(345.56,8.33)\" d=\"M0,1.13l1.13,1.13l1.13,-1.13l-1.13,-1.13l1.13,-1.13l-1.13,-1.13l-1.13,1.13l-1.13,-1.13l-1.13,1.13l1.13,1.13l-1.13,1.13l1.13,1.13Z\" style=\"opacity: 1; stroke-width: 0px; fill: rgb(0, 0, 255); fill-opacity: 1;\"/><path class=\"point\" transform=\"translate(348.36,30.9)\" d=\"M0,1.13l1.13,1.13l1.13,-1.13l-1.13,-1.13l1.13,-1.13l-1.13,-1.13l-1.13,1.13l-1.13,-1.13l-1.13,1.13l1.13,1.13l-1.13,1.13l1.13,1.13Z\" style=\"opacity: 1; stroke-width: 0px; fill: rgb(0, 0, 255); fill-opacity: 1;\"/><path class=\"point\" transform=\"translate(351.16,30.84)\" d=\"M0,1.13l1.13,1.13l1.13,-1.13l-1.13,-1.13l1.13,-1.13l-1.13,-1.13l-1.13,1.13l-1.13,-1.13l-1.13,1.13l1.13,1.13l-1.13,1.13l1.13,1.13Z\" style=\"opacity: 1; stroke-width: 0px; fill: rgb(0, 0, 255); fill-opacity: 1;\"/><path class=\"point\" transform=\"translate(353.96,43.58)\" d=\"M0,1.13l1.13,1.13l1.13,-1.13l-1.13,-1.13l1.13,-1.13l-1.13,-1.13l-1.13,1.13l-1.13,-1.13l-1.13,1.13l1.13,1.13l-1.13,1.13l1.13,1.13Z\" style=\"opacity: 1; stroke-width: 0px; fill: rgb(0, 0, 255); fill-opacity: 1;\"/><path class=\"point\" transform=\"translate(356.76,47.41)\" d=\"M0,1.13l1.13,1.13l1.13,-1.13l-1.13,-1.13l1.13,-1.13l-1.13,-1.13l-1.13,1.13l-1.13,-1.13l-1.13,1.13l1.13,1.13l-1.13,1.13l1.13,1.13Z\" style=\"opacity: 1; stroke-width: 0px; fill: rgb(0, 0, 255); fill-opacity: 1;\"/><path class=\"point\" transform=\"translate(359.56,52.96)\" d=\"M0,1.13l1.13,1.13l1.13,-1.13l-1.13,-1.13l1.13,-1.13l-1.13,-1.13l-1.13,1.13l-1.13,-1.13l-1.13,1.13l1.13,1.13l-1.13,1.13l1.13,1.13Z\" style=\"opacity: 1; stroke-width: 0px; fill: rgb(0, 0, 255); fill-opacity: 1;\"/><path class=\"point\" transform=\"translate(362.36,52.31)\" d=\"M0,1.13l1.13,1.13l1.13,-1.13l-1.13,-1.13l1.13,-1.13l-1.13,-1.13l-1.13,1.13l-1.13,-1.13l-1.13,1.13l1.13,1.13l-1.13,1.13l1.13,1.13Z\" style=\"opacity: 1; stroke-width: 0px; fill: rgb(0, 0, 255); fill-opacity: 1;\"/><path class=\"point\" transform=\"translate(365.16,53.76)\" d=\"M0,1.13l1.13,1.13l1.13,-1.13l-1.13,-1.13l1.13,-1.13l-1.13,-1.13l-1.13,1.13l-1.13,-1.13l-1.13,1.13l1.13,1.13l-1.13,1.13l1.13,1.13Z\" style=\"opacity: 1; stroke-width: 0px; fill: rgb(0, 0, 255); fill-opacity: 1;\"/><path class=\"point\" transform=\"translate(367.96,53.81)\" d=\"M0,1.13l1.13,1.13l1.13,-1.13l-1.13,-1.13l1.13,-1.13l-1.13,-1.13l-1.13,1.13l-1.13,-1.13l-1.13,1.13l1.13,1.13l-1.13,1.13l1.13,1.13Z\" style=\"opacity: 1; stroke-width: 0px; fill: rgb(0, 0, 255); fill-opacity: 1;\"/><path class=\"point\" transform=\"translate(370.75,54.04)\" d=\"M0,1.13l1.13,1.13l1.13,-1.13l-1.13,-1.13l1.13,-1.13l-1.13,-1.13l-1.13,1.13l-1.13,-1.13l-1.13,1.13l1.13,1.13l-1.13,1.13l1.13,1.13Z\" style=\"opacity: 1; stroke-width: 0px; fill: rgb(0, 0, 255); fill-opacity: 1;\"/><path class=\"point\" transform=\"translate(373.55,54.48)\" d=\"M0,1.13l1.13,1.13l1.13,-1.13l-1.13,-1.13l1.13,-1.13l-1.13,-1.13l-1.13,1.13l-1.13,-1.13l-1.13,1.13l1.13,1.13l-1.13,1.13l1.13,1.13Z\" style=\"opacity: 1; stroke-width: 0px; fill: rgb(0, 0, 255); fill-opacity: 1;\"/><path class=\"point\" transform=\"translate(376.35,49.7)\" d=\"M0,1.13l1.13,1.13l1.13,-1.13l-1.13,-1.13l1.13,-1.13l-1.13,-1.13l-1.13,1.13l-1.13,-1.13l-1.13,1.13l1.13,1.13l-1.13,1.13l1.13,1.13Z\" style=\"opacity: 1; stroke-width: 0px; fill: rgb(0, 0, 255); fill-opacity: 1;\"/><path class=\"point\" transform=\"translate(379.15,53.22)\" d=\"M0,1.13l1.13,1.13l1.13,-1.13l-1.13,-1.13l1.13,-1.13l-1.13,-1.13l-1.13,1.13l-1.13,-1.13l-1.13,1.13l1.13,1.13l-1.13,1.13l1.13,1.13Z\" style=\"opacity: 1; stroke-width: 0px; fill: rgb(0, 0, 255); fill-opacity: 1;\"/><path class=\"point\" transform=\"translate(381.95,46.93)\" d=\"M0,1.13l1.13,1.13l1.13,-1.13l-1.13,-1.13l1.13,-1.13l-1.13,-1.13l-1.13,1.13l-1.13,-1.13l-1.13,1.13l1.13,1.13l-1.13,1.13l1.13,1.13Z\" style=\"opacity: 1; stroke-width: 0px; fill: rgb(0, 0, 255); fill-opacity: 1;\"/><path class=\"point\" transform=\"translate(384.75,38.83)\" d=\"M0,1.13l1.13,1.13l1.13,-1.13l-1.13,-1.13l1.13,-1.13l-1.13,-1.13l-1.13,1.13l-1.13,-1.13l-1.13,1.13l1.13,1.13l-1.13,1.13l1.13,1.13Z\" style=\"opacity: 1; stroke-width: 0px; fill: rgb(0, 0, 255); fill-opacity: 1;\"/><path class=\"point\" transform=\"translate(387.55,37.8)\" d=\"M0,1.13l1.13,1.13l1.13,-1.13l-1.13,-1.13l1.13,-1.13l-1.13,-1.13l-1.13,1.13l-1.13,-1.13l-1.13,1.13l1.13,1.13l-1.13,1.13l1.13,1.13Z\" style=\"opacity: 1; stroke-width: 0px; fill: rgb(0, 0, 255); fill-opacity: 1;\"/><path class=\"point\" transform=\"translate(390.35,26.59)\" d=\"M0,1.13l1.13,1.13l1.13,-1.13l-1.13,-1.13l1.13,-1.13l-1.13,-1.13l-1.13,1.13l-1.13,-1.13l-1.13,1.13l1.13,1.13l-1.13,1.13l1.13,1.13Z\" style=\"opacity: 1; stroke-width: 0px; fill: rgb(0, 0, 255); fill-opacity: 1;\"/><path class=\"point\" transform=\"translate(393.14,26.27)\" d=\"M0,1.13l1.13,1.13l1.13,-1.13l-1.13,-1.13l1.13,-1.13l-1.13,-1.13l-1.13,1.13l-1.13,-1.13l-1.13,1.13l1.13,1.13l-1.13,1.13l1.13,1.13Z\" style=\"opacity: 1; stroke-width: 0px; fill: rgb(0, 0, 255); fill-opacity: 1;\"/><path class=\"point\" transform=\"translate(395.94,26.32)\" d=\"M0,1.13l1.13,1.13l1.13,-1.13l-1.13,-1.13l1.13,-1.13l-1.13,-1.13l-1.13,1.13l-1.13,-1.13l-1.13,1.13l1.13,1.13l-1.13,1.13l1.13,1.13Z\" style=\"opacity: 1; stroke-width: 0px; fill: rgb(0, 0, 255); fill-opacity: 1;\"/><path class=\"point\" transform=\"translate(398.74,29.35)\" d=\"M0,1.13l1.13,1.13l1.13,-1.13l-1.13,-1.13l1.13,-1.13l-1.13,-1.13l-1.13,1.13l-1.13,-1.13l-1.13,1.13l1.13,1.13l-1.13,1.13l1.13,1.13Z\" style=\"opacity: 1; stroke-width: 0px; fill: rgb(0, 0, 255); fill-opacity: 1;\"/><path class=\"point\" transform=\"translate(401.54,29.32)\" d=\"M0,1.13l1.13,1.13l1.13,-1.13l-1.13,-1.13l1.13,-1.13l-1.13,-1.13l-1.13,1.13l-1.13,-1.13l-1.13,1.13l1.13,1.13l-1.13,1.13l1.13,1.13Z\" style=\"opacity: 1; stroke-width: 0px; fill: rgb(0, 0, 255); fill-opacity: 1;\"/><path class=\"point\" transform=\"translate(404.34,29.86)\" d=\"M0,1.13l1.13,1.13l1.13,-1.13l-1.13,-1.13l1.13,-1.13l-1.13,-1.13l-1.13,1.13l-1.13,-1.13l-1.13,1.13l1.13,1.13l-1.13,1.13l1.13,1.13Z\" style=\"opacity: 1; stroke-width: 0px; fill: rgb(0, 0, 255); fill-opacity: 1;\"/><path class=\"point\" transform=\"translate(407.14,36.99)\" d=\"M0,1.13l1.13,1.13l1.13,-1.13l-1.13,-1.13l1.13,-1.13l-1.13,-1.13l-1.13,1.13l-1.13,-1.13l-1.13,1.13l1.13,1.13l-1.13,1.13l1.13,1.13Z\" style=\"opacity: 1; stroke-width: 0px; fill: rgb(0, 0, 255); fill-opacity: 1;\"/><path class=\"point\" transform=\"translate(409.94,35.56)\" d=\"M0,1.13l1.13,1.13l1.13,-1.13l-1.13,-1.13l1.13,-1.13l-1.13,-1.13l-1.13,1.13l-1.13,-1.13l-1.13,1.13l1.13,1.13l-1.13,1.13l1.13,1.13Z\" style=\"opacity: 1; stroke-width: 0px; fill: rgb(0, 0, 255); fill-opacity: 1;\"/><path class=\"point\" transform=\"translate(412.74,38)\" d=\"M0,1.13l1.13,1.13l1.13,-1.13l-1.13,-1.13l1.13,-1.13l-1.13,-1.13l-1.13,1.13l-1.13,-1.13l-1.13,1.13l1.13,1.13l-1.13,1.13l1.13,1.13Z\" style=\"opacity: 1; stroke-width: 0px; fill: rgb(0, 0, 255); fill-opacity: 1;\"/><path class=\"point\" transform=\"translate(415.53,41.58)\" d=\"M0,1.13l1.13,1.13l1.13,-1.13l-1.13,-1.13l1.13,-1.13l-1.13,-1.13l-1.13,1.13l-1.13,-1.13l-1.13,1.13l1.13,1.13l-1.13,1.13l1.13,1.13Z\" style=\"opacity: 1; stroke-width: 0px; fill: rgb(0, 0, 255); fill-opacity: 1;\"/><path class=\"point\" transform=\"translate(418.33,41.95)\" d=\"M0,1.13l1.13,1.13l1.13,-1.13l-1.13,-1.13l1.13,-1.13l-1.13,-1.13l-1.13,1.13l-1.13,-1.13l-1.13,1.13l1.13,1.13l-1.13,1.13l1.13,1.13Z\" style=\"opacity: 1; stroke-width: 0px; fill: rgb(0, 0, 255); fill-opacity: 1;\"/><path class=\"point\" transform=\"translate(421.13,51.77)\" d=\"M0,1.13l1.13,1.13l1.13,-1.13l-1.13,-1.13l1.13,-1.13l-1.13,-1.13l-1.13,1.13l-1.13,-1.13l-1.13,1.13l1.13,1.13l-1.13,1.13l1.13,1.13Z\" style=\"opacity: 1; stroke-width: 0px; fill: rgb(0, 0, 255); fill-opacity: 1;\"/><path class=\"point\" transform=\"translate(423.93,52.34)\" d=\"M0,1.13l1.13,1.13l1.13,-1.13l-1.13,-1.13l1.13,-1.13l-1.13,-1.13l-1.13,1.13l-1.13,-1.13l-1.13,1.13l1.13,1.13l-1.13,1.13l1.13,1.13Z\" style=\"opacity: 1; stroke-width: 0px; fill: rgb(0, 0, 255); fill-opacity: 1;\"/><path class=\"point\" transform=\"translate(426.73,53.48)\" d=\"M0,1.13l1.13,1.13l1.13,-1.13l-1.13,-1.13l1.13,-1.13l-1.13,-1.13l-1.13,1.13l-1.13,-1.13l-1.13,1.13l1.13,1.13l-1.13,1.13l1.13,1.13Z\" style=\"opacity: 1; stroke-width: 0px; fill: rgb(0, 0, 255); fill-opacity: 1;\"/><path class=\"point\" transform=\"translate(429.53,52.73)\" d=\"M0,1.13l1.13,1.13l1.13,-1.13l-1.13,-1.13l1.13,-1.13l-1.13,-1.13l-1.13,1.13l-1.13,-1.13l-1.13,1.13l1.13,1.13l-1.13,1.13l1.13,1.13Z\" style=\"opacity: 1; stroke-width: 0px; fill: rgb(0, 0, 255); fill-opacity: 1;\"/><path class=\"point\" transform=\"translate(432.33,54.04)\" d=\"M0,1.13l1.13,1.13l1.13,-1.13l-1.13,-1.13l1.13,-1.13l-1.13,-1.13l-1.13,1.13l-1.13,-1.13l-1.13,1.13l1.13,1.13l-1.13,1.13l1.13,1.13Z\" style=\"opacity: 1; stroke-width: 0px; fill: rgb(0, 0, 255); fill-opacity: 1;\"/><path class=\"point\" transform=\"translate(435.13,55.12)\" d=\"M0,1.13l1.13,1.13l1.13,-1.13l-1.13,-1.13l1.13,-1.13l-1.13,-1.13l-1.13,1.13l-1.13,-1.13l-1.13,1.13l1.13,1.13l-1.13,1.13l1.13,1.13Z\" style=\"opacity: 1; stroke-width: 0px; fill: rgb(0, 0, 255); fill-opacity: 1;\"/><path class=\"point\" transform=\"translate(437.93,55.27)\" d=\"M0,1.13l1.13,1.13l1.13,-1.13l-1.13,-1.13l1.13,-1.13l-1.13,-1.13l-1.13,1.13l-1.13,-1.13l-1.13,1.13l1.13,1.13l-1.13,1.13l1.13,1.13Z\" style=\"opacity: 1; stroke-width: 0px; fill: rgb(0, 0, 255); fill-opacity: 1;\"/><path class=\"point\" transform=\"translate(440.72,55.62)\" d=\"M0,1.13l1.13,1.13l1.13,-1.13l-1.13,-1.13l1.13,-1.13l-1.13,-1.13l-1.13,1.13l-1.13,-1.13l-1.13,1.13l1.13,1.13l-1.13,1.13l1.13,1.13Z\" style=\"opacity: 1; stroke-width: 0px; fill: rgb(0, 0, 255); fill-opacity: 1;\"/><path class=\"point\" transform=\"translate(443.52,54.03)\" d=\"M0,1.13l1.13,1.13l1.13,-1.13l-1.13,-1.13l1.13,-1.13l-1.13,-1.13l-1.13,1.13l-1.13,-1.13l-1.13,1.13l1.13,1.13l-1.13,1.13l1.13,1.13Z\" style=\"opacity: 1; stroke-width: 0px; fill: rgb(0, 0, 255); fill-opacity: 1;\"/><path class=\"point\" transform=\"translate(446.32,54.6)\" d=\"M0,1.13l1.13,1.13l1.13,-1.13l-1.13,-1.13l1.13,-1.13l-1.13,-1.13l-1.13,1.13l-1.13,-1.13l-1.13,1.13l1.13,1.13l-1.13,1.13l1.13,1.13Z\" style=\"opacity: 1; stroke-width: 0px; fill: rgb(0, 0, 255); fill-opacity: 1;\"/><path class=\"point\" transform=\"translate(449.12,48.45)\" d=\"M0,1.13l1.13,1.13l1.13,-1.13l-1.13,-1.13l1.13,-1.13l-1.13,-1.13l-1.13,1.13l-1.13,-1.13l-1.13,1.13l1.13,1.13l-1.13,1.13l1.13,1.13Z\" style=\"opacity: 1; stroke-width: 0px; fill: rgb(0, 0, 255); fill-opacity: 1;\"/><path class=\"point\" transform=\"translate(451.92,48.53)\" d=\"M0,1.13l1.13,1.13l1.13,-1.13l-1.13,-1.13l1.13,-1.13l-1.13,-1.13l-1.13,1.13l-1.13,-1.13l-1.13,1.13l1.13,1.13l-1.13,1.13l1.13,1.13Z\" style=\"opacity: 1; stroke-width: 0px; fill: rgb(0, 0, 255); fill-opacity: 1;\"/><path class=\"point\" transform=\"translate(454.72,41.92)\" d=\"M0,1.13l1.13,1.13l1.13,-1.13l-1.13,-1.13l1.13,-1.13l-1.13,-1.13l-1.13,1.13l-1.13,-1.13l-1.13,1.13l1.13,1.13l-1.13,1.13l1.13,1.13Z\" style=\"opacity: 1; stroke-width: 0px; fill: rgb(0, 0, 255); fill-opacity: 1;\"/><path class=\"point\" transform=\"translate(457.52,41.88)\" d=\"M0,1.13l1.13,1.13l1.13,-1.13l-1.13,-1.13l1.13,-1.13l-1.13,-1.13l-1.13,1.13l-1.13,-1.13l-1.13,1.13l1.13,1.13l-1.13,1.13l1.13,1.13Z\" style=\"opacity: 1; stroke-width: 0px; fill: rgb(0, 0, 255); fill-opacity: 1;\"/><path class=\"point\" transform=\"translate(460.32,41.7)\" d=\"M0,1.13l1.13,1.13l1.13,-1.13l-1.13,-1.13l1.13,-1.13l-1.13,-1.13l-1.13,1.13l-1.13,-1.13l-1.13,1.13l1.13,1.13l-1.13,1.13l1.13,1.13Z\" style=\"opacity: 1; stroke-width: 0px; fill: rgb(0, 0, 255); fill-opacity: 1;\"/><path class=\"point\" transform=\"translate(463.11,41.28)\" d=\"M0,1.13l1.13,1.13l1.13,-1.13l-1.13,-1.13l1.13,-1.13l-1.13,-1.13l-1.13,1.13l-1.13,-1.13l-1.13,1.13l1.13,1.13l-1.13,1.13l1.13,1.13Z\" style=\"opacity: 1; stroke-width: 0px; fill: rgb(0, 0, 255); fill-opacity: 1;\"/><path class=\"point\" transform=\"translate(465.91,41.84)\" d=\"M0,1.13l1.13,1.13l1.13,-1.13l-1.13,-1.13l1.13,-1.13l-1.13,-1.13l-1.13,1.13l-1.13,-1.13l-1.13,1.13l1.13,1.13l-1.13,1.13l1.13,1.13Z\" style=\"opacity: 1; stroke-width: 0px; fill: rgb(0, 0, 255); fill-opacity: 1;\"/><path class=\"point\" transform=\"translate(468.71,41.49)\" d=\"M0,1.13l1.13,1.13l1.13,-1.13l-1.13,-1.13l1.13,-1.13l-1.13,-1.13l-1.13,1.13l-1.13,-1.13l-1.13,1.13l1.13,1.13l-1.13,1.13l1.13,1.13Z\" style=\"opacity: 1; stroke-width: 0px; fill: rgb(0, 0, 255); fill-opacity: 1;\"/><path class=\"point\" transform=\"translate(471.51,41.48)\" d=\"M0,1.13l1.13,1.13l1.13,-1.13l-1.13,-1.13l1.13,-1.13l-1.13,-1.13l-1.13,1.13l-1.13,-1.13l-1.13,1.13l1.13,1.13l-1.13,1.13l1.13,1.13Z\" style=\"opacity: 1; stroke-width: 0px; fill: rgb(0, 0, 255); fill-opacity: 1;\"/><path class=\"point\" transform=\"translate(474.31,42.31)\" d=\"M0,1.13l1.13,1.13l1.13,-1.13l-1.13,-1.13l1.13,-1.13l-1.13,-1.13l-1.13,1.13l-1.13,-1.13l-1.13,1.13l1.13,1.13l-1.13,1.13l1.13,1.13Z\" style=\"opacity: 1; stroke-width: 0px; fill: rgb(0, 0, 255); fill-opacity: 1;\"/><path class=\"point\" transform=\"translate(477.11,42.72)\" d=\"M0,1.13l1.13,1.13l1.13,-1.13l-1.13,-1.13l1.13,-1.13l-1.13,-1.13l-1.13,1.13l-1.13,-1.13l-1.13,1.13l1.13,1.13l-1.13,1.13l1.13,1.13Z\" style=\"opacity: 1; stroke-width: 0px; fill: rgb(0, 0, 255); fill-opacity: 1;\"/><path class=\"point\" transform=\"translate(479.91,46.9)\" d=\"M0,1.13l1.13,1.13l1.13,-1.13l-1.13,-1.13l1.13,-1.13l-1.13,-1.13l-1.13,1.13l-1.13,-1.13l-1.13,1.13l1.13,1.13l-1.13,1.13l1.13,1.13Z\" style=\"opacity: 1; stroke-width: 0px; fill: rgb(0, 0, 255); fill-opacity: 1;\"/><path class=\"point\" transform=\"translate(482.71,49.21)\" d=\"M0,1.13l1.13,1.13l1.13,-1.13l-1.13,-1.13l1.13,-1.13l-1.13,-1.13l-1.13,1.13l-1.13,-1.13l-1.13,1.13l1.13,1.13l-1.13,1.13l1.13,1.13Z\" style=\"opacity: 1; stroke-width: 0px; fill: rgb(0, 0, 255); fill-opacity: 1;\"/><path class=\"point\" transform=\"translate(485.5,49.8)\" d=\"M0,1.13l1.13,1.13l1.13,-1.13l-1.13,-1.13l1.13,-1.13l-1.13,-1.13l-1.13,1.13l-1.13,-1.13l-1.13,1.13l1.13,1.13l-1.13,1.13l1.13,1.13Z\" style=\"opacity: 1; stroke-width: 0px; fill: rgb(0, 0, 255); fill-opacity: 1;\"/><path class=\"point\" transform=\"translate(488.3,52.98)\" d=\"M0,1.13l1.13,1.13l1.13,-1.13l-1.13,-1.13l1.13,-1.13l-1.13,-1.13l-1.13,1.13l-1.13,-1.13l-1.13,1.13l1.13,1.13l-1.13,1.13l1.13,1.13Z\" style=\"opacity: 1; stroke-width: 0px; fill: rgb(0, 0, 255); fill-opacity: 1;\"/><path class=\"point\" transform=\"translate(491.1,52.55)\" d=\"M0,1.13l1.13,1.13l1.13,-1.13l-1.13,-1.13l1.13,-1.13l-1.13,-1.13l-1.13,1.13l-1.13,-1.13l-1.13,1.13l1.13,1.13l-1.13,1.13l1.13,1.13Z\" style=\"opacity: 1; stroke-width: 0px; fill: rgb(0, 0, 255); fill-opacity: 1;\"/><path class=\"point\" transform=\"translate(493.9,52.91)\" d=\"M0,1.13l1.13,1.13l1.13,-1.13l-1.13,-1.13l1.13,-1.13l-1.13,-1.13l-1.13,1.13l-1.13,-1.13l-1.13,1.13l1.13,1.13l-1.13,1.13l1.13,1.13Z\" style=\"opacity: 1; stroke-width: 0px; fill: rgb(0, 0, 255); fill-opacity: 1;\"/><path class=\"point\" transform=\"translate(496.7,52.86)\" d=\"M0,1.13l1.13,1.13l1.13,-1.13l-1.13,-1.13l1.13,-1.13l-1.13,-1.13l-1.13,1.13l-1.13,-1.13l-1.13,1.13l1.13,1.13l-1.13,1.13l1.13,1.13Z\" style=\"opacity: 1; stroke-width: 0px; fill: rgb(0, 0, 255); fill-opacity: 1;\"/></g><g class=\"text\"/></g><g class=\"trace scatter traceddc3ab\" style=\"stroke-miterlimit: 2; opacity: 1;\"><g class=\"fills\"/><g class=\"errorbars\"/><g class=\"lines\"/><g class=\"points\"><path class=\"point\" transform=\"translate(29.3,52.08)\" d=\"M2,0A2,2 0 1,1 0,-2A2,2 0 0,1 2,0Z\" style=\"opacity: 1; stroke-width: 0px; fill: rgb(0, 0, 0); fill-opacity: 1;\"/><path class=\"point\" transform=\"translate(32.1,51.9)\" d=\"M2,0A2,2 0 1,1 0,-2A2,2 0 0,1 2,0Z\" style=\"opacity: 1; stroke-width: 0px; fill: rgb(0, 0, 0); fill-opacity: 1;\"/><path class=\"point\" transform=\"translate(34.9,51.8)\" d=\"M2,0A2,2 0 1,1 0,-2A2,2 0 0,1 2,0Z\" style=\"opacity: 1; stroke-width: 0px; fill: rgb(0, 0, 0); fill-opacity: 1;\"/><path class=\"point\" transform=\"translate(37.7,51.76)\" d=\"M2,0A2,2 0 1,1 0,-2A2,2 0 0,1 2,0Z\" style=\"opacity: 1; stroke-width: 0px; fill: rgb(0, 0, 0); fill-opacity: 1;\"/><path class=\"point\" transform=\"translate(40.5,51.58)\" d=\"M2,0A2,2 0 1,1 0,-2A2,2 0 0,1 2,0Z\" style=\"opacity: 1; stroke-width: 0px; fill: rgb(0, 0, 0); fill-opacity: 1;\"/><path class=\"point\" transform=\"translate(43.29,51.1)\" d=\"M2,0A2,2 0 1,1 0,-2A2,2 0 0,1 2,0Z\" style=\"opacity: 1; stroke-width: 0px; fill: rgb(0, 0, 0); fill-opacity: 1;\"/><path class=\"point\" transform=\"translate(46.09,45.12)\" d=\"M2,0A2,2 0 1,1 0,-2A2,2 0 0,1 2,0Z\" style=\"opacity: 1; stroke-width: 0px; fill: rgb(0, 0, 0); fill-opacity: 1;\"/><path class=\"point\" transform=\"translate(48.89,46.05)\" d=\"M2,0A2,2 0 1,1 0,-2A2,2 0 0,1 2,0Z\" style=\"opacity: 1; stroke-width: 0px; fill: rgb(0, 0, 0); fill-opacity: 1;\"/><path class=\"point\" transform=\"translate(51.69,39.32)\" d=\"M2,0A2,2 0 1,1 0,-2A2,2 0 0,1 2,0Z\" style=\"opacity: 1; stroke-width: 0px; fill: rgb(0, 0, 0); fill-opacity: 1;\"/><path class=\"point\" transform=\"translate(54.49,39.91)\" d=\"M2,0A2,2 0 1,1 0,-2A2,2 0 0,1 2,0Z\" style=\"opacity: 1; stroke-width: 0px; fill: rgb(0, 0, 0); fill-opacity: 1;\"/><path class=\"point\" transform=\"translate(57.29,39.38)\" d=\"M2,0A2,2 0 1,1 0,-2A2,2 0 0,1 2,0Z\" style=\"opacity: 1; stroke-width: 0px; fill: rgb(0, 0, 0); fill-opacity: 1;\"/><path class=\"point\" transform=\"translate(60.09,39.04)\" d=\"M2,0A2,2 0 1,1 0,-2A2,2 0 0,1 2,0Z\" style=\"opacity: 1; stroke-width: 0px; fill: rgb(0, 0, 0); fill-opacity: 1;\"/><path class=\"point\" transform=\"translate(62.89,39.2)\" d=\"M2,0A2,2 0 1,1 0,-2A2,2 0 0,1 2,0Z\" style=\"opacity: 1; stroke-width: 0px; fill: rgb(0, 0, 0); fill-opacity: 1;\"/><path class=\"point\" transform=\"translate(65.68,40.05)\" d=\"M2,0A2,2 0 1,1 0,-2A2,2 0 0,1 2,0Z\" style=\"opacity: 1; stroke-width: 0px; fill: rgb(0, 0, 0); fill-opacity: 1;\"/><path class=\"point\" transform=\"translate(68.48,40.39)\" d=\"M2,0A2,2 0 1,1 0,-2A2,2 0 0,1 2,0Z\" style=\"opacity: 1; stroke-width: 0px; fill: rgb(0, 0, 0); fill-opacity: 1;\"/><path class=\"point\" transform=\"translate(71.28,40.19)\" d=\"M2,0A2,2 0 1,1 0,-2A2,2 0 0,1 2,0Z\" style=\"opacity: 1; stroke-width: 0px; fill: rgb(0, 0, 0); fill-opacity: 1;\"/><path class=\"point\" transform=\"translate(74.08,42.18)\" d=\"M2,0A2,2 0 1,1 0,-2A2,2 0 0,1 2,0Z\" style=\"opacity: 1; stroke-width: 0px; fill: rgb(0, 0, 0); fill-opacity: 1;\"/><path class=\"point\" transform=\"translate(76.88,46.78)\" d=\"M2,0A2,2 0 1,1 0,-2A2,2 0 0,1 2,0Z\" style=\"opacity: 1; stroke-width: 0px; fill: rgb(0, 0, 0); fill-opacity: 1;\"/><path class=\"point\" transform=\"translate(79.68,48.38)\" d=\"M2,0A2,2 0 1,1 0,-2A2,2 0 0,1 2,0Z\" style=\"opacity: 1; stroke-width: 0px; fill: rgb(0, 0, 0); fill-opacity: 1;\"/><path class=\"point\" transform=\"translate(82.48,47.93)\" d=\"M2,0A2,2 0 1,1 0,-2A2,2 0 0,1 2,0Z\" style=\"opacity: 1; stroke-width: 0px; fill: rgb(0, 0, 0); fill-opacity: 1;\"/><path class=\"point\" transform=\"translate(85.28,50.89)\" d=\"M2,0A2,2 0 1,1 0,-2A2,2 0 0,1 2,0Z\" style=\"opacity: 1; stroke-width: 0px; fill: rgb(0, 0, 0); fill-opacity: 1;\"/><path class=\"point\" transform=\"translate(88.07,50.31)\" d=\"M2,0A2,2 0 1,1 0,-2A2,2 0 0,1 2,0Z\" style=\"opacity: 1; stroke-width: 0px; fill: rgb(0, 0, 0); fill-opacity: 1;\"/><path class=\"point\" transform=\"translate(90.87,50.66)\" d=\"M2,0A2,2 0 1,1 0,-2A2,2 0 0,1 2,0Z\" style=\"opacity: 1; stroke-width: 0px; fill: rgb(0, 0, 0); fill-opacity: 1;\"/><path class=\"point\" transform=\"translate(93.67,50.59)\" d=\"M2,0A2,2 0 1,1 0,-2A2,2 0 0,1 2,0Z\" style=\"opacity: 1; stroke-width: 0px; fill: rgb(0, 0, 0); fill-opacity: 1;\"/><path class=\"point\" transform=\"translate(96.47,51.9)\" d=\"M2,0A2,2 0 1,1 0,-2A2,2 0 0,1 2,0Z\" style=\"opacity: 1; stroke-width: 0px; fill: rgb(0, 0, 0); fill-opacity: 1;\"/><path class=\"point\" transform=\"translate(99.27,52.07)\" d=\"M2,0A2,2 0 1,1 0,-2A2,2 0 0,1 2,0Z\" style=\"opacity: 1; stroke-width: 0px; fill: rgb(0, 0, 0); fill-opacity: 1;\"/><path class=\"point\" transform=\"translate(102.07,52.28)\" d=\"M2,0A2,2 0 1,1 0,-2A2,2 0 0,1 2,0Z\" style=\"opacity: 1; stroke-width: 0px; fill: rgb(0, 0, 0); fill-opacity: 1;\"/><path class=\"point\" transform=\"translate(104.87,53.03)\" d=\"M2,0A2,2 0 1,1 0,-2A2,2 0 0,1 2,0Z\" style=\"opacity: 1; stroke-width: 0px; fill: rgb(0, 0, 0); fill-opacity: 1;\"/><path class=\"point\" transform=\"translate(107.67,46.08)\" d=\"M2,0A2,2 0 1,1 0,-2A2,2 0 0,1 2,0Z\" style=\"opacity: 1; stroke-width: 0px; fill: rgb(0, 0, 0); fill-opacity: 1;\"/><path class=\"point\" transform=\"translate(110.47,46.17)\" d=\"M2,0A2,2 0 1,1 0,-2A2,2 0 0,1 2,0Z\" style=\"opacity: 1; stroke-width: 0px; fill: rgb(0, 0, 0); fill-opacity: 1;\"/><path class=\"point\" transform=\"translate(113.26,26.72)\" d=\"M2,0A2,2 0 1,1 0,-2A2,2 0 0,1 2,0Z\" style=\"opacity: 1; stroke-width: 0px; fill: rgb(0, 0, 0); fill-opacity: 1;\"/><path class=\"point\" transform=\"translate(116.06,17.31)\" d=\"M2,0A2,2 0 1,1 0,-2A2,2 0 0,1 2,0Z\" style=\"opacity: 1; stroke-width: 0px; fill: rgb(0, 0, 0); fill-opacity: 1;\"/><path class=\"point\" transform=\"translate(118.86,14.4)\" d=\"M2,0A2,2 0 1,1 0,-2A2,2 0 0,1 2,0Z\" style=\"opacity: 1; stroke-width: 0px; fill: rgb(0, 0, 0); fill-opacity: 1;\"/><path class=\"point\" transform=\"translate(121.66,10.89)\" d=\"M2,0A2,2 0 1,1 0,-2A2,2 0 0,1 2,0Z\" style=\"opacity: 1; stroke-width: 0px; fill: rgb(0, 0, 0); fill-opacity: 1;\"/><path class=\"point\" transform=\"translate(124.46,9.38)\" d=\"M2,0A2,2 0 1,1 0,-2A2,2 0 0,1 2,0Z\" style=\"opacity: 1; stroke-width: 0px; fill: rgb(0, 0, 0); fill-opacity: 1;\"/><path class=\"point\" transform=\"translate(127.26,8.24)\" d=\"M2,0A2,2 0 1,1 0,-2A2,2 0 0,1 2,0Z\" style=\"opacity: 1; stroke-width: 0px; fill: rgb(0, 0, 0); fill-opacity: 1;\"/><path class=\"point\" transform=\"translate(130.06,11.35)\" d=\"M2,0A2,2 0 1,1 0,-2A2,2 0 0,1 2,0Z\" style=\"opacity: 1; stroke-width: 0px; fill: rgb(0, 0, 0); fill-opacity: 1;\"/><path class=\"point\" transform=\"translate(132.86,7.51)\" d=\"M2,0A2,2 0 1,1 0,-2A2,2 0 0,1 2,0Z\" style=\"opacity: 1; stroke-width: 0px; fill: rgb(0, 0, 0); fill-opacity: 1;\"/><path class=\"point\" transform=\"translate(135.65,6.65)\" d=\"M2,0A2,2 0 1,1 0,-2A2,2 0 0,1 2,0Z\" style=\"opacity: 1; stroke-width: 0px; fill: rgb(0, 0, 0); fill-opacity: 1;\"/><path class=\"point\" transform=\"translate(138.45,7.31)\" d=\"M2,0A2,2 0 1,1 0,-2A2,2 0 0,1 2,0Z\" style=\"opacity: 1; stroke-width: 0px; fill: rgb(0, 0, 0); fill-opacity: 1;\"/><path class=\"point\" transform=\"translate(141.25,7.75)\" d=\"M2,0A2,2 0 1,1 0,-2A2,2 0 0,1 2,0Z\" style=\"opacity: 1; stroke-width: 0px; fill: rgb(0, 0, 0); fill-opacity: 1;\"/><path class=\"point\" transform=\"translate(144.05,6.38)\" d=\"M2,0A2,2 0 1,1 0,-2A2,2 0 0,1 2,0Z\" style=\"opacity: 1; stroke-width: 0px; fill: rgb(0, 0, 0); fill-opacity: 1;\"/><path class=\"point\" transform=\"translate(146.85,31.39)\" d=\"M2,0A2,2 0 1,1 0,-2A2,2 0 0,1 2,0Z\" style=\"opacity: 1; stroke-width: 0px; fill: rgb(0, 0, 0); fill-opacity: 1;\"/><path class=\"point\" transform=\"translate(149.65,31.64)\" d=\"M2,0A2,2 0 1,1 0,-2A2,2 0 0,1 2,0Z\" style=\"opacity: 1; stroke-width: 0px; fill: rgb(0, 0, 0); fill-opacity: 1;\"/><path class=\"point\" transform=\"translate(152.45,41.95)\" d=\"M2,0A2,2 0 1,1 0,-2A2,2 0 0,1 2,0Z\" style=\"opacity: 1; stroke-width: 0px; fill: rgb(0, 0, 0); fill-opacity: 1;\"/><path class=\"point\" transform=\"translate(155.25,45.5)\" d=\"M2,0A2,2 0 1,1 0,-2A2,2 0 0,1 2,0Z\" style=\"opacity: 1; stroke-width: 0px; fill: rgb(0, 0, 0); fill-opacity: 1;\"/><path class=\"point\" transform=\"translate(158.04,51.74)\" d=\"M2,0A2,2 0 1,1 0,-2A2,2 0 0,1 2,0Z\" style=\"opacity: 1; stroke-width: 0px; fill: rgb(0, 0, 0); fill-opacity: 1;\"/><path class=\"point\" transform=\"translate(160.84,52.08)\" d=\"M2,0A2,2 0 1,1 0,-2A2,2 0 0,1 2,0Z\" style=\"opacity: 1; stroke-width: 0px; fill: rgb(0, 0, 0); fill-opacity: 1;\"/><path class=\"point\" transform=\"translate(163.64,53.29)\" d=\"M2,0A2,2 0 1,1 0,-2A2,2 0 0,1 2,0Z\" style=\"opacity: 1; stroke-width: 0px; fill: rgb(0, 0, 0); fill-opacity: 1;\"/><path class=\"point\" transform=\"translate(166.44,53.33)\" d=\"M2,0A2,2 0 1,1 0,-2A2,2 0 0,1 2,0Z\" style=\"opacity: 1; stroke-width: 0px; fill: rgb(0, 0, 0); fill-opacity: 1;\"/><path class=\"point\" transform=\"translate(169.24,53.84)\" d=\"M2,0A2,2 0 1,1 0,-2A2,2 0 0,1 2,0Z\" style=\"opacity: 1; stroke-width: 0px; fill: rgb(0, 0, 0); fill-opacity: 1;\"/><path class=\"point\" transform=\"translate(172.04,54.46)\" d=\"M2,0A2,2 0 1,1 0,-2A2,2 0 0,1 2,0Z\" style=\"opacity: 1; stroke-width: 0px; fill: rgb(0, 0, 0); fill-opacity: 1;\"/><path class=\"point\" transform=\"translate(174.84,46.55)\" d=\"M2,0A2,2 0 1,1 0,-2A2,2 0 0,1 2,0Z\" style=\"opacity: 1; stroke-width: 0px; fill: rgb(0, 0, 0); fill-opacity: 1;\"/><path class=\"point\" transform=\"translate(177.64,46.66)\" d=\"M2,0A2,2 0 1,1 0,-2A2,2 0 0,1 2,0Z\" style=\"opacity: 1; stroke-width: 0px; fill: rgb(0, 0, 0); fill-opacity: 1;\"/><path class=\"point\" transform=\"translate(180.44,27.57)\" d=\"M2,0A2,2 0 1,1 0,-2A2,2 0 0,1 2,0Z\" style=\"opacity: 1; stroke-width: 0px; fill: rgb(0, 0, 0); fill-opacity: 1;\"/><path class=\"point\" transform=\"translate(183.23,17.28)\" d=\"M2,0A2,2 0 1,1 0,-2A2,2 0 0,1 2,0Z\" style=\"opacity: 1; stroke-width: 0px; fill: rgb(0, 0, 0); fill-opacity: 1;\"/><path class=\"point\" transform=\"translate(186.03,14.26)\" d=\"M2,0A2,2 0 1,1 0,-2A2,2 0 0,1 2,0Z\" style=\"opacity: 1; stroke-width: 0px; fill: rgb(0, 0, 0); fill-opacity: 1;\"/><path class=\"point\" transform=\"translate(188.83,11.35)\" d=\"M2,0A2,2 0 1,1 0,-2A2,2 0 0,1 2,0Z\" style=\"opacity: 1; stroke-width: 0px; fill: rgb(0, 0, 0); fill-opacity: 1;\"/><path class=\"point\" transform=\"translate(191.63,10.3)\" d=\"M2,0A2,2 0 1,1 0,-2A2,2 0 0,1 2,0Z\" style=\"opacity: 1; stroke-width: 0px; fill: rgb(0, 0, 0); fill-opacity: 1;\"/><path class=\"point\" transform=\"translate(194.43,9.95)\" d=\"M2,0A2,2 0 1,1 0,-2A2,2 0 0,1 2,0Z\" style=\"opacity: 1; stroke-width: 0px; fill: rgb(0, 0, 0); fill-opacity: 1;\"/><path class=\"point\" transform=\"translate(197.23,13.09)\" d=\"M2,0A2,2 0 1,1 0,-2A2,2 0 0,1 2,0Z\" style=\"opacity: 1; stroke-width: 0px; fill: rgb(0, 0, 0); fill-opacity: 1;\"/><path class=\"point\" transform=\"translate(200.03,10.29)\" d=\"M2,0A2,2 0 1,1 0,-2A2,2 0 0,1 2,0Z\" style=\"opacity: 1; stroke-width: 0px; fill: rgb(0, 0, 0); fill-opacity: 1;\"/><path class=\"point\" transform=\"translate(202.83,10.26)\" d=\"M2,0A2,2 0 1,1 0,-2A2,2 0 0,1 2,0Z\" style=\"opacity: 1; stroke-width: 0px; fill: rgb(0, 0, 0); fill-opacity: 1;\"/><path class=\"point\" transform=\"translate(205.62,9.51)\" d=\"M2,0A2,2 0 1,1 0,-2A2,2 0 0,1 2,0Z\" style=\"opacity: 1; stroke-width: 0px; fill: rgb(0, 0, 0); fill-opacity: 1;\"/><path class=\"point\" transform=\"translate(208.42,7.25)\" d=\"M2,0A2,2 0 1,1 0,-2A2,2 0 0,1 2,0Z\" style=\"opacity: 1; stroke-width: 0px; fill: rgb(0, 0, 0); fill-opacity: 1;\"/><path class=\"point\" transform=\"translate(211.22,7.34)\" d=\"M2,0A2,2 0 1,1 0,-2A2,2 0 0,1 2,0Z\" style=\"opacity: 1; stroke-width: 0px; fill: rgb(0, 0, 0); fill-opacity: 1;\"/><path class=\"point\" transform=\"translate(214.02,31.27)\" d=\"M2,0A2,2 0 1,1 0,-2A2,2 0 0,1 2,0Z\" style=\"opacity: 1; stroke-width: 0px; fill: rgb(0, 0, 0); fill-opacity: 1;\"/><path class=\"point\" transform=\"translate(216.82,31.51)\" d=\"M2,0A2,2 0 1,1 0,-2A2,2 0 0,1 2,0Z\" style=\"opacity: 1; stroke-width: 0px; fill: rgb(0, 0, 0); fill-opacity: 1;\"/><path class=\"point\" transform=\"translate(219.62,43.2)\" d=\"M2,0A2,2 0 1,1 0,-2A2,2 0 0,1 2,0Z\" style=\"opacity: 1; stroke-width: 0px; fill: rgb(0, 0, 0); fill-opacity: 1;\"/><path class=\"point\" transform=\"translate(222.42,46.73)\" d=\"M2,0A2,2 0 1,1 0,-2A2,2 0 0,1 2,0Z\" style=\"opacity: 1; stroke-width: 0px; fill: rgb(0, 0, 0); fill-opacity: 1;\"/><path class=\"point\" transform=\"translate(225.22,53.3)\" d=\"M2,0A2,2 0 1,1 0,-2A2,2 0 0,1 2,0Z\" style=\"opacity: 1; stroke-width: 0px; fill: rgb(0, 0, 0); fill-opacity: 1;\"/><path class=\"point\" transform=\"translate(228.01,53.17)\" d=\"M2,0A2,2 0 1,1 0,-2A2,2 0 0,1 2,0Z\" style=\"opacity: 1; stroke-width: 0px; fill: rgb(0, 0, 0); fill-opacity: 1;\"/><path class=\"point\" transform=\"translate(230.81,54.11)\" d=\"M2,0A2,2 0 1,1 0,-2A2,2 0 0,1 2,0Z\" style=\"opacity: 1; stroke-width: 0px; fill: rgb(0, 0, 0); fill-opacity: 1;\"/><path class=\"point\" transform=\"translate(233.61,54.54)\" d=\"M2,0A2,2 0 1,1 0,-2A2,2 0 0,1 2,0Z\" style=\"opacity: 1; stroke-width: 0px; fill: rgb(0, 0, 0); fill-opacity: 1;\"/><path class=\"point\" transform=\"translate(236.41,54.37)\" d=\"M2,0A2,2 0 1,1 0,-2A2,2 0 0,1 2,0Z\" style=\"opacity: 1; stroke-width: 0px; fill: rgb(0, 0, 0); fill-opacity: 1;\"/><path class=\"point\" transform=\"translate(239.21,54.95)\" d=\"M2,0A2,2 0 1,1 0,-2A2,2 0 0,1 2,0Z\" style=\"opacity: 1; stroke-width: 0px; fill: rgb(0, 0, 0); fill-opacity: 1;\"/><path class=\"point\" transform=\"translate(242.01,46.89)\" d=\"M2,0A2,2 0 1,1 0,-2A2,2 0 0,1 2,0Z\" style=\"opacity: 1; stroke-width: 0px; fill: rgb(0, 0, 0); fill-opacity: 1;\"/><path class=\"point\" transform=\"translate(244.81,46.76)\" d=\"M2,0A2,2 0 1,1 0,-2A2,2 0 0,1 2,0Z\" style=\"opacity: 1; stroke-width: 0px; fill: rgb(0, 0, 0); fill-opacity: 1;\"/><path class=\"point\" transform=\"translate(247.61,27.3)\" d=\"M2,0A2,2 0 1,1 0,-2A2,2 0 0,1 2,0Z\" style=\"opacity: 1; stroke-width: 0px; fill: rgb(0, 0, 0); fill-opacity: 1;\"/><path class=\"point\" transform=\"translate(250.41,17.07)\" d=\"M2,0A2,2 0 1,1 0,-2A2,2 0 0,1 2,0Z\" style=\"opacity: 1; stroke-width: 0px; fill: rgb(0, 0, 0); fill-opacity: 1;\"/><path class=\"point\" transform=\"translate(253.2,14.07)\" d=\"M2,0A2,2 0 1,1 0,-2A2,2 0 0,1 2,0Z\" style=\"opacity: 1; stroke-width: 0px; fill: rgb(0, 0, 0); fill-opacity: 1;\"/><path class=\"point\" transform=\"translate(256,10.13)\" d=\"M2,0A2,2 0 1,1 0,-2A2,2 0 0,1 2,0Z\" style=\"opacity: 1; stroke-width: 0px; fill: rgb(0, 0, 0); fill-opacity: 1;\"/><path class=\"point\" transform=\"translate(258.8,8.06)\" d=\"M2,0A2,2 0 1,1 0,-2A2,2 0 0,1 2,0Z\" style=\"opacity: 1; stroke-width: 0px; fill: rgb(0, 0, 0); fill-opacity: 1;\"/><path class=\"point\" transform=\"translate(261.6,8.19)\" d=\"M2,0A2,2 0 1,1 0,-2A2,2 0 0,1 2,0Z\" style=\"opacity: 1; stroke-width: 0px; fill: rgb(0, 0, 0); fill-opacity: 1;\"/><path class=\"point\" transform=\"translate(264.4,12.06)\" d=\"M2,0A2,2 0 1,1 0,-2A2,2 0 0,1 2,0Z\" style=\"opacity: 1; stroke-width: 0px; fill: rgb(0, 0, 0); fill-opacity: 1;\"/><path class=\"point\" transform=\"translate(267.2,8.88)\" d=\"M2,0A2,2 0 1,1 0,-2A2,2 0 0,1 2,0Z\" style=\"opacity: 1; stroke-width: 0px; fill: rgb(0, 0, 0); fill-opacity: 1;\"/><path class=\"point\" transform=\"translate(270,9.15)\" d=\"M2,0A2,2 0 1,1 0,-2A2,2 0 0,1 2,0Z\" style=\"opacity: 1; stroke-width: 0px; fill: rgb(0, 0, 0); fill-opacity: 1;\"/><path class=\"point\" transform=\"translate(272.8,9.52)\" d=\"M2,0A2,2 0 1,1 0,-2A2,2 0 0,1 2,0Z\" style=\"opacity: 1; stroke-width: 0px; fill: rgb(0, 0, 0); fill-opacity: 1;\"/><path class=\"point\" transform=\"translate(275.59,8.3)\" d=\"M2,0A2,2 0 1,1 0,-2A2,2 0 0,1 2,0Z\" style=\"opacity: 1; stroke-width: 0px; fill: rgb(0, 0, 0); fill-opacity: 1;\"/><path class=\"point\" transform=\"translate(278.39,6.94)\" d=\"M2,0A2,2 0 1,1 0,-2A2,2 0 0,1 2,0Z\" style=\"opacity: 1; stroke-width: 0px; fill: rgb(0, 0, 0); fill-opacity: 1;\"/><path class=\"point\" transform=\"translate(281.19,29.93)\" d=\"M2,0A2,2 0 1,1 0,-2A2,2 0 0,1 2,0Z\" style=\"opacity: 1; stroke-width: 0px; fill: rgb(0, 0, 0); fill-opacity: 1;\"/><path class=\"point\" transform=\"translate(283.99,30.53)\" d=\"M2,0A2,2 0 1,1 0,-2A2,2 0 0,1 2,0Z\" style=\"opacity: 1; stroke-width: 0px; fill: rgb(0, 0, 0); fill-opacity: 1;\"/><path class=\"point\" transform=\"translate(286.79,42.94)\" d=\"M2,0A2,2 0 1,1 0,-2A2,2 0 0,1 2,0Z\" style=\"opacity: 1; stroke-width: 0px; fill: rgb(0, 0, 0); fill-opacity: 1;\"/><path class=\"point\" transform=\"translate(289.59,47.03)\" d=\"M2,0A2,2 0 1,1 0,-2A2,2 0 0,1 2,0Z\" style=\"opacity: 1; stroke-width: 0px; fill: rgb(0, 0, 0); fill-opacity: 1;\"/><path class=\"point\" transform=\"translate(292.39,52.35)\" d=\"M2,0A2,2 0 1,1 0,-2A2,2 0 0,1 2,0Z\" style=\"opacity: 1; stroke-width: 0px; fill: rgb(0, 0, 0); fill-opacity: 1;\"/><path class=\"point\" transform=\"translate(295.19,52.72)\" d=\"M2,0A2,2 0 1,1 0,-2A2,2 0 0,1 2,0Z\" style=\"opacity: 1; stroke-width: 0px; fill: rgb(0, 0, 0); fill-opacity: 1;\"/><path class=\"point\" transform=\"translate(297.99,54.12)\" d=\"M2,0A2,2 0 1,1 0,-2A2,2 0 0,1 2,0Z\" style=\"opacity: 1; stroke-width: 0px; fill: rgb(0, 0, 0); fill-opacity: 1;\"/><path class=\"point\" transform=\"translate(300.78,54.14)\" d=\"M2,0A2,2 0 1,1 0,-2A2,2 0 0,1 2,0Z\" style=\"opacity: 1; stroke-width: 0px; fill: rgb(0, 0, 0); fill-opacity: 1;\"/><path class=\"point\" transform=\"translate(303.58,54.38)\" d=\"M2,0A2,2 0 1,1 0,-2A2,2 0 0,1 2,0Z\" style=\"opacity: 1; stroke-width: 0px; fill: rgb(0, 0, 0); fill-opacity: 1;\"/><path class=\"point\" transform=\"translate(306.38,54.81)\" d=\"M2,0A2,2 0 1,1 0,-2A2,2 0 0,1 2,0Z\" style=\"opacity: 1; stroke-width: 0px; fill: rgb(0, 0, 0); fill-opacity: 1;\"/><path class=\"point\" transform=\"translate(309.18,46.81)\" d=\"M2,0A2,2 0 1,1 0,-2A2,2 0 0,1 2,0Z\" style=\"opacity: 1; stroke-width: 0px; fill: rgb(0, 0, 0); fill-opacity: 1;\"/><path class=\"point\" transform=\"translate(311.98,46.6)\" d=\"M2,0A2,2 0 1,1 0,-2A2,2 0 0,1 2,0Z\" style=\"opacity: 1; stroke-width: 0px; fill: rgb(0, 0, 0); fill-opacity: 1;\"/><path class=\"point\" transform=\"translate(314.78,26.78)\" d=\"M2,0A2,2 0 1,1 0,-2A2,2 0 0,1 2,0Z\" style=\"opacity: 1; stroke-width: 0px; fill: rgb(0, 0, 0); fill-opacity: 1;\"/><path class=\"point\" transform=\"translate(317.58,17.2)\" d=\"M2,0A2,2 0 1,1 0,-2A2,2 0 0,1 2,0Z\" style=\"opacity: 1; stroke-width: 0px; fill: rgb(0, 0, 0); fill-opacity: 1;\"/><path class=\"point\" transform=\"translate(320.38,13.72)\" d=\"M2,0A2,2 0 1,1 0,-2A2,2 0 0,1 2,0Z\" style=\"opacity: 1; stroke-width: 0px; fill: rgb(0, 0, 0); fill-opacity: 1;\"/><path class=\"point\" transform=\"translate(323.17,10.55)\" d=\"M2,0A2,2 0 1,1 0,-2A2,2 0 0,1 2,0Z\" style=\"opacity: 1; stroke-width: 0px; fill: rgb(0, 0, 0); fill-opacity: 1;\"/><path class=\"point\" transform=\"translate(325.97,9.38)\" d=\"M2,0A2,2 0 1,1 0,-2A2,2 0 0,1 2,0Z\" style=\"opacity: 1; stroke-width: 0px; fill: rgb(0, 0, 0); fill-opacity: 1;\"/><path class=\"point\" transform=\"translate(328.77,8.9)\" d=\"M2,0A2,2 0 1,1 0,-2A2,2 0 0,1 2,0Z\" style=\"opacity: 1; stroke-width: 0px; fill: rgb(0, 0, 0); fill-opacity: 1;\"/><path class=\"point\" transform=\"translate(331.57,11.26)\" d=\"M2,0A2,2 0 1,1 0,-2A2,2 0 0,1 2,0Z\" style=\"opacity: 1; stroke-width: 0px; fill: rgb(0, 0, 0); fill-opacity: 1;\"/><path class=\"point\" transform=\"translate(334.37,7.74)\" d=\"M2,0A2,2 0 1,1 0,-2A2,2 0 0,1 2,0Z\" style=\"opacity: 1; stroke-width: 0px; fill: rgb(0, 0, 0); fill-opacity: 1;\"/><path class=\"point\" transform=\"translate(337.17,9.05)\" d=\"M2,0A2,2 0 1,1 0,-2A2,2 0 0,1 2,0Z\" style=\"opacity: 1; stroke-width: 0px; fill: rgb(0, 0, 0); fill-opacity: 1;\"/><path class=\"point\" transform=\"translate(339.97,10.2)\" d=\"M2,0A2,2 0 1,1 0,-2A2,2 0 0,1 2,0Z\" style=\"opacity: 1; stroke-width: 0px; fill: rgb(0, 0, 0); fill-opacity: 1;\"/><path class=\"point\" transform=\"translate(342.77,8.72)\" d=\"M2,0A2,2 0 1,1 0,-2A2,2 0 0,1 2,0Z\" style=\"opacity: 1; stroke-width: 0px; fill: rgb(0, 0, 0); fill-opacity: 1;\"/><path class=\"point\" transform=\"translate(345.56,6.97)\" d=\"M2,0A2,2 0 1,1 0,-2A2,2 0 0,1 2,0Z\" style=\"opacity: 1; stroke-width: 0px; fill: rgb(0, 0, 0); fill-opacity: 1;\"/><path class=\"point\" transform=\"translate(348.36,31.15)\" d=\"M2,0A2,2 0 1,1 0,-2A2,2 0 0,1 2,0Z\" style=\"opacity: 1; stroke-width: 0px; fill: rgb(0, 0, 0); fill-opacity: 1;\"/><path class=\"point\" transform=\"translate(351.16,31.92)\" d=\"M2,0A2,2 0 1,1 0,-2A2,2 0 0,1 2,0Z\" style=\"opacity: 1; stroke-width: 0px; fill: rgb(0, 0, 0); fill-opacity: 1;\"/><path class=\"point\" transform=\"translate(353.96,43.63)\" d=\"M2,0A2,2 0 1,1 0,-2A2,2 0 0,1 2,0Z\" style=\"opacity: 1; stroke-width: 0px; fill: rgb(0, 0, 0); fill-opacity: 1;\"/><path class=\"point\" transform=\"translate(356.76,47.19)\" d=\"M2,0A2,2 0 1,1 0,-2A2,2 0 0,1 2,0Z\" style=\"opacity: 1; stroke-width: 0px; fill: rgb(0, 0, 0); fill-opacity: 1;\"/><path class=\"point\" transform=\"translate(359.56,53.16)\" d=\"M2,0A2,2 0 1,1 0,-2A2,2 0 0,1 2,0Z\" style=\"opacity: 1; stroke-width: 0px; fill: rgb(0, 0, 0); fill-opacity: 1;\"/><path class=\"point\" transform=\"translate(362.36,53.11)\" d=\"M2,0A2,2 0 1,1 0,-2A2,2 0 0,1 2,0Z\" style=\"opacity: 1; stroke-width: 0px; fill: rgb(0, 0, 0); fill-opacity: 1;\"/><path class=\"point\" transform=\"translate(365.16,54.35)\" d=\"M2,0A2,2 0 1,1 0,-2A2,2 0 0,1 2,0Z\" style=\"opacity: 1; stroke-width: 0px; fill: rgb(0, 0, 0); fill-opacity: 1;\"/><path class=\"point\" transform=\"translate(367.96,54.1)\" d=\"M2,0A2,2 0 1,1 0,-2A2,2 0 0,1 2,0Z\" style=\"opacity: 1; stroke-width: 0px; fill: rgb(0, 0, 0); fill-opacity: 1;\"/><path class=\"point\" transform=\"translate(370.75,54.77)\" d=\"M2,0A2,2 0 1,1 0,-2A2,2 0 0,1 2,0Z\" style=\"opacity: 1; stroke-width: 0px; fill: rgb(0, 0, 0); fill-opacity: 1;\"/><path class=\"point\" transform=\"translate(373.55,54.87)\" d=\"M2,0A2,2 0 1,1 0,-2A2,2 0 0,1 2,0Z\" style=\"opacity: 1; stroke-width: 0px; fill: rgb(0, 0, 0); fill-opacity: 1;\"/><path class=\"point\" transform=\"translate(376.35,53.6)\" d=\"M2,0A2,2 0 1,1 0,-2A2,2 0 0,1 2,0Z\" style=\"opacity: 1; stroke-width: 0px; fill: rgb(0, 0, 0); fill-opacity: 1;\"/><path class=\"point\" transform=\"translate(379.15,54.08)\" d=\"M2,0A2,2 0 1,1 0,-2A2,2 0 0,1 2,0Z\" style=\"opacity: 1; stroke-width: 0px; fill: rgb(0, 0, 0); fill-opacity: 1;\"/><path class=\"point\" transform=\"translate(381.95,48.04)\" d=\"M2,0A2,2 0 1,1 0,-2A2,2 0 0,1 2,0Z\" style=\"opacity: 1; stroke-width: 0px; fill: rgb(0, 0, 0); fill-opacity: 1;\"/><path class=\"point\" transform=\"translate(384.75,38.49)\" d=\"M2,0A2,2 0 1,1 0,-2A2,2 0 0,1 2,0Z\" style=\"opacity: 1; stroke-width: 0px; fill: rgb(0, 0, 0); fill-opacity: 1;\"/><path class=\"point\" transform=\"translate(387.55,37.26)\" d=\"M2,0A2,2 0 1,1 0,-2A2,2 0 0,1 2,0Z\" style=\"opacity: 1; stroke-width: 0px; fill: rgb(0, 0, 0); fill-opacity: 1;\"/><path class=\"point\" transform=\"translate(390.35,27.36)\" d=\"M2,0A2,2 0 1,1 0,-2A2,2 0 0,1 2,0Z\" style=\"opacity: 1; stroke-width: 0px; fill: rgb(0, 0, 0); fill-opacity: 1;\"/><path class=\"point\" transform=\"translate(393.14,26.01)\" d=\"M2,0A2,2 0 1,1 0,-2A2,2 0 0,1 2,0Z\" style=\"opacity: 1; stroke-width: 0px; fill: rgb(0, 0, 0); fill-opacity: 1;\"/><path class=\"point\" transform=\"translate(395.94,25.54)\" d=\"M2,0A2,2 0 1,1 0,-2A2,2 0 0,1 2,0Z\" style=\"opacity: 1; stroke-width: 0px; fill: rgb(0, 0, 0); fill-opacity: 1;\"/><path class=\"point\" transform=\"translate(398.74,28.9)\" d=\"M2,0A2,2 0 1,1 0,-2A2,2 0 0,1 2,0Z\" style=\"opacity: 1; stroke-width: 0px; fill: rgb(0, 0, 0); fill-opacity: 1;\"/><path class=\"point\" transform=\"translate(401.54,29.29)\" d=\"M2,0A2,2 0 1,1 0,-2A2,2 0 0,1 2,0Z\" style=\"opacity: 1; stroke-width: 0px; fill: rgb(0, 0, 0); fill-opacity: 1;\"/><path class=\"point\" transform=\"translate(404.34,29.15)\" d=\"M2,0A2,2 0 1,1 0,-2A2,2 0 0,1 2,0Z\" style=\"opacity: 1; stroke-width: 0px; fill: rgb(0, 0, 0); fill-opacity: 1;\"/><path class=\"point\" transform=\"translate(407.14,35.92)\" d=\"M2,0A2,2 0 1,1 0,-2A2,2 0 0,1 2,0Z\" style=\"opacity: 1; stroke-width: 0px; fill: rgb(0, 0, 0); fill-opacity: 1;\"/><path class=\"point\" transform=\"translate(409.94,35.11)\" d=\"M2,0A2,2 0 1,1 0,-2A2,2 0 0,1 2,0Z\" style=\"opacity: 1; stroke-width: 0px; fill: rgb(0, 0, 0); fill-opacity: 1;\"/><path class=\"point\" transform=\"translate(412.74,37.83)\" d=\"M2,0A2,2 0 1,1 0,-2A2,2 0 0,1 2,0Z\" style=\"opacity: 1; stroke-width: 0px; fill: rgb(0, 0, 0); fill-opacity: 1;\"/><path class=\"point\" transform=\"translate(415.53,41.39)\" d=\"M2,0A2,2 0 1,1 0,-2A2,2 0 0,1 2,0Z\" style=\"opacity: 1; stroke-width: 0px; fill: rgb(0, 0, 0); fill-opacity: 1;\"/><path class=\"point\" transform=\"translate(418.33,41.77)\" d=\"M2,0A2,2 0 1,1 0,-2A2,2 0 0,1 2,0Z\" style=\"opacity: 1; stroke-width: 0px; fill: rgb(0, 0, 0); fill-opacity: 1;\"/><path class=\"point\" transform=\"translate(421.13,51.51)\" d=\"M2,0A2,2 0 1,1 0,-2A2,2 0 0,1 2,0Z\" style=\"opacity: 1; stroke-width: 0px; fill: rgb(0, 0, 0); fill-opacity: 1;\"/><path class=\"point\" transform=\"translate(423.93,51.83)\" d=\"M2,0A2,2 0 1,1 0,-2A2,2 0 0,1 2,0Z\" style=\"opacity: 1; stroke-width: 0px; fill: rgb(0, 0, 0); fill-opacity: 1;\"/><path class=\"point\" transform=\"translate(426.73,52.72)\" d=\"M2,0A2,2 0 1,1 0,-2A2,2 0 0,1 2,0Z\" style=\"opacity: 1; stroke-width: 0px; fill: rgb(0, 0, 0); fill-opacity: 1;\"/><path class=\"point\" transform=\"translate(429.53,52.64)\" d=\"M2,0A2,2 0 1,1 0,-2A2,2 0 0,1 2,0Z\" style=\"opacity: 1; stroke-width: 0px; fill: rgb(0, 0, 0); fill-opacity: 1;\"/><path class=\"point\" transform=\"translate(432.33,54.82)\" d=\"M2,0A2,2 0 1,1 0,-2A2,2 0 0,1 2,0Z\" style=\"opacity: 1; stroke-width: 0px; fill: rgb(0, 0, 0); fill-opacity: 1;\"/><path class=\"point\" transform=\"translate(435.13,55.07)\" d=\"M2,0A2,2 0 1,1 0,-2A2,2 0 0,1 2,0Z\" style=\"opacity: 1; stroke-width: 0px; fill: rgb(0, 0, 0); fill-opacity: 1;\"/><path class=\"point\" transform=\"translate(437.93,55.27)\" d=\"M2,0A2,2 0 1,1 0,-2A2,2 0 0,1 2,0Z\" style=\"opacity: 1; stroke-width: 0px; fill: rgb(0, 0, 0); fill-opacity: 1;\"/><path class=\"point\" transform=\"translate(440.72,55.2)\" d=\"M2,0A2,2 0 1,1 0,-2A2,2 0 0,1 2,0Z\" style=\"opacity: 1; stroke-width: 0px; fill: rgb(0, 0, 0); fill-opacity: 1;\"/><path class=\"point\" transform=\"translate(443.52,54.35)\" d=\"M2,0A2,2 0 1,1 0,-2A2,2 0 0,1 2,0Z\" style=\"opacity: 1; stroke-width: 0px; fill: rgb(0, 0, 0); fill-opacity: 1;\"/><path class=\"point\" transform=\"translate(446.32,54.62)\" d=\"M2,0A2,2 0 1,1 0,-2A2,2 0 0,1 2,0Z\" style=\"opacity: 1; stroke-width: 0px; fill: rgb(0, 0, 0); fill-opacity: 1;\"/><path class=\"point\" transform=\"translate(449.12,48.29)\" d=\"M2,0A2,2 0 1,1 0,-2A2,2 0 0,1 2,0Z\" style=\"opacity: 1; stroke-width: 0px; fill: rgb(0, 0, 0); fill-opacity: 1;\"/><path class=\"point\" transform=\"translate(451.92,48.57)\" d=\"M2,0A2,2 0 1,1 0,-2A2,2 0 0,1 2,0Z\" style=\"opacity: 1; stroke-width: 0px; fill: rgb(0, 0, 0); fill-opacity: 1;\"/><path class=\"point\" transform=\"translate(454.72,41.66)\" d=\"M2,0A2,2 0 1,1 0,-2A2,2 0 0,1 2,0Z\" style=\"opacity: 1; stroke-width: 0px; fill: rgb(0, 0, 0); fill-opacity: 1;\"/><path class=\"point\" transform=\"translate(457.52,42.02)\" d=\"M2,0A2,2 0 1,1 0,-2A2,2 0 0,1 2,0Z\" style=\"opacity: 1; stroke-width: 0px; fill: rgb(0, 0, 0); fill-opacity: 1;\"/><path class=\"point\" transform=\"translate(460.32,41.07)\" d=\"M2,0A2,2 0 1,1 0,-2A2,2 0 0,1 2,0Z\" style=\"opacity: 1; stroke-width: 0px; fill: rgb(0, 0, 0); fill-opacity: 1;\"/><path class=\"point\" transform=\"translate(463.11,40.77)\" d=\"M2,0A2,2 0 1,1 0,-2A2,2 0 0,1 2,0Z\" style=\"opacity: 1; stroke-width: 0px; fill: rgb(0, 0, 0); fill-opacity: 1;\"/><path class=\"point\" transform=\"translate(465.91,40.59)\" d=\"M2,0A2,2 0 1,1 0,-2A2,2 0 0,1 2,0Z\" style=\"opacity: 1; stroke-width: 0px; fill: rgb(0, 0, 0); fill-opacity: 1;\"/><path class=\"point\" transform=\"translate(468.71,41.09)\" d=\"M2,0A2,2 0 1,1 0,-2A2,2 0 0,1 2,0Z\" style=\"opacity: 1; stroke-width: 0px; fill: rgb(0, 0, 0); fill-opacity: 1;\"/><path class=\"point\" transform=\"translate(471.51,41.06)\" d=\"M2,0A2,2 0 1,1 0,-2A2,2 0 0,1 2,0Z\" style=\"opacity: 1; stroke-width: 0px; fill: rgb(0, 0, 0); fill-opacity: 1;\"/><path class=\"point\" transform=\"translate(474.31,41.05)\" d=\"M2,0A2,2 0 1,1 0,-2A2,2 0 0,1 2,0Z\" style=\"opacity: 1; stroke-width: 0px; fill: rgb(0, 0, 0); fill-opacity: 1;\"/><path class=\"point\" transform=\"translate(477.11,43.12)\" d=\"M2,0A2,2 0 1,1 0,-2A2,2 0 0,1 2,0Z\" style=\"opacity: 1; stroke-width: 0px; fill: rgb(0, 0, 0); fill-opacity: 1;\"/><path class=\"point\" transform=\"translate(479.91,46.86)\" d=\"M2,0A2,2 0 1,1 0,-2A2,2 0 0,1 2,0Z\" style=\"opacity: 1; stroke-width: 0px; fill: rgb(0, 0, 0); fill-opacity: 1;\"/><path class=\"point\" transform=\"translate(482.71,49.76)\" d=\"M2,0A2,2 0 1,1 0,-2A2,2 0 0,1 2,0Z\" style=\"opacity: 1; stroke-width: 0px; fill: rgb(0, 0, 0); fill-opacity: 1;\"/><path class=\"point\" transform=\"translate(485.5,50.17)\" d=\"M2,0A2,2 0 1,1 0,-2A2,2 0 0,1 2,0Z\" style=\"opacity: 1; stroke-width: 0px; fill: rgb(0, 0, 0); fill-opacity: 1;\"/><path class=\"point\" transform=\"translate(488.3,51.73)\" d=\"M2,0A2,2 0 1,1 0,-2A2,2 0 0,1 2,0Z\" style=\"opacity: 1; stroke-width: 0px; fill: rgb(0, 0, 0); fill-opacity: 1;\"/><path class=\"point\" transform=\"translate(491.1,51.58)\" d=\"M2,0A2,2 0 1,1 0,-2A2,2 0 0,1 2,0Z\" style=\"opacity: 1; stroke-width: 0px; fill: rgb(0, 0, 0); fill-opacity: 1;\"/><path class=\"point\" transform=\"translate(493.9,52.91)\" d=\"M2,0A2,2 0 1,1 0,-2A2,2 0 0,1 2,0Z\" style=\"opacity: 1; stroke-width: 0px; fill: rgb(0, 0, 0); fill-opacity: 1;\"/><path class=\"point\" transform=\"translate(496.7,52.77)\" d=\"M2,0A2,2 0 1,1 0,-2A2,2 0 0,1 2,0Z\" style=\"opacity: 1; stroke-width: 0px; fill: rgb(0, 0, 0); fill-opacity: 1;\"/></g><g class=\"text\"/></g></g></g><g class=\"overplot\"/><path class=\"xlines-above crisp\" style=\"fill: none;\"/><path class=\"ylines-above crisp\" style=\"fill: none;\"/><g class=\"overlines-above\"/><g class=\"xaxislayer-above\"/><g class=\"yaxislayer-above\"/><g class=\"overaxes-above\"/></g><rect class=\"rangeslider-mask-min\" x=\"0\" y=\"0\" shape-rendering=\"crispEdges\" height=\"61.5\" width=\"0\" style=\"fill: rgb(0, 0, 0); fill-opacity: 0.4;\"/><rect class=\"rangeslider-mask-max\" y=\"0\" shape-rendering=\"crispEdges\" height=\"61.5\" x=\"526\" width=\"0\" style=\"fill: rgb(0, 0, 0); fill-opacity: 0.4;\"/><g class=\"rangeslider-grabber-min\" transform=\"translate(-2.5,0.5)\"><rect class=\"rangeslider-handle-min\" x=\"0\" width=\"4\" rx=\"1\" fill=\"#fff\" stroke=\"#444\" stroke-width=\"1\" shape-rendering=\"crispEdges\" y=\"15\" height=\"31\"/><rect class=\"rangeslider-grabarea-min\" width=\"10\" x=\"0\" y=\"0\" fill=\"transparent\" height=\"61.5\"/></g><g class=\"rangeslider-grabber-max\" transform=\"translate(524.5,0.5)\"><rect class=\"rangeslider-handle-max\" x=\"0\" width=\"4\" rx=\"1\" fill=\"#fff\" stroke=\"#444\" stroke-width=\"1\" shape-rendering=\"crispEdges\" y=\"15\" height=\"31\"/><rect class=\"rangeslider-grabarea-max\" width=\"10\" x=\"0\" y=\"0\" fill=\"transparent\" height=\"61.5\"/></g></g><g class=\"g-ytitle\" transform=\"translate(11.587890625,0)\"><text class=\"ytitle\" transform=\"rotate(-90,0.4125000000000014,155.5)\" x=\"0.4125000000000014\" y=\"155.5\" text-anchor=\"middle\" style=\"font-family: 'Open Sans', verdana, arial, sans-serif; font-size: 12px; fill: rgb(42, 63, 95); opacity: 1; font-weight: normal; white-space: pre;\">y</text></g><g class=\"g-xtitle\"><text class=\"xtitle\" x=\"315\" y=\"420.5\" text-anchor=\"middle\" style=\"font-family: 'Open Sans', verdana, arial, sans-serif; font-size: 12px; fill: rgb(42, 63, 95); opacity: 1; font-weight: normal; white-space: pre;\">ds</text></g></g></svg>"
      ]
     },
     "metadata": {},
     "output_type": "display_data"
    }
   ],
   "source": [
    "# Date range shown in the plots (optional)\n",
    "cutoff = 7 * 24\n",
    "# Plot the forecast with the confidence interval\n",
    "fig1 = cp_model1.highlight_nth_step_ahead_of_each_forecast(1).plot(\n",
    "    cqr_forecast1[-cutoff:], plotting_backend=\"plotly-static\"\n",
    ")\n",
    "fig2 = cp_model2.highlight_nth_step_ahead_of_each_forecast(1).plot(\n",
    "    cqr_forecast2[-cutoff:], plotting_backend=\"plotly-static\"\n",
    ")"
   ]
  },
  {
   "cell_type": "code",
   "execution_count": 33,
   "metadata": {},
   "outputs": [
    {
     "data": {
      "text/html": [
       "<div>\n",
       "<style scoped>\n",
       "    .dataframe tbody tr th:only-of-type {\n",
       "        vertical-align: middle;\n",
       "    }\n",
       "\n",
       "    .dataframe tbody tr th {\n",
       "        vertical-align: top;\n",
       "    }\n",
       "\n",
       "    .dataframe thead tr th {\n",
       "        text-align: left;\n",
       "    }\n",
       "</style>\n",
       "<table border=\"1\" class=\"dataframe\">\n",
       "  <thead>\n",
       "    <tr>\n",
       "      <th></th>\n",
       "      <th colspan=\"2\" halign=\"left\">cqr</th>\n",
       "    </tr>\n",
       "    <tr>\n",
       "      <th></th>\n",
       "      <th colspan=\"2\" halign=\"left\">yhat1</th>\n",
       "    </tr>\n",
       "    <tr>\n",
       "      <th></th>\n",
       "      <th>interval_width</th>\n",
       "      <th>miscoverage_rate</th>\n",
       "    </tr>\n",
       "  </thead>\n",
       "  <tbody>\n",
       "    <tr>\n",
       "      <th>0</th>\n",
       "      <td>308.337280</td>\n",
       "      <td>0.102377</td>\n",
       "    </tr>\n",
       "    <tr>\n",
       "      <th>1</th>\n",
       "      <td>76.197144</td>\n",
       "      <td>0.025263</td>\n",
       "    </tr>\n",
       "  </tbody>\n",
       "</table>\n",
       "</div>"
      ],
      "text/plain": [
       "             cqr                 \n",
       "           yhat1                 \n",
       "  interval_width miscoverage_rate\n",
       "0     308.337280         0.102377\n",
       "1      76.197144         0.025263"
      ]
     },
     "execution_count": 33,
     "metadata": {},
     "output_type": "execute_result"
    }
   ],
   "source": [
    "# evaluate the performance\n",
    "# Create evaluation dataframe skeleton with the 2 models (denoted as m1 and m2)\n",
    "models = [\"m1\", \"m2\"]\n",
    "eval_df = pd.DataFrame(models, columns=pd.MultiIndex.from_tuples([(\"model\", \"\", \"\")]))\n",
    "\n",
    "# Extract the cqr performance metrics from their respective forecast datasets\n",
    "cqr_eval1 = uncertainty_evaluate(cqr_forecast1)\n",
    "cqr_eval2 = uncertainty_evaluate(cqr_forecast2)\n",
    "\n",
    "# Aggregate the cqr performance metrics for m1 and m2\n",
    "cqr_evals = [cqr_eval1, cqr_eval2]\n",
    "cqr_eval_df = pd.concat(cqr_evals).reset_index(drop=True)\n",
    "\n",
    "# Concatenate the naive and cqr evaluation dataframes\n",
    "eval_df = pd.concat([cqr_eval_df], axis=1, keys=[\"cqr\"])\n",
    "eval_df"
   ]
  }
 ],
 "metadata": {
  "kernelspec": {
   "display_name": "Python 3",
   "language": "python",
   "name": "python3"
  },
  "language_info": {
   "codemirror_mode": {
    "name": "ipython",
    "version": 3
   },
   "file_extension": ".py",
   "mimetype": "text/x-python",
   "name": "python",
   "nbconvert_exporter": "python",
   "pygments_lexer": "ipython3",
   "version": "3.10.14"
  }
 },
 "nbformat": 4,
 "nbformat_minor": 2
}
